{
 "cells": [
  {
   "cell_type": "markdown",
   "id": "92cacf38",
   "metadata": {
    "toc": true
   },
   "source": [
    "<h1>Table of Contents<span class=\"tocSkip\"></span></h1>\n",
    "<div class=\"toc\"><ul class=\"toc-item\"><li><span><a href=\"#\" data-toc-modified-id=\"-1\"><span class=\"toc-item-num\">1&nbsp;&nbsp;</span></a></span></li><li><span><a href=\"#\" data-toc-modified-id=\"-2\"><span class=\"toc-item-num\">2&nbsp;&nbsp;</span></a></span></li><li><span><a href=\"#\" data-toc-modified-id=\"-3\"><span class=\"toc-item-num\">3&nbsp;&nbsp;</span></a></span></li><li><span><a href=\"#\" data-toc-modified-id=\"-4\"><span class=\"toc-item-num\">4&nbsp;&nbsp;</span></a></span></li><li><span><a href=\"#\" data-toc-modified-id=\"-5\"><span class=\"toc-item-num\">5&nbsp;&nbsp;</span></a></span></li><li><span><a href=\"#일급-함수-디자인-패턴\" data-toc-modified-id=\"일급-함수-디자인-패턴-6\"><span class=\"toc-item-num\">6&nbsp;&nbsp;</span>일급 함수 디자인 패턴</a></span><ul class=\"toc-item\"><li><span><a href=\"#\" data-toc-modified-id=\"-6.1\"><span class=\"toc-item-num\">6.1&nbsp;&nbsp;</span></a></span><ul class=\"toc-item\"><li><span><a href=\"#고전적인-전략\" data-toc-modified-id=\"고전적인-전략-6.1.1\"><span class=\"toc-item-num\">6.1.1&nbsp;&nbsp;</span>고전적인 전략</a></span><ul class=\"toc-item\"><li><span><a href=\"#예제6-1-플러그형-할인-전략을-가진-Order-클래스-구현\" data-toc-modified-id=\"예제6-1-플러그형-할인-전략을-가진-Order-클래스-구현-6.1.1.1\"><span class=\"toc-item-num\">6.1.1.1&nbsp;&nbsp;</span>예제6-1 플러그형 할인 전략을 가진 Order 클래스 구현</a></span></li><li><span><a href=\"#예제6-2-여러-프로모션-할인을-적용해서-Order-클래스를-사용하는-예\" data-toc-modified-id=\"예제6-2-여러-프로모션-할인을-적용해서-Order-클래스를-사용하는-예-6.1.1.2\"><span class=\"toc-item-num\">6.1.1.2&nbsp;&nbsp;</span>예제6-2 여러 프로모션 할인을 적용해서 Order 클래스를 사용하는 예</a></span></li></ul></li><li><span><a href=\"#함수지향-전략\" data-toc-modified-id=\"함수지향-전략-6.1.2\"><span class=\"toc-item-num\">6.1.2&nbsp;&nbsp;</span>함수지향 전략</a></span><ul class=\"toc-item\"><li><span><a href=\"#예제6-3-할인-전략을-함수로-구현한-Order-클래스\" data-toc-modified-id=\"예제6-3-할인-전략을-함수로-구현한-Order-클래스-6.1.2.1\"><span class=\"toc-item-num\">6.1.2.1&nbsp;&nbsp;</span>예제6-3 할인 전략을 함수로 구현한 Order 클래스</a></span></li><li><span><a href=\"#할인-전략을-함수로-정의한-Order-클래스의-사용-예\" data-toc-modified-id=\"할인-전략을-함수로-정의한-Order-클래스의-사용-예-6.1.2.2\"><span class=\"toc-item-num\">6.1.2.2&nbsp;&nbsp;</span>할인 전략을 함수로 정의한 Order 클래스의 사용 예</a></span></li></ul></li><li><span><a href=\"#최선의-전략-선택하기-:-단순한-접근법\" data-toc-modified-id=\"최선의-전략-선택하기-:-단순한-접근법-6.1.3\"><span class=\"toc-item-num\">6.1.3&nbsp;&nbsp;</span>최선의 전략 선택하기 : 단순한 접근법</a></span><ul class=\"toc-item\"><li><span><a href=\"#예제-6-5-모든-할인을-적용해서-가장-큰-값을-반환하는-best_promo()-함수\" data-toc-modified-id=\"예제-6-5-모든-할인을-적용해서-가장-큰-값을-반환하는-best_promo()-함수-6.1.3.1\"><span class=\"toc-item-num\">6.1.3.1&nbsp;&nbsp;</span>예제 6-5 모든 할인을 적용해서 가장 큰 값을 반환하는 best_promo() 함수</a></span></li><li><span><a href=\"#함수-리스트를-반복해서-최대-할인액을-찾아내는-best_promo()함수\" data-toc-modified-id=\"함수-리스트를-반복해서-최대-할인액을-찾아내는-best_promo()함수-6.1.3.2\"><span class=\"toc-item-num\">6.1.3.2&nbsp;&nbsp;</span>함수 리스트를 반복해서 최대 할인액을 찾아내는 best_promo()함수</a></span></li></ul></li><li><span><a href=\"#모듈에서-전략-찾기\" data-toc-modified-id=\"모듈에서-전략-찾기-6.1.4\"><span class=\"toc-item-num\">6.1.4&nbsp;&nbsp;</span>모듈에서 전략 찾기</a></span><ul class=\"toc-item\"><li><span><a href=\"#예제-6-7-모듈-전역-네임스페이스를-내부-조사해서-만든-promos-리스트\" data-toc-modified-id=\"예제-6-7-모듈-전역-네임스페이스를-내부-조사해서-만든-promos-리스트-6.1.4.1\"><span class=\"toc-item-num\">6.1.4.1&nbsp;&nbsp;</span>예제 6-7 모듈 전역 네임스페이스를 내부 조사해서 만든 promos 리스트</a></span></li><li><span><a href=\"#예제-6-8-새로운-promotions-모듈을-내부-조사해서-만든-promos-리스트\" data-toc-modified-id=\"예제-6-8-새로운-promotions-모듈을-내부-조사해서-만든-promos-리스트-6.1.4.2\"><span class=\"toc-item-num\">6.1.4.2&nbsp;&nbsp;</span>예제 6-8 새로운 promotions 모듈을 내부 조사해서 만든 promos 리스트</a></span></li></ul></li></ul></li></ul></li></ul></div>"
   ]
  },
  {
   "cell_type": "markdown",
   "id": "1aa3654d",
   "metadata": {},
   "source": [
    "#"
   ]
  },
  {
   "cell_type": "markdown",
   "id": "9dd70ae7",
   "metadata": {},
   "source": [
    "#"
   ]
  },
  {
   "cell_type": "markdown",
   "id": "c89c87da",
   "metadata": {},
   "source": [
    "#"
   ]
  },
  {
   "cell_type": "markdown",
   "id": "3d2d1dfb",
   "metadata": {},
   "source": [
    "#"
   ]
  },
  {
   "cell_type": "markdown",
   "id": "78ec1bfb",
   "metadata": {},
   "source": [
    "#"
   ]
  },
  {
   "cell_type": "markdown",
   "id": "fa31e84c",
   "metadata": {},
   "source": [
    "# 일급 함수 디자인 패턴"
   ]
  },
  {
   "cell_type": "code",
   "execution_count": null,
   "id": "517ff053",
   "metadata": {},
   "outputs": [],
   "source": []
  },
  {
   "cell_type": "markdown",
   "id": "ce6630e9",
   "metadata": {},
   "source": [
    "## "
   ]
  },
  {
   "cell_type": "markdown",
   "id": "cb41d253",
   "metadata": {},
   "source": [
    "### 고전적인 전략"
   ]
  },
  {
   "cell_type": "markdown",
   "id": "f61c9cb9",
   "metadata": {},
   "source": [
    "#### 예제6-1 플러그형 할인 전략을 가진 Order 클래스 구현"
   ]
  },
  {
   "cell_type": "code",
   "execution_count": 2,
   "id": "0682e338",
   "metadata": {
    "ExecuteTime": {
     "end_time": "2024-04-08T22:03:53.012950Z",
     "start_time": "2024-04-08T22:03:53.000782Z"
    }
   },
   "outputs": [],
   "source": [
    "\n",
    "from abc import ABC, abstractmethod\n",
    "from collections import namedtuple\n",
    "\n",
    "Customer = namedtuple('Customer', 'name fidelity')\n",
    "\n",
    "\n",
    "class LineItem:\n",
    "\n",
    "    def __init__(self, product, quantity, price):\n",
    "        self.product = product\n",
    "        self.quantity = quantity\n",
    "        self.price = price\n",
    "\n",
    "    def total(self):\n",
    "        return self.price * self.quantity\n",
    "\n",
    "\n",
    "class Order:  # the Context\n",
    "\n",
    "    def __init__(self, customer, cart, promotion=None):\n",
    "        self.customer = customer\n",
    "        self.cart = list(cart)\n",
    "        self.promotion = promotion\n",
    "\n",
    "    def total(self):\n",
    "        if not hasattr(self, '__total'):\n",
    "            self.__total = sum(item.total() for item in self.cart)\n",
    "        return self.__total\n",
    "\n",
    "    def due(self):\n",
    "        if self.promotion is None:\n",
    "            discount = 0\n",
    "        else:\n",
    "            discount = self.promotion.discount(self)\n",
    "        return self.total() - discount\n",
    "\n",
    "    def __repr__(self):\n",
    "        fmt = '<Order total: {:.2f} due: {:.2f}>'\n",
    "        return fmt.format(self.total(), self.due())\n",
    "\n",
    "\n",
    "class Promotion(ABC):  # the Strategy: an Abstract Base Class\n",
    "\n",
    "    @abstractmethod\n",
    "    def discount(self, order):\n",
    "        \"\"\"Return discount as a positive dollar amount\"\"\"\n",
    "\n",
    "\n",
    "class FidelityPromo(Promotion):  # first Concrete Strategy\n",
    "    \"\"\"5% discount for customers with 1000 or more fidelity points\"\"\"\n",
    "\n",
    "    def discount(self, order):\n",
    "        return order.total() * .05 if order.customer.fidelity >= 1000 else 0\n",
    "\n",
    "\n",
    "class BulkItemPromo(Promotion):  # second Concrete Strategy\n",
    "    \"\"\"10% discount for each LineItem with 20 or more units\"\"\"\n",
    "\n",
    "    def discount(self, order):\n",
    "        discount = 0\n",
    "        for item in order.cart:\n",
    "            if item.quantity >= 20:\n",
    "                discount += item.total() * .1\n",
    "        return discount\n",
    "\n",
    "\n",
    "class LargeOrderPromo(Promotion):  # third Concrete Strategy\n",
    "    \"\"\"7% discount for orders with 10 or more distinct items\"\"\"\n",
    "\n",
    "    def discount(self, order):\n",
    "        distinct_items = {item.product for item in order.cart}\n",
    "        if len(distinct_items) >= 10:\n",
    "            return order.total() * .07\n",
    "        return 0\n",
    "\n",
    "# END CLASSIC_STRATEGY"
   ]
  },
  {
   "cell_type": "markdown",
   "id": "bf18d626",
   "metadata": {},
   "source": [
    "#### 예제6-2 여러 프로모션 할인을 적용해서 Order 클래스를 사용하는 예"
   ]
  },
  {
   "cell_type": "code",
   "execution_count": 3,
   "id": "52afe327",
   "metadata": {
    "ExecuteTime": {
     "end_time": "2024-04-08T22:03:54.027458Z",
     "start_time": "2024-04-08T22:03:54.022318Z"
    }
   },
   "outputs": [],
   "source": [
    "joe = Customer('John Doe', 0)  # <1>\n",
    "ann = Customer('Ann Smith', 1100)\n",
    "cart = [LineItem('banana', 4, .5),\n",
    "         LineItem('apple', 10, 1.5),\n",
    "         LineItem('watermellon', 5, 5.0)]"
   ]
  },
  {
   "cell_type": "code",
   "execution_count": 4,
   "id": "2622aa16",
   "metadata": {
    "ExecuteTime": {
     "end_time": "2024-04-08T22:03:54.390302Z",
     "start_time": "2024-04-08T22:03:54.382836Z"
    }
   },
   "outputs": [
    {
     "data": {
      "text/plain": [
       "<Order total: 42.00 due: 42.00>"
      ]
     },
     "execution_count": 4,
     "metadata": {},
     "output_type": "execute_result"
    }
   ],
   "source": [
    "Order(joe, cart, FidelityPromo())  # <2>"
   ]
  },
  {
   "cell_type": "code",
   "execution_count": 5,
   "id": "c188b244",
   "metadata": {
    "ExecuteTime": {
     "end_time": "2024-04-08T22:03:54.692222Z",
     "start_time": "2024-04-08T22:03:54.687329Z"
    }
   },
   "outputs": [
    {
     "data": {
      "text/plain": [
       "<Order total: 42.00 due: 39.90>"
      ]
     },
     "execution_count": 5,
     "metadata": {},
     "output_type": "execute_result"
    }
   ],
   "source": [
    "Order(ann, cart, FidelityPromo())"
   ]
  },
  {
   "cell_type": "code",
   "execution_count": 6,
   "id": "122b4827",
   "metadata": {
    "ExecuteTime": {
     "end_time": "2024-04-08T22:03:55.205639Z",
     "start_time": "2024-04-08T22:03:55.199751Z"
    }
   },
   "outputs": [
    {
     "data": {
      "text/plain": [
       "<Order total: 30.00 due: 28.50>"
      ]
     },
     "execution_count": 6,
     "metadata": {},
     "output_type": "execute_result"
    }
   ],
   "source": [
    "banana_cart = [LineItem('banana', 30, .5), LineItem('apple', 10, 1.5)]\n",
    "\n",
    "Order(joe, banana_cart, BulkItemPromo())  # <3>"
   ]
  },
  {
   "cell_type": "code",
   "execution_count": 7,
   "id": "36dc9f62",
   "metadata": {
    "ExecuteTime": {
     "end_time": "2024-04-08T22:03:55.541415Z",
     "start_time": "2024-04-08T22:03:55.535789Z"
    }
   },
   "outputs": [
    {
     "data": {
      "text/plain": [
       "<Order total: 10.00 due: 9.30>"
      ]
     },
     "execution_count": 7,
     "metadata": {},
     "output_type": "execute_result"
    }
   ],
   "source": [
    "long_order = [LineItem(str(item_code), 1, 1.0)              \n",
    "                for item_code in range(10)]\n",
    "\n",
    "Order(joe, long_order, LargeOrderPromo())"
   ]
  },
  {
   "cell_type": "code",
   "execution_count": 8,
   "id": "ce26b087",
   "metadata": {
    "ExecuteTime": {
     "end_time": "2024-04-08T22:03:55.918071Z",
     "start_time": "2024-04-08T22:03:55.911788Z"
    }
   },
   "outputs": [
    {
     "data": {
      "text/plain": [
       "<Order total: 42.00 due: 42.00>"
      ]
     },
     "execution_count": 8,
     "metadata": {},
     "output_type": "execute_result"
    }
   ],
   "source": [
    "Order(joe, cart, LargeOrderPromo())"
   ]
  },
  {
   "cell_type": "code",
   "execution_count": null,
   "id": "c4c414d8",
   "metadata": {},
   "outputs": [],
   "source": []
  },
  {
   "cell_type": "markdown",
   "id": "12a03e06",
   "metadata": {},
   "source": [
    "### 함수지향 전략 "
   ]
  },
  {
   "cell_type": "code",
   "execution_count": null,
   "id": "7c94df51",
   "metadata": {},
   "outputs": [],
   "source": []
  },
  {
   "cell_type": "markdown",
   "id": "ad8af03e",
   "metadata": {},
   "source": [
    "#### 예제6-3 할인 전략을 함수로 구현한 Order 클래스"
   ]
  },
  {
   "cell_type": "code",
   "execution_count": 9,
   "id": "4054a314",
   "metadata": {
    "ExecuteTime": {
     "end_time": "2024-04-08T22:03:58.424495Z",
     "start_time": "2024-04-08T22:03:58.416501Z"
    }
   },
   "outputs": [],
   "source": [
    "from collections import namedtuple\n",
    "\n",
    "Customer = namedtuple('Customer', 'name fidelity')\n",
    "\n",
    "\n",
    "class LineItem:\n",
    "\n",
    "    def __init__(self, product, quantity, price):\n",
    "        self.product = product\n",
    "        self.quantity = quantity\n",
    "        self.price = price\n",
    "\n",
    "    def total(self):\n",
    "        return self.price * self.quantity\n",
    "\n",
    "\n",
    "class Order:  # the Context\n",
    "\n",
    "    def __init__(self, customer, cart, promotion=None):\n",
    "        self.customer = customer\n",
    "        self.cart = list(cart)\n",
    "        self.promotion = promotion\n",
    "\n",
    "    def total(self):\n",
    "        if not hasattr(self, '__total'):\n",
    "            self.__total = sum(item.total() for item in self.cart)\n",
    "        return self.__total\n",
    "\n",
    "    def due(self):\n",
    "        if self.promotion is None:\n",
    "            discount = 0\n",
    "        else:\n",
    "            discount = self.promotion(self)\n",
    "        return self.total() - discount\n",
    "\n",
    "    def __repr__(self):\n",
    "        fmt = '<Order total: {:.2f} due: {:.2f}>'\n",
    "        return fmt.format(self.total(), self.due())\n",
    "\n",
    "\n",
    "def fidelity_promo(order):\n",
    "    \"\"\"5% discount for customers with 1000 or more fidelity points\"\"\"\n",
    "    return order.total() * .05 if order.customer.fidelity >= 1000 else 0\n",
    "\n",
    "\n",
    "def bulk_item_promo(order):\n",
    "    \"\"\"10% discount for each LineItem with 20 or more units\"\"\"\n",
    "    discount = 0\n",
    "    for item in order.cart:\n",
    "        if item.quantity >= 20:\n",
    "            discount += item.total() * .1\n",
    "    return discount\n",
    "\n",
    "\n",
    "def large_order_promo(order):\n",
    "    \"\"\"7% discount for orders with 10 or more distinct items\"\"\"\n",
    "    distinct_items = {item.product for item in order.cart}\n",
    "    if len(distinct_items) >= 10:\n",
    "        return order.total() * .07\n",
    "    return 0\n",
    "\n",
    "# BEGIN STRATEGY_BEST\n",
    "##---------------------------------------------------------\n",
    "\n",
    "promos = [fidelity_promo, bulk_item_promo, large_order_promo]  # <1>\n",
    "\n",
    "def best_promo(order):  # <2>\n",
    "    \"\"\"Select best discount available\n",
    "    \"\"\"\n",
    "    return max(promo(order) for promo in promos)  # <3>\n",
    "\n",
    "# END STRATEGY_BEST"
   ]
  },
  {
   "cell_type": "code",
   "execution_count": 10,
   "id": "b3495790",
   "metadata": {
    "ExecuteTime": {
     "end_time": "2024-04-08T22:03:59.059490Z",
     "start_time": "2024-04-08T22:03:59.056395Z"
    }
   },
   "outputs": [],
   "source": [
    "# 할인 전략을 함수로 정의한 Order 클래스의 사용 예"
   ]
  },
  {
   "cell_type": "markdown",
   "id": "e61eee0e",
   "metadata": {},
   "source": [
    "#### 할인 전략을 함수로 정의한 Order 클래스의 사용 예"
   ]
  },
  {
   "cell_type": "code",
   "execution_count": 15,
   "id": "26214b55",
   "metadata": {
    "ExecuteTime": {
     "end_time": "2024-04-08T22:10:52.994685Z",
     "start_time": "2024-04-08T22:10:52.990025Z"
    }
   },
   "outputs": [
    {
     "data": {
      "text/plain": [
       "<Order total: 42.00 due: 42.00>"
      ]
     },
     "execution_count": 15,
     "metadata": {},
     "output_type": "execute_result"
    }
   ],
   "source": [
    "joe = Customer('John Doe',0)  # 1 . 예제 6.1과 동일한 테스트 데이터\n",
    "ann= Customer('Ann Smith',1100)\n",
    "cart = [LineItem('banana',4,.5),\n",
    "       LineItem('apple',10,1.5),\n",
    "        LineItem('watermellon',5,5.0)]\n",
    "Order(joe,cart,fidelity_promo) # 2. Order 객체에 할인 전략을 적용하려면 할인 함수를 인수로 전달하면 된다."
   ]
  },
  {
   "cell_type": "code",
   "execution_count": 16,
   "id": "d26d0282",
   "metadata": {
    "ExecuteTime": {
     "end_time": "2024-04-08T22:11:07.451026Z",
     "start_time": "2024-04-08T22:11:07.446609Z"
    }
   },
   "outputs": [
    {
     "data": {
      "text/plain": [
       "<Order total: 42.00 due: 39.90>"
      ]
     },
     "execution_count": 16,
     "metadata": {},
     "output_type": "execute_result"
    }
   ],
   "source": [
    "Order(ann,cart,fidelity_promo)"
   ]
  },
  {
   "cell_type": "code",
   "execution_count": 18,
   "id": "c3083665",
   "metadata": {
    "ExecuteTime": {
     "end_time": "2024-04-08T22:13:58.163878Z",
     "start_time": "2024-04-08T22:13:58.153162Z"
    }
   },
   "outputs": [
    {
     "data": {
      "text/plain": [
       "<Order total: 30.00 due: 28.50>"
      ]
     },
     "execution_count": 18,
     "metadata": {},
     "output_type": "execute_result"
    }
   ],
   "source": [
    "banana_cart = [LineItem('banana',30,.5),\n",
    "               LineItem('apple',10,1.5)]\n",
    "Order(joe,banana_cart,bulk_item_promo) # 3. 이곳과 다음 테스트에서 서로 다른 할인 함수를 사용한다. "
   ]
  },
  {
   "cell_type": "code",
   "execution_count": 19,
   "id": "15317c00",
   "metadata": {
    "ExecuteTime": {
     "end_time": "2024-04-08T22:15:12.303652Z",
     "start_time": "2024-04-08T22:15:12.298849Z"
    }
   },
   "outputs": [
    {
     "data": {
      "text/plain": [
       "<Order total: 10.00 due: 9.30>"
      ]
     },
     "execution_count": 19,
     "metadata": {},
     "output_type": "execute_result"
    }
   ],
   "source": [
    "long_order = [LineItem(str(item_code),1,1.0)\n",
    "             for item_code in range(10)]\n",
    "Order(joe, long_order,large_order_promo)"
   ]
  },
  {
   "cell_type": "code",
   "execution_count": 20,
   "id": "88412f80",
   "metadata": {
    "ExecuteTime": {
     "end_time": "2024-04-08T22:15:30.064776Z",
     "start_time": "2024-04-08T22:15:30.059722Z"
    }
   },
   "outputs": [
    {
     "data": {
      "text/plain": [
       "<Order total: 42.00 due: 42.00>"
      ]
     },
     "execution_count": 20,
     "metadata": {},
     "output_type": "execute_result"
    }
   ],
   "source": [
    "Order(joe,cart,large_order_promo)"
   ]
  },
  {
   "cell_type": "code",
   "execution_count": null,
   "id": "69a04b98",
   "metadata": {},
   "outputs": [],
   "source": []
  },
  {
   "cell_type": "markdown",
   "id": "872f42df",
   "metadata": {},
   "source": [
    "### 최선의 전략 선택하기 : 단순한 접근법\n"
   ]
  },
  {
   "cell_type": "code",
   "execution_count": null,
   "id": "4e415912",
   "metadata": {},
   "outputs": [],
   "source": []
  },
  {
   "cell_type": "markdown",
   "id": "d917e7a8",
   "metadata": {},
   "source": [
    "#### 예제 6-5 모든 할인을 적용해서 가장 큰 값을 반환하는 best_promo() 함수"
   ]
  },
  {
   "cell_type": "code",
   "execution_count": 21,
   "id": "3668d32f",
   "metadata": {
    "ExecuteTime": {
     "end_time": "2024-04-08T22:19:13.515421Z",
     "start_time": "2024-04-08T22:19:13.508955Z"
    }
   },
   "outputs": [
    {
     "data": {
      "text/plain": [
       "<Order total: 10.00 due: 9.30>"
      ]
     },
     "execution_count": 21,
     "metadata": {},
     "output_type": "execute_result"
    }
   ],
   "source": [
    "Order(joe, long_order, best_promo) \n",
    "# 고객 joe가 long_order 카트를 가지고 있으면 best_promo()는 large_order_promo()를 선택한다."
   ]
  },
  {
   "cell_type": "code",
   "execution_count": 23,
   "id": "87257daf",
   "metadata": {
    "ExecuteTime": {
     "end_time": "2024-04-08T22:19:29.925077Z",
     "start_time": "2024-04-08T22:19:29.918951Z"
    }
   },
   "outputs": [
    {
     "data": {
      "text/plain": [
       "<Order total: 30.00 due: 28.50>"
      ]
     },
     "execution_count": 23,
     "metadata": {},
     "output_type": "execute_result"
    }
   ],
   "source": [
    "Order(joe,banana_cart, best_promo)\n",
    "# 고객 joe가 바나나가 많이 들어있는 banana_cart를 가지고 있으면 bulk_item_promo()로 가장 많이 할인받을 수 있다."
   ]
  },
  {
   "cell_type": "code",
   "execution_count": 25,
   "id": "2b6f49d9",
   "metadata": {
    "ExecuteTime": {
     "end_time": "2024-04-08T22:21:16.441048Z",
     "start_time": "2024-04-08T22:21:16.437399Z"
    }
   },
   "outputs": [
    {
     "data": {
      "text/plain": [
       "<Order total: 42.00 due: 39.90>"
      ]
     },
     "execution_count": 25,
     "metadata": {},
     "output_type": "execute_result"
    }
   ],
   "source": [
    "Order(ann,cart,best_promo)\n",
    "# ann의 경우 단순히 cart를 가지고 있으면 fidelity_promo()로 가장 많이 할인 받을 수 있다."
   ]
  },
  {
   "cell_type": "code",
   "execution_count": null,
   "id": "430265d8",
   "metadata": {},
   "outputs": [],
   "source": []
  },
  {
   "cell_type": "markdown",
   "id": "f7688205",
   "metadata": {},
   "source": [
    "#### 함수 리스트를 반복해서 최대 할인액을 찾아내는 best_promo()함수"
   ]
  },
  {
   "cell_type": "code",
   "execution_count": 26,
   "id": "2d46e2a2",
   "metadata": {
    "ExecuteTime": {
     "end_time": "2024-04-08T22:22:54.969565Z",
     "start_time": "2024-04-08T22:22:54.965739Z"
    }
   },
   "outputs": [],
   "source": [
    "promos = [fidelity_promo, bulk_item_promo, large_order_promo] # 1.\n",
    "\n",
    "def best_promo(order): # 2.\n",
    "    \"\"\" 최대로 할인받을 금액을 반환한다.\n",
    "    \"\"\"\n",
    "    return max(promo(order) for promo in promos) # 3."
   ]
  },
  {
   "cell_type": "markdown",
   "id": "b8e3049d",
   "metadata": {},
   "source": [
    "1. promos는 함수로 구현된 전략들의 리스트다.\n",
    "2. best_promo는 다른 *_promo() 함수들처럼 Order 객체를 인수로 받는다.\n",
    "3. 제너레이터 표현식을 이용해서 promos에 있는 각 함수를 order에 적용하고, 최대 할인액을 계산한다."
   ]
  },
  {
   "cell_type": "markdown",
   "id": "1e4059b4",
   "metadata": {},
   "source": [
    "### 모듈에서 전략 찾기"
   ]
  },
  {
   "cell_type": "markdown",
   "id": "5eb78c28",
   "metadata": {},
   "source": [
    "globals()\n",
    "현재 전역 심벌 테이블을 나타내는 딕셔너리 객체를 반환한다. 이 딕셔너리는 언제나 현재 모듈에 대한 내용을 담고 있다.\n",
    "(함수나 메서드 안에서 호출할 때, 함수를 호출한 모듈이 아니라 함수가 정의된 모듈을 나타낸다)"
   ]
  },
  {
   "cell_type": "markdown",
   "id": "868964ee",
   "metadata": {},
   "source": [
    "#### 예제 6-7 모듈 전역 네임스페이스를 내부 조사해서 만든 promos 리스트"
   ]
  },
  {
   "cell_type": "code",
   "execution_count": 27,
   "id": "2f4d3374",
   "metadata": {
    "ExecuteTime": {
     "end_time": "2024-04-08T22:36:34.914823Z",
     "start_time": "2024-04-08T22:36:34.908664Z"
    }
   },
   "outputs": [],
   "source": [
    "promos = [globals()[name] for name in globals() #1 \n",
    "          if name.endswith('_promo') #2\n",
    "          and name != 'best_promo'] #3\n",
    "\n",
    "def best_promo(order):\n",
    "    \"\"\" 최대로 할인받을 금액을 반환한다.\n",
    "    \"\"\"\n",
    "    return max(promo(order) for promo in promos) #4"
   ]
  },
  {
   "cell_type": "markdown",
   "id": "524fdb09",
   "metadata": {},
   "source": [
    "1. globals() 함수가 반환한 딕셔너리에서 name을 반복한다.\n",
    "2. _promo로 끝나는 name만 선택한다.\n",
    "3. 무한 재귀 호출을 피하기 위해 best_promo 자신은 걸러낸다.\n",
    "4. best_promo() 내부는 변경되지 않았다."
   ]
  },
  {
   "cell_type": "markdown",
   "id": "bcc1c7ff",
   "metadata": {},
   "source": [
    "#### 예제 6-8 새로운 promotions 모듈을 내부 조사해서 만든 promos 리스트"
   ]
  },
  {
   "cell_type": "code",
   "execution_count": 34,
   "id": "ce6094e9",
   "metadata": {
    "ExecuteTime": {
     "end_time": "2024-04-08T22:40:54.043181Z",
     "start_time": "2024-04-08T22:40:54.039575Z"
    }
   },
   "outputs": [],
   "source": [
    "import inspect"
   ]
  },
  {
   "cell_type": "code",
   "execution_count": 35,
   "id": "8763727f",
   "metadata": {
    "ExecuteTime": {
     "end_time": "2024-04-08T22:41:41.035087Z",
     "start_time": "2024-04-08T22:41:41.020440Z"
    }
   },
   "outputs": [
    {
     "ename": "NameError",
     "evalue": "name 'promotions' is not defined",
     "output_type": "error",
     "traceback": [
      "\u001b[1;31m---------------------------------------------------------------------------\u001b[0m",
      "\u001b[1;31mNameError\u001b[0m                                 Traceback (most recent call last)",
      "Cell \u001b[1;32mIn[35], line 2\u001b[0m\n\u001b[0;32m      1\u001b[0m promos \u001b[38;5;241m=\u001b[39m [func \u001b[38;5;28;01mfor\u001b[39;00m name, func \u001b[38;5;129;01min\u001b[39;00m\n\u001b[1;32m----> 2\u001b[0m          inspect\u001b[38;5;241m.\u001b[39mgetmembers(promotions, inspect\u001b[38;5;241m.\u001b[39misfunction)]\n",
      "\u001b[1;31mNameError\u001b[0m: name 'promotions' is not defined"
     ]
    }
   ],
   "source": [
    "promos = [func for name, func in\n",
    "         inspect.getmembers(promotions, inspect.isfunction)] ### 이거 에러난다 "
   ]
  },
  {
   "cell_type": "code",
   "execution_count": null,
   "id": "f6a2bd25",
   "metadata": {},
   "outputs": [],
   "source": []
  },
  {
   "cell_type": "code",
   "execution_count": null,
   "id": "7d11a2d7",
   "metadata": {},
   "outputs": [],
   "source": []
  },
  {
   "cell_type": "code",
   "execution_count": null,
   "id": "dbce6224",
   "metadata": {},
   "outputs": [],
   "source": []
  },
  {
   "cell_type": "code",
   "execution_count": null,
   "id": "f7316da5",
   "metadata": {},
   "outputs": [],
   "source": []
  },
  {
   "cell_type": "code",
   "execution_count": null,
   "id": "96a3f0d7",
   "metadata": {},
   "outputs": [],
   "source": []
  },
  {
   "cell_type": "code",
   "execution_count": null,
   "id": "9208066d",
   "metadata": {},
   "outputs": [],
   "source": []
  },
  {
   "cell_type": "code",
   "execution_count": null,
   "id": "b5f21f6c",
   "metadata": {},
   "outputs": [],
   "source": []
  },
  {
   "cell_type": "code",
   "execution_count": null,
   "id": "0ab8af22",
   "metadata": {},
   "outputs": [],
   "source": []
  },
  {
   "cell_type": "code",
   "execution_count": null,
   "id": "28dfa846",
   "metadata": {},
   "outputs": [],
   "source": []
  },
  {
   "cell_type": "code",
   "execution_count": null,
   "id": "2920128f",
   "metadata": {},
   "outputs": [],
   "source": []
  },
  {
   "cell_type": "code",
   "execution_count": null,
   "id": "3ab6ec0b",
   "metadata": {},
   "outputs": [],
   "source": []
  },
  {
   "cell_type": "code",
   "execution_count": null,
   "id": "574fb718",
   "metadata": {},
   "outputs": [],
   "source": []
  },
  {
   "cell_type": "code",
   "execution_count": null,
   "id": "ab237206",
   "metadata": {},
   "outputs": [],
   "source": []
  },
  {
   "cell_type": "code",
   "execution_count": null,
   "id": "d1e14b86",
   "metadata": {},
   "outputs": [],
   "source": []
  },
  {
   "cell_type": "code",
   "execution_count": null,
   "id": "716acb2d",
   "metadata": {},
   "outputs": [],
   "source": []
  }
 ],
 "metadata": {
  "kernelspec": {
   "display_name": "Python 3 (ipykernel)",
   "language": "python",
   "name": "python3"
  },
  "language_info": {
   "codemirror_mode": {
    "name": "ipython",
    "version": 3
   },
   "file_extension": ".py",
   "mimetype": "text/x-python",
   "name": "python",
   "nbconvert_exporter": "python",
   "pygments_lexer": "ipython3",
   "version": "3.11.5"
  },
  "toc": {
   "base_numbering": 1,
   "nav_menu": {},
   "number_sections": true,
   "sideBar": true,
   "skip_h1_title": false,
   "title_cell": "Table of Contents",
   "title_sidebar": "Contents",
   "toc_cell": true,
   "toc_position": {},
   "toc_section_display": true,
   "toc_window_display": true
  }
 },
 "nbformat": 4,
 "nbformat_minor": 5
}
