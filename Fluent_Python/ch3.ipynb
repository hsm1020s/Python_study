{
 "cells": [
  {
   "cell_type": "markdown",
   "id": "ff3cd492",
   "metadata": {
    "toc": true
   },
   "source": [
    "<h1>Table of Contents<span class=\"tocSkip\"></span></h1>\n",
    "<div class=\"toc\"><ul class=\"toc-item\"><li><span><a href=\"#\" data-toc-modified-id=\"-1\"><span class=\"toc-item-num\">1&nbsp;&nbsp;</span></a></span></li><li><span><a href=\"#\" data-toc-modified-id=\"-2\"><span class=\"toc-item-num\">2&nbsp;&nbsp;</span></a></span></li><li><span><a href=\"#\" data-toc-modified-id=\"-3\"><span class=\"toc-item-num\">3&nbsp;&nbsp;</span></a></span><ul class=\"toc-item\"><li><span><a href=\"#일반적인-매핑형\" data-toc-modified-id=\"일반적인-매핑형-3.1\"><span class=\"toc-item-num\">3.1&nbsp;&nbsp;</span>일반적인 매핑형</a></span></li><li><span><a href=\"#지능형-딕셔너리\" data-toc-modified-id=\"지능형-딕셔너리-3.2\"><span class=\"toc-item-num\">3.2&nbsp;&nbsp;</span>지능형 딕셔너리</a></span></li><li><span><a href=\"#공통적인-매핑-메서드\" data-toc-modified-id=\"공통적인-매핑-메서드-3.3\"><span class=\"toc-item-num\">3.3&nbsp;&nbsp;</span>공통적인 매핑 메서드</a></span><ul class=\"toc-item\"><li><span><a href=\"#존재하지-않는-키를-setdefault()로-처리하기\" data-toc-modified-id=\"존재하지-않는-키를-setdefault()로-처리하기-3.3.1\"><span class=\"toc-item-num\">3.3.1&nbsp;&nbsp;</span>존재하지 않는 키를 setdefault()로 처리하기</a></span><ul class=\"toc-item\"><li><span><a href=\"#예제3-4\" data-toc-modified-id=\"예제3-4-3.3.1.1\"><span class=\"toc-item-num\">3.3.1.1&nbsp;&nbsp;</span>예제3-4</a></span></li></ul></li></ul></li><li><span><a href=\"#융통성-있게-키를-조회하는-매핑\" data-toc-modified-id=\"융통성-있게-키를-조회하는-매핑-3.4\"><span class=\"toc-item-num\">3.4&nbsp;&nbsp;</span>융통성 있게 키를 조회하는 매핑</a></span><ul class=\"toc-item\"><li><span><a href=\"#defaultdict:\" data-toc-modified-id=\"defaultdict:-3.4.1\"><span class=\"toc-item-num\">3.4.1&nbsp;&nbsp;</span>defaultdict:</a></span></li><li><span><a href=\"#missing()-메서드\" data-toc-modified-id=\"missing()-메서드-3.4.2\"><span class=\"toc-item-num\">3.4.2&nbsp;&nbsp;</span><strong>missing</strong>() 메서드</a></span></li></ul></li><li><span><a href=\"#그-외-매핑형\" data-toc-modified-id=\"그-외-매핑형-3.5\"><span class=\"toc-item-num\">3.5&nbsp;&nbsp;</span>그 외 매핑형</a></span></li><li><span><a href=\"#UserDict-상속하기\" data-toc-modified-id=\"UserDict-상속하기-3.6\"><span class=\"toc-item-num\">3.6&nbsp;&nbsp;</span>UserDict 상속하기</a></span></li><li><span><a href=\"#불변-매핑\" data-toc-modified-id=\"불변-매핑-3.7\"><span class=\"toc-item-num\">3.7&nbsp;&nbsp;</span>불변 매핑</a></span></li><li><span><a href=\"#집합-이론\" data-toc-modified-id=\"집합-이론-3.8\"><span class=\"toc-item-num\">3.8&nbsp;&nbsp;</span>집합 이론</a></span><ul class=\"toc-item\"><li><span><a href=\"#집합-리터럴\" data-toc-modified-id=\"집합-리터럴-3.8.1\"><span class=\"toc-item-num\">3.8.1&nbsp;&nbsp;</span>집합 리터럴</a></span></li><li><span><a href=\"#지능형-집합\" data-toc-modified-id=\"지능형-집합-3.8.2\"><span class=\"toc-item-num\">3.8.2&nbsp;&nbsp;</span>지능형 집합</a></span></li></ul></li><li><span><a href=\"#dict와-set의-내부-구조\" data-toc-modified-id=\"dict와-set의-내부-구조-3.9\"><span class=\"toc-item-num\">3.9&nbsp;&nbsp;</span>dict와 set의 내부 구조</a></span></li></ul></li></ul></div>"
   ]
  },
  {
   "cell_type": "markdown",
   "id": "c42090af",
   "metadata": {},
   "source": [
    "# "
   ]
  },
  {
   "cell_type": "markdown",
   "id": "d1e36c7e",
   "metadata": {},
   "source": [
    "# "
   ]
  },
  {
   "cell_type": "markdown",
   "id": "d54815ca",
   "metadata": {},
   "source": [
    "# "
   ]
  },
  {
   "cell_type": "markdown",
   "id": "6a15efc3",
   "metadata": {},
   "source": [
    "## 일반적인 매핑형"
   ]
  },
  {
   "cell_type": "markdown",
   "id": "ac1e4542",
   "metadata": {},
   "source": [
    "## 지능형 딕셔너리"
   ]
  },
  {
   "cell_type": "code",
   "execution_count": 8,
   "id": "d7e88af5",
   "metadata": {
    "ExecuteTime": {
     "end_time": "2023-11-30T04:29:51.043784Z",
     "start_time": "2023-11-30T04:29:51.039721Z"
    }
   },
   "outputs": [],
   "source": [
    "# BEGIN DIALCODES\n",
    "# dial codes of the top 10 most populous countries\n",
    "DIAL_CODES = [\n",
    "        (86, 'China'),\n",
    "        (91, 'India'),\n",
    "        (1, 'United States'),\n",
    "        (62, 'Indonesia'),\n",
    "        (55, 'Brazil'),\n",
    "        (92, 'Pakistan'),\n",
    "        (880, 'Bangladesh'),\n",
    "        (234, 'Nigeria'),\n",
    "        (7, 'Russia'),\n",
    "        (81, 'Japan'),\n",
    "    ]"
   ]
  },
  {
   "cell_type": "code",
   "execution_count": null,
   "id": "e1777f25",
   "metadata": {},
   "outputs": [],
   "source": []
  },
  {
   "cell_type": "raw",
   "id": "b98d182c",
   "metadata": {},
   "source": [
    "d1 = dict(DIAL_CODES)  # <1>\n",
    "print('d1:', d1.keys())\n",
    "d2 = dict(sorted(DIAL_CODES))  # <2>\n",
    "print('d2:', d2.keys())\n",
    "d3 = dict(sorted(DIAL_CODES, key=lambda x:x[1]))  # <3>\n",
    "print('d3:', d3.keys())\n",
    "assert d1 == d2 and d2 == d3  # <4>\n",
    "# END DIALCODES\n",
    "\"\"\"\n",
    "# BEGIN DIALCODES_OUTPUT\n",
    "d1: dict_keys([880, 1, 86, 55, 7, 234, 91, 92, 62, 81])\n",
    "d2: dict_keys([880, 1, 91, 86, 81, 55, 234, 7, 92, 62])\n",
    "d3: dict_keys([880, 81, 1, 86, 55, 7, 234, 91, 92, 62])\n",
    "# END DIALCODES_OUTPUT\n",
    "\"\"\""
   ]
  },
  {
   "cell_type": "code",
   "execution_count": 9,
   "id": "7f13bde3",
   "metadata": {
    "ExecuteTime": {
     "end_time": "2023-11-30T04:29:51.447053Z",
     "start_time": "2023-11-30T04:29:51.430151Z"
    }
   },
   "outputs": [],
   "source": [
    "country_code = {country: code for code, country in DIAL_CODES}"
   ]
  },
  {
   "cell_type": "code",
   "execution_count": 10,
   "id": "9d3a3aae",
   "metadata": {
    "ExecuteTime": {
     "end_time": "2023-11-30T04:29:51.559362Z",
     "start_time": "2023-11-30T04:29:51.546906Z"
    }
   },
   "outputs": [
    {
     "data": {
      "text/plain": [
       "{'China': 86,\n",
       " 'India': 91,\n",
       " 'United States': 1,\n",
       " 'Indonesia': 62,\n",
       " 'Brazil': 55,\n",
       " 'Pakistan': 92,\n",
       " 'Bangladesh': 880,\n",
       " 'Nigeria': 234,\n",
       " 'Russia': 7,\n",
       " 'Japan': 81}"
      ]
     },
     "execution_count": 10,
     "metadata": {},
     "output_type": "execute_result"
    }
   ],
   "source": [
    "country_code"
   ]
  },
  {
   "cell_type": "code",
   "execution_count": 11,
   "id": "9a1f50ff",
   "metadata": {
    "ExecuteTime": {
     "end_time": "2023-11-30T04:29:51.683988Z",
     "start_time": "2023-11-30T04:29:51.666026Z"
    }
   },
   "outputs": [
    {
     "data": {
      "text/plain": [
       "{1: 'UNITED STATES', 62: 'INDONESIA', 55: 'BRAZIL', 7: 'RUSSIA'}"
      ]
     },
     "execution_count": 11,
     "metadata": {},
     "output_type": "execute_result"
    }
   ],
   "source": [
    "{code: country.upper() for country, code in country_code.items() if code<66}"
   ]
  },
  {
   "cell_type": "markdown",
   "id": "706b53be",
   "metadata": {},
   "source": [
    "## 공통적인 매핑 메서드"
   ]
  },
  {
   "cell_type": "code",
   "execution_count": null,
   "id": "cddd8ab5",
   "metadata": {},
   "outputs": [],
   "source": []
  },
  {
   "cell_type": "markdown",
   "id": "8d1b9a02",
   "metadata": {},
   "source": [
    "### 존재하지 않는 키를 setdefault()로 처리하기 "
   ]
  },
  {
   "cell_type": "raw",
   "id": "232ac820",
   "metadata": {
    "ExecuteTime": {
     "end_time": "2023-11-30T04:35:38.640648Z",
     "start_time": "2023-11-30T04:35:38.621166Z"
    }
   },
   "source": [
    "# adapted from Alex Martelli's example in \"Re-learning Python\"\n",
    "# http://www.aleax.it/Python/accu04_Relearn_Python_alex.pdf\n",
    "# (slide 41) Ex: lines-by-word file index\n",
    "\n",
    "# BEGIN INDEX0\n",
    "\"\"\"Build an index mapping word -> list of occurrences\"\"\"\n",
    "\n",
    "import sys\n",
    "import re\n",
    "\n",
    "WORD_RE = re.compile('\\w+')\n",
    "\n",
    "index = {}\n",
    "with open(sys.argv[1], encoding='utf-8') as fp:\n",
    "    for line_no, line in enumerate(fp, 1):\n",
    "        for match in WORD_RE.finditer(line):\n",
    "            word = match.group()\n",
    "            column_no = match.start()+1\n",
    "            location = (line_no, column_no)\n",
    "            # this is ugly; coded like this to make a point\n",
    "            occurrences = index.get(word, [])  # <1>\n",
    "            # 단어 (word) 에 대한 occurrences 리스트를 가져오거나, 단어가 없으면 빈배열([])을 가져온다.\n",
    "            occurrences.append(location)       # <2>\n",
    "            index[word] = occurrences          # <3>\n",
    "\n",
    "# print in alphabetical order\n",
    "for word in sorted(index, key=str.upper):  # <4>\n",
    "    print(word, index[word])\n",
    "# END INDEX0\n",
    "  "
   ]
  },
  {
   "cell_type": "code",
   "execution_count": null,
   "id": "e9dcba3e",
   "metadata": {},
   "outputs": [],
   "source": []
  },
  {
   "cell_type": "markdown",
   "id": "9548e933",
   "metadata": {},
   "source": [
    "#### 예제3-4"
   ]
  },
  {
   "cell_type": "code",
   "execution_count": 22,
   "id": "ef576760",
   "metadata": {
    "ExecuteTime": {
     "end_time": "2023-11-30T04:39:41.627861Z",
     "start_time": "2023-11-30T04:39:41.609056Z"
    }
   },
   "outputs": [
    {
     "ename": "FileNotFoundError",
     "evalue": "[Errno 2] No such file or directory: '-f'",
     "output_type": "error",
     "traceback": [
      "\u001b[1;31m---------------------------------------------------------------------------\u001b[0m",
      "\u001b[1;31mFileNotFoundError\u001b[0m                         Traceback (most recent call last)",
      "Cell \u001b[1;32mIn[22], line 14\u001b[0m\n\u001b[0;32m     11\u001b[0m WORD_RE \u001b[38;5;241m=\u001b[39m re\u001b[38;5;241m.\u001b[39mcompile(\u001b[38;5;124mr\u001b[39m\u001b[38;5;124m'\u001b[39m\u001b[38;5;124m\\\u001b[39m\u001b[38;5;124mw+\u001b[39m\u001b[38;5;124m'\u001b[39m)\n\u001b[0;32m     13\u001b[0m index \u001b[38;5;241m=\u001b[39m {}\n\u001b[1;32m---> 14\u001b[0m \u001b[38;5;28;01mwith\u001b[39;00m \u001b[38;5;28mopen\u001b[39m(sys\u001b[38;5;241m.\u001b[39margv[\u001b[38;5;241m1\u001b[39m], encoding\u001b[38;5;241m=\u001b[39m\u001b[38;5;124m'\u001b[39m\u001b[38;5;124mutf-8\u001b[39m\u001b[38;5;124m'\u001b[39m) \u001b[38;5;28;01mas\u001b[39;00m fp:\n\u001b[0;32m     15\u001b[0m     \u001b[38;5;28;01mfor\u001b[39;00m line_no, line \u001b[38;5;129;01min\u001b[39;00m \u001b[38;5;28menumerate\u001b[39m(fp, \u001b[38;5;241m1\u001b[39m):\n\u001b[0;32m     16\u001b[0m         \u001b[38;5;28;01mfor\u001b[39;00m match \u001b[38;5;129;01min\u001b[39;00m WORD_RE\u001b[38;5;241m.\u001b[39mfinditer(line):\n",
      "File \u001b[1;32m~\\anaconda3\\Lib\\site-packages\\IPython\\core\\interactiveshell.py:286\u001b[0m, in \u001b[0;36m_modified_open\u001b[1;34m(file, *args, **kwargs)\u001b[0m\n\u001b[0;32m    279\u001b[0m \u001b[38;5;28;01mif\u001b[39;00m file \u001b[38;5;129;01min\u001b[39;00m {\u001b[38;5;241m0\u001b[39m, \u001b[38;5;241m1\u001b[39m, \u001b[38;5;241m2\u001b[39m}:\n\u001b[0;32m    280\u001b[0m     \u001b[38;5;28;01mraise\u001b[39;00m \u001b[38;5;167;01mValueError\u001b[39;00m(\n\u001b[0;32m    281\u001b[0m         \u001b[38;5;124mf\u001b[39m\u001b[38;5;124m\"\u001b[39m\u001b[38;5;124mIPython won\u001b[39m\u001b[38;5;124m'\u001b[39m\u001b[38;5;124mt let you open fd=\u001b[39m\u001b[38;5;132;01m{\u001b[39;00mfile\u001b[38;5;132;01m}\u001b[39;00m\u001b[38;5;124m by default \u001b[39m\u001b[38;5;124m\"\u001b[39m\n\u001b[0;32m    282\u001b[0m         \u001b[38;5;124m\"\u001b[39m\u001b[38;5;124mas it is likely to crash IPython. If you know what you are doing, \u001b[39m\u001b[38;5;124m\"\u001b[39m\n\u001b[0;32m    283\u001b[0m         \u001b[38;5;124m\"\u001b[39m\u001b[38;5;124myou can use builtins\u001b[39m\u001b[38;5;124m'\u001b[39m\u001b[38;5;124m open.\u001b[39m\u001b[38;5;124m\"\u001b[39m\n\u001b[0;32m    284\u001b[0m     )\n\u001b[1;32m--> 286\u001b[0m \u001b[38;5;28;01mreturn\u001b[39;00m io_open(file, \u001b[38;5;241m*\u001b[39margs, \u001b[38;5;241m*\u001b[39m\u001b[38;5;241m*\u001b[39mkwargs)\n",
      "\u001b[1;31mFileNotFoundError\u001b[0m: [Errno 2] No such file or directory: '-f'"
     ]
    }
   ],
   "source": [
    "# adapted from Alex Martelli's example in \"Re-learning Python\"\n",
    "# http://www.aleax.it/Python/accu04_Relearn_Python_alex.pdf\n",
    "# (slide 41) Ex: lines-by-word file index\n",
    "\n",
    "# BEGIN INDEX\n",
    "\"\"\"Build an index mapping word -> list of occurrences\"\"\"\n",
    "\n",
    "import sys\n",
    "import re\n",
    "\n",
    "WORD_RE = re.compile(r'\\w+')\n",
    "\n",
    "index = {}\n",
    "with open(sys.argv[1], encoding='utf-8') as fp:\n",
    "    for line_no, line in enumerate(fp, 1):\n",
    "        for match in WORD_RE.finditer(line):\n",
    "            word = match.group()\n",
    "            column_no = match.start()+1\n",
    "            location = (line_no, column_no)\n",
    "            index.setdefault(word, []).append(location)  # <1>\n",
    "\n",
    "# print in alphabetical order\n",
    "for word in sorted(index, key=str.upper):\n",
    "    print(word, index[word])\n",
    "# END INDEX\n"
   ]
  },
  {
   "cell_type": "code",
   "execution_count": null,
   "id": "7774ac89",
   "metadata": {},
   "outputs": [],
   "source": []
  },
  {
   "cell_type": "markdown",
   "id": "603f566d",
   "metadata": {},
   "source": [
    "## 융통성 있게 키를 조회하는 매핑"
   ]
  },
  {
   "cell_type": "markdown",
   "id": "5beb48fd",
   "metadata": {},
   "source": [
    "### defaultdict:"
   ]
  },
  {
   "cell_type": "code",
   "execution_count": 23,
   "id": "4b0e9d31",
   "metadata": {
    "ExecuteTime": {
     "end_time": "2023-11-30T04:51:27.476677Z",
     "start_time": "2023-11-30T04:51:27.458058Z"
    }
   },
   "outputs": [
    {
     "ename": "FileNotFoundError",
     "evalue": "[Errno 2] No such file or directory: '-f'",
     "output_type": "error",
     "traceback": [
      "\u001b[1;31m---------------------------------------------------------------------------\u001b[0m",
      "\u001b[1;31mFileNotFoundError\u001b[0m                         Traceback (most recent call last)",
      "Cell \u001b[1;32mIn[23], line 15\u001b[0m\n\u001b[0;32m     12\u001b[0m WORD_RE \u001b[38;5;241m=\u001b[39m re\u001b[38;5;241m.\u001b[39mcompile(\u001b[38;5;124m'\u001b[39m\u001b[38;5;124m\\\u001b[39m\u001b[38;5;124mw+\u001b[39m\u001b[38;5;124m'\u001b[39m)\n\u001b[0;32m     14\u001b[0m index \u001b[38;5;241m=\u001b[39m collections\u001b[38;5;241m.\u001b[39mdefaultdict(\u001b[38;5;28mlist\u001b[39m)     \u001b[38;5;66;03m# <1>\u001b[39;00m\n\u001b[1;32m---> 15\u001b[0m \u001b[38;5;28;01mwith\u001b[39;00m \u001b[38;5;28mopen\u001b[39m(sys\u001b[38;5;241m.\u001b[39margv[\u001b[38;5;241m1\u001b[39m], encoding\u001b[38;5;241m=\u001b[39m\u001b[38;5;124m'\u001b[39m\u001b[38;5;124mutf-8\u001b[39m\u001b[38;5;124m'\u001b[39m) \u001b[38;5;28;01mas\u001b[39;00m fp:\n\u001b[0;32m     16\u001b[0m     \u001b[38;5;28;01mfor\u001b[39;00m line_no, line \u001b[38;5;129;01min\u001b[39;00m \u001b[38;5;28menumerate\u001b[39m(fp, \u001b[38;5;241m1\u001b[39m):\n\u001b[0;32m     17\u001b[0m         \u001b[38;5;28;01mfor\u001b[39;00m match \u001b[38;5;129;01min\u001b[39;00m WORD_RE\u001b[38;5;241m.\u001b[39mfinditer(line):\n",
      "File \u001b[1;32m~\\anaconda3\\Lib\\site-packages\\IPython\\core\\interactiveshell.py:286\u001b[0m, in \u001b[0;36m_modified_open\u001b[1;34m(file, *args, **kwargs)\u001b[0m\n\u001b[0;32m    279\u001b[0m \u001b[38;5;28;01mif\u001b[39;00m file \u001b[38;5;129;01min\u001b[39;00m {\u001b[38;5;241m0\u001b[39m, \u001b[38;5;241m1\u001b[39m, \u001b[38;5;241m2\u001b[39m}:\n\u001b[0;32m    280\u001b[0m     \u001b[38;5;28;01mraise\u001b[39;00m \u001b[38;5;167;01mValueError\u001b[39;00m(\n\u001b[0;32m    281\u001b[0m         \u001b[38;5;124mf\u001b[39m\u001b[38;5;124m\"\u001b[39m\u001b[38;5;124mIPython won\u001b[39m\u001b[38;5;124m'\u001b[39m\u001b[38;5;124mt let you open fd=\u001b[39m\u001b[38;5;132;01m{\u001b[39;00mfile\u001b[38;5;132;01m}\u001b[39;00m\u001b[38;5;124m by default \u001b[39m\u001b[38;5;124m\"\u001b[39m\n\u001b[0;32m    282\u001b[0m         \u001b[38;5;124m\"\u001b[39m\u001b[38;5;124mas it is likely to crash IPython. If you know what you are doing, \u001b[39m\u001b[38;5;124m\"\u001b[39m\n\u001b[0;32m    283\u001b[0m         \u001b[38;5;124m\"\u001b[39m\u001b[38;5;124myou can use builtins\u001b[39m\u001b[38;5;124m'\u001b[39m\u001b[38;5;124m open.\u001b[39m\u001b[38;5;124m\"\u001b[39m\n\u001b[0;32m    284\u001b[0m     )\n\u001b[1;32m--> 286\u001b[0m \u001b[38;5;28;01mreturn\u001b[39;00m io_open(file, \u001b[38;5;241m*\u001b[39margs, \u001b[38;5;241m*\u001b[39m\u001b[38;5;241m*\u001b[39mkwargs)\n",
      "\u001b[1;31mFileNotFoundError\u001b[0m: [Errno 2] No such file or directory: '-f'"
     ]
    }
   ],
   "source": [
    "# adapted from Alex Martelli's example in \"Re-learning Python\"\n",
    "# http://www.aleax.it/Python/accu04_Relearn_Python_alex.pdf\n",
    "# (slide 41) Ex: lines-by-word file index\n",
    "\n",
    "# BEGIN INDEX_DEFAULT\n",
    "\"\"\"Build an index mapping word -> list of occurrences\"\"\"\n",
    "\n",
    "import sys\n",
    "import re\n",
    "import collections\n",
    "\n",
    "WORD_RE = re.compile('\\w+')\n",
    "\n",
    "index = collections.defaultdict(list)     # <1>\n",
    "with open(sys.argv[1], encoding='utf-8') as fp:\n",
    "    for line_no, line in enumerate(fp, 1):\n",
    "        for match in WORD_RE.finditer(line):\n",
    "            word = match.group()\n",
    "            column_no = match.start()+1\n",
    "            location = (line_no, column_no)\n",
    "            index[word].append(location)  # <2>\n",
    "\n",
    "# print in alphabetical order\n",
    "for word in sorted(index, key=str.upper):\n",
    "    print(word, index[word])\n",
    "# END INDEX_DEFAULT\n"
   ]
  },
  {
   "cell_type": "code",
   "execution_count": null,
   "id": "83f6554b",
   "metadata": {},
   "outputs": [],
   "source": []
  },
  {
   "cell_type": "markdown",
   "id": "b0dfdfd8",
   "metadata": {},
   "source": [
    "### __missing__() 메서드"
   ]
  },
  {
   "cell_type": "code",
   "execution_count": 24,
   "id": "8e19e419",
   "metadata": {
    "ExecuteTime": {
     "end_time": "2023-11-30T05:06:41.444035Z",
     "start_time": "2023-11-30T05:06:41.439095Z"
    }
   },
   "outputs": [],
   "source": [
    "\"\"\"StrKeyDict0 converts non-string keys to `str` on lookup\n",
    "\n",
    "# BEGIN STRKEYDICT0_TESTS\n",
    "\n",
    "Tests for item retrieval using `d[key]` notation::\n",
    "\n",
    "    >>> d = StrKeyDict0([('2', 'two'), ('4', 'four')])\n",
    "    >>> d['2']\n",
    "    'two'\n",
    "    >>> d[4]\n",
    "    'four'\n",
    "    >>> d[1]\n",
    "    Traceback (most recent call last):\n",
    "      ...\n",
    "    KeyError: '1'\n",
    "\n",
    "Tests for item retrieval using `d.get(key)` notation::\n",
    "\n",
    "    >>> d.get('2')\n",
    "    'two'\n",
    "    >>> d.get(4)\n",
    "    'four'\n",
    "    >>> d.get(1, 'N/A')\n",
    "    'N/A'\n",
    "\n",
    "\n",
    "Tests for the `in` operator::\n",
    "\n",
    "    >>> 2 in d\n",
    "    True\n",
    "    >>> 1 in d\n",
    "    False\n",
    "\n",
    "# END STRKEYDICT0_TESTS\n",
    "\"\"\"\n",
    "\n",
    "\n",
    "# BEGIN STRKEYDICT0\n",
    "class StrKeyDict0(dict):  # <1>\n",
    "\n",
    "    def __missing__(self, key):\n",
    "        if isinstance(key, str):  # <2>\n",
    "            raise KeyError(key)\n",
    "        return self[str(key)]  # <3>\n",
    "\n",
    "    def get(self, key, default=None):\n",
    "        try:\n",
    "            return self[key]  # <4>\n",
    "        except KeyError:\n",
    "            return default  # <5>\n",
    "\n",
    "    def __contains__(self, key):\n",
    "        return key in self.keys() or str(key) in self.keys()  # <6>\n",
    "\n",
    "# END STRKEYDICT0\n"
   ]
  },
  {
   "cell_type": "code",
   "execution_count": null,
   "id": "156f3905",
   "metadata": {},
   "outputs": [],
   "source": []
  },
  {
   "cell_type": "code",
   "execution_count": null,
   "id": "acb496c3",
   "metadata": {},
   "outputs": [],
   "source": []
  },
  {
   "cell_type": "markdown",
   "id": "e20a2ab4",
   "metadata": {},
   "source": [
    "## 그 외 매핑형"
   ]
  },
  {
   "cell_type": "code",
   "execution_count": null,
   "id": "cd9f5243",
   "metadata": {},
   "outputs": [],
   "source": []
  },
  {
   "cell_type": "code",
   "execution_count": null,
   "id": "b096205e",
   "metadata": {},
   "outputs": [],
   "source": []
  },
  {
   "cell_type": "markdown",
   "id": "4f70b84c",
   "metadata": {},
   "source": [
    "## UserDict 상속하기"
   ]
  },
  {
   "cell_type": "code",
   "execution_count": null,
   "id": "b2cb64eb",
   "metadata": {},
   "outputs": [],
   "source": []
  },
  {
   "cell_type": "markdown",
   "id": "6f80576d",
   "metadata": {},
   "source": [
    "## 불변 매핑"
   ]
  },
  {
   "cell_type": "code",
   "execution_count": null,
   "id": "ff28e03b",
   "metadata": {},
   "outputs": [],
   "source": []
  },
  {
   "cell_type": "markdown",
   "id": "716c77aa",
   "metadata": {},
   "source": [
    "## 집합 이론"
   ]
  },
  {
   "cell_type": "markdown",
   "id": "c21cbf9d",
   "metadata": {
    "ExecuteTime": {
     "end_time": "2023-11-30T07:05:56.473757Z",
     "start_time": "2023-11-30T07:05:56.470025Z"
    }
   },
   "source": [
    "### 집합 리터럴"
   ]
  },
  {
   "cell_type": "code",
   "execution_count": null,
   "id": "cc1a768e",
   "metadata": {},
   "outputs": [],
   "source": []
  },
  {
   "cell_type": "markdown",
   "id": "c79259bf",
   "metadata": {},
   "source": [
    "### 지능형 집합"
   ]
  },
  {
   "cell_type": "code",
   "execution_count": null,
   "id": "37d1ffa9",
   "metadata": {},
   "outputs": [],
   "source": []
  },
  {
   "cell_type": "code",
   "execution_count": null,
   "id": "32156dbc",
   "metadata": {},
   "outputs": [],
   "source": []
  },
  {
   "cell_type": "code",
   "execution_count": null,
   "id": "234741eb",
   "metadata": {},
   "outputs": [],
   "source": []
  },
  {
   "cell_type": "markdown",
   "id": "8e8b8478",
   "metadata": {},
   "source": [
    "## dict와 set의 내부 구조"
   ]
  },
  {
   "cell_type": "code",
   "execution_count": null,
   "id": "97f2a284",
   "metadata": {},
   "outputs": [],
   "source": []
  },
  {
   "cell_type": "code",
   "execution_count": null,
   "id": "a7d5695a",
   "metadata": {},
   "outputs": [],
   "source": []
  },
  {
   "cell_type": "code",
   "execution_count": null,
   "id": "abde9084",
   "metadata": {},
   "outputs": [],
   "source": []
  },
  {
   "cell_type": "code",
   "execution_count": null,
   "id": "0f5406b2",
   "metadata": {},
   "outputs": [],
   "source": []
  },
  {
   "cell_type": "code",
   "execution_count": null,
   "id": "635e99ae",
   "metadata": {},
   "outputs": [],
   "source": []
  },
  {
   "cell_type": "code",
   "execution_count": null,
   "id": "79436a64",
   "metadata": {},
   "outputs": [],
   "source": []
  },
  {
   "cell_type": "code",
   "execution_count": null,
   "id": "da7c58dc",
   "metadata": {},
   "outputs": [],
   "source": []
  },
  {
   "cell_type": "code",
   "execution_count": null,
   "id": "618fe9ee",
   "metadata": {},
   "outputs": [],
   "source": []
  },
  {
   "cell_type": "code",
   "execution_count": null,
   "id": "0f000410",
   "metadata": {},
   "outputs": [],
   "source": []
  },
  {
   "cell_type": "code",
   "execution_count": null,
   "id": "708267b1",
   "metadata": {},
   "outputs": [],
   "source": []
  },
  {
   "cell_type": "code",
   "execution_count": null,
   "id": "04ef876b",
   "metadata": {},
   "outputs": [],
   "source": []
  },
  {
   "cell_type": "code",
   "execution_count": null,
   "id": "ec8025fc",
   "metadata": {},
   "outputs": [],
   "source": []
  },
  {
   "cell_type": "code",
   "execution_count": null,
   "id": "7f4f8bd9",
   "metadata": {},
   "outputs": [],
   "source": []
  },
  {
   "cell_type": "code",
   "execution_count": null,
   "id": "2d34ab22",
   "metadata": {},
   "outputs": [],
   "source": []
  },
  {
   "cell_type": "code",
   "execution_count": null,
   "id": "ab4f1f5d",
   "metadata": {},
   "outputs": [],
   "source": []
  },
  {
   "cell_type": "code",
   "execution_count": null,
   "id": "f3bb2c52",
   "metadata": {},
   "outputs": [],
   "source": []
  },
  {
   "cell_type": "code",
   "execution_count": null,
   "id": "34d55c39",
   "metadata": {},
   "outputs": [],
   "source": []
  },
  {
   "cell_type": "code",
   "execution_count": null,
   "id": "110563b4",
   "metadata": {},
   "outputs": [],
   "source": []
  },
  {
   "cell_type": "code",
   "execution_count": null,
   "id": "c5ac020e",
   "metadata": {},
   "outputs": [],
   "source": []
  },
  {
   "cell_type": "code",
   "execution_count": null,
   "id": "0ac47983",
   "metadata": {},
   "outputs": [],
   "source": []
  },
  {
   "cell_type": "code",
   "execution_count": null,
   "id": "cc282b5d",
   "metadata": {},
   "outputs": [],
   "source": []
  },
  {
   "cell_type": "code",
   "execution_count": null,
   "id": "86e2cc32",
   "metadata": {},
   "outputs": [],
   "source": []
  },
  {
   "cell_type": "code",
   "execution_count": null,
   "id": "42a82402",
   "metadata": {},
   "outputs": [],
   "source": []
  },
  {
   "cell_type": "code",
   "execution_count": null,
   "id": "7ad008c5",
   "metadata": {},
   "outputs": [],
   "source": []
  },
  {
   "cell_type": "code",
   "execution_count": null,
   "id": "56b37d5a",
   "metadata": {},
   "outputs": [],
   "source": []
  },
  {
   "cell_type": "code",
   "execution_count": null,
   "id": "705f4f0d",
   "metadata": {},
   "outputs": [],
   "source": []
  },
  {
   "cell_type": "code",
   "execution_count": null,
   "id": "9ce73823",
   "metadata": {},
   "outputs": [],
   "source": []
  },
  {
   "cell_type": "code",
   "execution_count": null,
   "id": "aadb30f8",
   "metadata": {},
   "outputs": [],
   "source": []
  },
  {
   "cell_type": "code",
   "execution_count": null,
   "id": "b16147c0",
   "metadata": {},
   "outputs": [],
   "source": []
  },
  {
   "cell_type": "code",
   "execution_count": null,
   "id": "deda4089",
   "metadata": {},
   "outputs": [],
   "source": []
  },
  {
   "cell_type": "code",
   "execution_count": null,
   "id": "66a07125",
   "metadata": {},
   "outputs": [],
   "source": []
  },
  {
   "cell_type": "code",
   "execution_count": null,
   "id": "0ef68eba",
   "metadata": {},
   "outputs": [],
   "source": []
  },
  {
   "cell_type": "code",
   "execution_count": null,
   "id": "54815ad0",
   "metadata": {},
   "outputs": [],
   "source": []
  },
  {
   "cell_type": "code",
   "execution_count": null,
   "id": "e0e42ffb",
   "metadata": {},
   "outputs": [],
   "source": []
  },
  {
   "cell_type": "code",
   "execution_count": null,
   "id": "336a0d7a",
   "metadata": {},
   "outputs": [],
   "source": []
  },
  {
   "cell_type": "code",
   "execution_count": null,
   "id": "b5187fef",
   "metadata": {},
   "outputs": [],
   "source": []
  },
  {
   "cell_type": "code",
   "execution_count": null,
   "id": "18c32e27",
   "metadata": {},
   "outputs": [],
   "source": []
  },
  {
   "cell_type": "code",
   "execution_count": null,
   "id": "8eaf6fd8",
   "metadata": {},
   "outputs": [],
   "source": []
  },
  {
   "cell_type": "code",
   "execution_count": null,
   "id": "67380b11",
   "metadata": {},
   "outputs": [],
   "source": []
  },
  {
   "cell_type": "code",
   "execution_count": null,
   "id": "110219bf",
   "metadata": {},
   "outputs": [],
   "source": []
  },
  {
   "cell_type": "code",
   "execution_count": null,
   "id": "61192bba",
   "metadata": {},
   "outputs": [],
   "source": []
  }
 ],
 "metadata": {
  "kernelspec": {
   "display_name": "Python 3 (ipykernel)",
   "language": "python",
   "name": "python3"
  },
  "language_info": {
   "codemirror_mode": {
    "name": "ipython",
    "version": 3
   },
   "file_extension": ".py",
   "mimetype": "text/x-python",
   "name": "python",
   "nbconvert_exporter": "python",
   "pygments_lexer": "ipython3",
   "version": "3.11.5"
  },
  "toc": {
   "base_numbering": 1,
   "nav_menu": {},
   "number_sections": true,
   "sideBar": true,
   "skip_h1_title": false,
   "title_cell": "Table of Contents",
   "title_sidebar": "Contents",
   "toc_cell": true,
   "toc_position": {
    "height": "calc(100% - 180px)",
    "left": "10px",
    "top": "150px",
    "width": "266.792px"
   },
   "toc_section_display": true,
   "toc_window_display": true
  }
 },
 "nbformat": 4,
 "nbformat_minor": 5
}
