{
 "cells": [
  {
   "cell_type": "code",
   "execution_count": 1,
   "id": "5e7f69c2",
   "metadata": {
    "ExecuteTime": {
     "end_time": "2023-11-29T04:06:05.762286Z",
     "start_time": "2023-11-29T04:06:05.759357Z"
    }
   },
   "outputs": [],
   "source": [
    "symbols = '!@#$%^&*()'"
   ]
  },
  {
   "cell_type": "code",
   "execution_count": 2,
   "id": "cda5df87",
   "metadata": {
    "ExecuteTime": {
     "end_time": "2023-11-29T04:06:06.546910Z",
     "start_time": "2023-11-29T04:06:06.544901Z"
    }
   },
   "outputs": [],
   "source": [
    "codes=[]"
   ]
  },
  {
   "cell_type": "code",
   "execution_count": 3,
   "id": "027dda90",
   "metadata": {
    "ExecuteTime": {
     "end_time": "2023-11-29T04:06:07.063800Z",
     "start_time": "2023-11-29T04:06:07.060634Z"
    },
    "code_folding": []
   },
   "outputs": [],
   "source": [
    "for symbol in symbols:\n",
    "    codes.append(ord(symbol))"
   ]
  },
  {
   "cell_type": "code",
   "execution_count": 4,
   "id": "4782f393",
   "metadata": {
    "ExecuteTime": {
     "end_time": "2023-11-29T04:06:07.427287Z",
     "start_time": "2023-11-29T04:06:07.418024Z"
    }
   },
   "outputs": [
    {
     "data": {
      "text/plain": [
       "[33, 64, 35, 36, 37, 94, 38, 42, 40, 41]"
      ]
     },
     "execution_count": 4,
     "metadata": {},
     "output_type": "execute_result"
    }
   ],
   "source": [
    "codes"
   ]
  },
  {
   "cell_type": "code",
   "execution_count": null,
   "id": "32317a3d",
   "metadata": {},
   "outputs": [],
   "source": []
  },
  {
   "cell_type": "code",
   "execution_count": 5,
   "id": "29060fcf",
   "metadata": {
    "ExecuteTime": {
     "end_time": "2023-11-29T04:06:07.980824Z",
     "start_time": "2023-11-29T04:06:07.978627Z"
    }
   },
   "outputs": [],
   "source": [
    "symbols = '!@#$%^&*('"
   ]
  },
  {
   "cell_type": "code",
   "execution_count": 6,
   "id": "04d8b0d6",
   "metadata": {
    "ExecuteTime": {
     "end_time": "2023-11-29T04:06:08.236771Z",
     "start_time": "2023-11-29T04:06:08.233641Z"
    }
   },
   "outputs": [],
   "source": [
    "codes = [ord(symbol) for symbol in symbols]"
   ]
  },
  {
   "cell_type": "code",
   "execution_count": 7,
   "id": "6728c6f2",
   "metadata": {
    "ExecuteTime": {
     "end_time": "2023-11-29T04:06:08.502096Z",
     "start_time": "2023-11-29T04:06:08.488472Z"
    }
   },
   "outputs": [
    {
     "data": {
      "text/plain": [
       "[33, 64, 35, 36, 37, 94, 38, 42, 40]"
      ]
     },
     "execution_count": 7,
     "metadata": {},
     "output_type": "execute_result"
    }
   ],
   "source": [
    "codes"
   ]
  },
  {
   "cell_type": "code",
   "execution_count": null,
   "id": "fe440df2",
   "metadata": {},
   "outputs": [],
   "source": []
  },
  {
   "cell_type": "code",
   "execution_count": 8,
   "id": "e42ffc81",
   "metadata": {
    "ExecuteTime": {
     "end_time": "2023-11-29T04:06:08.983194Z",
     "start_time": "2023-11-29T04:06:08.979778Z"
    }
   },
   "outputs": [],
   "source": [
    "x = 'ABC'"
   ]
  },
  {
   "cell_type": "code",
   "execution_count": 9,
   "id": "f4466d79",
   "metadata": {
    "ExecuteTime": {
     "end_time": "2023-11-29T04:06:09.296322Z",
     "start_time": "2023-11-29T04:06:09.285760Z"
    }
   },
   "outputs": [],
   "source": [
    "dummy = [ord(x) for x in x]"
   ]
  },
  {
   "cell_type": "code",
   "execution_count": 10,
   "id": "f76569c6",
   "metadata": {
    "ExecuteTime": {
     "end_time": "2023-11-29T04:06:09.527418Z",
     "start_time": "2023-11-29T04:06:09.518333Z"
    }
   },
   "outputs": [
    {
     "data": {
      "text/plain": [
       "'ABC'"
      ]
     },
     "execution_count": 10,
     "metadata": {},
     "output_type": "execute_result"
    }
   ],
   "source": [
    "x"
   ]
  },
  {
   "cell_type": "code",
   "execution_count": 11,
   "id": "80564718",
   "metadata": {
    "ExecuteTime": {
     "end_time": "2023-11-29T04:06:09.822194Z",
     "start_time": "2023-11-29T04:06:09.817932Z"
    }
   },
   "outputs": [
    {
     "data": {
      "text/plain": [
       "[65, 66, 67]"
      ]
     },
     "execution_count": 11,
     "metadata": {},
     "output_type": "execute_result"
    }
   ],
   "source": [
    "dummy"
   ]
  },
  {
   "cell_type": "code",
   "execution_count": null,
   "id": "3b80879f",
   "metadata": {},
   "outputs": [],
   "source": []
  },
  {
   "cell_type": "markdown",
   "id": "0cc88114",
   "metadata": {},
   "source": [
    "#  2.2.2 지능형 리스트와 map()/filter()비교"
   ]
  },
  {
   "cell_type": "code",
   "execution_count": 4,
   "id": "2d567abc",
   "metadata": {
    "ExecuteTime": {
     "end_time": "2023-11-29T04:12:25.698095Z",
     "start_time": "2023-11-29T04:12:25.694442Z"
    }
   },
   "outputs": [],
   "source": [
    "symbols = '!@#$%^&'"
   ]
  },
  {
   "cell_type": "code",
   "execution_count": 7,
   "id": "7887883d",
   "metadata": {
    "ExecuteTime": {
     "end_time": "2023-11-29T04:12:39.743104Z",
     "start_time": "2023-11-29T04:12:39.739347Z"
    }
   },
   "outputs": [],
   "source": [
    "beyond_ascii = [ord(s) for s in symbols if ord(s) <127]"
   ]
  },
  {
   "cell_type": "code",
   "execution_count": 8,
   "id": "ffa0188b",
   "metadata": {
    "ExecuteTime": {
     "end_time": "2023-11-29T04:12:40.911907Z",
     "start_time": "2023-11-29T04:12:40.907414Z"
    }
   },
   "outputs": [
    {
     "data": {
      "text/plain": [
       "[33, 64, 35, 36, 37, 94, 38]"
      ]
     },
     "execution_count": 8,
     "metadata": {},
     "output_type": "execute_result"
    }
   ],
   "source": [
    "beyond_ascii"
   ]
  },
  {
   "cell_type": "code",
   "execution_count": 15,
   "id": "6abf012a",
   "metadata": {
    "ExecuteTime": {
     "end_time": "2023-11-29T04:15:32.054202Z",
     "start_time": "2023-11-29T04:15:32.050992Z"
    }
   },
   "outputs": [],
   "source": [
    "beyond_ascii = list(filter(lambda c: c < 127, map(ord, symbols)))"
   ]
  },
  {
   "cell_type": "code",
   "execution_count": 16,
   "id": "94149f69",
   "metadata": {
    "ExecuteTime": {
     "end_time": "2023-11-29T04:15:37.360846Z",
     "start_time": "2023-11-29T04:15:37.356559Z"
    }
   },
   "outputs": [
    {
     "data": {
      "text/plain": [
       "[33, 64, 35, 36, 37, 94, 38]"
      ]
     },
     "execution_count": 16,
     "metadata": {},
     "output_type": "execute_result"
    }
   ],
   "source": [
    "beyond_ascii"
   ]
  },
  {
   "cell_type": "markdown",
   "id": "9762d495",
   "metadata": {},
   "source": [
    "# 2.2.3 데카르트 곱"
   ]
  },
  {
   "cell_type": "code",
   "execution_count": 17,
   "id": "6d6953a9",
   "metadata": {
    "ExecuteTime": {
     "end_time": "2023-11-29T04:18:26.133308Z",
     "start_time": "2023-11-29T04:18:26.130209Z"
    }
   },
   "outputs": [],
   "source": [
    "colors = ['black','white']"
   ]
  },
  {
   "cell_type": "code",
   "execution_count": 18,
   "id": "1558256e",
   "metadata": {
    "ExecuteTime": {
     "end_time": "2023-11-29T04:18:40.230456Z",
     "start_time": "2023-11-29T04:18:40.227048Z"
    }
   },
   "outputs": [],
   "source": [
    "sizes=['S','M','L']"
   ]
  },
  {
   "cell_type": "code",
   "execution_count": 20,
   "id": "4065d6f5",
   "metadata": {
    "ExecuteTime": {
     "end_time": "2023-11-29T04:24:09.340954Z",
     "start_time": "2023-11-29T04:24:09.336770Z"
    }
   },
   "outputs": [],
   "source": [
    "tshirts= [(color,size) for color in colors for size in sizes]"
   ]
  },
  {
   "cell_type": "code",
   "execution_count": 21,
   "id": "b214ffe3",
   "metadata": {
    "ExecuteTime": {
     "end_time": "2023-11-29T04:24:13.030167Z",
     "start_time": "2023-11-29T04:24:13.025633Z"
    }
   },
   "outputs": [
    {
     "data": {
      "text/plain": [
       "[('black', 'S'),\n",
       " ('black', 'M'),\n",
       " ('black', 'L'),\n",
       " ('white', 'S'),\n",
       " ('white', 'M'),\n",
       " ('white', 'L')]"
      ]
     },
     "execution_count": 21,
     "metadata": {},
     "output_type": "execute_result"
    }
   ],
   "source": [
    "tshirts"
   ]
  },
  {
   "cell_type": "code",
   "execution_count": 22,
   "id": "4203a2e9",
   "metadata": {
    "ExecuteTime": {
     "end_time": "2023-11-29T04:24:43.437502Z",
     "start_time": "2023-11-29T04:24:43.422467Z"
    }
   },
   "outputs": [
    {
     "name": "stdout",
     "output_type": "stream",
     "text": [
      "('black', 'S')\n",
      "('black', 'M')\n",
      "('black', 'L')\n",
      "('white', 'S')\n",
      "('white', 'M')\n",
      "('white', 'L')\n"
     ]
    }
   ],
   "source": [
    "for color in colors:\n",
    "    for size in sizes:\n",
    "        print((color,size))"
   ]
  },
  {
   "cell_type": "code",
   "execution_count": 23,
   "id": "b2f0d644",
   "metadata": {
    "ExecuteTime": {
     "end_time": "2023-11-29T04:26:02.684514Z",
     "start_time": "2023-11-29T04:26:02.681111Z"
    }
   },
   "outputs": [],
   "source": [
    "tshirts = [(color,size) for size in sizes\n",
    "                          for color in colors]"
   ]
  },
  {
   "cell_type": "code",
   "execution_count": 24,
   "id": "5a7d890a",
   "metadata": {
    "ExecuteTime": {
     "end_time": "2023-11-29T04:26:16.726038Z",
     "start_time": "2023-11-29T04:26:16.721452Z"
    }
   },
   "outputs": [
    {
     "data": {
      "text/plain": [
       "[('black', 'S'),\n",
       " ('white', 'S'),\n",
       " ('black', 'M'),\n",
       " ('white', 'M'),\n",
       " ('black', 'L'),\n",
       " ('white', 'L')]"
      ]
     },
     "execution_count": 24,
     "metadata": {},
     "output_type": "execute_result"
    }
   ],
   "source": [
    "tshirts"
   ]
  },
  {
   "cell_type": "code",
   "execution_count": 25,
   "id": "da511242",
   "metadata": {
    "ExecuteTime": {
     "end_time": "2023-11-29T04:31:40.466951Z",
     "start_time": "2023-11-29T04:31:40.462724Z"
    }
   },
   "outputs": [],
   "source": [
    "symbols = '$$%^&*'"
   ]
  },
  {
   "cell_type": "code",
   "execution_count": 26,
   "id": "20f1e476",
   "metadata": {
    "ExecuteTime": {
     "end_time": "2023-11-29T04:32:00.059085Z",
     "start_time": "2023-11-29T04:32:00.054224Z"
    }
   },
   "outputs": [
    {
     "data": {
      "text/plain": [
       "(36, 36, 37, 94, 38, 42)"
      ]
     },
     "execution_count": 26,
     "metadata": {},
     "output_type": "execute_result"
    }
   ],
   "source": [
    "tuple(ord(symbol) for symbol in symbols)"
   ]
  },
  {
   "cell_type": "code",
   "execution_count": 27,
   "id": "a04e620d",
   "metadata": {
    "ExecuteTime": {
     "end_time": "2023-11-29T04:32:33.218303Z",
     "start_time": "2023-11-29T04:32:33.215027Z"
    }
   },
   "outputs": [],
   "source": [
    "import array"
   ]
  },
  {
   "cell_type": "code",
   "execution_count": 28,
   "id": "891556a0",
   "metadata": {
    "ExecuteTime": {
     "end_time": "2023-11-29T04:32:59.263365Z",
     "start_time": "2023-11-29T04:32:59.248429Z"
    }
   },
   "outputs": [
    {
     "data": {
      "text/plain": [
       "array('I', [36, 36, 37, 94, 38, 42])"
      ]
     },
     "execution_count": 28,
     "metadata": {},
     "output_type": "execute_result"
    }
   ],
   "source": [
    "array.array('I',(ord(symbol) for symbol in symbols))"
   ]
  },
  {
   "cell_type": "code",
   "execution_count": 29,
   "id": "14d3de47",
   "metadata": {
    "ExecuteTime": {
     "end_time": "2023-11-29T04:34:39.167170Z",
     "start_time": "2023-11-29T04:34:39.163818Z"
    }
   },
   "outputs": [],
   "source": [
    "colors = ['black','white']"
   ]
  },
  {
   "cell_type": "code",
   "execution_count": 30,
   "id": "8d8b7c49",
   "metadata": {
    "ExecuteTime": {
     "end_time": "2023-11-29T04:35:00.859085Z",
     "start_time": "2023-11-29T04:35:00.855353Z"
    }
   },
   "outputs": [],
   "source": [
    "sizes = ['S','M','L']"
   ]
  },
  {
   "cell_type": "code",
   "execution_count": 31,
   "id": "a6d2192d",
   "metadata": {
    "ExecuteTime": {
     "end_time": "2023-11-29T04:35:53.795955Z",
     "start_time": "2023-11-29T04:35:53.791771Z"
    }
   },
   "outputs": [
    {
     "name": "stdout",
     "output_type": "stream",
     "text": [
      "black S\n",
      "black M\n",
      "black L\n",
      "white S\n",
      "white M\n",
      "white L\n"
     ]
    }
   ],
   "source": [
    "for tshirt in ('%s %s' % (c,s)for c in colors for s in sizes):\n",
    "    print(tshirt)"
   ]
  },
  {
   "cell_type": "markdown",
   "id": "05d81ad2",
   "metadata": {},
   "source": [
    "# 2.3 튜플은 단순한 불변 리스트가 아니다"
   ]
  },
  {
   "cell_type": "markdown",
   "id": "c90a44ca",
   "metadata": {},
   "source": [
    "## 2.3.1레코드로서의 튜플"
   ]
  },
  {
   "cell_type": "code",
   "execution_count": 32,
   "id": "d582e171",
   "metadata": {
    "ExecuteTime": {
     "end_time": "2023-11-29T04:41:46.018977Z",
     "start_time": "2023-11-29T04:41:46.014815Z"
    }
   },
   "outputs": [],
   "source": [
    "lax_coordinates = (33.9425, -118.408056)\n",
    "# 로스엔젤레스 국제공항의 위도,경도"
   ]
  },
  {
   "cell_type": "code",
   "execution_count": 33,
   "id": "a80e5d4f",
   "metadata": {
    "ExecuteTime": {
     "end_time": "2023-11-29T04:42:12.394106Z",
     "start_time": "2023-11-29T04:42:12.390501Z"
    }
   },
   "outputs": [],
   "source": [
    "city,year,pop,chg,area = ('Tokyo',2003,32450,0.66,8014)\n",
    "# 도쿄에 대한 데이터"
   ]
  },
  {
   "cell_type": "code",
   "execution_count": 34,
   "id": "c721776b",
   "metadata": {
    "ExecuteTime": {
     "end_time": "2023-11-29T04:43:11.277614Z",
     "start_time": "2023-11-29T04:43:11.275310Z"
    }
   },
   "outputs": [],
   "source": [
    "traveler_ids = [('USA','31195855'),('BRA','CE342567'),('ESP','XDA205856')]\n",
    "# 튜플로 구성된 리스트"
   ]
  },
  {
   "cell_type": "code",
   "execution_count": 36,
   "id": "8cb1daba",
   "metadata": {
    "ExecuteTime": {
     "end_time": "2023-11-29T04:44:20.275050Z",
     "start_time": "2023-11-29T04:44:20.270131Z"
    }
   },
   "outputs": [
    {
     "name": "stdout",
     "output_type": "stream",
     "text": [
      "BRA/CE342567\n",
      "ESP/XDA205856\n",
      "USA/31195855\n"
     ]
    }
   ],
   "source": [
    "for passport in sorted(traveler_ids):# 리스트를 반복할 때 passport 변수가 각 튜플에 바인딩된다.\n",
    "    print('%s/%s' % passport)\n",
    "# 퍼센트(%) 포맷 연산자는 튜플을 이해하고 각 항목을 하나의 필드로 처리한다."
   ]
  },
  {
   "cell_type": "code",
   "execution_count": 37,
   "id": "6695c6ed",
   "metadata": {
    "ExecuteTime": {
     "end_time": "2023-11-29T04:44:39.913698Z",
     "start_time": "2023-11-29T04:44:39.910583Z"
    }
   },
   "outputs": [
    {
     "name": "stdout",
     "output_type": "stream",
     "text": [
      "USA\n",
      "BRA\n",
      "ESP\n"
     ]
    }
   ],
   "source": [
    "for country, _ in traveler_ids:\n",
    "    print(country)\n",
    "# for 루프는 튜플의 각 항목을 어떻게 가져와야 하는지 알고 있다 ( 이 과정을 언패킹 이라고함)\n",
    "# 여기서 두번째 항목에는 관심이 없으므로 더미변수를 나타내는 언더바에 할당함"
   ]
  },
  {
   "cell_type": "markdown",
   "id": "6d653555",
   "metadata": {},
   "source": [
    "## 2.3.2 튜플 언패킹"
   ]
  },
  {
   "cell_type": "code",
   "execution_count": 38,
   "id": "e00d0591",
   "metadata": {
    "ExecuteTime": {
     "end_time": "2023-11-29T04:50:54.899501Z",
     "start_time": "2023-11-29T04:50:54.891753Z"
    }
   },
   "outputs": [],
   "source": [
    "lax_coordinates = (33.9425,-118.408056)"
   ]
  },
  {
   "cell_type": "code",
   "execution_count": 39,
   "id": "2e5dcd49",
   "metadata": {
    "ExecuteTime": {
     "end_time": "2023-11-29T04:51:18.032491Z",
     "start_time": "2023-11-29T04:51:18.029077Z"
    }
   },
   "outputs": [],
   "source": [
    "latitude,longitude = lax_coordinates"
   ]
  },
  {
   "cell_type": "code",
   "execution_count": 40,
   "id": "6db998e3",
   "metadata": {
    "ExecuteTime": {
     "end_time": "2023-11-29T04:51:25.217585Z",
     "start_time": "2023-11-29T04:51:25.212860Z"
    }
   },
   "outputs": [
    {
     "data": {
      "text/plain": [
       "33.9425"
      ]
     },
     "execution_count": 40,
     "metadata": {},
     "output_type": "execute_result"
    }
   ],
   "source": [
    "latitude"
   ]
  },
  {
   "cell_type": "code",
   "execution_count": 41,
   "id": "614b3b1a",
   "metadata": {
    "ExecuteTime": {
     "end_time": "2023-11-29T04:51:28.439511Z",
     "start_time": "2023-11-29T04:51:28.435234Z"
    }
   },
   "outputs": [
    {
     "data": {
      "text/plain": [
       "-118.408056"
      ]
     },
     "execution_count": 41,
     "metadata": {},
     "output_type": "execute_result"
    }
   ],
   "source": [
    "longitude  # 이것이 병렬할당 "
   ]
  },
  {
   "cell_type": "code",
   "execution_count": null,
   "id": "e47d4a48",
   "metadata": {},
   "outputs": [],
   "source": []
  },
  {
   "cell_type": "code",
   "execution_count": 43,
   "id": "0ae76910",
   "metadata": {
    "ExecuteTime": {
     "end_time": "2023-11-29T04:55:29.896461Z",
     "start_time": "2023-11-29T04:55:29.891557Z"
    }
   },
   "outputs": [
    {
     "data": {
      "text/plain": [
       "(2, 4)"
      ]
     },
     "execution_count": 43,
     "metadata": {},
     "output_type": "execute_result"
    }
   ],
   "source": [
    "divmod(20,8)"
   ]
  },
  {
   "cell_type": "code",
   "execution_count": 44,
   "id": "5b9ead13",
   "metadata": {
    "ExecuteTime": {
     "end_time": "2023-11-29T04:55:36.165456Z",
     "start_time": "2023-11-29T04:55:36.162330Z"
    }
   },
   "outputs": [],
   "source": [
    "t = (20,8)"
   ]
  },
  {
   "cell_type": "code",
   "execution_count": 45,
   "id": "4a4f1719",
   "metadata": {
    "ExecuteTime": {
     "end_time": "2023-11-29T04:55:43.706809Z",
     "start_time": "2023-11-29T04:55:43.703445Z"
    }
   },
   "outputs": [
    {
     "data": {
      "text/plain": [
       "(2, 4)"
      ]
     },
     "execution_count": 45,
     "metadata": {},
     "output_type": "execute_result"
    }
   ],
   "source": [
    "divmod(*t)"
   ]
  },
  {
   "cell_type": "code",
   "execution_count": 46,
   "id": "d14eeebf",
   "metadata": {
    "ExecuteTime": {
     "end_time": "2023-11-29T04:56:01.279624Z",
     "start_time": "2023-11-29T04:56:01.275880Z"
    }
   },
   "outputs": [],
   "source": [
    "quotient, remainder = divmod(*t)"
   ]
  },
  {
   "cell_type": "code",
   "execution_count": 47,
   "id": "b7c1133b",
   "metadata": {
    "ExecuteTime": {
     "end_time": "2023-11-29T04:56:07.928999Z",
     "start_time": "2023-11-29T04:56:07.924185Z"
    }
   },
   "outputs": [
    {
     "data": {
      "text/plain": [
       "(2, 4)"
      ]
     },
     "execution_count": 47,
     "metadata": {},
     "output_type": "execute_result"
    }
   ],
   "source": [
    "quotient, remainder"
   ]
  },
  {
   "cell_type": "code",
   "execution_count": 48,
   "id": "63545dd6",
   "metadata": {
    "ExecuteTime": {
     "end_time": "2023-11-29T04:58:09.951174Z",
     "start_time": "2023-11-29T04:58:09.947612Z"
    }
   },
   "outputs": [],
   "source": [
    "import os"
   ]
  },
  {
   "cell_type": "code",
   "execution_count": 50,
   "id": "3a25bebd",
   "metadata": {
    "ExecuteTime": {
     "end_time": "2023-11-29T04:59:53.670475Z",
     "start_time": "2023-11-29T04:59:53.666855Z"
    }
   },
   "outputs": [],
   "source": [
    "_, filename = os.path.split('C:/Users/huis9/Downloads/MyLinkedList.pptx')"
   ]
  },
  {
   "cell_type": "code",
   "execution_count": 51,
   "id": "258aa837",
   "metadata": {
    "ExecuteTime": {
     "end_time": "2023-11-29T04:59:57.850568Z",
     "start_time": "2023-11-29T04:59:57.846879Z"
    }
   },
   "outputs": [
    {
     "data": {
      "text/plain": [
       "'MyLinkedList.pptx'"
      ]
     },
     "execution_count": 51,
     "metadata": {},
     "output_type": "execute_result"
    }
   ],
   "source": [
    "filename"
   ]
  },
  {
   "cell_type": "code",
   "execution_count": 52,
   "id": "5ee5519b",
   "metadata": {
    "ExecuteTime": {
     "end_time": "2023-11-29T05:01:44.496238Z",
     "start_time": "2023-11-29T05:01:44.488479Z"
    }
   },
   "outputs": [],
   "source": [
    "#초과 항목을 잡기 위해 * 사용"
   ]
  },
  {
   "cell_type": "code",
   "execution_count": 53,
   "id": "c0677579",
   "metadata": {
    "ExecuteTime": {
     "end_time": "2023-11-29T05:02:03.284818Z",
     "start_time": "2023-11-29T05:02:03.281833Z"
    }
   },
   "outputs": [],
   "source": [
    "a,b,*rest = range(5)"
   ]
  },
  {
   "cell_type": "code",
   "execution_count": 54,
   "id": "88a0002c",
   "metadata": {
    "ExecuteTime": {
     "end_time": "2023-11-29T05:02:06.273849Z",
     "start_time": "2023-11-29T05:02:06.270782Z"
    }
   },
   "outputs": [
    {
     "data": {
      "text/plain": [
       "(0, 1, [2, 3, 4])"
      ]
     },
     "execution_count": 54,
     "metadata": {},
     "output_type": "execute_result"
    }
   ],
   "source": [
    "a,b,rest"
   ]
  },
  {
   "cell_type": "code",
   "execution_count": 55,
   "id": "300cc8c0",
   "metadata": {
    "ExecuteTime": {
     "end_time": "2023-11-29T05:02:19.797575Z",
     "start_time": "2023-11-29T05:02:19.793944Z"
    }
   },
   "outputs": [],
   "source": [
    "a,b,*rest = range(3)"
   ]
  },
  {
   "cell_type": "code",
   "execution_count": 56,
   "id": "16601b45",
   "metadata": {
    "ExecuteTime": {
     "end_time": "2023-11-29T05:02:22.993121Z",
     "start_time": "2023-11-29T05:02:22.990180Z"
    }
   },
   "outputs": [
    {
     "data": {
      "text/plain": [
       "(0, 1, [2])"
      ]
     },
     "execution_count": 56,
     "metadata": {},
     "output_type": "execute_result"
    }
   ],
   "source": [
    "a,b,rest"
   ]
  },
  {
   "cell_type": "code",
   "execution_count": 57,
   "id": "41fb9ea8",
   "metadata": {
    "ExecuteTime": {
     "end_time": "2023-11-29T05:02:39.800339Z",
     "start_time": "2023-11-29T05:02:39.797990Z"
    }
   },
   "outputs": [],
   "source": [
    "a,b,*rest = range(2)"
   ]
  },
  {
   "cell_type": "code",
   "execution_count": 58,
   "id": "d02be8b4",
   "metadata": {
    "ExecuteTime": {
     "end_time": "2023-11-29T05:02:44.200770Z",
     "start_time": "2023-11-29T05:02:44.195447Z"
    }
   },
   "outputs": [
    {
     "data": {
      "text/plain": [
       "(0, 1, [])"
      ]
     },
     "execution_count": 58,
     "metadata": {},
     "output_type": "execute_result"
    }
   ],
   "source": [
    "a,b,rest"
   ]
  },
  {
   "cell_type": "code",
   "execution_count": null,
   "id": "ea93f034",
   "metadata": {},
   "outputs": [],
   "source": []
  },
  {
   "cell_type": "markdown",
   "id": "1b30de7a",
   "metadata": {},
   "source": [
    "### 예제2-8"
   ]
  },
  {
   "cell_type": "code",
   "execution_count": 59,
   "id": "031638b9",
   "metadata": {
    "ExecuteTime": {
     "end_time": "2023-11-29T05:05:28.237857Z",
     "start_time": "2023-11-29T05:05:28.232541Z"
    }
   },
   "outputs": [
    {
     "name": "stdout",
     "output_type": "stream",
     "text": [
      "                |   lat.    |   long.  \n",
      "Mexico City     |   19.4333 |  -99.1333\n",
      "New York-Newark |   40.8086 |  -74.0204\n",
      "Sao Paulo       |  -23.5478 |  -46.6358\n"
     ]
    }
   ],
   "source": [
    "metro_areas = [\n",
    "    ('Tokyo', 'JP', 36.933, (35.689722, 139.691667)),  # <1>\n",
    "    ('Delhi NCR', 'IN', 21.935, (28.613889, 77.208889)),\n",
    "    ('Mexico City', 'MX', 20.142, (19.433333, -99.133333)),\n",
    "    ('New York-Newark', 'US', 20.104, (40.808611, -74.020386)),\n",
    "    ('Sao Paulo', 'BR', 19.649, (-23.547778, -46.635833)),\n",
    "]\n",
    "\n",
    "print('{:15} | {:^9} | {:^9}'.format('', 'lat.', 'long.'))\n",
    "fmt = '{:15} | {:9.4f} | {:9.4f}'\n",
    "for name, cc, pop, (latitude, longitude) in metro_areas:  # <2>\n",
    "    if longitude <= 0:  # <3>\n",
    "        print(fmt.format(name, latitude, longitude))"
   ]
  },
  {
   "cell_type": "code",
   "execution_count": null,
   "id": "d85ee996",
   "metadata": {},
   "outputs": [],
   "source": []
  },
  {
   "cell_type": "markdown",
   "id": "32b85f29",
   "metadata": {},
   "source": [
    "## 2.3.4 명명된 튜플"
   ]
  },
  {
   "cell_type": "markdown",
   "id": "1da87797",
   "metadata": {},
   "source": [
    "### 예제2-9"
   ]
  },
  {
   "cell_type": "code",
   "execution_count": 60,
   "id": "c035f959",
   "metadata": {
    "ExecuteTime": {
     "end_time": "2023-11-29T05:07:49.533281Z",
     "start_time": "2023-11-29T05:07:49.530194Z"
    }
   },
   "outputs": [],
   "source": [
    "from collections import namedtuple"
   ]
  },
  {
   "cell_type": "code",
   "execution_count": 69,
   "id": "df0e8b78",
   "metadata": {
    "ExecuteTime": {
     "end_time": "2023-11-29T05:10:44.834952Z",
     "start_time": "2023-11-29T05:10:44.831717Z"
    }
   },
   "outputs": [],
   "source": [
    "City = namedtuple('City','name country population coordinates')\n",
    "# 명명된 튜플을 정의하려면 클래스명과 필드명의 리스트 등 총 2개의 매개변수가 필요.\n",
    "# 필드명의 리스트는 반복형 문자열이나 공백으로 구분된 하나의 문자열을 이용해서 지정한다."
   ]
  },
  {
   "cell_type": "code",
   "execution_count": 62,
   "id": "ccfbf19b",
   "metadata": {
    "ExecuteTime": {
     "end_time": "2023-11-29T05:08:55.650713Z",
     "start_time": "2023-11-29T05:08:55.647136Z"
    }
   },
   "outputs": [],
   "source": [
    "tokyo = City('Tokyo','JP', 36.933, (35.689722, 139.691667))\n",
    "# 데이터는 위치를 맞추고 콤마로 구분해서 생성자에 전달해야 한다."
   ]
  },
  {
   "cell_type": "code",
   "execution_count": 63,
   "id": "cf06dda3",
   "metadata": {
    "ExecuteTime": {
     "end_time": "2023-11-29T05:09:00.934896Z",
     "start_time": "2023-11-29T05:09:00.928924Z"
    }
   },
   "outputs": [
    {
     "data": {
      "text/plain": [
       "City(name='Tokyo', country='JP', population=36.933, coordinates=(35.689722, 139.691667))"
      ]
     },
     "execution_count": 63,
     "metadata": {},
     "output_type": "execute_result"
    }
   ],
   "source": [
    "tokyo"
   ]
  },
  {
   "cell_type": "code",
   "execution_count": 64,
   "id": "b384e8ce",
   "metadata": {
    "ExecuteTime": {
     "end_time": "2023-11-29T05:09:11.205286Z",
     "start_time": "2023-11-29T05:09:11.200861Z"
    }
   },
   "outputs": [
    {
     "data": {
      "text/plain": [
       "36.933"
      ]
     },
     "execution_count": 64,
     "metadata": {},
     "output_type": "execute_result"
    }
   ],
   "source": [
    "tokyo.population #필드명이나 위치를 이용해서 필드에 접근할수 있다."
   ]
  },
  {
   "cell_type": "code",
   "execution_count": 65,
   "id": "1613b115",
   "metadata": {
    "ExecuteTime": {
     "end_time": "2023-11-29T05:09:15.228571Z",
     "start_time": "2023-11-29T05:09:15.224551Z"
    }
   },
   "outputs": [
    {
     "data": {
      "text/plain": [
       "(35.689722, 139.691667)"
      ]
     },
     "execution_count": 65,
     "metadata": {},
     "output_type": "execute_result"
    }
   ],
   "source": [
    "tokyo.coordinates"
   ]
  },
  {
   "cell_type": "code",
   "execution_count": 68,
   "id": "04b000a9",
   "metadata": {
    "ExecuteTime": {
     "end_time": "2023-11-29T05:09:44.846650Z",
     "start_time": "2023-11-29T05:09:44.841655Z"
    }
   },
   "outputs": [
    {
     "data": {
      "text/plain": [
       "'JP'"
      ]
     },
     "execution_count": 68,
     "metadata": {},
     "output_type": "execute_result"
    }
   ],
   "source": [
    "tokyo[1]"
   ]
  },
  {
   "cell_type": "markdown",
   "id": "edf4561e",
   "metadata": {},
   "source": [
    "### 예제2-10"
   ]
  },
  {
   "cell_type": "code",
   "execution_count": 70,
   "id": "0f3700d8",
   "metadata": {
    "ExecuteTime": {
     "end_time": "2023-11-29T05:12:31.639004Z",
     "start_time": "2023-11-29T05:12:31.636071Z"
    }
   },
   "outputs": [
    {
     "data": {
      "text/plain": [
       "('name', 'country', 'population', 'coordinates')"
      ]
     },
     "execution_count": 70,
     "metadata": {},
     "output_type": "execute_result"
    }
   ],
   "source": [
    "City._fields\n",
    "# _fields는 클래스의 필드명을 담고있는 튜플이다."
   ]
  },
  {
   "cell_type": "code",
   "execution_count": 71,
   "id": "4c465367",
   "metadata": {
    "ExecuteTime": {
     "end_time": "2023-11-29T05:12:59.839500Z",
     "start_time": "2023-11-29T05:12:59.836864Z"
    }
   },
   "outputs": [],
   "source": [
    "LatLong = namedtuple('LatLong','lat long')"
   ]
  },
  {
   "cell_type": "code",
   "execution_count": 72,
   "id": "8402dfe4",
   "metadata": {
    "ExecuteTime": {
     "end_time": "2023-11-29T05:13:51.472950Z",
     "start_time": "2023-11-29T05:13:51.470504Z"
    }
   },
   "outputs": [],
   "source": [
    "delhi_data = ('Delhi NCR','IN','21.935',LatLong(28.613889, 77.208889))"
   ]
  },
  {
   "cell_type": "code",
   "execution_count": 73,
   "id": "40c7d9ff",
   "metadata": {
    "ExecuteTime": {
     "end_time": "2023-11-29T05:14:11.419185Z",
     "start_time": "2023-11-29T05:14:11.416017Z"
    }
   },
   "outputs": [],
   "source": [
    "delhi= City._make(delhi_data)\n",
    "# _make()는 반복형 객체로부터 명명된 튜플을 만든다.\n",
    "# City(*delhi_data)를 호출하는 코드와 동일한 역할을 수행한다."
   ]
  },
  {
   "cell_type": "code",
   "execution_count": 74,
   "id": "5ba77e9d",
   "metadata": {
    "ExecuteTime": {
     "end_time": "2023-11-29T05:14:25.573184Z",
     "start_time": "2023-11-29T05:14:25.568706Z"
    }
   },
   "outputs": [
    {
     "data": {
      "text/plain": [
       "{'name': 'Delhi NCR',\n",
       " 'country': 'IN',\n",
       " 'population': '21.935',\n",
       " 'coordinates': LatLong(lat=28.613889, long=77.208889)}"
      ]
     },
     "execution_count": 74,
     "metadata": {},
     "output_type": "execute_result"
    }
   ],
   "source": [
    "delhi._asdict()\n",
    "# _asdict()는 명명된 튜플 객체에서 만들어진 collections.OrderedDict 객체를 반환한다.\n",
    "# 이 메서드를 이용하면 데이터를 멋지게 출력할 수 있다."
   ]
  },
  {
   "cell_type": "code",
   "execution_count": 75,
   "id": "5ab45df2",
   "metadata": {
    "ExecuteTime": {
     "end_time": "2023-11-29T05:15:08.652915Z",
     "start_time": "2023-11-29T05:15:08.649045Z"
    }
   },
   "outputs": [
    {
     "name": "stdout",
     "output_type": "stream",
     "text": [
      "name: Delhi NCR\n",
      "country: IN\n",
      "population: 21.935\n",
      "coordinates: LatLong(lat=28.613889, long=77.208889)\n"
     ]
    }
   ],
   "source": [
    "for key, value in delhi._asdict().items():\n",
    "    print(key+':',value)"
   ]
  },
  {
   "cell_type": "markdown",
   "id": "79bcc1cd",
   "metadata": {},
   "source": [
    "## 2.3.5 불변 리스트로서의 튜플"
   ]
  },
  {
   "cell_type": "code",
   "execution_count": null,
   "id": "277c8bfe",
   "metadata": {},
   "outputs": [],
   "source": []
  },
  {
   "cell_type": "code",
   "execution_count": null,
   "id": "d1da9945",
   "metadata": {},
   "outputs": [],
   "source": []
  },
  {
   "cell_type": "markdown",
   "id": "0fabc0ca",
   "metadata": {},
   "source": [
    "## 2.4 슬라이싱"
   ]
  },
  {
   "cell_type": "markdown",
   "id": "29bee219",
   "metadata": {},
   "source": [
    "### 예제 2-11"
   ]
  },
  {
   "cell_type": "code",
   "execution_count": 106,
   "id": "4a154511",
   "metadata": {
    "ExecuteTime": {
     "end_time": "2023-11-29T05:32:29.660254Z",
     "start_time": "2023-11-29T05:32:29.657337Z"
    }
   },
   "outputs": [],
   "source": [
    "invoice = \"\"\"\n",
    "0.....6..................................40............52...55........\n",
    "1909  Pimoroni PiBrella                      $17.50        3    $ 52.50\n",
    "1489  6mm Tactile Switch x20                 $4.95         2    $ 9.90\n",
    "1510  Panavise Jr. - PV-201                  $28.00        1    $ 28.00\n",
    "1601  PiTFT Mini Kit 320x240                 $34.95        1    $ 34.95\n",
    "\"\"\""
   ]
  },
  {
   "cell_type": "code",
   "execution_count": 107,
   "id": "2ff31404",
   "metadata": {
    "ExecuteTime": {
     "end_time": "2023-11-29T05:32:29.792168Z",
     "start_time": "2023-11-29T05:32:29.786045Z"
    }
   },
   "outputs": [],
   "source": [
    "SKU= slice(0,6)"
   ]
  },
  {
   "cell_type": "code",
   "execution_count": 108,
   "id": "818d1206",
   "metadata": {
    "ExecuteTime": {
     "end_time": "2023-11-29T05:32:29.917248Z",
     "start_time": "2023-11-29T05:32:29.914966Z"
    }
   },
   "outputs": [],
   "source": [
    "DESCRIPTION =slice(6,40)"
   ]
  },
  {
   "cell_type": "code",
   "execution_count": 109,
   "id": "1dfd51cf",
   "metadata": {
    "ExecuteTime": {
     "end_time": "2023-11-29T05:32:30.044119Z",
     "start_time": "2023-11-29T05:32:30.040639Z"
    }
   },
   "outputs": [],
   "source": [
    "UNIT_PRICE = slice(40,52)"
   ]
  },
  {
   "cell_type": "code",
   "execution_count": 110,
   "id": "da2e1083",
   "metadata": {
    "ExecuteTime": {
     "end_time": "2023-11-29T05:32:30.150655Z",
     "start_time": "2023-11-29T05:32:30.148101Z"
    }
   },
   "outputs": [],
   "source": [
    "QUANTITY=slice(52,55)"
   ]
  },
  {
   "cell_type": "code",
   "execution_count": 111,
   "id": "81be41bc",
   "metadata": {
    "ExecuteTime": {
     "end_time": "2023-11-29T05:32:30.359584Z",
     "start_time": "2023-11-29T05:32:30.347882Z"
    }
   },
   "outputs": [],
   "source": [
    "Item_TOTAL = slice(55,None)"
   ]
  },
  {
   "cell_type": "code",
   "execution_count": 112,
   "id": "0fe39a0a",
   "metadata": {
    "ExecuteTime": {
     "end_time": "2023-11-29T05:32:30.496441Z",
     "start_time": "2023-11-29T05:32:30.481287Z"
    }
   },
   "outputs": [],
   "source": [
    "line_items = invoice.split('\\n')[2:]"
   ]
  },
  {
   "cell_type": "code",
   "execution_count": 113,
   "id": "a993129a",
   "metadata": {
    "ExecuteTime": {
     "end_time": "2023-11-29T05:32:30.772944Z",
     "start_time": "2023-11-29T05:32:30.765035Z"
    }
   },
   "outputs": [
    {
     "name": "stdout",
     "output_type": "stream",
     "text": [
      "     $17.50  Pimoroni PiBrella                 \n",
      "     $4.95   6mm Tactile Switch x20            \n",
      "     $28.00  Panavise Jr. - PV-201             \n",
      "     $34.95  PiTFT Mini Kit 320x240            \n",
      " \n"
     ]
    }
   ],
   "source": [
    "for item in line_items:\n",
    "    print(item[UNIT_PRICE], item[DESCRIPTION])"
   ]
  },
  {
   "cell_type": "code",
   "execution_count": null,
   "id": "357e9c73",
   "metadata": {},
   "outputs": [],
   "source": []
  },
  {
   "cell_type": "markdown",
   "id": "7237f9f5",
   "metadata": {},
   "source": [
    "### 2.4.4 슬라이스에 할당하기"
   ]
  },
  {
   "cell_type": "code",
   "execution_count": 114,
   "id": "78a3d104",
   "metadata": {
    "ExecuteTime": {
     "end_time": "2023-11-29T05:35:18.614210Z",
     "start_time": "2023-11-29T05:35:18.610818Z"
    }
   },
   "outputs": [],
   "source": [
    "l = list(range(10))"
   ]
  },
  {
   "cell_type": "code",
   "execution_count": 115,
   "id": "d3550b81",
   "metadata": {
    "ExecuteTime": {
     "end_time": "2023-11-29T05:47:45.100534Z",
     "start_time": "2023-11-29T05:47:45.096839Z"
    }
   },
   "outputs": [
    {
     "data": {
      "text/plain": [
       "[0, 1, 2, 3, 4, 5, 6, 7, 8, 9]"
      ]
     },
     "execution_count": 115,
     "metadata": {},
     "output_type": "execute_result"
    }
   ],
   "source": [
    "l"
   ]
  },
  {
   "cell_type": "code",
   "execution_count": 116,
   "id": "7300c368",
   "metadata": {
    "ExecuteTime": {
     "end_time": "2023-11-29T05:47:56.819984Z",
     "start_time": "2023-11-29T05:47:56.815868Z"
    }
   },
   "outputs": [],
   "source": [
    "l[2:5]=[20,30]"
   ]
  },
  {
   "cell_type": "code",
   "execution_count": 117,
   "id": "3a9cfa9a",
   "metadata": {
    "ExecuteTime": {
     "end_time": "2023-11-29T05:48:05.052645Z",
     "start_time": "2023-11-29T05:48:05.047685Z"
    }
   },
   "outputs": [
    {
     "data": {
      "text/plain": [
       "[0, 1, 20, 30, 5, 6, 7, 8, 9]"
      ]
     },
     "execution_count": 117,
     "metadata": {},
     "output_type": "execute_result"
    }
   ],
   "source": [
    "l"
   ]
  },
  {
   "cell_type": "code",
   "execution_count": 118,
   "id": "ee98b988",
   "metadata": {
    "ExecuteTime": {
     "end_time": "2023-11-29T05:48:17.045597Z",
     "start_time": "2023-11-29T05:48:17.042862Z"
    }
   },
   "outputs": [],
   "source": [
    "del l[5:7]"
   ]
  },
  {
   "cell_type": "code",
   "execution_count": 119,
   "id": "498d2337",
   "metadata": {
    "ExecuteTime": {
     "end_time": "2023-11-29T05:48:19.861143Z",
     "start_time": "2023-11-29T05:48:19.855645Z"
    }
   },
   "outputs": [
    {
     "data": {
      "text/plain": [
       "[0, 1, 20, 30, 5, 8, 9]"
      ]
     },
     "execution_count": 119,
     "metadata": {},
     "output_type": "execute_result"
    }
   ],
   "source": [
    "l"
   ]
  },
  {
   "cell_type": "code",
   "execution_count": 120,
   "id": "5a81b8e7",
   "metadata": {
    "ExecuteTime": {
     "end_time": "2023-11-29T05:49:19.258639Z",
     "start_time": "2023-11-29T05:49:19.255681Z"
    }
   },
   "outputs": [],
   "source": [
    "l[3::2] = [11,22]"
   ]
  },
  {
   "cell_type": "code",
   "execution_count": 121,
   "id": "67e61432",
   "metadata": {
    "ExecuteTime": {
     "end_time": "2023-11-29T05:49:22.578887Z",
     "start_time": "2023-11-29T05:49:22.575114Z"
    }
   },
   "outputs": [
    {
     "data": {
      "text/plain": [
       "[0, 1, 20, 11, 5, 22, 9]"
      ]
     },
     "execution_count": 121,
     "metadata": {},
     "output_type": "execute_result"
    }
   ],
   "source": [
    "l"
   ]
  },
  {
   "cell_type": "code",
   "execution_count": 123,
   "id": "ed33b137",
   "metadata": {
    "ExecuteTime": {
     "end_time": "2023-11-29T05:49:47.190000Z",
     "start_time": "2023-11-29T05:49:47.177248Z"
    }
   },
   "outputs": [
    {
     "ename": "TypeError",
     "evalue": "can only assign an iterable",
     "output_type": "error",
     "traceback": [
      "\u001b[1;31m---------------------------------------------------------------------------\u001b[0m",
      "\u001b[1;31mTypeError\u001b[0m                                 Traceback (most recent call last)",
      "Cell \u001b[1;32mIn[123], line 1\u001b[0m\n\u001b[1;32m----> 1\u001b[0m l[\u001b[38;5;241m2\u001b[39m:\u001b[38;5;241m5\u001b[39m] \u001b[38;5;241m=\u001b[39m \u001b[38;5;241m100\u001b[39m\n",
      "\u001b[1;31mTypeError\u001b[0m: can only assign an iterable"
     ]
    }
   ],
   "source": [
    "l[2:5] = 100  # 에러"
   ]
  },
  {
   "cell_type": "code",
   "execution_count": 124,
   "id": "bbd7b462",
   "metadata": {
    "ExecuteTime": {
     "end_time": "2023-11-29T05:50:52.809082Z",
     "start_time": "2023-11-29T05:50:52.806631Z"
    }
   },
   "outputs": [],
   "source": [
    "l[2:5] = [100]"
   ]
  },
  {
   "cell_type": "code",
   "execution_count": 126,
   "id": "bb211a53",
   "metadata": {
    "ExecuteTime": {
     "end_time": "2023-11-29T05:50:58.274914Z",
     "start_time": "2023-11-29T05:50:58.270794Z"
    }
   },
   "outputs": [
    {
     "data": {
      "text/plain": [
       "[0, 1, 100, 22, 9]"
      ]
     },
     "execution_count": 126,
     "metadata": {},
     "output_type": "execute_result"
    }
   ],
   "source": [
    "l"
   ]
  },
  {
   "cell_type": "markdown",
   "id": "60f8da82",
   "metadata": {},
   "source": [
    "## 2.5 시퀀스에 덧셈과 곱셈 연산자 사용하기"
   ]
  },
  {
   "cell_type": "code",
   "execution_count": 127,
   "id": "d5515c15",
   "metadata": {
    "ExecuteTime": {
     "end_time": "2023-11-29T05:52:31.574802Z",
     "start_time": "2023-11-29T05:52:31.572033Z"
    }
   },
   "outputs": [],
   "source": [
    "l=[1,2,3]"
   ]
  },
  {
   "cell_type": "code",
   "execution_count": 128,
   "id": "dee083ee",
   "metadata": {
    "ExecuteTime": {
     "end_time": "2023-11-29T05:52:35.116420Z",
     "start_time": "2023-11-29T05:52:35.112919Z"
    }
   },
   "outputs": [
    {
     "data": {
      "text/plain": [
       "[1, 2, 3, 1, 2, 3, 1, 2, 3, 1, 2, 3, 1, 2, 3]"
      ]
     },
     "execution_count": 128,
     "metadata": {},
     "output_type": "execute_result"
    }
   ],
   "source": [
    "l*5"
   ]
  },
  {
   "cell_type": "code",
   "execution_count": 129,
   "id": "800e0b30",
   "metadata": {
    "ExecuteTime": {
     "end_time": "2023-11-29T05:52:40.137533Z",
     "start_time": "2023-11-29T05:52:40.133473Z"
    }
   },
   "outputs": [
    {
     "data": {
      "text/plain": [
       "'abcdabcdabcdabcdabcd'"
      ]
     },
     "execution_count": 129,
     "metadata": {},
     "output_type": "execute_result"
    }
   ],
   "source": [
    "5*'abcd'"
   ]
  },
  {
   "cell_type": "code",
   "execution_count": null,
   "id": "36d52151",
   "metadata": {},
   "outputs": [],
   "source": []
  },
  {
   "cell_type": "markdown",
   "id": "c3b2198b",
   "metadata": {},
   "source": [
    "### 2.5.1 리스트의 리스트 만들기"
   ]
  },
  {
   "cell_type": "markdown",
   "id": "82ff0946",
   "metadata": {},
   "source": [
    "#### 예제2-12"
   ]
  },
  {
   "cell_type": "code",
   "execution_count": 130,
   "id": "be6efabf",
   "metadata": {
    "ExecuteTime": {
     "end_time": "2023-11-29T05:55:20.401735Z",
     "start_time": "2023-11-29T05:55:20.398206Z"
    }
   },
   "outputs": [],
   "source": [
    "board = [['_']*3 for i in range(3)]"
   ]
  },
  {
   "cell_type": "code",
   "execution_count": 131,
   "id": "f47c48f0",
   "metadata": {
    "ExecuteTime": {
     "end_time": "2023-11-29T05:55:26.754837Z",
     "start_time": "2023-11-29T05:55:26.748968Z"
    }
   },
   "outputs": [
    {
     "data": {
      "text/plain": [
       "[['_', '_', '_'], ['_', '_', '_'], ['_', '_', '_']]"
      ]
     },
     "execution_count": 131,
     "metadata": {},
     "output_type": "execute_result"
    }
   ],
   "source": [
    "board"
   ]
  },
  {
   "cell_type": "code",
   "execution_count": 132,
   "id": "c476ea1b",
   "metadata": {
    "ExecuteTime": {
     "end_time": "2023-11-29T05:55:38.260738Z",
     "start_time": "2023-11-29T05:55:38.257369Z"
    }
   },
   "outputs": [],
   "source": [
    "board[1][2]='X'"
   ]
  },
  {
   "cell_type": "code",
   "execution_count": 133,
   "id": "05878ef0",
   "metadata": {
    "ExecuteTime": {
     "end_time": "2023-11-29T05:55:43.305883Z",
     "start_time": "2023-11-29T05:55:43.301901Z"
    }
   },
   "outputs": [
    {
     "data": {
      "text/plain": [
       "[['_', '_', '_'], ['_', '_', 'X'], ['_', '_', '_']]"
      ]
     },
     "execution_count": 133,
     "metadata": {},
     "output_type": "execute_result"
    }
   ],
   "source": [
    "board"
   ]
  },
  {
   "cell_type": "code",
   "execution_count": null,
   "id": "5862de83",
   "metadata": {},
   "outputs": [],
   "source": []
  },
  {
   "cell_type": "markdown",
   "id": "09fc8641",
   "metadata": {},
   "source": [
    "#### 예제2-13  동일한 리스트에 세 개의 참조를 가진 리스트는 쓸모없다."
   ]
  },
  {
   "cell_type": "code",
   "execution_count": 134,
   "id": "cc278da2",
   "metadata": {
    "ExecuteTime": {
     "end_time": "2023-11-29T05:57:40.705476Z",
     "start_time": "2023-11-29T05:57:40.702180Z"
    }
   },
   "outputs": [],
   "source": [
    "weird_board = [['_']*3]*3   "
   ]
  },
  {
   "cell_type": "code",
   "execution_count": 135,
   "id": "a1a50da1",
   "metadata": {
    "ExecuteTime": {
     "end_time": "2023-11-29T05:57:42.882001Z",
     "start_time": "2023-11-29T05:57:42.877563Z"
    }
   },
   "outputs": [
    {
     "data": {
      "text/plain": [
       "[['_', '_', '_'], ['_', '_', '_'], ['_', '_', '_']]"
      ]
     },
     "execution_count": 135,
     "metadata": {},
     "output_type": "execute_result"
    }
   ],
   "source": [
    "weird_board"
   ]
  },
  {
   "cell_type": "code",
   "execution_count": 136,
   "id": "394c3e5d",
   "metadata": {
    "ExecuteTime": {
     "end_time": "2023-11-29T05:58:28.760251Z",
     "start_time": "2023-11-29T05:58:28.757646Z"
    }
   },
   "outputs": [],
   "source": [
    "weird_board[1][2]='0'"
   ]
  },
  {
   "cell_type": "code",
   "execution_count": 137,
   "id": "c50c99fb",
   "metadata": {
    "ExecuteTime": {
     "end_time": "2023-11-29T05:58:31.219727Z",
     "start_time": "2023-11-29T05:58:31.216382Z"
    }
   },
   "outputs": [
    {
     "data": {
      "text/plain": [
       "[['_', '_', '0'], ['_', '_', '0'], ['_', '_', '0']]"
      ]
     },
     "execution_count": 137,
     "metadata": {},
     "output_type": "execute_result"
    }
   ],
   "source": [
    "weird_board  #세 개의 행이 모두 동일한 객체를 참조 "
   ]
  },
  {
   "cell_type": "code",
   "execution_count": null,
   "id": "f94cac40",
   "metadata": {},
   "outputs": [],
   "source": [
    "# 예제 2-13 의 코드는 본질적으로 다음과 같이 작동한다."
   ]
  },
  {
   "cell_type": "code",
   "execution_count": 138,
   "id": "3219300e",
   "metadata": {
    "ExecuteTime": {
     "end_time": "2023-11-29T06:00:09.597232Z",
     "start_time": "2023-11-29T06:00:09.594503Z"
    }
   },
   "outputs": [],
   "source": [
    "row = ['_']*3\n",
    "board = []\n",
    "for i in range(3):\n",
    "    board.range(row)"
   ]
  },
  {
   "cell_type": "code",
   "execution_count": null,
   "id": "53b5f898",
   "metadata": {
    "ExecuteTime": {
     "end_time": "2023-11-29T06:00:16.779361Z",
     "start_time": "2023-11-29T06:00:16.776468Z"
    }
   },
   "outputs": [],
   "source": [
    "#한편 예제 2-12 의 지능형 리스트는 다음 코드와 같이 동작한다."
   ]
  },
  {
   "cell_type": "code",
   "execution_count": 141,
   "id": "c543de6f",
   "metadata": {
    "ExecuteTime": {
     "end_time": "2023-11-29T06:01:26.439706Z",
     "start_time": "2023-11-29T06:01:26.437100Z"
    }
   },
   "outputs": [],
   "source": [
    "board = []"
   ]
  },
  {
   "cell_type": "code",
   "execution_count": 143,
   "id": "826cbe25",
   "metadata": {
    "ExecuteTime": {
     "end_time": "2023-11-29T06:01:50.120279Z",
     "start_time": "2023-11-29T06:01:50.116486Z"
    }
   },
   "outputs": [],
   "source": [
    "for i in range(3):\n",
    "    row=['_']*3\n",
    "    board.append(row)"
   ]
  },
  {
   "cell_type": "code",
   "execution_count": 144,
   "id": "38e583f0",
   "metadata": {
    "ExecuteTime": {
     "end_time": "2023-11-29T06:01:52.537134Z",
     "start_time": "2023-11-29T06:01:52.532908Z"
    }
   },
   "outputs": [
    {
     "data": {
      "text/plain": [
       "[['_', '_', '_'], ['_', '_', '_'], ['_', '_', '_']]"
      ]
     },
     "execution_count": 144,
     "metadata": {},
     "output_type": "execute_result"
    }
   ],
   "source": [
    "board"
   ]
  },
  {
   "cell_type": "code",
   "execution_count": 145,
   "id": "d1e928ed",
   "metadata": {
    "ExecuteTime": {
     "end_time": "2023-11-29T06:02:03.636149Z",
     "start_time": "2023-11-29T06:02:03.633205Z"
    }
   },
   "outputs": [],
   "source": [
    "board[2][0]='X'"
   ]
  },
  {
   "cell_type": "code",
   "execution_count": 146,
   "id": "db23db32",
   "metadata": {
    "ExecuteTime": {
     "end_time": "2023-11-29T06:02:06.801064Z",
     "start_time": "2023-11-29T06:02:06.796599Z"
    }
   },
   "outputs": [
    {
     "data": {
      "text/plain": [
       "[['_', '_', '_'], ['_', '_', '_'], ['X', '_', '_']]"
      ]
     },
     "execution_count": 146,
     "metadata": {},
     "output_type": "execute_result"
    }
   ],
   "source": [
    "board"
   ]
  },
  {
   "cell_type": "code",
   "execution_count": null,
   "id": "02feb0e9",
   "metadata": {},
   "outputs": [],
   "source": []
  },
  {
   "cell_type": "code",
   "execution_count": null,
   "id": "8f841868",
   "metadata": {},
   "outputs": [],
   "source": [
    "#   *=연산자를 가변 시퀀스와 불변 시퀀스에 적용한 예는 다음과 같다."
   ]
  },
  {
   "cell_type": "code",
   "execution_count": 147,
   "id": "e3f59a25",
   "metadata": {
    "ExecuteTime": {
     "end_time": "2023-11-29T07:07:38.790793Z",
     "start_time": "2023-11-29T07:07:38.788525Z"
    }
   },
   "outputs": [],
   "source": [
    "l=[1,2,3]"
   ]
  },
  {
   "cell_type": "code",
   "execution_count": 148,
   "id": "cc80a691",
   "metadata": {
    "ExecuteTime": {
     "end_time": "2023-11-29T07:07:46.988766Z",
     "start_time": "2023-11-29T07:07:46.984054Z"
    }
   },
   "outputs": [
    {
     "data": {
      "text/plain": [
       "2462585493568"
      ]
     },
     "execution_count": 148,
     "metadata": {},
     "output_type": "execute_result"
    }
   ],
   "source": [
    "id(l) # 값은 초기 리스트의 id"
   ]
  },
  {
   "cell_type": "code",
   "execution_count": 149,
   "id": "ad814a98",
   "metadata": {
    "ExecuteTime": {
     "end_time": "2023-11-29T07:07:54.382154Z",
     "start_time": "2023-11-29T07:07:54.374793Z"
    }
   },
   "outputs": [],
   "source": [
    "l *=2"
   ]
  },
  {
   "cell_type": "code",
   "execution_count": 150,
   "id": "22564fcf",
   "metadata": {
    "ExecuteTime": {
     "end_time": "2023-11-29T07:07:57.188719Z",
     "start_time": "2023-11-29T07:07:57.183908Z"
    }
   },
   "outputs": [
    {
     "data": {
      "text/plain": [
       "[1, 2, 3, 1, 2, 3]"
      ]
     },
     "execution_count": 150,
     "metadata": {},
     "output_type": "execute_result"
    }
   ],
   "source": [
    "l "
   ]
  },
  {
   "cell_type": "code",
   "execution_count": 151,
   "id": "a607c0f1",
   "metadata": {
    "ExecuteTime": {
     "end_time": "2023-11-29T07:08:04.700460Z",
     "start_time": "2023-11-29T07:08:04.696004Z"
    }
   },
   "outputs": [
    {
     "data": {
      "text/plain": [
       "2462585493568"
      ]
     },
     "execution_count": 151,
     "metadata": {},
     "output_type": "execute_result"
    }
   ],
   "source": [
    "id(l)# 값은 곱셈 연산을 수행한후 새로운 항목이 추가된 리스트 객체는 기존 객체와 같은 객체다."
   ]
  },
  {
   "cell_type": "code",
   "execution_count": 152,
   "id": "7ae0fc57",
   "metadata": {
    "ExecuteTime": {
     "end_time": "2023-11-29T07:09:40.610431Z",
     "start_time": "2023-11-29T07:09:40.607813Z"
    }
   },
   "outputs": [],
   "source": [
    "t=(1,2,3)"
   ]
  },
  {
   "cell_type": "code",
   "execution_count": 153,
   "id": "eae9d933",
   "metadata": {
    "ExecuteTime": {
     "end_time": "2023-11-29T07:09:43.970971Z",
     "start_time": "2023-11-29T07:09:43.967167Z"
    }
   },
   "outputs": [
    {
     "data": {
      "text/plain": [
       "2462587461056"
      ]
     },
     "execution_count": 153,
     "metadata": {},
     "output_type": "execute_result"
    }
   ],
   "source": [
    "id(t) # 초기 튜플 객체의 ID"
   ]
  },
  {
   "cell_type": "code",
   "execution_count": 155,
   "id": "d968f05a",
   "metadata": {
    "ExecuteTime": {
     "end_time": "2023-11-29T07:10:02.284872Z",
     "start_time": "2023-11-29T07:10:02.281906Z"
    }
   },
   "outputs": [],
   "source": [
    "t *=2"
   ]
  },
  {
   "cell_type": "code",
   "execution_count": 156,
   "id": "66f9bd2a",
   "metadata": {
    "ExecuteTime": {
     "end_time": "2023-11-29T07:10:09.580687Z",
     "start_time": "2023-11-29T07:10:09.575810Z"
    }
   },
   "outputs": [
    {
     "data": {
      "text/plain": [
       "2462549292896"
      ]
     },
     "execution_count": 156,
     "metadata": {},
     "output_type": "execute_result"
    }
   ],
   "source": [
    "id(t)  # 곱셈 연산을 수행한 후 새로운 튜플 객체가 만들어졌다."
   ]
  },
  {
   "cell_type": "code",
   "execution_count": null,
   "id": "4c2aa8fb",
   "metadata": {},
   "outputs": [],
   "source": []
  },
  {
   "cell_type": "code",
   "execution_count": 157,
   "id": "e8b5625f",
   "metadata": {
    "ExecuteTime": {
     "end_time": "2023-11-29T07:18:39.617517Z",
     "start_time": "2023-11-29T07:18:39.614577Z"
    }
   },
   "outputs": [],
   "source": [
    "t=(1,2,[30,40])"
   ]
  },
  {
   "cell_type": "code",
   "execution_count": 158,
   "id": "d93d08a2",
   "metadata": {
    "ExecuteTime": {
     "end_time": "2023-11-29T07:18:49.271869Z",
     "start_time": "2023-11-29T07:18:49.260997Z"
    }
   },
   "outputs": [
    {
     "ename": "TypeError",
     "evalue": "'tuple' object does not support item assignment",
     "output_type": "error",
     "traceback": [
      "\u001b[1;31m---------------------------------------------------------------------------\u001b[0m",
      "\u001b[1;31mTypeError\u001b[0m                                 Traceback (most recent call last)",
      "Cell \u001b[1;32mIn[158], line 1\u001b[0m\n\u001b[1;32m----> 1\u001b[0m t[\u001b[38;5;241m2\u001b[39m] \u001b[38;5;241m+\u001b[39m\u001b[38;5;241m=\u001b[39m [\u001b[38;5;241m50\u001b[39m,\u001b[38;5;241m60\u001b[39m]\n",
      "\u001b[1;31mTypeError\u001b[0m: 'tuple' object does not support item assignment"
     ]
    }
   ],
   "source": [
    "t[2] += [50,60] # 에러났는데 이게 된다고?"
   ]
  },
  {
   "cell_type": "code",
   "execution_count": 159,
   "id": "7b2a298a",
   "metadata": {
    "ExecuteTime": {
     "end_time": "2023-11-29T07:18:52.333444Z",
     "start_time": "2023-11-29T07:18:52.330467Z"
    }
   },
   "outputs": [
    {
     "data": {
      "text/plain": [
       "(1, 2, [30, 40, 50, 60])"
      ]
     },
     "execution_count": 159,
     "metadata": {},
     "output_type": "execute_result"
    }
   ],
   "source": [
    "t"
   ]
  },
  {
   "cell_type": "code",
   "execution_count": null,
   "id": "9c7f1c94",
   "metadata": {},
   "outputs": [],
   "source": []
  },
  {
   "cell_type": "code",
   "execution_count": 160,
   "id": "97bf214b",
   "metadata": {
    "ExecuteTime": {
     "end_time": "2023-11-29T07:21:38.209975Z",
     "start_time": "2023-11-29T07:21:38.205982Z"
    }
   },
   "outputs": [],
   "source": [
    "import dis    # 여기 다시 해봐야함   inplae_add 없음 "
   ]
  },
  {
   "cell_type": "code",
   "execution_count": 161,
   "id": "f1292f70",
   "metadata": {
    "ExecuteTime": {
     "end_time": "2023-11-29T07:21:50.105971Z",
     "start_time": "2023-11-29T07:21:50.101078Z"
    }
   },
   "outputs": [
    {
     "name": "stdout",
     "output_type": "stream",
     "text": [
      "  0           0 RESUME                   0\n",
      "\n",
      "  1           2 LOAD_NAME                0 (s)\n",
      "              4 LOAD_NAME                1 (a)\n",
      "              6 COPY                     2\n",
      "              8 COPY                     2\n",
      "             10 BINARY_SUBSCR\n",
      "             20 LOAD_NAME                2 (b)\n",
      "             22 BINARY_OP               13 (+=)\n",
      "             26 SWAP                     3\n",
      "             28 SWAP                     2\n",
      "             30 STORE_SUBSCR\n",
      "             34 LOAD_CONST               0 (None)\n",
      "             36 RETURN_VALUE\n"
     ]
    }
   ],
   "source": [
    "dis.dis('s[a] += b')"
   ]
  },
  {
   "cell_type": "code",
   "execution_count": null,
   "id": "01ef82e1",
   "metadata": {},
   "outputs": [],
   "source": [
    "# 10번라인 BINARY_SUBSCR    s[a] 값을 스택의 꼭대기(TOS)에 놓는다."
   ]
  },
  {
   "cell_type": "code",
   "execution_count": null,
   "id": "4dcb147f",
   "metadata": {},
   "outputs": [],
   "source": []
  },
  {
   "cell_type": "markdown",
   "id": "c4c059a5",
   "metadata": {},
   "source": [
    "# 2.7 list.sort()와 sorted() 내장함수"
   ]
  },
  {
   "cell_type": "raw",
   "id": "03ad5115",
   "metadata": {},
   "source": [
    "list.sort() 메서드는 사본을 만들지 않고 리스트 내부를 변경해서 정렬한다.\n",
    "list.sorted() 내장함수는 새로운 리스트를 생성해서 반환한다.\n",
    "불변 시퀀스 및 제너레이터를 포함,반복가능한 모든객체를 인수로 받을수 있음 "
   ]
  },
  {
   "cell_type": "raw",
   "id": "521ced18",
   "metadata": {},
   "source": [
    "함수 및 메서드와 키워드 인수를 사용하는 방법을 알아보기 위해 다음 예제를 보자."
   ]
  },
  {
   "cell_type": "code",
   "execution_count": 162,
   "id": "29c138b2",
   "metadata": {
    "ExecuteTime": {
     "end_time": "2023-11-29T07:38:56.995336Z",
     "start_time": "2023-11-29T07:38:56.991984Z"
    }
   },
   "outputs": [],
   "source": [
    "fruits = ['grape','raspberry','apple','banana']"
   ]
  },
  {
   "cell_type": "code",
   "execution_count": 163,
   "id": "5c63c111",
   "metadata": {
    "ExecuteTime": {
     "end_time": "2023-11-29T07:39:02.715410Z",
     "start_time": "2023-11-29T07:39:02.711761Z"
    }
   },
   "outputs": [
    {
     "data": {
      "text/plain": [
       "['apple', 'banana', 'grape', 'raspberry']"
      ]
     },
     "execution_count": 163,
     "metadata": {},
     "output_type": "execute_result"
    }
   ],
   "source": [
    "sorted(fruits)"
   ]
  },
  {
   "cell_type": "code",
   "execution_count": 164,
   "id": "49e5a39c",
   "metadata": {
    "ExecuteTime": {
     "end_time": "2023-11-29T07:39:09.320812Z",
     "start_time": "2023-11-29T07:39:09.317672Z"
    }
   },
   "outputs": [
    {
     "data": {
      "text/plain": [
       "['grape', 'raspberry', 'apple', 'banana']"
      ]
     },
     "execution_count": 164,
     "metadata": {},
     "output_type": "execute_result"
    }
   ],
   "source": [
    "fruits"
   ]
  },
  {
   "cell_type": "code",
   "execution_count": 165,
   "id": "9969daa7",
   "metadata": {
    "ExecuteTime": {
     "end_time": "2023-11-29T07:40:18.949420Z",
     "start_time": "2023-11-29T07:40:18.946175Z"
    }
   },
   "outputs": [
    {
     "data": {
      "text/plain": [
       "['raspberry', 'grape', 'banana', 'apple']"
      ]
     },
     "execution_count": 165,
     "metadata": {},
     "output_type": "execute_result"
    }
   ],
   "source": [
    "sorted(fruits, reverse=True)"
   ]
  },
  {
   "cell_type": "code",
   "execution_count": 166,
   "id": "930dd50f",
   "metadata": {
    "ExecuteTime": {
     "end_time": "2023-11-29T07:40:30.716651Z",
     "start_time": "2023-11-29T07:40:30.712958Z"
    }
   },
   "outputs": [
    {
     "data": {
      "text/plain": [
       "['grape', 'apple', 'banana', 'raspberry']"
      ]
     },
     "execution_count": 166,
     "metadata": {},
     "output_type": "execute_result"
    }
   ],
   "source": [
    "sorted(fruits, key=len)"
   ]
  },
  {
   "cell_type": "code",
   "execution_count": 167,
   "id": "a3f6fa75",
   "metadata": {
    "ExecuteTime": {
     "end_time": "2023-11-29T07:40:46.549911Z",
     "start_time": "2023-11-29T07:40:46.532679Z"
    }
   },
   "outputs": [
    {
     "data": {
      "text/plain": [
       "['raspberry', 'banana', 'grape', 'apple']"
      ]
     },
     "execution_count": 167,
     "metadata": {},
     "output_type": "execute_result"
    }
   ],
   "source": [
    "sorted(fruits, key=len, reverse=True)"
   ]
  },
  {
   "cell_type": "code",
   "execution_count": 168,
   "id": "b100cb23",
   "metadata": {
    "ExecuteTime": {
     "end_time": "2023-11-29T07:40:52.397605Z",
     "start_time": "2023-11-29T07:40:52.392586Z"
    }
   },
   "outputs": [
    {
     "data": {
      "text/plain": [
       "['grape', 'raspberry', 'apple', 'banana']"
      ]
     },
     "execution_count": 168,
     "metadata": {},
     "output_type": "execute_result"
    }
   ],
   "source": [
    "fruits"
   ]
  },
  {
   "cell_type": "code",
   "execution_count": 169,
   "id": "a201e805",
   "metadata": {
    "ExecuteTime": {
     "end_time": "2023-11-29T07:40:57.979575Z",
     "start_time": "2023-11-29T07:40:57.964440Z"
    }
   },
   "outputs": [],
   "source": [
    "fruits.sort()"
   ]
  },
  {
   "cell_type": "code",
   "execution_count": 170,
   "id": "a53704de",
   "metadata": {
    "ExecuteTime": {
     "end_time": "2023-11-29T07:41:01.183051Z",
     "start_time": "2023-11-29T07:41:01.180346Z"
    }
   },
   "outputs": [
    {
     "data": {
      "text/plain": [
       "['apple', 'banana', 'grape', 'raspberry']"
      ]
     },
     "execution_count": 170,
     "metadata": {},
     "output_type": "execute_result"
    }
   ],
   "source": [
    "fruits"
   ]
  },
  {
   "cell_type": "markdown",
   "id": "32d99392",
   "metadata": {},
   "source": [
    "# 2.8 정렬된 시퀀스를 bisect로 관리하기"
   ]
  },
  {
   "cell_type": "markdown",
   "id": "1d73ab51",
   "metadata": {},
   "source": [
    "## bisect()로 검색하기"
   ]
  },
  {
   "cell_type": "markdown",
   "id": "193339a7",
   "metadata": {},
   "source": [
    "bisect(haystack, needle )은 정렬된 시퀀스인 haystack 안에서 오름차순 정렬 상태를 유지한채로\n",
    "needle을 추가할 수 있는 위치를 찾아낸다.\n",
    "즉, 해당 위치 앞에는 needle 보다 같거나 작은 항목이 온다."
   ]
  },
  {
   "cell_type": "markdown",
   "id": "56cc1782",
   "metadata": {},
   "source": [
    "### 예제 2-17 정렬된 시퀀스에서 항목을 추가할 위치를 찾아내는 bisect"
   ]
  },
  {
   "cell_type": "code",
   "execution_count": 176,
   "id": "cbb2caf4",
   "metadata": {
    "ExecuteTime": {
     "end_time": "2023-11-29T08:07:30.183753Z",
     "start_time": "2023-11-29T08:07:30.178959Z"
    }
   },
   "outputs": [
    {
     "name": "stdout",
     "output_type": "stream",
     "text": [
      "DEMO: bisect_right\n",
      "haystack ->  1  4  5  6  8 12 15 20 21 23 23 26 29 30\n",
      "31 @ 14      |  |  |  |  |  |  |  |  |  |  |  |  |  |31\n",
      "30 @ 14      |  |  |  |  |  |  |  |  |  |  |  |  |  |30\n",
      "29 @ 13      |  |  |  |  |  |  |  |  |  |  |  |  |29\n",
      "23 @ 11      |  |  |  |  |  |  |  |  |  |  |23\n",
      "22 @  9      |  |  |  |  |  |  |  |  |22\n",
      "10 @  5      |  |  |  |  |10\n",
      " 8 @  5      |  |  |  |  |8 \n",
      " 5 @  3      |  |  |5 \n",
      " 2 @  1      |2 \n",
      " 1 @  1      |1 \n",
      " 0 @  0    0 \n"
     ]
    }
   ],
   "source": [
    "# BEGIN BISECT_DEMO\n",
    "import bisect\n",
    "import sys\n",
    "\n",
    "HAYSTACK = [1, 4, 5, 6, 8, 12, 15, 20, 21, 23, 23, 26, 29, 30]\n",
    "NEEDLES = [0, 1, 2, 5, 8, 10, 22, 23, 29, 30, 31]\n",
    "\n",
    "ROW_FMT = '{0:2d} @ {1:2d}    {2}{0:<2d}'\n",
    "\n",
    "\n",
    "def demo(bisect_fn):\n",
    "    for needle in reversed(NEEDLES):\n",
    "        position = bisect_fn(HAYSTACK, needle)  # <1> 삽입 위치를 찾아내기 위해 선택한 bisect 함수를 사용.\n",
    "        offset = position * '  |'  # <2> 간격(offset)에 비례해서 수직 막대 패턴을 만든다.\n",
    "        print(ROW_FMT.format(needle, position, offset))  # <3> needle과 삽입 위치를 보여주는 포맷된 행을 출력한다.\n",
    "\n",
    "\n",
    "if __name__ == '__main__':\n",
    "\n",
    "    if sys.argv[-1] == 'left':  # <4> 마지막 명령행 인수에 따라 사용할 bisect 함수를 선택한다.\n",
    "        bisect_fn = bisect.bisect_left\n",
    "    else:\n",
    "        bisect_fn = bisect.bisect\n",
    "\n",
    "    print('DEMO:', bisect_fn.__name__)  # <5> 선택된 함수명을 헤더에 출력한다.\n",
    "    print('haystack ->', ' '.join('%2d' % n for n in HAYSTACK))\n",
    "    demo(bisect_fn)\n",
    "\n",
    "# END BISECT_DEMO"
   ]
  },
  {
   "cell_type": "code",
   "execution_count": null,
   "id": "be1a5227",
   "metadata": {},
   "outputs": [],
   "source": []
  },
  {
   "cell_type": "markdown",
   "id": "b455eb49",
   "metadata": {},
   "source": [
    "### 예제 2-18 시험 점수를 입력받아 등급 문자를 반환하는 grade()함수 "
   ]
  },
  {
   "cell_type": "code",
   "execution_count": 177,
   "id": "1ab79577",
   "metadata": {
    "ExecuteTime": {
     "end_time": "2023-11-29T08:21:16.756050Z",
     "start_time": "2023-11-29T08:21:16.753161Z"
    }
   },
   "outputs": [],
   "source": [
    "def grade(score, breakpoints=[60,70,80,90], grades='FDCBA'):\n",
    "    i= bisect.bisect(breakpoints, score)\n",
    "    return grades[i]"
   ]
  },
  {
   "cell_type": "code",
   "execution_count": 178,
   "id": "936dc0f5",
   "metadata": {
    "ExecuteTime": {
     "end_time": "2023-11-29T08:21:37.965630Z",
     "start_time": "2023-11-29T08:21:37.962069Z"
    }
   },
   "outputs": [
    {
     "data": {
      "text/plain": [
       "['F', 'A', 'C', 'C', 'B', 'A', 'A']"
      ]
     },
     "execution_count": 178,
     "metadata": {},
     "output_type": "execute_result"
    }
   ],
   "source": [
    "[grade(score) for score in [33,99,77,70,89,90,100]]"
   ]
  },
  {
   "cell_type": "markdown",
   "id": "9fe8f811",
   "metadata": {},
   "source": [
    "정렬된 긴 숫자 시퀀스를 검색할 때 index() 대신 더 빠른 bisect() 함수를 사용하는 여러 함수를 보여준다."
   ]
  },
  {
   "cell_type": "code",
   "execution_count": null,
   "id": "e1e2ea40",
   "metadata": {},
   "outputs": [],
   "source": []
  },
  {
   "cell_type": "markdown",
   "id": "b6d12a00",
   "metadata": {},
   "source": [
    "### 2.8.2 bisect.insort()로 삽입하기"
   ]
  },
  {
   "cell_type": "markdown",
   "id": "404d3665",
   "metadata": {},
   "source": [
    "정렬은 값비싼 연산이므로 시퀀스를 일단 정렬한 후에는 정렬 상태를 유지하는것이 좋다.\n",
    "그렇기 때문에 bisect.insort() 함수가 만들어졌다."
   ]
  },
  {
   "cell_type": "code",
   "execution_count": 179,
   "id": "0019ade4",
   "metadata": {
    "ExecuteTime": {
     "end_time": "2023-11-29T08:25:48.103292Z",
     "start_time": "2023-11-29T08:25:48.099790Z"
    }
   },
   "outputs": [
    {
     "name": "stdout",
     "output_type": "stream",
     "text": [
      "10 -> [10]\n",
      " 0 -> [0, 10]\n",
      " 6 -> [0, 6, 10]\n",
      " 8 -> [0, 6, 8, 10]\n",
      " 7 -> [0, 6, 7, 8, 10]\n",
      " 2 -> [0, 2, 6, 7, 8, 10]\n",
      "10 -> [0, 2, 6, 7, 8, 10, 10]\n"
     ]
    }
   ],
   "source": [
    "import bisect\n",
    "import random\n",
    "\n",
    "SIZE = 7\n",
    "\n",
    "random.seed(1729)\n",
    "\n",
    "my_list = []\n",
    "for i in range(SIZE):\n",
    "    new_item = random.randrange(SIZE*2)\n",
    "    bisect.insort(my_list, new_item)\n",
    "    print('%2d ->' % new_item, my_list)"
   ]
  },
  {
   "cell_type": "code",
   "execution_count": null,
   "id": "2f08becb",
   "metadata": {},
   "outputs": [],
   "source": []
  },
  {
   "cell_type": "markdown",
   "id": "d48a7479",
   "metadata": {},
   "source": [
    "# 2.9 리스트가 답이 아닐 때"
   ]
  },
  {
   "cell_type": "code",
   "execution_count": null,
   "id": "487e297f",
   "metadata": {},
   "outputs": [],
   "source": []
  },
  {
   "cell_type": "markdown",
   "id": "0b552cb9",
   "metadata": {},
   "source": [
    "## 예제 2-20 커다란 실수 배열의 생성,저장,로딩"
   ]
  },
  {
   "cell_type": "code",
   "execution_count": 187,
   "id": "c93d7c7f",
   "metadata": {
    "ExecuteTime": {
     "end_time": "2023-11-29T08:39:43.120586Z",
     "start_time": "2023-11-29T08:39:42.169346Z"
    }
   },
   "outputs": [
    {
     "data": {
      "text/plain": [
       "0.5152585897117359"
      ]
     },
     "execution_count": 187,
     "metadata": {},
     "output_type": "execute_result"
    }
   ],
   "source": [
    "from array import array\n",
    "from random import random\n",
    "floats = array('d', (random() for i in range(10**7)))\n",
    "floats[-1]"
   ]
  },
  {
   "cell_type": "code",
   "execution_count": 188,
   "id": "aea2a60d",
   "metadata": {
    "ExecuteTime": {
     "end_time": "2023-11-29T08:39:43.883315Z",
     "start_time": "2023-11-29T08:39:43.800404Z"
    }
   },
   "outputs": [
    {
     "data": {
      "text/plain": [
       "0.5152585897117359"
      ]
     },
     "execution_count": 188,
     "metadata": {},
     "output_type": "execute_result"
    }
   ],
   "source": [
    "fp = open('floats.bin','wb')\n",
    "floats.tofile(fp)\n",
    "fp.close()\n",
    "floats2 = array('d')\n",
    "fp = open('floats.bin','rb')\n",
    "floats2.fromfile(fp, 10**7)\n",
    "fp.close()\n",
    "floats2[-1]"
   ]
  },
  {
   "cell_type": "code",
   "execution_count": 186,
   "id": "95eb8321",
   "metadata": {
    "ExecuteTime": {
     "end_time": "2023-11-29T08:39:36.388521Z",
     "start_time": "2023-11-29T08:39:36.269363Z"
    }
   },
   "outputs": [
    {
     "data": {
      "text/plain": [
       "True"
      ]
     },
     "execution_count": 186,
     "metadata": {},
     "output_type": "execute_result"
    }
   ],
   "source": [
    "floats2==floats"
   ]
  },
  {
   "cell_type": "markdown",
   "id": "f9ab4c97",
   "metadata": {},
   "source": [
    "##  2.9.2 메모리 뷰"
   ]
  },
  {
   "cell_type": "code",
   "execution_count": null,
   "id": "04a757cc",
   "metadata": {},
   "outputs": [],
   "source": []
  },
  {
   "cell_type": "markdown",
   "id": "15a61eab",
   "metadata": {},
   "source": [
    "### 예제2-21 배열 항목 값의 바이트 중 하나를 변경하기"
   ]
  },
  {
   "cell_type": "code",
   "execution_count": 189,
   "id": "3ce9142b",
   "metadata": {
    "ExecuteTime": {
     "end_time": "2023-11-29T08:50:09.744087Z",
     "start_time": "2023-11-29T08:50:09.740432Z"
    }
   },
   "outputs": [
    {
     "data": {
      "text/plain": [
       "5"
      ]
     },
     "execution_count": 189,
     "metadata": {},
     "output_type": "execute_result"
    }
   ],
   "source": [
    "import array\n",
    "numbers = array.array('h',[-2,-1,0,1,2])\n",
    "memv = memoryview(numbers)\n",
    "len(memv)"
   ]
  },
  {
   "cell_type": "code",
   "execution_count": 190,
   "id": "615fe6f0",
   "metadata": {
    "ExecuteTime": {
     "end_time": "2023-11-29T08:50:17.510251Z",
     "start_time": "2023-11-29T08:50:17.506615Z"
    }
   },
   "outputs": [
    {
     "data": {
      "text/plain": [
       "-2"
      ]
     },
     "execution_count": 190,
     "metadata": {},
     "output_type": "execute_result"
    }
   ],
   "source": [
    "memv[0]"
   ]
  },
  {
   "cell_type": "code",
   "execution_count": 191,
   "id": "c9fad5b4",
   "metadata": {
    "ExecuteTime": {
     "end_time": "2023-11-29T08:50:47.144073Z",
     "start_time": "2023-11-29T08:50:47.140513Z"
    }
   },
   "outputs": [
    {
     "data": {
      "text/plain": [
       "[254, 255, 255, 255, 0, 0, 1, 0, 2, 0]"
      ]
     },
     "execution_count": 191,
     "metadata": {},
     "output_type": "execute_result"
    }
   ],
   "source": [
    "memv_oct = memv.cast('B')\n",
    "memv_oct.tolist()"
   ]
  },
  {
   "cell_type": "code",
   "execution_count": 192,
   "id": "cbcbe91d",
   "metadata": {
    "ExecuteTime": {
     "end_time": "2023-11-29T08:51:04.372701Z",
     "start_time": "2023-11-29T08:51:04.367830Z"
    }
   },
   "outputs": [
    {
     "data": {
      "text/plain": [
       "array('h', [-2, -1, 1024, 1, 2])"
      ]
     },
     "execution_count": 192,
     "metadata": {},
     "output_type": "execute_result"
    }
   ],
   "source": [
    "memv_oct[5] =4\n",
    "numbers"
   ]
  },
  {
   "cell_type": "code",
   "execution_count": null,
   "id": "dbf71cef",
   "metadata": {},
   "outputs": [],
   "source": []
  },
  {
   "cell_type": "code",
   "execution_count": null,
   "id": "a980817c",
   "metadata": {},
   "outputs": [],
   "source": []
  },
  {
   "cell_type": "code",
   "execution_count": null,
   "id": "24d6bd03",
   "metadata": {},
   "outputs": [],
   "source": []
  },
  {
   "cell_type": "code",
   "execution_count": null,
   "id": "90d16d85",
   "metadata": {},
   "outputs": [],
   "source": []
  },
  {
   "cell_type": "code",
   "execution_count": null,
   "id": "5c8ebc41",
   "metadata": {},
   "outputs": [],
   "source": []
  },
  {
   "cell_type": "code",
   "execution_count": null,
   "id": "0a61adcf",
   "metadata": {},
   "outputs": [],
   "source": []
  },
  {
   "cell_type": "code",
   "execution_count": null,
   "id": "2f4737e5",
   "metadata": {},
   "outputs": [],
   "source": []
  },
  {
   "cell_type": "code",
   "execution_count": null,
   "id": "d84ea329",
   "metadata": {},
   "outputs": [],
   "source": []
  },
  {
   "cell_type": "code",
   "execution_count": null,
   "id": "817ecc6c",
   "metadata": {},
   "outputs": [],
   "source": []
  },
  {
   "cell_type": "code",
   "execution_count": null,
   "id": "961da3ec",
   "metadata": {},
   "outputs": [],
   "source": []
  },
  {
   "cell_type": "code",
   "execution_count": null,
   "id": "c05670b7",
   "metadata": {},
   "outputs": [],
   "source": []
  },
  {
   "cell_type": "code",
   "execution_count": null,
   "id": "66ae3a70",
   "metadata": {},
   "outputs": [],
   "source": []
  },
  {
   "cell_type": "code",
   "execution_count": null,
   "id": "2ee48092",
   "metadata": {},
   "outputs": [],
   "source": []
  }
 ],
 "metadata": {
  "kernelspec": {
   "display_name": "Python 3 (ipykernel)",
   "language": "python",
   "name": "python3"
  },
  "language_info": {
   "codemirror_mode": {
    "name": "ipython",
    "version": 3
   },
   "file_extension": ".py",
   "mimetype": "text/x-python",
   "name": "python",
   "nbconvert_exporter": "python",
   "pygments_lexer": "ipython3",
   "version": "3.11.5"
  },
  "toc": {
   "base_numbering": 1,
   "nav_menu": {},
   "number_sections": true,
   "sideBar": true,
   "skip_h1_title": false,
   "title_cell": "Table of Contents",
   "title_sidebar": "Contents",
   "toc_cell": false,
   "toc_position": {
    "height": "calc(100% - 180px)",
    "left": "10px",
    "top": "150px",
    "width": "278.385px"
   },
   "toc_section_display": true,
   "toc_window_display": true
  }
 },
 "nbformat": 4,
 "nbformat_minor": 5
}
