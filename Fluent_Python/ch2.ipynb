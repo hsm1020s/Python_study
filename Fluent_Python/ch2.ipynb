{
 "cells": [
  {
   "cell_type": "code",
   "execution_count": 1,
   "id": "5e7f69c2",
   "metadata": {
    "ExecuteTime": {
     "end_time": "2023-11-29T04:06:05.762286Z",
     "start_time": "2023-11-29T04:06:05.759357Z"
    }
   },
   "outputs": [],
   "source": [
    "symbols = '!@#$%^&*()'"
   ]
  },
  {
   "cell_type": "code",
   "execution_count": 2,
   "id": "cda5df87",
   "metadata": {
    "ExecuteTime": {
     "end_time": "2023-11-29T04:06:06.546910Z",
     "start_time": "2023-11-29T04:06:06.544901Z"
    }
   },
   "outputs": [],
   "source": [
    "codes=[]"
   ]
  },
  {
   "cell_type": "code",
   "execution_count": 3,
   "id": "027dda90",
   "metadata": {
    "ExecuteTime": {
     "end_time": "2023-11-29T04:06:07.063800Z",
     "start_time": "2023-11-29T04:06:07.060634Z"
    },
    "code_folding": []
   },
   "outputs": [],
   "source": [
    "for symbol in symbols:\n",
    "    codes.append(ord(symbol))"
   ]
  },
  {
   "cell_type": "code",
   "execution_count": 4,
   "id": "4782f393",
   "metadata": {
    "ExecuteTime": {
     "end_time": "2023-11-29T04:06:07.427287Z",
     "start_time": "2023-11-29T04:06:07.418024Z"
    }
   },
   "outputs": [
    {
     "data": {
      "text/plain": [
       "[33, 64, 35, 36, 37, 94, 38, 42, 40, 41]"
      ]
     },
     "execution_count": 4,
     "metadata": {},
     "output_type": "execute_result"
    }
   ],
   "source": [
    "codes"
   ]
  },
  {
   "cell_type": "code",
   "execution_count": null,
   "id": "32317a3d",
   "metadata": {},
   "outputs": [],
   "source": []
  },
  {
   "cell_type": "code",
   "execution_count": 5,
   "id": "29060fcf",
   "metadata": {
    "ExecuteTime": {
     "end_time": "2023-11-29T04:06:07.980824Z",
     "start_time": "2023-11-29T04:06:07.978627Z"
    }
   },
   "outputs": [],
   "source": [
    "symbols = '!@#$%^&*('"
   ]
  },
  {
   "cell_type": "code",
   "execution_count": 6,
   "id": "04d8b0d6",
   "metadata": {
    "ExecuteTime": {
     "end_time": "2023-11-29T04:06:08.236771Z",
     "start_time": "2023-11-29T04:06:08.233641Z"
    }
   },
   "outputs": [],
   "source": [
    "codes = [ord(symbol) for symbol in symbols]"
   ]
  },
  {
   "cell_type": "code",
   "execution_count": 7,
   "id": "6728c6f2",
   "metadata": {
    "ExecuteTime": {
     "end_time": "2023-11-29T04:06:08.502096Z",
     "start_time": "2023-11-29T04:06:08.488472Z"
    }
   },
   "outputs": [
    {
     "data": {
      "text/plain": [
       "[33, 64, 35, 36, 37, 94, 38, 42, 40]"
      ]
     },
     "execution_count": 7,
     "metadata": {},
     "output_type": "execute_result"
    }
   ],
   "source": [
    "codes"
   ]
  },
  {
   "cell_type": "code",
   "execution_count": null,
   "id": "fe440df2",
   "metadata": {},
   "outputs": [],
   "source": []
  },
  {
   "cell_type": "code",
   "execution_count": 8,
   "id": "e42ffc81",
   "metadata": {
    "ExecuteTime": {
     "end_time": "2023-11-29T04:06:08.983194Z",
     "start_time": "2023-11-29T04:06:08.979778Z"
    }
   },
   "outputs": [],
   "source": [
    "x = 'ABC'"
   ]
  },
  {
   "cell_type": "code",
   "execution_count": 9,
   "id": "f4466d79",
   "metadata": {
    "ExecuteTime": {
     "end_time": "2023-11-29T04:06:09.296322Z",
     "start_time": "2023-11-29T04:06:09.285760Z"
    }
   },
   "outputs": [],
   "source": [
    "dummy = [ord(x) for x in x]"
   ]
  },
  {
   "cell_type": "code",
   "execution_count": 10,
   "id": "f76569c6",
   "metadata": {
    "ExecuteTime": {
     "end_time": "2023-11-29T04:06:09.527418Z",
     "start_time": "2023-11-29T04:06:09.518333Z"
    }
   },
   "outputs": [
    {
     "data": {
      "text/plain": [
       "'ABC'"
      ]
     },
     "execution_count": 10,
     "metadata": {},
     "output_type": "execute_result"
    }
   ],
   "source": [
    "x"
   ]
  },
  {
   "cell_type": "code",
   "execution_count": 11,
   "id": "80564718",
   "metadata": {
    "ExecuteTime": {
     "end_time": "2023-11-29T04:06:09.822194Z",
     "start_time": "2023-11-29T04:06:09.817932Z"
    }
   },
   "outputs": [
    {
     "data": {
      "text/plain": [
       "[65, 66, 67]"
      ]
     },
     "execution_count": 11,
     "metadata": {},
     "output_type": "execute_result"
    }
   ],
   "source": [
    "dummy"
   ]
  },
  {
   "cell_type": "code",
   "execution_count": null,
   "id": "3b80879f",
   "metadata": {},
   "outputs": [],
   "source": []
  },
  {
   "cell_type": "markdown",
   "id": "0cc88114",
   "metadata": {},
   "source": [
    "#  2.2.2 지능형 리스트와 map()/filter()비교"
   ]
  },
  {
   "cell_type": "code",
   "execution_count": 4,
   "id": "2d567abc",
   "metadata": {
    "ExecuteTime": {
     "end_time": "2023-11-29T04:12:25.698095Z",
     "start_time": "2023-11-29T04:12:25.694442Z"
    }
   },
   "outputs": [],
   "source": [
    "symbols = '!@#$%^&'"
   ]
  },
  {
   "cell_type": "code",
   "execution_count": 7,
   "id": "7887883d",
   "metadata": {
    "ExecuteTime": {
     "end_time": "2023-11-29T04:12:39.743104Z",
     "start_time": "2023-11-29T04:12:39.739347Z"
    }
   },
   "outputs": [],
   "source": [
    "beyond_ascii = [ord(s) for s in symbols if ord(s) <127]"
   ]
  },
  {
   "cell_type": "code",
   "execution_count": 8,
   "id": "ffa0188b",
   "metadata": {
    "ExecuteTime": {
     "end_time": "2023-11-29T04:12:40.911907Z",
     "start_time": "2023-11-29T04:12:40.907414Z"
    }
   },
   "outputs": [
    {
     "data": {
      "text/plain": [
       "[33, 64, 35, 36, 37, 94, 38]"
      ]
     },
     "execution_count": 8,
     "metadata": {},
     "output_type": "execute_result"
    }
   ],
   "source": [
    "beyond_ascii"
   ]
  },
  {
   "cell_type": "code",
   "execution_count": 15,
   "id": "6abf012a",
   "metadata": {
    "ExecuteTime": {
     "end_time": "2023-11-29T04:15:32.054202Z",
     "start_time": "2023-11-29T04:15:32.050992Z"
    }
   },
   "outputs": [],
   "source": [
    "beyond_ascii = list(filter(lambda c: c < 127, map(ord, symbols)))"
   ]
  },
  {
   "cell_type": "code",
   "execution_count": 16,
   "id": "94149f69",
   "metadata": {
    "ExecuteTime": {
     "end_time": "2023-11-29T04:15:37.360846Z",
     "start_time": "2023-11-29T04:15:37.356559Z"
    }
   },
   "outputs": [
    {
     "data": {
      "text/plain": [
       "[33, 64, 35, 36, 37, 94, 38]"
      ]
     },
     "execution_count": 16,
     "metadata": {},
     "output_type": "execute_result"
    }
   ],
   "source": [
    "beyond_ascii"
   ]
  },
  {
   "cell_type": "markdown",
   "id": "59892932",
   "metadata": {},
   "source": [
    "# 2.2.3 데카르트 곱"
   ]
  },
  {
   "cell_type": "code",
   "execution_count": 17,
   "id": "6d6953a9",
   "metadata": {
    "ExecuteTime": {
     "end_time": "2023-11-29T04:18:26.133308Z",
     "start_time": "2023-11-29T04:18:26.130209Z"
    }
   },
   "outputs": [],
   "source": [
    "colors = ['black','white']"
   ]
  },
  {
   "cell_type": "code",
   "execution_count": 18,
   "id": "1558256e",
   "metadata": {
    "ExecuteTime": {
     "end_time": "2023-11-29T04:18:40.230456Z",
     "start_time": "2023-11-29T04:18:40.227048Z"
    }
   },
   "outputs": [],
   "source": [
    "sizes=['S','M','L']"
   ]
  },
  {
   "cell_type": "code",
   "execution_count": 20,
   "id": "4065d6f5",
   "metadata": {
    "ExecuteTime": {
     "end_time": "2023-11-29T04:24:09.340954Z",
     "start_time": "2023-11-29T04:24:09.336770Z"
    }
   },
   "outputs": [],
   "source": [
    "tshirts= [(color,size) for color in colors for size in sizes]"
   ]
  },
  {
   "cell_type": "code",
   "execution_count": 21,
   "id": "b214ffe3",
   "metadata": {
    "ExecuteTime": {
     "end_time": "2023-11-29T04:24:13.030167Z",
     "start_time": "2023-11-29T04:24:13.025633Z"
    }
   },
   "outputs": [
    {
     "data": {
      "text/plain": [
       "[('black', 'S'),\n",
       " ('black', 'M'),\n",
       " ('black', 'L'),\n",
       " ('white', 'S'),\n",
       " ('white', 'M'),\n",
       " ('white', 'L')]"
      ]
     },
     "execution_count": 21,
     "metadata": {},
     "output_type": "execute_result"
    }
   ],
   "source": [
    "tshirts"
   ]
  },
  {
   "cell_type": "code",
   "execution_count": 22,
   "id": "4203a2e9",
   "metadata": {
    "ExecuteTime": {
     "end_time": "2023-11-29T04:24:43.437502Z",
     "start_time": "2023-11-29T04:24:43.422467Z"
    }
   },
   "outputs": [
    {
     "name": "stdout",
     "output_type": "stream",
     "text": [
      "('black', 'S')\n",
      "('black', 'M')\n",
      "('black', 'L')\n",
      "('white', 'S')\n",
      "('white', 'M')\n",
      "('white', 'L')\n"
     ]
    }
   ],
   "source": [
    "for color in colors:\n",
    "    for size in sizes:\n",
    "        print((color,size))"
   ]
  },
  {
   "cell_type": "code",
   "execution_count": 23,
   "id": "b2f0d644",
   "metadata": {
    "ExecuteTime": {
     "end_time": "2023-11-29T04:26:02.684514Z",
     "start_time": "2023-11-29T04:26:02.681111Z"
    }
   },
   "outputs": [],
   "source": [
    "tshirts = [(color,size) for size in sizes\n",
    "                          for color in colors]"
   ]
  },
  {
   "cell_type": "code",
   "execution_count": 24,
   "id": "5a7d890a",
   "metadata": {
    "ExecuteTime": {
     "end_time": "2023-11-29T04:26:16.726038Z",
     "start_time": "2023-11-29T04:26:16.721452Z"
    }
   },
   "outputs": [
    {
     "data": {
      "text/plain": [
       "[('black', 'S'),\n",
       " ('white', 'S'),\n",
       " ('black', 'M'),\n",
       " ('white', 'M'),\n",
       " ('black', 'L'),\n",
       " ('white', 'L')]"
      ]
     },
     "execution_count": 24,
     "metadata": {},
     "output_type": "execute_result"
    }
   ],
   "source": [
    "tshirts"
   ]
  },
  {
   "cell_type": "code",
   "execution_count": 25,
   "id": "da511242",
   "metadata": {
    "ExecuteTime": {
     "end_time": "2023-11-29T04:31:40.466951Z",
     "start_time": "2023-11-29T04:31:40.462724Z"
    }
   },
   "outputs": [],
   "source": [
    "symbols = '$$%^&*'"
   ]
  },
  {
   "cell_type": "code",
   "execution_count": 26,
   "id": "20f1e476",
   "metadata": {
    "ExecuteTime": {
     "end_time": "2023-11-29T04:32:00.059085Z",
     "start_time": "2023-11-29T04:32:00.054224Z"
    }
   },
   "outputs": [
    {
     "data": {
      "text/plain": [
       "(36, 36, 37, 94, 38, 42)"
      ]
     },
     "execution_count": 26,
     "metadata": {},
     "output_type": "execute_result"
    }
   ],
   "source": [
    "tuple(ord(symbol) for symbol in symbols)"
   ]
  },
  {
   "cell_type": "code",
   "execution_count": 27,
   "id": "a04e620d",
   "metadata": {
    "ExecuteTime": {
     "end_time": "2023-11-29T04:32:33.218303Z",
     "start_time": "2023-11-29T04:32:33.215027Z"
    }
   },
   "outputs": [],
   "source": [
    "import array"
   ]
  },
  {
   "cell_type": "code",
   "execution_count": 28,
   "id": "891556a0",
   "metadata": {
    "ExecuteTime": {
     "end_time": "2023-11-29T04:32:59.263365Z",
     "start_time": "2023-11-29T04:32:59.248429Z"
    }
   },
   "outputs": [
    {
     "data": {
      "text/plain": [
       "array('I', [36, 36, 37, 94, 38, 42])"
      ]
     },
     "execution_count": 28,
     "metadata": {},
     "output_type": "execute_result"
    }
   ],
   "source": [
    "array.array('I',(ord(symbol) for symbol in symbols))"
   ]
  },
  {
   "cell_type": "code",
   "execution_count": 29,
   "id": "14d3de47",
   "metadata": {
    "ExecuteTime": {
     "end_time": "2023-11-29T04:34:39.167170Z",
     "start_time": "2023-11-29T04:34:39.163818Z"
    }
   },
   "outputs": [],
   "source": [
    "colors = ['black','white']"
   ]
  },
  {
   "cell_type": "code",
   "execution_count": 30,
   "id": "8d8b7c49",
   "metadata": {
    "ExecuteTime": {
     "end_time": "2023-11-29T04:35:00.859085Z",
     "start_time": "2023-11-29T04:35:00.855353Z"
    }
   },
   "outputs": [],
   "source": [
    "sizes = ['S','M','L']"
   ]
  },
  {
   "cell_type": "code",
   "execution_count": 31,
   "id": "a6d2192d",
   "metadata": {
    "ExecuteTime": {
     "end_time": "2023-11-29T04:35:53.795955Z",
     "start_time": "2023-11-29T04:35:53.791771Z"
    }
   },
   "outputs": [
    {
     "name": "stdout",
     "output_type": "stream",
     "text": [
      "black S\n",
      "black M\n",
      "black L\n",
      "white S\n",
      "white M\n",
      "white L\n"
     ]
    }
   ],
   "source": [
    "for tshirt in ('%s %s' % (c,s)for c in colors for s in sizes):\n",
    "    print(tshirt)"
   ]
  },
  {
   "cell_type": "markdown",
   "id": "f59bd4f8",
   "metadata": {},
   "source": [
    "# 2.3 튜플은 단순한 불변 리스트가 아니다"
   ]
  },
  {
   "cell_type": "markdown",
   "id": "c25fa34a",
   "metadata": {},
   "source": [
    "## 2.3.1레코드로서의 튜플"
   ]
  },
  {
   "cell_type": "code",
   "execution_count": 32,
   "id": "fc8fe9e5",
   "metadata": {
    "ExecuteTime": {
     "end_time": "2023-11-29T04:41:46.018977Z",
     "start_time": "2023-11-29T04:41:46.014815Z"
    }
   },
   "outputs": [],
   "source": [
    "lax_coordinates = (33.9425, -118.408056)\n",
    "# 로스엔젤레스 국제공항의 위도,경도"
   ]
  },
  {
   "cell_type": "code",
   "execution_count": 33,
   "id": "8ddc5ec2",
   "metadata": {
    "ExecuteTime": {
     "end_time": "2023-11-29T04:42:12.394106Z",
     "start_time": "2023-11-29T04:42:12.390501Z"
    }
   },
   "outputs": [],
   "source": [
    "city,year,pop,chg,area = ('Tokyo',2003,32450,0.66,8014)\n",
    "# 도쿄에 대한 데이터"
   ]
  },
  {
   "cell_type": "code",
   "execution_count": 34,
   "id": "fd66ecd4",
   "metadata": {
    "ExecuteTime": {
     "end_time": "2023-11-29T04:43:11.277614Z",
     "start_time": "2023-11-29T04:43:11.275310Z"
    }
   },
   "outputs": [],
   "source": [
    "traveler_ids = [('USA','31195855'),('BRA','CE342567'),('ESP','XDA205856')]\n",
    "# 튜플로 구성된 리스트"
   ]
  },
  {
   "cell_type": "code",
   "execution_count": 36,
   "id": "dc8a99d7",
   "metadata": {
    "ExecuteTime": {
     "end_time": "2023-11-29T04:44:20.275050Z",
     "start_time": "2023-11-29T04:44:20.270131Z"
    }
   },
   "outputs": [
    {
     "name": "stdout",
     "output_type": "stream",
     "text": [
      "BRA/CE342567\n",
      "ESP/XDA205856\n",
      "USA/31195855\n"
     ]
    }
   ],
   "source": [
    "for passport in sorted(traveler_ids):# 리스트를 반복할 때 passport 변수가 각 튜플에 바인딩된다.\n",
    "    print('%s/%s' % passport)\n",
    "# 퍼센트(%) 포맷 연산자는 튜플을 이해하고 각 항목을 하나의 필드로 처리한다."
   ]
  },
  {
   "cell_type": "code",
   "execution_count": 37,
   "id": "78d4f5b9",
   "metadata": {
    "ExecuteTime": {
     "end_time": "2023-11-29T04:44:39.913698Z",
     "start_time": "2023-11-29T04:44:39.910583Z"
    }
   },
   "outputs": [
    {
     "name": "stdout",
     "output_type": "stream",
     "text": [
      "USA\n",
      "BRA\n",
      "ESP\n"
     ]
    }
   ],
   "source": [
    "for country, _ in traveler_ids:\n",
    "    print(country)\n",
    "# for 루프는 튜플의 각 항목을 어떻게 가져와야 하는지 알고 있다 ( 이 과정을 언패킹 이라고함)\n",
    "# 여기서 두번째 항목에는 관심이 없으므로 더미변수를 나타내는 언더바에 할당함"
   ]
  },
  {
   "cell_type": "markdown",
   "id": "843bddec",
   "metadata": {},
   "source": [
    "## 2.3.2 튜플 언패킹"
   ]
  },
  {
   "cell_type": "code",
   "execution_count": 38,
   "id": "4eee9950",
   "metadata": {
    "ExecuteTime": {
     "end_time": "2023-11-29T04:50:54.899501Z",
     "start_time": "2023-11-29T04:50:54.891753Z"
    }
   },
   "outputs": [],
   "source": [
    "lax_coordinates = (33.9425,-118.408056)"
   ]
  },
  {
   "cell_type": "code",
   "execution_count": 39,
   "id": "489a0202",
   "metadata": {
    "ExecuteTime": {
     "end_time": "2023-11-29T04:51:18.032491Z",
     "start_time": "2023-11-29T04:51:18.029077Z"
    }
   },
   "outputs": [],
   "source": [
    "latitude,longitude = lax_coordinates"
   ]
  },
  {
   "cell_type": "code",
   "execution_count": 40,
   "id": "5e1342b0",
   "metadata": {
    "ExecuteTime": {
     "end_time": "2023-11-29T04:51:25.217585Z",
     "start_time": "2023-11-29T04:51:25.212860Z"
    }
   },
   "outputs": [
    {
     "data": {
      "text/plain": [
       "33.9425"
      ]
     },
     "execution_count": 40,
     "metadata": {},
     "output_type": "execute_result"
    }
   ],
   "source": [
    "latitude"
   ]
  },
  {
   "cell_type": "code",
   "execution_count": 41,
   "id": "dec45444",
   "metadata": {
    "ExecuteTime": {
     "end_time": "2023-11-29T04:51:28.439511Z",
     "start_time": "2023-11-29T04:51:28.435234Z"
    }
   },
   "outputs": [
    {
     "data": {
      "text/plain": [
       "-118.408056"
      ]
     },
     "execution_count": 41,
     "metadata": {},
     "output_type": "execute_result"
    }
   ],
   "source": [
    "longitude  # 이것이 병렬할당 "
   ]
  },
  {
   "cell_type": "code",
   "execution_count": null,
   "id": "c0300262",
   "metadata": {},
   "outputs": [],
   "source": []
  },
  {
   "cell_type": "code",
   "execution_count": 43,
   "id": "af6e077d",
   "metadata": {
    "ExecuteTime": {
     "end_time": "2023-11-29T04:55:29.896461Z",
     "start_time": "2023-11-29T04:55:29.891557Z"
    }
   },
   "outputs": [
    {
     "data": {
      "text/plain": [
       "(2, 4)"
      ]
     },
     "execution_count": 43,
     "metadata": {},
     "output_type": "execute_result"
    }
   ],
   "source": [
    "divmod(20,8)"
   ]
  },
  {
   "cell_type": "code",
   "execution_count": 44,
   "id": "6bce5072",
   "metadata": {
    "ExecuteTime": {
     "end_time": "2023-11-29T04:55:36.165456Z",
     "start_time": "2023-11-29T04:55:36.162330Z"
    }
   },
   "outputs": [],
   "source": [
    "t = (20,8)"
   ]
  },
  {
   "cell_type": "code",
   "execution_count": 45,
   "id": "070c4ab6",
   "metadata": {
    "ExecuteTime": {
     "end_time": "2023-11-29T04:55:43.706809Z",
     "start_time": "2023-11-29T04:55:43.703445Z"
    }
   },
   "outputs": [
    {
     "data": {
      "text/plain": [
       "(2, 4)"
      ]
     },
     "execution_count": 45,
     "metadata": {},
     "output_type": "execute_result"
    }
   ],
   "source": [
    "divmod(*t)"
   ]
  },
  {
   "cell_type": "code",
   "execution_count": 46,
   "id": "479da0a6",
   "metadata": {
    "ExecuteTime": {
     "end_time": "2023-11-29T04:56:01.279624Z",
     "start_time": "2023-11-29T04:56:01.275880Z"
    }
   },
   "outputs": [],
   "source": [
    "quotient, remainder = divmod(*t)"
   ]
  },
  {
   "cell_type": "code",
   "execution_count": 47,
   "id": "01b8c4ed",
   "metadata": {
    "ExecuteTime": {
     "end_time": "2023-11-29T04:56:07.928999Z",
     "start_time": "2023-11-29T04:56:07.924185Z"
    }
   },
   "outputs": [
    {
     "data": {
      "text/plain": [
       "(2, 4)"
      ]
     },
     "execution_count": 47,
     "metadata": {},
     "output_type": "execute_result"
    }
   ],
   "source": [
    "quotient, remainder"
   ]
  },
  {
   "cell_type": "code",
   "execution_count": 48,
   "id": "1c09e7ec",
   "metadata": {
    "ExecuteTime": {
     "end_time": "2023-11-29T04:58:09.951174Z",
     "start_time": "2023-11-29T04:58:09.947612Z"
    }
   },
   "outputs": [],
   "source": [
    "import os"
   ]
  },
  {
   "cell_type": "code",
   "execution_count": 50,
   "id": "5b15f1f6",
   "metadata": {
    "ExecuteTime": {
     "end_time": "2023-11-29T04:59:53.670475Z",
     "start_time": "2023-11-29T04:59:53.666855Z"
    }
   },
   "outputs": [],
   "source": [
    "_, filename = os.path.split('C:/Users/huis9/Downloads/MyLinkedList.pptx')"
   ]
  },
  {
   "cell_type": "code",
   "execution_count": 51,
   "id": "bf41a0fa",
   "metadata": {
    "ExecuteTime": {
     "end_time": "2023-11-29T04:59:57.850568Z",
     "start_time": "2023-11-29T04:59:57.846879Z"
    }
   },
   "outputs": [
    {
     "data": {
      "text/plain": [
       "'MyLinkedList.pptx'"
      ]
     },
     "execution_count": 51,
     "metadata": {},
     "output_type": "execute_result"
    }
   ],
   "source": [
    "filename"
   ]
  },
  {
   "cell_type": "code",
   "execution_count": 52,
   "id": "cd9a66c0",
   "metadata": {
    "ExecuteTime": {
     "end_time": "2023-11-29T05:01:44.496238Z",
     "start_time": "2023-11-29T05:01:44.488479Z"
    }
   },
   "outputs": [],
   "source": [
    "#초과 항목을 잡기 위해 * 사용"
   ]
  },
  {
   "cell_type": "code",
   "execution_count": 53,
   "id": "23c683d6",
   "metadata": {
    "ExecuteTime": {
     "end_time": "2023-11-29T05:02:03.284818Z",
     "start_time": "2023-11-29T05:02:03.281833Z"
    }
   },
   "outputs": [],
   "source": [
    "a,b,*rest = range(5)"
   ]
  },
  {
   "cell_type": "code",
   "execution_count": 54,
   "id": "77e0d9f0",
   "metadata": {
    "ExecuteTime": {
     "end_time": "2023-11-29T05:02:06.273849Z",
     "start_time": "2023-11-29T05:02:06.270782Z"
    }
   },
   "outputs": [
    {
     "data": {
      "text/plain": [
       "(0, 1, [2, 3, 4])"
      ]
     },
     "execution_count": 54,
     "metadata": {},
     "output_type": "execute_result"
    }
   ],
   "source": [
    "a,b,rest"
   ]
  },
  {
   "cell_type": "code",
   "execution_count": 55,
   "id": "51ca4af6",
   "metadata": {
    "ExecuteTime": {
     "end_time": "2023-11-29T05:02:19.797575Z",
     "start_time": "2023-11-29T05:02:19.793944Z"
    }
   },
   "outputs": [],
   "source": [
    "a,b,*rest = range(3)"
   ]
  },
  {
   "cell_type": "code",
   "execution_count": 56,
   "id": "416c2aef",
   "metadata": {
    "ExecuteTime": {
     "end_time": "2023-11-29T05:02:22.993121Z",
     "start_time": "2023-11-29T05:02:22.990180Z"
    }
   },
   "outputs": [
    {
     "data": {
      "text/plain": [
       "(0, 1, [2])"
      ]
     },
     "execution_count": 56,
     "metadata": {},
     "output_type": "execute_result"
    }
   ],
   "source": [
    "a,b,rest"
   ]
  },
  {
   "cell_type": "code",
   "execution_count": 57,
   "id": "25cfb912",
   "metadata": {
    "ExecuteTime": {
     "end_time": "2023-11-29T05:02:39.800339Z",
     "start_time": "2023-11-29T05:02:39.797990Z"
    }
   },
   "outputs": [],
   "source": [
    "a,b,*rest = range(2)"
   ]
  },
  {
   "cell_type": "code",
   "execution_count": 58,
   "id": "d8bbd083",
   "metadata": {
    "ExecuteTime": {
     "end_time": "2023-11-29T05:02:44.200770Z",
     "start_time": "2023-11-29T05:02:44.195447Z"
    }
   },
   "outputs": [
    {
     "data": {
      "text/plain": [
       "(0, 1, [])"
      ]
     },
     "execution_count": 58,
     "metadata": {},
     "output_type": "execute_result"
    }
   ],
   "source": [
    "a,b,rest"
   ]
  },
  {
   "cell_type": "code",
   "execution_count": null,
   "id": "ea93f034",
   "metadata": {},
   "outputs": [],
   "source": []
  },
  {
   "cell_type": "markdown",
   "id": "66a69adb",
   "metadata": {},
   "source": [
    "### 예제2-8"
   ]
  },
  {
   "cell_type": "code",
   "execution_count": 59,
   "id": "6b98fc8f",
   "metadata": {
    "ExecuteTime": {
     "end_time": "2023-11-29T05:05:28.237857Z",
     "start_time": "2023-11-29T05:05:28.232541Z"
    }
   },
   "outputs": [
    {
     "name": "stdout",
     "output_type": "stream",
     "text": [
      "                |   lat.    |   long.  \n",
      "Mexico City     |   19.4333 |  -99.1333\n",
      "New York-Newark |   40.8086 |  -74.0204\n",
      "Sao Paulo       |  -23.5478 |  -46.6358\n"
     ]
    }
   ],
   "source": [
    "metro_areas = [\n",
    "    ('Tokyo', 'JP', 36.933, (35.689722, 139.691667)),  # <1>\n",
    "    ('Delhi NCR', 'IN', 21.935, (28.613889, 77.208889)),\n",
    "    ('Mexico City', 'MX', 20.142, (19.433333, -99.133333)),\n",
    "    ('New York-Newark', 'US', 20.104, (40.808611, -74.020386)),\n",
    "    ('Sao Paulo', 'BR', 19.649, (-23.547778, -46.635833)),\n",
    "]\n",
    "\n",
    "print('{:15} | {:^9} | {:^9}'.format('', 'lat.', 'long.'))\n",
    "fmt = '{:15} | {:9.4f} | {:9.4f}'\n",
    "for name, cc, pop, (latitude, longitude) in metro_areas:  # <2>\n",
    "    if longitude <= 0:  # <3>\n",
    "        print(fmt.format(name, latitude, longitude))"
   ]
  },
  {
   "cell_type": "code",
   "execution_count": null,
   "id": "40a53e23",
   "metadata": {},
   "outputs": [],
   "source": []
  },
  {
   "cell_type": "markdown",
   "id": "662e14db",
   "metadata": {},
   "source": [
    "## 2.3.4 명명된 튜플"
   ]
  },
  {
   "cell_type": "markdown",
   "id": "a49f272a",
   "metadata": {},
   "source": [
    "### 예제2-9"
   ]
  },
  {
   "cell_type": "code",
   "execution_count": 60,
   "id": "38b3f295",
   "metadata": {
    "ExecuteTime": {
     "end_time": "2023-11-29T05:07:49.533281Z",
     "start_time": "2023-11-29T05:07:49.530194Z"
    }
   },
   "outputs": [],
   "source": [
    "from collections import namedtuple"
   ]
  },
  {
   "cell_type": "code",
   "execution_count": 69,
   "id": "417cab73",
   "metadata": {
    "ExecuteTime": {
     "end_time": "2023-11-29T05:10:44.834952Z",
     "start_time": "2023-11-29T05:10:44.831717Z"
    }
   },
   "outputs": [],
   "source": [
    "City = namedtuple('City','name country population coordinates')\n",
    "# 명명된 튜플을 정의하려면 클래스명과 필드명의 리스트 등 총 2개의 매개변수가 필요.\n",
    "# 필드명의 리스트는 반복형 문자열이나 공백으로 구분된 하나의 문자열을 이용해서 지정한다."
   ]
  },
  {
   "cell_type": "code",
   "execution_count": 62,
   "id": "d71200a7",
   "metadata": {
    "ExecuteTime": {
     "end_time": "2023-11-29T05:08:55.650713Z",
     "start_time": "2023-11-29T05:08:55.647136Z"
    }
   },
   "outputs": [],
   "source": [
    "tokyo = City('Tokyo','JP', 36.933, (35.689722, 139.691667))\n",
    "# 데이터는 위치를 맞추고 콤마로 구분해서 생성자에 전달해야 한다."
   ]
  },
  {
   "cell_type": "code",
   "execution_count": 63,
   "id": "a2e2608e",
   "metadata": {
    "ExecuteTime": {
     "end_time": "2023-11-29T05:09:00.934896Z",
     "start_time": "2023-11-29T05:09:00.928924Z"
    }
   },
   "outputs": [
    {
     "data": {
      "text/plain": [
       "City(name='Tokyo', country='JP', population=36.933, coordinates=(35.689722, 139.691667))"
      ]
     },
     "execution_count": 63,
     "metadata": {},
     "output_type": "execute_result"
    }
   ],
   "source": [
    "tokyo"
   ]
  },
  {
   "cell_type": "code",
   "execution_count": 64,
   "id": "8e3c03f2",
   "metadata": {
    "ExecuteTime": {
     "end_time": "2023-11-29T05:09:11.205286Z",
     "start_time": "2023-11-29T05:09:11.200861Z"
    }
   },
   "outputs": [
    {
     "data": {
      "text/plain": [
       "36.933"
      ]
     },
     "execution_count": 64,
     "metadata": {},
     "output_type": "execute_result"
    }
   ],
   "source": [
    "tokyo.population #필드명이나 위치를 이용해서 필드에 접근할수 있다."
   ]
  },
  {
   "cell_type": "code",
   "execution_count": 65,
   "id": "d433f372",
   "metadata": {
    "ExecuteTime": {
     "end_time": "2023-11-29T05:09:15.228571Z",
     "start_time": "2023-11-29T05:09:15.224551Z"
    }
   },
   "outputs": [
    {
     "data": {
      "text/plain": [
       "(35.689722, 139.691667)"
      ]
     },
     "execution_count": 65,
     "metadata": {},
     "output_type": "execute_result"
    }
   ],
   "source": [
    "tokyo.coordinates"
   ]
  },
  {
   "cell_type": "code",
   "execution_count": 68,
   "id": "4bf42a74",
   "metadata": {
    "ExecuteTime": {
     "end_time": "2023-11-29T05:09:44.846650Z",
     "start_time": "2023-11-29T05:09:44.841655Z"
    }
   },
   "outputs": [
    {
     "data": {
      "text/plain": [
       "'JP'"
      ]
     },
     "execution_count": 68,
     "metadata": {},
     "output_type": "execute_result"
    }
   ],
   "source": [
    "tokyo[1]"
   ]
  },
  {
   "cell_type": "markdown",
   "id": "84e0a2b3",
   "metadata": {},
   "source": [
    "### 예제2-10"
   ]
  },
  {
   "cell_type": "code",
   "execution_count": 70,
   "id": "e84c678d",
   "metadata": {
    "ExecuteTime": {
     "end_time": "2023-11-29T05:12:31.639004Z",
     "start_time": "2023-11-29T05:12:31.636071Z"
    }
   },
   "outputs": [
    {
     "data": {
      "text/plain": [
       "('name', 'country', 'population', 'coordinates')"
      ]
     },
     "execution_count": 70,
     "metadata": {},
     "output_type": "execute_result"
    }
   ],
   "source": [
    "City._fields\n",
    "# _fields는 클래스의 필드명을 담고있는 튜플이다."
   ]
  },
  {
   "cell_type": "code",
   "execution_count": 71,
   "id": "0980d5aa",
   "metadata": {
    "ExecuteTime": {
     "end_time": "2023-11-29T05:12:59.839500Z",
     "start_time": "2023-11-29T05:12:59.836864Z"
    }
   },
   "outputs": [],
   "source": [
    "LatLong = namedtuple('LatLong','lat long')"
   ]
  },
  {
   "cell_type": "code",
   "execution_count": 72,
   "id": "585449ab",
   "metadata": {
    "ExecuteTime": {
     "end_time": "2023-11-29T05:13:51.472950Z",
     "start_time": "2023-11-29T05:13:51.470504Z"
    }
   },
   "outputs": [],
   "source": [
    "delhi_data = ('Delhi NCR','IN','21.935',LatLong(28.613889, 77.208889))"
   ]
  },
  {
   "cell_type": "code",
   "execution_count": 73,
   "id": "d279ad84",
   "metadata": {
    "ExecuteTime": {
     "end_time": "2023-11-29T05:14:11.419185Z",
     "start_time": "2023-11-29T05:14:11.416017Z"
    }
   },
   "outputs": [],
   "source": [
    "delhi= City._make(delhi_data)\n",
    "# _make()는 반복형 객체로부터 명명된 튜플을 만든다.\n",
    "# City(*delhi_data)를 호출하는 코드와 동일한 역할을 수행한다."
   ]
  },
  {
   "cell_type": "code",
   "execution_count": 74,
   "id": "32081be0",
   "metadata": {
    "ExecuteTime": {
     "end_time": "2023-11-29T05:14:25.573184Z",
     "start_time": "2023-11-29T05:14:25.568706Z"
    }
   },
   "outputs": [
    {
     "data": {
      "text/plain": [
       "{'name': 'Delhi NCR',\n",
       " 'country': 'IN',\n",
       " 'population': '21.935',\n",
       " 'coordinates': LatLong(lat=28.613889, long=77.208889)}"
      ]
     },
     "execution_count": 74,
     "metadata": {},
     "output_type": "execute_result"
    }
   ],
   "source": [
    "delhi._asdict()\n",
    "# _asdict()는 명명된 튜플 객체에서 만들어진 collections.OrderedDict 객체를 반환한다.\n",
    "# 이 메서드를 이용하면 데이터를 멋지게 출력할 수 있다."
   ]
  },
  {
   "cell_type": "code",
   "execution_count": 75,
   "id": "c06d9d6c",
   "metadata": {
    "ExecuteTime": {
     "end_time": "2023-11-29T05:15:08.652915Z",
     "start_time": "2023-11-29T05:15:08.649045Z"
    }
   },
   "outputs": [
    {
     "name": "stdout",
     "output_type": "stream",
     "text": [
      "name: Delhi NCR\n",
      "country: IN\n",
      "population: 21.935\n",
      "coordinates: LatLong(lat=28.613889, long=77.208889)\n"
     ]
    }
   ],
   "source": [
    "for key, value in delhi._asdict().items():\n",
    "    print(key+':',value)"
   ]
  },
  {
   "cell_type": "markdown",
   "id": "1fbc877e",
   "metadata": {},
   "source": [
    "## 2.3.5 불변 리스트로서의 튜플"
   ]
  },
  {
   "cell_type": "code",
   "execution_count": null,
   "id": "7a952514",
   "metadata": {},
   "outputs": [],
   "source": []
  },
  {
   "cell_type": "code",
   "execution_count": null,
   "id": "6f14cf8c",
   "metadata": {},
   "outputs": [],
   "source": []
  },
  {
   "cell_type": "markdown",
   "id": "9627bb84",
   "metadata": {},
   "source": [
    "## 2.4 슬라이싱"
   ]
  },
  {
   "cell_type": "markdown",
   "id": "ba3647f0",
   "metadata": {},
   "source": [
    "### 예제 2-11"
   ]
  },
  {
   "cell_type": "code",
   "execution_count": 106,
   "id": "87bdfa64",
   "metadata": {
    "ExecuteTime": {
     "end_time": "2023-11-29T05:32:29.660254Z",
     "start_time": "2023-11-29T05:32:29.657337Z"
    }
   },
   "outputs": [],
   "source": [
    "invoice = \"\"\"\n",
    "0.....6..................................40............52...55........\n",
    "1909  Pimoroni PiBrella                      $17.50        3    $ 52.50\n",
    "1489  6mm Tactile Switch x20                 $4.95         2    $ 9.90\n",
    "1510  Panavise Jr. - PV-201                  $28.00        1    $ 28.00\n",
    "1601  PiTFT Mini Kit 320x240                 $34.95        1    $ 34.95\n",
    "\"\"\""
   ]
  },
  {
   "cell_type": "code",
   "execution_count": 107,
   "id": "7c1dccc4",
   "metadata": {
    "ExecuteTime": {
     "end_time": "2023-11-29T05:32:29.792168Z",
     "start_time": "2023-11-29T05:32:29.786045Z"
    }
   },
   "outputs": [],
   "source": [
    "SKU= slice(0,6)"
   ]
  },
  {
   "cell_type": "code",
   "execution_count": 108,
   "id": "5332e6f0",
   "metadata": {
    "ExecuteTime": {
     "end_time": "2023-11-29T05:32:29.917248Z",
     "start_time": "2023-11-29T05:32:29.914966Z"
    }
   },
   "outputs": [],
   "source": [
    "DESCRIPTION =slice(6,40)"
   ]
  },
  {
   "cell_type": "code",
   "execution_count": 109,
   "id": "0af9e91c",
   "metadata": {
    "ExecuteTime": {
     "end_time": "2023-11-29T05:32:30.044119Z",
     "start_time": "2023-11-29T05:32:30.040639Z"
    }
   },
   "outputs": [],
   "source": [
    "UNIT_PRICE = slice(40,52)"
   ]
  },
  {
   "cell_type": "code",
   "execution_count": 110,
   "id": "a4babbbd",
   "metadata": {
    "ExecuteTime": {
     "end_time": "2023-11-29T05:32:30.150655Z",
     "start_time": "2023-11-29T05:32:30.148101Z"
    }
   },
   "outputs": [],
   "source": [
    "QUANTITY=slice(52,55)"
   ]
  },
  {
   "cell_type": "code",
   "execution_count": 111,
   "id": "fbeabda5",
   "metadata": {
    "ExecuteTime": {
     "end_time": "2023-11-29T05:32:30.359584Z",
     "start_time": "2023-11-29T05:32:30.347882Z"
    }
   },
   "outputs": [],
   "source": [
    "Item_TOTAL = slice(55,None)"
   ]
  },
  {
   "cell_type": "code",
   "execution_count": 112,
   "id": "e9aff360",
   "metadata": {
    "ExecuteTime": {
     "end_time": "2023-11-29T05:32:30.496441Z",
     "start_time": "2023-11-29T05:32:30.481287Z"
    }
   },
   "outputs": [],
   "source": [
    "line_items = invoice.split('\\n')[2:]"
   ]
  },
  {
   "cell_type": "code",
   "execution_count": 113,
   "id": "0aa95839",
   "metadata": {
    "ExecuteTime": {
     "end_time": "2023-11-29T05:32:30.772944Z",
     "start_time": "2023-11-29T05:32:30.765035Z"
    }
   },
   "outputs": [
    {
     "name": "stdout",
     "output_type": "stream",
     "text": [
      "     $17.50  Pimoroni PiBrella                 \n",
      "     $4.95   6mm Tactile Switch x20            \n",
      "     $28.00  Panavise Jr. - PV-201             \n",
      "     $34.95  PiTFT Mini Kit 320x240            \n",
      " \n"
     ]
    }
   ],
   "source": [
    "for item in line_items:\n",
    "    print(item[UNIT_PRICE], item[DESCRIPTION])"
   ]
  },
  {
   "cell_type": "code",
   "execution_count": null,
   "id": "75ce446c",
   "metadata": {},
   "outputs": [],
   "source": []
  },
  {
   "cell_type": "markdown",
   "id": "ed87b268",
   "metadata": {},
   "source": [
    "### 2.4.4 슬라이스에 할당하기"
   ]
  },
  {
   "cell_type": "code",
   "execution_count": 114,
   "id": "fb7e1c0d",
   "metadata": {
    "ExecuteTime": {
     "end_time": "2023-11-29T05:35:18.614210Z",
     "start_time": "2023-11-29T05:35:18.610818Z"
    }
   },
   "outputs": [],
   "source": [
    "l = list(range(10))"
   ]
  },
  {
   "cell_type": "code",
   "execution_count": 115,
   "id": "35a2385e",
   "metadata": {
    "ExecuteTime": {
     "end_time": "2023-11-29T05:47:45.100534Z",
     "start_time": "2023-11-29T05:47:45.096839Z"
    }
   },
   "outputs": [
    {
     "data": {
      "text/plain": [
       "[0, 1, 2, 3, 4, 5, 6, 7, 8, 9]"
      ]
     },
     "execution_count": 115,
     "metadata": {},
     "output_type": "execute_result"
    }
   ],
   "source": [
    "l"
   ]
  },
  {
   "cell_type": "code",
   "execution_count": 116,
   "id": "8249c470",
   "metadata": {
    "ExecuteTime": {
     "end_time": "2023-11-29T05:47:56.819984Z",
     "start_time": "2023-11-29T05:47:56.815868Z"
    }
   },
   "outputs": [],
   "source": [
    "l[2:5]=[20,30]"
   ]
  },
  {
   "cell_type": "code",
   "execution_count": 117,
   "id": "e1127496",
   "metadata": {
    "ExecuteTime": {
     "end_time": "2023-11-29T05:48:05.052645Z",
     "start_time": "2023-11-29T05:48:05.047685Z"
    }
   },
   "outputs": [
    {
     "data": {
      "text/plain": [
       "[0, 1, 20, 30, 5, 6, 7, 8, 9]"
      ]
     },
     "execution_count": 117,
     "metadata": {},
     "output_type": "execute_result"
    }
   ],
   "source": [
    "l"
   ]
  },
  {
   "cell_type": "code",
   "execution_count": 118,
   "id": "a5bf30d9",
   "metadata": {
    "ExecuteTime": {
     "end_time": "2023-11-29T05:48:17.045597Z",
     "start_time": "2023-11-29T05:48:17.042862Z"
    }
   },
   "outputs": [],
   "source": [
    "del l[5:7]"
   ]
  },
  {
   "cell_type": "code",
   "execution_count": 119,
   "id": "6f625b5e",
   "metadata": {
    "ExecuteTime": {
     "end_time": "2023-11-29T05:48:19.861143Z",
     "start_time": "2023-11-29T05:48:19.855645Z"
    }
   },
   "outputs": [
    {
     "data": {
      "text/plain": [
       "[0, 1, 20, 30, 5, 8, 9]"
      ]
     },
     "execution_count": 119,
     "metadata": {},
     "output_type": "execute_result"
    }
   ],
   "source": [
    "l"
   ]
  },
  {
   "cell_type": "code",
   "execution_count": 120,
   "id": "6e1e6e10",
   "metadata": {
    "ExecuteTime": {
     "end_time": "2023-11-29T05:49:19.258639Z",
     "start_time": "2023-11-29T05:49:19.255681Z"
    }
   },
   "outputs": [],
   "source": [
    "l[3::2] = [11,22]"
   ]
  },
  {
   "cell_type": "code",
   "execution_count": 121,
   "id": "7bb0e591",
   "metadata": {
    "ExecuteTime": {
     "end_time": "2023-11-29T05:49:22.578887Z",
     "start_time": "2023-11-29T05:49:22.575114Z"
    }
   },
   "outputs": [
    {
     "data": {
      "text/plain": [
       "[0, 1, 20, 11, 5, 22, 9]"
      ]
     },
     "execution_count": 121,
     "metadata": {},
     "output_type": "execute_result"
    }
   ],
   "source": [
    "l"
   ]
  },
  {
   "cell_type": "code",
   "execution_count": 123,
   "id": "bad77d68",
   "metadata": {
    "ExecuteTime": {
     "end_time": "2023-11-29T05:49:47.190000Z",
     "start_time": "2023-11-29T05:49:47.177248Z"
    }
   },
   "outputs": [
    {
     "ename": "TypeError",
     "evalue": "can only assign an iterable",
     "output_type": "error",
     "traceback": [
      "\u001b[1;31m---------------------------------------------------------------------------\u001b[0m",
      "\u001b[1;31mTypeError\u001b[0m                                 Traceback (most recent call last)",
      "Cell \u001b[1;32mIn[123], line 1\u001b[0m\n\u001b[1;32m----> 1\u001b[0m l[\u001b[38;5;241m2\u001b[39m:\u001b[38;5;241m5\u001b[39m] \u001b[38;5;241m=\u001b[39m \u001b[38;5;241m100\u001b[39m\n",
      "\u001b[1;31mTypeError\u001b[0m: can only assign an iterable"
     ]
    }
   ],
   "source": [
    "l[2:5] = 100  # 에러"
   ]
  },
  {
   "cell_type": "code",
   "execution_count": 124,
   "id": "d61cd46f",
   "metadata": {
    "ExecuteTime": {
     "end_time": "2023-11-29T05:50:52.809082Z",
     "start_time": "2023-11-29T05:50:52.806631Z"
    }
   },
   "outputs": [],
   "source": [
    "l[2:5] = [100]"
   ]
  },
  {
   "cell_type": "code",
   "execution_count": 126,
   "id": "6c4e54ec",
   "metadata": {
    "ExecuteTime": {
     "end_time": "2023-11-29T05:50:58.274914Z",
     "start_time": "2023-11-29T05:50:58.270794Z"
    }
   },
   "outputs": [
    {
     "data": {
      "text/plain": [
       "[0, 1, 100, 22, 9]"
      ]
     },
     "execution_count": 126,
     "metadata": {},
     "output_type": "execute_result"
    }
   ],
   "source": [
    "l"
   ]
  },
  {
   "cell_type": "markdown",
   "id": "30e47cd8",
   "metadata": {},
   "source": [
    "## 2.5 시퀀스에 덧셈과 곱셈 연산자 사용하기"
   ]
  },
  {
   "cell_type": "code",
   "execution_count": 127,
   "id": "8c3e26b6",
   "metadata": {
    "ExecuteTime": {
     "end_time": "2023-11-29T05:52:31.574802Z",
     "start_time": "2023-11-29T05:52:31.572033Z"
    }
   },
   "outputs": [],
   "source": [
    "l=[1,2,3]"
   ]
  },
  {
   "cell_type": "code",
   "execution_count": 128,
   "id": "7481819e",
   "metadata": {
    "ExecuteTime": {
     "end_time": "2023-11-29T05:52:35.116420Z",
     "start_time": "2023-11-29T05:52:35.112919Z"
    }
   },
   "outputs": [
    {
     "data": {
      "text/plain": [
       "[1, 2, 3, 1, 2, 3, 1, 2, 3, 1, 2, 3, 1, 2, 3]"
      ]
     },
     "execution_count": 128,
     "metadata": {},
     "output_type": "execute_result"
    }
   ],
   "source": [
    "l*5"
   ]
  },
  {
   "cell_type": "code",
   "execution_count": 129,
   "id": "e085c498",
   "metadata": {
    "ExecuteTime": {
     "end_time": "2023-11-29T05:52:40.137533Z",
     "start_time": "2023-11-29T05:52:40.133473Z"
    }
   },
   "outputs": [
    {
     "data": {
      "text/plain": [
       "'abcdabcdabcdabcdabcd'"
      ]
     },
     "execution_count": 129,
     "metadata": {},
     "output_type": "execute_result"
    }
   ],
   "source": [
    "5*'abcd'"
   ]
  },
  {
   "cell_type": "code",
   "execution_count": null,
   "id": "98940085",
   "metadata": {},
   "outputs": [],
   "source": []
  },
  {
   "cell_type": "markdown",
   "id": "b7807a2f",
   "metadata": {},
   "source": [
    "### 2.5.1 리스트의 리스트 만들기"
   ]
  },
  {
   "cell_type": "markdown",
   "id": "03447a87",
   "metadata": {},
   "source": [
    "#### 예제2-12"
   ]
  },
  {
   "cell_type": "code",
   "execution_count": 130,
   "id": "8545ec12",
   "metadata": {
    "ExecuteTime": {
     "end_time": "2023-11-29T05:55:20.401735Z",
     "start_time": "2023-11-29T05:55:20.398206Z"
    }
   },
   "outputs": [],
   "source": [
    "board = [['_']*3 for i in range(3)]"
   ]
  },
  {
   "cell_type": "code",
   "execution_count": 131,
   "id": "93185b6d",
   "metadata": {
    "ExecuteTime": {
     "end_time": "2023-11-29T05:55:26.754837Z",
     "start_time": "2023-11-29T05:55:26.748968Z"
    }
   },
   "outputs": [
    {
     "data": {
      "text/plain": [
       "[['_', '_', '_'], ['_', '_', '_'], ['_', '_', '_']]"
      ]
     },
     "execution_count": 131,
     "metadata": {},
     "output_type": "execute_result"
    }
   ],
   "source": [
    "board"
   ]
  },
  {
   "cell_type": "code",
   "execution_count": 132,
   "id": "7b0ea736",
   "metadata": {
    "ExecuteTime": {
     "end_time": "2023-11-29T05:55:38.260738Z",
     "start_time": "2023-11-29T05:55:38.257369Z"
    }
   },
   "outputs": [],
   "source": [
    "board[1][2]='X'"
   ]
  },
  {
   "cell_type": "code",
   "execution_count": 133,
   "id": "c642cde4",
   "metadata": {
    "ExecuteTime": {
     "end_time": "2023-11-29T05:55:43.305883Z",
     "start_time": "2023-11-29T05:55:43.301901Z"
    }
   },
   "outputs": [
    {
     "data": {
      "text/plain": [
       "[['_', '_', '_'], ['_', '_', 'X'], ['_', '_', '_']]"
      ]
     },
     "execution_count": 133,
     "metadata": {},
     "output_type": "execute_result"
    }
   ],
   "source": [
    "board"
   ]
  },
  {
   "cell_type": "code",
   "execution_count": null,
   "id": "69094062",
   "metadata": {},
   "outputs": [],
   "source": []
  },
  {
   "cell_type": "markdown",
   "id": "88bf8731",
   "metadata": {},
   "source": [
    "#### 예제2-13  동일한 리스트에 세 개의 참조를 가진 리스트는 쓸모없다."
   ]
  },
  {
   "cell_type": "code",
   "execution_count": 134,
   "id": "a9f199f1",
   "metadata": {
    "ExecuteTime": {
     "end_time": "2023-11-29T05:57:40.705476Z",
     "start_time": "2023-11-29T05:57:40.702180Z"
    }
   },
   "outputs": [],
   "source": [
    "weird_board = [['_']*3]*3   "
   ]
  },
  {
   "cell_type": "code",
   "execution_count": 135,
   "id": "14b20933",
   "metadata": {
    "ExecuteTime": {
     "end_time": "2023-11-29T05:57:42.882001Z",
     "start_time": "2023-11-29T05:57:42.877563Z"
    }
   },
   "outputs": [
    {
     "data": {
      "text/plain": [
       "[['_', '_', '_'], ['_', '_', '_'], ['_', '_', '_']]"
      ]
     },
     "execution_count": 135,
     "metadata": {},
     "output_type": "execute_result"
    }
   ],
   "source": [
    "weird_board"
   ]
  },
  {
   "cell_type": "code",
   "execution_count": 136,
   "id": "f78bb446",
   "metadata": {
    "ExecuteTime": {
     "end_time": "2023-11-29T05:58:28.760251Z",
     "start_time": "2023-11-29T05:58:28.757646Z"
    }
   },
   "outputs": [],
   "source": [
    "weird_board[1][2]='0'"
   ]
  },
  {
   "cell_type": "code",
   "execution_count": 137,
   "id": "66fa3c6e",
   "metadata": {
    "ExecuteTime": {
     "end_time": "2023-11-29T05:58:31.219727Z",
     "start_time": "2023-11-29T05:58:31.216382Z"
    }
   },
   "outputs": [
    {
     "data": {
      "text/plain": [
       "[['_', '_', '0'], ['_', '_', '0'], ['_', '_', '0']]"
      ]
     },
     "execution_count": 137,
     "metadata": {},
     "output_type": "execute_result"
    }
   ],
   "source": [
    "weird_board  #세 개의 행이 모두 동일한 객체를 참조 "
   ]
  },
  {
   "cell_type": "code",
   "execution_count": null,
   "id": "745b0fbb",
   "metadata": {},
   "outputs": [],
   "source": [
    "# 예제 2-13 의 코드는 본질적으로 다음과 같이 작동한다."
   ]
  },
  {
   "cell_type": "code",
   "execution_count": 138,
   "id": "824f3f9f",
   "metadata": {
    "ExecuteTime": {
     "end_time": "2023-11-29T06:00:09.597232Z",
     "start_time": "2023-11-29T06:00:09.594503Z"
    }
   },
   "outputs": [],
   "source": [
    "row = ['_']*3\n",
    "board = []\n",
    "for i in range(3):\n",
    "    board.range(row)"
   ]
  },
  {
   "cell_type": "code",
   "execution_count": null,
   "id": "b8a67f59",
   "metadata": {
    "ExecuteTime": {
     "end_time": "2023-11-29T06:00:16.779361Z",
     "start_time": "2023-11-29T06:00:16.776468Z"
    }
   },
   "outputs": [],
   "source": [
    "#한편 예제 2-12 의 지능형 리스트는 다음 코드와 같이 동작한다."
   ]
  },
  {
   "cell_type": "code",
   "execution_count": 141,
   "id": "f77a4555",
   "metadata": {
    "ExecuteTime": {
     "end_time": "2023-11-29T06:01:26.439706Z",
     "start_time": "2023-11-29T06:01:26.437100Z"
    }
   },
   "outputs": [],
   "source": [
    "board = []"
   ]
  },
  {
   "cell_type": "code",
   "execution_count": 143,
   "id": "3a71e6cd",
   "metadata": {
    "ExecuteTime": {
     "end_time": "2023-11-29T06:01:50.120279Z",
     "start_time": "2023-11-29T06:01:50.116486Z"
    }
   },
   "outputs": [],
   "source": [
    "for i in range(3):\n",
    "    row=['_']*3\n",
    "    board.append(row)"
   ]
  },
  {
   "cell_type": "code",
   "execution_count": 144,
   "id": "d1d490f2",
   "metadata": {
    "ExecuteTime": {
     "end_time": "2023-11-29T06:01:52.537134Z",
     "start_time": "2023-11-29T06:01:52.532908Z"
    }
   },
   "outputs": [
    {
     "data": {
      "text/plain": [
       "[['_', '_', '_'], ['_', '_', '_'], ['_', '_', '_']]"
      ]
     },
     "execution_count": 144,
     "metadata": {},
     "output_type": "execute_result"
    }
   ],
   "source": [
    "board"
   ]
  },
  {
   "cell_type": "code",
   "execution_count": 145,
   "id": "3abc5050",
   "metadata": {
    "ExecuteTime": {
     "end_time": "2023-11-29T06:02:03.636149Z",
     "start_time": "2023-11-29T06:02:03.633205Z"
    }
   },
   "outputs": [],
   "source": [
    "board[2][0]='X'"
   ]
  },
  {
   "cell_type": "code",
   "execution_count": 146,
   "id": "fc20c567",
   "metadata": {
    "ExecuteTime": {
     "end_time": "2023-11-29T06:02:06.801064Z",
     "start_time": "2023-11-29T06:02:06.796599Z"
    }
   },
   "outputs": [
    {
     "data": {
      "text/plain": [
       "[['_', '_', '_'], ['_', '_', '_'], ['X', '_', '_']]"
      ]
     },
     "execution_count": 146,
     "metadata": {},
     "output_type": "execute_result"
    }
   ],
   "source": [
    "board"
   ]
  },
  {
   "cell_type": "code",
   "execution_count": null,
   "id": "3a1f5b2f",
   "metadata": {},
   "outputs": [],
   "source": []
  },
  {
   "cell_type": "code",
   "execution_count": null,
   "id": "da62b336",
   "metadata": {},
   "outputs": [],
   "source": []
  },
  {
   "cell_type": "code",
   "execution_count": null,
   "id": "2ba458e9",
   "metadata": {},
   "outputs": [],
   "source": []
  },
  {
   "cell_type": "code",
   "execution_count": null,
   "id": "3ea71b59",
   "metadata": {},
   "outputs": [],
   "source": []
  },
  {
   "cell_type": "code",
   "execution_count": null,
   "id": "5337de6b",
   "metadata": {},
   "outputs": [],
   "source": []
  },
  {
   "cell_type": "code",
   "execution_count": null,
   "id": "6b6ec33b",
   "metadata": {},
   "outputs": [],
   "source": []
  },
  {
   "cell_type": "code",
   "execution_count": null,
   "id": "c032bd45",
   "metadata": {},
   "outputs": [],
   "source": []
  },
  {
   "cell_type": "code",
   "execution_count": null,
   "id": "95d5779a",
   "metadata": {},
   "outputs": [],
   "source": []
  },
  {
   "cell_type": "code",
   "execution_count": null,
   "id": "32aa463b",
   "metadata": {},
   "outputs": [],
   "source": []
  },
  {
   "cell_type": "code",
   "execution_count": null,
   "id": "d78c7466",
   "metadata": {},
   "outputs": [],
   "source": []
  },
  {
   "cell_type": "code",
   "execution_count": null,
   "id": "db997664",
   "metadata": {},
   "outputs": [],
   "source": []
  },
  {
   "cell_type": "code",
   "execution_count": null,
   "id": "9754916e",
   "metadata": {},
   "outputs": [],
   "source": []
  },
  {
   "cell_type": "code",
   "execution_count": null,
   "id": "7d67021e",
   "metadata": {},
   "outputs": [],
   "source": []
  },
  {
   "cell_type": "code",
   "execution_count": null,
   "id": "66ae3a70",
   "metadata": {},
   "outputs": [],
   "source": []
  },
  {
   "cell_type": "code",
   "execution_count": null,
   "id": "2ee48092",
   "metadata": {},
   "outputs": [],
   "source": []
  }
 ],
 "metadata": {
  "kernelspec": {
   "display_name": "Python 3 (ipykernel)",
   "language": "python",
   "name": "python3"
  },
  "language_info": {
   "codemirror_mode": {
    "name": "ipython",
    "version": 3
   },
   "file_extension": ".py",
   "mimetype": "text/x-python",
   "name": "python",
   "nbconvert_exporter": "python",
   "pygments_lexer": "ipython3",
   "version": "3.11.5"
  },
  "toc": {
   "base_numbering": 1,
   "nav_menu": {},
   "number_sections": true,
   "sideBar": true,
   "skip_h1_title": false,
   "title_cell": "Table of Contents",
   "title_sidebar": "Contents",
   "toc_cell": false,
   "toc_position": {
    "height": "calc(100% - 180px)",
    "left": "10px",
    "top": "150px",
    "width": "278.385px"
   },
   "toc_section_display": true,
   "toc_window_display": true
  }
 },
 "nbformat": 4,
 "nbformat_minor": 5
}
