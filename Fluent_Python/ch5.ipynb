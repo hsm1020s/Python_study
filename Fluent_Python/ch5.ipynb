{
 "cells": [
  {
   "cell_type": "markdown",
   "id": "be05e0f7",
   "metadata": {
    "toc": true
   },
   "source": [
    "<h1>Table of Contents<span class=\"tocSkip\"></span></h1>\n",
    "<div class=\"toc\"><ul class=\"toc-item\"><li><span><a href=\"#\" data-toc-modified-id=\"-1\"><span class=\"toc-item-num\">1&nbsp;&nbsp;</span></a></span></li><li><span><a href=\"#\" data-toc-modified-id=\"-2\"><span class=\"toc-item-num\">2&nbsp;&nbsp;</span></a></span></li><li><span><a href=\"#\" data-toc-modified-id=\"-3\"><span class=\"toc-item-num\">3&nbsp;&nbsp;</span></a></span></li><li><span><a href=\"#\" data-toc-modified-id=\"-4\"><span class=\"toc-item-num\">4&nbsp;&nbsp;</span></a></span></li><li><span><a href=\"#\" data-toc-modified-id=\"-5\"><span class=\"toc-item-num\">5&nbsp;&nbsp;</span></a></span><ul class=\"toc-item\"><li><span><a href=\"#함수를-객체처럼-다루기\" data-toc-modified-id=\"함수를-객체처럼-다루기-5.1\"><span class=\"toc-item-num\">5.1&nbsp;&nbsp;</span>함수를 객체처럼 다루기</a></span></li><li><span><a href=\"#\" data-toc-modified-id=\"-5.2\"><span class=\"toc-item-num\">5.2&nbsp;&nbsp;</span></a></span></li><li><span><a href=\"#\" data-toc-modified-id=\"-5.3\"><span class=\"toc-item-num\">5.3&nbsp;&nbsp;</span></a></span></li><li><span><a href=\"#\" data-toc-modified-id=\"-5.4\"><span class=\"toc-item-num\">5.4&nbsp;&nbsp;</span></a></span></li><li><span><a href=\"#\" data-toc-modified-id=\"-5.5\"><span class=\"toc-item-num\">5.5&nbsp;&nbsp;</span></a></span></li><li><span><a href=\"#\" data-toc-modified-id=\"-5.6\"><span class=\"toc-item-num\">5.6&nbsp;&nbsp;</span></a></span></li><li><span><a href=\"#\" data-toc-modified-id=\"-5.7\"><span class=\"toc-item-num\">5.7&nbsp;&nbsp;</span></a></span></li><li><span><a href=\"#매개변수에-대한-정보-읽기\" data-toc-modified-id=\"매개변수에-대한-정보-읽기-5.8\"><span class=\"toc-item-num\">5.8&nbsp;&nbsp;</span>매개변수에 대한 정보 읽기</a></span><ul class=\"toc-item\"><li><span><a href=\"#예제5-15-원하는-길이-가까이에-있는-공백에서-잘라서-문자열을-단축하는-함수\" data-toc-modified-id=\"예제5-15-원하는-길이-가까이에-있는-공백에서-잘라서-문자열을-단축하는-함수-5.8.1\"><span class=\"toc-item-num\">5.8.1&nbsp;&nbsp;</span>예제5-15 원하는 길이 가까이에 있는 공백에서 잘라서 문자열을 단축하는 함수</a></span></li><li><span><a href=\"#예제-5-16-함수-인수에-대한-정보-추출하기\" data-toc-modified-id=\"예제-5-16-함수-인수에-대한-정보-추출하기-5.8.2\"><span class=\"toc-item-num\">5.8.2&nbsp;&nbsp;</span>예제 5-16 함수 인수에 대한 정보 추출하기</a></span></li><li><span><a href=\"#예제5-17-함수-시그니처-호출하기\" data-toc-modified-id=\"예제5-17-함수-시그니처-호출하기-5.8.3\"><span class=\"toc-item-num\">5.8.3&nbsp;&nbsp;</span>예제5-17 함수 시그니처 호출하기</a></span></li><li><span><a href=\"#예제5-18-[5-10]의-tag()에서-가져온-함수-시그니처를-인수들의-딕셔너리에-바인딩하기\" data-toc-modified-id=\"예제5-18-[5-10]의-tag()에서-가져온-함수-시그니처를-인수들의-딕셔너리에-바인딩하기-5.8.4\"><span class=\"toc-item-num\">5.8.4&nbsp;&nbsp;</span>예제5-18 [5-10]의 tag()에서 가져온 함수 시그니처를 인수들의 딕셔너리에 바인딩하기</a></span></li></ul></li><li><span><a href=\"#함수-애너테이션\" data-toc-modified-id=\"함수-애너테이션-5.9\"><span class=\"toc-item-num\">5.9&nbsp;&nbsp;</span>함수 애너테이션</a></span><ul class=\"toc-item\"><li><span><a href=\"#5-19-애너테이션을-추가한-clip()-함수\" data-toc-modified-id=\"5-19-애너테이션을-추가한-clip()-함수-5.9.1\"><span class=\"toc-item-num\">5.9.1&nbsp;&nbsp;</span>5-19 애너테이션을 추가한 clip() 함수</a></span></li></ul></li></ul></li></ul></div>"
   ]
  },
  {
   "cell_type": "markdown",
   "id": "4dcf125d",
   "metadata": {},
   "source": [
    "# "
   ]
  },
  {
   "cell_type": "markdown",
   "id": "05655eb0",
   "metadata": {},
   "source": [
    "#"
   ]
  },
  {
   "cell_type": "markdown",
   "id": "991eb265",
   "metadata": {},
   "source": [
    "#"
   ]
  },
  {
   "cell_type": "markdown",
   "id": "f0a92f31",
   "metadata": {},
   "source": [
    "#"
   ]
  },
  {
   "cell_type": "markdown",
   "id": "3f098094",
   "metadata": {},
   "source": [
    "#"
   ]
  },
  {
   "cell_type": "markdown",
   "id": "5ab669c0",
   "metadata": {},
   "source": [
    "## 함수를 객체처럼 다루기"
   ]
  },
  {
   "cell_type": "code",
   "execution_count": 1,
   "id": "9548dd4f",
   "metadata": {
    "ExecuteTime": {
     "end_time": "2023-12-01T07:54:25.113067Z",
     "start_time": "2023-12-01T07:54:25.109021Z"
    }
   },
   "outputs": [],
   "source": [
    "def factorial(n):\n",
    "    '''returns n!'''\n",
    "    return 1 if n<2 else n*factorial(n-1)"
   ]
  },
  {
   "cell_type": "code",
   "execution_count": 2,
   "id": "38e7bcc4",
   "metadata": {
    "ExecuteTime": {
     "end_time": "2023-12-01T07:54:28.647191Z",
     "start_time": "2023-12-01T07:54:28.642514Z"
    }
   },
   "outputs": [
    {
     "data": {
      "text/plain": [
       "1405006117752879898543142606244511569936384000000000"
      ]
     },
     "execution_count": 2,
     "metadata": {},
     "output_type": "execute_result"
    }
   ],
   "source": [
    "factorial(42)"
   ]
  },
  {
   "cell_type": "code",
   "execution_count": 3,
   "id": "2b9f68a9",
   "metadata": {
    "ExecuteTime": {
     "end_time": "2023-12-01T07:54:58.926684Z",
     "start_time": "2023-12-01T07:54:58.921923Z"
    }
   },
   "outputs": [
    {
     "data": {
      "text/plain": [
       "'returns n!'"
      ]
     },
     "execution_count": 3,
     "metadata": {},
     "output_type": "execute_result"
    }
   ],
   "source": [
    "factorial.__doc__"
   ]
  },
  {
   "cell_type": "code",
   "execution_count": 4,
   "id": "aea88489",
   "metadata": {
    "ExecuteTime": {
     "end_time": "2023-12-01T07:55:05.799677Z",
     "start_time": "2023-12-01T07:55:05.795189Z"
    }
   },
   "outputs": [
    {
     "data": {
      "text/plain": [
       "function"
      ]
     },
     "execution_count": 4,
     "metadata": {},
     "output_type": "execute_result"
    }
   ],
   "source": [
    "type(factorial)"
   ]
  },
  {
   "cell_type": "code",
   "execution_count": null,
   "id": "26ab7225",
   "metadata": {},
   "outputs": [],
   "source": []
  },
  {
   "cell_type": "code",
   "execution_count": 5,
   "id": "610d2130",
   "metadata": {
    "ExecuteTime": {
     "end_time": "2023-12-01T08:08:30.399935Z",
     "start_time": "2023-12-01T08:08:30.395906Z"
    }
   },
   "outputs": [],
   "source": [
    "fact = factorial"
   ]
  },
  {
   "cell_type": "code",
   "execution_count": 6,
   "id": "61ea331b",
   "metadata": {
    "ExecuteTime": {
     "end_time": "2023-12-01T08:08:33.010797Z",
     "start_time": "2023-12-01T08:08:33.005654Z"
    }
   },
   "outputs": [
    {
     "data": {
      "text/plain": [
       "<function __main__.factorial(n)>"
      ]
     },
     "execution_count": 6,
     "metadata": {},
     "output_type": "execute_result"
    }
   ],
   "source": [
    "fact"
   ]
  },
  {
   "cell_type": "code",
   "execution_count": 7,
   "id": "bdc6ab4a",
   "metadata": {
    "ExecuteTime": {
     "end_time": "2023-12-01T08:08:39.669693Z",
     "start_time": "2023-12-01T08:08:39.666707Z"
    }
   },
   "outputs": [
    {
     "data": {
      "text/plain": [
       "120"
      ]
     },
     "execution_count": 7,
     "metadata": {},
     "output_type": "execute_result"
    }
   ],
   "source": [
    "fact(5)"
   ]
  },
  {
   "cell_type": "code",
   "execution_count": 8,
   "id": "1bd39b2d",
   "metadata": {
    "ExecuteTime": {
     "end_time": "2023-12-01T08:08:48.883049Z",
     "start_time": "2023-12-01T08:08:48.878538Z"
    }
   },
   "outputs": [
    {
     "data": {
      "text/plain": [
       "<map at 0x1af46d1e020>"
      ]
     },
     "execution_count": 8,
     "metadata": {},
     "output_type": "execute_result"
    }
   ],
   "source": [
    "map(factorial, range(11))"
   ]
  },
  {
   "cell_type": "code",
   "execution_count": 9,
   "id": "1a43ac59",
   "metadata": {
    "ExecuteTime": {
     "end_time": "2023-12-01T08:08:59.651705Z",
     "start_time": "2023-12-01T08:08:59.647197Z"
    }
   },
   "outputs": [
    {
     "data": {
      "text/plain": [
       "[1, 1, 2, 6, 24, 120, 720, 5040, 40320, 362880, 3628800]"
      ]
     },
     "execution_count": 9,
     "metadata": {},
     "output_type": "execute_result"
    }
   ],
   "source": [
    "list(map(fact,range(11)))"
   ]
  },
  {
   "cell_type": "code",
   "execution_count": null,
   "id": "b43711c8",
   "metadata": {},
   "outputs": [],
   "source": []
  },
  {
   "cell_type": "code",
   "execution_count": 10,
   "id": "9967ab03",
   "metadata": {
    "ExecuteTime": {
     "end_time": "2023-12-01T08:15:08.693746Z",
     "start_time": "2023-12-01T08:15:08.689000Z"
    }
   },
   "outputs": [
    {
     "data": {
      "text/plain": [
       "['fig', 'apple', 'cherry', 'banana', 'raspberry', 'strawberry']"
      ]
     },
     "execution_count": 10,
     "metadata": {},
     "output_type": "execute_result"
    }
   ],
   "source": [
    "fruits = ['strawberry','fig','apple','cherry','raspberry','banana']\n",
    "sorted(fruits,key=len)"
   ]
  },
  {
   "cell_type": "code",
   "execution_count": null,
   "id": "1ed73781",
   "metadata": {},
   "outputs": [],
   "source": []
  },
  {
   "cell_type": "code",
   "execution_count": 11,
   "id": "37ea8e4c",
   "metadata": {
    "ExecuteTime": {
     "end_time": "2023-12-01T08:17:14.917188Z",
     "start_time": "2023-12-01T08:17:14.913829Z"
    }
   },
   "outputs": [],
   "source": [
    "def reverse(word):\n",
    "    return word[::-1]"
   ]
  },
  {
   "cell_type": "code",
   "execution_count": 12,
   "id": "e2db66f7",
   "metadata": {
    "ExecuteTime": {
     "end_time": "2023-12-01T08:17:24.822972Z",
     "start_time": "2023-12-01T08:17:24.818588Z"
    }
   },
   "outputs": [
    {
     "data": {
      "text/plain": [
       "'gnitset'"
      ]
     },
     "execution_count": 12,
     "metadata": {},
     "output_type": "execute_result"
    }
   ],
   "source": [
    "reverse('testing')"
   ]
  },
  {
   "cell_type": "code",
   "execution_count": 13,
   "id": "5c46ae0c",
   "metadata": {
    "ExecuteTime": {
     "end_time": "2023-12-01T08:17:38.006243Z",
     "start_time": "2023-12-01T08:17:38.001348Z"
    }
   },
   "outputs": [
    {
     "data": {
      "text/plain": [
       "['banana', 'apple', 'fig', 'raspberry', 'strawberry', 'cherry']"
      ]
     },
     "execution_count": 13,
     "metadata": {},
     "output_type": "execute_result"
    }
   ],
   "source": [
    "sorted(fruits,key=reverse)"
   ]
  },
  {
   "cell_type": "code",
   "execution_count": null,
   "id": "bf7c62b4",
   "metadata": {},
   "outputs": [],
   "source": []
  },
  {
   "cell_type": "code",
   "execution_count": null,
   "id": "3aa668be",
   "metadata": {},
   "outputs": [],
   "source": []
  },
  {
   "cell_type": "code",
   "execution_count": 14,
   "id": "6eae4eb2",
   "metadata": {
    "ExecuteTime": {
     "end_time": "2023-12-01T08:20:50.384940Z",
     "start_time": "2023-12-01T08:20:50.380032Z"
    }
   },
   "outputs": [
    {
     "data": {
      "text/plain": [
       "[1, 1, 2, 6, 24, 120]"
      ]
     },
     "execution_count": 14,
     "metadata": {},
     "output_type": "execute_result"
    }
   ],
   "source": [
    "list(map(fact,range(6)))"
   ]
  },
  {
   "cell_type": "code",
   "execution_count": 15,
   "id": "5bfe46ed",
   "metadata": {
    "ExecuteTime": {
     "end_time": "2023-12-01T08:21:02.711742Z",
     "start_time": "2023-12-01T08:21:02.706092Z"
    }
   },
   "outputs": [
    {
     "data": {
      "text/plain": [
       "[1, 1, 2, 6, 24, 120]"
      ]
     },
     "execution_count": 15,
     "metadata": {},
     "output_type": "execute_result"
    }
   ],
   "source": [
    "[fact(n) for n in range(6)]"
   ]
  },
  {
   "cell_type": "code",
   "execution_count": 17,
   "id": "f0e6d3ce",
   "metadata": {
    "ExecuteTime": {
     "end_time": "2023-12-01T08:21:57.313435Z",
     "start_time": "2023-12-01T08:21:57.307994Z"
    }
   },
   "outputs": [
    {
     "data": {
      "text/plain": [
       "[1, 6, 120]"
      ]
     },
     "execution_count": 17,
     "metadata": {},
     "output_type": "execute_result"
    }
   ],
   "source": [
    "list(map(factorial,filter(lambda n: n % 2,range(6))))"
   ]
  },
  {
   "cell_type": "code",
   "execution_count": 18,
   "id": "585a986c",
   "metadata": {
    "ExecuteTime": {
     "end_time": "2023-12-01T08:22:20.905038Z",
     "start_time": "2023-12-01T08:22:20.899597Z"
    }
   },
   "outputs": [
    {
     "data": {
      "text/plain": [
       "[1, 6, 120]"
      ]
     },
     "execution_count": 18,
     "metadata": {},
     "output_type": "execute_result"
    }
   ],
   "source": [
    "[factorial(n) for n in range(6) if n % 2]"
   ]
  },
  {
   "cell_type": "code",
   "execution_count": null,
   "id": "ef3049cb",
   "metadata": {},
   "outputs": [],
   "source": []
  },
  {
   "cell_type": "code",
   "execution_count": 19,
   "id": "c4ad9087",
   "metadata": {
    "ExecuteTime": {
     "end_time": "2023-12-01T08:27:15.385510Z",
     "start_time": "2023-12-01T08:27:15.381534Z"
    }
   },
   "outputs": [
    {
     "data": {
      "text/plain": [
       "4950"
      ]
     },
     "execution_count": 19,
     "metadata": {},
     "output_type": "execute_result"
    }
   ],
   "source": [
    "from functools import reduce  # 1 모듈 2 함수\n",
    "from operator import add\n",
    "reduce(add,range(100))"
   ]
  },
  {
   "cell_type": "code",
   "execution_count": 20,
   "id": "380f73d3",
   "metadata": {
    "ExecuteTime": {
     "end_time": "2023-12-01T08:27:21.611643Z",
     "start_time": "2023-12-01T08:27:21.606926Z"
    }
   },
   "outputs": [
    {
     "data": {
      "text/plain": [
       "4950"
      ]
     },
     "execution_count": 20,
     "metadata": {},
     "output_type": "execute_result"
    }
   ],
   "source": [
    "sum(range(100))"
   ]
  },
  {
   "cell_type": "code",
   "execution_count": null,
   "id": "fd1c0ec6",
   "metadata": {},
   "outputs": [],
   "source": []
  },
  {
   "cell_type": "markdown",
   "id": "48be796f",
   "metadata": {
    "ExecuteTime": {
     "end_time": "2023-12-04T02:53:16.377445Z",
     "start_time": "2023-12-04T02:53:16.374371Z"
    }
   },
   "source": [
    "##"
   ]
  },
  {
   "cell_type": "code",
   "execution_count": null,
   "id": "0bff219e",
   "metadata": {},
   "outputs": [],
   "source": []
  },
  {
   "cell_type": "markdown",
   "id": "acda7c9f",
   "metadata": {},
   "source": [
    "##"
   ]
  },
  {
   "cell_type": "code",
   "execution_count": null,
   "id": "6b2487e8",
   "metadata": {},
   "outputs": [],
   "source": []
  },
  {
   "cell_type": "markdown",
   "id": "da1c11d4",
   "metadata": {},
   "source": [
    "##"
   ]
  },
  {
   "cell_type": "code",
   "execution_count": null,
   "id": "2631d3ad",
   "metadata": {},
   "outputs": [],
   "source": []
  },
  {
   "cell_type": "markdown",
   "id": "a42da5e8",
   "metadata": {},
   "source": [
    "##"
   ]
  },
  {
   "cell_type": "code",
   "execution_count": null,
   "id": "dccc647b",
   "metadata": {},
   "outputs": [],
   "source": []
  },
  {
   "cell_type": "markdown",
   "id": "cb48bbb9",
   "metadata": {},
   "source": [
    "##"
   ]
  },
  {
   "cell_type": "code",
   "execution_count": null,
   "id": "93087f8f",
   "metadata": {},
   "outputs": [],
   "source": []
  },
  {
   "cell_type": "markdown",
   "id": "ba638327",
   "metadata": {},
   "source": [
    "##"
   ]
  },
  {
   "cell_type": "code",
   "execution_count": null,
   "id": "9df26edd",
   "metadata": {},
   "outputs": [],
   "source": []
  },
  {
   "cell_type": "markdown",
   "id": "eb10f88f",
   "metadata": {
    "ExecuteTime": {
     "end_time": "2023-12-04T02:53:41.439435Z",
     "start_time": "2023-12-04T02:53:41.436717Z"
    }
   },
   "source": [
    "## 매개변수에 대한 정보 읽기"
   ]
  },
  {
   "cell_type": "code",
   "execution_count": 8,
   "id": "b02f2bb2",
   "metadata": {
    "ExecuteTime": {
     "end_time": "2023-12-04T02:59:36.426108Z",
     "start_time": "2023-12-04T02:59:23.470166Z"
    }
   },
   "outputs": [
    {
     "name": "stdout",
     "output_type": "stream",
     "text": [
      "Collecting bobo\n",
      "  Downloading bobo-2.4.0.tar.gz (17 kB)\n",
      "  Preparing metadata (setup.py): started\n",
      "  Preparing metadata (setup.py): finished with status 'done'\n",
      "Collecting WebOb (from bobo)\n",
      "  Downloading WebOb-1.8.7-py2.py3-none-any.whl (114 kB)\n",
      "     ---------------------------------------- 0.0/115.0 kB ? eta -:--:--\n",
      "     ------------------------ -------------- 71.7/115.0 kB 3.8 MB/s eta 0:00:01\n",
      "     -------------------------------------- 115.0/115.0 kB 3.4 MB/s eta 0:00:00\n",
      "Requirement already satisfied: six in c:\\users\\huis9\\anaconda3\\lib\\site-packages (from bobo) (1.16.0)\n",
      "Building wheels for collected packages: bobo\n",
      "  Building wheel for bobo (setup.py): started\n",
      "  Building wheel for bobo (setup.py): finished with status 'done'\n",
      "  Created wheel for bobo: filename=bobo-2.4.0-py3-none-any.whl size=17337 sha256=4c3fffdf9bc08759e83845c814317318a4255215a9abe8b82621df1969fecf71\n",
      "  Stored in directory: c:\\users\\huis9\\appdata\\local\\pip\\cache\\wheels\\a4\\2a\\6a\\8f315149a21cd013b0fdc9da51d22bb79822a3de7d12046070\n",
      "Successfully built bobo\n",
      "Installing collected packages: WebOb, bobo\n",
      "Successfully installed WebOb-1.8.7 bobo-2.4.0\n",
      "Note: you may need to restart the kernel to use updated packages.\n"
     ]
    }
   ],
   "source": [
    "pip install bobo"
   ]
  },
  {
   "cell_type": "code",
   "execution_count": 6,
   "id": "de4ac76f",
   "metadata": {
    "ExecuteTime": {
     "end_time": "2023-12-04T04:51:13.028890Z",
     "start_time": "2023-12-04T04:51:12.955647Z"
    }
   },
   "outputs": [],
   "source": [
    "import bobo\n",
    "\n",
    "@bobo.query('/')\n",
    "def hello(person):\n",
    "    return 'Hello %s!' % person"
   ]
  },
  {
   "cell_type": "code",
   "execution_count": null,
   "id": "42e47080",
   "metadata": {
    "ExecuteTime": {
     "end_time": "2023-12-04T03:42:23.309398Z",
     "start_time": "2023-12-04T03:42:23.302426Z"
    }
   },
   "outputs": [],
   "source": []
  },
  {
   "cell_type": "code",
   "execution_count": 7,
   "id": "4ad6cae3",
   "metadata": {
    "ExecuteTime": {
     "end_time": "2023-12-04T04:51:13.676422Z",
     "start_time": "2023-12-04T04:51:13.662222Z"
    }
   },
   "outputs": [
    {
     "ename": "SyntaxError",
     "evalue": "invalid syntax (3813554105.py, line 1)",
     "output_type": "error",
     "traceback": [
      "\u001b[1;36m  Cell \u001b[1;32mIn[7], line 1\u001b[1;36m\u001b[0m\n\u001b[1;33m    curl -i http://localhost:8080/\u001b[0m\n\u001b[1;37m            ^\u001b[0m\n\u001b[1;31mSyntaxError\u001b[0m\u001b[1;31m:\u001b[0m invalid syntax\n"
     ]
    }
   ],
   "source": [
    "curl -i http://localhost:8080/"
   ]
  },
  {
   "cell_type": "code",
   "execution_count": 8,
   "id": "1363ae97",
   "metadata": {
    "ExecuteTime": {
     "end_time": "2023-12-04T04:51:14.176598Z",
     "start_time": "2023-12-04T04:51:14.171603Z"
    }
   },
   "outputs": [
    {
     "ename": "SyntaxError",
     "evalue": "invalid syntax (4113976901.py, line 1)",
     "output_type": "error",
     "traceback": [
      "\u001b[1;36m  Cell \u001b[1;32mIn[8], line 1\u001b[1;36m\u001b[0m\n\u001b[1;33m    curl -i http://localhost:8080/?person=Jim\u001b[0m\n\u001b[1;37m            ^\u001b[0m\n\u001b[1;31mSyntaxError\u001b[0m\u001b[1;31m:\u001b[0m invalid syntax\n"
     ]
    }
   ],
   "source": [
    "curl -i http://localhost:8080/?person=Jim"
   ]
  },
  {
   "cell_type": "markdown",
   "id": "6ed84956",
   "metadata": {},
   "source": [
    "###  예제5-15 원하는 길이 가까이에 있는 공백에서 잘라서 문자열을 단축하는 함수"
   ]
  },
  {
   "cell_type": "code",
   "execution_count": 9,
   "id": "fc50f5f9",
   "metadata": {
    "ExecuteTime": {
     "end_time": "2023-12-04T04:51:16.127161Z",
     "start_time": "2023-12-04T04:51:16.122234Z"
    }
   },
   "outputs": [],
   "source": [
    "def clip(text, max_len=80):\n",
    "    \"\"\"max_len 앞이나 뒤의 마지막 공백에서 잘라낸 텍스트를 반환한다.\n",
    "    \"\"\"\n",
    "    end = None\n",
    "    if len(text) > max_len:\n",
    "        space_before = text.rfind(' ',0, max_len)\n",
    "        if space_before >=0:\n",
    "            end= space_before\n",
    "        else:\n",
    "            space_after = text.rfind(' ',max_len)\n",
    "            if space_after >=0:\n",
    "                end = space_after\n",
    "    if end is None: # 공백이 없다.\n",
    "        end = len(text)\n",
    "    return text[:end].rstrip()"
   ]
  },
  {
   "cell_type": "markdown",
   "id": "f1409bd5",
   "metadata": {},
   "source": [
    "### 예제 5-16 함수 인수에 대한 정보 추출하기"
   ]
  },
  {
   "cell_type": "code",
   "execution_count": 10,
   "id": "8de6866f",
   "metadata": {
    "ExecuteTime": {
     "end_time": "2023-12-04T04:51:17.796853Z",
     "start_time": "2023-12-04T04:51:17.783582Z"
    }
   },
   "outputs": [
    {
     "ename": "ModuleNotFoundError",
     "evalue": "No module named 'clip'",
     "output_type": "error",
     "traceback": [
      "\u001b[1;31m---------------------------------------------------------------------------\u001b[0m",
      "\u001b[1;31mModuleNotFoundError\u001b[0m                       Traceback (most recent call last)",
      "Cell \u001b[1;32mIn[10], line 1\u001b[0m\n\u001b[1;32m----> 1\u001b[0m \u001b[38;5;28;01mimport\u001b[39;00m \u001b[38;5;21;01mclip\u001b[39;00m\n\u001b[0;32m      2\u001b[0m clip\u001b[38;5;241m.\u001b[39m\u001b[38;5;18m__defaults__\u001b[39m\n",
      "\u001b[1;31mModuleNotFoundError\u001b[0m: No module named 'clip'"
     ]
    }
   ],
   "source": [
    "import clip\n",
    "clip.__defaults__   \n",
    "# 이건 왜 에러가 날까? "
   ]
  },
  {
   "cell_type": "code",
   "execution_count": 11,
   "id": "31967f53",
   "metadata": {
    "ExecuteTime": {
     "end_time": "2023-12-04T04:51:19.223639Z",
     "start_time": "2023-12-04T04:51:19.218802Z"
    }
   },
   "outputs": [
    {
     "data": {
      "text/plain": [
       "<code object clip at 0x000001FA1B7734B0, file \"C:\\Users\\huis9\\AppData\\Local\\Temp\\ipykernel_15156\\1399020049.py\", line 1>"
      ]
     },
     "execution_count": 11,
     "metadata": {},
     "output_type": "execute_result"
    }
   ],
   "source": [
    "clip.__code__ # doctest: +ELLIPSIS"
   ]
  },
  {
   "cell_type": "code",
   "execution_count": 12,
   "id": "2c728cec",
   "metadata": {
    "ExecuteTime": {
     "end_time": "2023-12-04T04:51:21.025016Z",
     "start_time": "2023-12-04T04:51:21.021927Z"
    }
   },
   "outputs": [
    {
     "data": {
      "text/plain": [
       "('text', 'max_len', 'end', 'space_before', 'space_after')"
      ]
     },
     "execution_count": 12,
     "metadata": {},
     "output_type": "execute_result"
    }
   ],
   "source": [
    "clip.__code__.co_varnames"
   ]
  },
  {
   "cell_type": "code",
   "execution_count": 13,
   "id": "b88861b5",
   "metadata": {
    "ExecuteTime": {
     "end_time": "2023-12-04T04:51:22.336368Z",
     "start_time": "2023-12-04T04:51:22.332411Z"
    }
   },
   "outputs": [
    {
     "data": {
      "text/plain": [
       "2"
      ]
     },
     "execution_count": 13,
     "metadata": {},
     "output_type": "execute_result"
    }
   ],
   "source": [
    "clip.__code__.co_argcount"
   ]
  },
  {
   "cell_type": "code",
   "execution_count": null,
   "id": "dc4b453b",
   "metadata": {},
   "outputs": [],
   "source": []
  },
  {
   "cell_type": "markdown",
   "id": "adff8e27",
   "metadata": {},
   "source": [
    "### 예제5-17 함수 시그니처 호출하기"
   ]
  },
  {
   "cell_type": "raw",
   "id": "f7ea6ef2",
   "metadata": {
    "ExecuteTime": {
     "end_time": "2023-12-04T04:00:35.219999Z",
     "start_time": "2023-12-04T04:00:35.209276Z"
    }
   },
   "source": [
    "from clip import clip"
   ]
  },
  {
   "cell_type": "code",
   "execution_count": 14,
   "id": "76ef8ab6",
   "metadata": {
    "ExecuteTime": {
     "end_time": "2023-12-04T04:51:25.254859Z",
     "start_time": "2023-12-04T04:51:25.251109Z"
    }
   },
   "outputs": [],
   "source": [
    "from inspect import signature"
   ]
  },
  {
   "cell_type": "code",
   "execution_count": 15,
   "id": "9f023f76",
   "metadata": {
    "ExecuteTime": {
     "end_time": "2023-12-04T04:51:25.775127Z",
     "start_time": "2023-12-04T04:51:25.771872Z"
    }
   },
   "outputs": [],
   "source": [
    "sig = signature(clip)"
   ]
  },
  {
   "cell_type": "code",
   "execution_count": 16,
   "id": "3fbc7ff9",
   "metadata": {
    "ExecuteTime": {
     "end_time": "2023-12-04T04:51:26.130272Z",
     "start_time": "2023-12-04T04:51:26.117165Z"
    }
   },
   "outputs": [
    {
     "data": {
      "text/plain": [
       "<Signature (text, max_len=80)>"
      ]
     },
     "execution_count": 16,
     "metadata": {},
     "output_type": "execute_result"
    }
   ],
   "source": [
    "sig # doctest: +ELLIPSIS"
   ]
  },
  {
   "cell_type": "code",
   "execution_count": 17,
   "id": "b6e6c874",
   "metadata": {
    "ExecuteTime": {
     "end_time": "2023-12-04T04:51:26.444961Z",
     "start_time": "2023-12-04T04:51:26.433506Z"
    }
   },
   "outputs": [
    {
     "data": {
      "text/plain": [
       "'(text, max_len=80)'"
      ]
     },
     "execution_count": 17,
     "metadata": {},
     "output_type": "execute_result"
    }
   ],
   "source": [
    "str(sig)"
   ]
  },
  {
   "cell_type": "code",
   "execution_count": 18,
   "id": "e043d5f4",
   "metadata": {
    "ExecuteTime": {
     "end_time": "2023-12-04T04:51:26.839766Z",
     "start_time": "2023-12-04T04:51:26.833296Z"
    }
   },
   "outputs": [
    {
     "name": "stdout",
     "output_type": "stream",
     "text": [
      "POSITIONAL_OR_KEYWORD : text = <class 'inspect._empty'>\n",
      "POSITIONAL_OR_KEYWORD : max_len = 80\n"
     ]
    }
   ],
   "source": [
    "for name, param in sig.parameters.items():\n",
    "    print(param.kind, ':',name, '=', param.default)"
   ]
  },
  {
   "cell_type": "code",
   "execution_count": null,
   "id": "354d899e",
   "metadata": {},
   "outputs": [],
   "source": []
  },
  {
   "cell_type": "markdown",
   "id": "0e9d59b4",
   "metadata": {},
   "source": [
    "### 예제5-18 [5-10]의 tag()에서 가져온 함수 시그니처를 인수들의 딕셔너리에 바인딩하기 "
   ]
  },
  {
   "cell_type": "code",
   "execution_count": 21,
   "id": "8f440f03",
   "metadata": {
    "ExecuteTime": {
     "end_time": "2023-12-04T04:54:31.364816Z",
     "start_time": "2023-12-04T04:54:31.353993Z"
    }
   },
   "outputs": [
    {
     "ename": "NameError",
     "evalue": "name 'tag' is not defined",
     "output_type": "error",
     "traceback": [
      "\u001b[1;31m---------------------------------------------------------------------------\u001b[0m",
      "\u001b[1;31mNameError\u001b[0m                                 Traceback (most recent call last)",
      "Cell \u001b[1;32mIn[21], line 2\u001b[0m\n\u001b[0;32m      1\u001b[0m \u001b[38;5;28;01mimport\u001b[39;00m \u001b[38;5;21;01minspect\u001b[39;00m\n\u001b[1;32m----> 2\u001b[0m sig \u001b[38;5;241m=\u001b[39m inspect\u001b[38;5;241m.\u001b[39msignature(tag)\n\u001b[0;32m      3\u001b[0m my_tag \u001b[38;5;241m=\u001b[39m {\u001b[38;5;124m'\u001b[39m\u001b[38;5;124mname\u001b[39m\u001b[38;5;124m'\u001b[39m:\u001b[38;5;124m'\u001b[39m\u001b[38;5;124mimg\u001b[39m\u001b[38;5;124m'\u001b[39m, \u001b[38;5;124m'\u001b[39m\u001b[38;5;124mtitle\u001b[39m\u001b[38;5;124m'\u001b[39m:\u001b[38;5;124m'\u001b[39m\u001b[38;5;124mSunset Boulevard\u001b[39m\u001b[38;5;124m'\u001b[39m, \u001b[38;5;124m'\u001b[39m\u001b[38;5;124msrc\u001b[39m\u001b[38;5;124m'\u001b[39m: \u001b[38;5;124m'\u001b[39m\u001b[38;5;124msunset.jpg\u001b[39m\u001b[38;5;124m'\u001b[39m,\u001b[38;5;124m'\u001b[39m\u001b[38;5;124mcls\u001b[39m\u001b[38;5;124m'\u001b[39m:\u001b[38;5;124m'\u001b[39m\u001b[38;5;124mframed\u001b[39m\u001b[38;5;124m'\u001b[39m}\n\u001b[0;32m      4\u001b[0m bound_args \u001b[38;5;241m=\u001b[39m sig\u001b[38;5;241m.\u001b[39mbind(\u001b[38;5;241m*\u001b[39m\u001b[38;5;241m*\u001b[39mmy_tag)\n",
      "\u001b[1;31mNameError\u001b[0m: name 'tag' is not defined"
     ]
    }
   ],
   "source": [
    "import inspect\n",
    "sig = inspect.signature(tag)\n",
    "my_tag = {'name':'img', 'title':'Sunset Boulevard', 'src': 'sunset.jpg','cls':'framed'}\n",
    "bound_args = sig.bind(**my_tag)"
   ]
  },
  {
   "cell_type": "code",
   "execution_count": 20,
   "id": "339845f9",
   "metadata": {
    "ExecuteTime": {
     "end_time": "2023-12-04T04:51:30.444198Z",
     "start_time": "2023-12-04T04:51:30.433113Z"
    }
   },
   "outputs": [
    {
     "ename": "NameError",
     "evalue": "name 'bound_args' is not defined",
     "output_type": "error",
     "traceback": [
      "\u001b[1;31m---------------------------------------------------------------------------\u001b[0m",
      "\u001b[1;31mNameError\u001b[0m                                 Traceback (most recent call last)",
      "Cell \u001b[1;32mIn[20], line 1\u001b[0m\n\u001b[1;32m----> 1\u001b[0m bound_args\n",
      "\u001b[1;31mNameError\u001b[0m: name 'bound_args' is not defined"
     ]
    }
   ],
   "source": [
    "bound_args"
   ]
  },
  {
   "cell_type": "code",
   "execution_count": null,
   "id": "80ecf7d6",
   "metadata": {},
   "outputs": [],
   "source": []
  },
  {
   "cell_type": "markdown",
   "id": "77b80f11",
   "metadata": {},
   "source": [
    "## 함수 애너테이션"
   ]
  },
  {
   "cell_type": "code",
   "execution_count": null,
   "id": "9b967c60",
   "metadata": {},
   "outputs": [],
   "source": []
  },
  {
   "cell_type": "markdown",
   "id": "ada9647f",
   "metadata": {},
   "source": [
    "### 5-19 애너테이션을 추가한 clip() 함수"
   ]
  },
  {
   "cell_type": "code",
   "execution_count": 1,
   "id": "dd670199",
   "metadata": {
    "ExecuteTime": {
     "end_time": "2023-12-04T05:08:09.666987Z",
     "start_time": "2023-12-04T05:08:09.663711Z"
    }
   },
   "outputs": [],
   "source": [
    "def clip(text:str, max_len:'int > 0'=80) -> str:\n",
    "    \"\"\"max_len 앞이나 뒤의 마지막 공백에서 잘라낸 텍스트를 반환한다.\n",
    "    \"\"\"\n",
    "    end = None\n",
    "    if len(text) > max_len:\n",
    "        space_before = text.rfind(' ',0, max_len)\n",
    "        if space_before >= 0:\n",
    "            end = space_before\n",
    "        else:\n",
    "            space_after = text.rfind(' ',max_len)\n",
    "            if space_after >= 0:\n",
    "                end= space_after\n",
    "    if end is None: # 공백이 없다.\n",
    "        end = len(text)\n",
    "    return text[:end].rstrip()"
   ]
  },
  {
   "cell_type": "code",
   "execution_count": 2,
   "id": "6fd4f8a9",
   "metadata": {
    "ExecuteTime": {
     "end_time": "2023-12-04T05:08:10.891763Z",
     "start_time": "2023-12-04T05:08:09.668004Z"
    }
   },
   "outputs": [
    {
     "ename": "ModuleNotFoundError",
     "evalue": "No module named 'clip_annot'",
     "output_type": "error",
     "traceback": [
      "\u001b[1;31m---------------------------------------------------------------------------\u001b[0m",
      "\u001b[1;31mModuleNotFoundError\u001b[0m                       Traceback (most recent call last)",
      "Cell \u001b[1;32mIn[2], line 1\u001b[0m\n\u001b[1;32m----> 1\u001b[0m \u001b[38;5;28;01mfrom\u001b[39;00m \u001b[38;5;21;01mclip_annot\u001b[39;00m \u001b[38;5;28;01mimport\u001b[39;00m clip\n\u001b[0;32m      2\u001b[0m clip\u001b[38;5;241m.\u001b[39m\u001b[38;5;18m__annotations__\u001b[39m\n",
      "\u001b[1;31mModuleNotFoundError\u001b[0m: No module named 'clip_annot'"
     ]
    }
   ],
   "source": [
    "from clip_annot import clip\n",
    "clip.__annotations__"
   ]
  },
  {
   "cell_type": "code",
   "execution_count": null,
   "id": "60f171c8",
   "metadata": {},
   "outputs": [],
   "source": []
  },
  {
   "cell_type": "code",
   "execution_count": 3,
   "id": "cf99c97a",
   "metadata": {
    "ExecuteTime": {
     "end_time": "2023-12-04T05:08:45.214226Z",
     "start_time": "2023-12-04T05:08:45.203255Z"
    }
   },
   "outputs": [
    {
     "ename": "ModuleNotFoundError",
     "evalue": "No module named 'clip_annot'",
     "output_type": "error",
     "traceback": [
      "\u001b[1;31m---------------------------------------------------------------------------\u001b[0m",
      "\u001b[1;31mModuleNotFoundError\u001b[0m                       Traceback (most recent call last)",
      "Cell \u001b[1;32mIn[3], line 1\u001b[0m\n\u001b[1;32m----> 1\u001b[0m \u001b[38;5;28;01mfrom\u001b[39;00m \u001b[38;5;21;01mclip_annot\u001b[39;00m \u001b[38;5;28;01mimport\u001b[39;00m clip\n",
      "\u001b[1;31mModuleNotFoundError\u001b[0m: No module named 'clip_annot'"
     ]
    }
   ],
   "source": [
    "from clip_annot import clip"
   ]
  },
  {
   "cell_type": "code",
   "execution_count": null,
   "id": "f457f7f3",
   "metadata": {},
   "outputs": [],
   "source": []
  },
  {
   "cell_type": "code",
   "execution_count": null,
   "id": "b7e14c97",
   "metadata": {},
   "outputs": [],
   "source": []
  },
  {
   "cell_type": "code",
   "execution_count": null,
   "id": "99e2a952",
   "metadata": {},
   "outputs": [],
   "source": []
  },
  {
   "cell_type": "code",
   "execution_count": null,
   "id": "39c6134f",
   "metadata": {},
   "outputs": [],
   "source": []
  },
  {
   "cell_type": "code",
   "execution_count": null,
   "id": "81c15c51",
   "metadata": {},
   "outputs": [],
   "source": []
  },
  {
   "cell_type": "code",
   "execution_count": null,
   "id": "5679ff8c",
   "metadata": {},
   "outputs": [],
   "source": []
  },
  {
   "cell_type": "code",
   "execution_count": null,
   "id": "b3196796",
   "metadata": {},
   "outputs": [],
   "source": []
  },
  {
   "cell_type": "code",
   "execution_count": null,
   "id": "1205907b",
   "metadata": {},
   "outputs": [],
   "source": []
  },
  {
   "cell_type": "code",
   "execution_count": null,
   "id": "08a7ef27",
   "metadata": {},
   "outputs": [],
   "source": []
  },
  {
   "cell_type": "code",
   "execution_count": null,
   "id": "d5405448",
   "metadata": {},
   "outputs": [],
   "source": []
  },
  {
   "cell_type": "code",
   "execution_count": null,
   "id": "488a386a",
   "metadata": {},
   "outputs": [],
   "source": []
  },
  {
   "cell_type": "code",
   "execution_count": null,
   "id": "9b8eb857",
   "metadata": {},
   "outputs": [],
   "source": []
  },
  {
   "cell_type": "code",
   "execution_count": null,
   "id": "934c34f3",
   "metadata": {},
   "outputs": [],
   "source": []
  },
  {
   "cell_type": "code",
   "execution_count": null,
   "id": "8f4d73a7",
   "metadata": {},
   "outputs": [],
   "source": []
  },
  {
   "cell_type": "code",
   "execution_count": null,
   "id": "29693201",
   "metadata": {},
   "outputs": [],
   "source": []
  },
  {
   "cell_type": "code",
   "execution_count": null,
   "id": "55b8c72f",
   "metadata": {},
   "outputs": [],
   "source": []
  },
  {
   "cell_type": "code",
   "execution_count": null,
   "id": "67076884",
   "metadata": {},
   "outputs": [],
   "source": []
  },
  {
   "cell_type": "code",
   "execution_count": null,
   "id": "5b8723ec",
   "metadata": {},
   "outputs": [],
   "source": []
  },
  {
   "cell_type": "code",
   "execution_count": null,
   "id": "9ac4ded6",
   "metadata": {},
   "outputs": [],
   "source": []
  },
  {
   "cell_type": "code",
   "execution_count": null,
   "id": "1ded5661",
   "metadata": {},
   "outputs": [],
   "source": []
  },
  {
   "cell_type": "code",
   "execution_count": null,
   "id": "c559a421",
   "metadata": {},
   "outputs": [],
   "source": []
  },
  {
   "cell_type": "code",
   "execution_count": null,
   "id": "e70d063c",
   "metadata": {},
   "outputs": [],
   "source": []
  },
  {
   "cell_type": "code",
   "execution_count": null,
   "id": "54fc5a3c",
   "metadata": {},
   "outputs": [],
   "source": []
  },
  {
   "cell_type": "code",
   "execution_count": null,
   "id": "53afdc71",
   "metadata": {},
   "outputs": [],
   "source": []
  },
  {
   "cell_type": "code",
   "execution_count": null,
   "id": "bccd3bf8",
   "metadata": {},
   "outputs": [],
   "source": []
  },
  {
   "cell_type": "code",
   "execution_count": null,
   "id": "172edb42",
   "metadata": {},
   "outputs": [],
   "source": []
  },
  {
   "cell_type": "code",
   "execution_count": null,
   "id": "065d7c2e",
   "metadata": {},
   "outputs": [],
   "source": []
  },
  {
   "cell_type": "code",
   "execution_count": null,
   "id": "7f6c40d4",
   "metadata": {},
   "outputs": [],
   "source": []
  },
  {
   "cell_type": "code",
   "execution_count": null,
   "id": "f328bcc3",
   "metadata": {},
   "outputs": [],
   "source": []
  },
  {
   "cell_type": "code",
   "execution_count": null,
   "id": "9b2e29f1",
   "metadata": {},
   "outputs": [],
   "source": []
  },
  {
   "cell_type": "code",
   "execution_count": null,
   "id": "b38efc2e",
   "metadata": {},
   "outputs": [],
   "source": []
  },
  {
   "cell_type": "code",
   "execution_count": null,
   "id": "27feeb0e",
   "metadata": {},
   "outputs": [],
   "source": []
  },
  {
   "cell_type": "code",
   "execution_count": null,
   "id": "28af47a2",
   "metadata": {},
   "outputs": [],
   "source": []
  },
  {
   "cell_type": "code",
   "execution_count": null,
   "id": "b7ff8394",
   "metadata": {},
   "outputs": [],
   "source": []
  }
 ],
 "metadata": {
  "kernelspec": {
   "display_name": "Python 3 (ipykernel)",
   "language": "python",
   "name": "python3"
  },
  "language_info": {
   "codemirror_mode": {
    "name": "ipython",
    "version": 3
   },
   "file_extension": ".py",
   "mimetype": "text/x-python",
   "name": "python",
   "nbconvert_exporter": "python",
   "pygments_lexer": "ipython3",
   "version": "3.11.5"
  },
  "toc": {
   "base_numbering": 1,
   "nav_menu": {},
   "number_sections": true,
   "sideBar": true,
   "skip_h1_title": false,
   "title_cell": "Table of Contents",
   "title_sidebar": "Contents",
   "toc_cell": true,
   "toc_position": {
    "height": "calc(100% - 180px)",
    "left": "10px",
    "top": "150px",
    "width": "243.594px"
   },
   "toc_section_display": true,
   "toc_window_display": true
  }
 },
 "nbformat": 4,
 "nbformat_minor": 5
}
