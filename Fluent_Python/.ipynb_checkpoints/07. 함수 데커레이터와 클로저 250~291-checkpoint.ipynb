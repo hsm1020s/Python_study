{
 "cells": [
  {
   "cell_type": "markdown",
   "id": "00094dc4",
   "metadata": {},
   "source": [
    "#"
   ]
  },
  {
   "cell_type": "markdown",
   "id": "898c7fe6",
   "metadata": {},
   "source": [
    "#"
   ]
  },
  {
   "cell_type": "markdown",
   "id": "85be18bf",
   "metadata": {},
   "source": [
    "#"
   ]
  },
  {
   "cell_type": "markdown",
   "id": "9ac59e71",
   "metadata": {},
   "source": [
    "#"
   ]
  },
  {
   "cell_type": "markdown",
   "id": "e7aa1a43",
   "metadata": {},
   "source": [
    "#"
   ]
  },
  {
   "cell_type": "markdown",
   "id": "9cb38750",
   "metadata": {},
   "source": [
    "#"
   ]
  },
  {
   "cell_type": "markdown",
   "id": "4241a410",
   "metadata": {
    "ExecuteTime": {
     "end_time": "2024-04-15T03:22:29.266367Z",
     "start_time": "2024-04-15T03:22:29.263417Z"
    }
   },
   "source": [
    "# 함수 데커레이터와 클로저"
   ]
  },
  {
   "cell_type": "raw",
   "id": "a17005b7",
   "metadata": {},
   "source": [
    "데커레이터는 다른 함수를 인수로 받는 콜러블(데커레이트된 함수) 이다.\n",
    "데커레이터는 데커레이트된 함수에 어떤 처리를 수행하고, \n",
    "함수를 반환하거나 함수를 다른 함수나 콜러블 객체로 대체한다"
   ]
  },
  {
   "cell_type": "raw",
   "id": "216e28d3",
   "metadata": {},
   "source": [
    "예를 들어 다음 코드처럼 decorate라는 이름의 데커레이터가 있다고 가정하자."
   ]
  },
  {
   "cell_type": "raw",
   "id": "af27e60a",
   "metadata": {
    "ExecuteTime": {
     "end_time": "2024-04-15T03:25:27.554815Z",
     "start_time": "2024-04-15T03:25:27.272703Z"
    }
   },
   "source": [
    "@decorate\n",
    "def target():\n",
    "    print('running target()')"
   ]
  },
  {
   "cell_type": "raw",
   "id": "59931f39",
   "metadata": {
    "ExecuteTime": {
     "end_time": "2024-04-15T03:25:55.092114Z",
     "start_time": "2024-04-15T03:25:55.075628Z"
    }
   },
   "source": [
    "위 코드는 아래와 동일하게 작동한다."
   ]
  },
  {
   "cell_type": "raw",
   "id": "2156ee65",
   "metadata": {
    "ExecuteTime": {
     "end_time": "2024-04-15T03:26:25.632269Z",
     "start_time": "2024-04-15T03:26:25.620931Z"
    }
   },
   "source": [
    "def target():\n",
    "    print('running target()')\n",
    "\n",
    "target = decorate(target)"
   ]
  },
  {
   "cell_type": "raw",
   "id": "39c10bd4",
   "metadata": {},
   "source": [
    "두 코드를 실행한 후 target은 꼭 원래의 target()함수를 가리키는 것이 아니며, decorate(target)이 반환한\n",
    "함수를 가리키게 된다."
   ]
  },
  {
   "cell_type": "markdown",
   "id": "89d7984a",
   "metadata": {},
   "source": [
    "## 데커레이터 기본 지식"
   ]
  },
  {
   "cell_type": "code",
   "execution_count": null,
   "id": "5ae245c8",
   "metadata": {},
   "outputs": [],
   "source": []
  },
  {
   "cell_type": "markdown",
   "id": "9e11ac75",
   "metadata": {},
   "source": [
    "### 일반적으로 데커레이터는 함수를 다른 함수로 대체한다"
   ]
  },
  {
   "cell_type": "code",
   "execution_count": 5,
   "id": "7089798d",
   "metadata": {
    "ExecuteTime": {
     "end_time": "2024-04-15T03:29:15.296741Z",
     "start_time": "2024-04-15T03:29:15.293861Z"
    }
   },
   "outputs": [],
   "source": [
    "def deco(func):\n",
    "    def inner():\n",
    "        print('running inner()')\n",
    "    return inner # deco()가 inner()함수 객체를 반환한다."
   ]
  },
  {
   "cell_type": "code",
   "execution_count": 6,
   "id": "2b5422d9",
   "metadata": {
    "ExecuteTime": {
     "end_time": "2024-04-15T03:29:37.046722Z",
     "start_time": "2024-04-15T03:29:37.043520Z"
    }
   },
   "outputs": [],
   "source": [
    "@deco\n",
    "def target():  # target()을 deco로 데커레이트했다.\n",
    "    print('running target()')"
   ]
  },
  {
   "cell_type": "code",
   "execution_count": 7,
   "id": "5995b5e8",
   "metadata": {
    "ExecuteTime": {
     "end_time": "2024-04-15T03:29:45.157167Z",
     "start_time": "2024-04-15T03:29:45.154104Z"
    }
   },
   "outputs": [
    {
     "name": "stdout",
     "output_type": "stream",
     "text": [
      "running inner()\n"
     ]
    }
   ],
   "source": [
    "target() # 데커레이트된 target()을 호출하면 실제로는 inner()를 실행한다."
   ]
  },
  {
   "cell_type": "code",
   "execution_count": 8,
   "id": "34a4b8d2",
   "metadata": {
    "ExecuteTime": {
     "end_time": "2024-04-15T03:29:49.469368Z",
     "start_time": "2024-04-15T03:29:49.463842Z"
    }
   },
   "outputs": [
    {
     "data": {
      "text/plain": [
       "<function __main__.deco.<locals>.inner()>"
      ]
     },
     "execution_count": 8,
     "metadata": {},
     "output_type": "execute_result"
    }
   ],
   "source": [
    "target #조사해보면 target이 inner()를 가리키고 있음을 알 수 있다."
   ]
  },
  {
   "cell_type": "code",
   "execution_count": null,
   "id": "55735725",
   "metadata": {},
   "outputs": [],
   "source": []
  },
  {
   "cell_type": "markdown",
   "id": "40948e7f",
   "metadata": {},
   "source": [
    "## 파이썬이 데커레이터를 실행하는 시점"
   ]
  },
  {
   "cell_type": "markdown",
   "id": "ba3ef95a",
   "metadata": {},
   "source": [
    "### 예제 7-2 registration.py 모듈"
   ]
  },
  {
   "cell_type": "code",
   "execution_count": 10,
   "id": "b7e4401f",
   "metadata": {
    "ExecuteTime": {
     "end_time": "2024-04-15T03:35:58.750819Z",
     "start_time": "2024-04-15T03:35:58.740634Z"
    }
   },
   "outputs": [
    {
     "name": "stdout",
     "output_type": "stream",
     "text": [
      "running register(<function f1 at 0x0000020DDD4DB9C0>)\n",
      "running register(<function f2 at 0x0000020DDD4D82C0>)\n",
      "running main()\n",
      "registry -> [<function f1 at 0x0000020DDD4DB9C0>, <function f2 at 0x0000020DDD4D82C0>]\n",
      "running f1()\n",
      "running f2()\n",
      "running f3()\n"
     ]
    }
   ],
   "source": [
    "registry = []\n",
    "\n",
    "def register(func):\n",
    "    print('running register(%s)' % func)\n",
    "    registry.append(func)\n",
    "    return func\n",
    "\n",
    "@register\n",
    "def f1():\n",
    "    print('running f1()')\n",
    "    \n",
    "@register\n",
    "def f2():\n",
    "    print('running f2()')\n",
    "\n",
    "def f3():\n",
    "    print('running f3()')\n",
    "\n",
    "def main():\n",
    "    print('running main()')\n",
    "    print('registry ->',registry)\n",
    "    f1()\n",
    "    f2()\n",
    "    f3()\n",
    "    \n",
    "if __name__=='__main__':\n",
    "    main()"
   ]
  },
  {
   "cell_type": "code",
   "execution_count": null,
   "id": "d066a979",
   "metadata": {},
   "outputs": [],
   "source": []
  },
  {
   "cell_type": "markdown",
   "id": "032762f4",
   "metadata": {
    "ExecuteTime": {
     "end_time": "2024-04-15T03:44:17.285855Z",
     "start_time": "2024-04-15T03:44:17.273901Z"
    }
   },
   "source": [
    "## 데커레이터로 개선한 전략 패턴"
   ]
  },
  {
   "cell_type": "code",
   "execution_count": null,
   "id": "7041ec14",
   "metadata": {},
   "outputs": [],
   "source": []
  },
  {
   "cell_type": "markdown",
   "id": "30ae3c03",
   "metadata": {},
   "source": [
    "### 예제 7-3 promotion 데커레이터로 채운 promos 리스트"
   ]
  },
  {
   "cell_type": "code",
   "execution_count": 17,
   "id": "e331d340",
   "metadata": {
    "ExecuteTime": {
     "end_time": "2024-04-15T03:55:03.615646Z",
     "start_time": "2024-04-15T03:55:03.610968Z"
    }
   },
   "outputs": [],
   "source": [
    "promos = []\n",
    "\n",
    "def promotion(promo_func):\n",
    "    promos.append(promo_func)\n",
    "    return promo_func\n",
    "\n",
    "@promotion\n",
    "def fidelity(order):\n",
    "    \"\"\"충성도 포인트가 1000점 이상인 고객에게 전체 5% 할인 적용\"\"\"\n",
    "    return order.total() * .05 if order.customer.fidelity >= 1000 else 0\n",
    "\n",
    "@promotion\n",
    "def bulk_item(order):\n",
    "    \"\"\"20개 이상의 동일 상품을 구입하면 10% 할인 적용\"\"\"\n",
    "    discount = 0\n",
    "    for item in order.cart:\n",
    "        if item.quantity >= 20:\n",
    "            discount += item.total() *.1\n",
    "    return discount\n",
    "\n",
    "@promotion\n",
    "def large_order(order):\n",
    "    \"\"\"10종류 이상의 상품을 구입하면 전체 7% 할인 적용\"\"\"\n",
    "    distinct_items = {item.product for item in order.cart}\n",
    "    if len(discount_items) >= 10:\n",
    "        return order.total() * .07\n",
    "    return 0\n",
    "\n",
    "def best_promo(order):\n",
    "    \"\"\"최대로 할인 받을 금액을 반환한다\"\"\"\n",
    "    return max(promo(order) for promo in promos)"
   ]
  },
  {
   "cell_type": "code",
   "execution_count": 18,
   "id": "9620250e",
   "metadata": {
    "ExecuteTime": {
     "end_time": "2024-04-15T03:55:15.448728Z",
     "start_time": "2024-04-15T03:55:15.444405Z"
    }
   },
   "outputs": [],
   "source": [
    "# 255p"
   ]
  },
  {
   "cell_type": "markdown",
   "id": "4ee1df33",
   "metadata": {},
   "source": [
    "## 변수 범위 규칙\n"
   ]
  },
  {
   "cell_type": "code",
   "execution_count": 1,
   "id": "7686b6e5",
   "metadata": {
    "ExecuteTime": {
     "end_time": "2024-04-16T03:04:56.433326Z",
     "start_time": "2024-04-16T03:04:56.429892Z"
    }
   },
   "outputs": [],
   "source": [
    "def f1(a):\n",
    "    print(a)\n",
    "    print(b)"
   ]
  },
  {
   "cell_type": "code",
   "execution_count": 2,
   "id": "57db0028",
   "metadata": {
    "ExecuteTime": {
     "end_time": "2024-04-16T03:04:59.862482Z",
     "start_time": "2024-04-16T03:04:59.561360Z"
    }
   },
   "outputs": [
    {
     "name": "stdout",
     "output_type": "stream",
     "text": [
      "3\n"
     ]
    },
    {
     "ename": "NameError",
     "evalue": "name 'b' is not defined",
     "output_type": "error",
     "traceback": [
      "\u001b[1;31m---------------------------------------------------------------------------\u001b[0m",
      "\u001b[1;31mNameError\u001b[0m                                 Traceback (most recent call last)",
      "Cell \u001b[1;32mIn[2], line 1\u001b[0m\n\u001b[1;32m----> 1\u001b[0m f1(\u001b[38;5;241m3\u001b[39m)\n",
      "Cell \u001b[1;32mIn[1], line 3\u001b[0m, in \u001b[0;36mf1\u001b[1;34m(a)\u001b[0m\n\u001b[0;32m      1\u001b[0m \u001b[38;5;28;01mdef\u001b[39;00m \u001b[38;5;21mf1\u001b[39m(a):\n\u001b[0;32m      2\u001b[0m     \u001b[38;5;28mprint\u001b[39m(a)\n\u001b[1;32m----> 3\u001b[0m     \u001b[38;5;28mprint\u001b[39m(b)\n",
      "\u001b[1;31mNameError\u001b[0m: name 'b' is not defined"
     ]
    }
   ],
   "source": [
    "f1(3) ## 에러남"
   ]
  },
  {
   "cell_type": "code",
   "execution_count": 3,
   "id": "b3a4d519",
   "metadata": {
    "ExecuteTime": {
     "end_time": "2024-04-16T03:05:28.939929Z",
     "start_time": "2024-04-16T03:05:28.936014Z"
    }
   },
   "outputs": [
    {
     "name": "stdout",
     "output_type": "stream",
     "text": [
      "3\n",
      "6\n"
     ]
    }
   ],
   "source": [
    "b=6\n",
    "f1(3) #에러가 안난다 "
   ]
  },
  {
   "cell_type": "code",
   "execution_count": 25,
   "id": "31f557be",
   "metadata": {
    "ExecuteTime": {
     "end_time": "2024-04-16T03:14:37.334005Z",
     "start_time": "2024-04-16T03:14:37.330594Z"
    }
   },
   "outputs": [
    {
     "name": "stdout",
     "output_type": "stream",
     "text": [
      "  1           0 RESUME                   0\n",
      "\n",
      "  2           2 LOAD_GLOBAL              1 (NULL + print)\n",
      "             14 LOAD_FAST                0 (a)\n",
      "             16 PRECALL                  1\n",
      "             20 CALL                     1\n",
      "             30 POP_TOP\n",
      "\n",
      "  3          32 LOAD_GLOBAL              1 (NULL + print)\n",
      "             44 LOAD_GLOBAL              2 (b)\n",
      "             56 PRECALL                  1\n",
      "             60 CALL                     1\n",
      "             70 POP_TOP\n",
      "             72 LOAD_CONST               0 (None)\n",
      "             74 RETURN_VALUE\n"
     ]
    }
   ],
   "source": [
    "dis(f1)"
   ]
  },
  {
   "cell_type": "code",
   "execution_count": 6,
   "id": "d8963adb",
   "metadata": {
    "ExecuteTime": {
     "end_time": "2024-04-16T03:07:39.624920Z",
     "start_time": "2024-04-16T03:07:39.621141Z"
    }
   },
   "outputs": [],
   "source": [
    "b=6\n",
    "def f2(a):\n",
    "    print(a)\n",
    "    print(b)\n",
    "    b=9"
   ]
  },
  {
   "cell_type": "code",
   "execution_count": 7,
   "id": "ae311837",
   "metadata": {
    "ExecuteTime": {
     "end_time": "2024-04-16T03:07:41.142120Z",
     "start_time": "2024-04-16T03:07:41.122796Z"
    }
   },
   "outputs": [
    {
     "name": "stdout",
     "output_type": "stream",
     "text": [
      "3\n"
     ]
    },
    {
     "ename": "UnboundLocalError",
     "evalue": "cannot access local variable 'b' where it is not associated with a value",
     "output_type": "error",
     "traceback": [
      "\u001b[1;31m---------------------------------------------------------------------------\u001b[0m",
      "\u001b[1;31mUnboundLocalError\u001b[0m                         Traceback (most recent call last)",
      "Cell \u001b[1;32mIn[7], line 1\u001b[0m\n\u001b[1;32m----> 1\u001b[0m f2(\u001b[38;5;241m3\u001b[39m)\n",
      "Cell \u001b[1;32mIn[6], line 4\u001b[0m, in \u001b[0;36mf2\u001b[1;34m(a)\u001b[0m\n\u001b[0;32m      2\u001b[0m \u001b[38;5;28;01mdef\u001b[39;00m \u001b[38;5;21mf2\u001b[39m(a):\n\u001b[0;32m      3\u001b[0m     \u001b[38;5;28mprint\u001b[39m(a)\n\u001b[1;32m----> 4\u001b[0m     \u001b[38;5;28mprint\u001b[39m(b)\n\u001b[0;32m      5\u001b[0m     b\u001b[38;5;241m=\u001b[39m\u001b[38;5;241m9\u001b[39m\n",
      "\u001b[1;31mUnboundLocalError\u001b[0m: cannot access local variable 'b' where it is not associated with a value"
     ]
    }
   ],
   "source": [
    "f2(3)"
   ]
  },
  {
   "cell_type": "code",
   "execution_count": 19,
   "id": "9d710e33",
   "metadata": {
    "ExecuteTime": {
     "end_time": "2024-04-16T03:12:09.263457Z",
     "start_time": "2024-04-16T03:12:09.258366Z"
    }
   },
   "outputs": [],
   "source": [
    "b=6\n",
    "def f3(a):\n",
    "    global b\n",
    "    print(a)\n",
    "    print(b)\n",
    "    b=11"
   ]
  },
  {
   "cell_type": "code",
   "execution_count": 20,
   "id": "2030206f",
   "metadata": {
    "ExecuteTime": {
     "end_time": "2024-04-16T03:12:10.176007Z",
     "start_time": "2024-04-16T03:12:10.171874Z"
    }
   },
   "outputs": [
    {
     "name": "stdout",
     "output_type": "stream",
     "text": [
      "3\n",
      "6\n"
     ]
    }
   ],
   "source": [
    "f3(3)"
   ]
  },
  {
   "cell_type": "code",
   "execution_count": 21,
   "id": "88a6b852",
   "metadata": {
    "ExecuteTime": {
     "end_time": "2024-04-16T03:12:10.693034Z",
     "start_time": "2024-04-16T03:12:10.688935Z"
    }
   },
   "outputs": [
    {
     "data": {
      "text/plain": [
       "11"
      ]
     },
     "execution_count": 21,
     "metadata": {},
     "output_type": "execute_result"
    }
   ],
   "source": [
    "b"
   ]
  },
  {
   "cell_type": "code",
   "execution_count": 22,
   "id": "0cf6c25e",
   "metadata": {
    "ExecuteTime": {
     "end_time": "2024-04-16T03:12:11.268617Z",
     "start_time": "2024-04-16T03:12:11.265483Z"
    }
   },
   "outputs": [
    {
     "name": "stdout",
     "output_type": "stream",
     "text": [
      "3\n",
      "11\n"
     ]
    }
   ],
   "source": [
    "f3(3)"
   ]
  },
  {
   "cell_type": "code",
   "execution_count": 18,
   "id": "21d1ace8",
   "metadata": {
    "ExecuteTime": {
     "end_time": "2024-04-16T03:12:03.015200Z",
     "start_time": "2024-04-16T03:12:03.008223Z"
    }
   },
   "outputs": [
    {
     "data": {
      "text/plain": [
       "30"
      ]
     },
     "execution_count": 18,
     "metadata": {},
     "output_type": "execute_result"
    }
   ],
   "source": [
    "b=30\n",
    "b"
   ]
  },
  {
   "cell_type": "code",
   "execution_count": 24,
   "id": "20be8f67",
   "metadata": {
    "ExecuteTime": {
     "end_time": "2024-04-16T03:12:52.626461Z",
     "start_time": "2024-04-16T03:12:52.622117Z"
    }
   },
   "outputs": [
    {
     "name": "stdout",
     "output_type": "stream",
     "text": [
      "  1           0 RESUME                   0\n",
      "\n",
      "  2           2 LOAD_GLOBAL              1 (NULL + print)\n",
      "             14 LOAD_FAST                0 (a)\n",
      "             16 PRECALL                  1\n",
      "             20 CALL                     1\n",
      "             30 POP_TOP\n",
      "\n",
      "  3          32 LOAD_GLOBAL              1 (NULL + print)\n",
      "             44 LOAD_GLOBAL              2 (b)\n",
      "             56 PRECALL                  1\n",
      "             60 CALL                     1\n",
      "             70 POP_TOP\n",
      "             72 LOAD_CONST               0 (None)\n",
      "             74 RETURN_VALUE\n"
     ]
    }
   ],
   "source": [
    "from dis import dis\n",
    "dis(f1)"
   ]
  },
  {
   "cell_type": "code",
   "execution_count": 26,
   "id": "17541adb",
   "metadata": {
    "ExecuteTime": {
     "end_time": "2024-04-16T03:15:50.346625Z",
     "start_time": "2024-04-16T03:15:50.342221Z"
    }
   },
   "outputs": [
    {
     "name": "stdout",
     "output_type": "stream",
     "text": [
      "  2           0 RESUME                   0\n",
      "\n",
      "  3           2 LOAD_GLOBAL              1 (NULL + print)\n",
      "             14 LOAD_FAST                0 (a)\n",
      "             16 PRECALL                  1\n",
      "             20 CALL                     1\n",
      "             30 POP_TOP\n",
      "\n",
      "  4          32 LOAD_GLOBAL              1 (NULL + print)\n",
      "             44 LOAD_FAST                1 (b)\n",
      "             46 PRECALL                  1\n",
      "             50 CALL                     1\n",
      "             60 POP_TOP\n",
      "\n",
      "  5          62 LOAD_CONST               1 (9)\n",
      "             64 STORE_FAST               1 (b)\n",
      "             66 LOAD_CONST               0 (None)\n",
      "             68 RETURN_VALUE\n"
     ]
    }
   ],
   "source": [
    "dis(f2)"
   ]
  },
  {
   "cell_type": "code",
   "execution_count": null,
   "id": "ccad326e",
   "metadata": {},
   "outputs": [],
   "source": []
  },
  {
   "cell_type": "markdown",
   "id": "c28da72f",
   "metadata": {},
   "source": [
    "## 클로저"
   ]
  },
  {
   "cell_type": "code",
   "execution_count": 39,
   "id": "166f6a03",
   "metadata": {
    "ExecuteTime": {
     "end_time": "2024-04-16T03:30:07.822346Z",
     "start_time": "2024-04-16T03:30:07.818662Z"
    }
   },
   "outputs": [],
   "source": [
    "class Averager():\n",
    "    \n",
    "    def __init__(self):\n",
    "        self.series = []\n",
    "        \n",
    "    def __call__(self, new_value):\n",
    "        self.series.append(new_value)\n",
    "        total= sum(self.series)\n",
    "        return total/len(self.series)"
   ]
  },
  {
   "cell_type": "code",
   "execution_count": 32,
   "id": "cd41f7ef",
   "metadata": {
    "ExecuteTime": {
     "end_time": "2024-04-16T03:21:55.469483Z",
     "start_time": "2024-04-16T03:21:55.465931Z"
    }
   },
   "outputs": [],
   "source": [
    "avg = Averager()"
   ]
  },
  {
   "cell_type": "code",
   "execution_count": 33,
   "id": "00e7a9b1",
   "metadata": {
    "ExecuteTime": {
     "end_time": "2024-04-16T03:21:56.126229Z",
     "start_time": "2024-04-16T03:21:56.121145Z"
    }
   },
   "outputs": [
    {
     "data": {
      "text/plain": [
       "10.0"
      ]
     },
     "execution_count": 33,
     "metadata": {},
     "output_type": "execute_result"
    }
   ],
   "source": [
    "avg(10)"
   ]
  },
  {
   "cell_type": "code",
   "execution_count": 34,
   "id": "9cdb455a",
   "metadata": {
    "ExecuteTime": {
     "end_time": "2024-04-16T03:21:59.877254Z",
     "start_time": "2024-04-16T03:21:59.866906Z"
    }
   },
   "outputs": [
    {
     "data": {
      "text/plain": [
       "10.5"
      ]
     },
     "execution_count": 34,
     "metadata": {},
     "output_type": "execute_result"
    }
   ],
   "source": [
    "avg(11)"
   ]
  },
  {
   "cell_type": "code",
   "execution_count": 35,
   "id": "972b8a35",
   "metadata": {
    "ExecuteTime": {
     "end_time": "2024-04-16T03:22:04.069393Z",
     "start_time": "2024-04-16T03:22:04.064701Z"
    }
   },
   "outputs": [
    {
     "data": {
      "text/plain": [
       "11.0"
      ]
     },
     "execution_count": 35,
     "metadata": {},
     "output_type": "execute_result"
    }
   ],
   "source": [
    "avg(12)"
   ]
  },
  {
   "cell_type": "code",
   "execution_count": null,
   "id": "4bd092a6",
   "metadata": {},
   "outputs": [],
   "source": []
  },
  {
   "cell_type": "code",
   "execution_count": 38,
   "id": "8b4f2e47",
   "metadata": {
    "ExecuteTime": {
     "end_time": "2024-04-16T03:29:57.092080Z",
     "start_time": "2024-04-16T03:29:57.089039Z"
    }
   },
   "outputs": [],
   "source": [
    "def make_averager(): # 이동 평균을 계산하는 고위 함수 \n",
    "    series = []\n",
    "    \n",
    "    def averager(new_value):\n",
    "        series.append(new_value)\n",
    "        total = sum(series)\n",
    "        return total/len(series)\n",
    "    return averager"
   ]
  },
  {
   "cell_type": "code",
   "execution_count": 37,
   "id": "69bd99eb",
   "metadata": {
    "ExecuteTime": {
     "end_time": "2024-04-16T03:28:41.837093Z",
     "start_time": "2024-04-16T03:28:41.824971Z"
    }
   },
   "outputs": [
    {
     "ename": "AttributeError",
     "evalue": "'Averager' object has no attribute '__code__'",
     "output_type": "error",
     "traceback": [
      "\u001b[1;31m---------------------------------------------------------------------------\u001b[0m",
      "\u001b[1;31mAttributeError\u001b[0m                            Traceback (most recent call last)",
      "Cell \u001b[1;32mIn[37], line 1\u001b[0m\n\u001b[1;32m----> 1\u001b[0m avg\u001b[38;5;241m.\u001b[39m\u001b[38;5;18m__code__\u001b[39m\u001b[38;5;241m.\u001b[39mco_varnames\n",
      "\u001b[1;31mAttributeError\u001b[0m: 'Averager' object has no attribute '__code__'"
     ]
    }
   ],
   "source": [
    "# avg. 262p에 왜 code가 없지 \n",
    "avg.__clo ## 클로저도 없는데? "
   ]
  },
  {
   "cell_type": "code",
   "execution_count": null,
   "id": "f362b60f",
   "metadata": {},
   "outputs": [],
   "source": [
    "# nonlocal -> 변수를 논로컬로 선언하면 함수 안에서 변수에 새로운 값을 할당하더라도 그 변수는 자유변수임을\n",
    "# 나타낸다. "
   ]
  },
  {
   "cell_type": "code",
   "execution_count": null,
   "id": "b58c697e",
   "metadata": {},
   "outputs": [],
   "source": []
  },
  {
   "cell_type": "code",
   "execution_count": null,
   "id": "71b03ad3",
   "metadata": {},
   "outputs": [],
   "source": [
    "# 전체 이력을 유지하지 않고 이동 평균을 계산하는 잘못된 고위 함수"
   ]
  },
  {
   "cell_type": "code",
   "execution_count": 40,
   "id": "271d261e",
   "metadata": {
    "ExecuteTime": {
     "end_time": "2024-04-16T03:35:41.903254Z",
     "start_time": "2024-04-16T03:35:41.899631Z"
    }
   },
   "outputs": [],
   "source": [
    "def make_averager():\n",
    "    count =0\n",
    "    total =0\n",
    "    \n",
    "    def averager(new_value):\n",
    "        count +=1 \n",
    "        total += new_value\n",
    "        return total/count\n",
    "    \n",
    "    return averager"
   ]
  },
  {
   "cell_type": "code",
   "execution_count": 42,
   "id": "7fab8379",
   "metadata": {
    "ExecuteTime": {
     "end_time": "2024-04-16T03:35:59.400651Z",
     "start_time": "2024-04-16T03:35:59.384643Z"
    }
   },
   "outputs": [
    {
     "ename": "UnboundLocalError",
     "evalue": "cannot access local variable 'count' where it is not associated with a value",
     "output_type": "error",
     "traceback": [
      "\u001b[1;31m---------------------------------------------------------------------------\u001b[0m",
      "\u001b[1;31mUnboundLocalError\u001b[0m                         Traceback (most recent call last)",
      "Cell \u001b[1;32mIn[42], line 2\u001b[0m\n\u001b[0;32m      1\u001b[0m avg \u001b[38;5;241m=\u001b[39m make_averager()\n\u001b[1;32m----> 2\u001b[0m avg(\u001b[38;5;241m10\u001b[39m)\n",
      "Cell \u001b[1;32mIn[40], line 6\u001b[0m, in \u001b[0;36mmake_averager.<locals>.averager\u001b[1;34m(new_value)\u001b[0m\n\u001b[0;32m      5\u001b[0m \u001b[38;5;28;01mdef\u001b[39;00m \u001b[38;5;21maverager\u001b[39m(new_value):\n\u001b[1;32m----> 6\u001b[0m     count \u001b[38;5;241m+\u001b[39m\u001b[38;5;241m=\u001b[39m\u001b[38;5;241m1\u001b[39m \n\u001b[0;32m      7\u001b[0m     total \u001b[38;5;241m+\u001b[39m\u001b[38;5;241m=\u001b[39m new_value\n\u001b[0;32m      8\u001b[0m     \u001b[38;5;28;01mreturn\u001b[39;00m total\u001b[38;5;241m/\u001b[39mcount\n",
      "\u001b[1;31mUnboundLocalError\u001b[0m: cannot access local variable 'count' where it is not associated with a value"
     ]
    }
   ],
   "source": [
    "avg = make_averager()\n",
    "avg(10)  # 에러나는거 맞음 "
   ]
  },
  {
   "cell_type": "code",
   "execution_count": null,
   "id": "233f5132",
   "metadata": {},
   "outputs": [],
   "source": [
    "# 전체 이력을 유지하지 않고 이동 평균 계산하기 ( nonlocal로 수정)"
   ]
  },
  {
   "cell_type": "markdown",
   "id": "6ba925c2",
   "metadata": {},
   "source": [
    "## nonlocal 선언"
   ]
  },
  {
   "cell_type": "code",
   "execution_count": 43,
   "id": "a760bac6",
   "metadata": {
    "ExecuteTime": {
     "end_time": "2024-04-16T03:37:34.115822Z",
     "start_time": "2024-04-16T03:37:34.111828Z"
    }
   },
   "outputs": [],
   "source": [
    "def make_averager():\n",
    "    count =0\n",
    "    total =0\n",
    "    \n",
    "    def averager(new_value):\n",
    "        nonlocal count, total\n",
    "        count += 1\n",
    "        total += new_value\n",
    "        return total/ count\n",
    "    \n",
    "    \n",
    "    return averager"
   ]
  },
  {
   "cell_type": "code",
   "execution_count": null,
   "id": "329c9233",
   "metadata": {},
   "outputs": [],
   "source": []
  },
  {
   "cell_type": "markdown",
   "id": "710c8039",
   "metadata": {},
   "source": [
    "## 간단한 데커레이터 구현하기"
   ]
  },
  {
   "cell_type": "code",
   "execution_count": null,
   "id": "4d8ae38c",
   "metadata": {},
   "outputs": [],
   "source": [
    "# 265p"
   ]
  },
  {
   "cell_type": "code",
   "execution_count": 1,
   "id": "a9bd323f",
   "metadata": {
    "ExecuteTime": {
     "end_time": "2024-04-28T22:13:48.119574Z",
     "start_time": "2024-04-28T22:13:48.114962Z"
    }
   },
   "outputs": [],
   "source": [
    "import time"
   ]
  },
  {
   "cell_type": "code",
   "execution_count": 2,
   "id": "5cd1fd97",
   "metadata": {
    "ExecuteTime": {
     "end_time": "2024-04-28T22:17:21.082193Z",
     "start_time": "2024-04-28T22:17:21.075281Z"
    }
   },
   "outputs": [],
   "source": [
    "def clock(func):\n",
    "    def clocked(*args): #1 \n",
    "        t0 = time.perf_counter()\n",
    "        result =func(*args) #2\n",
    "        elapsed = func.__name__\n",
    "        arg_str = ', '.join(repr(arg) for arg in args)\n",
    "        print('[%0.8fs] %s(%s) -> %r'% (elapsed, name, arg_str, result))\n",
    "        return result\n",
    "    return clocked #3"
   ]
  },
  {
   "cell_type": "markdown",
   "id": "0cf354ed",
   "metadata": {},
   "source": [
    "1. 내부 함수 clocked()가 임의 개수의 위치 인수를 받을 수 있도록 정의한다.\n",
    "2. clocked()에 대한 클로저에 자유 변수가 func 가 들어가야 이 코드가 작동한다.\n",
    "3. 내부 함수를 반환해서 데커레이트된 함수를 대체한다."
   ]
  },
  {
   "cell_type": "code",
   "execution_count": 5,
   "id": "cc295e7d",
   "metadata": {
    "ExecuteTime": {
     "end_time": "2024-04-28T22:21:29.403510Z",
     "start_time": "2024-04-28T22:21:29.386031Z"
    }
   },
   "outputs": [
    {
     "ename": "ModuleNotFoundError",
     "evalue": "No module named 'clockdeco'",
     "output_type": "error",
     "traceback": [
      "\u001b[1;31m---------------------------------------------------------------------------\u001b[0m",
      "\u001b[1;31mModuleNotFoundError\u001b[0m                       Traceback (most recent call last)",
      "Cell \u001b[1;32mIn[5], line 4\u001b[0m\n\u001b[0;32m      1\u001b[0m \u001b[38;5;66;03m# clockdeco_demo.py\u001b[39;00m\n\u001b[0;32m      3\u001b[0m \u001b[38;5;28;01mimport\u001b[39;00m \u001b[38;5;21;01mtime\u001b[39;00m\n\u001b[1;32m----> 4\u001b[0m \u001b[38;5;28;01mfrom\u001b[39;00m \u001b[38;5;21;01mclockdeco\u001b[39;00m \u001b[38;5;28;01mimport\u001b[39;00m clock\n\u001b[0;32m      6\u001b[0m \u001b[38;5;129m@clock\u001b[39m\n\u001b[0;32m      7\u001b[0m \u001b[38;5;28;01mdef\u001b[39;00m \u001b[38;5;21msnooze\u001b[39m(seconds):\n\u001b[0;32m      8\u001b[0m     time\u001b[38;5;241m.\u001b[39msleep(seconds)\n",
      "\u001b[1;31mModuleNotFoundError\u001b[0m: No module named 'clockdeco'"
     ]
    }
   ],
   "source": [
    "# clockdeco_demo.py\n",
    "\n",
    "import time\n",
    "from clockdeco import clock \n",
    "\n",
    "@clock\n",
    "def snooze(seconds):\n",
    "    time.sleep(seconds)\n",
    "    \n",
    "@clock\n",
    "def factorial(n):\n",
    "    return 1 if n < 2 else n*factorial(n-1)\n",
    "\n",
    "if __name__=='__main__':\n",
    "    print('*' * 40, 'Calling snooze(.123)')\n",
    "    snooze(.123)\n",
    "    print('*' * 40, 'Calling factorial(6)')\n",
    "    print('6! =',factorial(6))"
   ]
  },
  {
   "cell_type": "markdown",
   "id": "5ed07112",
   "metadata": {},
   "source": [
    " 위에거 왜 작동을 안하는지 나중에 확인 "
   ]
  },
  {
   "cell_type": "raw",
   "id": "f190310c",
   "metadata": {},
   "source": [
    "# 개선된 clock 데커레이터"
   ]
  },
  {
   "cell_type": "code",
   "execution_count": 7,
   "id": "7c73bd74",
   "metadata": {
    "ExecuteTime": {
     "end_time": "2024-04-28T22:41:49.607915Z",
     "start_time": "2024-04-28T22:41:49.597752Z"
    }
   },
   "outputs": [],
   "source": [
    "# clockdeco2.py\n",
    "\n",
    "import time\n",
    "import functools\n",
    "\n",
    "def clock(func):\n",
    "    @functools.wraps(func)\n",
    "    def clocked(*args, **kwargs):\n",
    "        t0: time.time()\n",
    "        result = func(*args, **kwargs)\n",
    "        elapse = time.time() - t0\n",
    "        name = func.__name__\n",
    "        arg_lst = []\n",
    "        if args:\n",
    "            arg_lst.append(', '.join(repr(arg) for arg in args))\n",
    "        if kwargs:\n",
    "            pairs = ['%s=%r' % (k,w) for k, w in sorted (kwargs.items())]\n",
    "            arg_lst.append(', '.join(pairs))\n",
    "        arg_str = ', '.join(arg_lst)\n",
    "        print('[%0.8fs] %s(%s) -> %r ' % (elapsed, name, arg_str, result))\n",
    "        return result \n",
    "    return clocked"
   ]
  },
  {
   "cell_type": "code",
   "execution_count": null,
   "id": "55d26369",
   "metadata": {},
   "outputs": [],
   "source": []
  },
  {
   "cell_type": "markdown",
   "id": "b8790cf6",
   "metadata": {},
   "source": [
    "## 표준 라이브러리에서 제공하는 데커레이터"
   ]
  },
  {
   "cell_type": "code",
   "execution_count": null,
   "id": "29520ea5",
   "metadata": {},
   "outputs": [],
   "source": []
  },
  {
   "cell_type": "markdown",
   "id": "561d9586",
   "metadata": {},
   "source": [
    "### functools.lru_cache()를 이용한 메모이제이션"
   ]
  },
  {
   "cell_type": "code",
   "execution_count": null,
   "id": "9d815a5a",
   "metadata": {},
   "outputs": [],
   "source": []
  },
  {
   "cell_type": "markdown",
   "id": "38175ed8",
   "metadata": {},
   "source": [
    "#### 예제7-18 fibo_demo.py 피보나치 수열에서 n번째 숫자를 아주 값비싸게 계산하는 방식"
   ]
  },
  {
   "cell_type": "code",
   "execution_count": 9,
   "id": "08fc8316",
   "metadata": {
    "ExecuteTime": {
     "end_time": "2024-04-28T22:48:05.711759Z",
     "start_time": "2024-04-28T22:48:05.686845Z"
    }
   },
   "outputs": [
    {
     "ename": "ModuleNotFoundError",
     "evalue": "No module named 'clockdeco'",
     "output_type": "error",
     "traceback": [
      "\u001b[1;31m---------------------------------------------------------------------------\u001b[0m",
      "\u001b[1;31mModuleNotFoundError\u001b[0m                       Traceback (most recent call last)",
      "Cell \u001b[1;32mIn[9], line 1\u001b[0m\n\u001b[1;32m----> 1\u001b[0m \u001b[38;5;28;01mfrom\u001b[39;00m \u001b[38;5;21;01mclockdeco\u001b[39;00m \u001b[38;5;28;01mimport\u001b[39;00m clock\n\u001b[0;32m      3\u001b[0m \u001b[38;5;129m@clock\u001b[39m\n\u001b[0;32m      4\u001b[0m \u001b[38;5;28;01mdef\u001b[39;00m \u001b[38;5;21mfibonacci\u001b[39m(n):\n\u001b[0;32m      5\u001b[0m     \u001b[38;5;28;01mif\u001b[39;00m n\u001b[38;5;241m<\u001b[39m\u001b[38;5;241m2\u001b[39m:\n",
      "\u001b[1;31mModuleNotFoundError\u001b[0m: No module named 'clockdeco'"
     ]
    }
   ],
   "source": [
    "from clockdeco import clock\n",
    "\n",
    "@clock\n",
    "def fibonacci(n):\n",
    "    if n<2:\n",
    "        return n\n",
    "    return fibonacci(n-2) + fibonacci(n-1)\n",
    "\n",
    "if __name__=='__main__':\n",
    "    print(fibonacci(6))"
   ]
  },
  {
   "cell_type": "code",
   "execution_count": null,
   "id": "f21cfa90",
   "metadata": {},
   "outputs": [],
   "source": [
    "# 아니 왜 clockdeco가 없다는거냐 "
   ]
  },
  {
   "cell_type": "code",
   "execution_count": null,
   "id": "f0b3fddd",
   "metadata": {},
   "outputs": [],
   "source": [
    "#270 "
   ]
  },
  {
   "cell_type": "code",
   "execution_count": null,
   "id": "6555f11d",
   "metadata": {},
   "outputs": [],
   "source": []
  },
  {
   "cell_type": "code",
   "execution_count": null,
   "id": "0f4a739c",
   "metadata": {},
   "outputs": [],
   "source": []
  },
  {
   "cell_type": "code",
   "execution_count": null,
   "id": "86b99f66",
   "metadata": {},
   "outputs": [],
   "source": []
  },
  {
   "cell_type": "code",
   "execution_count": null,
   "id": "0129e7b1",
   "metadata": {},
   "outputs": [],
   "source": []
  },
  {
   "cell_type": "code",
   "execution_count": null,
   "id": "4e5fd0ab",
   "metadata": {},
   "outputs": [],
   "source": []
  },
  {
   "cell_type": "code",
   "execution_count": null,
   "id": "28c1b481",
   "metadata": {},
   "outputs": [],
   "source": []
  },
  {
   "cell_type": "code",
   "execution_count": null,
   "id": "15485df3",
   "metadata": {},
   "outputs": [],
   "source": []
  },
  {
   "cell_type": "code",
   "execution_count": null,
   "id": "79fa0500",
   "metadata": {},
   "outputs": [],
   "source": []
  },
  {
   "cell_type": "code",
   "execution_count": null,
   "id": "8626d0a1",
   "metadata": {},
   "outputs": [],
   "source": []
  },
  {
   "cell_type": "code",
   "execution_count": null,
   "id": "f015537c",
   "metadata": {},
   "outputs": [],
   "source": []
  },
  {
   "cell_type": "code",
   "execution_count": null,
   "id": "2c7cf5a3",
   "metadata": {},
   "outputs": [],
   "source": []
  },
  {
   "cell_type": "code",
   "execution_count": null,
   "id": "586ca9cb",
   "metadata": {},
   "outputs": [],
   "source": []
  },
  {
   "cell_type": "code",
   "execution_count": null,
   "id": "7f6122df",
   "metadata": {},
   "outputs": [],
   "source": []
  },
  {
   "cell_type": "code",
   "execution_count": null,
   "id": "5def302f",
   "metadata": {},
   "outputs": [],
   "source": []
  },
  {
   "cell_type": "code",
   "execution_count": null,
   "id": "d0b0a14e",
   "metadata": {},
   "outputs": [],
   "source": []
  },
  {
   "cell_type": "code",
   "execution_count": null,
   "id": "baa68219",
   "metadata": {},
   "outputs": [],
   "source": []
  },
  {
   "cell_type": "code",
   "execution_count": null,
   "id": "e93ef5dd",
   "metadata": {},
   "outputs": [],
   "source": []
  },
  {
   "cell_type": "code",
   "execution_count": null,
   "id": "f9038ed4",
   "metadata": {},
   "outputs": [],
   "source": []
  }
 ],
 "metadata": {
  "kernelspec": {
   "display_name": "Python 3 (ipykernel)",
   "language": "python",
   "name": "python3"
  },
  "language_info": {
   "codemirror_mode": {
    "name": "ipython",
    "version": 3
   },
   "file_extension": ".py",
   "mimetype": "text/x-python",
   "name": "python",
   "nbconvert_exporter": "python",
   "pygments_lexer": "ipython3",
   "version": "3.11.5"
  },
  "toc": {
   "base_numbering": 1,
   "nav_menu": {},
   "number_sections": true,
   "sideBar": true,
   "skip_h1_title": false,
   "title_cell": "Table of Contents",
   "title_sidebar": "Contents",
   "toc_cell": false,
   "toc_position": {},
   "toc_section_display": true,
   "toc_window_display": false
  }
 },
 "nbformat": 4,
 "nbformat_minor": 5
}
