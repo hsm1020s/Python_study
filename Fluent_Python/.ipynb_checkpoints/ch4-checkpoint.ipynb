{
 "cells": [
  {
   "cell_type": "markdown",
   "id": "cdbd8d3a",
   "metadata": {
    "toc": true
   },
   "source": [
    "<h1>Table of Contents<span class=\"tocSkip\"></span></h1>\n",
    "<div class=\"toc\"><ul class=\"toc-item\"><li><span><a href=\"#a\" data-toc-modified-id=\"a-1\"><span class=\"toc-item-num\">1&nbsp;&nbsp;</span>a</a></span></li><li><span><a href=\"#b\" data-toc-modified-id=\"b-2\"><span class=\"toc-item-num\">2&nbsp;&nbsp;</span>b</a></span></li><li><span><a href=\"#c\" data-toc-modified-id=\"c-3\"><span class=\"toc-item-num\">3&nbsp;&nbsp;</span>c</a></span></li><li><span><a href=\"#텍스트와-바이트\" data-toc-modified-id=\"텍스트와-바이트-4\"><span class=\"toc-item-num\">4&nbsp;&nbsp;</span>텍스트와 바이트</a></span><ul class=\"toc-item\"><li><span><a href=\"#문자-문제\" data-toc-modified-id=\"문자-문제-4.1\"><span class=\"toc-item-num\">4.1&nbsp;&nbsp;</span>문자 문제</a></span></li><li><span><a href=\"#바이트에-대한-기본지식\" data-toc-modified-id=\"바이트에-대한-기본지식-4.2\"><span class=\"toc-item-num\">4.2&nbsp;&nbsp;</span>바이트에 대한 기본지식</a></span><ul class=\"toc-item\"><li><span><a href=\"#구조체와-메모리-뷰\" data-toc-modified-id=\"구조체와-메모리-뷰-4.2.1\"><span class=\"toc-item-num\">4.2.1&nbsp;&nbsp;</span>구조체와 메모리 뷰</a></span></li></ul></li><li><span><a href=\"#기본-인코더/디코더\" data-toc-modified-id=\"기본-인코더/디코더-4.3\"><span class=\"toc-item-num\">4.3&nbsp;&nbsp;</span>기본 인코더/디코더</a></span></li></ul></li></ul></div>"
   ]
  },
  {
   "cell_type": "markdown",
   "id": "33ff364b",
   "metadata": {},
   "source": [
    "# a"
   ]
  },
  {
   "cell_type": "markdown",
   "id": "847c310c",
   "metadata": {},
   "source": [
    "# b"
   ]
  },
  {
   "cell_type": "markdown",
   "id": "9ef1ed4a",
   "metadata": {},
   "source": [
    "# c"
   ]
  },
  {
   "cell_type": "markdown",
   "id": "eb40d0e2",
   "metadata": {},
   "source": [
    "# 텍스트와 바이트"
   ]
  },
  {
   "cell_type": "code",
   "execution_count": null,
   "id": "85590daa",
   "metadata": {},
   "outputs": [],
   "source": []
  },
  {
   "cell_type": "markdown",
   "id": "2aaf3a60",
   "metadata": {},
   "source": [
    "## 문자 문제"
   ]
  },
  {
   "cell_type": "code",
   "execution_count": 26,
   "id": "e148730e",
   "metadata": {
    "ExecuteTime": {
     "end_time": "2023-12-01T07:01:29.221392Z",
     "start_time": "2023-12-01T07:01:29.219033Z"
    }
   },
   "outputs": [],
   "source": [
    "s = 'cafe'\n",
    "# '\\u0063\\u0061\\u0066\\u0065'"
   ]
  },
  {
   "cell_type": "code",
   "execution_count": 21,
   "id": "6f2dc264",
   "metadata": {
    "ExecuteTime": {
     "end_time": "2023-12-01T07:01:20.166092Z",
     "start_time": "2023-12-01T07:01:20.161435Z"
    }
   },
   "outputs": [
    {
     "data": {
      "text/plain": [
       "4"
      ]
     },
     "execution_count": 21,
     "metadata": {},
     "output_type": "execute_result"
    }
   ],
   "source": [
    "len(s)"
   ]
  },
  {
   "cell_type": "code",
   "execution_count": 22,
   "id": "91ef2011",
   "metadata": {
    "ExecuteTime": {
     "end_time": "2023-12-01T07:01:20.707519Z",
     "start_time": "2023-12-01T07:01:20.705278Z"
    }
   },
   "outputs": [],
   "source": [
    "b= s.encode('utf8')"
   ]
  },
  {
   "cell_type": "code",
   "execution_count": 23,
   "id": "78e91bad",
   "metadata": {
    "ExecuteTime": {
     "end_time": "2023-12-01T07:01:21.492827Z",
     "start_time": "2023-12-01T07:01:21.488583Z"
    }
   },
   "outputs": [
    {
     "data": {
      "text/plain": [
       "b'cafe'"
      ]
     },
     "execution_count": 23,
     "metadata": {},
     "output_type": "execute_result"
    }
   ],
   "source": [
    "b"
   ]
  },
  {
   "cell_type": "code",
   "execution_count": 24,
   "id": "799f938b",
   "metadata": {
    "ExecuteTime": {
     "end_time": "2023-12-01T07:01:23.341140Z",
     "start_time": "2023-12-01T07:01:23.337173Z"
    }
   },
   "outputs": [
    {
     "data": {
      "text/plain": [
       "4"
      ]
     },
     "execution_count": 24,
     "metadata": {},
     "output_type": "execute_result"
    }
   ],
   "source": [
    "len(b)"
   ]
  },
  {
   "cell_type": "code",
   "execution_count": 25,
   "id": "e81cf481",
   "metadata": {
    "ExecuteTime": {
     "end_time": "2023-12-01T07:01:23.823591Z",
     "start_time": "2023-12-01T07:01:23.819501Z"
    }
   },
   "outputs": [
    {
     "data": {
      "text/plain": [
       "'cafe'"
      ]
     },
     "execution_count": 25,
     "metadata": {},
     "output_type": "execute_result"
    }
   ],
   "source": [
    "b.decode('utf8')"
   ]
  },
  {
   "cell_type": "code",
   "execution_count": null,
   "id": "d1832405",
   "metadata": {},
   "outputs": [],
   "source": []
  },
  {
   "cell_type": "markdown",
   "id": "8d141fbd",
   "metadata": {},
   "source": [
    "## 바이트에 대한 기본지식"
   ]
  },
  {
   "cell_type": "code",
   "execution_count": null,
   "id": "412a9eaf",
   "metadata": {},
   "outputs": [],
   "source": []
  },
  {
   "cell_type": "code",
   "execution_count": 27,
   "id": "0636f503",
   "metadata": {
    "ExecuteTime": {
     "end_time": "2023-12-01T07:02:37.922151Z",
     "start_time": "2023-12-01T07:02:37.918514Z"
    }
   },
   "outputs": [],
   "source": [
    "cafe= bytes('cafe', encoding='utf_8')"
   ]
  },
  {
   "cell_type": "code",
   "execution_count": 29,
   "id": "cd987180",
   "metadata": {
    "ExecuteTime": {
     "end_time": "2023-12-01T07:02:42.556077Z",
     "start_time": "2023-12-01T07:02:42.551062Z"
    }
   },
   "outputs": [
    {
     "data": {
      "text/plain": [
       "b'cafe'"
      ]
     },
     "execution_count": 29,
     "metadata": {},
     "output_type": "execute_result"
    }
   ],
   "source": [
    "cafe"
   ]
  },
  {
   "cell_type": "code",
   "execution_count": 30,
   "id": "7f5dd7b7",
   "metadata": {
    "ExecuteTime": {
     "end_time": "2023-12-01T07:02:52.009789Z",
     "start_time": "2023-12-01T07:02:52.005405Z"
    }
   },
   "outputs": [
    {
     "data": {
      "text/plain": [
       "99"
      ]
     },
     "execution_count": 30,
     "metadata": {},
     "output_type": "execute_result"
    }
   ],
   "source": [
    "cafe[0]"
   ]
  },
  {
   "cell_type": "code",
   "execution_count": 31,
   "id": "ae477499",
   "metadata": {
    "ExecuteTime": {
     "end_time": "2023-12-01T07:02:58.714926Z",
     "start_time": "2023-12-01T07:02:58.710831Z"
    }
   },
   "outputs": [
    {
     "data": {
      "text/plain": [
       "b'c'"
      ]
     },
     "execution_count": 31,
     "metadata": {},
     "output_type": "execute_result"
    }
   ],
   "source": [
    "cafe[:1]"
   ]
  },
  {
   "cell_type": "code",
   "execution_count": 32,
   "id": "8a1c68e5",
   "metadata": {
    "ExecuteTime": {
     "end_time": "2023-12-01T07:03:09.259394Z",
     "start_time": "2023-12-01T07:03:09.256424Z"
    }
   },
   "outputs": [],
   "source": [
    "cafe_arr = bytearray(cafe)"
   ]
  },
  {
   "cell_type": "code",
   "execution_count": 33,
   "id": "115ab76b",
   "metadata": {
    "ExecuteTime": {
     "end_time": "2023-12-01T07:03:12.364048Z",
     "start_time": "2023-12-01T07:03:12.358960Z"
    }
   },
   "outputs": [
    {
     "data": {
      "text/plain": [
       "bytearray(b'cafe')"
      ]
     },
     "execution_count": 33,
     "metadata": {},
     "output_type": "execute_result"
    }
   ],
   "source": [
    "cafe_arr"
   ]
  },
  {
   "cell_type": "code",
   "execution_count": 34,
   "id": "b90efb38",
   "metadata": {
    "ExecuteTime": {
     "end_time": "2023-12-01T07:03:23.490720Z",
     "start_time": "2023-12-01T07:03:23.485604Z"
    }
   },
   "outputs": [
    {
     "data": {
      "text/plain": [
       "bytearray(b'e')"
      ]
     },
     "execution_count": 34,
     "metadata": {},
     "output_type": "execute_result"
    }
   ],
   "source": [
    "cafe_arr[-1:]"
   ]
  },
  {
   "cell_type": "code",
   "execution_count": null,
   "id": "28faecac",
   "metadata": {},
   "outputs": [],
   "source": []
  },
  {
   "cell_type": "code",
   "execution_count": 35,
   "id": "cbb123f9",
   "metadata": {
    "ExecuteTime": {
     "end_time": "2023-12-01T07:15:54.768371Z",
     "start_time": "2023-12-01T07:15:54.763453Z"
    }
   },
   "outputs": [
    {
     "data": {
      "text/plain": [
       "b'1K\\xce\\xa9'"
      ]
     },
     "execution_count": 35,
     "metadata": {},
     "output_type": "execute_result"
    }
   ],
   "source": [
    "bytes.fromhex('31 4B CE A9')"
   ]
  },
  {
   "cell_type": "code",
   "execution_count": null,
   "id": "ca2c0d11",
   "metadata": {},
   "outputs": [],
   "source": []
  },
  {
   "cell_type": "code",
   "execution_count": 38,
   "id": "105b3269",
   "metadata": {
    "ExecuteTime": {
     "end_time": "2023-12-01T07:18:24.648647Z",
     "start_time": "2023-12-01T07:18:24.644384Z"
    }
   },
   "outputs": [],
   "source": [
    "import array\n",
    "numbers = array.array('h',[-2,-1,0,1,2])\n",
    "octets = bytes(numbers)"
   ]
  },
  {
   "cell_type": "code",
   "execution_count": 39,
   "id": "7cab7c5a",
   "metadata": {
    "ExecuteTime": {
     "end_time": "2023-12-01T07:18:29.056022Z",
     "start_time": "2023-12-01T07:18:29.051858Z"
    }
   },
   "outputs": [
    {
     "data": {
      "text/plain": [
       "b'\\xfe\\xff\\xff\\xff\\x00\\x00\\x01\\x00\\x02\\x00'"
      ]
     },
     "execution_count": 39,
     "metadata": {},
     "output_type": "execute_result"
    }
   ],
   "source": [
    "octets"
   ]
  },
  {
   "cell_type": "code",
   "execution_count": null,
   "id": "04567ba0",
   "metadata": {},
   "outputs": [],
   "source": []
  },
  {
   "cell_type": "markdown",
   "id": "04cb62b0",
   "metadata": {},
   "source": [
    "### 구조체와 메모리 뷰"
   ]
  },
  {
   "cell_type": "code",
   "execution_count": null,
   "id": "0f4f7e36",
   "metadata": {},
   "outputs": [],
   "source": []
  },
  {
   "cell_type": "raw",
   "id": "bd32158f",
   "metadata": {},
   "source": [
    "import struct\n",
    "fmt = '<3s3sHH'\n",
    "with open('filter.gif','rb') as fp:\n",
    "    img = memoryview(fp.read())\n",
    "\n",
    "header = img[:10]\n",
    "bytes(header)"
   ]
  },
  {
   "cell_type": "raw",
   "id": "ea26dd39",
   "metadata": {},
   "source": [
    "struct.unpack(fmt, header)"
   ]
  },
  {
   "cell_type": "raw",
   "id": "afa522fe",
   "metadata": {},
   "source": [
    "del header"
   ]
  },
  {
   "cell_type": "raw",
   "id": "bb77c933",
   "metadata": {},
   "source": [
    "del img"
   ]
  },
  {
   "cell_type": "code",
   "execution_count": null,
   "id": "626bfc8f",
   "metadata": {},
   "outputs": [],
   "source": []
  },
  {
   "cell_type": "markdown",
   "id": "dcaeb67c",
   "metadata": {},
   "source": [
    "## 기본 인코더/디코더"
   ]
  },
  {
   "cell_type": "code",
   "execution_count": 44,
   "id": "bbd6eef6",
   "metadata": {
    "ExecuteTime": {
     "end_time": "2023-12-01T07:30:56.006200Z",
     "start_time": "2023-12-01T07:30:56.001737Z"
    }
   },
   "outputs": [
    {
     "name": "stdout",
     "output_type": "stream",
     "text": [
      "latin_1\tb'EL Nino'\n",
      "utf_8\tb'EL Nino'\n",
      "utf_16\tb'\\xff\\xfeE\\x00L\\x00 \\x00N\\x00i\\x00n\\x00o\\x00'\n"
     ]
    }
   ],
   "source": [
    "for codec in ['latin_1','utf_8','utf_16']:\n",
    "    print(codec,'EL Nino'.encode(codec), sep='\\t')"
   ]
  },
  {
   "cell_type": "code",
   "execution_count": null,
   "id": "4f81a414",
   "metadata": {},
   "outputs": [],
   "source": []
  },
  {
   "cell_type": "code",
   "execution_count": null,
   "id": "280cba8f",
   "metadata": {},
   "outputs": [],
   "source": []
  },
  {
   "cell_type": "code",
   "execution_count": null,
   "id": "899de7b7",
   "metadata": {},
   "outputs": [],
   "source": []
  },
  {
   "cell_type": "code",
   "execution_count": null,
   "id": "6d601596",
   "metadata": {},
   "outputs": [],
   "source": []
  },
  {
   "cell_type": "code",
   "execution_count": null,
   "id": "2a578a56",
   "metadata": {},
   "outputs": [],
   "source": []
  },
  {
   "cell_type": "code",
   "execution_count": null,
   "id": "524407d5",
   "metadata": {},
   "outputs": [],
   "source": []
  },
  {
   "cell_type": "code",
   "execution_count": null,
   "id": "974da0b4",
   "metadata": {},
   "outputs": [],
   "source": []
  },
  {
   "cell_type": "code",
   "execution_count": null,
   "id": "4d93e43f",
   "metadata": {},
   "outputs": [],
   "source": []
  },
  {
   "cell_type": "code",
   "execution_count": null,
   "id": "51582330",
   "metadata": {},
   "outputs": [],
   "source": []
  },
  {
   "cell_type": "code",
   "execution_count": null,
   "id": "7e1269d4",
   "metadata": {},
   "outputs": [],
   "source": []
  },
  {
   "cell_type": "code",
   "execution_count": null,
   "id": "c9d7eaff",
   "metadata": {},
   "outputs": [],
   "source": []
  },
  {
   "cell_type": "code",
   "execution_count": null,
   "id": "b36f691f",
   "metadata": {},
   "outputs": [],
   "source": []
  },
  {
   "cell_type": "code",
   "execution_count": null,
   "id": "ea5d1b9c",
   "metadata": {},
   "outputs": [],
   "source": []
  },
  {
   "cell_type": "code",
   "execution_count": null,
   "id": "bd21c0c8",
   "metadata": {},
   "outputs": [],
   "source": []
  },
  {
   "cell_type": "code",
   "execution_count": null,
   "id": "3ca80a2a",
   "metadata": {},
   "outputs": [],
   "source": []
  },
  {
   "cell_type": "code",
   "execution_count": null,
   "id": "88f894ff",
   "metadata": {},
   "outputs": [],
   "source": []
  },
  {
   "cell_type": "code",
   "execution_count": null,
   "id": "59a1c8d1",
   "metadata": {},
   "outputs": [],
   "source": []
  },
  {
   "cell_type": "code",
   "execution_count": null,
   "id": "f28901d4",
   "metadata": {},
   "outputs": [],
   "source": []
  },
  {
   "cell_type": "code",
   "execution_count": null,
   "id": "47d1783b",
   "metadata": {},
   "outputs": [],
   "source": []
  },
  {
   "cell_type": "code",
   "execution_count": null,
   "id": "4ecc1afe",
   "metadata": {},
   "outputs": [],
   "source": []
  },
  {
   "cell_type": "code",
   "execution_count": null,
   "id": "781b1b6d",
   "metadata": {},
   "outputs": [],
   "source": []
  },
  {
   "cell_type": "code",
   "execution_count": null,
   "id": "59097f65",
   "metadata": {},
   "outputs": [],
   "source": []
  },
  {
   "cell_type": "code",
   "execution_count": null,
   "id": "ffcbc423",
   "metadata": {},
   "outputs": [],
   "source": []
  },
  {
   "cell_type": "code",
   "execution_count": null,
   "id": "35705e12",
   "metadata": {},
   "outputs": [],
   "source": []
  },
  {
   "cell_type": "code",
   "execution_count": null,
   "id": "de100a55",
   "metadata": {},
   "outputs": [],
   "source": []
  },
  {
   "cell_type": "code",
   "execution_count": null,
   "id": "50741f20",
   "metadata": {},
   "outputs": [],
   "source": []
  },
  {
   "cell_type": "code",
   "execution_count": null,
   "id": "c344be6b",
   "metadata": {},
   "outputs": [],
   "source": []
  },
  {
   "cell_type": "code",
   "execution_count": null,
   "id": "094e7495",
   "metadata": {},
   "outputs": [],
   "source": []
  },
  {
   "cell_type": "code",
   "execution_count": null,
   "id": "4a9e0bdc",
   "metadata": {},
   "outputs": [],
   "source": []
  },
  {
   "cell_type": "code",
   "execution_count": null,
   "id": "4eb4acd4",
   "metadata": {},
   "outputs": [],
   "source": []
  },
  {
   "cell_type": "code",
   "execution_count": null,
   "id": "e3597804",
   "metadata": {},
   "outputs": [],
   "source": []
  },
  {
   "cell_type": "code",
   "execution_count": null,
   "id": "3fb8aeb7",
   "metadata": {},
   "outputs": [],
   "source": []
  },
  {
   "cell_type": "code",
   "execution_count": null,
   "id": "5bfcb173",
   "metadata": {},
   "outputs": [],
   "source": []
  },
  {
   "cell_type": "code",
   "execution_count": null,
   "id": "9d1b0f66",
   "metadata": {},
   "outputs": [],
   "source": []
  },
  {
   "cell_type": "code",
   "execution_count": null,
   "id": "dc34374e",
   "metadata": {},
   "outputs": [],
   "source": []
  },
  {
   "cell_type": "code",
   "execution_count": null,
   "id": "364be7ed",
   "metadata": {},
   "outputs": [],
   "source": []
  },
  {
   "cell_type": "code",
   "execution_count": null,
   "id": "6b4f7df0",
   "metadata": {},
   "outputs": [],
   "source": []
  },
  {
   "cell_type": "code",
   "execution_count": null,
   "id": "004aabdd",
   "metadata": {},
   "outputs": [],
   "source": []
  },
  {
   "cell_type": "code",
   "execution_count": null,
   "id": "7f9713f0",
   "metadata": {},
   "outputs": [],
   "source": []
  },
  {
   "cell_type": "code",
   "execution_count": null,
   "id": "6f295e70",
   "metadata": {},
   "outputs": [],
   "source": []
  },
  {
   "cell_type": "code",
   "execution_count": null,
   "id": "ea5722a6",
   "metadata": {},
   "outputs": [],
   "source": []
  },
  {
   "cell_type": "code",
   "execution_count": null,
   "id": "26b43243",
   "metadata": {},
   "outputs": [],
   "source": []
  },
  {
   "cell_type": "code",
   "execution_count": null,
   "id": "f3cfd012",
   "metadata": {},
   "outputs": [],
   "source": []
  },
  {
   "cell_type": "code",
   "execution_count": null,
   "id": "610a0bab",
   "metadata": {},
   "outputs": [],
   "source": []
  },
  {
   "cell_type": "code",
   "execution_count": null,
   "id": "95afeec2",
   "metadata": {},
   "outputs": [],
   "source": []
  },
  {
   "cell_type": "code",
   "execution_count": null,
   "id": "ef3b32f0",
   "metadata": {},
   "outputs": [],
   "source": []
  },
  {
   "cell_type": "code",
   "execution_count": null,
   "id": "b3da00ce",
   "metadata": {},
   "outputs": [],
   "source": []
  },
  {
   "cell_type": "code",
   "execution_count": null,
   "id": "d10f4246",
   "metadata": {},
   "outputs": [],
   "source": []
  }
 ],
 "metadata": {
  "kernelspec": {
   "display_name": "Python 3 (ipykernel)",
   "language": "python",
   "name": "python3"
  },
  "language_info": {
   "codemirror_mode": {
    "name": "ipython",
    "version": 3
   },
   "file_extension": ".py",
   "mimetype": "text/x-python",
   "name": "python",
   "nbconvert_exporter": "python",
   "pygments_lexer": "ipython3",
   "version": "3.11.5"
  },
  "toc": {
   "base_numbering": 1,
   "nav_menu": {},
   "number_sections": true,
   "sideBar": true,
   "skip_h1_title": false,
   "title_cell": "Table of Contents",
   "title_sidebar": "Contents",
   "toc_cell": true,
   "toc_position": {},
   "toc_section_display": true,
   "toc_window_display": true
  }
 },
 "nbformat": 4,
 "nbformat_minor": 5
}
