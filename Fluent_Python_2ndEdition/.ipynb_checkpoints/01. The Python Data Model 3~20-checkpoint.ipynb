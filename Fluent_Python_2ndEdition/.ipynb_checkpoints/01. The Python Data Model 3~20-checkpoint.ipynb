{
 "cells": [
  {
   "cell_type": "code",
   "execution_count": 1,
   "id": "de618ee9",
   "metadata": {
    "ExecuteTime": {
     "end_time": "2024-01-01T08:37:02.703868Z",
     "start_time": "2024-01-01T08:37:02.700693Z"
    }
   },
   "outputs": [],
   "source": [
    "import collections"
   ]
  },
  {
   "cell_type": "code",
   "execution_count": 2,
   "id": "e74cf268",
   "metadata": {
    "ExecuteTime": {
     "end_time": "2024-01-01T08:37:26.867819Z",
     "start_time": "2024-01-01T08:37:26.863660Z"
    }
   },
   "outputs": [],
   "source": [
    "Card = collections.namedtuple('Card',['rank','suit'])"
   ]
  },
  {
   "cell_type": "code",
   "execution_count": 3,
   "id": "f8b7379f",
   "metadata": {
    "ExecuteTime": {
     "end_time": "2024-01-01T08:40:27.823847Z",
     "start_time": "2024-01-01T08:40:27.817155Z"
    }
   },
   "outputs": [],
   "source": [
    "class FrenchDeck:\n",
    "    ranks = [str(n) for n in range(2,11)] + list('JQKA')\n",
    "    suits = 'spades diamonds clubs hearts'.split()\n",
    "    \n",
    "    def __init__(self):\n",
    "        self._cards = [Card(rank,suit) for suit in self.suits\n",
    "                                          for rank in self.ranks]\n",
    "    def __len__(self):\n",
    "        return len(self._cards)\n",
    "    \n",
    "    def __getitem__(self,position):\n",
    "        return self._cards[position]"
   ]
  },
  {
   "cell_type": "code",
   "execution_count": 4,
   "id": "3fde34e0",
   "metadata": {
    "ExecuteTime": {
     "end_time": "2024-01-01T08:40:56.606930Z",
     "start_time": "2024-01-01T08:40:56.601427Z"
    }
   },
   "outputs": [
    {
     "data": {
      "text/plain": [
       "Card(rank='7', suit='diamonds')"
      ]
     },
     "execution_count": 4,
     "metadata": {},
     "output_type": "execute_result"
    }
   ],
   "source": [
    "beer_card = Card('7','diamonds')\n",
    "beer_card"
   ]
  },
  {
   "cell_type": "code",
   "execution_count": 5,
   "id": "593596e2",
   "metadata": {
    "ExecuteTime": {
     "end_time": "2024-01-01T09:59:17.120694Z",
     "start_time": "2024-01-01T09:59:17.114665Z"
    }
   },
   "outputs": [
    {
     "data": {
      "text/plain": [
       "52"
      ]
     },
     "execution_count": 5,
     "metadata": {},
     "output_type": "execute_result"
    }
   ],
   "source": [
    "deck = FrenchDeck()\n",
    "len(deck)"
   ]
  },
  {
   "cell_type": "code",
   "execution_count": 8,
   "id": "eb530515",
   "metadata": {
    "ExecuteTime": {
     "end_time": "2024-01-01T09:59:34.384443Z",
     "start_time": "2024-01-01T09:59:34.377737Z"
    }
   },
   "outputs": [
    {
     "data": {
      "text/plain": [
       "Card(rank='2', suit='spades')"
      ]
     },
     "execution_count": 8,
     "metadata": {},
     "output_type": "execute_result"
    }
   ],
   "source": [
    "deck[0]"
   ]
  },
  {
   "cell_type": "code",
   "execution_count": 9,
   "id": "44750237",
   "metadata": {
    "ExecuteTime": {
     "end_time": "2024-01-01T09:59:40.757830Z",
     "start_time": "2024-01-01T09:59:40.751375Z"
    }
   },
   "outputs": [
    {
     "data": {
      "text/plain": [
       "Card(rank='A', suit='hearts')"
      ]
     },
     "execution_count": 9,
     "metadata": {},
     "output_type": "execute_result"
    }
   ],
   "source": [
    "deck[-1]"
   ]
  },
  {
   "cell_type": "code",
   "execution_count": 10,
   "id": "711c4301",
   "metadata": {
    "ExecuteTime": {
     "end_time": "2024-01-01T10:00:02.439939Z",
     "start_time": "2024-01-01T10:00:02.433424Z"
    }
   },
   "outputs": [
    {
     "data": {
      "text/plain": [
       "Card(rank='3', suit='diamonds')"
      ]
     },
     "execution_count": 10,
     "metadata": {},
     "output_type": "execute_result"
    }
   ],
   "source": [
    "from random import choice\n",
    "choice(deck)"
   ]
  },
  {
   "cell_type": "code",
   "execution_count": 11,
   "id": "044102c4",
   "metadata": {
    "ExecuteTime": {
     "end_time": "2024-01-01T10:00:08.506277Z",
     "start_time": "2024-01-01T10:00:08.503520Z"
    }
   },
   "outputs": [
    {
     "data": {
      "text/plain": [
       "Card(rank='4', suit='clubs')"
      ]
     },
     "execution_count": 11,
     "metadata": {},
     "output_type": "execute_result"
    }
   ],
   "source": [
    "choice(deck)"
   ]
  },
  {
   "cell_type": "code",
   "execution_count": 12,
   "id": "7fdca1b3",
   "metadata": {
    "ExecuteTime": {
     "end_time": "2024-01-01T10:00:13.574027Z",
     "start_time": "2024-01-01T10:00:13.569963Z"
    }
   },
   "outputs": [
    {
     "data": {
      "text/plain": [
       "Card(rank='J', suit='diamonds')"
      ]
     },
     "execution_count": 12,
     "metadata": {},
     "output_type": "execute_result"
    }
   ],
   "source": [
    "choice(deck)"
   ]
  },
  {
   "cell_type": "code",
   "execution_count": 13,
   "id": "5f70f00d",
   "metadata": {
    "ExecuteTime": {
     "end_time": "2024-01-01T10:00:24.912904Z",
     "start_time": "2024-01-01T10:00:24.906152Z"
    }
   },
   "outputs": [
    {
     "data": {
      "text/plain": [
       "[Card(rank='2', suit='spades'),\n",
       " Card(rank='3', suit='spades'),\n",
       " Card(rank='4', suit='spades')]"
      ]
     },
     "execution_count": 13,
     "metadata": {},
     "output_type": "execute_result"
    }
   ],
   "source": [
    "deck[:3]"
   ]
  },
  {
   "cell_type": "code",
   "execution_count": 14,
   "id": "d2ca9634",
   "metadata": {
    "ExecuteTime": {
     "end_time": "2024-01-01T10:00:31.490991Z",
     "start_time": "2024-01-01T10:00:31.487320Z"
    }
   },
   "outputs": [
    {
     "data": {
      "text/plain": [
       "[Card(rank='A', suit='spades'),\n",
       " Card(rank='A', suit='diamonds'),\n",
       " Card(rank='A', suit='clubs'),\n",
       " Card(rank='A', suit='hearts')]"
      ]
     },
     "execution_count": 14,
     "metadata": {},
     "output_type": "execute_result"
    }
   ],
   "source": [
    "deck[12::13]"
   ]
  },
  {
   "cell_type": "code",
   "execution_count": 16,
   "id": "24cef133",
   "metadata": {
    "ExecuteTime": {
     "end_time": "2024-01-01T10:02:01.896234Z",
     "start_time": "2024-01-01T10:02:01.891651Z"
    }
   },
   "outputs": [
    {
     "name": "stdout",
     "output_type": "stream",
     "text": [
      "Card(rank='2', suit='spades')\n",
      "Card(rank='3', suit='spades')\n",
      "Card(rank='4', suit='spades')\n",
      "Card(rank='5', suit='spades')\n",
      "Card(rank='6', suit='spades')\n",
      "Card(rank='7', suit='spades')\n",
      "Card(rank='8', suit='spades')\n",
      "Card(rank='9', suit='spades')\n",
      "Card(rank='10', suit='spades')\n",
      "Card(rank='J', suit='spades')\n",
      "Card(rank='Q', suit='spades')\n",
      "Card(rank='K', suit='spades')\n",
      "Card(rank='A', suit='spades')\n",
      "Card(rank='2', suit='diamonds')\n",
      "Card(rank='3', suit='diamonds')\n",
      "Card(rank='4', suit='diamonds')\n",
      "Card(rank='5', suit='diamonds')\n",
      "Card(rank='6', suit='diamonds')\n",
      "Card(rank='7', suit='diamonds')\n",
      "Card(rank='8', suit='diamonds')\n",
      "Card(rank='9', suit='diamonds')\n",
      "Card(rank='10', suit='diamonds')\n",
      "Card(rank='J', suit='diamonds')\n",
      "Card(rank='Q', suit='diamonds')\n",
      "Card(rank='K', suit='diamonds')\n",
      "Card(rank='A', suit='diamonds')\n",
      "Card(rank='2', suit='clubs')\n",
      "Card(rank='3', suit='clubs')\n",
      "Card(rank='4', suit='clubs')\n",
      "Card(rank='5', suit='clubs')\n",
      "Card(rank='6', suit='clubs')\n",
      "Card(rank='7', suit='clubs')\n",
      "Card(rank='8', suit='clubs')\n",
      "Card(rank='9', suit='clubs')\n",
      "Card(rank='10', suit='clubs')\n",
      "Card(rank='J', suit='clubs')\n",
      "Card(rank='Q', suit='clubs')\n",
      "Card(rank='K', suit='clubs')\n",
      "Card(rank='A', suit='clubs')\n",
      "Card(rank='2', suit='hearts')\n",
      "Card(rank='3', suit='hearts')\n",
      "Card(rank='4', suit='hearts')\n",
      "Card(rank='5', suit='hearts')\n",
      "Card(rank='6', suit='hearts')\n",
      "Card(rank='7', suit='hearts')\n",
      "Card(rank='8', suit='hearts')\n",
      "Card(rank='9', suit='hearts')\n",
      "Card(rank='10', suit='hearts')\n",
      "Card(rank='J', suit='hearts')\n",
      "Card(rank='Q', suit='hearts')\n",
      "Card(rank='K', suit='hearts')\n",
      "Card(rank='A', suit='hearts')\n"
     ]
    }
   ],
   "source": [
    "for card in deck: #doctest: +ELLIPSIS\n",
    "    print(card)"
   ]
  },
  {
   "cell_type": "code",
   "execution_count": 17,
   "id": "c5a03536",
   "metadata": {
    "ExecuteTime": {
     "end_time": "2024-01-01T10:02:35.231168Z",
     "start_time": "2024-01-01T10:02:35.226748Z"
    }
   },
   "outputs": [
    {
     "name": "stdout",
     "output_type": "stream",
     "text": [
      "Card(rank='A', suit='hearts')\n",
      "Card(rank='K', suit='hearts')\n",
      "Card(rank='Q', suit='hearts')\n",
      "Card(rank='J', suit='hearts')\n",
      "Card(rank='10', suit='hearts')\n",
      "Card(rank='9', suit='hearts')\n",
      "Card(rank='8', suit='hearts')\n",
      "Card(rank='7', suit='hearts')\n",
      "Card(rank='6', suit='hearts')\n",
      "Card(rank='5', suit='hearts')\n",
      "Card(rank='4', suit='hearts')\n",
      "Card(rank='3', suit='hearts')\n",
      "Card(rank='2', suit='hearts')\n",
      "Card(rank='A', suit='clubs')\n",
      "Card(rank='K', suit='clubs')\n",
      "Card(rank='Q', suit='clubs')\n",
      "Card(rank='J', suit='clubs')\n",
      "Card(rank='10', suit='clubs')\n",
      "Card(rank='9', suit='clubs')\n",
      "Card(rank='8', suit='clubs')\n",
      "Card(rank='7', suit='clubs')\n",
      "Card(rank='6', suit='clubs')\n",
      "Card(rank='5', suit='clubs')\n",
      "Card(rank='4', suit='clubs')\n",
      "Card(rank='3', suit='clubs')\n",
      "Card(rank='2', suit='clubs')\n",
      "Card(rank='A', suit='diamonds')\n",
      "Card(rank='K', suit='diamonds')\n",
      "Card(rank='Q', suit='diamonds')\n",
      "Card(rank='J', suit='diamonds')\n",
      "Card(rank='10', suit='diamonds')\n",
      "Card(rank='9', suit='diamonds')\n",
      "Card(rank='8', suit='diamonds')\n",
      "Card(rank='7', suit='diamonds')\n",
      "Card(rank='6', suit='diamonds')\n",
      "Card(rank='5', suit='diamonds')\n",
      "Card(rank='4', suit='diamonds')\n",
      "Card(rank='3', suit='diamonds')\n",
      "Card(rank='2', suit='diamonds')\n",
      "Card(rank='A', suit='spades')\n",
      "Card(rank='K', suit='spades')\n",
      "Card(rank='Q', suit='spades')\n",
      "Card(rank='J', suit='spades')\n",
      "Card(rank='10', suit='spades')\n",
      "Card(rank='9', suit='spades')\n",
      "Card(rank='8', suit='spades')\n",
      "Card(rank='7', suit='spades')\n",
      "Card(rank='6', suit='spades')\n",
      "Card(rank='5', suit='spades')\n",
      "Card(rank='4', suit='spades')\n",
      "Card(rank='3', suit='spades')\n",
      "Card(rank='2', suit='spades')\n"
     ]
    }
   ],
   "source": [
    "for card in reversed(deck): # doctest: +ELLIPSiS\n",
    "    print(card)"
   ]
  },
  {
   "cell_type": "code",
   "execution_count": null,
   "id": "e9d5c6e3",
   "metadata": {},
   "outputs": [],
   "source": []
  },
  {
   "cell_type": "code",
   "execution_count": 18,
   "id": "f2c97ea6",
   "metadata": {
    "ExecuteTime": {
     "end_time": "2024-01-01T10:03:00.429179Z",
     "start_time": "2024-01-01T10:03:00.424032Z"
    }
   },
   "outputs": [
    {
     "data": {
      "text/plain": [
       "True"
      ]
     },
     "execution_count": 18,
     "metadata": {},
     "output_type": "execute_result"
    }
   ],
   "source": [
    "Card('Q','hearts') in deck"
   ]
  },
  {
   "cell_type": "code",
   "execution_count": 21,
   "id": "86b753a2",
   "metadata": {
    "ExecuteTime": {
     "end_time": "2024-01-01T10:03:26.088707Z",
     "start_time": "2024-01-01T10:03:26.083624Z"
    }
   },
   "outputs": [
    {
     "data": {
      "text/plain": [
       "False"
      ]
     },
     "execution_count": 21,
     "metadata": {},
     "output_type": "execute_result"
    }
   ],
   "source": [
    "Card('7','bearts') in deck"
   ]
  },
  {
   "cell_type": "code",
   "execution_count": 23,
   "id": "b57854b1",
   "metadata": {
    "ExecuteTime": {
     "end_time": "2024-01-01T10:05:22.190149Z",
     "start_time": "2024-01-01T10:05:22.187163Z"
    }
   },
   "outputs": [],
   "source": [
    "suit_values = dict(spades=3, hearts=2,diamonds=1,clubs=0)\n",
    "\n",
    "def spades_high(card):\n",
    "    rank_value = FrenchDeck.ranks.index(card.rank)\n",
    "    return rank_value * len(suit_values) + suit_values[card.suit]"
   ]
  },
  {
   "cell_type": "code",
   "execution_count": 25,
   "id": "686b956c",
   "metadata": {
    "ExecuteTime": {
     "end_time": "2024-01-01T10:05:32.448850Z",
     "start_time": "2024-01-01T10:05:32.443065Z"
    }
   },
   "outputs": [
    {
     "name": "stdout",
     "output_type": "stream",
     "text": [
      "Card(rank='2', suit='clubs')\n",
      "Card(rank='2', suit='diamonds')\n",
      "Card(rank='2', suit='hearts')\n",
      "Card(rank='2', suit='spades')\n",
      "Card(rank='3', suit='clubs')\n",
      "Card(rank='3', suit='diamonds')\n",
      "Card(rank='3', suit='hearts')\n",
      "Card(rank='3', suit='spades')\n",
      "Card(rank='4', suit='clubs')\n",
      "Card(rank='4', suit='diamonds')\n",
      "Card(rank='4', suit='hearts')\n",
      "Card(rank='4', suit='spades')\n",
      "Card(rank='5', suit='clubs')\n",
      "Card(rank='5', suit='diamonds')\n",
      "Card(rank='5', suit='hearts')\n",
      "Card(rank='5', suit='spades')\n",
      "Card(rank='6', suit='clubs')\n",
      "Card(rank='6', suit='diamonds')\n",
      "Card(rank='6', suit='hearts')\n",
      "Card(rank='6', suit='spades')\n",
      "Card(rank='7', suit='clubs')\n",
      "Card(rank='7', suit='diamonds')\n",
      "Card(rank='7', suit='hearts')\n",
      "Card(rank='7', suit='spades')\n",
      "Card(rank='8', suit='clubs')\n",
      "Card(rank='8', suit='diamonds')\n",
      "Card(rank='8', suit='hearts')\n",
      "Card(rank='8', suit='spades')\n",
      "Card(rank='9', suit='clubs')\n",
      "Card(rank='9', suit='diamonds')\n",
      "Card(rank='9', suit='hearts')\n",
      "Card(rank='9', suit='spades')\n",
      "Card(rank='10', suit='clubs')\n",
      "Card(rank='10', suit='diamonds')\n",
      "Card(rank='10', suit='hearts')\n",
      "Card(rank='10', suit='spades')\n",
      "Card(rank='J', suit='clubs')\n",
      "Card(rank='J', suit='diamonds')\n",
      "Card(rank='J', suit='hearts')\n",
      "Card(rank='J', suit='spades')\n",
      "Card(rank='Q', suit='clubs')\n",
      "Card(rank='Q', suit='diamonds')\n",
      "Card(rank='Q', suit='hearts')\n",
      "Card(rank='Q', suit='spades')\n",
      "Card(rank='K', suit='clubs')\n",
      "Card(rank='K', suit='diamonds')\n",
      "Card(rank='K', suit='hearts')\n",
      "Card(rank='K', suit='spades')\n",
      "Card(rank='A', suit='clubs')\n",
      "Card(rank='A', suit='diamonds')\n",
      "Card(rank='A', suit='hearts')\n",
      "Card(rank='A', suit='spades')\n"
     ]
    }
   ],
   "source": [
    "for card in sorted(deck,key=spades_high):\n",
    "    print(card)"
   ]
  },
  {
   "cell_type": "code",
   "execution_count": null,
   "id": "ed55effd",
   "metadata": {},
   "outputs": [],
   "source": [
    "#10p"
   ]
  },
  {
   "cell_type": "code",
   "execution_count": 28,
   "id": "1cba2aa2",
   "metadata": {
    "ExecuteTime": {
     "end_time": "2024-01-01T10:12:04.962576Z",
     "start_time": "2024-01-01T10:12:04.956535Z"
    }
   },
   "outputs": [],
   "source": [
    "import math  ## 11페이지에 있는 코드 먼저 해야함 \n",
    "\n",
    "class Vector:\n",
    "    \n",
    "    def __init__(self, x=0, y=0):\n",
    "        self.x=x\n",
    "        self.y=y\n",
    "    \n",
    "    def __repr__(self):\n",
    "        return f'Vector({self.x!r},{self.y!r})'\n",
    "    \n",
    "    def __abs__(self):\n",
    "        return math.hypot(self.x, self.y)\n",
    "    \n",
    "    def __bool__(self):\n",
    "        return bool(abs(self))\n",
    "    \n",
    "    def __add__(self,other):\n",
    "        x = self.x + other.x\n",
    "        y = self.y + other.y\n",
    "        return Vector(x,y)\n",
    "    \n",
    "    def __mul__(self,scalar):\n",
    "        return Vector(self.x*scalar, self.y*scalar)"
   ]
  },
  {
   "cell_type": "code",
   "execution_count": 29,
   "id": "f86dacbd",
   "metadata": {
    "ExecuteTime": {
     "end_time": "2024-01-01T10:12:07.621101Z",
     "start_time": "2024-01-01T10:12:07.616451Z"
    }
   },
   "outputs": [
    {
     "data": {
      "text/plain": [
       "Vector(4,5)"
      ]
     },
     "execution_count": 29,
     "metadata": {},
     "output_type": "execute_result"
    }
   ],
   "source": [
    "v1 = Vector(2,4)\n",
    "v2 = Vector(2,1)\n",
    "v1+v2 "
   ]
  },
  {
   "cell_type": "code",
   "execution_count": 31,
   "id": "2511bc05",
   "metadata": {
    "ExecuteTime": {
     "end_time": "2024-01-01T10:12:55.060495Z",
     "start_time": "2024-01-01T10:12:55.054841Z"
    }
   },
   "outputs": [
    {
     "data": {
      "text/plain": [
       "5.0"
      ]
     },
     "execution_count": 31,
     "metadata": {},
     "output_type": "execute_result"
    }
   ],
   "source": [
    "v = Vector(3,4)\n",
    "abs(v)"
   ]
  },
  {
   "cell_type": "code",
   "execution_count": 32,
   "id": "d8d85c39",
   "metadata": {
    "ExecuteTime": {
     "end_time": "2024-01-01T10:12:58.418417Z",
     "start_time": "2024-01-01T10:12:58.413959Z"
    }
   },
   "outputs": [
    {
     "data": {
      "text/plain": [
       "Vector(9,12)"
      ]
     },
     "execution_count": 32,
     "metadata": {},
     "output_type": "execute_result"
    }
   ],
   "source": [
    "v*3"
   ]
  },
  {
   "cell_type": "code",
   "execution_count": 33,
   "id": "3c794ef4",
   "metadata": {
    "ExecuteTime": {
     "end_time": "2024-01-01T10:13:04.689919Z",
     "start_time": "2024-01-01T10:13:04.684073Z"
    }
   },
   "outputs": [
    {
     "data": {
      "text/plain": [
       "15.0"
      ]
     },
     "execution_count": 33,
     "metadata": {},
     "output_type": "execute_result"
    }
   ],
   "source": [
    "abs(v*3)"
   ]
  },
  {
   "cell_type": "code",
   "execution_count": 34,
   "id": "f47a02af",
   "metadata": {
    "ExecuteTime": {
     "end_time": "2024-01-01T10:13:22.778848Z",
     "start_time": "2024-01-01T10:13:22.773190Z"
    }
   },
   "outputs": [
    {
     "data": {
      "text/plain": [
       "Vector(4,5)"
      ]
     },
     "execution_count": 34,
     "metadata": {},
     "output_type": "execute_result"
    }
   ],
   "source": [
    "v1=Vector(2,4)\n",
    "v2=Vector(2,1)\n",
    "v1+v2"
   ]
  },
  {
   "cell_type": "code",
   "execution_count": 35,
   "id": "13a9c7a9",
   "metadata": {
    "ExecuteTime": {
     "end_time": "2024-01-01T10:13:34.597515Z",
     "start_time": "2024-01-01T10:13:34.592009Z"
    }
   },
   "outputs": [
    {
     "data": {
      "text/plain": [
       "5.0"
      ]
     },
     "execution_count": 35,
     "metadata": {},
     "output_type": "execute_result"
    }
   ],
   "source": [
    "v = Vector(3,4)\n",
    "abs(v)"
   ]
  },
  {
   "cell_type": "code",
   "execution_count": 36,
   "id": "c6edf8f3",
   "metadata": {
    "ExecuteTime": {
     "end_time": "2024-01-01T10:13:39.028622Z",
     "start_time": "2024-01-01T10:13:39.022054Z"
    }
   },
   "outputs": [
    {
     "data": {
      "text/plain": [
       "Vector(9,12)"
      ]
     },
     "execution_count": 36,
     "metadata": {},
     "output_type": "execute_result"
    }
   ],
   "source": [
    "v*3"
   ]
  },
  {
   "cell_type": "code",
   "execution_count": 37,
   "id": "33236222",
   "metadata": {
    "ExecuteTime": {
     "end_time": "2024-01-01T10:13:42.818874Z",
     "start_time": "2024-01-01T10:13:42.812529Z"
    }
   },
   "outputs": [
    {
     "data": {
      "text/plain": [
       "15.0"
      ]
     },
     "execution_count": 37,
     "metadata": {},
     "output_type": "execute_result"
    }
   ],
   "source": [
    "abs(v*3)"
   ]
  },
  {
   "cell_type": "code",
   "execution_count": null,
   "id": "85399269",
   "metadata": {},
   "outputs": [],
   "source": []
  },
  {
   "cell_type": "code",
   "execution_count": null,
   "id": "ca7ec0f4",
   "metadata": {},
   "outputs": [],
   "source": []
  },
  {
   "cell_type": "code",
   "execution_count": null,
   "id": "f7c613dc",
   "metadata": {},
   "outputs": [],
   "source": []
  },
  {
   "cell_type": "code",
   "execution_count": null,
   "id": "31cdd086",
   "metadata": {},
   "outputs": [],
   "source": []
  }
 ],
 "metadata": {
  "kernelspec": {
   "display_name": "Python 3 (ipykernel)",
   "language": "python",
   "name": "python3"
  },
  "language_info": {
   "codemirror_mode": {
    "name": "ipython",
    "version": 3
   },
   "file_extension": ".py",
   "mimetype": "text/x-python",
   "name": "python",
   "nbconvert_exporter": "python",
   "pygments_lexer": "ipython3",
   "version": "3.11.5"
  },
  "toc": {
   "base_numbering": 1,
   "nav_menu": {},
   "number_sections": true,
   "sideBar": true,
   "skip_h1_title": false,
   "title_cell": "Table of Contents",
   "title_sidebar": "Contents",
   "toc_cell": false,
   "toc_position": {},
   "toc_section_display": true,
   "toc_window_display": false
  }
 },
 "nbformat": 4,
 "nbformat_minor": 5
}
