{
 "cells": [
  {
   "cell_type": "code",
   "execution_count": 2,
   "id": "f46ea4b6",
   "metadata": {
    "ExecuteTime": {
     "end_time": "2024-01-01T19:47:14.998898Z",
     "start_time": "2024-01-01T19:47:14.988361Z"
    }
   },
   "outputs": [
    {
     "data": {
      "text/plain": [
       "True"
      ]
     },
     "execution_count": 2,
     "metadata": {},
     "output_type": "execute_result"
    }
   ],
   "source": [
    "from collections import abc\n",
    "issubclass(tuple,abc.Sequence)"
   ]
  },
  {
   "cell_type": "code",
   "execution_count": 3,
   "id": "5e8fd279",
   "metadata": {
    "ExecuteTime": {
     "end_time": "2024-01-01T19:47:33.241631Z",
     "start_time": "2024-01-01T19:47:33.236787Z"
    }
   },
   "outputs": [
    {
     "data": {
      "text/plain": [
       "True"
      ]
     },
     "execution_count": 3,
     "metadata": {},
     "output_type": "execute_result"
    }
   ],
   "source": [
    "issubclass(list,abc.MutableSequence)"
   ]
  },
  {
   "cell_type": "code",
   "execution_count": null,
   "id": "16cfc27f",
   "metadata": {},
   "outputs": [],
   "source": []
  },
  {
   "cell_type": "code",
   "execution_count": 4,
   "id": "f2184048",
   "metadata": {
    "ExecuteTime": {
     "end_time": "2024-01-01T19:55:13.535155Z",
     "start_time": "2024-01-01T19:55:13.531200Z"
    }
   },
   "outputs": [],
   "source": [
    "symbols = '$¢£¥€¤'\n",
    "codes = []\n",
    "for symbol in symbols:\n",
    "    codes.append(ord(symbol))"
   ]
  },
  {
   "cell_type": "code",
   "execution_count": 5,
   "id": "29bc8655",
   "metadata": {
    "ExecuteTime": {
     "end_time": "2024-01-01T19:55:15.866546Z",
     "start_time": "2024-01-01T19:55:15.860926Z"
    }
   },
   "outputs": [
    {
     "data": {
      "text/plain": [
       "[36, 162, 163, 165, 8364, 164]"
      ]
     },
     "execution_count": 5,
     "metadata": {},
     "output_type": "execute_result"
    }
   ],
   "source": [
    "codes"
   ]
  },
  {
   "cell_type": "code",
   "execution_count": null,
   "id": "6ec6cc1a",
   "metadata": {},
   "outputs": [],
   "source": [
    "#26p Local Scope Within"
   ]
  },
  {
   "cell_type": "code",
   "execution_count": 6,
   "id": "ab91a4b9",
   "metadata": {
    "ExecuteTime": {
     "end_time": "2024-01-01T19:56:46.575410Z",
     "start_time": "2024-01-01T19:56:46.571367Z"
    }
   },
   "outputs": [
    {
     "data": {
      "text/plain": [
       "'ABC'"
      ]
     },
     "execution_count": 6,
     "metadata": {},
     "output_type": "execute_result"
    }
   ],
   "source": [
    "x = 'ABC'\n",
    "codes = [ord(x) for x in x]\n",
    "x"
   ]
  },
  {
   "cell_type": "code",
   "execution_count": 7,
   "id": "5b9def38",
   "metadata": {
    "ExecuteTime": {
     "end_time": "2024-01-01T19:56:51.123067Z",
     "start_time": "2024-01-01T19:56:51.116747Z"
    }
   },
   "outputs": [
    {
     "data": {
      "text/plain": [
       "[65, 66, 67]"
      ]
     },
     "execution_count": 7,
     "metadata": {},
     "output_type": "execute_result"
    }
   ],
   "source": [
    "codes"
   ]
  },
  {
   "cell_type": "code",
   "execution_count": 8,
   "id": "14f02f23",
   "metadata": {
    "ExecuteTime": {
     "end_time": "2024-01-01T19:57:18.030918Z",
     "start_time": "2024-01-01T19:57:18.026462Z"
    }
   },
   "outputs": [
    {
     "data": {
      "text/plain": [
       "67"
      ]
     },
     "execution_count": 8,
     "metadata": {},
     "output_type": "execute_result"
    }
   ],
   "source": [
    "codes = [last := ord(c) for c in x]\n",
    "last"
   ]
  },
  {
   "cell_type": "code",
   "execution_count": 9,
   "id": "25bc7092",
   "metadata": {
    "ExecuteTime": {
     "end_time": "2024-01-01T19:57:22.792605Z",
     "start_time": "2024-01-01T19:57:22.260789Z"
    }
   },
   "outputs": [
    {
     "ename": "NameError",
     "evalue": "name 'c' is not defined",
     "output_type": "error",
     "traceback": [
      "\u001b[1;31m---------------------------------------------------------------------------\u001b[0m",
      "\u001b[1;31mNameError\u001b[0m                                 Traceback (most recent call last)",
      "Cell \u001b[1;32mIn[9], line 1\u001b[0m\n\u001b[1;32m----> 1\u001b[0m c\n",
      "\u001b[1;31mNameError\u001b[0m: name 'c' is not defined"
     ]
    }
   ],
   "source": [
    "c # c is gone;  it existed only inside the listcomp."
   ]
  },
  {
   "cell_type": "code",
   "execution_count": 10,
   "id": "32ea668c",
   "metadata": {
    "ExecuteTime": {
     "end_time": "2024-01-01T19:59:49.565697Z",
     "start_time": "2024-01-01T19:59:49.558984Z"
    }
   },
   "outputs": [
    {
     "data": {
      "text/plain": [
       "[162, 163, 165, 8364, 164]"
      ]
     },
     "execution_count": 10,
     "metadata": {},
     "output_type": "execute_result"
    }
   ],
   "source": [
    "symbols = '$¢£¥€¤'\n",
    "beyond_ascii = [ord(s) for s in symbols if ord(s) > 127]\n",
    "beyond_ascii"
   ]
  },
  {
   "cell_type": "code",
   "execution_count": 11,
   "id": "0ffb87f4",
   "metadata": {
    "ExecuteTime": {
     "end_time": "2024-01-01T19:59:55.995514Z",
     "start_time": "2024-01-01T19:59:55.989448Z"
    }
   },
   "outputs": [
    {
     "data": {
      "text/plain": [
       "[162, 163, 165, 8364, 164]"
      ]
     },
     "execution_count": 11,
     "metadata": {},
     "output_type": "execute_result"
    }
   ],
   "source": [
    "beyond_ascii = list(filter(lambda c: c > 127, map(ord, symbols)))\n",
    "beyond_ascii"
   ]
  },
  {
   "cell_type": "code",
   "execution_count": 12,
   "id": "421ba3d0",
   "metadata": {
    "ExecuteTime": {
     "end_time": "2024-01-01T20:00:09.750678Z",
     "start_time": "2024-01-01T20:00:09.743019Z"
    }
   },
   "outputs": [
    {
     "data": {
      "text/plain": [
       "[('black', 'S'),\n",
       " ('black', 'M'),\n",
       " ('black', 'L'),\n",
       " ('white', 'S'),\n",
       " ('white', 'M'),\n",
       " ('white', 'L')]"
      ]
     },
     "execution_count": 12,
     "metadata": {},
     "output_type": "execute_result"
    }
   ],
   "source": [
    "colors = ['black', 'white']\n",
    "sizes = ['S', 'M', 'L']\n",
    "tshirts = [(color, size) for color in colors for size in sizes]\n",
    "tshirts"
   ]
  },
  {
   "cell_type": "code",
   "execution_count": 13,
   "id": "1d6f8857",
   "metadata": {
    "ExecuteTime": {
     "end_time": "2024-01-01T20:01:12.616651Z",
     "start_time": "2024-01-01T20:01:12.612771Z"
    }
   },
   "outputs": [
    {
     "name": "stdout",
     "output_type": "stream",
     "text": [
      "('black', 'S')\n",
      "('black', 'M')\n",
      "('black', 'L')\n",
      "('white', 'S')\n",
      "('white', 'M')\n",
      "('white', 'L')\n"
     ]
    }
   ],
   "source": [
    "for color in colors:\n",
    "    for size in sizes:\n",
    "        print((color, size))"
   ]
  },
  {
   "cell_type": "code",
   "execution_count": 14,
   "id": "cca8c148",
   "metadata": {
    "ExecuteTime": {
     "end_time": "2024-01-01T20:01:50.745379Z",
     "start_time": "2024-01-01T20:01:50.740864Z"
    }
   },
   "outputs": [
    {
     "data": {
      "text/plain": [
       "[('black', 'S'),\n",
       " ('white', 'S'),\n",
       " ('black', 'M'),\n",
       " ('white', 'M'),\n",
       " ('black', 'L'),\n",
       " ('white', 'L')]"
      ]
     },
     "execution_count": 14,
     "metadata": {},
     "output_type": "execute_result"
    }
   ],
   "source": [
    "tshirts = [(color, size) for size in sizes\n",
    "          for color in colors]\n",
    "tshirts"
   ]
  },
  {
   "cell_type": "code",
   "execution_count": 15,
   "id": "54e4f05b",
   "metadata": {
    "ExecuteTime": {
     "end_time": "2024-01-01T20:02:19.517891Z",
     "start_time": "2024-01-01T20:02:19.510323Z"
    }
   },
   "outputs": [
    {
     "data": {
      "text/plain": [
       "(36, 162, 163, 165, 8364, 164)"
      ]
     },
     "execution_count": 15,
     "metadata": {},
     "output_type": "execute_result"
    }
   ],
   "source": [
    "symbols = '$¢£¥€¤'\n",
    "tuple(ord(symbol) for symbol in symbols)"
   ]
  },
  {
   "cell_type": "code",
   "execution_count": 16,
   "id": "479ec2c4",
   "metadata": {
    "ExecuteTime": {
     "end_time": "2024-01-01T20:02:28.502905Z",
     "start_time": "2024-01-01T20:02:28.487003Z"
    }
   },
   "outputs": [
    {
     "data": {
      "text/plain": [
       "array('I', [36, 162, 163, 165, 8364, 164])"
      ]
     },
     "execution_count": 16,
     "metadata": {},
     "output_type": "execute_result"
    }
   ],
   "source": [
    "import array\n",
    "array.array('I', (ord(symbol) for symbol in symbols))"
   ]
  },
  {
   "cell_type": "code",
   "execution_count": 19,
   "id": "b614a8f1",
   "metadata": {
    "ExecuteTime": {
     "end_time": "2024-01-01T20:04:57.254309Z",
     "start_time": "2024-01-01T20:04:57.248403Z"
    }
   },
   "outputs": [
    {
     "name": "stdout",
     "output_type": "stream",
     "text": [
      "black S\n",
      "black M\n",
      "black L\n",
      "white S\n",
      "white M\n",
      "white L\n"
     ]
    }
   ],
   "source": [
    "colors = ['black', 'white']\n",
    "sizes = ['S', 'M', 'L']\n",
    "\n",
    "#for tshirt in ('f{c} {s}' for c in colors for s in sizes):\n",
    "#    print(tshirt)  \n",
    "# 책에는 이렇게 나오는데 왜 아래로 해야 동작할까?\n",
    "\n",
    "for tshirt in ('%s %s' % (c, s) for c in colors for s in sizes):\n",
    "    print(tshirt)"
   ]
  },
  {
   "cell_type": "code",
   "execution_count": 21,
   "id": "940028e0",
   "metadata": {
    "ExecuteTime": {
     "end_time": "2024-01-01T20:05:45.067787Z",
     "start_time": "2024-01-01T20:05:45.060616Z"
    }
   },
   "outputs": [
    {
     "name": "stdout",
     "output_type": "stream",
     "text": [
      "BRA/CE342567\n",
      "ESP/XDA205856\n",
      "USA/31195855\n"
     ]
    }
   ],
   "source": [
    "lax_coordinates = (33.9425, -118.408056)\n",
    "city, year, pop, chg, area = ('Tokyo', 2003, 32_450, 0.66, 8014)\n",
    "traveler_ids = [('USA', '31195855'), ('BRA', 'CE342567'), ('ESP', 'XDA205856')]\n",
    "\n",
    "for passport in sorted(traveler_ids):\n",
    "    print('%s/%s' % passport)"
   ]
  },
  {
   "cell_type": "code",
   "execution_count": 22,
   "id": "9064fbc4",
   "metadata": {
    "ExecuteTime": {
     "end_time": "2024-01-01T20:05:55.470409Z",
     "start_time": "2024-01-01T20:05:55.464906Z"
    }
   },
   "outputs": [
    {
     "name": "stdout",
     "output_type": "stream",
     "text": [
      "USA\n",
      "BRA\n",
      "ESP\n"
     ]
    }
   ],
   "source": [
    "for country, _ in traveler_ids:\n",
    "    print(country)"
   ]
  },
  {
   "cell_type": "code",
   "execution_count": 23,
   "id": "8e09ea5e",
   "metadata": {
    "ExecuteTime": {
     "end_time": "2024-01-01T20:06:12.590348Z",
     "start_time": "2024-01-01T20:06:12.583003Z"
    }
   },
   "outputs": [
    {
     "data": {
      "text/plain": [
       "True"
      ]
     },
     "execution_count": 23,
     "metadata": {},
     "output_type": "execute_result"
    }
   ],
   "source": [
    "a = (10, 'alpha', [1, 2])\n",
    "b = (10, 'alpha', [1, 2])\n",
    "a == b"
   ]
  },
  {
   "cell_type": "code",
   "execution_count": 24,
   "id": "63c5cb3a",
   "metadata": {
    "ExecuteTime": {
     "end_time": "2024-01-01T20:06:22.181045Z",
     "start_time": "2024-01-01T20:06:22.175272Z"
    }
   },
   "outputs": [
    {
     "data": {
      "text/plain": [
       "False"
      ]
     },
     "execution_count": 24,
     "metadata": {},
     "output_type": "execute_result"
    }
   ],
   "source": [
    "b[-1].append(99)\n",
    "a == b"
   ]
  },
  {
   "cell_type": "code",
   "execution_count": 26,
   "id": "608b5ddf",
   "metadata": {
    "ExecuteTime": {
     "end_time": "2024-01-01T20:06:29.046113Z",
     "start_time": "2024-01-01T20:06:29.039183Z"
    }
   },
   "outputs": [
    {
     "data": {
      "text/plain": [
       "(10, 'alpha', [1, 2, 99])"
      ]
     },
     "execution_count": 26,
     "metadata": {},
     "output_type": "execute_result"
    }
   ],
   "source": [
    "b"
   ]
  },
  {
   "cell_type": "code",
   "execution_count": 27,
   "id": "3b3fdd9a",
   "metadata": {
    "ExecuteTime": {
     "end_time": "2024-01-01T20:07:02.295473Z",
     "start_time": "2024-01-01T20:07:02.287511Z"
    }
   },
   "outputs": [
    {
     "data": {
      "text/plain": [
       "True"
      ]
     },
     "execution_count": 27,
     "metadata": {},
     "output_type": "execute_result"
    }
   ],
   "source": [
    "def fixed(o):\n",
    "    try:\n",
    "        hash(o)\n",
    "    except TypeError:\n",
    "        return False\n",
    "    return True\n",
    "\n",
    "tf = (10, 'alpha', (1, 2))  # Contains no mutable items\n",
    "tm = (10, 'alpha', [1, 2])  # Contains a mutable item (list)\n",
    "fixed(tf)"
   ]
  },
  {
   "cell_type": "code",
   "execution_count": 28,
   "id": "dcf931d7",
   "metadata": {
    "ExecuteTime": {
     "end_time": "2024-01-01T20:07:21.484596Z",
     "start_time": "2024-01-01T20:07:21.480091Z"
    }
   },
   "outputs": [
    {
     "data": {
      "text/plain": [
       "33.9425"
      ]
     },
     "execution_count": 28,
     "metadata": {},
     "output_type": "execute_result"
    }
   ],
   "source": [
    "lax_coordinates = (33.9425, -118.408056)\n",
    "latitude, longitude = lax_coordinates  # unpacking\n",
    "latitude"
   ]
  },
  {
   "cell_type": "code",
   "execution_count": 29,
   "id": "b30f99cb",
   "metadata": {
    "ExecuteTime": {
     "end_time": "2024-01-01T20:07:30.709441Z",
     "start_time": "2024-01-01T20:07:30.703336Z"
    }
   },
   "outputs": [
    {
     "data": {
      "text/plain": [
       "-118.408056"
      ]
     },
     "execution_count": 29,
     "metadata": {},
     "output_type": "execute_result"
    }
   ],
   "source": [
    "longitude"
   ]
  },
  {
   "cell_type": "code",
   "execution_count": 30,
   "id": "2567d142",
   "metadata": {
    "ExecuteTime": {
     "end_time": "2024-01-01T20:07:45.038981Z",
     "start_time": "2024-01-01T20:07:45.032229Z"
    }
   },
   "outputs": [
    {
     "data": {
      "text/plain": [
       "(2, 4)"
      ]
     },
     "execution_count": 30,
     "metadata": {},
     "output_type": "execute_result"
    }
   ],
   "source": [
    "divmod(20, 8)"
   ]
  },
  {
   "cell_type": "code",
   "execution_count": 31,
   "id": "fb4a2475",
   "metadata": {
    "ExecuteTime": {
     "end_time": "2024-01-01T20:07:53.952276Z",
     "start_time": "2024-01-01T20:07:53.946234Z"
    }
   },
   "outputs": [
    {
     "data": {
      "text/plain": [
       "(2, 4)"
      ]
     },
     "execution_count": 31,
     "metadata": {},
     "output_type": "execute_result"
    }
   ],
   "source": [
    "t = (20, 8)\n",
    "divmod(*t)"
   ]
  },
  {
   "cell_type": "code",
   "execution_count": 32,
   "id": "c9f2fdc5",
   "metadata": {
    "ExecuteTime": {
     "end_time": "2024-01-01T20:07:58.943112Z",
     "start_time": "2024-01-01T20:07:58.931197Z"
    }
   },
   "outputs": [
    {
     "data": {
      "text/plain": [
       "(2, 4)"
      ]
     },
     "execution_count": 32,
     "metadata": {},
     "output_type": "execute_result"
    }
   ],
   "source": [
    "quotient, remainder = divmod(*t)\n",
    "quotient, remainder"
   ]
  },
  {
   "cell_type": "code",
   "execution_count": 33,
   "id": "6edd9364",
   "metadata": {
    "ExecuteTime": {
     "end_time": "2024-01-01T20:08:15.927797Z",
     "start_time": "2024-01-01T20:08:15.921175Z"
    }
   },
   "outputs": [
    {
     "data": {
      "text/plain": [
       "'id_rsa.pub'"
      ]
     },
     "execution_count": 33,
     "metadata": {},
     "output_type": "execute_result"
    }
   ],
   "source": [
    "import os\n",
    "\n",
    "_, filename = os.path.split('/home/luciano/.ssh/id_rsa.pub')\n",
    "filename"
   ]
  },
  {
   "cell_type": "code",
   "execution_count": 34,
   "id": "59fa1efa",
   "metadata": {
    "ExecuteTime": {
     "end_time": "2024-01-01T20:08:32.351966Z",
     "start_time": "2024-01-01T20:08:32.345012Z"
    }
   },
   "outputs": [
    {
     "data": {
      "text/plain": [
       "(0, 1, [2, 3, 4])"
      ]
     },
     "execution_count": 34,
     "metadata": {},
     "output_type": "execute_result"
    }
   ],
   "source": [
    "a, b, *rest = range(5)\n",
    "a, b, rest"
   ]
  },
  {
   "cell_type": "code",
   "execution_count": 35,
   "id": "26a4dea9",
   "metadata": {
    "ExecuteTime": {
     "end_time": "2024-01-01T20:08:37.736876Z",
     "start_time": "2024-01-01T20:08:37.729641Z"
    }
   },
   "outputs": [
    {
     "data": {
      "text/plain": [
       "(0, 1, [2])"
      ]
     },
     "execution_count": 35,
     "metadata": {},
     "output_type": "execute_result"
    }
   ],
   "source": [
    "a, b, *rest = range(3)\n",
    "a, b, rest"
   ]
  },
  {
   "cell_type": "code",
   "execution_count": 36,
   "id": "35fc41ec",
   "metadata": {
    "ExecuteTime": {
     "end_time": "2024-01-01T20:08:45.932297Z",
     "start_time": "2024-01-01T20:08:45.926867Z"
    }
   },
   "outputs": [
    {
     "data": {
      "text/plain": [
       "(0, 1, [])"
      ]
     },
     "execution_count": 36,
     "metadata": {},
     "output_type": "execute_result"
    }
   ],
   "source": [
    "a, b, *rest = range(2)\n",
    "a, b, rest"
   ]
  },
  {
   "cell_type": "code",
   "execution_count": 37,
   "id": "12348543",
   "metadata": {
    "ExecuteTime": {
     "end_time": "2024-01-01T20:08:54.831264Z",
     "start_time": "2024-01-01T20:08:54.824645Z"
    }
   },
   "outputs": [
    {
     "data": {
      "text/plain": [
       "(0, [1, 2], 3, 4)"
      ]
     },
     "execution_count": 37,
     "metadata": {},
     "output_type": "execute_result"
    }
   ],
   "source": [
    "a, *body, c, d = range(5)\n",
    "a, body, c, d"
   ]
  },
  {
   "cell_type": "code",
   "execution_count": 38,
   "id": "88ed1129",
   "metadata": {
    "ExecuteTime": {
     "end_time": "2024-01-01T20:09:02.445440Z",
     "start_time": "2024-01-01T20:09:02.438648Z"
    }
   },
   "outputs": [
    {
     "data": {
      "text/plain": [
       "([0, 1], 2, 3, 4)"
      ]
     },
     "execution_count": 38,
     "metadata": {},
     "output_type": "execute_result"
    }
   ],
   "source": [
    "*head, b, c, d = range(5)\n",
    "head, b, c, d"
   ]
  },
  {
   "cell_type": "code",
   "execution_count": 39,
   "id": "d2d2c172",
   "metadata": {
    "ExecuteTime": {
     "end_time": "2024-01-01T20:10:48.609830Z",
     "start_time": "2024-01-01T20:10:48.602162Z"
    }
   },
   "outputs": [
    {
     "data": {
      "text/plain": [
       "(1, 2, 3, 4, (5, 6))"
      ]
     },
     "execution_count": 39,
     "metadata": {},
     "output_type": "execute_result"
    }
   ],
   "source": [
    "def fun(a, b, c, d, *rest):\n",
    "    return a, b, c, d, rest\n",
    "\n",
    "\n",
    "fun(*[1, 2], 3, *range(4, 7))"
   ]
  },
  {
   "cell_type": "code",
   "execution_count": 40,
   "id": "1d3de21f",
   "metadata": {
    "ExecuteTime": {
     "end_time": "2024-01-01T20:10:53.326469Z",
     "start_time": "2024-01-01T20:10:53.319591Z"
    }
   },
   "outputs": [
    {
     "data": {
      "text/plain": [
       "(0, 1, 2, 3, 4)"
      ]
     },
     "execution_count": 40,
     "metadata": {},
     "output_type": "execute_result"
    }
   ],
   "source": [
    "*range(4), 4"
   ]
  },
  {
   "cell_type": "code",
   "execution_count": 41,
   "id": "c974c375",
   "metadata": {
    "ExecuteTime": {
     "end_time": "2024-01-01T20:11:00.520086Z",
     "start_time": "2024-01-01T20:11:00.513893Z"
    }
   },
   "outputs": [
    {
     "data": {
      "text/plain": [
       "[0, 1, 2, 3, 4]"
      ]
     },
     "execution_count": 41,
     "metadata": {},
     "output_type": "execute_result"
    }
   ],
   "source": [
    "[*range(4), 4]"
   ]
  },
  {
   "cell_type": "code",
   "execution_count": 42,
   "id": "43572652",
   "metadata": {
    "ExecuteTime": {
     "end_time": "2024-01-01T20:11:06.449962Z",
     "start_time": "2024-01-01T20:11:06.443142Z"
    }
   },
   "outputs": [
    {
     "data": {
      "text/plain": [
       "{0, 1, 2, 3, 4, 5, 6, 7}"
      ]
     },
     "execution_count": 42,
     "metadata": {},
     "output_type": "execute_result"
    }
   ],
   "source": [
    "{*range(4), 4, *(5, 6, 7)}"
   ]
  },
  {
   "cell_type": "code",
   "execution_count": null,
   "id": "807d188d",
   "metadata": {},
   "outputs": [],
   "source": []
  },
  {
   "cell_type": "code",
   "execution_count": 43,
   "id": "7e5b4942",
   "metadata": {
    "ExecuteTime": {
     "end_time": "2024-01-01T20:12:57.424634Z",
     "start_time": "2024-01-01T20:12:57.419032Z"
    }
   },
   "outputs": [],
   "source": [
    "metro_areas = [\n",
    "    ('Tokyo', 'JP', 36.933, (35.689722, 139.691667)),\n",
    "    ('Delhi NCR', 'IN', 21.935, (28.613889, 77.208889)),\n",
    "    ('Mexico City', 'MX', 20.142, (19.433333, -99.133333)),\n",
    "    ('New York-Newark', 'US', 20.104, (40.808611, -74.020386)),\n",
    "    ('São Paulo', 'BR', 19.649, (-23.547778, -46.635833)),\n",
    "]"
   ]
  },
  {
   "cell_type": "code",
   "execution_count": 44,
   "id": "705f5f23",
   "metadata": {
    "ExecuteTime": {
     "end_time": "2024-01-01T20:12:59.906021Z",
     "start_time": "2024-01-01T20:12:59.899076Z"
    }
   },
   "outputs": [
    {
     "name": "stdout",
     "output_type": "stream",
     "text": [
      "                |  latitude | longitude\n",
      "Mexico City     |   19.4333 |  -99.1333\n",
      "New York-Newark |   40.8086 |  -74.0204\n",
      "São Paulo       |  -23.5478 |  -46.6358\n"
     ]
    }
   ],
   "source": [
    "def main():\n",
    "    print(f'{\"\":15} | {\"latitude\":>9} | {\"longitude\":>9}')\n",
    "    for record in metro_areas:\n",
    "        match record:\n",
    "            case [name, _, _, (lat, lon)] if lon <= 0:\n",
    "                print(f'{name:15} | {lat:9.4f} | {lon:9.4f}')\n",
    "main()"
   ]
  },
  {
   "cell_type": "code",
   "execution_count": 46,
   "id": "c4011696",
   "metadata": {
    "ExecuteTime": {
     "end_time": "2024-01-01T20:14:48.357568Z",
     "start_time": "2024-01-01T20:14:48.350193Z"
    }
   },
   "outputs": [],
   "source": [
    " def handle_command(self, message):\n",
    "     match message:\n",
    "         case ['BEEPER', frequency, times]:\n",
    "             self.beep(times, frequency)\n",
    "         case ['NECK', angle]:\n",
    "             self.rotate_neck(angle)\n",
    "         case ['LED', ident, intensity]:\n",
    "             self.leds[ident].set_brightness(ident, intensity)\n",
    "         case ['LED', ident, red, green, blue]:\n",
    "             self.leds[ident].set_color(ident, red, green, blue)\n",
    "         case _:\n",
    "             raise InvalidCommand(message)"
   ]
  },
  {
   "cell_type": "code",
   "execution_count": 47,
   "id": "081f8720",
   "metadata": {
    "ExecuteTime": {
     "end_time": "2024-01-01T20:15:11.955819Z",
     "start_time": "2024-01-01T20:15:11.947888Z"
    }
   },
   "outputs": [],
   "source": [
    "metro_areas = [\n",
    "    ('Tokyo', 'JP', 36.933, (35.689722, 139.691667)),\n",
    "    ('Delhi NCR', 'IN', 21.935, (28.613889, 77.208889)),\n",
    "    ('Mexico City', 'MX', 20.142, (19.433333, -99.133333)),\n",
    "    ('New York-Newark', 'US', 20.104, (40.808611, -74.020386)),\n",
    "    ('São Paulo', 'BR', 19.649, (-23.547778, -46.635833)),\n",
    "]\n",
    "\n",
    "def main():\n",
    "    print(f'{\"\":15} | {\"latitude\":>9} | {\"longitude\":>9}')\n",
    "    for record in metro_areas:\n",
    "        match record:\n",
    "            case [name, _, _, (lat, lon)] if lon <= 0:\n",
    "                print(f'{name:15} | {lat:9.4f} | {lon:9.4f}')"
   ]
  },
  {
   "cell_type": "code",
   "execution_count": 48,
   "id": "40d2d427",
   "metadata": {
    "ExecuteTime": {
     "end_time": "2024-01-01T20:15:22.956508Z",
     "start_time": "2024-01-01T20:15:22.947198Z"
    }
   },
   "outputs": [
    {
     "name": "stdout",
     "output_type": "stream",
     "text": [
      "                |  latitude | longitude\n",
      "Mexico City     |   19.4333 |  -99.1333\n",
      "New York-Newark |   40.8086 |  -74.0204\n",
      "São Paulo       |  -23.5478 |  -46.6358\n"
     ]
    }
   ],
   "source": [
    "main()"
   ]
  },
  {
   "cell_type": "code",
   "execution_count": 50,
   "id": "c08ec93d",
   "metadata": {
    "ExecuteTime": {
     "end_time": "2024-01-01T20:22:09.778190Z",
     "start_time": "2024-01-01T20:22:09.774358Z"
    }
   },
   "outputs": [],
   "source": [
    "# 43p Pattern Matching Sequences in an Interpreter"
   ]
  },
  {
   "cell_type": "code",
   "execution_count": 51,
   "id": "e3e13f04",
   "metadata": {
    "ExecuteTime": {
     "end_time": "2024-01-01T20:22:12.115158Z",
     "start_time": "2024-01-01T20:22:12.109668Z"
    }
   },
   "outputs": [],
   "source": [
    "#파일 만들고 import 해서 호출해봐야할듯 "
   ]
  },
  {
   "cell_type": "code",
   "execution_count": null,
   "id": "05febff0",
   "metadata": {},
   "outputs": [],
   "source": [
    "# 44p Pattern Matching with match/case-requires Python >= 3.10"
   ]
  },
  {
   "cell_type": "code",
   "execution_count": null,
   "id": "1b05a4e7",
   "metadata": {},
   "outputs": [],
   "source": [
    "#파일 만들고 import 해서 호출해봐야할듯 "
   ]
  },
  {
   "cell_type": "code",
   "execution_count": null,
   "id": "ad82820e",
   "metadata": {},
   "outputs": [],
   "source": []
  },
  {
   "cell_type": "code",
   "execution_count": 52,
   "id": "11c0f30d",
   "metadata": {
    "ExecuteTime": {
     "end_time": "2024-01-01T20:25:54.628613Z",
     "start_time": "2024-01-01T20:25:54.622142Z"
    }
   },
   "outputs": [
    {
     "data": {
      "text/plain": [
       "[10, 20]"
      ]
     },
     "execution_count": 52,
     "metadata": {},
     "output_type": "execute_result"
    }
   ],
   "source": [
    "l = [10, 20, 30, 40, 50, 60]\n",
    "\n",
    "l[:2]  # split at 2"
   ]
  },
  {
   "cell_type": "code",
   "execution_count": 53,
   "id": "48a52b33",
   "metadata": {
    "ExecuteTime": {
     "end_time": "2024-01-01T20:25:58.650967Z",
     "start_time": "2024-01-01T20:25:58.645653Z"
    }
   },
   "outputs": [
    {
     "data": {
      "text/plain": [
       "[30, 40, 50, 60]"
      ]
     },
     "execution_count": 53,
     "metadata": {},
     "output_type": "execute_result"
    }
   ],
   "source": [
    "l[2:]"
   ]
  },
  {
   "cell_type": "code",
   "execution_count": 54,
   "id": "1611f51a",
   "metadata": {
    "ExecuteTime": {
     "end_time": "2024-01-01T20:26:01.611466Z",
     "start_time": "2024-01-01T20:26:01.606872Z"
    }
   },
   "outputs": [
    {
     "data": {
      "text/plain": [
       "[10, 20, 30]"
      ]
     },
     "execution_count": 54,
     "metadata": {},
     "output_type": "execute_result"
    }
   ],
   "source": [
    "l[:3]  # split at 3"
   ]
  },
  {
   "cell_type": "code",
   "execution_count": 55,
   "id": "67ef32a9",
   "metadata": {
    "ExecuteTime": {
     "end_time": "2024-01-01T20:26:04.244484Z",
     "start_time": "2024-01-01T20:26:04.238637Z"
    }
   },
   "outputs": [
    {
     "data": {
      "text/plain": [
       "[40, 50, 60]"
      ]
     },
     "execution_count": 55,
     "metadata": {},
     "output_type": "execute_result"
    }
   ],
   "source": [
    "l[3:]"
   ]
  },
  {
   "cell_type": "code",
   "execution_count": 56,
   "id": "75f7e487",
   "metadata": {
    "ExecuteTime": {
     "end_time": "2024-01-01T20:26:17.508131Z",
     "start_time": "2024-01-01T20:26:17.500028Z"
    }
   },
   "outputs": [
    {
     "data": {
      "text/plain": [
       "'bye'"
      ]
     },
     "execution_count": 56,
     "metadata": {},
     "output_type": "execute_result"
    }
   ],
   "source": [
    "s = 'bicycle'\n",
    "s[::3]"
   ]
  },
  {
   "cell_type": "code",
   "execution_count": 57,
   "id": "82701c69",
   "metadata": {
    "ExecuteTime": {
     "end_time": "2024-01-01T20:26:22.064696Z",
     "start_time": "2024-01-01T20:26:22.060460Z"
    }
   },
   "outputs": [
    {
     "data": {
      "text/plain": [
       "'elcycib'"
      ]
     },
     "execution_count": 57,
     "metadata": {},
     "output_type": "execute_result"
    }
   ],
   "source": [
    "s[::-1]"
   ]
  },
  {
   "cell_type": "code",
   "execution_count": 58,
   "id": "14bcbbbf",
   "metadata": {
    "ExecuteTime": {
     "end_time": "2024-01-01T20:26:26.044456Z",
     "start_time": "2024-01-01T20:26:26.038980Z"
    }
   },
   "outputs": [
    {
     "data": {
      "text/plain": [
       "'eccb'"
      ]
     },
     "execution_count": 58,
     "metadata": {},
     "output_type": "execute_result"
    }
   ],
   "source": [
    "s[::-2]"
   ]
  },
  {
   "cell_type": "code",
   "execution_count": null,
   "id": "04eca26e",
   "metadata": {
    "ExecuteTime": {
     "end_time": "2024-01-01T20:26:39.014440Z",
     "start_time": "2024-01-01T20:26:38.995750Z"
    }
   },
   "outputs": [],
   "source": []
  },
  {
   "cell_type": "code",
   "execution_count": 60,
   "id": "bd7bb6b3",
   "metadata": {
    "ExecuteTime": {
     "end_time": "2024-01-01T20:27:10.205655Z",
     "start_time": "2024-01-01T20:27:10.197474Z"
    }
   },
   "outputs": [
    {
     "name": "stdout",
     "output_type": "stream",
     "text": [
      "    $17.50   imoroni PiBrella                  \n",
      "     $4.95   mm Tactile Switch x20             \n",
      "    $28.00   anavise Jr. - PV-201              \n",
      "    $34.95   iTFT Mini Kit 320x240             \n",
      " \n"
     ]
    }
   ],
   "source": [
    "invoice = \"\"\"\n",
    "0.....6.................................40........52...55........\n",
    "1909 Pimoroni PiBrella                      $17.50    3    $52.50\n",
    "1489 6mm Tactile Switch x20                  $4.95    2    $9.90\n",
    "1510 Panavise Jr. - PV-201                  $28.00    1    $28.00\n",
    "1601 PiTFT Mini Kit 320x240                 $34.95    1    $34.95\n",
    "\"\"\"\n",
    "\n",
    "SKU = slice(0, 6)\n",
    "DESCRIPTION = slice(6, 40)\n",
    "UNIT_PRICE = slice(40, 52)\n",
    "QUANTITY = slice(52, 55)\n",
    "ITEM_TOTAL = slice(55, None)\n",
    "\n",
    "line_items = invoice.split('\\n')[2:]\n",
    "\n",
    "for item in line_items:\n",
    "    print(item[UNIT_PRICE], item[DESCRIPTION])"
   ]
  },
  {
   "cell_type": "code",
   "execution_count": null,
   "id": "460457c9",
   "metadata": {},
   "outputs": [],
   "source": [
    "# Assigning to Slices 50p부터 하면 됌 "
   ]
  },
  {
   "cell_type": "code",
   "execution_count": null,
   "id": "7711f9b3",
   "metadata": {},
   "outputs": [],
   "source": []
  },
  {
   "cell_type": "code",
   "execution_count": null,
   "id": "19df7394",
   "metadata": {},
   "outputs": [],
   "source": []
  },
  {
   "cell_type": "code",
   "execution_count": null,
   "id": "566adfcf",
   "metadata": {},
   "outputs": [],
   "source": []
  },
  {
   "cell_type": "code",
   "execution_count": null,
   "id": "3bafb58c",
   "metadata": {},
   "outputs": [],
   "source": []
  },
  {
   "cell_type": "code",
   "execution_count": null,
   "id": "f6608509",
   "metadata": {},
   "outputs": [],
   "source": []
  },
  {
   "cell_type": "code",
   "execution_count": null,
   "id": "3a6d900f",
   "metadata": {},
   "outputs": [],
   "source": []
  },
  {
   "cell_type": "code",
   "execution_count": null,
   "id": "f2dc5a5a",
   "metadata": {},
   "outputs": [],
   "source": []
  },
  {
   "cell_type": "code",
   "execution_count": null,
   "id": "820f8084",
   "metadata": {},
   "outputs": [],
   "source": []
  },
  {
   "cell_type": "code",
   "execution_count": null,
   "id": "a46032ec",
   "metadata": {},
   "outputs": [],
   "source": []
  },
  {
   "cell_type": "code",
   "execution_count": null,
   "id": "5df6cd6a",
   "metadata": {},
   "outputs": [],
   "source": []
  },
  {
   "cell_type": "code",
   "execution_count": null,
   "id": "6a2cd7a0",
   "metadata": {},
   "outputs": [],
   "source": []
  },
  {
   "cell_type": "code",
   "execution_count": null,
   "id": "2721bbc9",
   "metadata": {},
   "outputs": [],
   "source": []
  },
  {
   "cell_type": "code",
   "execution_count": null,
   "id": "823f04b6",
   "metadata": {},
   "outputs": [],
   "source": []
  },
  {
   "cell_type": "code",
   "execution_count": null,
   "id": "e9534f4f",
   "metadata": {},
   "outputs": [],
   "source": []
  },
  {
   "cell_type": "code",
   "execution_count": null,
   "id": "17661cec",
   "metadata": {},
   "outputs": [],
   "source": []
  },
  {
   "cell_type": "code",
   "execution_count": null,
   "id": "db1d9d2c",
   "metadata": {},
   "outputs": [],
   "source": []
  },
  {
   "cell_type": "code",
   "execution_count": null,
   "id": "72e0e69c",
   "metadata": {},
   "outputs": [],
   "source": []
  },
  {
   "cell_type": "code",
   "execution_count": null,
   "id": "cd08522f",
   "metadata": {},
   "outputs": [],
   "source": []
  },
  {
   "cell_type": "code",
   "execution_count": null,
   "id": "9a78b01f",
   "metadata": {},
   "outputs": [],
   "source": []
  },
  {
   "cell_type": "code",
   "execution_count": null,
   "id": "5abe4811",
   "metadata": {},
   "outputs": [],
   "source": []
  },
  {
   "cell_type": "code",
   "execution_count": null,
   "id": "e4701fef",
   "metadata": {},
   "outputs": [],
   "source": []
  },
  {
   "cell_type": "code",
   "execution_count": null,
   "id": "1e07cde8",
   "metadata": {},
   "outputs": [],
   "source": []
  },
  {
   "cell_type": "code",
   "execution_count": null,
   "id": "651a85df",
   "metadata": {},
   "outputs": [],
   "source": []
  }
 ],
 "metadata": {
  "kernelspec": {
   "display_name": "Python 3 (ipykernel)",
   "language": "python",
   "name": "python3"
  },
  "language_info": {
   "codemirror_mode": {
    "name": "ipython",
    "version": 3
   },
   "file_extension": ".py",
   "mimetype": "text/x-python",
   "name": "python",
   "nbconvert_exporter": "python",
   "pygments_lexer": "ipython3",
   "version": "3.11.5"
  },
  "toc": {
   "base_numbering": 1,
   "nav_menu": {},
   "number_sections": true,
   "sideBar": true,
   "skip_h1_title": false,
   "title_cell": "Table of Contents",
   "title_sidebar": "Contents",
   "toc_cell": false,
   "toc_position": {},
   "toc_section_display": true,
   "toc_window_display": false
  }
 },
 "nbformat": 4,
 "nbformat_minor": 5
}
