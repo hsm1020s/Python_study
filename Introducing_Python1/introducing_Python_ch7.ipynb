{
 "cells": [
  {
   "cell_type": "code",
   "execution_count": null,
   "id": "397767d1",
   "metadata": {},
   "outputs": [],
   "source": [
    "# 튜플과 리스트"
   ]
  },
  {
   "cell_type": "code",
   "execution_count": 1,
   "id": "5040e187",
   "metadata": {},
   "outputs": [
    {
     "data": {
      "text/plain": [
       "()"
      ]
     },
     "execution_count": 1,
     "metadata": {},
     "output_type": "execute_result"
    }
   ],
   "source": [
    "empty_tuple =()\n",
    "empty_tuple"
   ]
  },
  {
   "cell_type": "code",
   "execution_count": 3,
   "id": "1e930e9d",
   "metadata": {},
   "outputs": [
    {
     "data": {
      "text/plain": [
       "('Groucho',)"
      ]
     },
     "execution_count": 3,
     "metadata": {},
     "output_type": "execute_result"
    }
   ],
   "source": [
    "one_marx = 'Groucho',\n",
    "one_marx"
   ]
  },
  {
   "cell_type": "code",
   "execution_count": 4,
   "id": "401901b2",
   "metadata": {},
   "outputs": [],
   "source": [
    "one_marx=('Groucho',)"
   ]
  },
  {
   "cell_type": "code",
   "execution_count": 5,
   "id": "3de9612e",
   "metadata": {},
   "outputs": [
    {
     "data": {
      "text/plain": [
       "('Groucho',)"
      ]
     },
     "execution_count": 5,
     "metadata": {},
     "output_type": "execute_result"
    }
   ],
   "source": [
    "one_marx"
   ]
  },
  {
   "cell_type": "code",
   "execution_count": 7,
   "id": "42c9535e",
   "metadata": {},
   "outputs": [
    {
     "data": {
      "text/plain": [
       "('Groucho',)"
      ]
     },
     "execution_count": 7,
     "metadata": {},
     "output_type": "execute_result"
    }
   ],
   "source": [
    "one_marx = ('Groucho',)\n",
    "one_marx"
   ]
  },
  {
   "cell_type": "code",
   "execution_count": 8,
   "id": "dff2f192",
   "metadata": {},
   "outputs": [],
   "source": [
    "one_marx=('Groucho')"
   ]
  },
  {
   "cell_type": "code",
   "execution_count": 9,
   "id": "6aad57fc",
   "metadata": {},
   "outputs": [
    {
     "data": {
      "text/plain": [
       "'Groucho'"
      ]
     },
     "execution_count": 9,
     "metadata": {},
     "output_type": "execute_result"
    }
   ],
   "source": [
    "one_marx"
   ]
  },
  {
   "cell_type": "code",
   "execution_count": 10,
   "id": "6de233db",
   "metadata": {},
   "outputs": [
    {
     "data": {
      "text/plain": [
       "str"
      ]
     },
     "execution_count": 10,
     "metadata": {},
     "output_type": "execute_result"
    }
   ],
   "source": [
    "type(one_marx)"
   ]
  },
  {
   "cell_type": "code",
   "execution_count": 12,
   "id": "edeed74a",
   "metadata": {},
   "outputs": [
    {
     "data": {
      "text/plain": [
       "('Groucho', 'Chico', 'Harpo')"
      ]
     },
     "execution_count": 12,
     "metadata": {},
     "output_type": "execute_result"
    }
   ],
   "source": [
    "marx_tuple = 'Groucho','Chico','Harpo'\n",
    "marx_tuple"
   ]
  },
  {
   "cell_type": "code",
   "execution_count": 14,
   "id": "fe13f761",
   "metadata": {},
   "outputs": [
    {
     "data": {
      "text/plain": [
       "('Groucho', 'Chico', 'Harpo')"
      ]
     },
     "execution_count": 14,
     "metadata": {},
     "output_type": "execute_result"
    }
   ],
   "source": [
    "marx_tuple=('Groucho','Chico','Harpo')\n",
    "marx_tuple"
   ]
  },
  {
   "cell_type": "code",
   "execution_count": 16,
   "id": "811cefff",
   "metadata": {},
   "outputs": [
    {
     "data": {
      "text/plain": [
       "tuple"
      ]
     },
     "execution_count": 16,
     "metadata": {},
     "output_type": "execute_result"
    }
   ],
   "source": [
    "one_marx='Groucho',\n",
    "type(one_marx)"
   ]
  },
  {
   "cell_type": "code",
   "execution_count": 19,
   "id": "9aaf1340",
   "metadata": {},
   "outputs": [
    {
     "data": {
      "text/plain": [
       "str"
      ]
     },
     "execution_count": 19,
     "metadata": {},
     "output_type": "execute_result"
    }
   ],
   "source": [
    "type('Groucho',)"
   ]
  },
  {
   "cell_type": "code",
   "execution_count": 20,
   "id": "ead2229a",
   "metadata": {},
   "outputs": [
    {
     "data": {
      "text/plain": [
       "tuple"
      ]
     },
     "execution_count": 20,
     "metadata": {},
     "output_type": "execute_result"
    }
   ],
   "source": [
    "type(('Groucho',))"
   ]
  },
  {
   "cell_type": "code",
   "execution_count": 22,
   "id": "d8cd8616",
   "metadata": {},
   "outputs": [],
   "source": [
    "marx_tuple =('Groucho','Chico','Harpo')\n",
    "a,b,c = marx_tuple"
   ]
  },
  {
   "cell_type": "code",
   "execution_count": 23,
   "id": "2e26674c",
   "metadata": {},
   "outputs": [
    {
     "data": {
      "text/plain": [
       "'Groucho'"
      ]
     },
     "execution_count": 23,
     "metadata": {},
     "output_type": "execute_result"
    }
   ],
   "source": [
    "a"
   ]
  },
  {
   "cell_type": "code",
   "execution_count": 26,
   "id": "3e2b5622",
   "metadata": {},
   "outputs": [
    {
     "data": {
      "text/plain": [
       "'Chico'"
      ]
     },
     "execution_count": 26,
     "metadata": {},
     "output_type": "execute_result"
    }
   ],
   "source": [
    "b"
   ]
  },
  {
   "cell_type": "code",
   "execution_count": 27,
   "id": "1bb2249e",
   "metadata": {},
   "outputs": [
    {
     "data": {
      "text/plain": [
       "'Harpo'"
      ]
     },
     "execution_count": 27,
     "metadata": {},
     "output_type": "execute_result"
    }
   ],
   "source": [
    "c"
   ]
  },
  {
   "cell_type": "code",
   "execution_count": 28,
   "id": "044f3b47",
   "metadata": {},
   "outputs": [],
   "source": [
    "password = 'swordfish'"
   ]
  },
  {
   "cell_type": "code",
   "execution_count": 29,
   "id": "0d62dae3",
   "metadata": {},
   "outputs": [],
   "source": [
    "icecream = 'tuttifrutti'"
   ]
  },
  {
   "cell_type": "code",
   "execution_count": 30,
   "id": "d88970d2",
   "metadata": {},
   "outputs": [],
   "source": [
    "password, icecream = icecream, password"
   ]
  },
  {
   "cell_type": "code",
   "execution_count": 31,
   "id": "be07ed72",
   "metadata": {},
   "outputs": [
    {
     "data": {
      "text/plain": [
       "'tuttifrutti'"
      ]
     },
     "execution_count": 31,
     "metadata": {},
     "output_type": "execute_result"
    }
   ],
   "source": [
    "password"
   ]
  },
  {
   "cell_type": "code",
   "execution_count": null,
   "id": "29ba9dea",
   "metadata": {},
   "outputs": [],
   "source": [
    "#생성하기 : tuple()"
   ]
  },
  {
   "cell_type": "code",
   "execution_count": null,
   "id": "3ffaa6de",
   "metadata": {},
   "outputs": [],
   "source": [
    "# tuple() 함수는 다른 객체를 튜플로 만들어준다."
   ]
  },
  {
   "cell_type": "code",
   "execution_count": 2,
   "id": "77f56971",
   "metadata": {},
   "outputs": [],
   "source": [
    "marx_list =  ['Groucho',  'Chico',  'Harpo']"
   ]
  },
  {
   "cell_type": "code",
   "execution_count": 3,
   "id": "24f6bba2",
   "metadata": {},
   "outputs": [
    {
     "data": {
      "text/plain": [
       "('Groucho', 'Chico', 'Harpo')"
      ]
     },
     "execution_count": 3,
     "metadata": {},
     "output_type": "execute_result"
    }
   ],
   "source": [
    "tuple(marx_list)"
   ]
  },
  {
   "cell_type": "code",
   "execution_count": null,
   "id": "8e242d66",
   "metadata": {},
   "outputs": [],
   "source": [
    "# 결합하기:+"
   ]
  },
  {
   "cell_type": "code",
   "execution_count": 4,
   "id": "8bed9694",
   "metadata": {},
   "outputs": [
    {
     "data": {
      "text/plain": [
       "('Groucho', 'Chico', 'Harpo')"
      ]
     },
     "execution_count": 4,
     "metadata": {},
     "output_type": "execute_result"
    }
   ],
   "source": [
    "('Groucho',)+('Chico','Harpo')"
   ]
  },
  {
   "cell_type": "code",
   "execution_count": 5,
   "id": "ed929541",
   "metadata": {},
   "outputs": [
    {
     "data": {
      "text/plain": [
       "('yada', 'yada', 'yada')"
      ]
     },
     "execution_count": 5,
     "metadata": {},
     "output_type": "execute_result"
    }
   ],
   "source": [
    "#항목 복제하기\n",
    "('yada',)*3"
   ]
  },
  {
   "cell_type": "code",
   "execution_count": 6,
   "id": "21bfdfa1",
   "metadata": {},
   "outputs": [],
   "source": [
    "a=(7,2)"
   ]
  },
  {
   "cell_type": "code",
   "execution_count": 7,
   "id": "47ea9073",
   "metadata": {},
   "outputs": [],
   "source": [
    "b=(7,2,9)"
   ]
  },
  {
   "cell_type": "code",
   "execution_count": 8,
   "id": "94218451",
   "metadata": {},
   "outputs": [
    {
     "data": {
      "text/plain": [
       "False"
      ]
     },
     "execution_count": 8,
     "metadata": {},
     "output_type": "execute_result"
    }
   ],
   "source": [
    "a==b"
   ]
  },
  {
   "cell_type": "code",
   "execution_count": 9,
   "id": "3ad44859",
   "metadata": {},
   "outputs": [
    {
     "data": {
      "text/plain": [
       "True"
      ]
     },
     "execution_count": 9,
     "metadata": {},
     "output_type": "execute_result"
    }
   ],
   "source": [
    "a<=b"
   ]
  },
  {
   "cell_type": "code",
   "execution_count": 10,
   "id": "88b0bd8b",
   "metadata": {},
   "outputs": [
    {
     "data": {
      "text/plain": [
       "True"
      ]
     },
     "execution_count": 10,
     "metadata": {},
     "output_type": "execute_result"
    }
   ],
   "source": [
    "a<b"
   ]
  },
  {
   "cell_type": "code",
   "execution_count": 11,
   "id": "4326ea5f",
   "metadata": {},
   "outputs": [],
   "source": [
    "#튜플 순회하기 for와 in"
   ]
  },
  {
   "cell_type": "code",
   "execution_count": 12,
   "id": "314cbe54",
   "metadata": {},
   "outputs": [
    {
     "name": "stdout",
     "output_type": "stream",
     "text": [
      "fresh\n",
      "out\n",
      "of\n",
      "ideas\n"
     ]
    }
   ],
   "source": [
    "words = ('fresh','out','of','ideas')\n",
    "for word in words:\n",
    "    print(word)"
   ]
  },
  {
   "cell_type": "code",
   "execution_count": null,
   "id": "8439e95a",
   "metadata": {},
   "outputs": [],
   "source": [
    "# 수정하기"
   ]
  },
  {
   "cell_type": "code",
   "execution_count": 28,
   "id": "fcd22f75",
   "metadata": {},
   "outputs": [],
   "source": [
    "t1 =  ('Fee', 'Fie', 'Foe')"
   ]
  },
  {
   "cell_type": "code",
   "execution_count": 37,
   "id": "5b7944ec",
   "metadata": {},
   "outputs": [],
   "source": [
    "t2 = ('Flop',)  # 책에는 이거 오타 있음"
   ]
  },
  {
   "cell_type": "code",
   "execution_count": 38,
   "id": "fbe349ef",
   "metadata": {},
   "outputs": [
    {
     "data": {
      "text/plain": [
       "('Fee', 'Fie', 'Foe', 'Flop')"
      ]
     },
     "execution_count": 38,
     "metadata": {},
     "output_type": "execute_result"
    }
   ],
   "source": [
    "t1+t2"
   ]
  },
  {
   "cell_type": "code",
   "execution_count": 39,
   "id": "eb94b53a",
   "metadata": {},
   "outputs": [],
   "source": [
    "t1 = ('Fee', 'Fie','Foe')"
   ]
  },
  {
   "cell_type": "code",
   "execution_count": 40,
   "id": "7562c042",
   "metadata": {},
   "outputs": [],
   "source": [
    "t2 = ('Flop',)"
   ]
  },
  {
   "cell_type": "code",
   "execution_count": 41,
   "id": "6e151e46",
   "metadata": {},
   "outputs": [],
   "source": [
    "t1+=t2"
   ]
  },
  {
   "cell_type": "code",
   "execution_count": 42,
   "id": "27decb32",
   "metadata": {},
   "outputs": [
    {
     "data": {
      "text/plain": [
       "('Fee', 'Fie', 'Foe', 'Flop')"
      ]
     },
     "execution_count": 42,
     "metadata": {},
     "output_type": "execute_result"
    }
   ],
   "source": [
    "t1"
   ]
  },
  {
   "cell_type": "code",
   "execution_count": 43,
   "id": "d8079bd3",
   "metadata": {},
   "outputs": [],
   "source": [
    "t1 = ('Fee','Fie','Foe')"
   ]
  },
  {
   "cell_type": "code",
   "execution_count": 44,
   "id": "77a8e93b",
   "metadata": {},
   "outputs": [],
   "source": [
    "t2 = ('Flop',)"
   ]
  },
  {
   "cell_type": "code",
   "execution_count": 45,
   "id": "c3e15f49",
   "metadata": {},
   "outputs": [
    {
     "data": {
      "text/plain": [
       "2266528606656"
      ]
     },
     "execution_count": 45,
     "metadata": {},
     "output_type": "execute_result"
    }
   ],
   "source": [
    "id(t1) # 주소가 다름"
   ]
  },
  {
   "cell_type": "code",
   "execution_count": 46,
   "id": "ad388465",
   "metadata": {},
   "outputs": [],
   "source": [
    "t1 += t2"
   ]
  },
  {
   "cell_type": "code",
   "execution_count": 47,
   "id": "3a4054dc",
   "metadata": {},
   "outputs": [
    {
     "data": {
      "text/plain": [
       "2266528510048"
      ]
     },
     "execution_count": 47,
     "metadata": {},
     "output_type": "execute_result"
    }
   ],
   "source": [
    "id(t1)# 주소가 다름"
   ]
  },
  {
   "cell_type": "code",
   "execution_count": null,
   "id": "fcbebc1a",
   "metadata": {},
   "outputs": [],
   "source": []
  },
  {
   "cell_type": "code",
   "execution_count": null,
   "id": "939cedc3",
   "metadata": {},
   "outputs": [],
   "source": [
    "# 7.2 리스트  150p  \n",
    "# 리스트는 데이터를 순차파악하는데 유용하다.\n",
    "# 특히 내용의 순서가 바뀔수 있다. \n",
    "# 문자열과 달리 리스트는 변경 가능함.\n",
    "# 현재 위치에서 새로운 요소를 추가, 삭제하거나 기존요소 덮어쓰기 가능"
   ]
  },
  {
   "cell_type": "code",
   "execution_count": 48,
   "id": "524b6ba9",
   "metadata": {},
   "outputs": [],
   "source": [
    "empty_list = []"
   ]
  },
  {
   "cell_type": "code",
   "execution_count": 49,
   "id": "6d956452",
   "metadata": {},
   "outputs": [],
   "source": [
    "weekdays  =  ['Monday',  'Tuesday',  'Wednesday',   'Thursday',  'Friday' ]"
   ]
  },
  {
   "cell_type": "code",
   "execution_count": 50,
   "id": "a74eb499",
   "metadata": {},
   "outputs": [],
   "source": [
    "big_birds =  ['emu','ostrich',  'cassowary']"
   ]
  },
  {
   "cell_type": "code",
   "execution_count": 53,
   "id": "43a520d5",
   "metadata": {},
   "outputs": [],
   "source": [
    "first_names =  ['Graham',  'John',  'Terry',  'Terry','Michael']"
   ]
  },
  {
   "cell_type": "code",
   "execution_count": 54,
   "id": "5d1c17f1",
   "metadata": {},
   "outputs": [],
   "source": [
    "leap_years =  [2000,  2004,  2008]"
   ]
  },
  {
   "cell_type": "code",
   "execution_count": 55,
   "id": "327e4837",
   "metadata": {},
   "outputs": [],
   "source": [
    " randomness  =  ['Punxsatawney', {'groundhog':    'Phil' }, 'Feb.  2']"
   ]
  },
  {
   "cell_type": "code",
   "execution_count": null,
   "id": "8c6028a3",
   "metadata": {},
   "outputs": [],
   "source": [
    "#first_names 리스트는 값이 고유하지 않아도 되는것을 보여준다."
   ]
  },
  {
   "cell_type": "code",
   "execution_count": null,
   "id": "0774f807",
   "metadata": {},
   "outputs": [],
   "source": [
    "#요소의 순서룰 고려하지 않고, 고유값만 사용하고 싶다면 set만 사용\n",
    "#big_birds 리스트를 셋으로 설정할수 있다.  셋은 8장에서 나옴"
   ]
  },
  {
   "cell_type": "code",
   "execution_count": 56,
   "id": "0446ba64",
   "metadata": {},
   "outputs": [],
   "source": [
    "# 7.2.2 생성 및 변환하기 list()"
   ]
  },
  {
   "cell_type": "code",
   "execution_count": 57,
   "id": "79a7a474",
   "metadata": {},
   "outputs": [],
   "source": [
    "another_empty_list = list()"
   ]
  },
  {
   "cell_type": "code",
   "execution_count": 58,
   "id": "a3db933f",
   "metadata": {},
   "outputs": [
    {
     "data": {
      "text/plain": [
       "[]"
      ]
     },
     "execution_count": 58,
     "metadata": {},
     "output_type": "execute_result"
    }
   ],
   "source": [
    "another_empty_list"
   ]
  },
  {
   "cell_type": "code",
   "execution_count": null,
   "id": "f7c0f474",
   "metadata": {},
   "outputs": [],
   "source": [
    "#list() 함수는 다른 데이터 타입(튜플,문자열,셋,딕셔너리 등)을 리스트로 변환\n",
    "#다음 예제는 단어 하나를 한 문자의 문자열 리스트로 변환한다."
   ]
  },
  {
   "cell_type": "code",
   "execution_count": 59,
   "id": "8a283df2",
   "metadata": {},
   "outputs": [
    {
     "data": {
      "text/plain": [
       "['c', 'a', 't']"
      ]
     },
     "execution_count": 59,
     "metadata": {},
     "output_type": "execute_result"
    }
   ],
   "source": [
    "list('cat') #튜플을 리스트로 변환"
   ]
  },
  {
   "cell_type": "code",
   "execution_count": 1,
   "id": "7626a200",
   "metadata": {},
   "outputs": [],
   "source": [
    "a_tuple = ('ready','fire','aim')"
   ]
  },
  {
   "cell_type": "code",
   "execution_count": 2,
   "id": "db527ecf",
   "metadata": {},
   "outputs": [
    {
     "data": {
      "text/plain": [
       "['ready', 'fire', 'aim']"
      ]
     },
     "execution_count": 2,
     "metadata": {},
     "output_type": "execute_result"
    }
   ],
   "source": [
    "list(a_tuple)"
   ]
  },
  {
   "cell_type": "code",
   "execution_count": 3,
   "id": "b87d5369",
   "metadata": {},
   "outputs": [],
   "source": [
    "take_like_a_pirate_day='9/19/2019'"
   ]
  },
  {
   "cell_type": "code",
   "execution_count": 5,
   "id": "0e4c8d72",
   "metadata": {},
   "outputs": [
    {
     "data": {
      "text/plain": [
       "['9', '19', '2019']"
      ]
     },
     "execution_count": 5,
     "metadata": {},
     "output_type": "execute_result"
    }
   ],
   "source": [
    "take_like_a_pirate_day.split('/')"
   ]
  },
  {
   "cell_type": "code",
   "execution_count": null,
   "id": "b75fd0f1",
   "metadata": {},
   "outputs": [],
   "source": [
    "#문자열 안에 구분자가 두개 이상 있을경우"
   ]
  },
  {
   "cell_type": "code",
   "execution_count": 6,
   "id": "8d64b116",
   "metadata": {},
   "outputs": [],
   "source": [
    "splitme = 'a/b//c/d///e'"
   ]
  },
  {
   "cell_type": "code",
   "execution_count": 7,
   "id": "287d9453",
   "metadata": {},
   "outputs": [
    {
     "data": {
      "text/plain": [
       "['a', 'b', '', 'c', 'd', '', '', 'e']"
      ]
     },
     "execution_count": 7,
     "metadata": {},
     "output_type": "execute_result"
    }
   ],
   "source": [
    "splitme.split('/') #빈 문자열을 볼 수 있다."
   ]
  },
  {
   "cell_type": "code",
   "execution_count": null,
   "id": "517fa0f4",
   "metadata": {},
   "outputs": [],
   "source": []
  },
  {
   "cell_type": "code",
   "execution_count": null,
   "id": "1012bb25",
   "metadata": {},
   "outputs": [],
   "source": []
  },
  {
   "cell_type": "code",
   "execution_count": null,
   "id": "7f658c8c",
   "metadata": {},
   "outputs": [],
   "source": []
  },
  {
   "cell_type": "code",
   "execution_count": null,
   "id": "08c549c5",
   "metadata": {},
   "outputs": [],
   "source": []
  },
  {
   "cell_type": "code",
   "execution_count": null,
   "id": "4c9bfdcf",
   "metadata": {},
   "outputs": [],
   "source": []
  },
  {
   "cell_type": "code",
   "execution_count": null,
   "id": "2c0393b9",
   "metadata": {},
   "outputs": [],
   "source": []
  },
  {
   "cell_type": "code",
   "execution_count": null,
   "id": "de21b0b6",
   "metadata": {},
   "outputs": [],
   "source": []
  },
  {
   "cell_type": "code",
   "execution_count": null,
   "id": "801c2f12",
   "metadata": {},
   "outputs": [],
   "source": []
  },
  {
   "cell_type": "code",
   "execution_count": null,
   "id": "36452257",
   "metadata": {},
   "outputs": [],
   "source": []
  },
  {
   "cell_type": "code",
   "execution_count": null,
   "id": "d9197504",
   "metadata": {},
   "outputs": [],
   "source": []
  },
  {
   "cell_type": "code",
   "execution_count": null,
   "id": "6d01b70e",
   "metadata": {},
   "outputs": [],
   "source": []
  },
  {
   "cell_type": "code",
   "execution_count": null,
   "id": "a72021d3",
   "metadata": {},
   "outputs": [],
   "source": []
  },
  {
   "cell_type": "code",
   "execution_count": null,
   "id": "fd8d2719",
   "metadata": {},
   "outputs": [],
   "source": []
  },
  {
   "cell_type": "code",
   "execution_count": null,
   "id": "5d2be04a",
   "metadata": {},
   "outputs": [],
   "source": []
  },
  {
   "cell_type": "code",
   "execution_count": null,
   "id": "ea7d1436",
   "metadata": {},
   "outputs": [],
   "source": []
  },
  {
   "cell_type": "code",
   "execution_count": null,
   "id": "d7405494",
   "metadata": {},
   "outputs": [],
   "source": []
  },
  {
   "cell_type": "code",
   "execution_count": null,
   "id": "78a52e36",
   "metadata": {},
   "outputs": [],
   "source": []
  },
  {
   "cell_type": "code",
   "execution_count": null,
   "id": "5c88a509",
   "metadata": {},
   "outputs": [],
   "source": []
  },
  {
   "cell_type": "code",
   "execution_count": null,
   "id": "4f3255bd",
   "metadata": {},
   "outputs": [],
   "source": []
  },
  {
   "cell_type": "code",
   "execution_count": null,
   "id": "8cdd668b",
   "metadata": {},
   "outputs": [],
   "source": []
  },
  {
   "cell_type": "code",
   "execution_count": null,
   "id": "0604a8fe",
   "metadata": {},
   "outputs": [],
   "source": []
  },
  {
   "cell_type": "code",
   "execution_count": null,
   "id": "fb3606b5",
   "metadata": {},
   "outputs": [],
   "source": []
  },
  {
   "cell_type": "code",
   "execution_count": null,
   "id": "2dc416b2",
   "metadata": {},
   "outputs": [],
   "source": []
  },
  {
   "cell_type": "code",
   "execution_count": null,
   "id": "c34eb389",
   "metadata": {},
   "outputs": [],
   "source": []
  },
  {
   "cell_type": "code",
   "execution_count": null,
   "id": "644fa81f",
   "metadata": {},
   "outputs": [],
   "source": []
  },
  {
   "cell_type": "code",
   "execution_count": null,
   "id": "28c883b1",
   "metadata": {},
   "outputs": [],
   "source": []
  },
  {
   "cell_type": "code",
   "execution_count": null,
   "id": "4be47f8b",
   "metadata": {},
   "outputs": [],
   "source": []
  },
  {
   "cell_type": "code",
   "execution_count": null,
   "id": "e3a389b8",
   "metadata": {},
   "outputs": [],
   "source": []
  },
  {
   "cell_type": "code",
   "execution_count": null,
   "id": "a3c3a200",
   "metadata": {},
   "outputs": [],
   "source": []
  },
  {
   "cell_type": "code",
   "execution_count": null,
   "id": "632e9974",
   "metadata": {},
   "outputs": [],
   "source": []
  },
  {
   "cell_type": "code",
   "execution_count": null,
   "id": "72c35196",
   "metadata": {},
   "outputs": [],
   "source": []
  },
  {
   "cell_type": "code",
   "execution_count": null,
   "id": "437f9354",
   "metadata": {},
   "outputs": [],
   "source": []
  },
  {
   "cell_type": "code",
   "execution_count": null,
   "id": "f132bbce",
   "metadata": {},
   "outputs": [],
   "source": []
  },
  {
   "cell_type": "code",
   "execution_count": null,
   "id": "18fb627a",
   "metadata": {},
   "outputs": [],
   "source": []
  },
  {
   "cell_type": "code",
   "execution_count": null,
   "id": "174fcc48",
   "metadata": {},
   "outputs": [],
   "source": []
  }
 ],
 "metadata": {
  "kernelspec": {
   "display_name": "Python 3 (ipykernel)",
   "language": "python",
   "name": "python3"
  },
  "language_info": {
   "codemirror_mode": {
    "name": "ipython",
    "version": 3
   },
   "file_extension": ".py",
   "mimetype": "text/x-python",
   "name": "python",
   "nbconvert_exporter": "python",
   "pygments_lexer": "ipython3",
   "version": "3.11.5"
  }
 },
 "nbformat": 4,
 "nbformat_minor": 5
}
