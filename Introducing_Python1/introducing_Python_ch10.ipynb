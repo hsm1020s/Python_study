{
 "cells": [
  {
   "cell_type": "code",
   "execution_count": 36,
   "id": "7cbdbc43",
   "metadata": {},
   "outputs": [],
   "source": [
    "#객체와 클래스 243~279"
   ]
  },
  {
   "cell_type": "code",
   "execution_count": 37,
   "id": "794b54d2",
   "metadata": {},
   "outputs": [],
   "source": [
    "# 파이썬은 모든것이 객체다.\n",
    "# 객체는 변수와 함수를 포함하는 커스텀 자료구조다."
   ]
  },
  {
   "cell_type": "code",
   "execution_count": 38,
   "id": "043e19b9",
   "metadata": {},
   "outputs": [],
   "source": [
    "class Cat:\n",
    "    pass \n",
    "# 클래스가 비어있다는 것을 나타내기 위해 pass 를 사용."
   ]
  },
  {
   "cell_type": "code",
   "execution_count": 39,
   "id": "e7044239",
   "metadata": {},
   "outputs": [],
   "source": [
    "a_cat = Cat()"
   ]
  },
  {
   "cell_type": "code",
   "execution_count": 40,
   "id": "b947fb0b",
   "metadata": {},
   "outputs": [],
   "source": [
    "another_cat = Cat()"
   ]
  },
  {
   "cell_type": "code",
   "execution_count": 41,
   "id": "672ba9a1",
   "metadata": {},
   "outputs": [],
   "source": [
    "# Cat()은 Cat 클래스로부터 개별 객체를 생성한다. \n",
    "# 그리고 이런 개체를 a_cat과 another_cat 이름에 할당한다. \n",
    "# 그러나 Cat 클래스는 빈 클래스이기 때문에 생성한 객체만 존재할 뿐 아무것도 할 수 없다.  "
   ]
  },
  {
   "cell_type": "code",
   "execution_count": 42,
   "id": "42726a8a",
   "metadata": {},
   "outputs": [],
   "source": [
    "# 속성은 클래스나 객체 내부의 변수다.  \n",
    "# 객체나 클래스가 생성되는 동안이나 이후에 속성을 할당할 수 있다.\n",
    "# 속성은 다른 객체일 수 있다. Cat 객체 두 개를 다시 생성해보자"
   ]
  },
  {
   "cell_type": "code",
   "execution_count": 43,
   "id": "9e5ccb29",
   "metadata": {},
   "outputs": [],
   "source": [
    "class Cat:\n",
    "    pass"
   ]
  },
  {
   "cell_type": "code",
   "execution_count": 44,
   "id": "9f45a7b2",
   "metadata": {},
   "outputs": [],
   "source": [
    "a_cat = Cat()"
   ]
  },
  {
   "cell_type": "code",
   "execution_count": 45,
   "id": "3a8fa27e",
   "metadata": {},
   "outputs": [
    {
     "data": {
      "text/plain": [
       "<__main__.Cat at 0x2602a15b050>"
      ]
     },
     "execution_count": 45,
     "metadata": {},
     "output_type": "execute_result"
    }
   ],
   "source": [
    "a_cat"
   ]
  },
  {
   "cell_type": "code",
   "execution_count": 46,
   "id": "b1930574",
   "metadata": {},
   "outputs": [],
   "source": [
    "another_cat = Cat()"
   ]
  },
  {
   "cell_type": "code",
   "execution_count": 47,
   "id": "3027f151",
   "metadata": {},
   "outputs": [
    {
     "data": {
      "text/plain": [
       "<__main__.Cat at 0x2602a159290>"
      ]
     },
     "execution_count": 47,
     "metadata": {},
     "output_type": "execute_result"
    }
   ],
   "source": [
    "another_cat"
   ]
  },
  {
   "cell_type": "code",
   "execution_count": 48,
   "id": "a6f3dcca",
   "metadata": {},
   "outputs": [],
   "source": [
    "a_cat.age = 3"
   ]
  },
  {
   "cell_type": "code",
   "execution_count": 49,
   "id": "187d0427",
   "metadata": {},
   "outputs": [],
   "source": [
    "a_cat.name = \"Mr.Fuzzybuttons\""
   ]
  },
  {
   "cell_type": "code",
   "execution_count": 50,
   "id": "3b687fde",
   "metadata": {},
   "outputs": [],
   "source": [
    "a_cat.namesis = another_cat"
   ]
  },
  {
   "cell_type": "code",
   "execution_count": 51,
   "id": "fb9046db",
   "metadata": {},
   "outputs": [
    {
     "data": {
      "text/plain": [
       "3"
      ]
     },
     "execution_count": 51,
     "metadata": {},
     "output_type": "execute_result"
    }
   ],
   "source": [
    "a_cat.age"
   ]
  },
  {
   "cell_type": "code",
   "execution_count": 52,
   "id": "e39e18f6",
   "metadata": {},
   "outputs": [
    {
     "data": {
      "text/plain": [
       "'Mr.Fuzzybuttons'"
      ]
     },
     "execution_count": 52,
     "metadata": {},
     "output_type": "execute_result"
    }
   ],
   "source": [
    "a_cat.name"
   ]
  },
  {
   "cell_type": "code",
   "execution_count": 53,
   "id": "fe042dc4",
   "metadata": {},
   "outputs": [
    {
     "data": {
      "text/plain": [
       "<__main__.Cat at 0x2602a159290>"
      ]
     },
     "execution_count": 53,
     "metadata": {},
     "output_type": "execute_result"
    }
   ],
   "source": [
    "a_cat.namesis"
   ]
  },
  {
   "cell_type": "code",
   "execution_count": 54,
   "id": "b43d541a",
   "metadata": {},
   "outputs": [
    {
     "ename": "AttributeError",
     "evalue": "'Cat' object has no attribute 'name'",
     "output_type": "error",
     "traceback": [
      "\u001b[1;31m---------------------------------------------------------------------------\u001b[0m",
      "\u001b[1;31mAttributeError\u001b[0m                            Traceback (most recent call last)",
      "Cell \u001b[1;32mIn[54], line 1\u001b[0m\n\u001b[1;32m----> 1\u001b[0m a_cat\u001b[38;5;241m.\u001b[39mnamesis\u001b[38;5;241m.\u001b[39mname\n",
      "\u001b[1;31mAttributeError\u001b[0m: 'Cat' object has no attribute 'name'"
     ]
    }
   ],
   "source": [
    "a_cat.namesis.name"
   ]
  },
  {
   "cell_type": "code",
   "execution_count": 55,
   "id": "fa28c7d2",
   "metadata": {},
   "outputs": [],
   "source": [
    "a_cat.namesis.name = \"Mr.Bigglesworth\""
   ]
  },
  {
   "cell_type": "code",
   "execution_count": 56,
   "id": "b6e9743e",
   "metadata": {},
   "outputs": [
    {
     "data": {
      "text/plain": [
       "'Mr.Bigglesworth'"
      ]
     },
     "execution_count": 56,
     "metadata": {},
     "output_type": "execute_result"
    }
   ],
   "source": [
    "a_cat.namesis.name"
   ]
  },
  {
   "cell_type": "code",
   "execution_count": null,
   "id": "0b076437",
   "metadata": {},
   "outputs": [],
   "source": [
    "# 10.2.4 초기화\n",
    "# 객체를 생성할 때 속성을 할당하려면 객체 초기화 메서드 __init__()를 사용한다."
   ]
  },
  {
   "cell_type": "code",
   "execution_count": 57,
   "id": "2de5bb3b",
   "metadata": {},
   "outputs": [],
   "source": [
    "class Cat:\n",
    "    def __init__(self):\n",
    "        pass"
   ]
  },
  {
   "cell_type": "code",
   "execution_count": null,
   "id": "02b78381",
   "metadata": {},
   "outputs": [],
   "source": [
    "# __init__() 클래스 정의에서 개별 객체를 초기화하는 특수 메서드다.\n",
    "# self 매개변수는 개별 객체 자신을 참조하도록 지정한다.\n",
    "\n",
    "# 클래스 정의에서 __init__()을 정의할 때 첫 번째 매개변수 이름은 self이어야 한다. \n",
    "# self 는 예약어는 아니지만 일반적으로 사용한다. \n",
    "# 따라서 다른 사람이 코드를 읽을 때 무슨 뜻인지 추측할 필요가 없다.\n",
    "# 그러나 위 코드에서도 실제로 뭔가 수행하는 객체를 만들지 않았다."
   ]
  },
  {
   "cell_type": "code",
   "execution_count": null,
   "id": "5d469ca4",
   "metadata": {},
   "outputs": [],
   "source": [
    "# 이번에는 초기화 메서드에 매개변수 이름을 추가한다."
   ]
  },
  {
   "cell_type": "code",
   "execution_count": 59,
   "id": "fe2bd84b",
   "metadata": {},
   "outputs": [],
   "source": [
    "class Cat():\n",
    "    def __init__(self,name):\n",
    "        self.name = name"
   ]
  },
  {
   "cell_type": "code",
   "execution_count": 60,
   "id": "2d23122f",
   "metadata": {},
   "outputs": [],
   "source": [
    "furball = Cat('Grumpy')"
   ]
  },
  {
   "cell_type": "code",
   "execution_count": null,
   "id": "2960647d",
   "metadata": {},
   "outputs": [],
   "source": [
    "# 위 코드의 동작과정\n",
    "# 1. Cat 클래스의 정의를 찾는다.\n",
    "# 2. 메모리에 새 객체를 초기화(생성)한다.\n",
    "# 3. 객체의 __init__ 메서드를 호출한다. 새롭게 생성된 객체를 self에 전달하고,\n",
    "# 인수('Grumpy')를 name에 전달한다.\n",
    "# 4. 객체에 name값을 저장한다.\n",
    "# 5. 새 객체를 반환한다.\n",
    "# 6. furball 변수에 이 객체를 연결한다."
   ]
  },
  {
   "cell_type": "code",
   "execution_count": null,
   "id": "73debc33",
   "metadata": {},
   "outputs": [],
   "source": [
    "# 이 객체는 리스트,튜플,딕셔너리,셋의 요소로 사용가능 "
   ]
  },
  {
   "cell_type": "code",
   "execution_count": 61,
   "id": "f27e1cae",
   "metadata": {},
   "outputs": [
    {
     "name": "stdout",
     "output_type": "stream",
     "text": [
      "Grumpy\n"
     ]
    }
   ],
   "source": [
    "print(furball.name)"
   ]
  },
  {
   "cell_type": "code",
   "execution_count": null,
   "id": "909c59f7",
   "metadata": {},
   "outputs": [],
   "source": [
    "# Cat 클래스 정의에서 name속성을 self.name으로 접근하는 것을 기억하자.\n",
    "# furball 과 같은 객체를 생성할때 furball.name은 self.name을 참조한다."
   ]
  },
  {
   "cell_type": "code",
   "execution_count": null,
   "id": "fa06fa93",
   "metadata": {},
   "outputs": [],
   "source": [
    "# 모든 클래스 정의에서 __init__() 메서드를 가질 필요가 없다.\n",
    "# __init__() 메서드는 같은 클래스에서 생성된 다른 객체를 구분하기 위해 필요한 다른 뭔가를 수행한다.\n",
    "# __init__()메서드는 다른 언어에서 부르는 생성자 개념이 아니다.\n",
    "# __init__() 메서드 호출 전에 이미 객체를 만들었기 떄문이다.\n",
    "# __init__() 메서드를 초기화 메서드라고 생각하자."
   ]
  },
  {
   "cell_type": "code",
   "execution_count": null,
   "id": "dc13cd03",
   "metadata": {},
   "outputs": [],
   "source": []
  },
  {
   "cell_type": "code",
   "execution_count": null,
   "id": "e1d45c8d",
   "metadata": {},
   "outputs": [],
   "source": [
    "#상속 "
   ]
  },
  {
   "cell_type": "code",
   "execution_count": null,
   "id": "05b19be2",
   "metadata": {},
   "outputs": [],
   "source": [
    "# 기존 클래스는 부모,슈퍼,베이스 클래스라고 부른다.\n",
    "# 새 클래스는 자식,서브,파생된 클래스 라고 부른다."
   ]
  },
  {
   "cell_type": "code",
   "execution_count": 62,
   "id": "a99d975b",
   "metadata": {},
   "outputs": [],
   "source": [
    "class Car():\n",
    "    pass"
   ]
  },
  {
   "cell_type": "code",
   "execution_count": 63,
   "id": "10fa6cdf",
   "metadata": {},
   "outputs": [],
   "source": [
    "class Yugo(Car):\n",
    "    pass"
   ]
  },
  {
   "cell_type": "code",
   "execution_count": 65,
   "id": "6f79447a",
   "metadata": {},
   "outputs": [
    {
     "data": {
      "text/plain": [
       "True"
      ]
     },
     "execution_count": 65,
     "metadata": {},
     "output_type": "execute_result"
    }
   ],
   "source": [
    "issubclass(Yugo,Car) # issubclass() 함수를 사용해서 다른 클래스에서 파생되었는지 확인할수있다."
   ]
  },
  {
   "cell_type": "code",
   "execution_count": 66,
   "id": "161db88f",
   "metadata": {},
   "outputs": [],
   "source": [
    "give_me_a_car = Car()"
   ]
  },
  {
   "cell_type": "code",
   "execution_count": 67,
   "id": "68887645",
   "metadata": {},
   "outputs": [],
   "source": [
    "give_me_a_yugo = Yugo()"
   ]
  },
  {
   "cell_type": "code",
   "execution_count": null,
   "id": "30ad30ab",
   "metadata": {},
   "outputs": [],
   "source": [
    "# 자식 클래스는 부모 클래스를 구체화한것이다. "
   ]
  },
  {
   "cell_type": "code",
   "execution_count": 68,
   "id": "b7067757",
   "metadata": {},
   "outputs": [],
   "source": [
    "class Car():\n",
    "    def exclaim(self):\n",
    "        print(\"I'm a Car!\")"
   ]
  },
  {
   "cell_type": "code",
   "execution_count": 69,
   "id": "c5dbca36",
   "metadata": {},
   "outputs": [],
   "source": [
    "class Yugo(Car):\n",
    "    pass"
   ]
  },
  {
   "cell_type": "code",
   "execution_count": null,
   "id": "3c3cea38",
   "metadata": {},
   "outputs": [],
   "source": [
    "# 마지막으로, 클래스로부터 객체를 만들고 exclaim() 메서드를 호출한다."
   ]
  },
  {
   "cell_type": "code",
   "execution_count": 70,
   "id": "6bc6ca53",
   "metadata": {},
   "outputs": [],
   "source": [
    "give_me_a_car = Car()"
   ]
  },
  {
   "cell_type": "code",
   "execution_count": 71,
   "id": "15559941",
   "metadata": {},
   "outputs": [],
   "source": [
    "give_me_a_yugo = Yugo()"
   ]
  },
  {
   "cell_type": "code",
   "execution_count": 72,
   "id": "db3e6b11",
   "metadata": {},
   "outputs": [
    {
     "name": "stdout",
     "output_type": "stream",
     "text": [
      "I'm a Car!\n"
     ]
    }
   ],
   "source": [
    "give_me_a_car.exclaim()"
   ]
  },
  {
   "cell_type": "code",
   "execution_count": 73,
   "id": "bf535481",
   "metadata": {},
   "outputs": [
    {
     "name": "stdout",
     "output_type": "stream",
     "text": [
      "I'm a Car!\n"
     ]
    }
   ],
   "source": [
    "give_me_a_yugo.exclaim()"
   ]
  },
  {
   "cell_type": "code",
   "execution_count": null,
   "id": "134a1a17",
   "metadata": {},
   "outputs": [],
   "source": [
    "# Yugo는 특별한 일을 하지 않고 Car로부터 exclaim() 메서드를 상속받았다."
   ]
  },
  {
   "cell_type": "code",
   "execution_count": null,
   "id": "0e3732ca",
   "metadata": {},
   "outputs": [],
   "source": []
  },
  {
   "cell_type": "code",
   "execution_count": null,
   "id": "4bd7d126",
   "metadata": {},
   "outputs": [],
   "source": [
    "# 10.3.2 메서드 오버라이드\n",
    "# 부모 메서드를 어떻게 오버라이드 하는지 살펴보자."
   ]
  },
  {
   "cell_type": "code",
   "execution_count": 74,
   "id": "532583cd",
   "metadata": {},
   "outputs": [],
   "source": [
    "class Car():\n",
    "    def exclaim(self):\n",
    "        print(\"I'm a Car!\")"
   ]
  },
  {
   "cell_type": "code",
   "execution_count": 75,
   "id": "55365b61",
   "metadata": {},
   "outputs": [],
   "source": [
    "class Yugo(Car):\n",
    "    def exclaim(self):\n",
    "        print(\"I'm a Yugo\")"
   ]
  },
  {
   "cell_type": "code",
   "execution_count": 76,
   "id": "ec6ee497",
   "metadata": {},
   "outputs": [],
   "source": [
    "give_me_a_car = Car()"
   ]
  },
  {
   "cell_type": "code",
   "execution_count": 78,
   "id": "2027d9c4",
   "metadata": {},
   "outputs": [],
   "source": [
    "give_me_a_yugo = Yugo()"
   ]
  },
  {
   "cell_type": "code",
   "execution_count": 79,
   "id": "54a3fa06",
   "metadata": {},
   "outputs": [
    {
     "name": "stdout",
     "output_type": "stream",
     "text": [
      "I'm a Car!\n"
     ]
    }
   ],
   "source": [
    "give_me_a_car.exclaim()"
   ]
  },
  {
   "cell_type": "code",
   "execution_count": 80,
   "id": "fec7318d",
   "metadata": {},
   "outputs": [
    {
     "name": "stdout",
     "output_type": "stream",
     "text": [
      "I'm a Yugo\n"
     ]
    }
   ],
   "source": [
    "give_me_a_yugo.exclaim()"
   ]
  },
  {
   "cell_type": "code",
   "execution_count": null,
   "id": "024366d6",
   "metadata": {},
   "outputs": [],
   "source": []
  },
  {
   "cell_type": "code",
   "execution_count": 88,
   "id": "7b350297",
   "metadata": {},
   "outputs": [],
   "source": [
    "class Person():\n",
    "    def __init__(self,name):\n",
    "        self.name = name\n",
    "class MDPerson(Person):\n",
    "    def __init__(self,name):\n",
    "        self.name = \"Doctor \"+name"
   ]
  },
  {
   "cell_type": "code",
   "execution_count": 89,
   "id": "0dfbe9e6",
   "metadata": {},
   "outputs": [],
   "source": [
    "class JDPerson(Person):\n",
    "    def __init__(self,name):\n",
    "        self.name = name +\", Esquire\""
   ]
  },
  {
   "cell_type": "code",
   "execution_count": null,
   "id": "43555562",
   "metadata": {},
   "outputs": [],
   "source": [
    "# 이러한 경우 __init__() 초기화 메서드는 부모 클래스의 Person과 같은 인수를 취하지만，\n",
    "# 객체의 인스턴스 내부에서는 다른 name 값을 저장한다."
   ]
  },
  {
   "cell_type": "code",
   "execution_count": 90,
   "id": "3ef4cac4",
   "metadata": {},
   "outputs": [],
   "source": [
    "person = Person('Fudd')"
   ]
  },
  {
   "cell_type": "code",
   "execution_count": 91,
   "id": "4a0a888c",
   "metadata": {},
   "outputs": [],
   "source": [
    "doctor = MDPerson('Fudd')"
   ]
  },
  {
   "cell_type": "code",
   "execution_count": 92,
   "id": "1b32a269",
   "metadata": {},
   "outputs": [],
   "source": [
    "lawyer = JDPerson('Fudd')"
   ]
  },
  {
   "cell_type": "code",
   "execution_count": 93,
   "id": "36ef0d4b",
   "metadata": {},
   "outputs": [
    {
     "name": "stdout",
     "output_type": "stream",
     "text": [
      "Fudd\n"
     ]
    }
   ],
   "source": [
    "print(person.name)"
   ]
  },
  {
   "cell_type": "code",
   "execution_count": 94,
   "id": "a837f9b5",
   "metadata": {},
   "outputs": [
    {
     "name": "stdout",
     "output_type": "stream",
     "text": [
      "Doctor Fudd\n"
     ]
    }
   ],
   "source": [
    "print(doctor.name)"
   ]
  },
  {
   "cell_type": "code",
   "execution_count": 95,
   "id": "eb218324",
   "metadata": {},
   "outputs": [
    {
     "name": "stdout",
     "output_type": "stream",
     "text": [
      "Fudd, Esquire\n"
     ]
    }
   ],
   "source": [
    "print(lawyer.name)"
   ]
  },
  {
   "cell_type": "code",
   "execution_count": null,
   "id": "88181e42",
   "metadata": {},
   "outputs": [],
   "source": []
  },
  {
   "cell_type": "code",
   "execution_count": null,
   "id": "8fa9ec6d",
   "metadata": {},
   "outputs": [],
   "source": [
    "# 10.3.3 메서드 추가하기"
   ]
  },
  {
   "cell_type": "code",
   "execution_count": null,
   "id": "b51425a6",
   "metadata": {},
   "outputs": [],
   "source": [
    "# 자식 클래스도 부모 클래스에 없는 메서드를 추가할 수 있다. \n",
    "# Car 클래스와 Yugo 클래스로 돌아가서 Yugo 클래스에만 있는 새로운 메서드 need_a_push()를 정의해보자"
   ]
  },
  {
   "cell_type": "code",
   "execution_count": 96,
   "id": "c7c9c135",
   "metadata": {},
   "outputs": [],
   "source": [
    "class Car():\n",
    "    def exclaim(self):\n",
    "        print(\"I'm a Car!\")"
   ]
  },
  {
   "cell_type": "code",
   "execution_count": 97,
   "id": "567107ad",
   "metadata": {},
   "outputs": [],
   "source": [
    "class Yugo(Car):\n",
    "    def exclaim(self):\n",
    "        print(\"I'm a Yugo! \")\n",
    "    def need_a_push(self):\n",
    "        print(\"A little help here?\")"
   ]
  },
  {
   "cell_type": "code",
   "execution_count": 98,
   "id": "ee6abdca",
   "metadata": {},
   "outputs": [],
   "source": [
    "give_me_a_car= Car()\n",
    "give_me_a_yugo = Yugo()"
   ]
  },
  {
   "cell_type": "code",
   "execution_count": 99,
   "id": "581545ff",
   "metadata": {},
   "outputs": [
    {
     "name": "stdout",
     "output_type": "stream",
     "text": [
      "A little help here?\n"
     ]
    }
   ],
   "source": [
    "give_me_a_yugo.need_a_push() # Yugo 객체는 need_a_push() 메서드 호출에 대답할 수 있다"
   ]
  },
  {
   "cell_type": "code",
   "execution_count": 100,
   "id": "c4789908",
   "metadata": {},
   "outputs": [
    {
     "ename": "AttributeError",
     "evalue": "'Car' object has no attribute 'need_a_push'",
     "output_type": "error",
     "traceback": [
      "\u001b[1;31m---------------------------------------------------------------------------\u001b[0m",
      "\u001b[1;31mAttributeError\u001b[0m                            Traceback (most recent call last)",
      "Cell \u001b[1;32mIn[100], line 1\u001b[0m\n\u001b[1;32m----> 1\u001b[0m give_me_a_car\u001b[38;5;241m.\u001b[39mneed_a_push()\n",
      "\u001b[1;31mAttributeError\u001b[0m: 'Car' object has no attribute 'need_a_push'"
     ]
    }
   ],
   "source": [
    "give_me_a_car.need_a_push()  # 그러나 제네릭 Car 객체는 그렇게 할수 없다 "
   ]
  },
  {
   "cell_type": "code",
   "execution_count": null,
   "id": "d49238dd",
   "metadata": {},
   "outputs": [],
   "source": [
    "# 10.3.4 부모에게 도움받기: super()"
   ]
  },
  {
   "cell_type": "code",
   "execution_count": 101,
   "id": "a4477363",
   "metadata": {},
   "outputs": [],
   "source": [
    "class Person():\n",
    "    def __init__(self,name):\n",
    "        self.name = name"
   ]
  },
  {
   "cell_type": "code",
   "execution_count": null,
   "id": "145156f7",
   "metadata": {},
   "outputs": [],
   "source": [
    "# 서브클래스의 __init__() 메서드에 email 매개변수를 추가했다. "
   ]
  },
  {
   "cell_type": "code",
   "execution_count": 102,
   "id": "ac616264",
   "metadata": {},
   "outputs": [],
   "source": [
    "class EmailPerson(Person):\n",
    "    def __init__(self,name,email):\n",
    "        super().__init__(name)\n",
    "        self.email = email"
   ]
  },
  {
   "cell_type": "code",
   "execution_count": 103,
   "id": "ad697699",
   "metadata": {},
   "outputs": [],
   "source": [
    "bob = EmailPerson('Bob Frapples','bob@frapples.com')"
   ]
  },
  {
   "cell_type": "code",
   "execution_count": 104,
   "id": "ef02d77f",
   "metadata": {},
   "outputs": [
    {
     "data": {
      "text/plain": [
       "'Bob Frapples'"
      ]
     },
     "execution_count": 104,
     "metadata": {},
     "output_type": "execute_result"
    }
   ],
   "source": [
    "bob.name"
   ]
  },
  {
   "cell_type": "code",
   "execution_count": 105,
   "id": "08e309d7",
   "metadata": {},
   "outputs": [
    {
     "data": {
      "text/plain": [
       "'bob@frapples.com'"
      ]
     },
     "execution_count": 105,
     "metadata": {},
     "output_type": "execute_result"
    }
   ],
   "source": [
    "bob.email"
   ]
  },
  {
   "cell_type": "code",
   "execution_count": null,
   "id": "fffa7de9",
   "metadata": {},
   "outputs": [],
   "source": [
    "# 다중상속\n",
    "# 객체는 여러 부모클래스를 상속받을수 있다.\n",
    "# 파이썬의 상속은 메서드 해석 순서에 달려있다.\n",
    "# 각 파이썬 클래스에는 특수 메서드 mro()가 있다. \n",
    "# 이 메서드는 해당 클래스 객체에 대한 메서드 또는 속성을 찾는 데 필요한 클래스의 리스트를 반환한다.\n",
    "# __mro__라는 유사한 속성은 해당 클래스의 튜플이다. 위경우 먼저 선언된 부모 클래스를 상속받는다."
   ]
  },
  {
   "cell_type": "code",
   "execution_count": 118,
   "id": "2748480f",
   "metadata": {},
   "outputs": [],
   "source": [
    "class Animal:\n",
    "    def says(self):\n",
    "        return 'I speak!'"
   ]
  },
  {
   "cell_type": "code",
   "execution_count": 119,
   "id": "b768c3cc",
   "metadata": {},
   "outputs": [],
   "source": [
    "class Horse(Animal):\n",
    "    def says(self):\n",
    "        return 'Neigh!'"
   ]
  },
  {
   "cell_type": "code",
   "execution_count": 120,
   "id": "e1e9c1a8",
   "metadata": {},
   "outputs": [],
   "source": [
    "class Donkey(Animal):\n",
    "    def says(self):\n",
    "        return 'Hee-haw!'"
   ]
  },
  {
   "cell_type": "code",
   "execution_count": 121,
   "id": "c1170f75",
   "metadata": {},
   "outputs": [],
   "source": [
    "class Mule(Donkey,Horse):\n",
    "    pass"
   ]
  },
  {
   "cell_type": "code",
   "execution_count": 122,
   "id": "f67e3853",
   "metadata": {},
   "outputs": [],
   "source": [
    "class Hinny(Horse,Donkey):\n",
    "    pass"
   ]
  },
  {
   "cell_type": "code",
   "execution_count": 123,
   "id": "21f8b9ce",
   "metadata": {},
   "outputs": [],
   "source": [
    "# Mule 클래스에서 메서드나 속성을 찾을 때 순서\n",
    "# 1. 객체 자신(Mule타입)\n",
    "# 2. 객체의 클래스(Mule)\n",
    "# 3. 클래스의 첫 번째 부모 클래스\n",
    "# 4. 클래스의 두 번째 부모 클래스\n",
    "# 5. 부모의 부모 클래스"
   ]
  },
  {
   "cell_type": "code",
   "execution_count": 124,
   "id": "ac5d0925",
   "metadata": {},
   "outputs": [
    {
     "data": {
      "text/plain": [
       "[__main__.Mule, __main__.Donkey, __main__.Horse, __main__.Animal, object]"
      ]
     },
     "execution_count": 124,
     "metadata": {},
     "output_type": "execute_result"
    }
   ],
   "source": [
    "Mule.mro()"
   ]
  },
  {
   "cell_type": "code",
   "execution_count": 125,
   "id": "c4920f7d",
   "metadata": {},
   "outputs": [
    {
     "data": {
      "text/plain": [
       "[__main__.Hinny, __main__.Horse, __main__.Donkey, __main__.Animal, object]"
      ]
     },
     "execution_count": 125,
     "metadata": {},
     "output_type": "execute_result"
    }
   ],
   "source": [
    "Hinny.mro()"
   ]
  },
  {
   "cell_type": "code",
   "execution_count": 126,
   "id": "5f01f83e",
   "metadata": {},
   "outputs": [],
   "source": [
    "Mule = Mule()"
   ]
  },
  {
   "cell_type": "code",
   "execution_count": 127,
   "id": "bb8c895e",
   "metadata": {},
   "outputs": [],
   "source": [
    "hinny = Hinny()"
   ]
  },
  {
   "cell_type": "code",
   "execution_count": 129,
   "id": "14171878",
   "metadata": {},
   "outputs": [
    {
     "data": {
      "text/plain": [
       "'Hee-haw!'"
      ]
     },
     "execution_count": 129,
     "metadata": {},
     "output_type": "execute_result"
    }
   ],
   "source": [
    "Mule.says()"
   ]
  },
  {
   "cell_type": "code",
   "execution_count": 130,
   "id": "edcb1b52",
   "metadata": {},
   "outputs": [
    {
     "data": {
      "text/plain": [
       "'Neigh!'"
      ]
     },
     "execution_count": 130,
     "metadata": {},
     "output_type": "execute_result"
    }
   ],
   "source": [
    "hinny.says()"
   ]
  },
  {
   "cell_type": "code",
   "execution_count": null,
   "id": "2c3d73b6",
   "metadata": {},
   "outputs": [],
   "source": []
  },
  {
   "cell_type": "code",
   "execution_count": null,
   "id": "0b11398e",
   "metadata": {},
   "outputs": [],
   "source": [
    "# 믹스인"
   ]
  },
  {
   "cell_type": "code",
   "execution_count": null,
   "id": "fce4ecc8",
   "metadata": {},
   "outputs": [],
   "source": [
    "# 클래스의 정의에 부모 클래스를 추가하여 상속받을 수 있다.\n",
    "# 그러나 이를 헬퍼 목적으로만 사용할 수 있다\n",
    "# 다른 상위 클래스와 메서드를 공유하지 않으며 이전 절에서 언급한 메서드 해석 순서의 모호성을 피한다."
   ]
  },
  {
   "cell_type": "code",
   "execution_count": 131,
   "id": "0f1984d4",
   "metadata": {},
   "outputs": [],
   "source": [
    "class PrettyMixin():\n",
    "    def dump(self):\n",
    "        import pprint\n",
    "        pprint.pprint(vars(self))"
   ]
  },
  {
   "cell_type": "code",
   "execution_count": 133,
   "id": "57031874",
   "metadata": {},
   "outputs": [],
   "source": [
    "class Thing(PrettyMixin):\n",
    "    pass"
   ]
  },
  {
   "cell_type": "code",
   "execution_count": 134,
   "id": "d5bbbe63",
   "metadata": {},
   "outputs": [],
   "source": [
    "t = Thing()"
   ]
  },
  {
   "cell_type": "code",
   "execution_count": 135,
   "id": "6e03e42c",
   "metadata": {},
   "outputs": [],
   "source": [
    "t.name = \"Nyarlathotep\""
   ]
  },
  {
   "cell_type": "code",
   "execution_count": 136,
   "id": "2184ea3b",
   "metadata": {},
   "outputs": [],
   "source": [
    "t.feature = \"ichor\""
   ]
  },
  {
   "cell_type": "code",
   "execution_count": 137,
   "id": "28c0ec79",
   "metadata": {},
   "outputs": [],
   "source": [
    "t.age = \"eldritch\""
   ]
  },
  {
   "cell_type": "code",
   "execution_count": 138,
   "id": "291b3008",
   "metadata": {},
   "outputs": [
    {
     "name": "stdout",
     "output_type": "stream",
     "text": [
      "{'age': 'eldritch', 'feature': 'ichor', 'name': 'Nyarlathotep'}\n"
     ]
    }
   ],
   "source": [
    "t.dump()"
   ]
  },
  {
   "cell_type": "code",
   "execution_count": null,
   "id": "eba6795e",
   "metadata": {},
   "outputs": [],
   "source": []
  },
  {
   "cell_type": "code",
   "execution_count": null,
   "id": "4dc31111",
   "metadata": {},
   "outputs": [],
   "source": [
    "# 자신: self"
   ]
  },
  {
   "cell_type": "code",
   "execution_count": 139,
   "id": "922fcfbb",
   "metadata": {},
   "outputs": [],
   "source": [
    "a_car = Car()"
   ]
  },
  {
   "cell_type": "code",
   "execution_count": 140,
   "id": "7f4ff8d3",
   "metadata": {},
   "outputs": [
    {
     "name": "stdout",
     "output_type": "stream",
     "text": [
      "I'm a Car!\n"
     ]
    }
   ],
   "source": [
    "a_car.exclaim()"
   ]
  },
  {
   "cell_type": "code",
   "execution_count": null,
   "id": "f72bc11a",
   "metadata": {},
   "outputs": [],
   "source": [
    "# 파이썬이 은밀하게 처리하는 일은 다음과 같다.\n",
    "# • a_car 객체의 Car 클래스를 찾는다.\n",
    "# • a_car 객체를 Car 클래스 exclaimO 메서드의 self 매개변수에 전달한다."
   ]
  },
  {
   "cell_type": "code",
   "execution_count": 141,
   "id": "9b5fd309",
   "metadata": {},
   "outputs": [
    {
     "name": "stdout",
     "output_type": "stream",
     "text": [
      "I'm a Car!\n"
     ]
    }
   ],
   "source": [
    "Car.exclaim(a_car) # 일반 car.exclaim() 구문과 똑같이 동작한다."
   ]
  },
  {
   "cell_type": "code",
   "execution_count": null,
   "id": "204fc8cc",
   "metadata": {},
   "outputs": [],
   "source": [
    "# 속성 접근"
   ]
  },
  {
   "cell_type": "code",
   "execution_count": 142,
   "id": "0ae32e4c",
   "metadata": {},
   "outputs": [],
   "source": [
    "class Duck:\n",
    "    def __init__(self,input_name):\n",
    "        self.name = input_name"
   ]
  },
  {
   "cell_type": "code",
   "execution_count": 143,
   "id": "e645bd90",
   "metadata": {},
   "outputs": [],
   "source": [
    "fowl = Duck('Daffy')"
   ]
  },
  {
   "cell_type": "code",
   "execution_count": 144,
   "id": "9c2c63ad",
   "metadata": {},
   "outputs": [
    {
     "data": {
      "text/plain": [
       "'Daffy'"
      ]
     },
     "execution_count": 144,
     "metadata": {},
     "output_type": "execute_result"
    }
   ],
   "source": [
    "fowl.name"
   ]
  },
  {
   "cell_type": "code",
   "execution_count": null,
   "id": "7c0f8818",
   "metadata": {},
   "outputs": [],
   "source": [
    "# 누군가 잘못 수정하면 어떻게될까?"
   ]
  },
  {
   "cell_type": "code",
   "execution_count": 145,
   "id": "2d7d3389",
   "metadata": {},
   "outputs": [],
   "source": [
    "fowl.name= 'Daphne'"
   ]
  },
  {
   "cell_type": "code",
   "execution_count": 146,
   "id": "9e6717ac",
   "metadata": {},
   "outputs": [
    {
     "data": {
      "text/plain": [
       "'Daphne'"
      ]
     },
     "execution_count": 146,
     "metadata": {},
     "output_type": "execute_result"
    }
   ],
   "source": [
    "fowl.name"
   ]
  },
  {
   "cell_type": "code",
   "execution_count": null,
   "id": "899bb207",
   "metadata": {},
   "outputs": [],
   "source": [
    "# 10.5.2 Getter/Setter 메서드"
   ]
  },
  {
   "cell_type": "code",
   "execution_count": 147,
   "id": "db02bae5",
   "metadata": {},
   "outputs": [],
   "source": [
    "class Duck():\n",
    "    def __init__(self, input_name):\n",
    "        self.hidden_name = input_name\n",
    "    def get_name(self):\n",
    "        print('inside the getter')\n",
    "        return self.hidden_name\n",
    "    def set_name(self, input_name):\n",
    "        print('inside the setter')\n",
    "        self.hidden_name = input_name"
   ]
  },
  {
   "cell_type": "code",
   "execution_count": 148,
   "id": "cca2929b",
   "metadata": {},
   "outputs": [],
   "source": [
    "don = Duck('Donald')"
   ]
  },
  {
   "cell_type": "code",
   "execution_count": 149,
   "id": "1c6bfd0e",
   "metadata": {},
   "outputs": [
    {
     "name": "stdout",
     "output_type": "stream",
     "text": [
      "inside the getter\n"
     ]
    },
    {
     "data": {
      "text/plain": [
       "'Donald'"
      ]
     },
     "execution_count": 149,
     "metadata": {},
     "output_type": "execute_result"
    }
   ],
   "source": [
    "don.get_name()"
   ]
  },
  {
   "cell_type": "code",
   "execution_count": 150,
   "id": "9ca9c708",
   "metadata": {},
   "outputs": [
    {
     "name": "stdout",
     "output_type": "stream",
     "text": [
      "inside the setter\n"
     ]
    }
   ],
   "source": [
    "don.set_name('Donna')"
   ]
  },
  {
   "cell_type": "code",
   "execution_count": 151,
   "id": "900aa5db",
   "metadata": {},
   "outputs": [
    {
     "name": "stdout",
     "output_type": "stream",
     "text": [
      "inside the getter\n"
     ]
    },
    {
     "data": {
      "text/plain": [
       "'Donna'"
      ]
     },
     "execution_count": 151,
     "metadata": {},
     "output_type": "execute_result"
    }
   ],
   "source": [
    "don.get_name()"
   ]
  },
  {
   "cell_type": "code",
   "execution_count": null,
   "id": "6b465a40",
   "metadata": {},
   "outputs": [],
   "source": []
  },
  {
   "cell_type": "code",
   "execution_count": null,
   "id": "308ca6d9",
   "metadata": {},
   "outputs": [],
   "source": [
    "#10.5.3 속성 접근을 위한 프로퍼티 "
   ]
  },
  {
   "cell_type": "code",
   "execution_count": 152,
   "id": "f4febe39",
   "metadata": {},
   "outputs": [],
   "source": [
    "class Duck():\n",
    "    def __init__(self, input_name):\n",
    "        self.hidden_name = input_name\n",
    "    def get_name(self):\n",
    "        print('inside the getter')\n",
    "        return self.hidden_name\n",
    "    def set_name(self, input_name):\n",
    "        print('inside the setter')\n",
    "        self.hidden_name = input_name\n",
    "    name = property(get_name, set_name)"
   ]
  },
  {
   "cell_type": "code",
   "execution_count": 153,
   "id": "4fdc6062",
   "metadata": {},
   "outputs": [],
   "source": [
    "don = Duck('Donald')"
   ]
  },
  {
   "cell_type": "code",
   "execution_count": 154,
   "id": "3f667ace",
   "metadata": {},
   "outputs": [
    {
     "name": "stdout",
     "output_type": "stream",
     "text": [
      "inside the getter\n"
     ]
    },
    {
     "data": {
      "text/plain": [
       "'Donald'"
      ]
     },
     "execution_count": 154,
     "metadata": {},
     "output_type": "execute_result"
    }
   ],
   "source": [
    "don.get_name()"
   ]
  },
  {
   "cell_type": "code",
   "execution_count": 155,
   "id": "3983076a",
   "metadata": {},
   "outputs": [
    {
     "name": "stdout",
     "output_type": "stream",
     "text": [
      "inside the setter\n"
     ]
    }
   ],
   "source": [
    "don.set_name('Donna')"
   ]
  },
  {
   "cell_type": "code",
   "execution_count": 156,
   "id": "caf625b2",
   "metadata": {},
   "outputs": [
    {
     "name": "stdout",
     "output_type": "stream",
     "text": [
      "inside the getter\n"
     ]
    },
    {
     "data": {
      "text/plain": [
       "'Donna'"
      ]
     },
     "execution_count": 156,
     "metadata": {},
     "output_type": "execute_result"
    }
   ],
   "source": [
    "don.get_name()"
   ]
  },
  {
   "cell_type": "code",
   "execution_count": 157,
   "id": "ee8f2598",
   "metadata": {},
   "outputs": [],
   "source": [
    "don= Duck('Donald')"
   ]
  },
  {
   "cell_type": "code",
   "execution_count": 158,
   "id": "0d356a4e",
   "metadata": {},
   "outputs": [
    {
     "name": "stdout",
     "output_type": "stream",
     "text": [
      "inside the getter\n"
     ]
    },
    {
     "data": {
      "text/plain": [
       "'Donald'"
      ]
     },
     "execution_count": 158,
     "metadata": {},
     "output_type": "execute_result"
    }
   ],
   "source": [
    "don.name"
   ]
  },
  {
   "cell_type": "code",
   "execution_count": 159,
   "id": "23b92141",
   "metadata": {},
   "outputs": [
    {
     "name": "stdout",
     "output_type": "stream",
     "text": [
      "inside the setter\n"
     ]
    }
   ],
   "source": [
    "don.name = 'Donna'"
   ]
  },
  {
   "cell_type": "code",
   "execution_count": 160,
   "id": "45aeb57d",
   "metadata": {},
   "outputs": [
    {
     "name": "stdout",
     "output_type": "stream",
     "text": [
      "inside the getter\n"
     ]
    },
    {
     "data": {
      "text/plain": [
       "'Donna'"
      ]
     },
     "execution_count": 160,
     "metadata": {},
     "output_type": "execute_result"
    }
   ],
   "source": [
    "don.name"
   ]
  },
  {
   "cell_type": "code",
   "execution_count": null,
   "id": "5d7df30f",
   "metadata": {},
   "outputs": [],
   "source": [
    "# 두 번쨰 방법은 데커레이터를 추가하고, 두 메서드 이름(get_name과 set_name)"
   ]
  },
  {
   "cell_type": "code",
   "execution_count": 161,
   "id": "95fcd47a",
   "metadata": {},
   "outputs": [],
   "source": [
    "class Duck():\n",
    "    def __init__(self,input_name):\n",
    "        self.hidden_name = input_name\n",
    "    @property\n",
    "    def name(self):\n",
    "        print('inside the getter')\n",
    "        return self.hidden_name\n",
    "    @name.setter\n",
    "    def name(self, input_name):\n",
    "        print('inside the setter')\n",
    "        self.hidden_name = input_name"
   ]
  },
  {
   "cell_type": "code",
   "execution_count": 162,
   "id": "7c240015",
   "metadata": {},
   "outputs": [],
   "source": [
    "fowl = Duck('Howard')"
   ]
  },
  {
   "cell_type": "code",
   "execution_count": 163,
   "id": "72d44b57",
   "metadata": {},
   "outputs": [
    {
     "name": "stdout",
     "output_type": "stream",
     "text": [
      "inside the getter\n"
     ]
    },
    {
     "data": {
      "text/plain": [
       "'Howard'"
      ]
     },
     "execution_count": 163,
     "metadata": {},
     "output_type": "execute_result"
    }
   ],
   "source": [
    "fowl.name"
   ]
  },
  {
   "cell_type": "code",
   "execution_count": 164,
   "id": "c3b8c150",
   "metadata": {},
   "outputs": [
    {
     "name": "stdout",
     "output_type": "stream",
     "text": [
      "inside the setter\n"
     ]
    }
   ],
   "source": [
    "fowl.name = 'Donald'"
   ]
  },
  {
   "cell_type": "code",
   "execution_count": 165,
   "id": "daf00e18",
   "metadata": {},
   "outputs": [
    {
     "name": "stdout",
     "output_type": "stream",
     "text": [
      "inside the getter\n"
     ]
    },
    {
     "data": {
      "text/plain": [
       "'Donald'"
      ]
     },
     "execution_count": 165,
     "metadata": {},
     "output_type": "execute_result"
    }
   ],
   "source": [
    "fowl.name"
   ]
  },
  {
   "cell_type": "code",
   "execution_count": null,
   "id": "b4b9ea57",
   "metadata": {},
   "outputs": [],
   "source": [
    "# 계산된 값의 프로퍼티"
   ]
  },
  {
   "cell_type": "code",
   "execution_count": 166,
   "id": "66c30b42",
   "metadata": {},
   "outputs": [],
   "source": [
    "class Circle():\n",
    "    def __init__(self,radius):\n",
    "        self.radius = radius\n",
    "    @property\n",
    "    def diameter(self):\n",
    "        return 2* self.radius"
   ]
  },
  {
   "cell_type": "code",
   "execution_count": 167,
   "id": "47c1abd3",
   "metadata": {},
   "outputs": [],
   "source": [
    "c = Circle(5)"
   ]
  },
  {
   "cell_type": "code",
   "execution_count": 168,
   "id": "a9b458ea",
   "metadata": {},
   "outputs": [
    {
     "data": {
      "text/plain": [
       "5"
      ]
     },
     "execution_count": 168,
     "metadata": {},
     "output_type": "execute_result"
    }
   ],
   "source": [
    "c.radius"
   ]
  },
  {
   "cell_type": "code",
   "execution_count": 169,
   "id": "6a2ea91a",
   "metadata": {},
   "outputs": [
    {
     "data": {
      "text/plain": [
       "10"
      ]
     },
     "execution_count": 169,
     "metadata": {},
     "output_type": "execute_result"
    }
   ],
   "source": [
    "c.diameter"
   ]
  },
  {
   "cell_type": "code",
   "execution_count": null,
   "id": "1e511f88",
   "metadata": {},
   "outputs": [],
   "source": [
    "# radius속성은 언제든지 바꿀수있다 \n",
    "# diameter 프로퍼티는 현재 radius 값으로부터 계산된다."
   ]
  },
  {
   "cell_type": "code",
   "execution_count": 170,
   "id": "0f0004ce",
   "metadata": {},
   "outputs": [],
   "source": [
    "c.radius=7"
   ]
  },
  {
   "cell_type": "code",
   "execution_count": 171,
   "id": "671553f7",
   "metadata": {},
   "outputs": [
    {
     "data": {
      "text/plain": [
       "14"
      ]
     },
     "execution_count": 171,
     "metadata": {},
     "output_type": "execute_result"
    }
   ],
   "source": [
    "c.diameter"
   ]
  },
  {
   "cell_type": "code",
   "execution_count": null,
   "id": "5efdc17d",
   "metadata": {},
   "outputs": [],
   "source": [
    "# 속성에 대한 setter 프로퍼티를 명시하지 않는다면 외부로부터 이 속성을 설정할 수 없다. \n",
    "# 이것은 읽기전용 속성이다."
   ]
  },
  {
   "cell_type": "code",
   "execution_count": 173,
   "id": "4f33bab6",
   "metadata": {},
   "outputs": [
    {
     "ename": "AttributeError",
     "evalue": "property 'diameter' of 'Circle' object has no setter",
     "output_type": "error",
     "traceback": [
      "\u001b[1;31m---------------------------------------------------------------------------\u001b[0m",
      "\u001b[1;31mAttributeError\u001b[0m                            Traceback (most recent call last)",
      "Cell \u001b[1;32mIn[173], line 1\u001b[0m\n\u001b[1;32m----> 1\u001b[0m c\u001b[38;5;241m.\u001b[39mdiameter\u001b[38;5;241m=\u001b[39m\u001b[38;5;241m20\u001b[39m\n",
      "\u001b[1;31mAttributeError\u001b[0m: property 'diameter' of 'Circle' object has no setter"
     ]
    }
   ],
   "source": [
    "c.diameter=20"
   ]
  },
  {
   "cell_type": "code",
   "execution_count": null,
   "id": "a1713dab",
   "metadata": {},
   "outputs": [],
   "source": [
    "# 파이썬은 클래스 정의 외부에서 볼 수 없도록 하는 속성에 대한 \n",
    "# 네이밍 컨벤션naming convention이 있다. \n",
    "# 속성 이름 앞에 두 언더바(__)를 붙이면 된다"
   ]
  },
  {
   "cell_type": "code",
   "execution_count": null,
   "id": "8119bde8",
   "metadata": {},
   "outputs": [],
   "source": [
    "# 다음과 같이 hidden_name을 __name 으로 바꿔보자"
   ]
  },
  {
   "cell_type": "code",
   "execution_count": 176,
   "id": "b199aabb",
   "metadata": {},
   "outputs": [],
   "source": [
    "class Duck():\n",
    "    def __init__(self,input_name):\n",
    "        self.__name = input_name\n",
    "    @property\n",
    "    def name(self):\n",
    "        print('inside the getter')\n",
    "        return self.__name\n",
    "    @name.setter\n",
    "    def name(self,input_name):\n",
    "        print('inside the setter')\n",
    "        self.__name = input_name"
   ]
  },
  {
   "cell_type": "code",
   "execution_count": 177,
   "id": "ee2a12f4",
   "metadata": {},
   "outputs": [],
   "source": [
    "fowl = Duck('Howard')"
   ]
  },
  {
   "cell_type": "code",
   "execution_count": 178,
   "id": "26342c20",
   "metadata": {},
   "outputs": [
    {
     "name": "stdout",
     "output_type": "stream",
     "text": [
      "inside the getter\n"
     ]
    },
    {
     "data": {
      "text/plain": [
       "'Howard'"
      ]
     },
     "execution_count": 178,
     "metadata": {},
     "output_type": "execute_result"
    }
   ],
   "source": [
    "fowl.name"
   ]
  },
  {
   "cell_type": "code",
   "execution_count": 179,
   "id": "855e51ca",
   "metadata": {},
   "outputs": [
    {
     "name": "stdout",
     "output_type": "stream",
     "text": [
      "inside the setter\n"
     ]
    }
   ],
   "source": [
    "fowl.name = 'Donald'"
   ]
  },
  {
   "cell_type": "code",
   "execution_count": 180,
   "id": "e41b2ab9",
   "metadata": {},
   "outputs": [
    {
     "name": "stdout",
     "output_type": "stream",
     "text": [
      "inside the getter\n"
     ]
    },
    {
     "data": {
      "text/plain": [
       "'Donald'"
      ]
     },
     "execution_count": 180,
     "metadata": {},
     "output_type": "execute_result"
    }
   ],
   "source": [
    "fowl.name"
   ]
  },
  {
   "cell_type": "code",
   "execution_count": 181,
   "id": "ff58cf14",
   "metadata": {},
   "outputs": [
    {
     "ename": "NameError",
     "evalue": "name 'dowl' is not defined",
     "output_type": "error",
     "traceback": [
      "\u001b[1;31m---------------------------------------------------------------------------\u001b[0m",
      "\u001b[1;31mNameError\u001b[0m                                 Traceback (most recent call last)",
      "Cell \u001b[1;32mIn[181], line 1\u001b[0m\n\u001b[1;32m----> 1\u001b[0m dowl\u001b[38;5;241m.\u001b[39m__name\n",
      "\u001b[1;31mNameError\u001b[0m: name 'dowl' is not defined"
     ]
    }
   ],
   "source": [
    "dowl.__name # 아무런 문제가 없어보이지만 __name에 바로 접근할 수 없다."
   ]
  },
  {
   "cell_type": "code",
   "execution_count": null,
   "id": "d00cfcad",
   "metadata": {},
   "outputs": [],
   "source": [
    "# 파이썬은 이 속성이 우연히 외부 코드 에서 발견할 수 없도록 이름을 맹글링 했다.\n",
    "# 사실 다음과 같이 접근할 수 있다"
   ]
  },
  {
   "cell_type": "code",
   "execution_count": 182,
   "id": "f6ad22d7",
   "metadata": {},
   "outputs": [
    {
     "data": {
      "text/plain": [
       "'Donald'"
      ]
     },
     "execution_count": 182,
     "metadata": {},
     "output_type": "execute_result"
    }
   ],
   "source": [
    "fowl._Duck__name \n",
    "#속성을 완벽하게 보호할수는 없지만, 네임 맹글링은 속성의 의도적인 직접 접근을 어렵게 만든다"
   ]
  },
  {
   "cell_type": "code",
   "execution_count": null,
   "id": "5f96ff4a",
   "metadata": {},
   "outputs": [],
   "source": []
  },
  {
   "cell_type": "code",
   "execution_count": null,
   "id": "d7aa75f7",
   "metadata": {},
   "outputs": [],
   "source": [
    "# 10.5.6 클래스와 객체 속성 \n",
    "# 클래스에 속성을 할당할 수 있고 해당 속성은 자식 객체로 상속된다"
   ]
  },
  {
   "cell_type": "code",
   "execution_count": 183,
   "id": "b2acdb08",
   "metadata": {},
   "outputs": [],
   "source": [
    "class Fruit:\n",
    "    color = 'red'"
   ]
  },
  {
   "cell_type": "code",
   "execution_count": 184,
   "id": "22a7286d",
   "metadata": {},
   "outputs": [],
   "source": [
    "blueberry = Fruit()"
   ]
  },
  {
   "cell_type": "code",
   "execution_count": 185,
   "id": "d378b55b",
   "metadata": {},
   "outputs": [
    {
     "data": {
      "text/plain": [
       "'red'"
      ]
     },
     "execution_count": 185,
     "metadata": {},
     "output_type": "execute_result"
    }
   ],
   "source": [
    "Fruit.color"
   ]
  },
  {
   "cell_type": "code",
   "execution_count": 186,
   "id": "688ae20e",
   "metadata": {},
   "outputs": [
    {
     "data": {
      "text/plain": [
       "'red'"
      ]
     },
     "execution_count": 186,
     "metadata": {},
     "output_type": "execute_result"
    }
   ],
   "source": [
    "blueberry.color"
   ]
  },
  {
   "cell_type": "code",
   "execution_count": 187,
   "id": "f43c981f",
   "metadata": {},
   "outputs": [],
   "source": [
    "blueberry.color='blue'"
   ]
  },
  {
   "cell_type": "code",
   "execution_count": 188,
   "id": "a487d37a",
   "metadata": {},
   "outputs": [
    {
     "data": {
      "text/plain": [
       "'blue'"
      ]
     },
     "execution_count": 188,
     "metadata": {},
     "output_type": "execute_result"
    }
   ],
   "source": [
    "blueberry.color"
   ]
  },
  {
   "cell_type": "code",
   "execution_count": 189,
   "id": "88319e9b",
   "metadata": {},
   "outputs": [
    {
     "data": {
      "text/plain": [
       "'red'"
      ]
     },
     "execution_count": 189,
     "metadata": {},
     "output_type": "execute_result"
    }
   ],
   "source": [
    "Fruit.color"
   ]
  },
  {
   "cell_type": "code",
   "execution_count": null,
   "id": "17633148",
   "metadata": {},
   "outputs": [],
   "source": [
    "# 나중에 클래스 속성을 변경해도 기존 자식 객체에는 영향을 미치지 않는다."
   ]
  },
  {
   "cell_type": "code",
   "execution_count": 190,
   "id": "265e7f66",
   "metadata": {},
   "outputs": [],
   "source": [
    "Fruit.color='orange'"
   ]
  },
  {
   "cell_type": "code",
   "execution_count": 191,
   "id": "1c80028f",
   "metadata": {},
   "outputs": [
    {
     "data": {
      "text/plain": [
       "'orange'"
      ]
     },
     "execution_count": 191,
     "metadata": {},
     "output_type": "execute_result"
    }
   ],
   "source": [
    "Fruit.color"
   ]
  },
  {
   "cell_type": "code",
   "execution_count": 192,
   "id": "121099e1",
   "metadata": {},
   "outputs": [
    {
     "data": {
      "text/plain": [
       "'blue'"
      ]
     },
     "execution_count": 192,
     "metadata": {},
     "output_type": "execute_result"
    }
   ],
   "source": [
    "blueberry.color"
   ]
  },
  {
   "cell_type": "code",
   "execution_count": 194,
   "id": "39f506f3",
   "metadata": {},
   "outputs": [],
   "source": [
    "new_fruit = Fruit()"
   ]
  },
  {
   "cell_type": "code",
   "execution_count": 195,
   "id": "edcc58a0",
   "metadata": {},
   "outputs": [
    {
     "data": {
      "text/plain": [
       "'orange'"
      ]
     },
     "execution_count": 195,
     "metadata": {},
     "output_type": "execute_result"
    }
   ],
   "source": [
    "new_fruit.color"
   ]
  },
  {
   "cell_type": "code",
   "execution_count": null,
   "id": "945fa45a",
   "metadata": {},
   "outputs": [],
   "source": []
  },
  {
   "cell_type": "code",
   "execution_count": null,
   "id": "470697a6",
   "metadata": {},
   "outputs": [],
   "source": [
    "# 메서드 타입 \n",
    "# 메서드 앞에 데커레이터가 없다면 이것은 인스턴스 메서드다. \n",
    " # 첫 번째 인수는 객체 자신을 참조하는 self 다.\n",
    "# • 메서드 앞에 @classmethod 데커레이터가 있다면 클래스 메서드다. \n",
    "# 첫 번째 인수는 cAs（또는 예약어인 class가 아닌 다른 것）이다. 클래스 자체를 참조한다.\n",
    "# • 메서드 앞에 @staticmethod 데커레이터가 있다면 정적 메서드다. \n",
    "# 첫 번째 인수는 위와 같이 자신의 객체나 클래스가 아니다."
   ]
  },
  {
   "cell_type": "code",
   "execution_count": null,
   "id": "8a7ed53b",
   "metadata": {},
   "outputs": [],
   "source": [
    "# 인스턴스 메서드 \n",
    "# 클래스 정의에서 메서드의 첫 번째 인수가 Self 라면 이 메서드는 인스턴스 메서드다. \n",
    "# 이것은 일반적인 클래스를 생성할 때의 메서드 타입이다. \n",
    "# 인스턴스 메서드의 첫 번째 매개변수는 self 이고，파이썬은 이 메서드를 호출할 때 객체를 전달한다. \n",
    "# 인스턴스 메서드는 지금 까지 예제에서 본 메서드다."
   ]
  },
  {
   "cell_type": "code",
   "execution_count": null,
   "id": "edcbcab2",
   "metadata": {},
   "outputs": [],
   "source": [
    "# 클래스 메서드 "
   ]
  },
  {
   "cell_type": "code",
   "execution_count": 196,
   "id": "eb9d4bf2",
   "metadata": {},
   "outputs": [],
   "source": [
    "class A():\n",
    "    count=0\n",
    "    def __init__(self):\n",
    "        A.count +=1\n",
    "    def exclaim(self):\n",
    "        print(\"I'm an A!\")\n",
    "    @classmethod\n",
    "    def kids(cls):\n",
    "        print(\"A has\",cls.count,\"little object.\")"
   ]
  },
  {
   "cell_type": "code",
   "execution_count": 197,
   "id": "fdc26dce",
   "metadata": {},
   "outputs": [],
   "source": [
    "easy_a = A()"
   ]
  },
  {
   "cell_type": "code",
   "execution_count": 198,
   "id": "630589c9",
   "metadata": {},
   "outputs": [],
   "source": [
    "breezy_a = A()"
   ]
  },
  {
   "cell_type": "code",
   "execution_count": 199,
   "id": "71f9ae03",
   "metadata": {},
   "outputs": [],
   "source": [
    "wheezy_a=A()"
   ]
  },
  {
   "cell_type": "code",
   "execution_count": 200,
   "id": "a3295dd5",
   "metadata": {},
   "outputs": [
    {
     "name": "stdout",
     "output_type": "stream",
     "text": [
      "A has 3 little object.\n"
     ]
    }
   ],
   "source": [
    "A.kids()"
   ]
  },
  {
   "cell_type": "code",
   "execution_count": null,
   "id": "2744ab36",
   "metadata": {},
   "outputs": [],
   "source": [
    "# self.count(객체 인스턴스 속성)를 참조하지않고\n",
    "# A.count(클래스 속성)을 참조했다.\n",
    "# kids() 메서드에서 A.count를 사용하지 않고 cls.count를 사용했다."
   ]
  },
  {
   "cell_type": "code",
   "execution_count": null,
   "id": "5732e208",
   "metadata": {},
   "outputs": [],
   "source": []
  },
  {
   "cell_type": "code",
   "execution_count": null,
   "id": "7bb6d2c9",
   "metadata": {},
   "outputs": [],
   "source": [
    "# 정적 메서드\n",
    "# 정적 메서드는 클래스나 객체에 영향을 미치지 못한다. \n",
    "# 이 메서드는 단지 편의를 위해 존재한다. \n",
    "# 정적 메서드는 ®staticmethod 데커레이터가 있고，첫 번째 매개변수로 self나 cis가 없다.\n",
    "# CoyoteWeapon 클래스의 commercial 메서드 예제를 살펴보자. "
   ]
  },
  {
   "cell_type": "code",
   "execution_count": 203,
   "id": "d626232d",
   "metadata": {},
   "outputs": [],
   "source": [
    "class CoyoteWeapon():\n",
    "    @staticmethod\n",
    "    def commercial():\n",
    "        print(\"This CoyoteWeapon  has  been  brought  to you  by Acm\")"
   ]
  },
  {
   "cell_type": "code",
   "execution_count": 204,
   "id": "5bb5dabc",
   "metadata": {},
   "outputs": [
    {
     "name": "stdout",
     "output_type": "stream",
     "text": [
      "This CoyoteWeapon  has  been  brought  to you  by Acm\n"
     ]
    }
   ],
   "source": [
    "CoyoteWeapon.commercial()\n",
    "# 이 메서드를 접근하기 위해 CoyoteWeapon 클래스에서 객체를 생성할 필요가 없다"
   ]
  },
  {
   "cell_type": "code",
   "execution_count": null,
   "id": "e22a9124",
   "metadata": {},
   "outputs": [],
   "source": []
  },
  {
   "cell_type": "code",
   "execution_count": null,
   "id": "c6f7bf6c",
   "metadata": {},
   "outputs": [],
   "source": [
    "# 10.7 덕 타이핑\n",
    "# 파이썬은 다형성을 느슨하게 구현했다. \n",
    "# 이것은 클래스에 상관없이 같은 동작을 다른 객체에 적용할 수 있다는 것을 의미한다.\n",
    "# 세 Quote 클래스에서 같은 __init__() 이니셜라이저를 사용해보자. 클래스에 다음 두 메서드를 추가한다.\n",
    "# • who() 메서드는 저장된 person 문자열의 값을 반환한다.\n",
    "# • says() 메서드는 특정 구두점과 함께 저장된 words 문자열을 반환한다."
   ]
  },
  {
   "cell_type": "code",
   "execution_count": 2,
   "id": "95112df1",
   "metadata": {},
   "outputs": [],
   "source": [
    "class Quote():\n",
    "    def __init__(self,person,words):\n",
    "        self.person = person\n",
    "        self.words = words\n",
    "    def who(self):\n",
    "        return self.person\n",
    "    def says(self):\n",
    "        return self.words + '.'"
   ]
  },
  {
   "cell_type": "code",
   "execution_count": 3,
   "id": "d21efcfb",
   "metadata": {},
   "outputs": [],
   "source": [
    "class QuestionQuote(Quote):\n",
    "    def says(self):\n",
    "        return self.words+'?'"
   ]
  },
  {
   "cell_type": "code",
   "execution_count": 4,
   "id": "7909e622",
   "metadata": {},
   "outputs": [],
   "source": [
    "class ExclamationQuote(Quote):\n",
    "    def says(self):\n",
    "        return self.words+'!'"
   ]
  },
  {
   "cell_type": "code",
   "execution_count": 5,
   "id": "efb1a92d",
   "metadata": {},
   "outputs": [],
   "source": [
    "# QuestionQuote와 ExclamationQuote 클래스에서 초기화 함수를 쓰지 않았다. \n",
    "# 그러므로 부모의 __init__() 메서드를 오버라이드하지 않는다. \n",
    "# 파이썬은 자동으로 부모 클래스 Quote의__init„() 메서드를 호출해서 \n",
    "# 인스턴스 변수 person과 words를 저장한다.\n",
    "# 그러므로 자식 클래스 QuestionQuote와 ExclamationQuote에서 생성된 객체의 self.words에 접근할수있다."
   ]
  },
  {
   "cell_type": "code",
   "execution_count": 6,
   "id": "15958ee0",
   "metadata": {},
   "outputs": [],
   "source": [
    "# 객체를 만들어서 결과를 살펴보자"
   ]
  },
  {
   "cell_type": "code",
   "execution_count": 7,
   "id": "b9d0ef9a",
   "metadata": {},
   "outputs": [],
   "source": [
    "hunter = Quote('Elmer Fudd',\"I'm hunting wabbits\")"
   ]
  },
  {
   "cell_type": "code",
   "execution_count": 8,
   "id": "4d2c6d7b",
   "metadata": {},
   "outputs": [
    {
     "name": "stdout",
     "output_type": "stream",
     "text": [
      "Elmer Fudd says: I'm hunting wabbits.\n"
     ]
    }
   ],
   "source": [
    "print(hunter.who(),'says:',hunter.says())"
   ]
  },
  {
   "cell_type": "code",
   "execution_count": 9,
   "id": "d12f6527",
   "metadata": {},
   "outputs": [],
   "source": [
    "hunted1 = QuestionQuote('Bugs Bunny',\"What's up, doc\")"
   ]
  },
  {
   "cell_type": "code",
   "execution_count": 10,
   "id": "74187fd8",
   "metadata": {},
   "outputs": [
    {
     "name": "stdout",
     "output_type": "stream",
     "text": [
      "Bugs Bunny says What's up, doc?\n"
     ]
    }
   ],
   "source": [
    "print(hunted1.who(),'says',hunted1.says())"
   ]
  },
  {
   "cell_type": "code",
   "execution_count": 11,
   "id": "2d7d1826",
   "metadata": {},
   "outputs": [],
   "source": [
    "hunted2 =  ExclamationQuote('Daffy Duck',\"It's rabbit season\")"
   ]
  },
  {
   "cell_type": "code",
   "execution_count": 12,
   "id": "610839c6",
   "metadata": {},
   "outputs": [
    {
     "name": "stdout",
     "output_type": "stream",
     "text": [
      "Daffy Duck says It's rabbit season!\n"
     ]
    }
   ],
   "source": [
    "print(hunted2.who(),'says',hunted2.says())"
   ]
  },
  {
   "cell_type": "code",
   "execution_count": null,
   "id": "f6afd4ec",
   "metadata": {},
   "outputs": [],
   "source": [
    "# 세 개의 서로 다른 says() 메서드는 세 클래스에 대해 서로 다른 동작을 제공한다. \n",
    "# 이것은 객체 지향 언어에서 전통적인 다형성의 특징이다. \n",
    "# 더 나아가 파이썬은 who()와 says() 메서드를 갖고 있는 모든 객체에서 이 메서드를 실행할 수 있게 해준다. \n",
    "# Quote 클래스와 관계없는 BabblingBrook 클래스를 정의해보자"
   ]
  },
  {
   "cell_type": "code",
   "execution_count": 13,
   "id": "62b30406",
   "metadata": {},
   "outputs": [],
   "source": [
    "class BabblingBrook():\n",
    "    def who(self):\n",
    "        return 'Brook'\n",
    "    def says(self):\n",
    "        return 'Babble'"
   ]
  },
  {
   "cell_type": "code",
   "execution_count": 14,
   "id": "f0c81365",
   "metadata": {},
   "outputs": [],
   "source": [
    "brook = BabblingBrook()"
   ]
  },
  {
   "cell_type": "code",
   "execution_count": null,
   "id": "ec82c863",
   "metadata": {},
   "outputs": [],
   "source": [
    "# 다음 함수에서 obj 인수와 who()와 says() 메서드를 실행해보자."
   ]
  },
  {
   "cell_type": "code",
   "execution_count": 15,
   "id": "cae79d6d",
   "metadata": {},
   "outputs": [],
   "source": [
    "def who_says(obj):\n",
    "    print(obj.who(),'says',obj.says())"
   ]
  },
  {
   "cell_type": "code",
   "execution_count": 16,
   "id": "99a8ebc6",
   "metadata": {},
   "outputs": [
    {
     "name": "stdout",
     "output_type": "stream",
     "text": [
      "Elmer Fudd says I'm hunting wabbits.\n"
     ]
    }
   ],
   "source": [
    "who_says(hunter)"
   ]
  },
  {
   "cell_type": "code",
   "execution_count": 17,
   "id": "d225ce96",
   "metadata": {},
   "outputs": [
    {
     "name": "stdout",
     "output_type": "stream",
     "text": [
      "Bugs Bunny says What's up, doc?\n"
     ]
    }
   ],
   "source": [
    "who_says(hunted1)"
   ]
  },
  {
   "cell_type": "code",
   "execution_count": 18,
   "id": "4ee513ca",
   "metadata": {},
   "outputs": [
    {
     "name": "stdout",
     "output_type": "stream",
     "text": [
      "Daffy Duck says It's rabbit season!\n"
     ]
    }
   ],
   "source": [
    "who_says(hunted2)"
   ]
  },
  {
   "cell_type": "code",
   "execution_count": 19,
   "id": "548350b5",
   "metadata": {},
   "outputs": [
    {
     "name": "stdout",
     "output_type": "stream",
     "text": [
      "Brook says Babble\n"
     ]
    }
   ],
   "source": [
    "who_says(brook)"
   ]
  },
  {
   "cell_type": "code",
   "execution_count": null,
   "id": "dcaf449a",
   "metadata": {},
   "outputs": [],
   "source": [
    "# brook  객체는 다른 객체와 전혀 관계없다. \n",
    "#예전부터 이러한 행위를 덕 타이핑이라고 불렀다"
   ]
  },
  {
   "cell_type": "code",
   "execution_count": null,
   "id": "3aae5b09",
   "metadata": {},
   "outputs": [],
   "source": []
  },
  {
   "cell_type": "code",
   "execution_count": null,
   "id": "798b9c77",
   "metadata": {},
   "outputs": [],
   "source": [
    "# 10.8 매직 메서드 "
   ]
  },
  {
   "cell_type": "code",
   "execution_count": 39,
   "id": "f2572c89",
   "metadata": {},
   "outputs": [],
   "source": [
    "class Word():\n",
    "    def __init__(self,text):\n",
    "        self.text = text\n",
    "    def equals(self,word2):\n",
    "        return self.text.lower() == word2.text.lower()"
   ]
  },
  {
   "cell_type": "code",
   "execution_count": 40,
   "id": "6fed813f",
   "metadata": {},
   "outputs": [],
   "source": [
    "first = Word('ha')"
   ]
  },
  {
   "cell_type": "code",
   "execution_count": 41,
   "id": "4f812dd8",
   "metadata": {},
   "outputs": [],
   "source": [
    "second = Word('Ha')"
   ]
  },
  {
   "cell_type": "code",
   "execution_count": 42,
   "id": "c472a8b7",
   "metadata": {},
   "outputs": [],
   "source": [
    "third = Word('eh')"
   ]
  },
  {
   "cell_type": "code",
   "execution_count": 43,
   "id": "b9c3a427",
   "metadata": {},
   "outputs": [
    {
     "data": {
      "text/plain": [
       "True"
      ]
     },
     "execution_count": 43,
     "metadata": {},
     "output_type": "execute_result"
    }
   ],
   "source": [
    "first.equals(second)"
   ]
  },
  {
   "cell_type": "code",
   "execution_count": 44,
   "id": "c245a9c4",
   "metadata": {},
   "outputs": [
    {
     "data": {
      "text/plain": [
       "False"
      ]
     },
     "execution_count": 44,
     "metadata": {},
     "output_type": "execute_result"
    }
   ],
   "source": [
    "first.equals(third)"
   ]
  },
  {
   "cell_type": "code",
   "execution_count": null,
   "id": "99b36608",
   "metadata": {},
   "outputs": [],
   "source": [
    "# 문자열을 소문자로 바꿔서 비교하는 equal() 메서드를 정의했다. \n",
    "# 파이썬의 내장된 타입처럼 first == second와 같이 비교했다면 좋다. \n",
    "# 이렇게 구현해보자. \n",
    "# equal() 메서드를 특수 이름의 __eq__() 메서드로 바꿔보자(잠시 후에 마법이 밝혀진다)."
   ]
  },
  {
   "cell_type": "code",
   "execution_count": 45,
   "id": "d0f7ffa3",
   "metadata": {},
   "outputs": [],
   "source": [
    "class Word():\n",
    "    def __init__(self,text):\n",
    "        self.text = text\n",
    "    def __eq__(self,word2):\n",
    "        return self.text.lower() == word2.text.lower()"
   ]
  },
  {
   "cell_type": "code",
   "execution_count": 46,
   "id": "a4c9f986",
   "metadata": {},
   "outputs": [],
   "source": [
    "first=Word('ha')"
   ]
  },
  {
   "cell_type": "code",
   "execution_count": 47,
   "id": "fc41d0af",
   "metadata": {},
   "outputs": [],
   "source": [
    "second=Word('HA')"
   ]
  },
  {
   "cell_type": "code",
   "execution_count": 48,
   "id": "c63df9fa",
   "metadata": {},
   "outputs": [],
   "source": [
    "third = Word('eh')"
   ]
  },
  {
   "cell_type": "code",
   "execution_count": 49,
   "id": "d3586d89",
   "metadata": {},
   "outputs": [
    {
     "data": {
      "text/plain": [
       "True"
      ]
     },
     "execution_count": 49,
     "metadata": {},
     "output_type": "execute_result"
    }
   ],
   "source": [
    "first == second"
   ]
  },
  {
   "cell_type": "code",
   "execution_count": 50,
   "id": "96da0ade",
   "metadata": {},
   "outputs": [
    {
     "data": {
      "text/plain": [
       "False"
      ]
     },
     "execution_count": 50,
     "metadata": {},
     "output_type": "execute_result"
    }
   ],
   "source": [
    "first == third"
   ]
  },
  {
   "cell_type": "code",
   "execution_count": null,
   "id": "745e8c22",
   "metadata": {},
   "outputs": [],
   "source": [
    "# __eq„()는 같은지 판별하는 파이썬의 특수 메서드 이름이다. \n",
    "# ［표 10-1］과 ［표 10-2］에 유용 \n",
    "# 한 매직 메서드의 이름이 나열되어 있다   271page"
   ]
  },
  {
   "cell_type": "code",
   "execution_count": null,
   "id": "ca28ff21",
   "metadata": {},
   "outputs": [],
   "source": [
    "# __init__() 외에도 __str__() 을 사용하여 객체를 문자열로 출력하는 우리만의 메서드를 만들수 있다.\n",
    "# 5상에서 배운 문자열 포매터 print(), str()을 사용하면 된다. \n",
    "# 대화식 인터프리터는 변수 결과를 출력하기 위해 __repr__() 함수를 사용한다. \n",
    "# __str__() 또는 __repr__()을 정의되어있지 않다면 객체의 기본 문자열을 출력한다"
   ]
  },
  {
   "cell_type": "code",
   "execution_count": 51,
   "id": "9a5fb837",
   "metadata": {},
   "outputs": [],
   "source": [
    "first = Word('ha')"
   ]
  },
  {
   "cell_type": "code",
   "execution_count": 52,
   "id": "e1d31f8a",
   "metadata": {},
   "outputs": [
    {
     "data": {
      "text/plain": [
       "<__main__.Word at 0x1d48b868d90>"
      ]
     },
     "execution_count": 52,
     "metadata": {},
     "output_type": "execute_result"
    }
   ],
   "source": [
    "first"
   ]
  },
  {
   "cell_type": "code",
   "execution_count": 53,
   "id": "540f201f",
   "metadata": {},
   "outputs": [
    {
     "name": "stdout",
     "output_type": "stream",
     "text": [
      "<__main__.Word object at 0x000001D48B868D90>\n"
     ]
    }
   ],
   "source": [
    "print(first)"
   ]
  },
  {
   "cell_type": "code",
   "execution_count": null,
   "id": "78d13f37",
   "metadata": {},
   "outputs": [],
   "source": []
  },
  {
   "cell_type": "code",
   "execution_count": null,
   "id": "1a1154bc",
   "metadata": {},
   "outputs": [],
   "source": [
    "# 애그리게이션과 콤퍼지션 273"
   ]
  },
  {
   "cell_type": "code",
   "execution_count": 5,
   "id": "388b4d55",
   "metadata": {},
   "outputs": [],
   "source": [
    "class Bill():\n",
    "    def __init__(self,description):\n",
    "        self.description=description"
   ]
  },
  {
   "cell_type": "code",
   "execution_count": 6,
   "id": "bb0d1ea7",
   "metadata": {},
   "outputs": [],
   "source": [
    "class Tail():\n",
    "    def __init__(self,length):\n",
    "        self.length = length"
   ]
  },
  {
   "cell_type": "code",
   "execution_count": 7,
   "id": "bc13f40d",
   "metadata": {},
   "outputs": [],
   "source": [
    "class Duck():\n",
    "    def __init__(self,bill,tail):\n",
    "        self.bill = bill\n",
    "        self.tail = tail\n",
    "    def about(self):\n",
    "        print('THis duck has a', self.bill.description, 'bill and a',self.tail.length, 'tail')"
   ]
  },
  {
   "cell_type": "code",
   "execution_count": null,
   "id": "e2485316",
   "metadata": {},
   "outputs": [],
   "source": [
    "# 애그리게이션은 관계를 표현하지만 조금 더 느슨하다. \n",
    "# 한 객체는 다른 객체를 사용하지만，둘다 독립적으로 존재한다. \n",
    "# 오리는 어느 한 호수에 있지만，다른 호수에는 오리가 없다（호수는 오리의 일부가아니다）."
   ]
  },
  {
   "cell_type": "code",
   "execution_count": null,
   "id": "af39c700",
   "metadata": {},
   "outputs": [],
   "source": []
  },
  {
   "cell_type": "code",
   "execution_count": null,
   "id": "b2a77389",
   "metadata": {},
   "outputs": [],
   "source": [
    "# 10.10 객체는 언제 사용할까?\n",
    "# 클래스，모듈（11장참조）의 사용지침은 다음과 같다."
   ]
  },
  {
   "cell_type": "code",
   "execution_count": null,
   "id": "720bfd49",
   "metadata": {},
   "outputs": [],
   "source": [
    "# • 비슷한 행동（메서드）을 하지만 내부 상태（속성）가 다른 개별 인스턴스가 필요할 때, 객체는 매우 유용 하다.\n",
    "# • 클래스는 상속을 지원하지만，모듈은 상속을 지원하지 않는다.\n",
    "\n",
    "# • 어떤 한 가지 일만 수행한다면 모듈이 가장 좋은 선택일 것이다. \n",
    "# 프로그램에서 파이썬 모듈이 참조된 횟수에 상관없이 단 하나의 복사본만 불러온다\n",
    "# (자바와 C++ 개발자는 파이썬 모듈을 싱글톤처럼 쓸 수 있다）.\n",
    "\n",
    "# • 여러 함수에 인수로 전달하는 여러 변수가 있다면，클래스를 정의하는 것이 더 좋다. \n",
    "# 예를 들어 화상 이미지를 나타내기 위해 Size나 color를 딕셔너리의 키로 사용한다고 가정해보자. \n",
    "# 프로그램에서 각 이미지에 대한 딕셔너리를 생성하고, scale（）과 transform（） 같은 함수에 \n",
    "# 인수를 전달할수 있다. \n",
    "# 키와 함수를 추가하면 코드가 지저분해질 수도 있다. \n",
    "# size와 color를 속성으로 하고 scale()과 transform()을 메서드로 하는 \n",
    "# 이미지 클래스를 정의하는 것이 더 일관성이 있다. \n",
    "# 색상 이미지에 대한 모든 데이터와 메서드를 한 곳에 정의할 수 있기 때문이다."
   ]
  },
  {
   "cell_type": "code",
   "execution_count": null,
   "id": "fec38495",
   "metadata": {},
   "outputs": [],
   "source": [
    "# • 가장 간단한 문제 해결법을 사용한다.\n",
    "# 딕셔너리，리스드 튜플은 모듈보다 더 작고 간단하며 빠르다. \n",
    "# 그리고 일반적으로 모듈은 클래스보다 더 간단하다.\n",
    "\n",
    "#  귀도의  조언\n",
    "# 자료구조를 과하게 엔지니어링하는 것을 피해야 한다. \n",
    "# 객체보다 튜플이 더 낫다(네임드 튜플을 써보라). \n",
    "# getter/setter 함수보다 간단한 필드가 더 낫다\n",
    "# 내장된 데 이터 타입은우리 친구다. \n",
    "# 숫자，문자열，튜플，리스트, 셋，딕셔너리를 사용하라. \n",
    "# 또한 데크와같은 컬렉션 라이브러리를 활용하라"
   ]
  },
  {
   "cell_type": "code",
   "execution_count": null,
   "id": "7ab41292",
   "metadata": {},
   "outputs": [],
   "source": []
  },
  {
   "cell_type": "code",
   "execution_count": null,
   "id": "9abe577e",
   "metadata": {},
   "outputs": [],
   "source": [
    "# 10.11 네임드 튜플"
   ]
  },
  {
   "cell_type": "code",
   "execution_count": 22,
   "id": "eaebd3e1",
   "metadata": {},
   "outputs": [],
   "source": [
    "# 네임드튜플은 튜플의 서브클래스다 \n",
    "# 이름(.name)과 위치([offset])로 값에 접근할 수 있다."
   ]
  },
  {
   "cell_type": "code",
   "execution_count": 23,
   "id": "ee47af35",
   "metadata": {},
   "outputs": [],
   "source": [
    "from collections import namedtuple"
   ]
  },
  {
   "cell_type": "code",
   "execution_count": 24,
   "id": "2babf7d6",
   "metadata": {},
   "outputs": [],
   "source": [
    "Duck = namedtuple('Duck','bill tail')"
   ]
  },
  {
   "cell_type": "code",
   "execution_count": 25,
   "id": "57b7965c",
   "metadata": {},
   "outputs": [],
   "source": [
    "duck = Duck('wide orange','long')"
   ]
  },
  {
   "cell_type": "code",
   "execution_count": 26,
   "id": "2ab0857d",
   "metadata": {},
   "outputs": [
    {
     "data": {
      "text/plain": [
       "Duck(bill='wide orange', tail='long')"
      ]
     },
     "execution_count": 26,
     "metadata": {},
     "output_type": "execute_result"
    }
   ],
   "source": [
    "duck"
   ]
  },
  {
   "cell_type": "code",
   "execution_count": 27,
   "id": "06d776bc",
   "metadata": {},
   "outputs": [
    {
     "data": {
      "text/plain": [
       "'wide orange'"
      ]
     },
     "execution_count": 27,
     "metadata": {},
     "output_type": "execute_result"
    }
   ],
   "source": [
    "duck.bill"
   ]
  },
  {
   "cell_type": "code",
   "execution_count": 28,
   "id": "9802e795",
   "metadata": {},
   "outputs": [
    {
     "data": {
      "text/plain": [
       "'long'"
      ]
     },
     "execution_count": 28,
     "metadata": {},
     "output_type": "execute_result"
    }
   ],
   "source": [
    "duck.tail"
   ]
  },
  {
   "cell_type": "code",
   "execution_count": 29,
   "id": "ee732e26",
   "metadata": {},
   "outputs": [],
   "source": [
    "# 딕셔너리에서 네임드 튜플을 만들 수 있다."
   ]
  },
  {
   "cell_type": "code",
   "execution_count": 30,
   "id": "3800eecc",
   "metadata": {},
   "outputs": [],
   "source": [
    "parts = {'bill':'wide orange','tail':'long'}"
   ]
  },
  {
   "cell_type": "code",
   "execution_count": 31,
   "id": "64e57354",
   "metadata": {},
   "outputs": [],
   "source": [
    "duck2 = Duck(**parts)"
   ]
  },
  {
   "cell_type": "code",
   "execution_count": 32,
   "id": "301c3848",
   "metadata": {},
   "outputs": [
    {
     "data": {
      "text/plain": [
       "Duck(bill='wide orange', tail='long')"
      ]
     },
     "execution_count": 32,
     "metadata": {},
     "output_type": "execute_result"
    }
   ],
   "source": [
    "duck2"
   ]
  },
  {
   "cell_type": "code",
   "execution_count": 33,
   "id": "c411b0d1",
   "metadata": {},
   "outputs": [],
   "source": [
    "# **parts는 키워드 인수다.\n",
    "# parts 딕셔너리에서 키와 값을 추출하여 DUck()의 인수로 제공"
   ]
  },
  {
   "cell_type": "code",
   "execution_count": 34,
   "id": "482d1e9f",
   "metadata": {},
   "outputs": [],
   "source": [
    "# 네임드 튜플은 불변이다.\n",
    "# 하지만 필드를 바꿔서 또 다른 네임드 튜플을 반환할수있다."
   ]
  },
  {
   "cell_type": "code",
   "execution_count": 35,
   "id": "6c3fccd7",
   "metadata": {},
   "outputs": [],
   "source": [
    "duck3 = duck2._replace(tail='magnificent', bill='crushing')"
   ]
  },
  {
   "cell_type": "code",
   "execution_count": 36,
   "id": "bc9e4804",
   "metadata": {},
   "outputs": [
    {
     "data": {
      "text/plain": [
       "Duck(bill='crushing', tail='magnificent')"
      ]
     },
     "execution_count": 36,
     "metadata": {},
     "output_type": "execute_result"
    }
   ],
   "source": [
    "duck3"
   ]
  },
  {
   "cell_type": "code",
   "execution_count": 37,
   "id": "64fd259d",
   "metadata": {},
   "outputs": [],
   "source": [
    "# duck을 딕셔너리로 정의"
   ]
  },
  {
   "cell_type": "code",
   "execution_count": 38,
   "id": "5decde51",
   "metadata": {},
   "outputs": [],
   "source": [
    "duck_dict = {'bill': 'wide orange','tail':'long'}"
   ]
  },
  {
   "cell_type": "code",
   "execution_count": 39,
   "id": "b57b0251",
   "metadata": {},
   "outputs": [
    {
     "data": {
      "text/plain": [
       "{'bill': 'wide orange', 'tail': 'long'}"
      ]
     },
     "execution_count": 39,
     "metadata": {},
     "output_type": "execute_result"
    }
   ],
   "source": [
    "duck_dict"
   ]
  },
  {
   "cell_type": "code",
   "execution_count": 40,
   "id": "219515d7",
   "metadata": {},
   "outputs": [],
   "source": [
    "#딕셔너리에 필드를 추가한다."
   ]
  },
  {
   "cell_type": "code",
   "execution_count": 41,
   "id": "ee659521",
   "metadata": {},
   "outputs": [],
   "source": [
    "duck_dict['color']='green'"
   ]
  },
  {
   "cell_type": "code",
   "execution_count": 42,
   "id": "99e46b00",
   "metadata": {},
   "outputs": [
    {
     "data": {
      "text/plain": [
       "{'bill': 'wide orange', 'tail': 'long', 'color': 'green'}"
      ]
     },
     "execution_count": 42,
     "metadata": {},
     "output_type": "execute_result"
    }
   ],
   "source": [
    "duck_dict"
   ]
  },
  {
   "cell_type": "code",
   "execution_count": 45,
   "id": "57ee7c79",
   "metadata": {},
   "outputs": [
    {
     "ename": "AttributeError",
     "evalue": "'Duck' object has no attribute 'color'",
     "output_type": "error",
     "traceback": [
      "\u001b[1;31m---------------------------------------------------------------------------\u001b[0m",
      "\u001b[1;31mAttributeError\u001b[0m                            Traceback (most recent call last)",
      "Cell \u001b[1;32mIn[45], line 1\u001b[0m\n\u001b[1;32m----> 1\u001b[0m duck\u001b[38;5;241m.\u001b[39mcolor \u001b[38;5;241m=\u001b[39m \u001b[38;5;124m'\u001b[39m\u001b[38;5;124mgreen\u001b[39m\u001b[38;5;124m'\u001b[39m\n",
      "\u001b[1;31mAttributeError\u001b[0m: 'Duck' object has no attribute 'color'"
     ]
    }
   ],
   "source": [
    "duck.color = 'green'  #딕셔너리는 네임드 튜플이 아니다."
   ]
  },
  {
   "cell_type": "code",
   "execution_count": null,
   "id": "f4cce065",
   "metadata": {},
   "outputs": [],
   "source": [
    "#  네임드 튜플의 특징을 정리하면 다음과 같다.\n",
    "# • 불변 객체처럼 행동한다.\n",
    "# • 객체보다 공간 효율성과 시간 효율성이 더 좋다.\n",
    "# • 딕셔너리 형식의 대괄호([])  대신, 온점(.) 표기법으로 속성을 접근할수있다.\n",
    "# • 네임드 튜플을 딕셔너리의 키처럼 쓸 수 있다."
   ]
  },
  {
   "cell_type": "code",
   "execution_count": 46,
   "id": "959ce574",
   "metadata": {},
   "outputs": [],
   "source": [
    "class TeenyClass():\n",
    "    def __init__(self,name):\n",
    "        self.name = name"
   ]
  },
  {
   "cell_type": "code",
   "execution_count": 47,
   "id": "f0b170e4",
   "metadata": {},
   "outputs": [],
   "source": [
    "teeny = TeenyClass('itsy')"
   ]
  },
  {
   "cell_type": "code",
   "execution_count": null,
   "id": "c1f15cb1",
   "metadata": {},
   "outputs": [],
   "source": [
    "# name속성을 가진 보통 객체는 다음과 같다."
   ]
  },
  {
   "cell_type": "code",
   "execution_count": 48,
   "id": "0939efdf",
   "metadata": {},
   "outputs": [
    {
     "data": {
      "text/plain": [
       "'itsy'"
      ]
     },
     "execution_count": 48,
     "metadata": {},
     "output_type": "execute_result"
    }
   ],
   "source": [
    "teeny.name"
   ]
  },
  {
   "cell_type": "code",
   "execution_count": null,
   "id": "e8ed73b6",
   "metadata": {},
   "outputs": [],
   "source": [
    "# 데이터 클래스를 사용하여 같은 작업을 한다면 조금다르게 보인다."
   ]
  },
  {
   "cell_type": "code",
   "execution_count": 50,
   "id": "de70ee15",
   "metadata": {},
   "outputs": [],
   "source": [
    "from dataclasses import dataclass"
   ]
  },
  {
   "cell_type": "code",
   "execution_count": 51,
   "id": "ca230665",
   "metadata": {},
   "outputs": [],
   "source": [
    "@dataclass\n",
    "class teenyDataClass:\n",
    "    name: str"
   ]
  },
  {
   "cell_type": "code",
   "execution_count": 53,
   "id": "6cf0a69d",
   "metadata": {},
   "outputs": [],
   "source": [
    "teeny = teenyDataClass('bitsy')"
   ]
  },
  {
   "cell_type": "code",
   "execution_count": 54,
   "id": "605e459d",
   "metadata": {},
   "outputs": [
    {
     "data": {
      "text/plain": [
       "'bitsy'"
      ]
     },
     "execution_count": 54,
     "metadata": {},
     "output_type": "execute_result"
    }
   ],
   "source": [
    "teeny.name"
   ]
  },
  {
   "cell_type": "code",
   "execution_count": null,
   "id": "6181300e",
   "metadata": {},
   "outputs": [],
   "source": [
    "# @dataclass 데커레이터 외에 name：type(이름: 타입)，\n",
    "# 예를들면 color： str 또는 color: "
   ]
  },
  {
   "cell_type": "code",
   "execution_count": null,
   "id": "6d340919",
   "metadata": {},
   "outputs": [],
   "source": [
    "# str = \"red”와 같은 형식의 변수 어노테이션을 사용하여 클래스 속성을 정의한다. \n",
    "# 타입은 str 또는 int와 같은 내장 클래스뿐만 아니라 사용자가 생성한 클래스를 포함한 \n",
    "# 모든 파이썬 객체 타입일 수 있다.\n",
    "# 데이터 클래스 객체를 생성할 때，클래스에 지정된 순서대로 인수를 제공하거나 \n",
    "# 이름이 지정된 인수를 임의의 순서로 제공한다."
   ]
  },
  {
   "cell_type": "code",
   "execution_count": 55,
   "id": "01694678",
   "metadata": {},
   "outputs": [],
   "source": [
    "from dataclasses import dataclass"
   ]
  },
  {
   "cell_type": "code",
   "execution_count": 56,
   "id": "4ba69f2d",
   "metadata": {},
   "outputs": [],
   "source": [
    "@dataclass\n",
    "class AnimalClass:\n",
    "    name: str\n",
    "    habitat: str\n",
    "    teeth: int = 0"
   ]
  },
  {
   "cell_type": "code",
   "execution_count": 57,
   "id": "e2e8ca93",
   "metadata": {},
   "outputs": [],
   "source": [
    "snowman = AnimalClass('yeti','Himalayas',46)"
   ]
  },
  {
   "cell_type": "code",
   "execution_count": 59,
   "id": "4395c55a",
   "metadata": {},
   "outputs": [],
   "source": [
    "duck = AnimalClass(habitat= 'lake',name='duck')"
   ]
  },
  {
   "cell_type": "code",
   "execution_count": 60,
   "id": "79f5f293",
   "metadata": {},
   "outputs": [
    {
     "data": {
      "text/plain": [
       "AnimalClass(name='yeti', habitat='Himalayas', teeth=46)"
      ]
     },
     "execution_count": 60,
     "metadata": {},
     "output_type": "execute_result"
    }
   ],
   "source": [
    "snowman"
   ]
  },
  {
   "cell_type": "code",
   "execution_count": 61,
   "id": "89cd2e0e",
   "metadata": {},
   "outputs": [
    {
     "data": {
      "text/plain": [
       "AnimalClass(name='duck', habitat='lake', teeth=0)"
      ]
     },
     "execution_count": 61,
     "metadata": {},
     "output_type": "execute_result"
    }
   ],
   "source": [
    "duck"
   ]
  },
  {
   "cell_type": "code",
   "execution_count": null,
   "id": "f759d201",
   "metadata": {},
   "outputs": [],
   "source": [
    "#AnimalClass 클래스에서 teeth 속성의 기본값을 정의해서 객체를 생성할때\n",
    "# teeth 속성을 제공하지 않아도 된다.\n",
    "#일반 객체와 같이 객체 속성을 참조할 수 있다."
   ]
  },
  {
   "cell_type": "code",
   "execution_count": 62,
   "id": "fdd8af7e",
   "metadata": {},
   "outputs": [
    {
     "data": {
      "text/plain": [
       "'lake'"
      ]
     },
     "execution_count": 62,
     "metadata": {},
     "output_type": "execute_result"
    }
   ],
   "source": [
    "duck.habitat"
   ]
  },
  {
   "cell_type": "code",
   "execution_count": 63,
   "id": "ab210669",
   "metadata": {},
   "outputs": [
    {
     "data": {
      "text/plain": [
       "46"
      ]
     },
     "execution_count": 63,
     "metadata": {},
     "output_type": "execute_result"
    }
   ],
   "source": [
    "snowman.teeth"
   ]
  },
  {
   "cell_type": "code",
   "execution_count": null,
   "id": "95d8dd05",
   "metadata": {},
   "outputs": [],
   "source": []
  },
  {
   "cell_type": "code",
   "execution_count": null,
   "id": "87cd8c5d",
   "metadata": {},
   "outputs": [],
   "source": [
    "# 10.13 attrs"
   ]
  },
  {
   "cell_type": "code",
   "execution_count": null,
   "id": "fc604221",
   "metadata": {},
   "outputs": [],
   "source": [
    "#클래스를 생성하고 여기에 속성을 추가하는 법을 배웠다. \n",
    "#그리고 던더가 있는 __init__(), __str()__ 등의 매직 메서드와 self 매개변수를 살펴봤다. \n",
    "#네임드 튜플 및 데이터 클래스는 \n",
    "#표준 라이브러리의 대안으로 데이터 컬렉션을 만들 때 더 쉽게 접근할수 있다.\n",
    "#'모두를 위한 파이썬 라이브러리'\n",
    "#에서 클래스와 네임드 튜플，데이터 클래스를 비교한다. \n",
    "#그리고 적은 타이핑과 데이터 유효성 검사 등 여러 가지 이유로 \n",
    "#외부 패키지 attrs를 권장한다. \n",
    "#내부 라이브러리보다 더 좋은지 위 글을 한 번 읽어본다."
   ]
  },
  {
   "cell_type": "code",
   "execution_count": null,
   "id": "4e7ef51e",
   "metadata": {},
   "outputs": [],
   "source": []
  },
  {
   "cell_type": "code",
   "execution_count": null,
   "id": "c893b3af",
   "metadata": {},
   "outputs": [],
   "source": []
  },
  {
   "cell_type": "code",
   "execution_count": null,
   "id": "b86b03b4",
   "metadata": {},
   "outputs": [],
   "source": []
  },
  {
   "cell_type": "code",
   "execution_count": null,
   "id": "4103891f",
   "metadata": {},
   "outputs": [],
   "source": []
  },
  {
   "cell_type": "code",
   "execution_count": null,
   "id": "3c1e422b",
   "metadata": {},
   "outputs": [],
   "source": []
  },
  {
   "cell_type": "code",
   "execution_count": null,
   "id": "da811b03",
   "metadata": {},
   "outputs": [],
   "source": []
  },
  {
   "cell_type": "code",
   "execution_count": null,
   "id": "a8bcfcc6",
   "metadata": {},
   "outputs": [],
   "source": []
  },
  {
   "cell_type": "code",
   "execution_count": null,
   "id": "64a25849",
   "metadata": {},
   "outputs": [],
   "source": []
  },
  {
   "cell_type": "code",
   "execution_count": null,
   "id": "0bb13369",
   "metadata": {},
   "outputs": [],
   "source": []
  },
  {
   "cell_type": "code",
   "execution_count": null,
   "id": "9637fb64",
   "metadata": {},
   "outputs": [],
   "source": []
  },
  {
   "cell_type": "code",
   "execution_count": null,
   "id": "d76368ee",
   "metadata": {},
   "outputs": [],
   "source": []
  },
  {
   "cell_type": "code",
   "execution_count": null,
   "id": "0a2a6e46",
   "metadata": {},
   "outputs": [],
   "source": []
  },
  {
   "cell_type": "code",
   "execution_count": null,
   "id": "6ba29e1b",
   "metadata": {},
   "outputs": [],
   "source": []
  },
  {
   "cell_type": "code",
   "execution_count": null,
   "id": "23cc47ca",
   "metadata": {},
   "outputs": [],
   "source": []
  },
  {
   "cell_type": "code",
   "execution_count": null,
   "id": "0c8bc144",
   "metadata": {},
   "outputs": [],
   "source": []
  },
  {
   "cell_type": "code",
   "execution_count": null,
   "id": "9cbb84da",
   "metadata": {},
   "outputs": [],
   "source": []
  },
  {
   "cell_type": "code",
   "execution_count": null,
   "id": "d9155517",
   "metadata": {},
   "outputs": [],
   "source": []
  },
  {
   "cell_type": "code",
   "execution_count": null,
   "id": "49d1379b",
   "metadata": {},
   "outputs": [],
   "source": []
  },
  {
   "cell_type": "code",
   "execution_count": null,
   "id": "b8426440",
   "metadata": {},
   "outputs": [],
   "source": []
  },
  {
   "cell_type": "code",
   "execution_count": null,
   "id": "d92a31b3",
   "metadata": {},
   "outputs": [],
   "source": []
  },
  {
   "cell_type": "code",
   "execution_count": null,
   "id": "a9dd6bc8",
   "metadata": {},
   "outputs": [],
   "source": []
  },
  {
   "cell_type": "code",
   "execution_count": null,
   "id": "a412df08",
   "metadata": {},
   "outputs": [],
   "source": []
  },
  {
   "cell_type": "code",
   "execution_count": null,
   "id": "4ca44e11",
   "metadata": {},
   "outputs": [],
   "source": []
  },
  {
   "cell_type": "code",
   "execution_count": null,
   "id": "c9774e34",
   "metadata": {},
   "outputs": [],
   "source": []
  },
  {
   "cell_type": "code",
   "execution_count": null,
   "id": "1c3f244c",
   "metadata": {},
   "outputs": [],
   "source": []
  },
  {
   "cell_type": "code",
   "execution_count": null,
   "id": "25464525",
   "metadata": {},
   "outputs": [],
   "source": []
  },
  {
   "cell_type": "code",
   "execution_count": null,
   "id": "7bd6bf02",
   "metadata": {},
   "outputs": [],
   "source": []
  },
  {
   "cell_type": "code",
   "execution_count": null,
   "id": "bc75c233",
   "metadata": {},
   "outputs": [],
   "source": []
  },
  {
   "cell_type": "code",
   "execution_count": null,
   "id": "29a3b7e4",
   "metadata": {},
   "outputs": [],
   "source": []
  },
  {
   "cell_type": "code",
   "execution_count": null,
   "id": "048089c1",
   "metadata": {},
   "outputs": [],
   "source": []
  },
  {
   "cell_type": "code",
   "execution_count": null,
   "id": "d5c57741",
   "metadata": {},
   "outputs": [],
   "source": []
  },
  {
   "cell_type": "code",
   "execution_count": null,
   "id": "5237131d",
   "metadata": {},
   "outputs": [],
   "source": []
  },
  {
   "cell_type": "code",
   "execution_count": null,
   "id": "31380f08",
   "metadata": {},
   "outputs": [],
   "source": []
  },
  {
   "cell_type": "code",
   "execution_count": null,
   "id": "900cb6bb",
   "metadata": {},
   "outputs": [],
   "source": []
  },
  {
   "cell_type": "code",
   "execution_count": null,
   "id": "c81549ae",
   "metadata": {},
   "outputs": [],
   "source": []
  },
  {
   "cell_type": "code",
   "execution_count": null,
   "id": "1dfe3496",
   "metadata": {},
   "outputs": [],
   "source": []
  },
  {
   "cell_type": "code",
   "execution_count": null,
   "id": "09342de2",
   "metadata": {},
   "outputs": [],
   "source": []
  }
 ],
 "metadata": {
  "kernelspec": {
   "display_name": "Python 3 (ipykernel)",
   "language": "python",
   "name": "python3"
  },
  "language_info": {
   "codemirror_mode": {
    "name": "ipython",
    "version": 3
   },
   "file_extension": ".py",
   "mimetype": "text/x-python",
   "name": "python",
   "nbconvert_exporter": "python",
   "pygments_lexer": "ipython3",
   "version": "3.11.5"
  }
 },
 "nbformat": 4,
 "nbformat_minor": 5
}
