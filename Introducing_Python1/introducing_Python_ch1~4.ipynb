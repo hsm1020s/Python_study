{
 "cells": [
  {
   "cell_type": "code",
   "execution_count": null,
   "id": "88b3e640",
   "metadata": {},
   "outputs": [],
   "source": [
    "컴퓨터 프로그램은 일상에서 일어나는 일과 크게 다르지 않다. \n",
    "작은 파이썬 프로그램은 현업에 서 사용하는 언어의 외형，기능，용도를 엿볼 수 있다. \n",
    "대화식 인터프리터 또는 컴퓨터에 있는 텍스트 파일의 파이썬 프로그램을 실행한다."
   ]
  },
  {
   "cell_type": "code",
   "execution_count": 1,
   "id": "b87b3ec2",
   "metadata": {},
   "outputs": [
    {
     "name": "stdout",
     "output_type": "stream",
     "text": [
      "5\n",
      "4\n",
      "3\n",
      "2\n",
      "1\n",
      "hey!\n"
     ]
    }
   ],
   "source": [
    "for countdown in 5,4,3,2,1, \"hey!\":\n",
    "    print(countdown)"
   ]
  },
  {
   "cell_type": "code",
   "execution_count": null,
   "id": "be4fb131",
   "metadata": {},
   "outputs": [],
   "source": [
    "파이썬 프로그램에는 for, in, print, , （콤마），: （콜론），（ ） （괄호） 등 \n",
    "몇 가지 특별한 단어 와 기호가 있다.\n",
    "이것은 언어의 구문에서 중요한 부분을 차지한다."
   ]
  },
  {
   "cell_type": "code",
   "execution_count": 13,
   "id": "025643ec",
   "metadata": {},
   "outputs": [
    {
     "name": "stdout",
     "output_type": "stream",
     "text": [
      "Expecto  Patronum!\n"
     ]
    }
   ],
   "source": [
    "spells = [\n",
    "    \"Riddikulus!\",\n",
    "    \"Wingardium Leviosa!\", \n",
    "    \"Avada  Kedavra!\",\n",
    "    \"Expecto  Patronum!\", \n",
    "    \"Nox!\",\n",
    "    \"Lumos!\",\n",
    "]\n",
    "print(spells[3])"
   ]
  },
  {
   "cell_type": "code",
   "execution_count": null,
   "id": "f8fa8600",
   "metadata": {},
   "outputs": [],
   "source": [
    "# 리스트의 개별 단어들은 파이썬 문자열 \n",
    "# 파이썬 리스트는 대괄호 사용 "
   ]
  },
  {
   "cell_type": "code",
   "execution_count": 16,
   "id": "de14c0b7",
   "metadata": {},
   "outputs": [
    {
     "name": "stdout",
     "output_type": "stream",
     "text": [
      "Curly says: Nyuk nyuk!\n"
     ]
    }
   ],
   "source": [
    "quotes ={\n",
    "    \"Moe\":  \"A wise guy,  huh?\", \n",
    "    \"Larry\":  \"Owl\",\n",
    "    \"Curly\":  \"Nyuk nyuk!\", \n",
    "    }\n",
    "stooge = \"Curly\"\n",
    "print(stooge,  \"says:\",  quotes[stooge]) "
   ]
  },
  {
   "cell_type": "code",
   "execution_count": null,
   "id": "fb9a4af8",
   "metadata": {},
   "outputs": [],
   "source": [
    "#코드 넣을때 대괄호 조심 "
   ]
  },
  {
   "cell_type": "code",
   "execution_count": null,
   "id": "54af2a03",
   "metadata": {},
   "outputs": [],
   "source": [
    "변수 quotes는 파이썬 딕셔너리다. \n",
    "딕셔너리는 키의 모임과, 값으로 이루어져있다"
   ]
  },
  {
   "cell_type": "code",
   "execution_count": null,
   "id": "541b38cc",
   "metadata": {},
   "outputs": [],
   "source": []
  },
  {
   "cell_type": "code",
   "execution_count": 2,
   "id": "6a9b1a65",
   "metadata": {},
   "outputs": [
    {
     "name": "stdout",
     "output_type": "stream",
     "text": [
      "Let's find an  old website.\n",
      "Type a  website URL:   www.naver.com\n",
      "Type a  year,  month,  and  day,  like 20150613:  20231027\n",
      "Found this copy:   http://web.archive.org/web/20231027055637/https://www.naver.com/\n",
      "It should appear in your browser  now.\n"
     ]
    }
   ],
   "source": [
    "import webbrowser\n",
    "import json\n",
    "from urllib.request import urlopen\n",
    "\n",
    "print(\"Let's find an  old website.\")\n",
    "site =  input(\"Type a  website URL:   \")\n",
    "era  =  input(\"Type a  year,  month,  and  day,  like 20150613:  \")\n",
    "url =  \"http://archive.org/wayback/available?url=%s&timestamp=%s\" %(site, era)\n",
    "response =  urlopen(url)\n",
    "contents =  response.read()\n",
    "text =  contents.decode(\"utf-8\")\n",
    "data = json.loads(text)\n",
    "try:\n",
    "    old_site =  data[\"archived_snapshots\"][\"closest\"][\"url\"]\n",
    "    print(\"Found this copy:  \", old_site)\n",
    "    print(\"It should appear in your browser  now.\")\n",
    "    webbrowser.open(old_site)\n",
    "except:\n",
    "    print(\"Sorry, no  luck finding\", site)"
   ]
  },
  {
   "cell_type": "code",
   "execution_count": null,
   "id": "cbb2c2fd",
   "metadata": {},
   "outputs": [],
   "source": []
  },
  {
   "cell_type": "code",
   "execution_count": 7,
   "id": "4544a116",
   "metadata": {},
   "outputs": [
    {
     "name": "stdout",
     "output_type": "stream",
     "text": [
      "Let's find an  old website.\n",
      "Type a  website URL:   www.naver.com\n",
      "Type a  year,  month,  and  day,  like 20150613:  20231027\n",
      "Found this copy:   http://web.archive.org/web/20231027055637/https://www.naver.com/\n",
      "It should appear in your browser now.\n"
     ]
    }
   ],
   "source": [
    "import webbrowser\n",
    "import  requests\n",
    "\n",
    "print(\"Let's find an  old website.\")\n",
    "site =  input(\"Type a  website URL:   \")\n",
    "era =  input(\"Type a  year,  month,  and  day,  like 20150613:  \")\n",
    "url =  \"http://archive.org/wayback/available?url=%s&timestamp=%s\" % (site, era)\n",
    "response =  requests.get(url)\n",
    "data =  response.json()\n",
    "try:\n",
    "    old_site =  data[\"archived_snapshots\"][\"closest\"][\"url\"]\n",
    "    print(\"Found this copy:  \", old_site)\n",
    "    print(\"It should appear in your browser now.\")\n",
    "    webbrowser.open(old_site)\n",
    "except:\n",
    "         print(\"Sorry, no  luck finding\", site)"
   ]
  },
  {
   "cell_type": "code",
   "execution_count": null,
   "id": "4d61d56d",
   "metadata": {},
   "outputs": [],
   "source": [
    "# 1.4 파이썬 활용"
   ]
  },
  {
   "cell_type": "code",
   "execution_count": null,
   "id": "ec207f72",
   "metadata": {},
   "outputs": [],
   "source": [
    "C, C++ , 자바는 정적 언어다.\n",
    "반대로 동적 언어( 스크립트 언어 라고 부르기도 하는거)는 변수타입을\n",
    "사용하기 전에 선언하지 않아도 된다."
   ]
  },
  {
   "cell_type": "code",
   "execution_count": null,
   "id": "2c659b80",
   "metadata": {},
   "outputs": [],
   "source": []
  },
  {
   "cell_type": "code",
   "execution_count": null,
   "id": "ec84d45e",
   "metadata": {},
   "outputs": [],
   "source": [
    "파이썬 파일 사용하기"
   ]
  },
  {
   "cell_type": "code",
   "execution_count": 8,
   "id": "b929bef1",
   "metadata": {},
   "outputs": [
    {
     "name": "stdout",
     "output_type": "stream",
     "text": [
      "27\n"
     ]
    }
   ],
   "source": [
    "print(27)"
   ]
  },
  {
   "cell_type": "code",
   "execution_count": 9,
   "id": "674201dc",
   "metadata": {},
   "outputs": [
    {
     "name": "stdout",
     "output_type": "stream",
     "text": [
      "The Zen of Python, by Tim Peters\n",
      "\n",
      "Beautiful is better than ugly.\n",
      "Explicit is better than implicit.\n",
      "Simple is better than complex.\n",
      "Complex is better than complicated.\n",
      "Flat is better than nested.\n",
      "Sparse is better than dense.\n",
      "Readability counts.\n",
      "Special cases aren't special enough to break the rules.\n",
      "Although practicality beats purity.\n",
      "Errors should never pass silently.\n",
      "Unless explicitly silenced.\n",
      "In the face of ambiguity, refuse the temptation to guess.\n",
      "There should be one-- and preferably only one --obvious way to do it.\n",
      "Although that way may not be obvious at first unless you're Dutch.\n",
      "Now is better than never.\n",
      "Although never is often better than *right* now.\n",
      "If the implementation is hard to explain, it's a bad idea.\n",
      "If the implementation is easy to explain, it may be a good idea.\n",
      "Namespaces are one honking great idea -- let's do more of those!\n"
     ]
    }
   ],
   "source": [
    "import this"
   ]
  },
  {
   "cell_type": "code",
   "execution_count": 10,
   "id": "2597eb69",
   "metadata": {},
   "outputs": [
    {
     "data": {
      "text/plain": [
       "47"
      ]
     },
     "execution_count": 10,
     "metadata": {},
     "output_type": "execute_result"
    }
   ],
   "source": [
    "47"
   ]
  },
  {
   "cell_type": "code",
   "execution_count": 11,
   "id": "883d15b0",
   "metadata": {},
   "outputs": [
    {
     "name": "stdout",
     "output_type": "stream",
     "text": [
      "47\n"
     ]
    }
   ],
   "source": [
    "print(47)"
   ]
  },
  {
   "cell_type": "code",
   "execution_count": 12,
   "id": "769add8a",
   "metadata": {},
   "outputs": [
    {
     "data": {
      "text/plain": [
       "int"
      ]
     },
     "execution_count": 12,
     "metadata": {},
     "output_type": "execute_result"
    }
   ],
   "source": [
    "type(47)"
   ]
  },
  {
   "cell_type": "code",
   "execution_count": 13,
   "id": "6042d7d7",
   "metadata": {},
   "outputs": [
    {
     "name": "stdout",
     "output_type": "stream",
     "text": [
      "47\n"
     ]
    },
    {
     "data": {
      "text/plain": [
       "NoneType"
      ]
     },
     "execution_count": 13,
     "metadata": {},
     "output_type": "execute_result"
    }
   ],
   "source": [
    "type(print(47))"
   ]
  },
  {
   "cell_type": "code",
   "execution_count": null,
   "id": "b9555453",
   "metadata": {},
   "outputs": [],
   "source": [
    "# ch2 시작"
   ]
  },
  {
   "cell_type": "code",
   "execution_count": null,
   "id": "f4d2aa10",
   "metadata": {},
   "outputs": [],
   "source": [
    "#파이썬 데이터는 객체다 \n",
    "#리터럴 값\n",
    "#파이썬에서 데이터 값을 명시하는 두 가지 방법이 있다.\n",
    "리터럴\n",
    "변수"
   ]
  },
  {
   "cell_type": "code",
   "execution_count": null,
   "id": "da94eb9f",
   "metadata": {},
   "outputs": [],
   "source": [
    "#2.7 변수는 장소가 아니라 이름이다. \n",
    "할당은 값을 복사하지 않으며 단지 데이터를 포함하는 객체에 이름을 붙인다."
   ]
  },
  {
   "cell_type": "code",
   "execution_count": null,
   "id": "b523381b",
   "metadata": {},
   "outputs": [],
   "source": [
    "클래스는 객체의 정의이다. -> 이건 10장에 나옴"
   ]
  },
  {
   "cell_type": "code",
   "execution_count": null,
   "id": "2f9de445",
   "metadata": {},
   "outputs": [],
   "source": [
    "객체 참조 카운트가 0이면\n",
    "아무도 가리키는 이름이 없으므로 더 이상 필요 없다."
   ]
  },
  {
   "cell_type": "code",
   "execution_count": null,
   "id": "014ef99c",
   "metadata": {},
   "outputs": [],
   "source": []
  },
  {
   "cell_type": "code",
   "execution_count": null,
   "id": "dcc1fc13",
   "metadata": {},
   "outputs": [],
   "source": [
    "2.13 연습문제"
   ]
  },
  {
   "cell_type": "code",
   "execution_count": 16,
   "id": "2ce441f1",
   "metadata": {},
   "outputs": [],
   "source": [
    "prince = 29"
   ]
  },
  {
   "cell_type": "code",
   "execution_count": 17,
   "id": "9481d2cb",
   "metadata": {},
   "outputs": [
    {
     "name": "stdout",
     "output_type": "stream",
     "text": [
      "29\n"
     ]
    }
   ],
   "source": [
    "print(prince)"
   ]
  },
  {
   "cell_type": "code",
   "execution_count": 18,
   "id": "87eaec5b",
   "metadata": {},
   "outputs": [
    {
     "data": {
      "text/plain": [
       "int"
      ]
     },
     "execution_count": 18,
     "metadata": {},
     "output_type": "execute_result"
    }
   ],
   "source": [
    "type(5)"
   ]
  },
  {
   "cell_type": "code",
   "execution_count": 19,
   "id": "a6308d0e",
   "metadata": {},
   "outputs": [
    {
     "data": {
      "text/plain": [
       "float"
      ]
     },
     "execution_count": 19,
     "metadata": {},
     "output_type": "execute_result"
    }
   ],
   "source": [
    "type(2.0)"
   ]
  },
  {
   "cell_type": "code",
   "execution_count": 20,
   "id": "3b6b90b3",
   "metadata": {},
   "outputs": [
    {
     "data": {
      "text/plain": [
       "float"
      ]
     },
     "execution_count": 20,
     "metadata": {},
     "output_type": "execute_result"
    }
   ],
   "source": [
    "type(5+2.0)"
   ]
  },
  {
   "cell_type": "code",
   "execution_count": 24,
   "id": "66cc80ec",
   "metadata": {},
   "outputs": [
    {
     "data": {
      "text/plain": [
       "True"
      ]
     },
     "execution_count": 24,
     "metadata": {},
     "output_type": "execute_result"
    }
   ],
   "source": [
    "bool(True)"
   ]
  },
  {
   "cell_type": "code",
   "execution_count": 25,
   "id": "91e78c06",
   "metadata": {},
   "outputs": [
    {
     "data": {
      "text/plain": [
       "True"
      ]
     },
     "execution_count": 25,
     "metadata": {},
     "output_type": "execute_result"
    }
   ],
   "source": [
    "bool(1)"
   ]
  },
  {
   "cell_type": "code",
   "execution_count": 26,
   "id": "00039071",
   "metadata": {},
   "outputs": [
    {
     "data": {
      "text/plain": [
       "True"
      ]
     },
     "execution_count": 26,
     "metadata": {},
     "output_type": "execute_result"
    }
   ],
   "source": [
    "bool(45)"
   ]
  },
  {
   "cell_type": "code",
   "execution_count": 27,
   "id": "e120289d",
   "metadata": {},
   "outputs": [
    {
     "data": {
      "text/plain": [
       "True"
      ]
     },
     "execution_count": 27,
     "metadata": {},
     "output_type": "execute_result"
    }
   ],
   "source": [
    "bool(-45)"
   ]
  },
  {
   "cell_type": "code",
   "execution_count": 29,
   "id": "bbdf561e",
   "metadata": {},
   "outputs": [
    {
     "data": {
      "text/plain": [
       "False"
      ]
     },
     "execution_count": 29,
     "metadata": {},
     "output_type": "execute_result"
    }
   ],
   "source": [
    "bool(False)"
   ]
  },
  {
   "cell_type": "code",
   "execution_count": 28,
   "id": "a6e34c00",
   "metadata": {},
   "outputs": [
    {
     "data": {
      "text/plain": [
       "False"
      ]
     },
     "execution_count": 28,
     "metadata": {},
     "output_type": "execute_result"
    }
   ],
   "source": [
    "bool(0)"
   ]
  },
  {
   "cell_type": "code",
   "execution_count": 30,
   "id": "d0cc9a6a",
   "metadata": {},
   "outputs": [
    {
     "data": {
      "text/plain": [
       "False"
      ]
     },
     "execution_count": 30,
     "metadata": {},
     "output_type": "execute_result"
    }
   ],
   "source": [
    "bool(0.0)"
   ]
  },
  {
   "cell_type": "code",
   "execution_count": 31,
   "id": "f714837d",
   "metadata": {},
   "outputs": [
    {
     "data": {
      "text/plain": [
       "5"
      ]
     },
     "execution_count": 31,
     "metadata": {},
     "output_type": "execute_result"
    }
   ],
   "source": [
    "5"
   ]
  },
  {
   "cell_type": "code",
   "execution_count": 32,
   "id": "1d2bf943",
   "metadata": {},
   "outputs": [
    {
     "data": {
      "text/plain": [
       "0"
      ]
     },
     "execution_count": 32,
     "metadata": {},
     "output_type": "execute_result"
    }
   ],
   "source": [
    "0"
   ]
  },
  {
   "cell_type": "code",
   "execution_count": 33,
   "id": "6033d7cf",
   "metadata": {},
   "outputs": [
    {
     "ename": "SyntaxError",
     "evalue": "leading zeros in decimal integer literals are not permitted; use an 0o prefix for octal integers (4223885067.py, line 1)",
     "output_type": "error",
     "traceback": [
      "\u001b[1;36m  Cell \u001b[1;32mIn[33], line 1\u001b[1;36m\u001b[0m\n\u001b[1;33m    05\u001b[0m\n\u001b[1;37m    ^\u001b[0m\n\u001b[1;31mSyntaxError\u001b[0m\u001b[1;31m:\u001b[0m leading zeros in decimal integer literals are not permitted; use an 0o prefix for octal integers\n"
     ]
    }
   ],
   "source": [
    "05  #에러남."
   ]
  },
  {
   "cell_type": "code",
   "execution_count": 34,
   "id": "afbb9848",
   "metadata": {},
   "outputs": [
    {
     "data": {
      "text/plain": [
       "123"
      ]
     },
     "execution_count": 34,
     "metadata": {},
     "output_type": "execute_result"
    }
   ],
   "source": [
    "123"
   ]
  },
  {
   "cell_type": "code",
   "execution_count": 35,
   "id": "66828c57",
   "metadata": {},
   "outputs": [
    {
     "data": {
      "text/plain": [
       "-123"
      ]
     },
     "execution_count": 35,
     "metadata": {},
     "output_type": "execute_result"
    }
   ],
   "source": [
    "-123"
   ]
  },
  {
   "cell_type": "code",
   "execution_count": 36,
   "id": "de98cdb9",
   "metadata": {},
   "outputs": [
    {
     "data": {
      "text/plain": [
       "123"
      ]
     },
     "execution_count": 36,
     "metadata": {},
     "output_type": "execute_result"
    }
   ],
   "source": [
    "+123"
   ]
  },
  {
   "cell_type": "code",
   "execution_count": 37,
   "id": "fa61b07d",
   "metadata": {},
   "outputs": [
    {
     "data": {
      "text/plain": [
       "1000000"
      ]
     },
     "execution_count": 37,
     "metadata": {},
     "output_type": "execute_result"
    }
   ],
   "source": [
    "1000000"
   ]
  },
  {
   "cell_type": "code",
   "execution_count": 38,
   "id": "468ef500",
   "metadata": {},
   "outputs": [
    {
     "data": {
      "text/plain": [
       "(1, 0, 0)"
      ]
     },
     "execution_count": 38,
     "metadata": {},
     "output_type": "execute_result"
    }
   ],
   "source": [
    "1,000,000 # 백만 이라는 숫자 대신 튜플을 얻는다. "
   ]
  },
  {
   "cell_type": "code",
   "execution_count": 39,
   "id": "58190bfa",
   "metadata": {},
   "outputs": [],
   "source": [
    "million = 1_000_000"
   ]
  },
  {
   "cell_type": "code",
   "execution_count": 40,
   "id": "11fea2df",
   "metadata": {},
   "outputs": [
    {
     "data": {
      "text/plain": [
       "1000000"
      ]
     },
     "execution_count": 40,
     "metadata": {},
     "output_type": "execute_result"
    }
   ],
   "source": [
    "million"
   ]
  },
  {
   "cell_type": "code",
   "execution_count": 43,
   "id": "eac46b0c",
   "metadata": {},
   "outputs": [
    {
     "data": {
      "text/plain": [
       "3.5"
      ]
     },
     "execution_count": 43,
     "metadata": {},
     "output_type": "execute_result"
    }
   ],
   "source": [
    "7/2 #부동소수점 나누기"
   ]
  },
  {
   "cell_type": "code",
   "execution_count": 44,
   "id": "9135eff6",
   "metadata": {},
   "outputs": [
    {
     "data": {
      "text/plain": [
       "3"
      ]
     },
     "execution_count": 44,
     "metadata": {},
     "output_type": "execute_result"
    }
   ],
   "source": [
    "7//2 # 정수 나누기(소수점 이하 버림)"
   ]
  },
  {
   "cell_type": "code",
   "execution_count": 45,
   "id": "139885db",
   "metadata": {},
   "outputs": [
    {
     "data": {
      "text/plain": [
       "1"
      ]
     },
     "execution_count": 45,
     "metadata": {},
     "output_type": "execute_result"
    }
   ],
   "source": [
    "7%3 # 나머지"
   ]
  },
  {
   "cell_type": "code",
   "execution_count": 47,
   "id": "706f63ef",
   "metadata": {},
   "outputs": [
    {
     "data": {
      "text/plain": [
       "81"
      ]
     },
     "execution_count": 47,
     "metadata": {},
     "output_type": "execute_result"
    }
   ],
   "source": [
    "3**4 # 지수"
   ]
  },
  {
   "cell_type": "code",
   "execution_count": null,
   "id": "0a7fefc5",
   "metadata": {},
   "outputs": [],
   "source": [
    "85페이지부터 하면댐 "
   ]
  },
  {
   "cell_type": "code",
   "execution_count": 1,
   "id": "2ba093a6",
   "metadata": {},
   "outputs": [
    {
     "data": {
      "text/plain": [
       "2"
      ]
     },
     "execution_count": 1,
     "metadata": {},
     "output_type": "execute_result"
    }
   ],
   "source": [
    "0b10"
   ]
  },
  {
   "cell_type": "code",
   "execution_count": 2,
   "id": "b21b8b35",
   "metadata": {},
   "outputs": [
    {
     "data": {
      "text/plain": [
       "8"
      ]
     },
     "execution_count": 2,
     "metadata": {},
     "output_type": "execute_result"
    }
   ],
   "source": [
    "0o10"
   ]
  },
  {
   "cell_type": "code",
   "execution_count": 3,
   "id": "ba20ee4c",
   "metadata": {},
   "outputs": [
    {
     "data": {
      "text/plain": [
       "16"
      ]
     },
     "execution_count": 3,
     "metadata": {},
     "output_type": "execute_result"
    }
   ],
   "source": [
    "0x10"
   ]
  },
  {
   "cell_type": "code",
   "execution_count": 4,
   "id": "b92275fc",
   "metadata": {},
   "outputs": [
    {
     "data": {
      "text/plain": [
       "'A'"
      ]
     },
     "execution_count": 4,
     "metadata": {},
     "output_type": "execute_result"
    }
   ],
   "source": [
    "chr(65)"
   ]
  },
  {
   "cell_type": "code",
   "execution_count": 5,
   "id": "cd4c9523",
   "metadata": {},
   "outputs": [
    {
     "data": {
      "text/plain": [
       "65"
      ]
     },
     "execution_count": 5,
     "metadata": {},
     "output_type": "execute_result"
    }
   ],
   "source": [
    "ord(\"A\")"
   ]
  },
  {
   "cell_type": "code",
   "execution_count": 6,
   "id": "09075553",
   "metadata": {},
   "outputs": [
    {
     "data": {
      "text/plain": [
       "1"
      ]
     },
     "execution_count": 6,
     "metadata": {},
     "output_type": "execute_result"
    }
   ],
   "source": [
    "int(True)"
   ]
  },
  {
   "cell_type": "code",
   "execution_count": 7,
   "id": "25b03389",
   "metadata": {},
   "outputs": [
    {
     "data": {
      "text/plain": [
       "0"
      ]
     },
     "execution_count": 7,
     "metadata": {},
     "output_type": "execute_result"
    }
   ],
   "source": [
    "int(False)"
   ]
  },
  {
   "cell_type": "code",
   "execution_count": 8,
   "id": "e0bedf1a",
   "metadata": {},
   "outputs": [
    {
     "data": {
      "text/plain": [
       "True"
      ]
     },
     "execution_count": 8,
     "metadata": {},
     "output_type": "execute_result"
    }
   ],
   "source": [
    "bool(1)"
   ]
  },
  {
   "cell_type": "code",
   "execution_count": 9,
   "id": "4e9460ae",
   "metadata": {},
   "outputs": [
    {
     "data": {
      "text/plain": [
       "False"
      ]
     },
     "execution_count": 9,
     "metadata": {},
     "output_type": "execute_result"
    }
   ],
   "source": [
    "bool(0)"
   ]
  },
  {
   "cell_type": "code",
   "execution_count": 10,
   "id": "d952bcb7",
   "metadata": {},
   "outputs": [
    {
     "data": {
      "text/plain": [
       "98"
      ]
     },
     "execution_count": 10,
     "metadata": {},
     "output_type": "execute_result"
    }
   ],
   "source": [
    "int(98.6)"
   ]
  },
  {
   "cell_type": "code",
   "execution_count": 13,
   "id": "25c783b1",
   "metadata": {},
   "outputs": [
    {
     "data": {
      "text/plain": [
       "10000"
      ]
     },
     "execution_count": 13,
     "metadata": {},
     "output_type": "execute_result"
    }
   ],
   "source": [
    "int(1.0e4)"
   ]
  },
  {
   "cell_type": "code",
   "execution_count": 14,
   "id": "69525dab",
   "metadata": {},
   "outputs": [
    {
     "data": {
      "text/plain": [
       "99"
      ]
     },
     "execution_count": 14,
     "metadata": {},
     "output_type": "execute_result"
    }
   ],
   "source": [
    "int('99')"
   ]
  },
  {
   "cell_type": "code",
   "execution_count": 15,
   "id": "9ba75e6b",
   "metadata": {},
   "outputs": [
    {
     "data": {
      "text/plain": [
       "23"
      ]
     },
     "execution_count": 15,
     "metadata": {},
     "output_type": "execute_result"
    }
   ],
   "source": [
    "int('23')"
   ]
  },
  {
   "cell_type": "code",
   "execution_count": 16,
   "id": "5fca9036",
   "metadata": {},
   "outputs": [
    {
     "data": {
      "text/plain": [
       "2"
      ]
     },
     "execution_count": 16,
     "metadata": {},
     "output_type": "execute_result"
    }
   ],
   "source": [
    "int('10',2)"
   ]
  },
  {
   "cell_type": "code",
   "execution_count": 17,
   "id": "2e7c7469",
   "metadata": {},
   "outputs": [
    {
     "data": {
      "text/plain": [
       "8"
      ]
     },
     "execution_count": 17,
     "metadata": {},
     "output_type": "execute_result"
    }
   ],
   "source": [
    "int('10',8)"
   ]
  },
  {
   "cell_type": "code",
   "execution_count": 20,
   "id": "50979a0f",
   "metadata": {},
   "outputs": [
    {
     "data": {
      "text/plain": [
       "16"
      ]
     },
     "execution_count": 20,
     "metadata": {},
     "output_type": "execute_result"
    }
   ],
   "source": [
    "int('10',16)"
   ]
  },
  {
   "cell_type": "code",
   "execution_count": 21,
   "id": "96c7491a",
   "metadata": {},
   "outputs": [
    {
     "ename": "ValueError",
     "evalue": "invalid literal for int() with base 10: '98.6'",
     "output_type": "error",
     "traceback": [
      "\u001b[1;31m---------------------------------------------------------------------------\u001b[0m",
      "\u001b[1;31mValueError\u001b[0m                                Traceback (most recent call last)",
      "Cell \u001b[1;32mIn[21], line 1\u001b[0m\n\u001b[1;32m----> 1\u001b[0m \u001b[38;5;28mint\u001b[39m(\u001b[38;5;124m'\u001b[39m\u001b[38;5;124m98.6\u001b[39m\u001b[38;5;124m'\u001b[39m)\n",
      "\u001b[1;31mValueError\u001b[0m: invalid literal for int() with base 10: '98.6'"
     ]
    }
   ],
   "source": [
    "int('98.6') # 에러가 남 \n",
    "# int() 함수는 부동소수점 수 또는 숫자로 이루어진 문자열을 정수로 반환 "
   ]
  },
  {
   "cell_type": "code",
   "execution_count": 22,
   "id": "f84acba9",
   "metadata": {},
   "outputs": [
    {
     "data": {
      "text/plain": [
       "11.0"
      ]
     },
     "execution_count": 22,
     "metadata": {},
     "output_type": "execute_result"
    }
   ],
   "source": [
    "4+7.0"
   ]
  },
  {
   "cell_type": "code",
   "execution_count": 23,
   "id": "e9fe2d1d",
   "metadata": {},
   "outputs": [
    {
     "data": {
      "text/plain": [
       "5.0"
      ]
     },
     "execution_count": 23,
     "metadata": {},
     "output_type": "execute_result"
    }
   ],
   "source": [
    "5."
   ]
  },
  {
   "cell_type": "code",
   "execution_count": 24,
   "id": "b704bab4",
   "metadata": {},
   "outputs": [
    {
     "data": {
      "text/plain": [
       "5.0"
      ]
     },
     "execution_count": 24,
     "metadata": {},
     "output_type": "execute_result"
    }
   ],
   "source": [
    "05.0"
   ]
  },
  {
   "cell_type": "code",
   "execution_count": 25,
   "id": "c36e9247",
   "metadata": {},
   "outputs": [
    {
     "data": {
      "text/plain": [
       "98.0"
      ]
     },
     "execution_count": 25,
     "metadata": {},
     "output_type": "execute_result"
    }
   ],
   "source": [
    "float(98)"
   ]
  },
  {
   "cell_type": "code",
   "execution_count": 26,
   "id": "e7554b76",
   "metadata": {},
   "outputs": [
    {
     "data": {
      "text/plain": [
       "99.0"
      ]
     },
     "execution_count": 26,
     "metadata": {},
     "output_type": "execute_result"
    }
   ],
   "source": [
    "float('99')"
   ]
  },
  {
   "cell_type": "code",
   "execution_count": null,
   "id": "63e19870",
   "metadata": {},
   "outputs": [],
   "source": [
    " #ch4 시작"
   ]
  },
  {
   "cell_type": "code",
   "execution_count": 27,
   "id": "3405d787",
   "metadata": {},
   "outputs": [
    {
     "data": {
      "text/plain": [
       "10"
      ]
     },
     "execution_count": 27,
     "metadata": {},
     "output_type": "execute_result"
    }
   ],
   "source": [
    "sum = 0 \n",
    "sum += 1 \n",
    "sum += 2\n",
    "sum += 3\n",
    "sum += 4\n",
    "sum\n"
   ]
  },
  {
   "cell_type": "code",
   "execution_count": 28,
   "id": "91f2000b",
   "metadata": {},
   "outputs": [
    {
     "data": {
      "text/plain": [
       "10"
      ]
     },
     "execution_count": 28,
     "metadata": {},
     "output_type": "execute_result"
    }
   ],
   "source": [
    "sum = 1 + \\\n",
    "    2  +\\\n",
    "    3 +\\\n",
    "    4\n",
    "sum"
   ]
  },
  {
   "cell_type": "code",
   "execution_count": 30,
   "id": "2d83438f",
   "metadata": {},
   "outputs": [
    {
     "ename": "IndentationError",
     "evalue": "unexpected indent (3480335538.py, line 4)",
     "output_type": "error",
     "traceback": [
      "\u001b[1;36m  Cell \u001b[1;32mIn[30], line 4\u001b[1;36m\u001b[0m\n\u001b[1;33m    4\u001b[0m\n\u001b[1;37m    ^\u001b[0m\n\u001b[1;31mIndentationError\u001b[0m\u001b[1;31m:\u001b[0m unexpected indent\n"
     ]
    }
   ],
   "source": [
    "sum = 1 + \\\n",
    "    2  +\\\n",
    "    3 + # 백슬래시 없어서 예외 발생 \n",
    "    4\n",
    "sum"
   ]
  },
  {
   "cell_type": "code",
   "execution_count": 42,
   "id": "e6d1ce8e",
   "metadata": {},
   "outputs": [
    {
     "name": "stdout",
     "output_type": "stream",
     "text": [
      "Woe!\n"
     ]
    }
   ],
   "source": [
    "disaster = True\n",
    "if disaster:\n",
    "    print(\"Woe!\")\n",
    "else:\n",
    "    print(\"Whee!\")    "
   ]
  },
  {
   "cell_type": "code",
   "execution_count": null,
   "id": "7c1e025a",
   "metadata": {},
   "outputs": [],
   "source": [
    "# print() 는 화면에 객체를 출력하는 파이썬의 내장함수다 ."
   ]
  },
  {
   "cell_type": "code",
   "execution_count": null,
   "id": "09ea7103",
   "metadata": {},
   "outputs": [],
   "source": [
    "다른 언어와는 다르게 파이썬의 if 조건문은 괄호 가 필요없음.\n",
    "if(disaster == True) 와 같이 입력 하면 안된다.\n",
    "대신 콜론(:) 을 사용. \n",
    "콜론을 입력하지 않으면 에러 \n",
    "들여쓰기는 스페이스 4칸씩 쓰자.\n",
    "    1 탭\n",
    "    1 스페이스4번"
   ]
  },
  {
   "cell_type": "code",
   "execution_count": 43,
   "id": "7ae4ac67",
   "metadata": {},
   "outputs": [
    {
     "name": "stdout",
     "output_type": "stream",
     "text": [
      "It's a yeti\n"
     ]
    }
   ],
   "source": [
    "furry = True\n",
    "large = True\n",
    "if furry:\n",
    "    if large:\n",
    "        print(\"It's a yeti\")\n",
    "    else:\n",
    "        print(\"It's a cat!\")\n",
    "else:\n",
    "    if large:\n",
    "        print(\"It's a whale!\")\n",
    "    else:\n",
    "        print(\"It's a human. Or a hairless cat.\")"
   ]
  },
  {
   "cell_type": "code",
   "execution_count": 46,
   "id": "4df32bd8",
   "metadata": {},
   "outputs": [
    {
     "name": "stdout",
     "output_type": "stream",
     "text": [
      "I've never heard of the color mauve\n"
     ]
    }
   ],
   "source": [
    "color = \"mauve\"\n",
    "if color == \"red\":\n",
    "    print(\"It's a tomato\")\n",
    "elif color == \"green\":\n",
    "    print(\"It's a green pepper\")\n",
    "elif color == \"bee purple\":\n",
    "    print(\"I don't know what it is, but only bees can see it\")\n",
    "else:\n",
    "    print(\"I've never heard of the color\", color)\n",
    "    \n",
    "    #조건이 여러개일경우의 문법 "
   ]
  },
  {
   "cell_type": "code",
   "execution_count": null,
   "id": "6dcc05ce",
   "metadata": {},
   "outputs": [],
   "source": [
    "== # 같다.\n",
    "!= # 다르다.\n",
    "< # 보다 작다.\n",
    "<= #보다 작거나 같다.\n",
    "> # 보다 크다.\n",
    ">= #보다 크거나 같다."
   ]
  },
  {
   "cell_type": "code",
   "execution_count": null,
   "id": "0a3ccea2",
   "metadata": {},
   "outputs": [],
   "source": [
    "100페이지부터 보기"
   ]
  },
  {
   "cell_type": "code",
   "execution_count": null,
   "id": "a5a79719",
   "metadata": {},
   "outputs": [],
   "source": []
  },
  {
   "cell_type": "code",
   "execution_count": null,
   "id": "7fdc8eff",
   "metadata": {},
   "outputs": [],
   "source": []
  },
  {
   "cell_type": "code",
   "execution_count": null,
   "id": "cc278c42",
   "metadata": {},
   "outputs": [],
   "source": []
  },
  {
   "cell_type": "code",
   "execution_count": null,
   "id": "24ebfe17",
   "metadata": {},
   "outputs": [],
   "source": []
  },
  {
   "cell_type": "code",
   "execution_count": null,
   "id": "730ccb58",
   "metadata": {},
   "outputs": [],
   "source": []
  },
  {
   "cell_type": "code",
   "execution_count": null,
   "id": "7634f7ee",
   "metadata": {},
   "outputs": [],
   "source": []
  }
 ],
 "metadata": {
  "kernelspec": {
   "display_name": "Python 3 (ipykernel)",
   "language": "python",
   "name": "python3"
  },
  "language_info": {
   "codemirror_mode": {
    "name": "ipython",
    "version": 3
   },
   "file_extension": ".py",
   "mimetype": "text/x-python",
   "name": "python",
   "nbconvert_exporter": "python",
   "pygments_lexer": "ipython3",
   "version": "3.11.5"
  }
 },
 "nbformat": 4,
 "nbformat_minor": 5
}
