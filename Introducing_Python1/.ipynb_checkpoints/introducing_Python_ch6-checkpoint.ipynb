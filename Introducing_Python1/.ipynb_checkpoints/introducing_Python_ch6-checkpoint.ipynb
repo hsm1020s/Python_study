{
 "cells": [
  {
   "cell_type": "code",
   "execution_count": 7,
   "id": "06a758de",
   "metadata": {},
   "outputs": [],
   "source": [
    "count=1"
   ]
  },
  {
   "cell_type": "code",
   "execution_count": 8,
   "id": "ad8e1459",
   "metadata": {},
   "outputs": [
    {
     "name": "stdout",
     "output_type": "stream",
     "text": [
      "1\n",
      "2\n",
      "3\n",
      "4\n",
      "5\n"
     ]
    }
   ],
   "source": [
    "while count <=5:\n",
    "    print(count)\n",
    "    count += 1"
   ]
  },
  {
   "cell_type": "code",
   "execution_count": 9,
   "id": "10fe6b36",
   "metadata": {},
   "outputs": [
    {
     "name": "stdout",
     "output_type": "stream",
     "text": [
      "String to capitalize [type q to quit]: asd\n",
      "Asd\n",
      "String to capitalize [type q to quit]: q\n"
     ]
    }
   ],
   "source": [
    "while True:\n",
    "    stuff = input(\"String to capitalize [type q to quit]: \")\n",
    "    if stuff ==\"q\":\n",
    "        break\n",
    "    print(stuff.capitalize())"
   ]
  },
  {
   "cell_type": "code",
   "execution_count": 11,
   "id": "6fa50859",
   "metadata": {},
   "outputs": [
    {
     "name": "stdout",
     "output_type": "stream",
     "text": [
      "Integer, please [q to quit]: 2\n",
      "Integer, please [q to quit]: q\n"
     ]
    }
   ],
   "source": [
    "while True:\n",
    "    value = input(\"Integer, please [q to quit]: \")\n",
    "    if value == 'q': # 종료\n",
    "        break\n",
    "    number = int(value)\n",
    "    if number % 2 == 0: # 짝수\n",
    "        continue\n",
    "    print(number,\"squared is\", number*number)"
   ]
  },
  {
   "cell_type": "code",
   "execution_count": 12,
   "id": "05dba6b2",
   "metadata": {},
   "outputs": [
    {
     "name": "stdout",
     "output_type": "stream",
     "text": [
      "No even number found\n"
     ]
    }
   ],
   "source": [
    "numbers = [1,3,5]\n",
    "position =0\n",
    "while position <len(numbers):\n",
    "    number = numbers[position]\n",
    "    if number %2==0:\n",
    "        print('Found even number',number)\n",
    "        break\n",
    "    position +=1\n",
    "else: # break 문이 호출되지 않은 경우\n",
    "        print('No even number found')"
   ]
  },
  {
   "cell_type": "code",
   "execution_count": 13,
   "id": "7e88496d",
   "metadata": {},
   "outputs": [
    {
     "name": "stdout",
     "output_type": "stream",
     "text": [
      "t\n",
      "h\n",
      "u\n",
      "d\n"
     ]
    }
   ],
   "source": [
    "# 순회하기 for와 in\n",
    "word = 'thud'\n",
    "offset = 0\n",
    "while offset <len(word):\n",
    "    print(word[offset])\n",
    "    offset +=1"
   ]
  },
  {
   "cell_type": "code",
   "execution_count": 14,
   "id": "bd5ec590",
   "metadata": {},
   "outputs": [
    {
     "name": "stdout",
     "output_type": "stream",
     "text": [
      "t\n",
      "h\n",
      "u\n",
      "d\n"
     ]
    }
   ],
   "source": [
    "for letter in word:\n",
    "    print(letter)\n",
    "# 문자열 순회는 한 번에 한 문자를 생성한다."
   ]
  },
  {
   "cell_type": "code",
   "execution_count": 15,
   "id": "526541b9",
   "metadata": {},
   "outputs": [
    {
     "name": "stdout",
     "output_type": "stream",
     "text": [
      "t\n",
      "h\n"
     ]
    }
   ],
   "source": [
    "word = 'thud'\n",
    "for letter in word:\n",
    "    if letter =='u':\n",
    "        break\n",
    "    print(letter)"
   ]
  },
  {
   "cell_type": "code",
   "execution_count": 16,
   "id": "9f996e81",
   "metadata": {},
   "outputs": [
    {
     "name": "stdout",
     "output_type": "stream",
     "text": [
      "t\n",
      "h\n",
      "u\n",
      "d\n",
      "No 'x' in there.\n"
     ]
    }
   ],
   "source": [
    "word = 'thud'\n",
    "for letter in word:\n",
    "    if letter =='x':\n",
    "        print(\"Eek! An 'x'!\")\n",
    "        break\n",
    "    print(letter)\n",
    "else:\n",
    "        print(\"No 'x' in there.\")"
   ]
  },
  {
   "cell_type": "code",
   "execution_count": 17,
   "id": "72347dc2",
   "metadata": {},
   "outputs": [
    {
     "name": "stdout",
     "output_type": "stream",
     "text": [
      "0\n",
      "1\n",
      "2\n"
     ]
    }
   ],
   "source": [
    "for x in range(0,3):\n",
    "    print(x)"
   ]
  },
  {
   "cell_type": "code",
   "execution_count": 18,
   "id": "e1e2c279",
   "metadata": {},
   "outputs": [
    {
     "data": {
      "text/plain": [
       "[0, 1, 2]"
      ]
     },
     "execution_count": 18,
     "metadata": {},
     "output_type": "execute_result"
    }
   ],
   "source": [
    "list( range(0,3))"
   ]
  },
  {
   "cell_type": "code",
   "execution_count": 19,
   "id": "1f0a0361",
   "metadata": {},
   "outputs": [
    {
     "name": "stdout",
     "output_type": "stream",
     "text": [
      "2\n",
      "1\n",
      "0\n"
     ]
    }
   ],
   "source": [
    "for x in range(2,-1,-1):\n",
    "    print(x)"
   ]
  },
  {
   "cell_type": "code",
   "execution_count": 20,
   "id": "b2d6d592",
   "metadata": {},
   "outputs": [
    {
     "data": {
      "text/plain": [
       "[0, 2, 4, 6, 8, 10]"
      ]
     },
     "execution_count": 20,
     "metadata": {},
     "output_type": "execute_result"
    }
   ],
   "source": [
    "list(range(0,11,2))"
   ]
  }
 ],
 "metadata": {
  "kernelspec": {
   "display_name": "Python 3 (ipykernel)",
   "language": "python",
   "name": "python3"
  },
  "language_info": {
   "codemirror_mode": {
    "name": "ipython",
    "version": 3
   },
   "file_extension": ".py",
   "mimetype": "text/x-python",
   "name": "python",
   "nbconvert_exporter": "python",
   "pygments_lexer": "ipython3",
   "version": "3.11.5"
  }
 },
 "nbformat": 4,
 "nbformat_minor": 5
}
