{
 "cells": [
  {
   "cell_type": "code",
   "execution_count": null,
   "id": "397767d1",
   "metadata": {},
   "outputs": [],
   "source": [
    "# 튜플과 리스트"
   ]
  },
  {
   "cell_type": "code",
   "execution_count": 1,
   "id": "5040e187",
   "metadata": {},
   "outputs": [
    {
     "data": {
      "text/plain": [
       "()"
      ]
     },
     "execution_count": 1,
     "metadata": {},
     "output_type": "execute_result"
    }
   ],
   "source": [
    "empty_tuple =()\n",
    "empty_tuple"
   ]
  },
  {
   "cell_type": "code",
   "execution_count": 3,
   "id": "1e930e9d",
   "metadata": {},
   "outputs": [
    {
     "data": {
      "text/plain": [
       "('Groucho',)"
      ]
     },
     "execution_count": 3,
     "metadata": {},
     "output_type": "execute_result"
    }
   ],
   "source": [
    "one_marx = 'Groucho',\n",
    "one_marx"
   ]
  },
  {
   "cell_type": "code",
   "execution_count": 4,
   "id": "401901b2",
   "metadata": {},
   "outputs": [],
   "source": [
    "one_marx=('Groucho',)"
   ]
  },
  {
   "cell_type": "code",
   "execution_count": 5,
   "id": "3de9612e",
   "metadata": {},
   "outputs": [
    {
     "data": {
      "text/plain": [
       "('Groucho',)"
      ]
     },
     "execution_count": 5,
     "metadata": {},
     "output_type": "execute_result"
    }
   ],
   "source": [
    "one_marx"
   ]
  },
  {
   "cell_type": "code",
   "execution_count": 7,
   "id": "42c9535e",
   "metadata": {},
   "outputs": [
    {
     "data": {
      "text/plain": [
       "('Groucho',)"
      ]
     },
     "execution_count": 7,
     "metadata": {},
     "output_type": "execute_result"
    }
   ],
   "source": [
    "one_marx = ('Groucho',)\n",
    "one_marx"
   ]
  },
  {
   "cell_type": "code",
   "execution_count": 8,
   "id": "dff2f192",
   "metadata": {},
   "outputs": [],
   "source": [
    "one_marx=('Groucho')"
   ]
  },
  {
   "cell_type": "code",
   "execution_count": 9,
   "id": "6aad57fc",
   "metadata": {},
   "outputs": [
    {
     "data": {
      "text/plain": [
       "'Groucho'"
      ]
     },
     "execution_count": 9,
     "metadata": {},
     "output_type": "execute_result"
    }
   ],
   "source": [
    "one_marx"
   ]
  },
  {
   "cell_type": "code",
   "execution_count": 10,
   "id": "6de233db",
   "metadata": {},
   "outputs": [
    {
     "data": {
      "text/plain": [
       "str"
      ]
     },
     "execution_count": 10,
     "metadata": {},
     "output_type": "execute_result"
    }
   ],
   "source": [
    "type(one_marx)"
   ]
  },
  {
   "cell_type": "code",
   "execution_count": 12,
   "id": "edeed74a",
   "metadata": {},
   "outputs": [
    {
     "data": {
      "text/plain": [
       "('Groucho', 'Chico', 'Harpo')"
      ]
     },
     "execution_count": 12,
     "metadata": {},
     "output_type": "execute_result"
    }
   ],
   "source": [
    "marx_tuple = 'Groucho','Chico','Harpo'\n",
    "marx_tuple"
   ]
  },
  {
   "cell_type": "code",
   "execution_count": 14,
   "id": "fe13f761",
   "metadata": {},
   "outputs": [
    {
     "data": {
      "text/plain": [
       "('Groucho', 'Chico', 'Harpo')"
      ]
     },
     "execution_count": 14,
     "metadata": {},
     "output_type": "execute_result"
    }
   ],
   "source": [
    "marx_tuple=('Groucho','Chico','Harpo')\n",
    "marx_tuple"
   ]
  },
  {
   "cell_type": "code",
   "execution_count": 16,
   "id": "811cefff",
   "metadata": {},
   "outputs": [
    {
     "data": {
      "text/plain": [
       "tuple"
      ]
     },
     "execution_count": 16,
     "metadata": {},
     "output_type": "execute_result"
    }
   ],
   "source": [
    "one_marx='Groucho',\n",
    "type(one_marx)"
   ]
  },
  {
   "cell_type": "code",
   "execution_count": 19,
   "id": "9aaf1340",
   "metadata": {},
   "outputs": [
    {
     "data": {
      "text/plain": [
       "str"
      ]
     },
     "execution_count": 19,
     "metadata": {},
     "output_type": "execute_result"
    }
   ],
   "source": [
    "type('Groucho',)"
   ]
  },
  {
   "cell_type": "code",
   "execution_count": 20,
   "id": "ead2229a",
   "metadata": {},
   "outputs": [
    {
     "data": {
      "text/plain": [
       "tuple"
      ]
     },
     "execution_count": 20,
     "metadata": {},
     "output_type": "execute_result"
    }
   ],
   "source": [
    "type(('Groucho',))"
   ]
  },
  {
   "cell_type": "code",
   "execution_count": 22,
   "id": "d8cd8616",
   "metadata": {},
   "outputs": [],
   "source": [
    "marx_tuple =('Groucho','Chico','Harpo')\n",
    "a,b,c = marx_tuple"
   ]
  },
  {
   "cell_type": "code",
   "execution_count": 23,
   "id": "2e26674c",
   "metadata": {},
   "outputs": [
    {
     "data": {
      "text/plain": [
       "'Groucho'"
      ]
     },
     "execution_count": 23,
     "metadata": {},
     "output_type": "execute_result"
    }
   ],
   "source": [
    "a"
   ]
  },
  {
   "cell_type": "code",
   "execution_count": 26,
   "id": "3e2b5622",
   "metadata": {},
   "outputs": [
    {
     "data": {
      "text/plain": [
       "'Chico'"
      ]
     },
     "execution_count": 26,
     "metadata": {},
     "output_type": "execute_result"
    }
   ],
   "source": [
    "b"
   ]
  },
  {
   "cell_type": "code",
   "execution_count": 27,
   "id": "1bb2249e",
   "metadata": {},
   "outputs": [
    {
     "data": {
      "text/plain": [
       "'Harpo'"
      ]
     },
     "execution_count": 27,
     "metadata": {},
     "output_type": "execute_result"
    }
   ],
   "source": [
    "c"
   ]
  },
  {
   "cell_type": "code",
   "execution_count": 28,
   "id": "044f3b47",
   "metadata": {},
   "outputs": [],
   "source": [
    "password = 'swordfish'"
   ]
  },
  {
   "cell_type": "code",
   "execution_count": 29,
   "id": "0d62dae3",
   "metadata": {},
   "outputs": [],
   "source": [
    "icecream = 'tuttifrutti'"
   ]
  },
  {
   "cell_type": "code",
   "execution_count": 30,
   "id": "d88970d2",
   "metadata": {},
   "outputs": [],
   "source": [
    "password, icecream = icecream, password"
   ]
  },
  {
   "cell_type": "code",
   "execution_count": 31,
   "id": "be07ed72",
   "metadata": {},
   "outputs": [
    {
     "data": {
      "text/plain": [
       "'tuttifrutti'"
      ]
     },
     "execution_count": 31,
     "metadata": {},
     "output_type": "execute_result"
    }
   ],
   "source": [
    "password"
   ]
  },
  {
   "cell_type": "code",
   "execution_count": null,
   "id": "29ba9dea",
   "metadata": {},
   "outputs": [],
   "source": [
    "#생성하기 : tuple()"
   ]
  },
  {
   "cell_type": "code",
   "execution_count": null,
   "id": "3ffaa6de",
   "metadata": {},
   "outputs": [],
   "source": [
    "# tuple() 함수는 다른 객체를 튜플로 만들어준다."
   ]
  },
  {
   "cell_type": "code",
   "execution_count": 2,
   "id": "77f56971",
   "metadata": {},
   "outputs": [],
   "source": [
    "marx_list =  ['Groucho',  'Chico',  'Harpo']"
   ]
  },
  {
   "cell_type": "code",
   "execution_count": 3,
   "id": "24f6bba2",
   "metadata": {},
   "outputs": [
    {
     "data": {
      "text/plain": [
       "('Groucho', 'Chico', 'Harpo')"
      ]
     },
     "execution_count": 3,
     "metadata": {},
     "output_type": "execute_result"
    }
   ],
   "source": [
    "tuple(marx_list)"
   ]
  },
  {
   "cell_type": "code",
   "execution_count": null,
   "id": "8e242d66",
   "metadata": {},
   "outputs": [],
   "source": [
    "# 결합하기:+"
   ]
  },
  {
   "cell_type": "code",
   "execution_count": 4,
   "id": "8bed9694",
   "metadata": {},
   "outputs": [
    {
     "data": {
      "text/plain": [
       "('Groucho', 'Chico', 'Harpo')"
      ]
     },
     "execution_count": 4,
     "metadata": {},
     "output_type": "execute_result"
    }
   ],
   "source": [
    "('Groucho',)+('Chico','Harpo')"
   ]
  },
  {
   "cell_type": "code",
   "execution_count": 5,
   "id": "ed929541",
   "metadata": {},
   "outputs": [
    {
     "data": {
      "text/plain": [
       "('yada', 'yada', 'yada')"
      ]
     },
     "execution_count": 5,
     "metadata": {},
     "output_type": "execute_result"
    }
   ],
   "source": [
    "#항목 복제하기\n",
    "('yada',)*3"
   ]
  },
  {
   "cell_type": "code",
   "execution_count": 6,
   "id": "21bfdfa1",
   "metadata": {},
   "outputs": [],
   "source": [
    "a=(7,2)"
   ]
  },
  {
   "cell_type": "code",
   "execution_count": 7,
   "id": "47ea9073",
   "metadata": {},
   "outputs": [],
   "source": [
    "b=(7,2,9)"
   ]
  },
  {
   "cell_type": "code",
   "execution_count": 8,
   "id": "94218451",
   "metadata": {},
   "outputs": [
    {
     "data": {
      "text/plain": [
       "False"
      ]
     },
     "execution_count": 8,
     "metadata": {},
     "output_type": "execute_result"
    }
   ],
   "source": [
    "a==b"
   ]
  },
  {
   "cell_type": "code",
   "execution_count": 9,
   "id": "3ad44859",
   "metadata": {},
   "outputs": [
    {
     "data": {
      "text/plain": [
       "True"
      ]
     },
     "execution_count": 9,
     "metadata": {},
     "output_type": "execute_result"
    }
   ],
   "source": [
    "a<=b"
   ]
  },
  {
   "cell_type": "code",
   "execution_count": 10,
   "id": "88b0bd8b",
   "metadata": {},
   "outputs": [
    {
     "data": {
      "text/plain": [
       "True"
      ]
     },
     "execution_count": 10,
     "metadata": {},
     "output_type": "execute_result"
    }
   ],
   "source": [
    "a<b"
   ]
  },
  {
   "cell_type": "code",
   "execution_count": 11,
   "id": "4326ea5f",
   "metadata": {},
   "outputs": [],
   "source": [
    "#튜플 순회하기 for와 in"
   ]
  },
  {
   "cell_type": "code",
   "execution_count": 12,
   "id": "314cbe54",
   "metadata": {},
   "outputs": [
    {
     "name": "stdout",
     "output_type": "stream",
     "text": [
      "fresh\n",
      "out\n",
      "of\n",
      "ideas\n"
     ]
    }
   ],
   "source": [
    "words = ('fresh','out','of','ideas')\n",
    "for word in words:\n",
    "    print(word)"
   ]
  },
  {
   "cell_type": "code",
   "execution_count": null,
   "id": "8439e95a",
   "metadata": {},
   "outputs": [],
   "source": [
    "# 수정하기"
   ]
  },
  {
   "cell_type": "code",
   "execution_count": 28,
   "id": "fcd22f75",
   "metadata": {},
   "outputs": [],
   "source": [
    "t1 =  ('Fee', 'Fie', 'Foe')"
   ]
  },
  {
   "cell_type": "code",
   "execution_count": 37,
   "id": "5b7944ec",
   "metadata": {},
   "outputs": [],
   "source": [
    "t2 = ('Flop',)  # 책에는 이거 오타 있음"
   ]
  },
  {
   "cell_type": "code",
   "execution_count": 38,
   "id": "fbe349ef",
   "metadata": {},
   "outputs": [
    {
     "data": {
      "text/plain": [
       "('Fee', 'Fie', 'Foe', 'Flop')"
      ]
     },
     "execution_count": 38,
     "metadata": {},
     "output_type": "execute_result"
    }
   ],
   "source": [
    "t1+t2"
   ]
  },
  {
   "cell_type": "code",
   "execution_count": 39,
   "id": "eb94b53a",
   "metadata": {},
   "outputs": [],
   "source": [
    "t1 = ('Fee', 'Fie','Foe')"
   ]
  },
  {
   "cell_type": "code",
   "execution_count": 40,
   "id": "7562c042",
   "metadata": {},
   "outputs": [],
   "source": [
    "t2 = ('Flop',)"
   ]
  },
  {
   "cell_type": "code",
   "execution_count": 41,
   "id": "6e151e46",
   "metadata": {},
   "outputs": [],
   "source": [
    "t1+=t2"
   ]
  },
  {
   "cell_type": "code",
   "execution_count": 42,
   "id": "27decb32",
   "metadata": {},
   "outputs": [
    {
     "data": {
      "text/plain": [
       "('Fee', 'Fie', 'Foe', 'Flop')"
      ]
     },
     "execution_count": 42,
     "metadata": {},
     "output_type": "execute_result"
    }
   ],
   "source": [
    "t1"
   ]
  },
  {
   "cell_type": "code",
   "execution_count": 43,
   "id": "d8079bd3",
   "metadata": {},
   "outputs": [],
   "source": [
    "t1 = ('Fee','Fie','Foe')"
   ]
  },
  {
   "cell_type": "code",
   "execution_count": 44,
   "id": "77a8e93b",
   "metadata": {},
   "outputs": [],
   "source": [
    "t2 = ('Flop',)"
   ]
  },
  {
   "cell_type": "code",
   "execution_count": 45,
   "id": "c3e15f49",
   "metadata": {},
   "outputs": [
    {
     "data": {
      "text/plain": [
       "2266528606656"
      ]
     },
     "execution_count": 45,
     "metadata": {},
     "output_type": "execute_result"
    }
   ],
   "source": [
    "id(t1) # 주소가 다름"
   ]
  },
  {
   "cell_type": "code",
   "execution_count": 46,
   "id": "ad388465",
   "metadata": {},
   "outputs": [],
   "source": [
    "t1 += t2"
   ]
  },
  {
   "cell_type": "code",
   "execution_count": 47,
   "id": "3a4054dc",
   "metadata": {},
   "outputs": [
    {
     "data": {
      "text/plain": [
       "2266528510048"
      ]
     },
     "execution_count": 47,
     "metadata": {},
     "output_type": "execute_result"
    }
   ],
   "source": [
    "id(t1)# 주소가 다름"
   ]
  },
  {
   "cell_type": "code",
   "execution_count": null,
   "id": "fcbebc1a",
   "metadata": {},
   "outputs": [],
   "source": []
  },
  {
   "cell_type": "code",
   "execution_count": null,
   "id": "939cedc3",
   "metadata": {},
   "outputs": [],
   "source": [
    "# 7.2 리스트  150p  \n",
    "# 리스트는 데이터를 순차파악하는데 유용하다.\n",
    "# 특히 내용의 순서가 바뀔수 있다. \n",
    "# 문자열과 달리 리스트는 변경 가능함.\n",
    "# 현재 위치에서 새로운 요소를 추가, 삭제하거나 기존요소 덮어쓰기 가능"
   ]
  },
  {
   "cell_type": "code",
   "execution_count": 48,
   "id": "524b6ba9",
   "metadata": {},
   "outputs": [],
   "source": [
    "empty_list = []"
   ]
  },
  {
   "cell_type": "code",
   "execution_count": 49,
   "id": "6d956452",
   "metadata": {},
   "outputs": [],
   "source": [
    "weekdays  =  ['Monday',  'Tuesday',  'Wednesday',   'Thursday',  'Friday' ]"
   ]
  },
  {
   "cell_type": "code",
   "execution_count": 50,
   "id": "a74eb499",
   "metadata": {},
   "outputs": [],
   "source": [
    "big_birds =  ['emu','ostrich',  'cassowary']"
   ]
  },
  {
   "cell_type": "code",
   "execution_count": 53,
   "id": "43a520d5",
   "metadata": {},
   "outputs": [],
   "source": [
    "first_names =  ['Graham',  'John',  'Terry',  'Terry','Michael']"
   ]
  },
  {
   "cell_type": "code",
   "execution_count": 54,
   "id": "5d1c17f1",
   "metadata": {},
   "outputs": [],
   "source": [
    "leap_years =  [2000,  2004,  2008]"
   ]
  },
  {
   "cell_type": "code",
   "execution_count": 55,
   "id": "327e4837",
   "metadata": {},
   "outputs": [],
   "source": [
    " randomness  =  ['Punxsatawney', {'groundhog':    'Phil' }, 'Feb.  2']"
   ]
  },
  {
   "cell_type": "code",
   "execution_count": null,
   "id": "8c6028a3",
   "metadata": {},
   "outputs": [],
   "source": [
    "#first_names 리스트는 값이 고유하지 않아도 되는것을 보여준다."
   ]
  },
  {
   "cell_type": "code",
   "execution_count": null,
   "id": "0774f807",
   "metadata": {},
   "outputs": [],
   "source": [
    "#요소의 순서룰 고려하지 않고, 고유값만 사용하고 싶다면 set만 사용\n",
    "#big_birds 리스트를 셋으로 설정할수 있다.  셋은 8장에서 나옴"
   ]
  },
  {
   "cell_type": "code",
   "execution_count": 56,
   "id": "0446ba64",
   "metadata": {},
   "outputs": [],
   "source": [
    "# 7.2.2 생성 및 변환하기 list()"
   ]
  },
  {
   "cell_type": "code",
   "execution_count": 57,
   "id": "79a7a474",
   "metadata": {},
   "outputs": [],
   "source": [
    "another_empty_list = list()"
   ]
  },
  {
   "cell_type": "code",
   "execution_count": 58,
   "id": "a3db933f",
   "metadata": {},
   "outputs": [
    {
     "data": {
      "text/plain": [
       "[]"
      ]
     },
     "execution_count": 58,
     "metadata": {},
     "output_type": "execute_result"
    }
   ],
   "source": [
    "another_empty_list"
   ]
  },
  {
   "cell_type": "code",
   "execution_count": null,
   "id": "f7c0f474",
   "metadata": {},
   "outputs": [],
   "source": [
    "#list() 함수는 다른 데이터 타입(튜플,문자열,셋,딕셔너리 등)을 리스트로 변환\n",
    "#다음 예제는 단어 하나를 한 문자의 문자열 리스트로 변환한다."
   ]
  },
  {
   "cell_type": "code",
   "execution_count": 59,
   "id": "8a283df2",
   "metadata": {},
   "outputs": [
    {
     "data": {
      "text/plain": [
       "['c', 'a', 't']"
      ]
     },
     "execution_count": 59,
     "metadata": {},
     "output_type": "execute_result"
    }
   ],
   "source": [
    "list('cat') #튜플을 리스트로 변환"
   ]
  },
  {
   "cell_type": "code",
   "execution_count": 1,
   "id": "7626a200",
   "metadata": {},
   "outputs": [],
   "source": [
    "a_tuple = ('ready','fire','aim')"
   ]
  },
  {
   "cell_type": "code",
   "execution_count": 2,
   "id": "db527ecf",
   "metadata": {},
   "outputs": [
    {
     "data": {
      "text/plain": [
       "['ready', 'fire', 'aim']"
      ]
     },
     "execution_count": 2,
     "metadata": {},
     "output_type": "execute_result"
    }
   ],
   "source": [
    "list(a_tuple)"
   ]
  },
  {
   "cell_type": "code",
   "execution_count": 3,
   "id": "b87d5369",
   "metadata": {},
   "outputs": [],
   "source": [
    "take_like_a_pirate_day='9/19/2019'"
   ]
  },
  {
   "cell_type": "code",
   "execution_count": 5,
   "id": "0e4c8d72",
   "metadata": {},
   "outputs": [
    {
     "data": {
      "text/plain": [
       "['9', '19', '2019']"
      ]
     },
     "execution_count": 5,
     "metadata": {},
     "output_type": "execute_result"
    }
   ],
   "source": [
    "take_like_a_pirate_day.split('/')"
   ]
  },
  {
   "cell_type": "code",
   "execution_count": null,
   "id": "b75fd0f1",
   "metadata": {},
   "outputs": [],
   "source": [
    "#문자열 안에 구분자가 두개 이상 있을경우"
   ]
  },
  {
   "cell_type": "code",
   "execution_count": 6,
   "id": "8d64b116",
   "metadata": {},
   "outputs": [],
   "source": [
    "splitme = 'a/b//c/d///e'"
   ]
  },
  {
   "cell_type": "code",
   "execution_count": 7,
   "id": "287d9453",
   "metadata": {},
   "outputs": [
    {
     "data": {
      "text/plain": [
       "['a', 'b', '', 'c', 'd', '', '', 'e']"
      ]
     },
     "execution_count": 7,
     "metadata": {},
     "output_type": "execute_result"
    }
   ],
   "source": [
    "splitme.split('/') #빈 문자열을 볼 수 있다."
   ]
  },
  {
   "cell_type": "code",
   "execution_count": 8,
   "id": "517fa0f4",
   "metadata": {},
   "outputs": [],
   "source": [
    "splitme = 'a/b//c/d///e'"
   ]
  },
  {
   "cell_type": "code",
   "execution_count": 9,
   "id": "1012bb25",
   "metadata": {},
   "outputs": [
    {
     "data": {
      "text/plain": [
       "['a/b', 'c/d', '/e']"
      ]
     },
     "execution_count": 9,
     "metadata": {},
     "output_type": "execute_result"
    }
   ],
   "source": [
    "splitme.split('//') #구분자에 따른 차이 "
   ]
  },
  {
   "cell_type": "code",
   "execution_count": 10,
   "id": "7f658c8c",
   "metadata": {},
   "outputs": [],
   "source": [
    "# [offset] 으로 항목 얻기"
   ]
  },
  {
   "cell_type": "code",
   "execution_count": 11,
   "id": "08c549c5",
   "metadata": {},
   "outputs": [],
   "source": [
    "marxes = ['Groucho','Chico','Harpo']"
   ]
  },
  {
   "cell_type": "code",
   "execution_count": 12,
   "id": "4c9bfdcf",
   "metadata": {},
   "outputs": [
    {
     "data": {
      "text/plain": [
       "'Groucho'"
      ]
     },
     "execution_count": 12,
     "metadata": {},
     "output_type": "execute_result"
    }
   ],
   "source": [
    "marxes[0]"
   ]
  },
  {
   "cell_type": "code",
   "execution_count": 13,
   "id": "2c0393b9",
   "metadata": {},
   "outputs": [
    {
     "data": {
      "text/plain": [
       "'Chico'"
      ]
     },
     "execution_count": 13,
     "metadata": {},
     "output_type": "execute_result"
    }
   ],
   "source": [
    "marxes[1]"
   ]
  },
  {
   "cell_type": "code",
   "execution_count": 14,
   "id": "de21b0b6",
   "metadata": {},
   "outputs": [
    {
     "data": {
      "text/plain": [
       "'Harpo'"
      ]
     },
     "execution_count": 14,
     "metadata": {},
     "output_type": "execute_result"
    }
   ],
   "source": [
    "marxes[2]"
   ]
  },
  {
   "cell_type": "code",
   "execution_count": 15,
   "id": "801c2f12",
   "metadata": {},
   "outputs": [
    {
     "data": {
      "text/plain": [
       "'Harpo'"
      ]
     },
     "execution_count": 15,
     "metadata": {},
     "output_type": "execute_result"
    }
   ],
   "source": [
    "marxes[-1]"
   ]
  },
  {
   "cell_type": "code",
   "execution_count": 16,
   "id": "36452257",
   "metadata": {},
   "outputs": [
    {
     "data": {
      "text/plain": [
       "'Chico'"
      ]
     },
     "execution_count": 16,
     "metadata": {},
     "output_type": "execute_result"
    }
   ],
   "source": [
    "marxes[-2]"
   ]
  },
  {
   "cell_type": "code",
   "execution_count": 17,
   "id": "d9197504",
   "metadata": {},
   "outputs": [
    {
     "data": {
      "text/plain": [
       "'Groucho'"
      ]
     },
     "execution_count": 17,
     "metadata": {},
     "output_type": "execute_result"
    }
   ],
   "source": [
    "marxes[-3]"
   ]
  },
  {
   "cell_type": "code",
   "execution_count": null,
   "id": "6d01b70e",
   "metadata": {},
   "outputs": [],
   "source": [
    "#리스트 오프셋은 값을 할당한 위치에 맞게 입력되어야 한다.\n",
    "#오프셋의 위치가 리스트의 범위를 벗어나면 예외가 발생한다.\n",
    "#삼형제의 marxes(0~2)에서 6번쨰 오프셋을 입력하거나 끝에서 5번째를 입력하면 에러가 발생"
   ]
  },
  {
   "cell_type": "code",
   "execution_count": null,
   "id": "a72021d3",
   "metadata": {},
   "outputs": [],
   "source": []
  },
  {
   "cell_type": "code",
   "execution_count": null,
   "id": "fd8d2719",
   "metadata": {},
   "outputs": [],
   "source": [
    "#슬라이스로 항목 얻기 \n",
    "#문자열과 마찬가지로 슬라이스에 스텝을 사용 가능 "
   ]
  },
  {
   "cell_type": "code",
   "execution_count": 18,
   "id": "5d2be04a",
   "metadata": {},
   "outputs": [],
   "source": [
    "marxes=['Groucho','Chico','Harpo']"
   ]
  },
  {
   "cell_type": "code",
   "execution_count": 19,
   "id": "ea7d1436",
   "metadata": {},
   "outputs": [
    {
     "data": {
      "text/plain": [
       "['Groucho', 'Chico']"
      ]
     },
     "execution_count": 19,
     "metadata": {},
     "output_type": "execute_result"
    }
   ],
   "source": [
    "marxes[0:2]"
   ]
  },
  {
   "cell_type": "code",
   "execution_count": 20,
   "id": "d7405494",
   "metadata": {},
   "outputs": [
    {
     "data": {
      "text/plain": [
       "['Groucho', 'Harpo']"
      ]
     },
     "execution_count": 20,
     "metadata": {},
     "output_type": "execute_result"
    }
   ],
   "source": [
    "marxes[::2]"
   ]
  },
  {
   "cell_type": "code",
   "execution_count": 21,
   "id": "78a52e36",
   "metadata": {},
   "outputs": [
    {
     "data": {
      "text/plain": [
       "['Harpo', 'Groucho']"
      ]
     },
     "execution_count": 21,
     "metadata": {},
     "output_type": "execute_result"
    }
   ],
   "source": [
    "marxes[::-2]"
   ]
  },
  {
   "cell_type": "code",
   "execution_count": 22,
   "id": "5c88a509",
   "metadata": {},
   "outputs": [
    {
     "data": {
      "text/plain": [
       "['Harpo', 'Chico', 'Groucho']"
      ]
     },
     "execution_count": 22,
     "metadata": {},
     "output_type": "execute_result"
    }
   ],
   "source": [
    "marxes[::-1]"
   ]
  },
  {
   "cell_type": "code",
   "execution_count": null,
   "id": "4f3255bd",
   "metadata": {},
   "outputs": [],
   "source": [
    "# marxes 리스트를 반대로 뒤집은 상태로 바꾸기위해 list.reverse() 메서드 사용"
   ]
  },
  {
   "cell_type": "code",
   "execution_count": 23,
   "id": "8cdd668b",
   "metadata": {},
   "outputs": [],
   "source": [
    "marxes = ['Groucho','Chico','Harpo']"
   ]
  },
  {
   "cell_type": "code",
   "execution_count": 24,
   "id": "0604a8fe",
   "metadata": {},
   "outputs": [],
   "source": [
    "marxes.reverse() #리스트를 변경하지만 값을 반환하지 않는다."
   ]
  },
  {
   "cell_type": "code",
   "execution_count": 25,
   "id": "fb3606b5",
   "metadata": {},
   "outputs": [
    {
     "data": {
      "text/plain": [
       "['Harpo', 'Chico', 'Groucho']"
      ]
     },
     "execution_count": 25,
     "metadata": {},
     "output_type": "execute_result"
    }
   ],
   "source": [
    "marxes"
   ]
  },
  {
   "cell_type": "code",
   "execution_count": 26,
   "id": "2dc416b2",
   "metadata": {},
   "outputs": [],
   "source": [
    "marxes= ['Groucho','chico','Harpo']"
   ]
  },
  {
   "cell_type": "code",
   "execution_count": 27,
   "id": "c34eb389",
   "metadata": {},
   "outputs": [
    {
     "data": {
      "text/plain": [
       "[]"
      ]
     },
     "execution_count": 27,
     "metadata": {},
     "output_type": "execute_result"
    }
   ],
   "source": [
    " marxes[4:]  \n",
    "#리스트 슬라이스는 문자열 슬라이스와 같이 잘못된 인덱스 지정 가능\n",
    "#예외는 발생하지 않는다. 유효 범위의 인덱스를 반환하거나 아무것도 반환하지 않음"
   ]
  },
  {
   "cell_type": "code",
   "execution_count": 28,
   "id": "644fa81f",
   "metadata": {},
   "outputs": [
    {
     "data": {
      "text/plain": [
       "['Groucho', 'chico', 'Harpo']"
      ]
     },
     "execution_count": 28,
     "metadata": {},
     "output_type": "execute_result"
    }
   ],
   "source": [
    "marxes[-6:] "
   ]
  },
  {
   "cell_type": "code",
   "execution_count": 29,
   "id": "28c883b1",
   "metadata": {},
   "outputs": [
    {
     "data": {
      "text/plain": [
       "['Groucho']"
      ]
     },
     "execution_count": 29,
     "metadata": {},
     "output_type": "execute_result"
    }
   ],
   "source": [
    "marxes[-6:-2]"
   ]
  },
  {
   "cell_type": "code",
   "execution_count": 30,
   "id": "4be47f8b",
   "metadata": {},
   "outputs": [
    {
     "data": {
      "text/plain": [
       "[]"
      ]
     },
     "execution_count": 30,
     "metadata": {},
     "output_type": "execute_result"
    }
   ],
   "source": [
    "marxes[-6:-4]"
   ]
  },
  {
   "cell_type": "code",
   "execution_count": 31,
   "id": "e3a389b8",
   "metadata": {},
   "outputs": [],
   "source": [
    "marxes = ['Groucho','Chico','Harpo']"
   ]
  },
  {
   "cell_type": "code",
   "execution_count": 34,
   "id": "a3c3a200",
   "metadata": {},
   "outputs": [],
   "source": [
    "marxes.append(\"zeppo\") # 리스트 끝에 항목 추가하기 append()"
   ]
  },
  {
   "cell_type": "code",
   "execution_count": 35,
   "id": "632e9974",
   "metadata": {},
   "outputs": [
    {
     "data": {
      "text/plain": [
       "['Groucho', 'Chico', 'Harpo', 'zeppo', 'zeppo']"
      ]
     },
     "execution_count": 35,
     "metadata": {},
     "output_type": "execute_result"
    }
   ],
   "source": [
    "marxes"
   ]
  },
  {
   "cell_type": "code",
   "execution_count": null,
   "id": "72c35196",
   "metadata": {},
   "outputs": [],
   "source": [
    "# 오프셋과 insert()로 항목 추가하기."
   ]
  },
  {
   "cell_type": "code",
   "execution_count": 37,
   "id": "437f9354",
   "metadata": {},
   "outputs": [],
   "source": [
    "marxes = ['Groucho','Chico','Harpo']"
   ]
  },
  {
   "cell_type": "code",
   "execution_count": 38,
   "id": "f132bbce",
   "metadata": {},
   "outputs": [],
   "source": [
    "marxes.insert(2,'Gummo')"
   ]
  },
  {
   "cell_type": "code",
   "execution_count": 39,
   "id": "18fb627a",
   "metadata": {},
   "outputs": [
    {
     "data": {
      "text/plain": [
       "['Groucho', 'Chico', 'Gummo', 'Harpo']"
      ]
     },
     "execution_count": 39,
     "metadata": {},
     "output_type": "execute_result"
    }
   ],
   "source": [
    "marxes"
   ]
  },
  {
   "cell_type": "code",
   "execution_count": 40,
   "id": "e4857278",
   "metadata": {},
   "outputs": [],
   "source": [
    "marxes.insert(10,'Zeppo')"
   ]
  },
  {
   "cell_type": "code",
   "execution_count": 41,
   "id": "8b30f2fd",
   "metadata": {},
   "outputs": [
    {
     "data": {
      "text/plain": [
       "['Groucho', 'Chico', 'Gummo', 'Harpo', 'Zeppo']"
      ]
     },
     "execution_count": 41,
     "metadata": {},
     "output_type": "execute_result"
    }
   ],
   "source": [
    "marxes"
   ]
  },
  {
   "cell_type": "code",
   "execution_count": null,
   "id": "93c4c3b6",
   "metadata": {},
   "outputs": [],
   "source": [
    "# 모든 항목 복제하기 :*"
   ]
  },
  {
   "cell_type": "code",
   "execution_count": 42,
   "id": "cfb4f825",
   "metadata": {},
   "outputs": [
    {
     "data": {
      "text/plain": [
       "['blah', 'blah', 'blah']"
      ]
     },
     "execution_count": 42,
     "metadata": {},
     "output_type": "execute_result"
    }
   ],
   "source": [
    "[\"blah\"]*3  # 문자열의 문자를 * 로 복사한 것처럼 리스트도 가능 "
   ]
  },
  {
   "cell_type": "code",
   "execution_count": 43,
   "id": "c7f5a1e7",
   "metadata": {},
   "outputs": [],
   "source": [
    "#리스트 병합하기: extend()와 +"
   ]
  },
  {
   "cell_type": "code",
   "execution_count": 44,
   "id": "9f03cc2d",
   "metadata": {},
   "outputs": [],
   "source": [
    "marxes = ['Groucho','Chico','Harpo','Zeppo']"
   ]
  },
  {
   "cell_type": "code",
   "execution_count": 45,
   "id": "11a2c658",
   "metadata": {},
   "outputs": [],
   "source": [
    "others = ['Gummo','Karl']"
   ]
  },
  {
   "cell_type": "code",
   "execution_count": 46,
   "id": "d6d1f626",
   "metadata": {},
   "outputs": [],
   "source": [
    "marxes.extend(others)  # extend로 리스트 병합"
   ]
  },
  {
   "cell_type": "code",
   "execution_count": 47,
   "id": "8cf1bf1d",
   "metadata": {},
   "outputs": [
    {
     "data": {
      "text/plain": [
       "['Groucho', 'Chico', 'Harpo', 'Zeppo', 'Gummo', 'Karl']"
      ]
     },
     "execution_count": 47,
     "metadata": {},
     "output_type": "execute_result"
    }
   ],
   "source": [
    "marxes"
   ]
  },
  {
   "cell_type": "code",
   "execution_count": 48,
   "id": "26d7a936",
   "metadata": {},
   "outputs": [],
   "source": [
    "marxes = ['Groucho','Chico','Harpo','Zeppo']"
   ]
  },
  {
   "cell_type": "code",
   "execution_count": 49,
   "id": "9ac6ad30",
   "metadata": {},
   "outputs": [],
   "source": [
    "others = ['Gummo','Karl']"
   ]
  },
  {
   "cell_type": "code",
   "execution_count": 50,
   "id": "5bec3245",
   "metadata": {},
   "outputs": [],
   "source": [
    "marxes+=others  # +나 +=로 병합 가능 "
   ]
  },
  {
   "cell_type": "code",
   "execution_count": 51,
   "id": "919f87bd",
   "metadata": {},
   "outputs": [
    {
     "data": {
      "text/plain": [
       "['Groucho', 'Chico', 'Harpo', 'Zeppo', 'Gummo', 'Karl']"
      ]
     },
     "execution_count": 51,
     "metadata": {},
     "output_type": "execute_result"
    }
   ],
   "source": [
    "marxes  "
   ]
  },
  {
   "cell_type": "code",
   "execution_count": null,
   "id": "3c6a601c",
   "metadata": {},
   "outputs": [],
   "source": [
    "# append()를 사용하면 항목을 병합하지 않고 others가 하나의 리스트로 추가된다."
   ]
  },
  {
   "cell_type": "code",
   "execution_count": 52,
   "id": "33912e80",
   "metadata": {},
   "outputs": [],
   "source": [
    "marxes= ['Groucho','Chico','Harpo','Zeppo']"
   ]
  },
  {
   "cell_type": "code",
   "execution_count": 53,
   "id": "3ec664b1",
   "metadata": {},
   "outputs": [],
   "source": [
    "others = ['Gummo','Karl']"
   ]
  },
  {
   "cell_type": "code",
   "execution_count": 54,
   "id": "7bec6bbb",
   "metadata": {},
   "outputs": [],
   "source": [
    "marxes.append(others) #append()를 사용하면 항목을 병합하지 않고 others가 하나의 리스트로 추가된다."
   ]
  },
  {
   "cell_type": "code",
   "execution_count": 55,
   "id": "ae041250",
   "metadata": {},
   "outputs": [
    {
     "data": {
      "text/plain": [
       "['Groucho', 'Chico', 'Harpo', 'Zeppo', ['Gummo', 'Karl']]"
      ]
     },
     "execution_count": 55,
     "metadata": {},
     "output_type": "execute_result"
    }
   ],
   "source": [
    "marxes "
   ]
  },
  {
   "cell_type": "code",
   "execution_count": null,
   "id": "9ffd4dfe",
   "metadata": {},
   "outputs": [],
   "source": []
  },
  {
   "cell_type": "code",
   "execution_count": null,
   "id": "5577e852",
   "metadata": {},
   "outputs": [],
   "source": [
    "#7.2.10 [offset]으로 항목 바꾸기 "
   ]
  },
  {
   "cell_type": "code",
   "execution_count": 56,
   "id": "bd4f2b8f",
   "metadata": {},
   "outputs": [],
   "source": [
    "marxes = ['Groucho','Chico','Harpo']"
   ]
  },
  {
   "cell_type": "code",
   "execution_count": 57,
   "id": "135a7bff",
   "metadata": {},
   "outputs": [],
   "source": [
    "marxes[2] = 'Wanda'"
   ]
  },
  {
   "cell_type": "code",
   "execution_count": 58,
   "id": "888aba76",
   "metadata": {},
   "outputs": [
    {
     "data": {
      "text/plain": [
       "['Groucho', 'Chico', 'Wanda']"
      ]
     },
     "execution_count": 58,
     "metadata": {},
     "output_type": "execute_result"
    }
   ],
   "source": [
    "marxes"
   ]
  },
  {
   "cell_type": "code",
   "execution_count": null,
   "id": "deb3cf4b",
   "metadata": {},
   "outputs": [],
   "source": [
    "#  리스트 오프셋은 리스트에서 유효한 위치여야 한다.\n",
    "#문자열은 불변객체 - 리스트는 가변객체이기 때문에 위와 같은 방식으로 문자열 변경 불가\n",
    "#리스트 항목 수와 항목 내용을 바꿀 수 있다."
   ]
  },
  {
   "cell_type": "code",
   "execution_count": null,
   "id": "5397121e",
   "metadata": {},
   "outputs": [],
   "source": []
  },
  {
   "cell_type": "code",
   "execution_count": null,
   "id": "65791426",
   "metadata": {},
   "outputs": [],
   "source": [
    "#7.2.11 슬라이스로 항목 바꾸기"
   ]
  },
  {
   "cell_type": "code",
   "execution_count": 59,
   "id": "df9567b7",
   "metadata": {},
   "outputs": [],
   "source": [
    "numbers=[1,2,3,4]"
   ]
  },
  {
   "cell_type": "code",
   "execution_count": 60,
   "id": "a20def5f",
   "metadata": {},
   "outputs": [],
   "source": [
    "numbers[1:3] = [8,9]"
   ]
  },
  {
   "cell_type": "code",
   "execution_count": 61,
   "id": "6e8b5fc9",
   "metadata": {},
   "outputs": [
    {
     "data": {
      "text/plain": [
       "[1, 8, 9, 4]"
      ]
     },
     "execution_count": 61,
     "metadata": {},
     "output_type": "execute_result"
    }
   ],
   "source": [
    "numbers"
   ]
  },
  {
   "cell_type": "code",
   "execution_count": 62,
   "id": "0b293a79",
   "metadata": {},
   "outputs": [],
   "source": [
    "numbers = [1,2,3,4]"
   ]
  },
  {
   "cell_type": "code",
   "execution_count": 63,
   "id": "7c5e2b55",
   "metadata": {},
   "outputs": [],
   "source": [
    "numbers[1:3] = [7,8,9]"
   ]
  },
  {
   "cell_type": "code",
   "execution_count": 64,
   "id": "f0fdeb70",
   "metadata": {},
   "outputs": [
    {
     "data": {
      "text/plain": [
       "[1, 7, 8, 9, 4]"
      ]
     },
     "execution_count": 64,
     "metadata": {},
     "output_type": "execute_result"
    }
   ],
   "source": [
    "numbers"
   ]
  },
  {
   "cell_type": "code",
   "execution_count": 66,
   "id": "5bc68a24",
   "metadata": {},
   "outputs": [],
   "source": [
    "numbers=[1,2,3,4]"
   ]
  },
  {
   "cell_type": "code",
   "execution_count": 67,
   "id": "7946b49b",
   "metadata": {},
   "outputs": [],
   "source": [
    "numbers[1:3]=[]"
   ]
  },
  {
   "cell_type": "code",
   "execution_count": 68,
   "id": "1482fddf",
   "metadata": {},
   "outputs": [
    {
     "data": {
      "text/plain": [
       "[1, 4]"
      ]
     },
     "execution_count": 68,
     "metadata": {},
     "output_type": "execute_result"
    }
   ],
   "source": [
    "numbers"
   ]
  },
  {
   "cell_type": "code",
   "execution_count": null,
   "id": "36e13f5c",
   "metadata": {},
   "outputs": [],
   "source": [
    "# 리스트에 할당되는 오른쪽 값의 수는 왼쪽 슬라이스 항목 수와 달라도 된다.\n",
    "# 오른쪽 값은 리스트가 아니어도 된다. 즉 순회 가능한 타입 값을 리스트 항목에 할당가능"
   ]
  },
  {
   "cell_type": "code",
   "execution_count": null,
   "id": "0bdb8b93",
   "metadata": {},
   "outputs": [],
   "source": [
    "#158p"
   ]
  },
  {
   "cell_type": "code",
   "execution_count": 1,
   "id": "8708c0c5",
   "metadata": {},
   "outputs": [],
   "source": [
    "marxes=['Groucho','Chico','harpo','Gummo','Karl']"
   ]
  },
  {
   "cell_type": "code",
   "execution_count": 2,
   "id": "676a47b4",
   "metadata": {},
   "outputs": [
    {
     "data": {
      "text/plain": [
       "'Karl'"
      ]
     },
     "execution_count": 2,
     "metadata": {},
     "output_type": "execute_result"
    }
   ],
   "source": [
    "marxes[-1]"
   ]
  },
  {
   "cell_type": "code",
   "execution_count": 3,
   "id": "d7fdc04c",
   "metadata": {},
   "outputs": [],
   "source": [
    "del marxes[-1]"
   ]
  },
  {
   "cell_type": "code",
   "execution_count": 4,
   "id": "6d69343b",
   "metadata": {},
   "outputs": [
    {
     "data": {
      "text/plain": [
       "['Groucho', 'Chico', 'harpo', 'Gummo']"
      ]
     },
     "execution_count": 4,
     "metadata": {},
     "output_type": "execute_result"
    }
   ],
   "source": [
    "marxes"
   ]
  },
  {
   "cell_type": "code",
   "execution_count": 5,
   "id": "2d641568",
   "metadata": {},
   "outputs": [],
   "source": [
    "del marxes[1]"
   ]
  },
  {
   "cell_type": "code",
   "execution_count": 6,
   "id": "bb666837",
   "metadata": {},
   "outputs": [
    {
     "data": {
      "text/plain": [
       "['Groucho', 'harpo', 'Gummo']"
      ]
     },
     "execution_count": 6,
     "metadata": {},
     "output_type": "execute_result"
    }
   ],
   "source": [
    "marxes"
   ]
  },
  {
   "cell_type": "code",
   "execution_count": null,
   "id": "124ee875",
   "metadata": {},
   "outputs": [],
   "source": [
    "# del은 리스트 메서드가 아니라 파이썬 구문이다.\n",
    "# marxes[-1].del()을 수행 불가.\n",
    "# del은 할당의 반대다. \n",
    "# 객체"
   ]
  },
  {
   "cell_type": "code",
   "execution_count": 7,
   "id": "9cbbd6ad",
   "metadata": {},
   "outputs": [],
   "source": [
    "# 값으로 항목 삭제하기 : remove()"
   ]
  },
  {
   "cell_type": "code",
   "execution_count": 8,
   "id": "4055f87b",
   "metadata": {},
   "outputs": [],
   "source": [
    "marxes=['Groucho','Chico','Harpo']"
   ]
  },
  {
   "cell_type": "code",
   "execution_count": 9,
   "id": "50790d52",
   "metadata": {},
   "outputs": [],
   "source": [
    "marxes.remove('Groucho') # 리스트에서 삭제할 항목의 위치를 모른다면 \n",
    "#remove로 삭제 가능 "
   ]
  },
  {
   "cell_type": "code",
   "execution_count": 10,
   "id": "0224333a",
   "metadata": {},
   "outputs": [
    {
     "data": {
      "text/plain": [
       "['Chico', 'Harpo']"
      ]
     },
     "execution_count": 10,
     "metadata": {},
     "output_type": "execute_result"
    }
   ],
   "source": [
    "marxes"
   ]
  },
  {
   "cell_type": "code",
   "execution_count": null,
   "id": "7b440d7d",
   "metadata": {},
   "outputs": [],
   "source": [
    "# 오프셋으로 항목을 얻은 후 삭제하기: pop()\n",
    "# 삭제한다는게 핵심 "
   ]
  },
  {
   "cell_type": "code",
   "execution_count": null,
   "id": "734c59f5",
   "metadata": {},
   "outputs": [],
   "source": [
    "# pop()은 리스트에서 항목을 가져오는 동시에 그 항목을 삭제한다.\n",
    "# pop과 그 인수로 오프셋을 호출했다면, 해당 오프셋의 항목이 반환된다.\n",
    "# 인수가 없다면 기본값은 -1이다.\n",
    "# pop(0)은 리스트의 머리(시작)을 반환한다.\n",
    "# 그리고 pop()이나 pop(-1) 리스트의 꼬리(끝)을 반환한다"
   ]
  },
  {
   "cell_type": "code",
   "execution_count": 11,
   "id": "fab55c5e",
   "metadata": {},
   "outputs": [],
   "source": [
    "marxes= ['Groucho','Chico','Harpo','Zeppo']"
   ]
  },
  {
   "cell_type": "code",
   "execution_count": 12,
   "id": "a32986c4",
   "metadata": {},
   "outputs": [
    {
     "data": {
      "text/plain": [
       "'Zeppo'"
      ]
     },
     "execution_count": 12,
     "metadata": {},
     "output_type": "execute_result"
    }
   ],
   "source": [
    "marxes.pop()"
   ]
  },
  {
   "cell_type": "code",
   "execution_count": 13,
   "id": "3b3e928c",
   "metadata": {},
   "outputs": [
    {
     "data": {
      "text/plain": [
       "['Groucho', 'Chico', 'Harpo']"
      ]
     },
     "execution_count": 13,
     "metadata": {},
     "output_type": "execute_result"
    }
   ],
   "source": [
    "marxes"
   ]
  },
  {
   "cell_type": "code",
   "execution_count": 14,
   "id": "9eb00b35",
   "metadata": {},
   "outputs": [
    {
     "data": {
      "text/plain": [
       "'Chico'"
      ]
     },
     "execution_count": 14,
     "metadata": {},
     "output_type": "execute_result"
    }
   ],
   "source": [
    "marxes.pop(1)"
   ]
  },
  {
   "cell_type": "code",
   "execution_count": 15,
   "id": "a80adb09",
   "metadata": {},
   "outputs": [
    {
     "data": {
      "text/plain": [
       "['Groucho', 'Harpo']"
      ]
     },
     "execution_count": 15,
     "metadata": {},
     "output_type": "execute_result"
    }
   ],
   "source": [
    "marxes"
   ]
  },
  {
   "cell_type": "code",
   "execution_count": null,
   "id": "7446f837",
   "metadata": {},
   "outputs": [],
   "source": [
    "append()로 새로운 항목을 끝에 추가한 뒤 \n",
    "pop()으로 다시 마지막 항목을 제거했다면,\n",
    "후입선출 구조인 스택을 구현한것이다.\n",
    "\n",
    "pop(0)을 사용했다면 선입선출 자료구조인 큐를 구현한것이다.\n"
   ]
  },
  {
   "cell_type": "code",
   "execution_count": null,
   "id": "8f3029dd",
   "metadata": {},
   "outputs": [],
   "source": [
    "# 모든 항목 삭제하기 : clear()"
   ]
  },
  {
   "cell_type": "code",
   "execution_count": 16,
   "id": "ad08b353",
   "metadata": {},
   "outputs": [],
   "source": [
    "work_quotes = ['Working hard?', 'Quick question!','Number one priorities!']"
   ]
  },
  {
   "cell_type": "code",
   "execution_count": 17,
   "id": "3353ab6f",
   "metadata": {},
   "outputs": [
    {
     "data": {
      "text/plain": [
       "['Working hard?', 'Quick question!', 'Number one priorities!']"
      ]
     },
     "execution_count": 17,
     "metadata": {},
     "output_type": "execute_result"
    }
   ],
   "source": [
    "work_quotes"
   ]
  },
  {
   "cell_type": "code",
   "execution_count": 18,
   "id": "8294704e",
   "metadata": {},
   "outputs": [],
   "source": [
    "work_quotes.clear()"
   ]
  },
  {
   "cell_type": "code",
   "execution_count": 19,
   "id": "d1fac543",
   "metadata": {},
   "outputs": [
    {
     "data": {
      "text/plain": [
       "[]"
      ]
     },
     "execution_count": 19,
     "metadata": {},
     "output_type": "execute_result"
    }
   ],
   "source": [
    "work_quotes"
   ]
  },
  {
   "cell_type": "code",
   "execution_count": null,
   "id": "e482bea1",
   "metadata": {},
   "outputs": [],
   "source": [
    "# 값으로 오프셋 찾기 index()"
   ]
  },
  {
   "cell_type": "code",
   "execution_count": 20,
   "id": "b785c5fb",
   "metadata": {},
   "outputs": [],
   "source": [
    "marxes = ['Groucho','Chico','Harpo','Zeppo']"
   ]
  },
  {
   "cell_type": "code",
   "execution_count": 21,
   "id": "fb7ae129",
   "metadata": {},
   "outputs": [
    {
     "data": {
      "text/plain": [
       "1"
      ]
     },
     "execution_count": 21,
     "metadata": {},
     "output_type": "execute_result"
    }
   ],
   "source": [
    "marxes.index('Chico')"
   ]
  },
  {
   "cell_type": "code",
   "execution_count": null,
   "id": "a7ff27ad",
   "metadata": {},
   "outputs": [],
   "source": [
    "#리스트에 같은 값이 2개 이상이면 첫 번째 오프셋만 반환한다."
   ]
  },
  {
   "cell_type": "code",
   "execution_count": 22,
   "id": "1b5a4853",
   "metadata": {},
   "outputs": [],
   "source": [
    "simpsons = ['Lisa','Bart','Marge','Homer','Bart']"
   ]
  },
  {
   "cell_type": "code",
   "execution_count": 23,
   "id": "6c3e7293",
   "metadata": {},
   "outputs": [
    {
     "data": {
      "text/plain": [
       "1"
      ]
     },
     "execution_count": 23,
     "metadata": {},
     "output_type": "execute_result"
    }
   ],
   "source": [
    "simpsons.index('Bart')"
   ]
  },
  {
   "cell_type": "code",
   "execution_count": null,
   "id": "86e0ff8d",
   "metadata": {},
   "outputs": [],
   "source": [
    "# 존재여부 확인하기: in"
   ]
  },
  {
   "cell_type": "code",
   "execution_count": 25,
   "id": "b32c0093",
   "metadata": {},
   "outputs": [],
   "source": [
    "marxes = ['Groucho','Chico','Harpo','Zeppo']"
   ]
  },
  {
   "cell_type": "code",
   "execution_count": 26,
   "id": "b9a4dec9",
   "metadata": {},
   "outputs": [
    {
     "data": {
      "text/plain": [
       "True"
      ]
     },
     "execution_count": 26,
     "metadata": {},
     "output_type": "execute_result"
    }
   ],
   "source": [
    "'Groucho' in marxes"
   ]
  },
  {
   "cell_type": "code",
   "execution_count": 27,
   "id": "3bfcda1f",
   "metadata": {},
   "outputs": [
    {
     "data": {
      "text/plain": [
       "False"
      ]
     },
     "execution_count": 27,
     "metadata": {},
     "output_type": "execute_result"
    }
   ],
   "source": [
    "'Bob' in marxes"
   ]
  },
  {
   "cell_type": "code",
   "execution_count": null,
   "id": "5fc1439f",
   "metadata": {},
   "outputs": [],
   "source": [
    "# 리스트에는 같은 값이 여러개 존재할수 있는데\n",
    "# 리스트에 값이 적어도 하나 존재하면 in은 True를 반환한다."
   ]
  },
  {
   "cell_type": "code",
   "execution_count": null,
   "id": "3e38ba71",
   "metadata": {},
   "outputs": [],
   "source": []
  },
  {
   "cell_type": "code",
   "execution_count": null,
   "id": "88d687a0",
   "metadata": {},
   "outputs": [],
   "source": [
    "#값 세기 count() - 리스트에 특정 항목이 얼마나 있는지 세기 위해 count()를 사용"
   ]
  },
  {
   "cell_type": "code",
   "execution_count": 28,
   "id": "569e992d",
   "metadata": {},
   "outputs": [],
   "source": [
    "marxes = ['Groucho','Chico','Harpo']"
   ]
  },
  {
   "cell_type": "code",
   "execution_count": 29,
   "id": "cc37a125",
   "metadata": {},
   "outputs": [
    {
     "data": {
      "text/plain": [
       "1"
      ]
     },
     "execution_count": 29,
     "metadata": {},
     "output_type": "execute_result"
    }
   ],
   "source": [
    "marxes.count('Harpo')"
   ]
  },
  {
   "cell_type": "code",
   "execution_count": 30,
   "id": "666b958c",
   "metadata": {},
   "outputs": [
    {
     "data": {
      "text/plain": [
       "0"
      ]
     },
     "execution_count": 30,
     "metadata": {},
     "output_type": "execute_result"
    }
   ],
   "source": [
    "marxes.count('Bob')"
   ]
  },
  {
   "cell_type": "code",
   "execution_count": 31,
   "id": "ac36455a",
   "metadata": {},
   "outputs": [],
   "source": [
    "snl_skit = ['cheeseburger','cheeseburger','cheeseburger']"
   ]
  },
  {
   "cell_type": "code",
   "execution_count": 32,
   "id": "f123f969",
   "metadata": {},
   "outputs": [
    {
     "data": {
      "text/plain": [
       "3"
      ]
     },
     "execution_count": 32,
     "metadata": {},
     "output_type": "execute_result"
    }
   ],
   "source": [
    "snl_skit.count('cheeseburger')"
   ]
  },
  {
   "cell_type": "code",
   "execution_count": null,
   "id": "948064de",
   "metadata": {},
   "outputs": [],
   "source": [
    "# 문자열로 변환하기 : join()"
   ]
  },
  {
   "cell_type": "code",
   "execution_count": 33,
   "id": "fed9c550",
   "metadata": {},
   "outputs": [],
   "source": [
    "marxes=['Groucho','Chico','Harpo']"
   ]
  },
  {
   "cell_type": "code",
   "execution_count": 34,
   "id": "8eba8a19",
   "metadata": {},
   "outputs": [
    {
     "data": {
      "text/plain": [
       "'Groucho, Chico, Harpo'"
      ]
     },
     "execution_count": 34,
     "metadata": {},
     "output_type": "execute_result"
    }
   ],
   "source": [
    "', '.join(marxes)"
   ]
  },
  {
   "cell_type": "code",
   "execution_count": null,
   "id": "1823bf3b",
   "metadata": {},
   "outputs": [],
   "source": [
    "join()은 문자열 메서드지, 리스트 메서드가 아니다.\n",
    "marxes.join(', ')이 조금 더 직관적으로 보일지라도, 이렇게 사용할 수 없다.\n",
    "join()의 인수는 문자열 혹은 순회 가능한 문자열의 시퀀스다. (리스트 포함)\n",
    "그괴고 결과로 반환되는 값은 문자열이다. \n",
    "join()이 리스트 메서드였다면，튜플과 문자열 같은 다른 순회 가능한 객체와 함께 사용하지 못할 것이다. \n",
    "어떤 순회 가능한 타입을 처리하기 위해 각 타입을 실 제로 병합할 수 있도록 특별한 코드가 필요했다.\n",
    "다음 예제와 같이 join()을 split()의 반대 라고 생각하면 기억하기 쉬울 것이다."
   ]
  },
  {
   "cell_type": "code",
   "execution_count": 35,
   "id": "73d1790b",
   "metadata": {},
   "outputs": [],
   "source": [
    "friends = ['Harry','Hermione','Ron']"
   ]
  },
  {
   "cell_type": "code",
   "execution_count": 36,
   "id": "a92d9b06",
   "metadata": {},
   "outputs": [],
   "source": [
    "separator=' * '"
   ]
  },
  {
   "cell_type": "code",
   "execution_count": 37,
   "id": "256e69af",
   "metadata": {},
   "outputs": [],
   "source": [
    "joined = separator.join(friends)"
   ]
  },
  {
   "cell_type": "code",
   "execution_count": 38,
   "id": "c55d0dfc",
   "metadata": {},
   "outputs": [
    {
     "data": {
      "text/plain": [
       "'Harry * Hermione * Ron'"
      ]
     },
     "execution_count": 38,
     "metadata": {},
     "output_type": "execute_result"
    }
   ],
   "source": [
    "joined"
   ]
  },
  {
   "cell_type": "code",
   "execution_count": 39,
   "id": "f138cab0",
   "metadata": {},
   "outputs": [],
   "source": [
    "separated = joined.split(separator)"
   ]
  },
  {
   "cell_type": "code",
   "execution_count": 40,
   "id": "62800491",
   "metadata": {},
   "outputs": [
    {
     "data": {
      "text/plain": [
       "['Harry', 'Hermione', 'Ron']"
      ]
     },
     "execution_count": 40,
     "metadata": {},
     "output_type": "execute_result"
    }
   ],
   "source": [
    "separated"
   ]
  },
  {
   "cell_type": "code",
   "execution_count": 41,
   "id": "917d5ac0",
   "metadata": {},
   "outputs": [
    {
     "data": {
      "text/plain": [
       "True"
      ]
     },
     "execution_count": 41,
     "metadata": {},
     "output_type": "execute_result"
    }
   ],
   "source": [
    "separated == friends"
   ]
  },
  {
   "cell_type": "code",
   "execution_count": null,
   "id": "10814179",
   "metadata": {},
   "outputs": [],
   "source": [
    "# 정렬하기 : sort()와 sorted()\n",
    "# 오프셋을 이용하여 리스트를 정렬할 때도 있지만, 값을 이용하여 리스트를 정렬할때도 있음\n",
    "sort()는 리스트 자체를 내부적으로 정렬\n",
    "sorted()는 리스트의 정렬된 복사본을 반환.\n",
    "리스트의 항목이 숫자라면 오름차순(기본값)으로 정렬한다. 문자열이면 알파벳순으로 정렬한다."
   ]
  },
  {
   "cell_type": "code",
   "execution_count": 42,
   "id": "799a7d7d",
   "metadata": {},
   "outputs": [],
   "source": [
    "marxes=['Groucho','Chico','Harpo']"
   ]
  },
  {
   "cell_type": "code",
   "execution_count": 43,
   "id": "fd10e99c",
   "metadata": {},
   "outputs": [],
   "source": [
    "sorted_marxes = sorted(marxes)"
   ]
  },
  {
   "cell_type": "code",
   "execution_count": 44,
   "id": "c86be60f",
   "metadata": {},
   "outputs": [
    {
     "data": {
      "text/plain": [
       "['Chico', 'Groucho', 'Harpo']"
      ]
     },
     "execution_count": 44,
     "metadata": {},
     "output_type": "execute_result"
    }
   ],
   "source": [
    "sorted_marxes   # 이건 복사본임 원본은 변하지 않음"
   ]
  },
  {
   "cell_type": "code",
   "execution_count": 45,
   "id": "62cca5da",
   "metadata": {},
   "outputs": [
    {
     "data": {
      "text/plain": [
       "['Groucho', 'Chico', 'Harpo']"
      ]
     },
     "execution_count": 45,
     "metadata": {},
     "output_type": "execute_result"
    }
   ],
   "source": [
    "marxes"
   ]
  },
  {
   "cell_type": "code",
   "execution_count": 46,
   "id": "174fcc48",
   "metadata": {},
   "outputs": [],
   "source": [
    "marxes.sort()"
   ]
  },
  {
   "cell_type": "code",
   "execution_count": 47,
   "id": "511d1e1a",
   "metadata": {},
   "outputs": [
    {
     "data": {
      "text/plain": [
       "['Chico', 'Groucho', 'Harpo']"
      ]
     },
     "execution_count": 47,
     "metadata": {},
     "output_type": "execute_result"
    }
   ],
   "source": [
    "marxes"
   ]
  },
  {
   "cell_type": "code",
   "execution_count": null,
   "id": "0ec02edc",
   "metadata": {},
   "outputs": [],
   "source": [
    "리스트 요소들이 모두 같은 타입이면 sort는 제대로 동작\n",
    "때떄로 정수와 부동소수점 숫자 같이 혼합된 타입도 정렬할 수 있다. \n",
    "파이썬이 자동으로 타입을 변환해서 항목들을 정렬하기 때문이다"
   ]
  },
  {
   "cell_type": "code",
   "execution_count": 48,
   "id": "f679d1b9",
   "metadata": {},
   "outputs": [],
   "source": [
    "numbers = [2,1,4.0,3]"
   ]
  },
  {
   "cell_type": "code",
   "execution_count": 49,
   "id": "7f66f511",
   "metadata": {},
   "outputs": [],
   "source": [
    "numbers.sort()"
   ]
  },
  {
   "cell_type": "code",
   "execution_count": 50,
   "id": "1829610a",
   "metadata": {},
   "outputs": [
    {
     "data": {
      "text/plain": [
       "[1, 2, 3, 4.0]"
      ]
     },
     "execution_count": 50,
     "metadata": {},
     "output_type": "execute_result"
    }
   ],
   "source": [
    "numbers"
   ]
  },
  {
   "cell_type": "code",
   "execution_count": null,
   "id": "5391816f",
   "metadata": {},
   "outputs": [],
   "source": [
    "기본 정렬 방식은 오름차순임.\n",
    "내림차순으로 정렬하고 싶다면 인수에 reverse=True 를 추가하면됨"
   ]
  },
  {
   "cell_type": "code",
   "execution_count": 51,
   "id": "469a6eb6",
   "metadata": {},
   "outputs": [],
   "source": [
    "numbers=[2,1,4.0,3]"
   ]
  },
  {
   "cell_type": "code",
   "execution_count": 52,
   "id": "2309c41f",
   "metadata": {},
   "outputs": [],
   "source": [
    "numbers.sort(reverse=True) # 리버스 추가 "
   ]
  },
  {
   "cell_type": "code",
   "execution_count": 53,
   "id": "21b14f13",
   "metadata": {},
   "outputs": [
    {
     "data": {
      "text/plain": [
       "[4.0, 3, 2, 1]"
      ]
     },
     "execution_count": 53,
     "metadata": {},
     "output_type": "execute_result"
    }
   ],
   "source": [
    "numbers"
   ]
  },
  {
   "cell_type": "code",
   "execution_count": null,
   "id": "e1cd2e2a",
   "metadata": {},
   "outputs": [],
   "source": [
    "# 항목 개수 얻기: len() 리스트의 항목 수를 반환"
   ]
  },
  {
   "cell_type": "code",
   "execution_count": 54,
   "id": "b486a8f4",
   "metadata": {},
   "outputs": [],
   "source": [
    "marxes=['Groucho','Chico','Harpo']"
   ]
  },
  {
   "cell_type": "code",
   "execution_count": 55,
   "id": "273788b2",
   "metadata": {},
   "outputs": [
    {
     "data": {
      "text/plain": [
       "3"
      ]
     },
     "execution_count": 55,
     "metadata": {},
     "output_type": "execute_result"
    }
   ],
   "source": [
    "len(marxes)"
   ]
  },
  {
   "cell_type": "code",
   "execution_count": null,
   "id": "b5791959",
   "metadata": {},
   "outputs": [],
   "source": [
    "# 할당하기 = \n",
    "# 한 리스트를 변수 두 곳에 할당했을때, 한 리스트 변경시 다른 리스트도 같이 변경  "
   ]
  },
  {
   "cell_type": "code",
   "execution_count": 56,
   "id": "22cecc69",
   "metadata": {},
   "outputs": [],
   "source": [
    "a =[1,2,3]"
   ]
  },
  {
   "cell_type": "code",
   "execution_count": 57,
   "id": "56f3389b",
   "metadata": {},
   "outputs": [
    {
     "data": {
      "text/plain": [
       "[1, 2, 3]"
      ]
     },
     "execution_count": 57,
     "metadata": {},
     "output_type": "execute_result"
    }
   ],
   "source": [
    "a"
   ]
  },
  {
   "cell_type": "code",
   "execution_count": 58,
   "id": "5266c44d",
   "metadata": {},
   "outputs": [],
   "source": [
    "b=a"
   ]
  },
  {
   "cell_type": "code",
   "execution_count": 59,
   "id": "e09b7646",
   "metadata": {},
   "outputs": [
    {
     "data": {
      "text/plain": [
       "[1, 2, 3]"
      ]
     },
     "execution_count": 59,
     "metadata": {},
     "output_type": "execute_result"
    }
   ],
   "source": [
    "b"
   ]
  },
  {
   "cell_type": "code",
   "execution_count": 60,
   "id": "fced50c4",
   "metadata": {},
   "outputs": [],
   "source": [
    "a[0] = 'surprise'"
   ]
  },
  {
   "cell_type": "code",
   "execution_count": 61,
   "id": "7c14ffb2",
   "metadata": {},
   "outputs": [
    {
     "data": {
      "text/plain": [
       "['surprise', 2, 3]"
      ]
     },
     "execution_count": 61,
     "metadata": {},
     "output_type": "execute_result"
    }
   ],
   "source": [
    "a"
   ]
  },
  {
   "cell_type": "code",
   "execution_count": 62,
   "id": "60f608b4",
   "metadata": {},
   "outputs": [
    {
     "data": {
      "text/plain": [
       "['surprise', 2, 3]"
      ]
     },
     "execution_count": 62,
     "metadata": {},
     "output_type": "execute_result"
    }
   ],
   "source": [
    "b"
   ]
  },
  {
   "cell_type": "code",
   "execution_count": null,
   "id": "ff7bd7d9",
   "metadata": {},
   "outputs": [],
   "source": [
    "# b는 단지 같은 리스트 객체 a를 참조한다.\n",
    "# 그러므로 a또는 b 리스트 내용을 변경하면 두 변수 모두에 반영 "
   ]
  },
  {
   "cell_type": "code",
   "execution_count": 64,
   "id": "8a458b43",
   "metadata": {},
   "outputs": [],
   "source": [
    "b[0] ='I hate surprises'"
   ]
  },
  {
   "cell_type": "code",
   "execution_count": 65,
   "id": "ed3d0879",
   "metadata": {},
   "outputs": [
    {
     "data": {
      "text/plain": [
       "['I hate surprises', 2, 3]"
      ]
     },
     "execution_count": 65,
     "metadata": {},
     "output_type": "execute_result"
    }
   ],
   "source": [
    "b"
   ]
  },
  {
   "cell_type": "code",
   "execution_count": 66,
   "id": "8a70da94",
   "metadata": {},
   "outputs": [
    {
     "data": {
      "text/plain": [
       "['I hate surprises', 2, 3]"
      ]
     },
     "execution_count": 66,
     "metadata": {},
     "output_type": "execute_result"
    }
   ],
   "source": [
    "a"
   ]
  },
  {
   "cell_type": "code",
   "execution_count": null,
   "id": "2f515a26",
   "metadata": {},
   "outputs": [],
   "source": [
    "# 복사하기 copy(), list() , 슬라이스\n",
    "# 한 리스트를 새로운 리스트로 복사가능 "
   ]
  },
  {
   "cell_type": "code",
   "execution_count": 67,
   "id": "86212982",
   "metadata": {},
   "outputs": [],
   "source": [
    "a=[1,2,3]"
   ]
  },
  {
   "cell_type": "code",
   "execution_count": 68,
   "id": "2978c394",
   "metadata": {},
   "outputs": [],
   "source": [
    "b=a.copy()"
   ]
  },
  {
   "cell_type": "code",
   "execution_count": 69,
   "id": "5c12cda4",
   "metadata": {},
   "outputs": [],
   "source": [
    "c= list(a)"
   ]
  },
  {
   "cell_type": "code",
   "execution_count": 70,
   "id": "ba2c2807",
   "metadata": {},
   "outputs": [],
   "source": [
    "d= a[:]"
   ]
  },
  {
   "cell_type": "code",
   "execution_count": null,
   "id": "8441a98a",
   "metadata": {},
   "outputs": [],
   "source": [
    "b,c,d,는 a의 복사본이다. 자신만의 값을 가진 새로운 객체임.\n",
    "복사본을 바꾸더라도 원본에 영향없음"
   ]
  },
  {
   "cell_type": "code",
   "execution_count": 71,
   "id": "b6f3d82c",
   "metadata": {},
   "outputs": [],
   "source": [
    "a[0] = 'integer lists'"
   ]
  },
  {
   "cell_type": "code",
   "execution_count": 72,
   "id": "272b0526",
   "metadata": {},
   "outputs": [
    {
     "data": {
      "text/plain": [
       "['integer lists', 2, 3]"
      ]
     },
     "execution_count": 72,
     "metadata": {},
     "output_type": "execute_result"
    }
   ],
   "source": [
    "a"
   ]
  },
  {
   "cell_type": "code",
   "execution_count": 73,
   "id": "0ad37b2f",
   "metadata": {},
   "outputs": [
    {
     "data": {
      "text/plain": [
       "[1, 2, 3]"
      ]
     },
     "execution_count": 73,
     "metadata": {},
     "output_type": "execute_result"
    }
   ],
   "source": [
    "b"
   ]
  },
  {
   "cell_type": "code",
   "execution_count": 74,
   "id": "8e3aacce",
   "metadata": {},
   "outputs": [
    {
     "data": {
      "text/plain": [
       "[1, 2, 3]"
      ]
     },
     "execution_count": 74,
     "metadata": {},
     "output_type": "execute_result"
    }
   ],
   "source": [
    "c"
   ]
  },
  {
   "cell_type": "code",
   "execution_count": 75,
   "id": "b4394d5c",
   "metadata": {},
   "outputs": [
    {
     "data": {
      "text/plain": [
       "[1, 2, 3]"
      ]
     },
     "execution_count": 75,
     "metadata": {},
     "output_type": "execute_result"
    }
   ],
   "source": [
    "d"
   ]
  },
  {
   "cell_type": "code",
   "execution_count": null,
   "id": "03151cde",
   "metadata": {},
   "outputs": [],
   "source": [
    "# 깊은복사 deepcopy()\n",
    "리스트 값이 모두 불변이면 copy는 제대로 작동함\n",
    "리스트,튜플,딕셔너리와 같은 가변객체는 참조일뿐, 원본과 사본의 변경사항을 모두 반영함."
   ]
  },
  {
   "cell_type": "code",
   "execution_count": 76,
   "id": "682c33e1",
   "metadata": {},
   "outputs": [],
   "source": [
    "a=[1,2,[8,9]]"
   ]
  },
  {
   "cell_type": "code",
   "execution_count": 77,
   "id": "e843a17c",
   "metadata": {},
   "outputs": [],
   "source": [
    "b= a.copy()"
   ]
  },
  {
   "cell_type": "code",
   "execution_count": 78,
   "id": "040b2e90",
   "metadata": {},
   "outputs": [],
   "source": [
    "c = list(a)"
   ]
  },
  {
   "cell_type": "code",
   "execution_count": 79,
   "id": "f67314e4",
   "metadata": {},
   "outputs": [],
   "source": [
    "d = a[:]"
   ]
  },
  {
   "cell_type": "code",
   "execution_count": 80,
   "id": "8e196688",
   "metadata": {},
   "outputs": [
    {
     "data": {
      "text/plain": [
       "[1, 2, [8, 9]]"
      ]
     },
     "execution_count": 80,
     "metadata": {},
     "output_type": "execute_result"
    }
   ],
   "source": [
    "a"
   ]
  },
  {
   "cell_type": "code",
   "execution_count": 81,
   "id": "d128d214",
   "metadata": {},
   "outputs": [
    {
     "data": {
      "text/plain": [
       "[1, 2, [8, 9]]"
      ]
     },
     "execution_count": 81,
     "metadata": {},
     "output_type": "execute_result"
    }
   ],
   "source": [
    "b"
   ]
  },
  {
   "cell_type": "code",
   "execution_count": 82,
   "id": "09e2abf4",
   "metadata": {},
   "outputs": [
    {
     "data": {
      "text/plain": [
       "[1, 2, [8, 9]]"
      ]
     },
     "execution_count": 82,
     "metadata": {},
     "output_type": "execute_result"
    }
   ],
   "source": [
    "c"
   ]
  },
  {
   "cell_type": "code",
   "execution_count": 83,
   "id": "92b2985a",
   "metadata": {},
   "outputs": [
    {
     "data": {
      "text/plain": [
       "[1, 2, [8, 9]]"
      ]
     },
     "execution_count": 83,
     "metadata": {},
     "output_type": "execute_result"
    }
   ],
   "source": [
    "d #  이제 하위 리스트의 항목을 변경해보자."
   ]
  },
  {
   "cell_type": "code",
   "execution_count": 84,
   "id": "9ff20a03",
   "metadata": {},
   "outputs": [],
   "source": [
    "a[2][1] =10"
   ]
  },
  {
   "cell_type": "code",
   "execution_count": 85,
   "id": "611acd24",
   "metadata": {},
   "outputs": [
    {
     "data": {
      "text/plain": [
       "[1, 2, [8, 10]]"
      ]
     },
     "execution_count": 85,
     "metadata": {},
     "output_type": "execute_result"
    }
   ],
   "source": [
    "a"
   ]
  },
  {
   "cell_type": "code",
   "execution_count": 86,
   "id": "2f0212f2",
   "metadata": {},
   "outputs": [
    {
     "data": {
      "text/plain": [
       "[1, 2, [8, 10]]"
      ]
     },
     "execution_count": 86,
     "metadata": {},
     "output_type": "execute_result"
    }
   ],
   "source": [
    "b"
   ]
  },
  {
   "cell_type": "code",
   "execution_count": 87,
   "id": "42668e61",
   "metadata": {},
   "outputs": [
    {
     "data": {
      "text/plain": [
       "[1, 2, [8, 10]]"
      ]
     },
     "execution_count": 87,
     "metadata": {},
     "output_type": "execute_result"
    }
   ],
   "source": [
    "c"
   ]
  },
  {
   "cell_type": "code",
   "execution_count": 88,
   "id": "8e8f8eec",
   "metadata": {},
   "outputs": [
    {
     "data": {
      "text/plain": [
       "[1, 2, [8, 10]]"
      ]
     },
     "execution_count": 88,
     "metadata": {},
     "output_type": "execute_result"
    }
   ],
   "source": [
    "d"
   ]
  },
  {
   "cell_type": "code",
   "execution_count": null,
   "id": "bd63ebc1",
   "metadata": {},
   "outputs": [],
   "source": [
    "a[2]의 값이 리스트이며，해당 항목을 변경할수 있다. 위에서 얕은복사 사용"
   ]
  },
  {
   "cell_type": "code",
   "execution_count": 90,
   "id": "1e5f9cbe",
   "metadata": {},
   "outputs": [],
   "source": [
    "import copy # 위 문제를 해결하기 위해 깊은복사 수행하는 deepcopy() 메서드를 사용"
   ]
  },
  {
   "cell_type": "code",
   "execution_count": 91,
   "id": "0831f2d2",
   "metadata": {},
   "outputs": [],
   "source": [
    "a= [1,2,[8,9]]"
   ]
  },
  {
   "cell_type": "code",
   "execution_count": 92,
   "id": "cadae656",
   "metadata": {},
   "outputs": [],
   "source": [
    "b= copy.deepcopy(a)"
   ]
  },
  {
   "cell_type": "code",
   "execution_count": 93,
   "id": "ce619043",
   "metadata": {},
   "outputs": [
    {
     "data": {
      "text/plain": [
       "[1, 2, [8, 9]]"
      ]
     },
     "execution_count": 93,
     "metadata": {},
     "output_type": "execute_result"
    }
   ],
   "source": [
    "a"
   ]
  },
  {
   "cell_type": "code",
   "execution_count": 94,
   "id": "ccd3f9a1",
   "metadata": {},
   "outputs": [
    {
     "data": {
      "text/plain": [
       "[1, 2, [8, 9]]"
      ]
     },
     "execution_count": 94,
     "metadata": {},
     "output_type": "execute_result"
    }
   ],
   "source": [
    "b"
   ]
  },
  {
   "cell_type": "code",
   "execution_count": 95,
   "id": "79c6e312",
   "metadata": {},
   "outputs": [
    {
     "data": {
      "text/plain": [
       "[1, 2, [8, 10]]"
      ]
     },
     "execution_count": 95,
     "metadata": {},
     "output_type": "execute_result"
    }
   ],
   "source": [
    "c"
   ]
  },
  {
   "cell_type": "code",
   "execution_count": 96,
   "id": "9eb2a9b5",
   "metadata": {},
   "outputs": [
    {
     "data": {
      "text/plain": [
       "[1, 2, [8, 10]]"
      ]
     },
     "execution_count": 96,
     "metadata": {},
     "output_type": "execute_result"
    }
   ],
   "source": [
    "d"
   ]
  },
  {
   "cell_type": "code",
   "execution_count": null,
   "id": "ac0ad979",
   "metadata": {},
   "outputs": [],
   "source": [
    "deepcopy()는 하위에 중첩된 리스트,딕셔너리,기타 다른 객체를 모두 복사 (자세한내용은 9장에서)"
   ]
  },
  {
   "cell_type": "code",
   "execution_count": 97,
   "id": "0aa695d4",
   "metadata": {},
   "outputs": [],
   "source": [
    "a[2][1] =10"
   ]
  },
  {
   "cell_type": "code",
   "execution_count": 98,
   "id": "5e775542",
   "metadata": {},
   "outputs": [
    {
     "data": {
      "text/plain": [
       "[1, 2, [8, 10]]"
      ]
     },
     "execution_count": 98,
     "metadata": {},
     "output_type": "execute_result"
    }
   ],
   "source": [
    "a"
   ]
  },
  {
   "cell_type": "code",
   "execution_count": 99,
   "id": "a5489f91",
   "metadata": {},
   "outputs": [
    {
     "data": {
      "text/plain": [
       "[1, 2, [8, 9]]"
      ]
     },
     "execution_count": 99,
     "metadata": {},
     "output_type": "execute_result"
    }
   ],
   "source": [
    "b # deepcopy 사용"
   ]
  },
  {
   "cell_type": "code",
   "execution_count": 100,
   "id": "3e75b071",
   "metadata": {},
   "outputs": [
    {
     "data": {
      "text/plain": [
       "[1, 2, [8, 10]]"
      ]
     },
     "execution_count": 100,
     "metadata": {},
     "output_type": "execute_result"
    }
   ],
   "source": [
    "c"
   ]
  },
  {
   "cell_type": "code",
   "execution_count": 101,
   "id": "b7c35319",
   "metadata": {},
   "outputs": [
    {
     "data": {
      "text/plain": [
       "[1, 2, [8, 10]]"
      ]
     },
     "execution_count": 101,
     "metadata": {},
     "output_type": "execute_result"
    }
   ],
   "source": [
    "d"
   ]
  },
  {
   "cell_type": "code",
   "execution_count": null,
   "id": "01dbab4b",
   "metadata": {},
   "outputs": [],
   "source": [
    "# 리스트 비교 \n",
    "== , < 등과 같은 비교연산자 이용해서 리스트를 직접 비교가능\n",
    "비교연산자는 두 리스트의 같은 위치의 오프셋 항목을 비교\n",
    "리스트 a가 리스트 b보다 길이가 짧고, 모든 요소가 같으면 a는 b보다 작다."
   ]
  },
  {
   "cell_type": "code",
   "execution_count": 102,
   "id": "d2047ad4",
   "metadata": {},
   "outputs": [],
   "source": [
    "a=[7,2]"
   ]
  },
  {
   "cell_type": "code",
   "execution_count": 103,
   "id": "9872dae7",
   "metadata": {},
   "outputs": [],
   "source": [
    "b=[7,2,9]"
   ]
  },
  {
   "cell_type": "code",
   "execution_count": 104,
   "id": "affb1c17",
   "metadata": {},
   "outputs": [
    {
     "data": {
      "text/plain": [
       "False"
      ]
     },
     "execution_count": 104,
     "metadata": {},
     "output_type": "execute_result"
    }
   ],
   "source": [
    "a==b"
   ]
  },
  {
   "cell_type": "code",
   "execution_count": 105,
   "id": "58705ec3",
   "metadata": {},
   "outputs": [
    {
     "data": {
      "text/plain": [
       "True"
      ]
     },
     "execution_count": 105,
     "metadata": {},
     "output_type": "execute_result"
    }
   ],
   "source": [
    "a<=b"
   ]
  },
  {
   "cell_type": "code",
   "execution_count": 106,
   "id": "ba7e1ab9",
   "metadata": {},
   "outputs": [
    {
     "data": {
      "text/plain": [
       "True"
      ]
     },
     "execution_count": 106,
     "metadata": {},
     "output_type": "execute_result"
    }
   ],
   "source": [
    "a<b"
   ]
  },
  {
   "cell_type": "code",
   "execution_count": 107,
   "id": "f6384c99",
   "metadata": {},
   "outputs": [],
   "source": [
    "a=[3,2]"
   ]
  },
  {
   "cell_type": "code",
   "execution_count": 108,
   "id": "c5c5325a",
   "metadata": {},
   "outputs": [],
   "source": [
    "b=[1,2,3]"
   ]
  },
  {
   "cell_type": "code",
   "execution_count": 109,
   "id": "0de7e4b4",
   "metadata": {},
   "outputs": [
    {
     "data": {
      "text/plain": [
       "True"
      ]
     },
     "execution_count": 109,
     "metadata": {},
     "output_type": "execute_result"
    }
   ],
   "source": [
    "a>b"
   ]
  },
  {
   "cell_type": "code",
   "execution_count": null,
   "id": "e10386fe",
   "metadata": {},
   "outputs": [],
   "source": [
    "# 순회하기 for와 in \n",
    "# 6장에서 for문을 사용하여 문자열을 순회 했지만,\n",
    "# 보통 리스트를 순회하는 것이 더 일반적이다."
   ]
  },
  {
   "cell_type": "code",
   "execution_count": 110,
   "id": "01311c7a",
   "metadata": {},
   "outputs": [],
   "source": [
    "cheeses= ['brie','gjetost','havarti']"
   ]
  },
  {
   "cell_type": "code",
   "execution_count": 111,
   "id": "6737a885",
   "metadata": {},
   "outputs": [
    {
     "name": "stdout",
     "output_type": "stream",
     "text": [
      "brie\n",
      "gjetost\n",
      "havarti\n"
     ]
    }
   ],
   "source": [
    "for cheese in cheeses:\n",
    "    print(cheese)"
   ]
  },
  {
   "cell_type": "code",
   "execution_count": 113,
   "id": "c62d3bd9",
   "metadata": {},
   "outputs": [
    {
     "name": "stdout",
     "output_type": "stream",
     "text": [
      "brie\n",
      "I won't eat anything that starts with 'g'\n"
     ]
    }
   ],
   "source": [
    "for cheese in cheeses:\n",
    "    if cheese.startswith('g'):\n",
    "        print(\"I won't eat anything that starts with 'g'\")\n",
    "        break\n",
    "    else:\n",
    "        print(cheese)"
   ]
  },
  {
   "cell_type": "code",
   "execution_count": 114,
   "id": "c61637cb",
   "metadata": {},
   "outputs": [
    {
     "name": "stdout",
     "output_type": "stream",
     "text": [
      "brie\n",
      "gjetost\n",
      "havarti\n",
      "Didn't find anything that started with 'x'\n"
     ]
    }
   ],
   "source": [
    "# for문이 break문 없이 완료되었다면 다음과 같이 else문을 사용가능\n",
    "for cheese in cheeses:\n",
    "    if cheese.startswith('x'):\n",
    "        print(\"I won't eat anything that starts with 'g'\")\n",
    "        break\n",
    "    else:\n",
    "        print(cheese)\n",
    "else: \n",
    "    print(\"Didn't find anything that started with 'x'\")"
   ]
  },
  {
   "cell_type": "code",
   "execution_count": null,
   "id": "a25df575",
   "metadata": {},
   "outputs": [],
   "source": [
    "in 문의 리스트에 항목이 없어서 for문이 실행되지 않을 때도 else문이 실행된다."
   ]
  },
  {
   "cell_type": "code",
   "execution_count": 115,
   "id": "5f2d5d9a",
   "metadata": {},
   "outputs": [
    {
     "name": "stdout",
     "output_type": "stream",
     "text": [
      "This is not much of a cheese shop, is it?\n"
     ]
    }
   ],
   "source": [
    "cheeses = []\n",
    "for cheese in cheeses:\n",
    "    print('This shop has some lovely', cheese)\n",
    "    break\n",
    "else: # break문이 실행되지 않으면 실행된다.\n",
    "    print('This is not much of a cheese shop, is it?')\n",
    "\n",
    "# cheeses 리스트가  비어있어서 for 문이 수행되지 않았다. 역시 break 문도 수행x"
   ]
  },
  {
   "cell_type": "code",
   "execution_count": null,
   "id": "64c6ece1",
   "metadata": {},
   "outputs": [],
   "source": [
    "# 여러 시퀀스 순회하기 : zip()  함수로 여러 시퀀스를 병렬로 순회 169p"
   ]
  },
  {
   "cell_type": "code",
   "execution_count": 116,
   "id": "58f25a85",
   "metadata": {},
   "outputs": [],
   "source": [
    "days = ['Monday','Tuesday','Wednesday']"
   ]
  },
  {
   "cell_type": "code",
   "execution_count": 117,
   "id": "38251837",
   "metadata": {},
   "outputs": [],
   "source": [
    "fruits = ['banana','orange','peach']"
   ]
  },
  {
   "cell_type": "code",
   "execution_count": 118,
   "id": "1868796b",
   "metadata": {},
   "outputs": [],
   "source": [
    "drinks = ['coffee','tea','beer']"
   ]
  },
  {
   "cell_type": "code",
   "execution_count": 119,
   "id": "60a0b6b3",
   "metadata": {},
   "outputs": [],
   "source": [
    "desserts=['tiramisu','ice cream','pie','pudding']"
   ]
  },
  {
   "cell_type": "code",
   "execution_count": 120,
   "id": "d41fc12f",
   "metadata": {},
   "outputs": [
    {
     "name": "stdout",
     "output_type": "stream",
     "text": [
      "Monday drink coffee -eat banana - enjoy tiramisu\n",
      "Tuesday drink tea -eat orange - enjoy ice cream\n",
      "Wednesday drink beer -eat peach - enjoy pie\n"
     ]
    }
   ],
   "source": [
    "for day,fruit,drink,dessert in zip(days, fruits, drinks,desserts):\n",
    "    print(day, \"drink\",drink, \"-eat\",fruit, \"- enjoy\", dessert)"
   ]
  },
  {
   "cell_type": "code",
   "execution_count": null,
   "id": "6da8b648",
   "metadata": {},
   "outputs": [],
   "source": [
    "여러 시퀀스중 가장 짧은 시퀀스가 완료되면 zip()은 멈춘다.\n",
    "푸딩을 사용하고싶으면 다른 리스트를 확장해야함"
   ]
  },
  {
   "cell_type": "code",
   "execution_count": null,
   "id": "d379ad2d",
   "metadata": {},
   "outputs": [],
   "source": []
  },
  {
   "cell_type": "code",
   "execution_count": 122,
   "id": "0b885885",
   "metadata": {},
   "outputs": [],
   "source": [
    "english = 'Monday','Tuesday','Wednesday'"
   ]
  },
  {
   "cell_type": "code",
   "execution_count": 123,
   "id": "f7ae0465",
   "metadata": {},
   "outputs": [],
   "source": [
    "french = 'Lundi','Mardi','Mercredi'"
   ]
  },
  {
   "cell_type": "code",
   "execution_count": null,
   "id": "b060ee59",
   "metadata": {},
   "outputs": [],
   "source": [
    "# 두개의 튜플을 만들기 위해 zip()을 사용.\n",
    "# zip()에 의해 반환되는 값은 튜플이나 리스트 자신이 아니라 \n",
    "# 하나로 반환될 수 있는 순회 가능한 값이다."
   ]
  },
  {
   "cell_type": "code",
   "execution_count": 124,
   "id": "e04a11bd",
   "metadata": {},
   "outputs": [
    {
     "data": {
      "text/plain": [
       "[('Monday', 'Lundi'), ('Tuesday', 'Mardi'), ('Wednesday', 'Mercredi')]"
      ]
     },
     "execution_count": 124,
     "metadata": {},
     "output_type": "execute_result"
    }
   ],
   "source": [
    "list( zip(english,french))"
   ]
  },
  {
   "cell_type": "code",
   "execution_count": 125,
   "id": "b46e287a",
   "metadata": {},
   "outputs": [
    {
     "data": {
      "text/plain": [
       "{'Monday': 'Lundi', 'Tuesday': 'Mardi', 'Wednesday': 'Mercredi'}"
      ]
     },
     "execution_count": 125,
     "metadata": {},
     "output_type": "execute_result"
    }
   ],
   "source": [
    "dict(zip(english,french)) # zip()의 결과를 dict()에 넣어보기 -> 작은 프랑스어 사전 생성됨"
   ]
  },
  {
   "cell_type": "code",
   "execution_count": null,
   "id": "0db27015",
   "metadata": {},
   "outputs": [],
   "source": [
    "# 리스트 컴프리헨션 for/in 문의 순회 기능을 가진 리스트 컴프리헨션을 통해 리스트를 생성 "
   ]
  },
  {
   "cell_type": "code",
   "execution_count": 126,
   "id": "94db1f2d",
   "metadata": {},
   "outputs": [],
   "source": [
    "number_list = []"
   ]
  },
  {
   "cell_type": "code",
   "execution_count": 127,
   "id": "7486dfbd",
   "metadata": {},
   "outputs": [],
   "source": [
    "number_list.append(1)"
   ]
  },
  {
   "cell_type": "code",
   "execution_count": 129,
   "id": "2302c13a",
   "metadata": {},
   "outputs": [],
   "source": [
    "number_list.append(2)"
   ]
  },
  {
   "cell_type": "code",
   "execution_count": 130,
   "id": "8cda9820",
   "metadata": {},
   "outputs": [],
   "source": [
    "number_list.append(3)"
   ]
  },
  {
   "cell_type": "code",
   "execution_count": 131,
   "id": "c13aeb37",
   "metadata": {},
   "outputs": [],
   "source": [
    "number_list.append(4)"
   ]
  },
  {
   "cell_type": "code",
   "execution_count": 132,
   "id": "df93730b",
   "metadata": {},
   "outputs": [],
   "source": [
    "number_list.append(5)"
   ]
  },
  {
   "cell_type": "code",
   "execution_count": 133,
   "id": "cf07a3bb",
   "metadata": {},
   "outputs": [
    {
     "data": {
      "text/plain": [
       "[1, 2, 3, 4, 5]"
      ]
     },
     "execution_count": 133,
     "metadata": {},
     "output_type": "execute_result"
    }
   ],
   "source": [
    "number_list #1 "
   ]
  },
  {
   "cell_type": "code",
   "execution_count": 137,
   "id": "91c0b202",
   "metadata": {},
   "outputs": [],
   "source": [
    "number_list=[]"
   ]
  },
  {
   "cell_type": "code",
   "execution_count": 139,
   "id": "165c7ddd",
   "metadata": {},
   "outputs": [],
   "source": [
    "for number in range(1,6):\n",
    "    number_list.append(number)"
   ]
  },
  {
   "cell_type": "code",
   "execution_count": 140,
   "id": "dc130260",
   "metadata": {},
   "outputs": [
    {
     "data": {
      "text/plain": [
       "[1, 2, 3, 4, 5]"
      ]
     },
     "execution_count": 140,
     "metadata": {},
     "output_type": "execute_result"
    }
   ],
   "source": [
    "number_list #2 "
   ]
  },
  {
   "cell_type": "code",
   "execution_count": 141,
   "id": "5e8fcdd0",
   "metadata": {},
   "outputs": [],
   "source": [
    "number_list = list(range(1,6)) # 3"
   ]
  },
  {
   "cell_type": "code",
   "execution_count": 142,
   "id": "6c060b6f",
   "metadata": {},
   "outputs": [
    {
     "data": {
      "text/plain": [
       "[1, 2, 3, 4, 5]"
      ]
     },
     "execution_count": 142,
     "metadata": {},
     "output_type": "execute_result"
    }
   ],
   "source": [
    "number_list"
   ]
  },
  {
   "cell_type": "code",
   "execution_count": null,
   "id": "3c131773",
   "metadata": {},
   "outputs": [],
   "source": [
    "# 위의 접근 방식은 동일한 결과를 생성함.\n",
    "# 리스트 컴프리헨션을 사용하는게 조금 더 파이써닉한 방법임\n",
    "[표현식 for 항목 in 순회 가능한 객체]"
   ]
  },
  {
   "cell_type": "code",
   "execution_count": 143,
   "id": "04ac7ab0",
   "metadata": {},
   "outputs": [],
   "source": [
    "number_list = [number for number in range(1,6)]  #앞의 number와 뒤에 number는 서로 다른거임"
   ]
  },
  {
   "cell_type": "code",
   "execution_count": 144,
   "id": "8f10aac1",
   "metadata": {},
   "outputs": [
    {
     "data": {
      "text/plain": [
       "[1, 2, 3, 4, 5]"
      ]
     },
     "execution_count": 144,
     "metadata": {},
     "output_type": "execute_result"
    }
   ],
   "source": [
    "number_list"
   ]
  },
  {
   "cell_type": "code",
   "execution_count": null,
   "id": "44f40519",
   "metadata": {},
   "outputs": [],
   "source": [
    "조건식도 넣을 수 있음 \n",
    "[표현식 for 항목 in 순회 가능한 객체 if 조건]"
   ]
  },
  {
   "cell_type": "code",
   "execution_count": 145,
   "id": "956e249c",
   "metadata": {},
   "outputs": [],
   "source": [
    "a_list =[number for number in range(1,6) if number %2 ==1]"
   ]
  },
  {
   "cell_type": "code",
   "execution_count": 147,
   "id": "a7c7f862",
   "metadata": {},
   "outputs": [
    {
     "data": {
      "text/plain": [
       "[1, 3, 5]"
      ]
     },
     "execution_count": 147,
     "metadata": {},
     "output_type": "execute_result"
    }
   ],
   "source": [
    "a_list"
   ]
  },
  {
   "cell_type": "code",
   "execution_count": null,
   "id": "cad7b667",
   "metadata": {},
   "outputs": [],
   "source": [
    "이제 컴프리헨션이 지금까지 사용했던 방식보다 좀 더 단순하면서 강력하다"
   ]
  },
  {
   "cell_type": "code",
   "execution_count": 152,
   "id": "493b83c9",
   "metadata": {},
   "outputs": [],
   "source": [
    "a_list=[]"
   ]
  },
  {
   "cell_type": "code",
   "execution_count": 153,
   "id": "491368e3",
   "metadata": {},
   "outputs": [],
   "source": [
    "for number in range(1,6):\n",
    "    if number %2 ==1:\n",
    "        a_list.append(number)"
   ]
  },
  {
   "cell_type": "code",
   "execution_count": 154,
   "id": "150dedb9",
   "metadata": {},
   "outputs": [
    {
     "data": {
      "text/plain": [
       "[1, 3, 5]"
      ]
     },
     "execution_count": 154,
     "metadata": {},
     "output_type": "execute_result"
    }
   ],
   "source": [
    "a_list"
   ]
  },
  {
   "cell_type": "code",
   "execution_count": null,
   "id": "a6ecd77c",
   "metadata": {},
   "outputs": [],
   "source": [
    "# 루프가 중첩될 수 있는 것처럼 컴프리헨션에서 루프에 상응하는 하나 이상의 for ... 절을 사용할 수 있다."
   ]
  },
  {
   "cell_type": "code",
   "execution_count": null,
   "id": "397566d4",
   "metadata": {},
   "outputs": [],
   "source": [
    "# 일반적인 중첩 루프 결과"
   ]
  },
  {
   "cell_type": "code",
   "execution_count": 155,
   "id": "142a56a3",
   "metadata": {},
   "outputs": [],
   "source": [
    "rows = range(1,4)"
   ]
  },
  {
   "cell_type": "code",
   "execution_count": 156,
   "id": "bf7e9554",
   "metadata": {},
   "outputs": [],
   "source": [
    "cols = range(1,3)"
   ]
  },
  {
   "cell_type": "code",
   "execution_count": 157,
   "id": "7a011322",
   "metadata": {},
   "outputs": [
    {
     "name": "stdout",
     "output_type": "stream",
     "text": [
      "1 1\n",
      "1 2\n",
      "2 1\n",
      "2 2\n",
      "3 1\n",
      "3 2\n"
     ]
    }
   ],
   "source": [
    "for row in rows:\n",
    "    for col in cols:\n",
    "        print(row, col)"
   ]
  },
  {
   "cell_type": "code",
   "execution_count": null,
   "id": "b115ca56",
   "metadata": {},
   "outputs": [],
   "source": [
    "# 컴프리헨션 사용 (row,col) 튜플 리스트를 만들어서 cells 변수에 할당."
   ]
  },
  {
   "cell_type": "code",
   "execution_count": 159,
   "id": "d96e2338",
   "metadata": {},
   "outputs": [],
   "source": [
    "rows = range(1,4)"
   ]
  },
  {
   "cell_type": "code",
   "execution_count": 160,
   "id": "ccc8909d",
   "metadata": {},
   "outputs": [],
   "source": [
    "cols = range(1,3)"
   ]
  },
  {
   "cell_type": "code",
   "execution_count": 161,
   "id": "eb9ba228",
   "metadata": {},
   "outputs": [],
   "source": [
    "cells = [(row,col) for row in rows for col in cols]"
   ]
  },
  {
   "cell_type": "code",
   "execution_count": 162,
   "id": "79748c82",
   "metadata": {},
   "outputs": [
    {
     "name": "stdout",
     "output_type": "stream",
     "text": [
      "(1, 1)\n",
      "(1, 2)\n",
      "(2, 1)\n",
      "(2, 2)\n",
      "(3, 1)\n",
      "(3, 2)\n"
     ]
    }
   ],
   "source": [
    "for cell in cells:\n",
    "    print(cell)"
   ]
  },
  {
   "cell_type": "code",
   "execution_count": null,
   "id": "3824336d",
   "metadata": {},
   "outputs": [],
   "source": [
    "# 그리고 cells 리스트를 순회한 것처럼，\n",
    "# 각 튜플로부터 row와 col의 값만 출력하기 위해 튜플 언패킹을 할 수 있다."
   ]
  },
  {
   "cell_type": "code",
   "execution_count": 163,
   "id": "92fe02ed",
   "metadata": {},
   "outputs": [
    {
     "name": "stdout",
     "output_type": "stream",
     "text": [
      "1 1\n",
      "1 2\n",
      "2 1\n",
      "2 2\n",
      "3 1\n",
      "3 2\n"
     ]
    }
   ],
   "source": [
    "for row, col in cells:\n",
    "    print(row,col)"
   ]
  },
  {
   "cell_type": "code",
   "execution_count": null,
   "id": "1a3c6092",
   "metadata": {},
   "outputs": [],
   "source": [
    "# 리스트 컴프리헨션의 for row...와 for col ... 코드에서 자신의 if 테스트 만들기 가능 "
   ]
  },
  {
   "cell_type": "code",
   "execution_count": null,
   "id": "2be77b76",
   "metadata": {},
   "outputs": [],
   "source": []
  },
  {
   "cell_type": "code",
   "execution_count": null,
   "id": "ee81c814",
   "metadata": {},
   "outputs": [],
   "source": [
    "# 7.2.29 리스트의 리스트\n",
    "# 리스트는 다음과 같은 리스트뿐만 아니라 다른 타입의 요소도 포함할 수 있다."
   ]
  },
  {
   "cell_type": "code",
   "execution_count": 173,
   "id": "1116bf6e",
   "metadata": {},
   "outputs": [],
   "source": [
    "small_birds = ['hummingbird', 'finch']\n",
    "extinct_birds = ['dodo', 'passenger pigeon', 'Norwegian Blue']\n",
    "carol_birds = [3, 'French hens', 2, 'turtledoves']\n"
   ]
  },
  {
   "cell_type": "code",
   "execution_count": 174,
   "id": "d3b9c406",
   "metadata": {},
   "outputs": [],
   "source": [
    "all_birds = [small_birds, extinct_birds, 'macaw', carol_birds]"
   ]
  },
  {
   "cell_type": "code",
   "execution_count": 175,
   "id": "d3d8acdb",
   "metadata": {},
   "outputs": [
    {
     "data": {
      "text/plain": [
       "['hummingbird', 'finch']"
      ]
     },
     "execution_count": 175,
     "metadata": {},
     "output_type": "execute_result"
    }
   ],
   "source": [
    "all_birds[0]"
   ]
  },
  {
   "cell_type": "code",
   "execution_count": 176,
   "id": "9b0639a5",
   "metadata": {},
   "outputs": [
    {
     "data": {
      "text/plain": [
       "['dodo', 'passenger pigeon', 'Norwegian Blue']"
      ]
     },
     "execution_count": 176,
     "metadata": {},
     "output_type": "execute_result"
    }
   ],
   "source": [
    "all_birds[1]"
   ]
  },
  {
   "cell_type": "code",
   "execution_count": 177,
   "id": "7a82d42e",
   "metadata": {},
   "outputs": [
    {
     "data": {
      "text/plain": [
       "'dodo'"
      ]
     },
     "execution_count": 177,
     "metadata": {},
     "output_type": "execute_result"
    }
   ],
   "source": [
    "all_birds[1][0]"
   ]
  },
  {
   "cell_type": "code",
   "execution_count": null,
   "id": "9a9ed344",
   "metadata": {},
   "outputs": [],
   "source": [
    "#튜플 vs 리스트"
   ]
  },
  {
   "cell_type": "code",
   "execution_count": null,
   "id": "8e8be26c",
   "metadata": {},
   "outputs": [],
   "source": [
    "# 리스트 대신 튜플을 사용할수 있다. 하지만튜플은 리스트의 appendO, insert() 등과 같은 \n",
    "# 함수가 없고，튜플을 생성한 후에는 수정할 수 없어서 함수의 수가 매우 적다. 그렇다면 리스트 \n",
    "# 를 사용하지 않고 튜플을 사용하는 이유는 무엇일까?\n",
    "# • 튜플은 더 적은 공간을 사용한다.\n",
    "# • 실수로 튜플의 항목이 손상될 염려가 없다.\n",
    "# • 튜플을 딕셔너리 키로 사용할 수 있다(딕셔너리는 8장 참조).\n",
    "# • 네임드튜플(10.11 절 참조)은 객체의 단순한 대안이 될 수 있다.\n",
    "# 튜플에 대한 내용은 여기서 마친다. 일반적으로 리스트와 딕셔너리를 더 많이 사용한다."
   ]
  },
  {
   "cell_type": "code",
   "execution_count": null,
   "id": "ec8a72b8",
   "metadata": {},
   "outputs": [],
   "source": [
    "# 7.4 튜플 컴프리헨션은 없다.\n",
    "# 가변 타입(리스트，딕셔너리 및 셋)에는 컴프리헨션이 있다. 문자열과 튜플과 같은 불변 타입 \n",
    "# 은 다른 방법으로 만들어져야 한다.\n",
    "# 리스트 컴프리헨션의 ［］를 ()로 변경하면 튜플 컴프리헨션이 될 것이라고 생각했을 수도 있 \n",
    "# 다. 다음 코드는 예외를 발생하지 않아서 정상적으로 작동하는 것처럼 보인다."
   ]
  },
  {
   "cell_type": "code",
   "execution_count": 179,
   "id": "b769f451",
   "metadata": {},
   "outputs": [],
   "source": [
    "number_thing =  (number  for number  in range(1,  6))"
   ]
  },
  {
   "cell_type": "code",
   "execution_count": null,
   "id": "ec375915",
   "metadata": {},
   "outputs": [],
   "source": [
    "# () 안에 있는 것은 제네레이터 컴프리헨션 으로 완전히 다른 것이다.\n",
    "# 제네레이터 객체를 반환한다."
   ]
  }
 ],
 "metadata": {
  "kernelspec": {
   "display_name": "Python 3 (ipykernel)",
   "language": "python",
   "name": "python3"
  },
  "language_info": {
   "codemirror_mode": {
    "name": "ipython",
    "version": 3
   },
   "file_extension": ".py",
   "mimetype": "text/x-python",
   "name": "python",
   "nbconvert_exporter": "python",
   "pygments_lexer": "ipython3",
   "version": "3.11.5"
  }
 },
 "nbformat": 4,
 "nbformat_minor": 5
}
