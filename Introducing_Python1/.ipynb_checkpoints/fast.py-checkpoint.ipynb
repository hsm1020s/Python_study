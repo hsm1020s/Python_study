{
 "cells": [
  {
   "cell_type": "code",
   "execution_count": 1,
   "id": "b678096a",
   "metadata": {},
   "outputs": [],
   "source": [
    "from random import choice"
   ]
  },
  {
   "cell_type": "code",
   "execution_count": 2,
   "id": "dbe94223",
   "metadata": {},
   "outputs": [],
   "source": [
    "places=[\"MCDonalds\",\"KFC\",\"Burger King\",\"Taco Bell\",\"Wendys\",\"Arbys\",\"PizzaHut\"]"
   ]
  },
  {
   "cell_type": "code",
   "execution_count": 3,
   "id": "4159d483",
   "metadata": {},
   "outputs": [],
   "source": [
    "def pick(): #아래에 docstring이 있다.\n",
    "    \"\"\"임의의 패스트푸드점을 반환한다\"\"\"\n",
    "    return choice(places)"
   ]
  }
 ],
 "metadata": {
  "kernelspec": {
   "display_name": "Python 3 (ipykernel)",
   "language": "python",
   "name": "python3"
  },
  "language_info": {
   "codemirror_mode": {
    "name": "ipython",
    "version": 3
   },
   "file_extension": ".py",
   "mimetype": "text/x-python",
   "name": "python",
   "nbconvert_exporter": "python",
   "pygments_lexer": "ipython3",
   "version": "3.11.5"
  }
 },
 "nbformat": 4,
 "nbformat_minor": 5
}
