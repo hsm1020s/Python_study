{
 "cells": [
  {
   "cell_type": "code",
   "execution_count": 1,
   "id": "c7edfb87",
   "metadata": {},
   "outputs": [],
   "source": [
    "# 177"
   ]
  },
  {
   "cell_type": "code",
   "execution_count": 2,
   "id": "1b1f4439",
   "metadata": {},
   "outputs": [],
   "source": [
    "# 딕셔너리는 리스트와 비슷하다. \n",
    "# 다른 점은 항목의 순서를 따지지 않으며，0 또는 1과 같 은 오프셋으로 항목을 선택할 수 없다. \n",
    "# 대신 값—에 상혜는 고유한 키너를 지정한다. \n",
    "# 이러한 키는 대부분 문자열이지만，불변하는 파이썬의 어떤 타입（불리언, 정수，부동소수점，튜플， 문자열 등）\n",
    "# 이 될 수 있다. \n",
    "# 딕셔너리는 변경 가능하므로 키:값 요소를 추가，삭제，수정할 수 있다. \n",
    "# 지금까지 배열이나 리스트만 지원한 언어를 사용했다면，딕셔너리를 좋아할 것이다."
   ]
  },
  {
   "cell_type": "code",
   "execution_count": 3,
   "id": "3579d1df",
   "metadata": {},
   "outputs": [],
   "source": [
    "# 다른 언어에서는 딕셔너리를 연관 배열,해시,해시맵 이라고 부른다. \n",
    "#또한 파이썬에서는 딕셔너리를 딕트 dlrt라고도 부른다."
   ]
  },
  {
   "cell_type": "code",
   "execution_count": 4,
   "id": "35aefce7",
   "metadata": {},
   "outputs": [],
   "source": [
    "empty_dict ={}"
   ]
  },
  {
   "cell_type": "code",
   "execution_count": 5,
   "id": "0c467206",
   "metadata": {},
   "outputs": [
    {
     "data": {
      "text/plain": [
       "{}"
      ]
     },
     "execution_count": 5,
     "metadata": {},
     "output_type": "execute_result"
    }
   ],
   "source": [
    "empty_dict"
   ]
  },
  {
   "cell_type": "code",
   "execution_count": 6,
   "id": "874d24e0",
   "metadata": {},
   "outputs": [],
   "source": [
    "bierce = {\n",
    "    \"day\": \"A period of twenty-four hours, mostly misspent\",\n",
    "    \"positive\": \"Mistaken at the top of one's voice\",\n",
    "    \"misfortune\": \"The kind of fortune that nerver misses\", #마지막에 콤마는 쓸필요없음.\n",
    "}"
   ]
  },
  {
   "cell_type": "code",
   "execution_count": 7,
   "id": "56d1134a",
   "metadata": {},
   "outputs": [
    {
     "data": {
      "text/plain": [
       "{'day': 'A period of twenty-four hours, mostly misspent',\n",
       " 'positive': \"Mistaken at the top of one's voice\",\n",
       " 'misfortune': 'The kind of fortune that nerver misses'}"
      ]
     },
     "execution_count": 7,
     "metadata": {},
     "output_type": "execute_result"
    }
   ],
   "source": [
    "bierce"
   ]
  },
  {
   "cell_type": "code",
   "execution_count": 8,
   "id": "cb5d8eb5",
   "metadata": {},
   "outputs": [],
   "source": [
    "acme_customer = {'first': 'Wile','middle': 'E', 'last':'Coyote'}"
   ]
  },
  {
   "cell_type": "code",
   "execution_count": 9,
   "id": "5722de37",
   "metadata": {},
   "outputs": [
    {
     "data": {
      "text/plain": [
       "{'first': 'Wile', 'middle': 'E', 'last': 'Coyote'}"
      ]
     },
     "execution_count": 9,
     "metadata": {},
     "output_type": "execute_result"
    }
   ],
   "source": [
    "acme_customer"
   ]
  },
  {
   "cell_type": "code",
   "execution_count": 10,
   "id": "237f1a14",
   "metadata": {},
   "outputs": [],
   "source": [
    "# dict() 함수 사용 방법:"
   ]
  },
  {
   "cell_type": "code",
   "execution_count": 11,
   "id": "00e97754",
   "metadata": {},
   "outputs": [
    {
     "data": {
      "text/plain": [
       "{'first': 'Wile', 'middle': 'E', 'last': 'Coyote'}"
      ]
     },
     "execution_count": 11,
     "metadata": {},
     "output_type": "execute_result"
    }
   ],
   "source": [
    "acme_customer = dict(first=\"Wile\",middle='E',last=\"Coyote\")\n",
    "acme_customer"
   ]
  },
  {
   "cell_type": "code",
   "execution_count": 12,
   "id": "214e1f80",
   "metadata": {},
   "outputs": [
    {
     "ename": "SyntaxError",
     "evalue": "invalid syntax (1117221008.py, line 1)",
     "output_type": "error",
     "traceback": [
      "\u001b[1;36m  Cell \u001b[1;32mIn[12], line 1\u001b[1;36m\u001b[0m\n\u001b[1;33m    x= dict(name=\"Elmer\",def=\"hunter\") # 한 가지 제약 사항은 인수 이름이 (공백과 예약어가 없는) 유효한 변수 이름이어야\u001b[0m\n\u001b[1;37m                         ^\u001b[0m\n\u001b[1;31mSyntaxError\u001b[0m\u001b[1;31m:\u001b[0m invalid syntax\n"
     ]
    }
   ],
   "source": [
    "x= dict(name=\"Elmer\",def=\"hunter\") # 한 가지 제약 사항은 인수 이름이 (공백과 예약어가 없는) 유효한 변수 이름이어야"
   ]
  },
  {
   "cell_type": "code",
   "execution_count": 13,
   "id": "d0e4c1f7",
   "metadata": {},
   "outputs": [],
   "source": [
    "# 변환하기 : dict()   179p"
   ]
  },
  {
   "cell_type": "code",
   "execution_count": 14,
   "id": "9171900b",
   "metadata": {},
   "outputs": [],
   "source": [
    "lol=[['a','b'],['c','d'],['e','f']]"
   ]
  },
  {
   "cell_type": "code",
   "execution_count": 15,
   "id": "880d1be5",
   "metadata": {},
   "outputs": [
    {
     "data": {
      "text/plain": [
       "{'a': 'b', 'c': 'd', 'e': 'f'}"
      ]
     },
     "execution_count": 15,
     "metadata": {},
     "output_type": "execute_result"
    }
   ],
   "source": [
    "dict(lol)"
   ]
  },
  {
   "cell_type": "code",
   "execution_count": 16,
   "id": "567c0151",
   "metadata": {},
   "outputs": [],
   "source": [
    "lot=[('a','b'),('c','d'),('e','f')]"
   ]
  },
  {
   "cell_type": "code",
   "execution_count": 17,
   "id": "e9727569",
   "metadata": {},
   "outputs": [
    {
     "data": {
      "text/plain": [
       "{'a': 'b', 'c': 'd', 'e': 'f'}"
      ]
     },
     "execution_count": 17,
     "metadata": {},
     "output_type": "execute_result"
    }
   ],
   "source": [
    "dict(lot)"
   ]
  },
  {
   "cell_type": "code",
   "execution_count": 18,
   "id": "f58412d1",
   "metadata": {},
   "outputs": [],
   "source": [
    "#다음 두 항목은 리스트로 구성된 튜플이다. "
   ]
  },
  {
   "cell_type": "code",
   "execution_count": 19,
   "id": "8c936b8b",
   "metadata": {},
   "outputs": [],
   "source": [
    "tol= (['a','b'],['c','d'],['e','f'])"
   ]
  },
  {
   "cell_type": "code",
   "execution_count": 20,
   "id": "0bde16b6",
   "metadata": {},
   "outputs": [
    {
     "data": {
      "text/plain": [
       "{'a': 'b', 'c': 'd', 'e': 'f'}"
      ]
     },
     "execution_count": 20,
     "metadata": {},
     "output_type": "execute_result"
    }
   ],
   "source": [
    "dict(tol)"
   ]
  },
  {
   "cell_type": "code",
   "execution_count": 21,
   "id": "0c51351d",
   "metadata": {},
   "outputs": [],
   "source": [
    "los= ['ab','cd','ef'] # 두 문자열로 구성된 리스트"
   ]
  },
  {
   "cell_type": "code",
   "execution_count": 22,
   "id": "c510476d",
   "metadata": {},
   "outputs": [
    {
     "data": {
      "text/plain": [
       "{'a': 'b', 'c': 'd', 'e': 'f'}"
      ]
     },
     "execution_count": 22,
     "metadata": {},
     "output_type": "execute_result"
    }
   ],
   "source": [
    "dict(los)"
   ]
  },
  {
   "cell_type": "code",
   "execution_count": 23,
   "id": "4b926eca",
   "metadata": {},
   "outputs": [],
   "source": [
    "tos=('ab','cd','ef')"
   ]
  },
  {
   "cell_type": "code",
   "execution_count": 24,
   "id": "64aca443",
   "metadata": {},
   "outputs": [
    {
     "data": {
      "text/plain": [
       "{'a': 'b', 'c': 'd', 'e': 'f'}"
      ]
     },
     "execution_count": 24,
     "metadata": {},
     "output_type": "execute_result"
    }
   ],
   "source": [
    "dict(tos)"
   ]
  },
  {
   "cell_type": "code",
   "execution_count": 25,
   "id": "c620f0af",
   "metadata": {},
   "outputs": [],
   "source": [
    "# 항목 추가/변경 : [key]"
   ]
  },
  {
   "cell_type": "code",
   "execution_count": 26,
   "id": "c3f396c3",
   "metadata": {},
   "outputs": [],
   "source": [
    "# 딕셔너리에 항목을 추가하는 것은 간단하다. \n",
    "# 키에 참조되는 항목에 값을 할당하면 된다. \n",
    "# 딕셔 너리에 이미 존재하는 키라면 그 값은 새 값으로 대체된다. \n",
    "# 키가 존재하지 않다면 새 값과 키가 사전에 추가된다. \n",
    "# 리스트와 달리 딕셔너리를 할당할 때는 인덱스 범위가 벗어나는 예외에 대해 \n",
    "# 걱정할 필요가 없다."
   ]
  },
  {
   "cell_type": "code",
   "execution_count": 27,
   "id": "c7267bd0",
   "metadata": {},
   "outputs": [],
   "source": [
    "pythons={\n",
    "    'Chapman':'Graham',\n",
    "    'Cleese':'John',\n",
    "    'Idle':'Eric',\n",
    "    'Jones':'Terry',\n",
    "    'Palin': 'Michael',\n",
    "    }"
   ]
  },
  {
   "cell_type": "code",
   "execution_count": 28,
   "id": "42dabe4f",
   "metadata": {},
   "outputs": [
    {
     "data": {
      "text/plain": [
       "{'Chapman': 'Graham',\n",
       " 'Cleese': 'John',\n",
       " 'Idle': 'Eric',\n",
       " 'Jones': 'Terry',\n",
       " 'Palin': 'Michael'}"
      ]
     },
     "execution_count": 28,
     "metadata": {},
     "output_type": "execute_result"
    }
   ],
   "source": [
    "pythons"
   ]
  },
  {
   "cell_type": "code",
   "execution_count": 29,
   "id": "f4b2a901",
   "metadata": {},
   "outputs": [],
   "source": [
    "pythons['Gilliam'] = 'Gerry'"
   ]
  },
  {
   "cell_type": "code",
   "execution_count": 30,
   "id": "b5f3ba33",
   "metadata": {},
   "outputs": [
    {
     "data": {
      "text/plain": [
       "{'Chapman': 'Graham',\n",
       " 'Cleese': 'John',\n",
       " 'Idle': 'Eric',\n",
       " 'Jones': 'Terry',\n",
       " 'Palin': 'Michael',\n",
       " 'Gilliam': 'Gerry'}"
      ]
     },
     "execution_count": 30,
     "metadata": {},
     "output_type": "execute_result"
    }
   ],
   "source": [
    "pythons"
   ]
  },
  {
   "cell_type": "code",
   "execution_count": 31,
   "id": "b5c87809",
   "metadata": {},
   "outputs": [],
   "source": [
    "pythons['Gilliam'] = 'Terry'"
   ]
  },
  {
   "cell_type": "code",
   "execution_count": 32,
   "id": "897a91f8",
   "metadata": {},
   "outputs": [
    {
     "data": {
      "text/plain": [
       "{'Chapman': 'Graham',\n",
       " 'Cleese': 'John',\n",
       " 'Idle': 'Eric',\n",
       " 'Jones': 'Terry',\n",
       " 'Palin': 'Michael',\n",
       " 'Gilliam': 'Terry'}"
      ]
     },
     "execution_count": 32,
     "metadata": {},
     "output_type": "execute_result"
    }
   ],
   "source": [
    "pythons"
   ]
  },
  {
   "cell_type": "code",
   "execution_count": 33,
   "id": "8b22efa1",
   "metadata": {},
   "outputs": [],
   "source": [
    "#딕셔너리의 키들은 반드시 고유해야 한다. \n",
    "#그래서 성 대신에 이름을 키로 사용했다. \n",
    "#몬티 파이 튼 두 멤버의 성이 'Terry' 다! \n",
    "#같은 키를 두 번 이상 사용하면 마지막 값으로 저장된다.  181"
   ]
  },
  {
   "cell_type": "code",
   "execution_count": 34,
   "id": "ba0859db",
   "metadata": {},
   "outputs": [],
   "source": [
    "some_pythons={\n",
    "    'Graham':'Chapman',\n",
    "    'John':'Cleese',\n",
    "    'Eric':'Idle',\n",
    "    'Terry':'Gilliam',\n",
    "    'Michael': 'Palin',\n",
    "    'Terry': 'Jones',\n",
    "    }"
   ]
  },
  {
   "cell_type": "code",
   "execution_count": 35,
   "id": "7e4faf5c",
   "metadata": {},
   "outputs": [],
   "source": [
    "#8.1.5 항목 얻기 : [key]와 get()\n",
    "# 이것은 딕셔너리의 가장 일반적인 용도다. 딕셔너리에 키를 지정하여 상응하는 값을 얻는다. \n",
    "# 이전 절의 some_pythons 딕셔너리를 계속 사용한다."
   ]
  },
  {
   "cell_type": "code",
   "execution_count": 36,
   "id": "cd1ff099",
   "metadata": {},
   "outputs": [
    {
     "data": {
      "text/plain": [
       "'Cleese'"
      ]
     },
     "execution_count": 36,
     "metadata": {},
     "output_type": "execute_result"
    }
   ],
   "source": [
    "some_pythons['John']"
   ]
  },
  {
   "cell_type": "code",
   "execution_count": 37,
   "id": "2af8ca11",
   "metadata": {},
   "outputs": [],
   "source": [
    "# 딕셔너리에 키가 없으면 다음과 같은 예외 발생"
   ]
  },
  {
   "cell_type": "code",
   "execution_count": 38,
   "id": "536cb7ac",
   "metadata": {},
   "outputs": [
    {
     "ename": "KeyError",
     "evalue": "'Groucho'",
     "output_type": "error",
     "traceback": [
      "\u001b[1;31m---------------------------------------------------------------------------\u001b[0m",
      "\u001b[1;31mKeyError\u001b[0m                                  Traceback (most recent call last)",
      "Cell \u001b[1;32mIn[38], line 1\u001b[0m\n\u001b[1;32m----> 1\u001b[0m some_pythons[\u001b[38;5;124m'\u001b[39m\u001b[38;5;124mGroucho\u001b[39m\u001b[38;5;124m'\u001b[39m]\n",
      "\u001b[1;31mKeyError\u001b[0m: 'Groucho'"
     ]
    }
   ],
   "source": [
    "some_pythons['Groucho'] # 에러"
   ]
  },
  {
   "cell_type": "code",
   "execution_count": null,
   "id": "6d3ee6c3",
   "metadata": {},
   "outputs": [],
   "source": [
    "'Groucho' in some_pythons # in으로 키에 대한 멤버십 테스트 "
   ]
  },
  {
   "cell_type": "code",
   "execution_count": null,
   "id": "c035c6f3",
   "metadata": {},
   "outputs": [],
   "source": [
    "some_pythons.get('John') # 딕셔너리의 get() 함수를 사용해서 얻어오는 방법"
   ]
  },
  {
   "cell_type": "code",
   "execution_count": 39,
   "id": "08289967",
   "metadata": {},
   "outputs": [
    {
     "data": {
      "text/plain": [
       "'Not a Python'"
      ]
     },
     "execution_count": 39,
     "metadata": {},
     "output_type": "execute_result"
    }
   ],
   "source": [
    "some_pythons.get('Groucho', 'Not a Python') #키가 존재하지 않으면 옵션값 지정해서 이를 출력할수있다."
   ]
  },
  {
   "cell_type": "code",
   "execution_count": 40,
   "id": "1a65573b",
   "metadata": {},
   "outputs": [],
   "source": [
    "some_pythons.get('Groucho') # None을 얻지만 대화식 인터프리터는 아무것도 출력하지 않는다. 182"
   ]
  },
  {
   "cell_type": "code",
   "execution_count": 41,
   "id": "4269fd5e",
   "metadata": {},
   "outputs": [],
   "source": [
    "#모든 키 얻기 : keys()"
   ]
  },
  {
   "cell_type": "code",
   "execution_count": 42,
   "id": "8d053b38",
   "metadata": {},
   "outputs": [],
   "source": [
    "signals = {'green':'go','yellow':'go faster','red':'smile for the camera'}"
   ]
  },
  {
   "cell_type": "code",
   "execution_count": 43,
   "id": "e6ad0a8f",
   "metadata": {},
   "outputs": [
    {
     "data": {
      "text/plain": [
       "dict_keys(['green', 'yellow', 'red'])"
      ]
     },
     "execution_count": 43,
     "metadata": {},
     "output_type": "execute_result"
    }
   ],
   "source": [
    "signals.keys()"
   ]
  },
  {
   "cell_type": "code",
   "execution_count": 44,
   "id": "5fbb9114",
   "metadata": {},
   "outputs": [],
   "source": [
    "# 파이썬 2 의 keys()는 리스트를 반환\n",
    "# 파이썬 3 은 순회 가능한 키들을 보여주는 dict_keys()를 반환 이것은 아주 큰 딕셔너리에 유용\n",
    "# 왜냐면 사용되지 않을 리스트를 생성하고 저장하기 위 한 메모리와 시간을 소비하지 않기 때문이다. \n",
    "# 이것을 실제 리스트로 쓰고 싶을 때가 있다. \n",
    "# 파이썬 3에서는 list()를 호출해서 dict.keys 객체를 리스트로 변환할 수 있다"
   ]
  },
  {
   "cell_type": "code",
   "execution_count": 45,
   "id": "93c093ca",
   "metadata": {},
   "outputs": [
    {
     "data": {
      "text/plain": [
       "['green', 'yellow', 'red']"
      ]
     },
     "execution_count": 45,
     "metadata": {},
     "output_type": "execute_result"
    }
   ],
   "source": [
    "list( signals.keys())"
   ]
  },
  {
   "cell_type": "code",
   "execution_count": 46,
   "id": "59deff4b",
   "metadata": {},
   "outputs": [],
   "source": [
    "# 파이썬 3에서는 values()나 items()의  결과를 일반적인 리스트로 변환하기  위해 list() 함수를 사용"
   ]
  },
  {
   "cell_type": "code",
   "execution_count": 47,
   "id": "5d528644",
   "metadata": {},
   "outputs": [],
   "source": [
    "# 8.1.7 모든 값 얻기: values()"
   ]
  },
  {
   "cell_type": "code",
   "execution_count": 48,
   "id": "b8802ebd",
   "metadata": {},
   "outputs": [
    {
     "data": {
      "text/plain": [
       "['go', 'go faster', 'smile for the camera']"
      ]
     },
     "execution_count": 48,
     "metadata": {},
     "output_type": "execute_result"
    }
   ],
   "source": [
    "list(signals.values())"
   ]
  },
  {
   "cell_type": "code",
   "execution_count": 49,
   "id": "d86fabe9",
   "metadata": {},
   "outputs": [],
   "source": [
    "# 8.1.8 모든 키-값 얻기: items()"
   ]
  },
  {
   "cell_type": "code",
   "execution_count": 50,
   "id": "7527f5a2",
   "metadata": {},
   "outputs": [
    {
     "data": {
      "text/plain": [
       "[('green', 'go'), ('yellow', 'go faster'), ('red', 'smile for the camera')]"
      ]
     },
     "execution_count": 50,
     "metadata": {},
     "output_type": "execute_result"
    }
   ],
   "source": [
    "list(signals.items())"
   ]
  },
  {
   "cell_type": "code",
   "execution_count": 51,
   "id": "1ed0e2f9",
   "metadata": {},
   "outputs": [
    {
     "data": {
      "text/plain": [
       "3"
      ]
     },
     "execution_count": 51,
     "metadata": {},
     "output_type": "execute_result"
    }
   ],
   "source": [
    "len(signals) # 길이 얻기"
   ]
  },
  {
   "cell_type": "code",
   "execution_count": 52,
   "id": "c1fa0a55",
   "metadata": {},
   "outputs": [],
   "source": [
    "# 8.1.10 결합하기: {**a,**b}\n",
    "# 파이썬 3.5부터는 **를 사용하여 딕셔너리를 결합할 수 있다 (**는 다른 용도로 사용된다.)"
   ]
  },
  {
   "cell_type": "code",
   "execution_count": 53,
   "id": "31601738",
   "metadata": {},
   "outputs": [],
   "source": [
    "first={'a': 'agony','b': 'bliss'}"
   ]
  },
  {
   "cell_type": "code",
   "execution_count": 54,
   "id": "42b25aa2",
   "metadata": {},
   "outputs": [],
   "source": [
    "second={'b': 'bagels','c':'candy'}"
   ]
  },
  {
   "cell_type": "code",
   "execution_count": 55,
   "id": "dd1a04a5",
   "metadata": {},
   "outputs": [
    {
     "data": {
      "text/plain": [
       "{'a': 'agony', 'b': 'bagels', 'c': 'candy'}"
      ]
     },
     "execution_count": 55,
     "metadata": {},
     "output_type": "execute_result"
    }
   ],
   "source": [
    "{**first,**second}"
   ]
  },
  {
   "cell_type": "code",
   "execution_count": 56,
   "id": "409fb7d1",
   "metadata": {},
   "outputs": [],
   "source": [
    "third = {'d':'donuts'}"
   ]
  },
  {
   "cell_type": "code",
   "execution_count": 57,
   "id": "b4c914ea",
   "metadata": {},
   "outputs": [
    {
     "data": {
      "text/plain": [
       "{'a': 'agony', 'b': 'bagels', 'd': 'donuts', 'c': 'candy'}"
      ]
     },
     "execution_count": 57,
     "metadata": {},
     "output_type": "execute_result"
    }
   ],
   "source": [
    "{**first,**third,**second}"
   ]
  },
  {
   "cell_type": "code",
   "execution_count": 58,
   "id": "d0507a33",
   "metadata": {},
   "outputs": [],
   "source": [
    "# 이것은 얕은복사를 수행. 원본 딕셔너리에 결합하지 않고 딕셔너리 키/값 전체 사본을 원할경우 deepcopy() 사용"
   ]
  },
  {
   "cell_type": "code",
   "execution_count": 59,
   "id": "6d7b04ca",
   "metadata": {},
   "outputs": [],
   "source": [
    "# 8.1.11 결합하기: update()"
   ]
  },
  {
   "cell_type": "code",
   "execution_count": 60,
   "id": "1019de86",
   "metadata": {},
   "outputs": [],
   "source": [
    "pythons={\n",
    "    'Chapman':'Graham',\n",
    "    'Cleese':'John',\n",
    "    'Gilliam':'Terry',\n",
    "    'Idle':'Eric',\n",
    "    'Jones':'Terry',\n",
    "    'Palin':'Michael'\n",
    "}"
   ]
  },
  {
   "cell_type": "code",
   "execution_count": 61,
   "id": "883eba0b",
   "metadata": {},
   "outputs": [
    {
     "data": {
      "text/plain": [
       "{'Chapman': 'Graham',\n",
       " 'Cleese': 'John',\n",
       " 'Gilliam': 'Terry',\n",
       " 'Idle': 'Eric',\n",
       " 'Jones': 'Terry',\n",
       " 'Palin': 'Michael'}"
      ]
     },
     "execution_count": 61,
     "metadata": {},
     "output_type": "execute_result"
    }
   ],
   "source": [
    "pythons"
   ]
  },
  {
   "cell_type": "code",
   "execution_count": 62,
   "id": "2c0cd4ac",
   "metadata": {},
   "outputs": [],
   "source": [
    "others ={ 'Marx':'Groucho','Howard':'Moe'}"
   ]
  },
  {
   "cell_type": "code",
   "execution_count": 63,
   "id": "b32d4aa9",
   "metadata": {},
   "outputs": [],
   "source": [
    "pythons.update(others)"
   ]
  },
  {
   "cell_type": "code",
   "execution_count": 64,
   "id": "2282f121",
   "metadata": {},
   "outputs": [
    {
     "data": {
      "text/plain": [
       "{'Chapman': 'Graham',\n",
       " 'Cleese': 'John',\n",
       " 'Gilliam': 'Terry',\n",
       " 'Idle': 'Eric',\n",
       " 'Jones': 'Terry',\n",
       " 'Palin': 'Michael',\n",
       " 'Marx': 'Groucho',\n",
       " 'Howard': 'Moe'}"
      ]
     },
     "execution_count": 64,
     "metadata": {},
     "output_type": "execute_result"
    }
   ],
   "source": [
    "pythons"
   ]
  },
  {
   "cell_type": "code",
   "execution_count": 65,
   "id": "eb8e34af",
   "metadata": {},
   "outputs": [],
   "source": [
    "# 두 번째 딕셔너리 (second)를 첫 번째 딕셔너리 (first)에 병합하려고 하는데, \n",
    "# 두 딕셔너리에 같은 키:값이 있다면 어떤 일이 생길까? \n",
    "# 두 번째 딕셔너리 값으로 병합된다."
   ]
  },
  {
   "cell_type": "code",
   "execution_count": 66,
   "id": "12d416a8",
   "metadata": {},
   "outputs": [],
   "source": [
    "first = {'a':1,'b':2}"
   ]
  },
  {
   "cell_type": "code",
   "execution_count": 67,
   "id": "0b239232",
   "metadata": {},
   "outputs": [],
   "source": [
    "second={'b':'platypus'}"
   ]
  },
  {
   "cell_type": "code",
   "execution_count": 68,
   "id": "805a4dd8",
   "metadata": {},
   "outputs": [],
   "source": [
    "first.update(second)"
   ]
  },
  {
   "cell_type": "code",
   "execution_count": 69,
   "id": "a1d02510",
   "metadata": {},
   "outputs": [
    {
     "data": {
      "text/plain": [
       "{'a': 1, 'b': 'platypus'}"
      ]
     },
     "execution_count": 69,
     "metadata": {},
     "output_type": "execute_result"
    }
   ],
   "source": [
    "first"
   ]
  },
  {
   "cell_type": "code",
   "execution_count": 70,
   "id": "34648d91",
   "metadata": {},
   "outputs": [],
   "source": [
    "# 8.1.12 키와 del로 항목 삭제하기"
   ]
  },
  {
   "cell_type": "code",
   "execution_count": 71,
   "id": "c9ab8965",
   "metadata": {},
   "outputs": [],
   "source": [
    "del pythons['Marx']"
   ]
  },
  {
   "cell_type": "code",
   "execution_count": 72,
   "id": "e3ec2b30",
   "metadata": {},
   "outputs": [
    {
     "data": {
      "text/plain": [
       "{'Chapman': 'Graham',\n",
       " 'Cleese': 'John',\n",
       " 'Gilliam': 'Terry',\n",
       " 'Idle': 'Eric',\n",
       " 'Jones': 'Terry',\n",
       " 'Palin': 'Michael',\n",
       " 'Howard': 'Moe'}"
      ]
     },
     "execution_count": 72,
     "metadata": {},
     "output_type": "execute_result"
    }
   ],
   "source": [
    "pythons"
   ]
  },
  {
   "cell_type": "code",
   "execution_count": 73,
   "id": "b1e96f61",
   "metadata": {},
   "outputs": [],
   "source": [
    "del pythons['Howard'] #del"
   ]
  },
  {
   "cell_type": "code",
   "execution_count": 74,
   "id": "70be0faa",
   "metadata": {},
   "outputs": [
    {
     "data": {
      "text/plain": [
       "{'Chapman': 'Graham',\n",
       " 'Cleese': 'John',\n",
       " 'Gilliam': 'Terry',\n",
       " 'Idle': 'Eric',\n",
       " 'Jones': 'Terry',\n",
       " 'Palin': 'Michael'}"
      ]
     },
     "execution_count": 74,
     "metadata": {},
     "output_type": "execute_result"
    }
   ],
   "source": [
    "pythons"
   ]
  },
  {
   "cell_type": "code",
   "execution_count": 75,
   "id": "8916d30d",
   "metadata": {},
   "outputs": [],
   "source": [
    "# 키로 항목 가져온 뒤 삭제하기 pop()\n",
    "# pop()은 get()과 del을 함께 사용한다. \n",
    "#딕셔너리에 있는 키와 pop()의 인수가 일치한다면 해당 값을 반환한 뒤，\n",
    "#딕셔너리에서 해당 키-값을 삭제한다. 일치하지 않다면 예외가 발생한다."
   ]
  },
  {
   "cell_type": "code",
   "execution_count": 76,
   "id": "65e71ca4",
   "metadata": {},
   "outputs": [
    {
     "data": {
      "text/plain": [
       "6"
      ]
     },
     "execution_count": 76,
     "metadata": {},
     "output_type": "execute_result"
    }
   ],
   "source": [
    "len(pythons)"
   ]
  },
  {
   "cell_type": "code",
   "execution_count": 77,
   "id": "ab388864",
   "metadata": {},
   "outputs": [
    {
     "data": {
      "text/plain": [
       "'Michael'"
      ]
     },
     "execution_count": 77,
     "metadata": {},
     "output_type": "execute_result"
    }
   ],
   "source": [
    "pythons.pop('Palin')"
   ]
  },
  {
   "cell_type": "code",
   "execution_count": 78,
   "id": "20eead61",
   "metadata": {},
   "outputs": [
    {
     "data": {
      "text/plain": [
       "5"
      ]
     },
     "execution_count": 78,
     "metadata": {},
     "output_type": "execute_result"
    }
   ],
   "source": [
    "len(pythons)"
   ]
  },
  {
   "cell_type": "code",
   "execution_count": 79,
   "id": "0e963b40",
   "metadata": {},
   "outputs": [
    {
     "ename": "KeyError",
     "evalue": "'Palin'",
     "output_type": "error",
     "traceback": [
      "\u001b[1;31m---------------------------------------------------------------------------\u001b[0m",
      "\u001b[1;31mKeyError\u001b[0m                                  Traceback (most recent call last)",
      "Cell \u001b[1;32mIn[79], line 1\u001b[0m\n\u001b[1;32m----> 1\u001b[0m pythons\u001b[38;5;241m.\u001b[39mpop(\u001b[38;5;124m'\u001b[39m\u001b[38;5;124mPalin\u001b[39m\u001b[38;5;124m'\u001b[39m)\n",
      "\u001b[1;31mKeyError\u001b[0m: 'Palin'"
     ]
    }
   ],
   "source": [
    "pythons.pop('Palin') #예외 발생 "
   ]
  },
  {
   "cell_type": "code",
   "execution_count": 80,
   "id": "828859db",
   "metadata": {},
   "outputs": [],
   "source": [
    "# 모든 항목 삭제하기: clear()"
   ]
  },
  {
   "cell_type": "code",
   "execution_count": 81,
   "id": "a70b919f",
   "metadata": {},
   "outputs": [],
   "source": [
    "pythons.clear()"
   ]
  },
  {
   "cell_type": "code",
   "execution_count": 82,
   "id": "1425e8fd",
   "metadata": {},
   "outputs": [
    {
     "data": {
      "text/plain": [
       "{}"
      ]
     },
     "execution_count": 82,
     "metadata": {},
     "output_type": "execute_result"
    }
   ],
   "source": [
    "pythons"
   ]
  },
  {
   "cell_type": "code",
   "execution_count": 83,
   "id": "62b26061",
   "metadata": {},
   "outputs": [],
   "source": [
    "# 8.1.15 키 멤버십 테스트:in   187"
   ]
  },
  {
   "cell_type": "code",
   "execution_count": 84,
   "id": "b2762cd8",
   "metadata": {},
   "outputs": [],
   "source": [
    "pythons={\n",
    "    'Chapman':'Graham',\n",
    "    'Cleese':'John',\n",
    "    'Jones':'Terry',\n",
    "    'Palin':'Michael',\n",
    "    'Idle':'Eric'\n",
    "}"
   ]
  },
  {
   "cell_type": "code",
   "execution_count": 85,
   "id": "a8dec59b",
   "metadata": {},
   "outputs": [
    {
     "data": {
      "text/plain": [
       "True"
      ]
     },
     "execution_count": 85,
     "metadata": {},
     "output_type": "execute_result"
    }
   ],
   "source": [
    "'Chapman' in pythons"
   ]
  },
  {
   "cell_type": "code",
   "execution_count": 86,
   "id": "5eecfa4b",
   "metadata": {},
   "outputs": [
    {
     "data": {
      "text/plain": [
       "True"
      ]
     },
     "execution_count": 86,
     "metadata": {},
     "output_type": "execute_result"
    }
   ],
   "source": [
    "'Palin'in pythons"
   ]
  },
  {
   "cell_type": "code",
   "execution_count": 87,
   "id": "491bf4d7",
   "metadata": {},
   "outputs": [
    {
     "data": {
      "text/plain": [
       "False"
      ]
     },
     "execution_count": 87,
     "metadata": {},
     "output_type": "execute_result"
    }
   ],
   "source": [
    "'Gilliam' in pythons"
   ]
  },
  {
   "cell_type": "code",
   "execution_count": 88,
   "id": "e21f297a",
   "metadata": {},
   "outputs": [],
   "source": [
    "signals={ 'green':'go',\n",
    "         'yellow': 'go faster',\n",
    "         'red': 'smile for the camera'}"
   ]
  },
  {
   "cell_type": "code",
   "execution_count": 89,
   "id": "376d3f7d",
   "metadata": {},
   "outputs": [],
   "source": [
    "save_signals=signals"
   ]
  },
  {
   "cell_type": "code",
   "execution_count": 90,
   "id": "915e103d",
   "metadata": {},
   "outputs": [],
   "source": [
    "signals['blue']='confuse everyone'"
   ]
  },
  {
   "cell_type": "code",
   "execution_count": 91,
   "id": "fbd5509d",
   "metadata": {},
   "outputs": [
    {
     "data": {
      "text/plain": [
       "{'green': 'go',\n",
       " 'yellow': 'go faster',\n",
       " 'red': 'smile for the camera',\n",
       " 'blue': 'confuse everyone'}"
      ]
     },
     "execution_count": 91,
     "metadata": {},
     "output_type": "execute_result"
    }
   ],
   "source": [
    "save_signals"
   ]
  },
  {
   "cell_type": "code",
   "execution_count": 92,
   "id": "dac2b99a",
   "metadata": {},
   "outputs": [],
   "source": [
    "# 8.1.17 얕은복사 : copy()   188"
   ]
  },
  {
   "cell_type": "code",
   "execution_count": 93,
   "id": "b50620e9",
   "metadata": {},
   "outputs": [],
   "source": [
    "#딕셔너리 키/값을 또 다른 딕셔너리로 복사하기 위해서는 위와 같이 할당하지 않고 copy()를 사용"
   ]
  },
  {
   "cell_type": "code",
   "execution_count": 94,
   "id": "be69b4d3",
   "metadata": {},
   "outputs": [],
   "source": [
    "signals={ 'green':'go',\n",
    "         'yellow': 'go faster',\n",
    "         'red': 'smile for the camera'}"
   ]
  },
  {
   "cell_type": "code",
   "execution_count": 95,
   "id": "f67b09f0",
   "metadata": {},
   "outputs": [],
   "source": [
    "original_signals = signals.copy()"
   ]
  },
  {
   "cell_type": "code",
   "execution_count": 96,
   "id": "ed0a80ee",
   "metadata": {},
   "outputs": [],
   "source": [
    "signals['blue'] = 'confuse everyone'"
   ]
  },
  {
   "cell_type": "code",
   "execution_count": 97,
   "id": "953cef13",
   "metadata": {},
   "outputs": [
    {
     "data": {
      "text/plain": [
       "{'green': 'go',\n",
       " 'yellow': 'go faster',\n",
       " 'red': 'smile for the camera',\n",
       " 'blue': 'confuse everyone'}"
      ]
     },
     "execution_count": 97,
     "metadata": {},
     "output_type": "execute_result"
    }
   ],
   "source": [
    "signals"
   ]
  },
  {
   "cell_type": "code",
   "execution_count": 98,
   "id": "1de4f335",
   "metadata": {},
   "outputs": [
    {
     "data": {
      "text/plain": [
       "{'green': 'go', 'yellow': 'go faster', 'red': 'smile for the camera'}"
      ]
     },
     "execution_count": 98,
     "metadata": {},
     "output_type": "execute_result"
    }
   ],
   "source": [
    "original_signals"
   ]
  },
  {
   "cell_type": "code",
   "execution_count": 99,
   "id": "b1a84ead",
   "metadata": {},
   "outputs": [],
   "source": [
    "# 이것은 얕은복사 를수행한다. \n",
    "# 위 예제와같이 딕셔너리 값이 불변이면 동작하지만, 가변이라면 deepcopyO 를 사용해야 한다"
   ]
  },
  {
   "cell_type": "code",
   "execution_count": null,
   "id": "4389bd64",
   "metadata": {},
   "outputs": [],
   "source": []
  },
  {
   "cell_type": "code",
   "execution_count": 100,
   "id": "6518d0ae",
   "metadata": {},
   "outputs": [],
   "source": [
    "# 8.1.18 깊은 복사: deepcopy()"
   ]
  },
  {
   "cell_type": "code",
   "execution_count": 101,
   "id": "ade3c5b3",
   "metadata": {},
   "outputs": [],
   "source": [
    "signals={ 'green':'go',\n",
    "         'yellow': 'go faster',\n",
    "         'red': ['stop','smile']}"
   ]
  },
  {
   "cell_type": "code",
   "execution_count": 102,
   "id": "d1f8f204",
   "metadata": {},
   "outputs": [],
   "source": [
    "signals_copy = signals.copy()"
   ]
  },
  {
   "cell_type": "code",
   "execution_count": 103,
   "id": "b0b91040",
   "metadata": {},
   "outputs": [
    {
     "data": {
      "text/plain": [
       "{'green': 'go', 'yellow': 'go faster', 'red': ['stop', 'smile']}"
      ]
     },
     "execution_count": 103,
     "metadata": {},
     "output_type": "execute_result"
    }
   ],
   "source": [
    "signals"
   ]
  },
  {
   "cell_type": "code",
   "execution_count": 104,
   "id": "34afcae4",
   "metadata": {},
   "outputs": [
    {
     "data": {
      "text/plain": [
       "{'green': 'go', 'yellow': 'go faster', 'red': ['stop', 'smile']}"
      ]
     },
     "execution_count": 104,
     "metadata": {},
     "output_type": "execute_result"
    }
   ],
   "source": [
    "signals_copy"
   ]
  },
  {
   "cell_type": "code",
   "execution_count": 105,
   "id": "50bbe11b",
   "metadata": {},
   "outputs": [],
   "source": [
    "# red 키 값의 리스트 중 하나를 변경해보자."
   ]
  },
  {
   "cell_type": "code",
   "execution_count": 106,
   "id": "a7c14653",
   "metadata": {},
   "outputs": [],
   "source": [
    "signals['red'][1]='sweat'"
   ]
  },
  {
   "cell_type": "code",
   "execution_count": 107,
   "id": "911d4509",
   "metadata": {},
   "outputs": [
    {
     "data": {
      "text/plain": [
       "{'green': 'go', 'yellow': 'go faster', 'red': ['stop', 'sweat']}"
      ]
     },
     "execution_count": 107,
     "metadata": {},
     "output_type": "execute_result"
    }
   ],
   "source": [
    "signals"
   ]
  },
  {
   "cell_type": "code",
   "execution_count": 108,
   "id": "e5511a78",
   "metadata": {},
   "outputs": [
    {
     "data": {
      "text/plain": [
       "{'green': 'go', 'yellow': 'go faster', 'red': ['stop', 'sweat']}"
      ]
     },
     "execution_count": 108,
     "metadata": {},
     "output_type": "execute_result"
    }
   ],
   "source": [
    "signals_copy"
   ]
  },
  {
   "cell_type": "code",
   "execution_count": 109,
   "id": "b88edce2",
   "metadata": {},
   "outputs": [],
   "source": [
    "import copy"
   ]
  },
  {
   "cell_type": "code",
   "execution_count": 110,
   "id": "8fc9cb5c",
   "metadata": {},
   "outputs": [],
   "source": [
    "signals={ 'green':'go',\n",
    "         'yellow': 'go faster',\n",
    "         'red': ['stop','smile']}"
   ]
  },
  {
   "cell_type": "code",
   "execution_count": 111,
   "id": "9d2ca514",
   "metadata": {},
   "outputs": [],
   "source": [
    "signals_copy = copy.deepcopy(signals)"
   ]
  },
  {
   "cell_type": "code",
   "execution_count": 112,
   "id": "180b905d",
   "metadata": {},
   "outputs": [
    {
     "data": {
      "text/plain": [
       "{'green': 'go', 'yellow': 'go faster', 'red': ['stop', 'smile']}"
      ]
     },
     "execution_count": 112,
     "metadata": {},
     "output_type": "execute_result"
    }
   ],
   "source": [
    "signals"
   ]
  },
  {
   "cell_type": "code",
   "execution_count": 113,
   "id": "c5040005",
   "metadata": {},
   "outputs": [
    {
     "data": {
      "text/plain": [
       "{'green': 'go', 'yellow': 'go faster', 'red': ['stop', 'smile']}"
      ]
     },
     "execution_count": 113,
     "metadata": {},
     "output_type": "execute_result"
    }
   ],
   "source": [
    "signals_copy"
   ]
  },
  {
   "cell_type": "code",
   "execution_count": 114,
   "id": "66d86083",
   "metadata": {},
   "outputs": [],
   "source": [
    "signals['red'][1]='sweat'"
   ]
  },
  {
   "cell_type": "code",
   "execution_count": 115,
   "id": "f64f37fe",
   "metadata": {},
   "outputs": [
    {
     "data": {
      "text/plain": [
       "{'green': 'go', 'yellow': 'go faster', 'red': ['stop', 'sweat']}"
      ]
     },
     "execution_count": 115,
     "metadata": {},
     "output_type": "execute_result"
    }
   ],
   "source": [
    "signals"
   ]
  },
  {
   "cell_type": "code",
   "execution_count": 116,
   "id": "163f4f4a",
   "metadata": {},
   "outputs": [
    {
     "data": {
      "text/plain": [
       "{'green': 'go', 'yellow': 'go faster', 'red': ['stop', 'smile']}"
      ]
     },
     "execution_count": 116,
     "metadata": {},
     "output_type": "execute_result"
    }
   ],
   "source": [
    "signals_copy"
   ]
  },
  {
   "cell_type": "code",
   "execution_count": null,
   "id": "d6f82099",
   "metadata": {},
   "outputs": [],
   "source": []
  },
  {
   "cell_type": "code",
   "execution_count": 117,
   "id": "e2c748c6",
   "metadata": {},
   "outputs": [],
   "source": [
    "# 8.1.19 딕셔너리 비교\n",
    "# 이전 장에서 본 리스트, 튜플과 마찬가지로 \n",
    "# 비교 연산자 ==, !=를 사용하여 딕셔너리를 비교할 수 있다"
   ]
  },
  {
   "cell_type": "code",
   "execution_count": 118,
   "id": "583ddbb1",
   "metadata": {},
   "outputs": [],
   "source": [
    "a = {1:1,2:2,3:3}"
   ]
  },
  {
   "cell_type": "code",
   "execution_count": 119,
   "id": "abffc5a4",
   "metadata": {},
   "outputs": [],
   "source": [
    "b={3:3,1:1,2:2}"
   ]
  },
  {
   "cell_type": "code",
   "execution_count": 120,
   "id": "bfa088d1",
   "metadata": {},
   "outputs": [
    {
     "data": {
      "text/plain": [
       "True"
      ]
     },
     "execution_count": 120,
     "metadata": {},
     "output_type": "execute_result"
    }
   ],
   "source": [
    "a==b"
   ]
  },
  {
   "cell_type": "code",
   "execution_count": 121,
   "id": "45d18e40",
   "metadata": {},
   "outputs": [
    {
     "ename": "TypeError",
     "evalue": "'<=' not supported between instances of 'dict' and 'dict'",
     "output_type": "error",
     "traceback": [
      "\u001b[1;31m---------------------------------------------------------------------------\u001b[0m",
      "\u001b[1;31mTypeError\u001b[0m                                 Traceback (most recent call last)",
      "Cell \u001b[1;32mIn[121], line 1\u001b[0m\n\u001b[1;32m----> 1\u001b[0m a \u001b[38;5;241m<\u001b[39m\u001b[38;5;241m=\u001b[39m b\n",
      "\u001b[1;31mTypeError\u001b[0m: '<=' not supported between instances of 'dict' and 'dict'"
     ]
    }
   ],
   "source": [
    "a <= b # 그 외 비교 연산자는 사용할 수 없다."
   ]
  },
  {
   "cell_type": "code",
   "execution_count": 122,
   "id": "81ce2189",
   "metadata": {},
   "outputs": [],
   "source": [
    "# 파이썬은 원래 생성된 키/값의 순서에 상관없이 딕셔너리의 키/값을 하나씩 비교한다. \n",
    "# 다음 예제에서 딕셔너리 a의 키 1에 리스트 값 [1, 2]가 있고，\n",
    "# 딕셔너리 b의 키 1에 리스트 값 [1, 1] 이 있는 경우를 제외하고，a와 b는 같다"
   ]
  },
  {
   "cell_type": "code",
   "execution_count": 123,
   "id": "2d574791",
   "metadata": {},
   "outputs": [],
   "source": [
    " a = {1: [1,2], 2:[1],3:[1]}"
   ]
  },
  {
   "cell_type": "code",
   "execution_count": 124,
   "id": "6cb8fff2",
   "metadata": {},
   "outputs": [],
   "source": [
    " b = {1: [1,1], 2:[1],3:[1]}"
   ]
  },
  {
   "cell_type": "code",
   "execution_count": 125,
   "id": "60de5f6b",
   "metadata": {},
   "outputs": [
    {
     "data": {
      "text/plain": [
       "False"
      ]
     },
     "execution_count": 125,
     "metadata": {},
     "output_type": "execute_result"
    }
   ],
   "source": [
    "a==b"
   ]
  },
  {
   "cell_type": "code",
   "execution_count": 126,
   "id": "79130eed",
   "metadata": {},
   "outputs": [],
   "source": [
    "# 순회하기 for와 in "
   ]
  },
  {
   "cell_type": "code",
   "execution_count": 127,
   "id": "8865ca98",
   "metadata": {},
   "outputs": [],
   "source": [
    "# 딕셔너리 (또는 해당 keys() 메서드)를 순회하면 키가 반환된다. \n",
    "# 다음 예제에서 키는 보드게임 클루clue(북미 밖에서는 클루도세。라고 한다)의 카드 유형이다."
   ]
  },
  {
   "cell_type": "code",
   "execution_count": 128,
   "id": "c95fbd7d",
   "metadata": {},
   "outputs": [],
   "source": [
    "accusation = {'room':'ballroom','weapon':'lead pipe','person':'Col. Mustard'}"
   ]
  },
  {
   "cell_type": "code",
   "execution_count": 129,
   "id": "e255b36b",
   "metadata": {},
   "outputs": [
    {
     "name": "stdout",
     "output_type": "stream",
     "text": [
      "room\n",
      "weapon\n",
      "person\n"
     ]
    }
   ],
   "source": [
    "for card in accusation: # or, for card in accusation.keys();\n",
    "    print(card)  #딕셔너리를 순회하면 키가 반환"
   ]
  },
  {
   "cell_type": "code",
   "execution_count": 130,
   "id": "525bf797",
   "metadata": {},
   "outputs": [],
   "source": [
    "# 키가 아닌 값을 순회하려면 values() 메서드를 사용한다."
   ]
  },
  {
   "cell_type": "code",
   "execution_count": 131,
   "id": "2a1d568e",
   "metadata": {},
   "outputs": [
    {
     "name": "stdout",
     "output_type": "stream",
     "text": [
      "ballroom\n",
      "lead pipe\n",
      "Col. Mustard\n"
     ]
    }
   ],
   "source": [
    "for value in accusation.values():\n",
    "    print(value)  # 값을 순회 "
   ]
  },
  {
   "cell_type": "code",
   "execution_count": 132,
   "id": "949e28cc",
   "metadata": {},
   "outputs": [
    {
     "name": "stdout",
     "output_type": "stream",
     "text": [
      "('room', 'ballroom')\n",
      "('weapon', 'lead pipe')\n",
      "('person', 'Col. Mustard')\n"
     ]
    }
   ],
   "source": [
    "for item in accusation.items():\n",
    "    print(item)"
   ]
  },
  {
   "cell_type": "code",
   "execution_count": 133,
   "id": "11ee3c30",
   "metadata": {},
   "outputs": [],
   "source": [
    "# 한번에 모두 튜플에 할당가능 items()에 반환된 각 튜플에 대해 첫번째값(키)을 \n",
    "# 'Card'에 지정하고 두 번째 (값)을 'has the contents' 에 지정한다."
   ]
  },
  {
   "cell_type": "code",
   "execution_count": 134,
   "id": "8bb87c6a",
   "metadata": {},
   "outputs": [
    {
     "name": "stdout",
     "output_type": "stream",
     "text": [
      "Card room has the contents ballroom\n",
      "Card weapon has the contents lead pipe\n",
      "Card person has the contents Col. Mustard\n"
     ]
    }
   ],
   "source": [
    "for card, contents in accusation.items():\n",
    "    print('Card',card, 'has the contents', contents)"
   ]
  },
  {
   "cell_type": "code",
   "execution_count": 135,
   "id": "53250099",
   "metadata": {},
   "outputs": [],
   "source": [
    "# 8.1.21 딕셔너리 컴프리헨션 "
   ]
  },
  {
   "cell_type": "code",
   "execution_count": 136,
   "id": "aab6c19b",
   "metadata": {},
   "outputs": [],
   "source": [
    "word= 'letters'"
   ]
  },
  {
   "cell_type": "code",
   "execution_count": 137,
   "id": "51c0f96c",
   "metadata": {},
   "outputs": [],
   "source": [
    "letter_counts={letter:word.count(letter) for letter in word}"
   ]
  },
  {
   "cell_type": "code",
   "execution_count": 138,
   "id": "885938d2",
   "metadata": {},
   "outputs": [
    {
     "data": {
      "text/plain": [
       "{'l': 1, 'e': 2, 't': 2, 'r': 1, 's': 1}"
      ]
     },
     "execution_count": 138,
     "metadata": {},
     "output_type": "execute_result"
    }
   ],
   "source": [
    "letter_counts"
   ]
  },
  {
   "cell_type": "code",
   "execution_count": 139,
   "id": "1920da18",
   "metadata": {},
   "outputs": [],
   "source": [
    "# 문자열 ' letters' 일곱 문자를 반복해서 문자가 몇 번 나왔는지 그 수를 센다. \n",
    "# e와 t 모두 두 번씩 세기 때문에 두 번의 word.count(letter) 사용은 시간을 낭비한다. \n",
    "# 그러나 두 번째로 e 를 셀 때는 딕셔너리에 이미 존재하는 항목을 단지 교체만 하기 때문에\n",
    "# 아무런 해가 되지 않는다. t도 마찬가지다. 조금 더 파이써닉한 예제를 살펴보자."
   ]
  },
  {
   "cell_type": "code",
   "execution_count": 140,
   "id": "49bf6801",
   "metadata": {},
   "outputs": [],
   "source": [
    "word = 'letters'"
   ]
  },
  {
   "cell_type": "code",
   "execution_count": 141,
   "id": "b1c11524",
   "metadata": {},
   "outputs": [],
   "source": [
    "letter_counts={letter:word.count(letter) for letter in set(word)}"
   ]
  },
  {
   "cell_type": "code",
   "execution_count": 142,
   "id": "25b5e929",
   "metadata": {},
   "outputs": [
    {
     "data": {
      "text/plain": [
       "{'s': 1, 'r': 1, 'e': 2, 't': 2, 'l': 1}"
      ]
     },
     "execution_count": 142,
     "metadata": {},
     "output_type": "execute_result"
    }
   ],
   "source": [
    "letter_counts"
   ]
  },
  {
   "cell_type": "code",
   "execution_count": 143,
   "id": "2ea99db0",
   "metadata": {},
   "outputs": [],
   "source": [
    "# 딕셔너리의 키가 이전 예제와는 다르게 정렬됐다. set(word)를순회하는 것은 문자열 word를 \n",
    "# 순회하는 것과 다르게 문자를 반환하기 때문이다.\n",
    "# 리스트 컴프리헨션과 같이 딕셔너리 컴프리헨션 또한 if 문과 다중 for 문을 사용할수 있다."
   ]
  },
  {
   "cell_type": "code",
   "execution_count": 144,
   "id": "75bea88c",
   "metadata": {},
   "outputs": [],
   "source": [
    "# {키_표현식 : 값_표현식 for 표현식 in 순회 가능한 객체 if 테스트 }"
   ]
  },
  {
   "cell_type": "code",
   "execution_count": 145,
   "id": "4f905c97",
   "metadata": {},
   "outputs": [],
   "source": [
    "vowels = 'aeiou'"
   ]
  },
  {
   "cell_type": "code",
   "execution_count": 146,
   "id": "3998263f",
   "metadata": {},
   "outputs": [],
   "source": [
    "word= 'onomatopoeia'"
   ]
  },
  {
   "cell_type": "code",
   "execution_count": 147,
   "id": "db91e526",
   "metadata": {},
   "outputs": [],
   "source": [
    "vowel_counts={letter: word.count(letter)for letter in set(word) if letter in vowels}"
   ]
  },
  {
   "cell_type": "code",
   "execution_count": 148,
   "id": "be584428",
   "metadata": {},
   "outputs": [
    {
     "data": {
      "text/plain": [
       "{'i': 1, 'a': 2, 'e': 1, 'o': 4}"
      ]
     },
     "execution_count": 148,
     "metadata": {},
     "output_type": "execute_result"
    }
   ],
   "source": [
    "vowel_counts"
   ]
  },
  {
   "cell_type": "code",
   "execution_count": 149,
   "id": "1c0b8e35",
   "metadata": {},
   "outputs": [],
   "source": [
    "# 셋  (순서와 상관없이 저장 )\n",
    "# set 은 값은 버리고 키만 남은 딕셔너리와 같다. \n",
    "# 딕셔너리와 마찬가지로 각 키는 유일해야 한다. \n",
    "# 어떤 것이 존재하는지만 판단할 때 셋을 사용한다. \n",
    "# 그리고 키에 어떤 정보를 첨부해서 그 결과를 얻고 싶을 때 딕셔너리를 사용한다.\n",
    "# 이미 초등학교 수학시간에 셋（집합）에 대해 배웠을지도 모른다. 초등과정을 생략했거나，저자 \n",
    "# 처럼 수업시간에 종종 수학책을 덮고 먼 산만 바라봤다면 ［그림 8-1］의 합집합-nn과 교집합 \n",
    "# intciseclion을 참조해보자.\n",
    "# 같은 키를 갖고 있는 두 개의 셋을 결합한다고 가정해보자. 셋은 각 항목이 유일해야 해서 두 \n",
    "# 셋의 합집합은 하나의 키만 포함한다. 널\"\"11 혹은 빈CnW 셋은 항목이 하나도 없는 셋이다. ［그 \n",
    "# 림 8-1］에서 널 집합의 예는 X로 시작하는 여성 이름일 것이다."
   ]
  },
  {
   "cell_type": "code",
   "execution_count": 150,
   "id": "73ee2648",
   "metadata": {},
   "outputs": [],
   "source": [
    "empty_set = set()"
   ]
  },
  {
   "cell_type": "code",
   "execution_count": 151,
   "id": "f6d52f09",
   "metadata": {},
   "outputs": [
    {
     "data": {
      "text/plain": [
       "set()"
      ]
     },
     "execution_count": 151,
     "metadata": {},
     "output_type": "execute_result"
    }
   ],
   "source": [
    "empty_set"
   ]
  },
  {
   "cell_type": "code",
   "execution_count": 152,
   "id": "801c8f52",
   "metadata": {},
   "outputs": [],
   "source": [
    "even_numbers = {0,2,4,6,8}"
   ]
  },
  {
   "cell_type": "code",
   "execution_count": 153,
   "id": "45a576e9",
   "metadata": {},
   "outputs": [
    {
     "data": {
      "text/plain": [
       "{0, 2, 4, 6, 8}"
      ]
     },
     "execution_count": 153,
     "metadata": {},
     "output_type": "execute_result"
    }
   ],
   "source": [
    "even_numbers"
   ]
  },
  {
   "cell_type": "code",
   "execution_count": 154,
   "id": "9bc53694",
   "metadata": {},
   "outputs": [],
   "source": [
    "odd_numbers ={1,3,5,7,9}"
   ]
  },
  {
   "cell_type": "code",
   "execution_count": 155,
   "id": "2e4c8e82",
   "metadata": {},
   "outputs": [
    {
     "data": {
      "text/plain": [
       "{1, 3, 5, 7, 9}"
      ]
     },
     "execution_count": 155,
     "metadata": {},
     "output_type": "execute_result"
    }
   ],
   "source": [
    "odd_numbers"
   ]
  },
  {
   "cell_type": "code",
   "execution_count": 156,
   "id": "0791373f",
   "metadata": {},
   "outputs": [],
   "source": [
    "# []가 빈 리스트를 생성하기 때문에 {}도 빈 셋을 생성한다고 추측할수 있다 \n",
    "# 그러나 {}는 빈 딕셔너리를 생성한다. \n",
    "# 이것이 인터프리터가 빈 셋을 {} 대신 set()으로 출력하는 이유이기도 하다 왜 그럴까? \n",
    "# 파이썬에서 딕셔너리가 먼저 등장해서 중괄호를 이미 차지하고 있었기 때문이다."
   ]
  },
  {
   "cell_type": "code",
   "execution_count": null,
   "id": "94ba71d1",
   "metadata": {},
   "outputs": [],
   "source": []
  },
  {
   "cell_type": "code",
   "execution_count": 157,
   "id": "ac042ce8",
   "metadata": {},
   "outputs": [],
   "source": [
    "# 변환하기: set()\n",
    "# 리스트，문자열，튜플, 딕셔너리에서 중복된 값을 삭제하여 셋을 생성할 수 있다 "
   ]
  },
  {
   "cell_type": "code",
   "execution_count": 158,
   "id": "e3c4aa99",
   "metadata": {},
   "outputs": [
    {
     "data": {
      "text/plain": [
       "{'e', 'l', 'r', 's', 't'}"
      ]
     },
     "execution_count": 158,
     "metadata": {},
     "output_type": "execute_result"
    }
   ],
   "source": [
    "set('letters') # ' letters' 에 ' e'와 ' t' 가 두 개씩 있어도，셋에는 이 문자들이 하나씩 포함되어 있다."
   ]
  },
  {
   "cell_type": "code",
   "execution_count": 159,
   "id": "a7b3daf3",
   "metadata": {},
   "outputs": [
    {
     "data": {
      "text/plain": [
       "{'Dancer', 'Dasher', 'Mason-Dixon', 'Prancer'}"
      ]
     },
     "execution_count": 159,
     "metadata": {},
     "output_type": "execute_result"
    }
   ],
   "source": [
    "set(['Dasher','Dancer','Prancer','Mason-Dixon'])"
   ]
  },
  {
   "cell_type": "code",
   "execution_count": 160,
   "id": "6319cdbd",
   "metadata": {},
   "outputs": [],
   "source": [
    "# 이번에는 튜플을 셋으로 만들어보자 195"
   ]
  },
  {
   "cell_type": "code",
   "execution_count": 161,
   "id": "9af27641",
   "metadata": {},
   "outputs": [],
   "source": [
    "reindeer = set(['Dasher','Dancer','Prancer','Mason-Dixon'])"
   ]
  },
  {
   "cell_type": "code",
   "execution_count": 162,
   "id": "983b6719",
   "metadata": {},
   "outputs": [
    {
     "data": {
      "text/plain": [
       "4"
      ]
     },
     "execution_count": 162,
     "metadata": {},
     "output_type": "execute_result"
    }
   ],
   "source": [
    "len(reindeer)"
   ]
  },
  {
   "cell_type": "code",
   "execution_count": 163,
   "id": "58f94bb8",
   "metadata": {},
   "outputs": [],
   "source": [
    "# 8.2.4 항목 추가하기 : add()"
   ]
  },
  {
   "cell_type": "code",
   "execution_count": 164,
   "id": "46dca93e",
   "metadata": {},
   "outputs": [],
   "source": [
    "s = set((1,2,3))"
   ]
  },
  {
   "cell_type": "code",
   "execution_count": 165,
   "id": "c0dfa785",
   "metadata": {},
   "outputs": [
    {
     "data": {
      "text/plain": [
       "{1, 2, 3}"
      ]
     },
     "execution_count": 165,
     "metadata": {},
     "output_type": "execute_result"
    }
   ],
   "source": [
    "s"
   ]
  },
  {
   "cell_type": "code",
   "execution_count": 166,
   "id": "fa3bd4e8",
   "metadata": {},
   "outputs": [],
   "source": [
    "s.add(4)"
   ]
  },
  {
   "cell_type": "code",
   "execution_count": 167,
   "id": "2cd978d5",
   "metadata": {},
   "outputs": [
    {
     "data": {
      "text/plain": [
       "{1, 2, 3, 4}"
      ]
     },
     "execution_count": 167,
     "metadata": {},
     "output_type": "execute_result"
    }
   ],
   "source": [
    "s"
   ]
  },
  {
   "cell_type": "code",
   "execution_count": 168,
   "id": "78f431cd",
   "metadata": {},
   "outputs": [],
   "source": [
    "s=set((1,2,3))"
   ]
  },
  {
   "cell_type": "code",
   "execution_count": 169,
   "id": "d2c01f96",
   "metadata": {},
   "outputs": [],
   "source": [
    "s.remove(3)"
   ]
  },
  {
   "cell_type": "code",
   "execution_count": 170,
   "id": "1215a46e",
   "metadata": {},
   "outputs": [
    {
     "data": {
      "text/plain": [
       "{1, 2}"
      ]
     },
     "execution_count": 170,
     "metadata": {},
     "output_type": "execute_result"
    }
   ],
   "source": [
    "s"
   ]
  },
  {
   "cell_type": "code",
   "execution_count": 171,
   "id": "221b2c46",
   "metadata": {},
   "outputs": [],
   "source": [
    "# 8.2.6 순회하기 for와 in"
   ]
  },
  {
   "cell_type": "code",
   "execution_count": 172,
   "id": "f994e2be",
   "metadata": {},
   "outputs": [],
   "source": [
    "furniture = set(('sofa','ottoman','table'))"
   ]
  },
  {
   "cell_type": "code",
   "execution_count": 173,
   "id": "825b9034",
   "metadata": {},
   "outputs": [
    {
     "name": "stdout",
     "output_type": "stream",
     "text": [
      "ottoman\n",
      "sofa\n",
      "table\n"
     ]
    }
   ],
   "source": [
    "for piece in furniture:\n",
    "    print(piece)"
   ]
  },
  {
   "cell_type": "code",
   "execution_count": 174,
   "id": "973aa4c5",
   "metadata": {},
   "outputs": [],
   "source": [
    "# 멤버십 테스트 in"
   ]
  },
  {
   "cell_type": "code",
   "execution_count": 175,
   "id": "0c22d769",
   "metadata": {},
   "outputs": [],
   "source": [
    "drinks={\n",
    "    'martini':{'vodka','vermouth'},\n",
    "    'black russian': {'vodka','kahlua'},\n",
    "    'white russian': {'cream','kahlua','vodka'},\n",
    "    'manhattan':{'rye','vermouth','bitters'},\n",
    "    'screwdriver':{'orange juice','vodka'}\n",
    "}"
   ]
  },
  {
   "cell_type": "code",
   "execution_count": 176,
   "id": "6b85adc2",
   "metadata": {},
   "outputs": [
    {
     "name": "stdout",
     "output_type": "stream",
     "text": [
      "martini\n",
      "black russian\n",
      "white russian\n",
      "screwdriver\n"
     ]
    }
   ],
   "source": [
    "for name, contents in drinks.items():\n",
    "    if 'vodka' in contents:\n",
    "        print(name)"
   ]
  },
  {
   "cell_type": "code",
   "execution_count": 177,
   "id": "afcf8825",
   "metadata": {},
   "outputs": [
    {
     "name": "stdout",
     "output_type": "stream",
     "text": [
      "black russian\n",
      "screwdriver\n"
     ]
    }
   ],
   "source": [
    "for name, contents in drinks.items():\n",
    "    if 'vodka' in contents and not ('vermouth' in contents or 'cream' in contents):\n",
    "        print(name)"
   ]
  },
  {
   "cell_type": "code",
   "execution_count": 178,
   "id": "c688e30a",
   "metadata": {},
   "outputs": [],
   "source": [
    "# 콤비네이션 연산자  -> 셋의 조합을 확인"
   ]
  },
  {
   "cell_type": "code",
   "execution_count": 179,
   "id": "86764b5c",
   "metadata": {},
   "outputs": [
    {
     "name": "stdout",
     "output_type": "stream",
     "text": [
      "black russian\n",
      "screwdriver\n"
     ]
    }
   ],
   "source": [
    "for name, contents in drinks.items():\n",
    "    if 'vodka' in contents and not contents & {'vermouth','cream'}:\n",
    "        print(name)"
   ]
  },
  {
   "cell_type": "code",
   "execution_count": 180,
   "id": "ad86ba19",
   "metadata": {},
   "outputs": [],
   "source": [
    "bruss = drinks['black russian']"
   ]
  },
  {
   "cell_type": "code",
   "execution_count": 181,
   "id": "42f8cba0",
   "metadata": {},
   "outputs": [],
   "source": [
    "wruss = drinks['white russian']"
   ]
  },
  {
   "cell_type": "code",
   "execution_count": 182,
   "id": "58d8e9e6",
   "metadata": {},
   "outputs": [],
   "source": [
    "a={1,2}"
   ]
  },
  {
   "cell_type": "code",
   "execution_count": 183,
   "id": "2ee03745",
   "metadata": {},
   "outputs": [],
   "source": [
    "b={2,3}"
   ]
  },
  {
   "cell_type": "code",
   "execution_count": 184,
   "id": "4e9449e7",
   "metadata": {},
   "outputs": [
    {
     "data": {
      "text/plain": [
       "{2}"
      ]
     },
     "execution_count": 184,
     "metadata": {},
     "output_type": "execute_result"
    }
   ],
   "source": [
    "a & b"
   ]
  },
  {
   "cell_type": "code",
   "execution_count": 185,
   "id": "c6e66c2e",
   "metadata": {},
   "outputs": [
    {
     "data": {
      "text/plain": [
       "{2}"
      ]
     },
     "execution_count": 185,
     "metadata": {},
     "output_type": "execute_result"
    }
   ],
   "source": [
    "a.intersection(b) # 양쪽 set에 공통으로 들어있는 항목 "
   ]
  },
  {
   "cell_type": "code",
   "execution_count": 186,
   "id": "ecece770",
   "metadata": {},
   "outputs": [
    {
     "data": {
      "text/plain": [
       "{'kahlua', 'vodka'}"
      ]
     },
     "execution_count": 186,
     "metadata": {},
     "output_type": "execute_result"
    }
   ],
   "source": [
    "bruss & wruss"
   ]
  },
  {
   "cell_type": "code",
   "execution_count": 187,
   "id": "c181688d",
   "metadata": {},
   "outputs": [
    {
     "data": {
      "text/plain": [
       "{1, 2, 3}"
      ]
     },
     "execution_count": 187,
     "metadata": {},
     "output_type": "execute_result"
    }
   ],
   "source": [
    "a|b"
   ]
  },
  {
   "cell_type": "code",
   "execution_count": 188,
   "id": "66aaff73",
   "metadata": {},
   "outputs": [
    {
     "data": {
      "text/plain": [
       "{1, 2, 3}"
      ]
     },
     "execution_count": 188,
     "metadata": {},
     "output_type": "execute_result"
    }
   ],
   "source": [
    "a.union(b)"
   ]
  },
  {
   "cell_type": "code",
   "execution_count": 189,
   "id": "92a448e2",
   "metadata": {},
   "outputs": [
    {
     "data": {
      "text/plain": [
       "{'cream', 'kahlua', 'vodka'}"
      ]
     },
     "execution_count": 189,
     "metadata": {},
     "output_type": "execute_result"
    }
   ],
   "source": [
    "bruss | wruss"
   ]
  },
  {
   "cell_type": "code",
   "execution_count": 190,
   "id": "f773401f",
   "metadata": {},
   "outputs": [],
   "source": [
    "# 연산자와 difference() 메서드를 사용해서 차집합을 구해보자\n",
    "# 첫번째 셋에는 있지만 두번째 셋에는 없는 항목 "
   ]
  },
  {
   "cell_type": "code",
   "execution_count": 191,
   "id": "093fe07e",
   "metadata": {},
   "outputs": [
    {
     "data": {
      "text/plain": [
       "{1}"
      ]
     },
     "execution_count": 191,
     "metadata": {},
     "output_type": "execute_result"
    }
   ],
   "source": [
    "a-b"
   ]
  },
  {
   "cell_type": "code",
   "execution_count": 192,
   "id": "cbede6a8",
   "metadata": {},
   "outputs": [
    {
     "data": {
      "text/plain": [
       "{1}"
      ]
     },
     "execution_count": 192,
     "metadata": {},
     "output_type": "execute_result"
    }
   ],
   "source": [
    "a.difference(b)"
   ]
  },
  {
   "cell_type": "code",
   "execution_count": 193,
   "id": "6150de2a",
   "metadata": {},
   "outputs": [
    {
     "data": {
      "text/plain": [
       "set()"
      ]
     },
     "execution_count": 193,
     "metadata": {},
     "output_type": "execute_result"
    }
   ],
   "source": [
    "bruss-wruss"
   ]
  },
  {
   "cell_type": "code",
   "execution_count": 194,
   "id": "d7fdb3b2",
   "metadata": {},
   "outputs": [
    {
     "data": {
      "text/plain": [
       "{'cream'}"
      ]
     },
     "execution_count": 194,
     "metadata": {},
     "output_type": "execute_result"
    }
   ],
   "source": [
    "wruss-bruss"
   ]
  },
  {
   "cell_type": "code",
   "execution_count": 195,
   "id": "56ff79a6",
   "metadata": {},
   "outputs": [],
   "source": [
    "# ^ 연산자나 symmetric_difference() 메서드를 사용해서 대칭 차집합 \n",
    "# (한 셋에는 포함 할 수 있지만 두 셋 모두에는 포함되지 않는 항목)을 구해보자."
   ]
  },
  {
   "cell_type": "code",
   "execution_count": 196,
   "id": "fd05afa8",
   "metadata": {},
   "outputs": [
    {
     "data": {
      "text/plain": [
       "{1, 3}"
      ]
     },
     "execution_count": 196,
     "metadata": {},
     "output_type": "execute_result"
    }
   ],
   "source": [
    "a ^b"
   ]
  },
  {
   "cell_type": "code",
   "execution_count": 197,
   "id": "666a1574",
   "metadata": {},
   "outputs": [
    {
     "data": {
      "text/plain": [
       "{1, 3}"
      ]
     },
     "execution_count": 197,
     "metadata": {},
     "output_type": "execute_result"
    }
   ],
   "source": [
    "a.symmetric_difference(b)"
   ]
  },
  {
   "cell_type": "code",
   "execution_count": 198,
   "id": "e497e815",
   "metadata": {},
   "outputs": [
    {
     "data": {
      "text/plain": [
       "{'cream'}"
      ]
     },
     "execution_count": 198,
     "metadata": {},
     "output_type": "execute_result"
    }
   ],
   "source": [
    "bruss ^ wruss"
   ]
  },
  {
   "cell_type": "code",
   "execution_count": 199,
   "id": "8ee56b3c",
   "metadata": {},
   "outputs": [],
   "source": [
    "# <= 연산자나 issubset() 메서드를 사용해서 첫 번째 셋이 두 번째 셋의 부분집합 인지 살펴보자."
   ]
  },
  {
   "cell_type": "code",
   "execution_count": 200,
   "id": "a5c76864",
   "metadata": {},
   "outputs": [
    {
     "data": {
      "text/plain": [
       "False"
      ]
     },
     "execution_count": 200,
     "metadata": {},
     "output_type": "execute_result"
    }
   ],
   "source": [
    "a <=b"
   ]
  },
  {
   "cell_type": "code",
   "execution_count": 201,
   "id": "25342234",
   "metadata": {},
   "outputs": [
    {
     "data": {
      "text/plain": [
       "False"
      ]
     },
     "execution_count": 201,
     "metadata": {},
     "output_type": "execute_result"
    }
   ],
   "source": [
    "a.issubset(b)"
   ]
  },
  {
   "cell_type": "code",
   "execution_count": 202,
   "id": "69d7c22a",
   "metadata": {},
   "outputs": [
    {
     "data": {
      "text/plain": [
       "True"
      ]
     },
     "execution_count": 202,
     "metadata": {},
     "output_type": "execute_result"
    }
   ],
   "source": [
    "bruss <= wruss"
   ]
  },
  {
   "cell_type": "code",
   "execution_count": 203,
   "id": "10f1a67d",
   "metadata": {},
   "outputs": [
    {
     "data": {
      "text/plain": [
       "True"
      ]
     },
     "execution_count": 203,
     "metadata": {},
     "output_type": "execute_result"
    }
   ],
   "source": [
    "a <=a"
   ]
  },
  {
   "cell_type": "code",
   "execution_count": 204,
   "id": "b6a8a3a6",
   "metadata": {},
   "outputs": [
    {
     "data": {
      "text/plain": [
       "True"
      ]
     },
     "execution_count": 204,
     "metadata": {},
     "output_type": "execute_result"
    }
   ],
   "source": [
    "a.issubset(a)"
   ]
  },
  {
   "cell_type": "code",
   "execution_count": 205,
   "id": "e75d0c3f",
   "metadata": {},
   "outputs": [
    {
     "data": {
      "text/plain": [
       "False"
      ]
     },
     "execution_count": 205,
     "metadata": {},
     "output_type": "execute_result"
    }
   ],
   "source": [
    "a <b"
   ]
  },
  {
   "cell_type": "code",
   "execution_count": 206,
   "id": "21798358",
   "metadata": {},
   "outputs": [
    {
     "data": {
      "text/plain": [
       "False"
      ]
     },
     "execution_count": 206,
     "metadata": {},
     "output_type": "execute_result"
    }
   ],
   "source": [
    "a<a"
   ]
  },
  {
   "cell_type": "code",
   "execution_count": 207,
   "id": "c12cf0c5",
   "metadata": {},
   "outputs": [
    {
     "data": {
      "text/plain": [
       "True"
      ]
     },
     "execution_count": 207,
     "metadata": {},
     "output_type": "execute_result"
    }
   ],
   "source": [
    "bruss <wruss"
   ]
  },
  {
   "cell_type": "code",
   "execution_count": 208,
   "id": "0288fccc",
   "metadata": {},
   "outputs": [
    {
     "data": {
      "text/plain": [
       "False"
      ]
     },
     "execution_count": 208,
     "metadata": {},
     "output_type": "execute_result"
    }
   ],
   "source": [
    "a >=b"
   ]
  },
  {
   "cell_type": "code",
   "execution_count": 209,
   "id": "2a5cb572",
   "metadata": {},
   "outputs": [
    {
     "data": {
      "text/plain": [
       "False"
      ]
     },
     "execution_count": 209,
     "metadata": {},
     "output_type": "execute_result"
    }
   ],
   "source": [
    "a.issuperset(b)"
   ]
  },
  {
   "cell_type": "code",
   "execution_count": 210,
   "id": "f345e6cb",
   "metadata": {},
   "outputs": [
    {
     "data": {
      "text/plain": [
       "True"
      ]
     },
     "execution_count": 210,
     "metadata": {},
     "output_type": "execute_result"
    }
   ],
   "source": [
    "wruss >= bruss"
   ]
  },
  {
   "cell_type": "code",
   "execution_count": 211,
   "id": "52a8c943",
   "metadata": {},
   "outputs": [
    {
     "data": {
      "text/plain": [
       "True"
      ]
     },
     "execution_count": 211,
     "metadata": {},
     "output_type": "execute_result"
    }
   ],
   "source": [
    "a >=a"
   ]
  },
  {
   "cell_type": "code",
   "execution_count": 212,
   "id": "955ffd2b",
   "metadata": {},
   "outputs": [
    {
     "data": {
      "text/plain": [
       "True"
      ]
     },
     "execution_count": 212,
     "metadata": {},
     "output_type": "execute_result"
    }
   ],
   "source": [
    "a.issuperset(a)"
   ]
  },
  {
   "cell_type": "code",
   "execution_count": 213,
   "id": "dcee9b41",
   "metadata": {},
   "outputs": [],
   "source": [
    "# 마지막으로 〉연산자를 사용해서 첫 번째 셋이 두 번째 셋의 진상위집합 인지 확인해 보자. \n",
    "# 첫 번째 셋이 두 번째 셋의 진상위집합이 되려면, 첫 번째 셋에는 두 번째 셋의 모든 항목 \n",
    "# 을 포함한 그 이상의 항목이 있어야 한다."
   ]
  },
  {
   "cell_type": "code",
   "execution_count": 214,
   "id": "79c7b97e",
   "metadata": {},
   "outputs": [
    {
     "data": {
      "text/plain": [
       "False"
      ]
     },
     "execution_count": 214,
     "metadata": {},
     "output_type": "execute_result"
    }
   ],
   "source": [
    "a >b"
   ]
  },
  {
   "cell_type": "code",
   "execution_count": 215,
   "id": "6669e06b",
   "metadata": {},
   "outputs": [
    {
     "data": {
      "text/plain": [
       "True"
      ]
     },
     "execution_count": 215,
     "metadata": {},
     "output_type": "execute_result"
    }
   ],
   "source": [
    "wruss > bruss"
   ]
  },
  {
   "cell_type": "code",
   "execution_count": 216,
   "id": "dd8cf5fd",
   "metadata": {},
   "outputs": [
    {
     "data": {
      "text/plain": [
       "False"
      ]
     },
     "execution_count": 216,
     "metadata": {},
     "output_type": "execute_result"
    }
   ],
   "source": [
    "a > a # 모든 셋은 자신의 진상위집합이 될 수 없다."
   ]
  },
  {
   "cell_type": "code",
   "execution_count": 217,
   "id": "80cf25ea",
   "metadata": {},
   "outputs": [],
   "source": [
    " # 셋 컴프리헨션 \n",
    "    #리스트, 딕셔너리 컴프리헨션과 같은 모양이다."
   ]
  },
  {
   "cell_type": "code",
   "execution_count": 218,
   "id": "06997fba",
   "metadata": {},
   "outputs": [],
   "source": [
    "#｛표현식  for 표현식  in 순회  가능한 객체｝"
   ]
  },
  {
   "cell_type": "code",
   "execution_count": 219,
   "id": "5aa5942c",
   "metadata": {},
   "outputs": [],
   "source": [
    "# for문 , if문 사용 가능\n",
    "# {표현식  for 표현식  in 순회  가능한 객체 if 테스트}"
   ]
  },
  {
   "cell_type": "code",
   "execution_count": 220,
   "id": "dcc81632",
   "metadata": {},
   "outputs": [],
   "source": [
    "a_set = {number for number in range(1,6) if number%3 ==1 }"
   ]
  },
  {
   "cell_type": "code",
   "execution_count": 221,
   "id": "925622ab",
   "metadata": {},
   "outputs": [
    {
     "data": {
      "text/plain": [
       "{1, 4}"
      ]
     },
     "execution_count": 221,
     "metadata": {},
     "output_type": "execute_result"
    }
   ],
   "source": [
    "a_set"
   ]
  },
  {
   "cell_type": "code",
   "execution_count": 222,
   "id": "5f80de36",
   "metadata": {},
   "outputs": [],
   "source": [
    "# 불변 셋 생성하기: frozenset()"
   ]
  },
  {
   "cell_type": "code",
   "execution_count": 223,
   "id": "1c981b7a",
   "metadata": {},
   "outputs": [
    {
     "data": {
      "text/plain": [
       "frozenset({1, 2, 3})"
      ]
     },
     "execution_count": 223,
     "metadata": {},
     "output_type": "execute_result"
    }
   ],
   "source": [
    "frozenset([3,2,1])"
   ]
  },
  {
   "cell_type": "code",
   "execution_count": 224,
   "id": "0efa8d02",
   "metadata": {},
   "outputs": [
    {
     "data": {
      "text/plain": [
       "frozenset({1, 2, 3})"
      ]
     },
     "execution_count": 224,
     "metadata": {},
     "output_type": "execute_result"
    }
   ],
   "source": [
    "frozenset(set([2,1,3]))"
   ]
  },
  {
   "cell_type": "code",
   "execution_count": 225,
   "id": "80bc455d",
   "metadata": {},
   "outputs": [
    {
     "data": {
      "text/plain": [
       "frozenset({1, 2, 3})"
      ]
     },
     "execution_count": 225,
     "metadata": {},
     "output_type": "execute_result"
    }
   ],
   "source": [
    "frozenset({3,1,2})"
   ]
  },
  {
   "cell_type": "code",
   "execution_count": 226,
   "id": "28c8cb47",
   "metadata": {},
   "outputs": [],
   "source": [
    "fs = frozenset([3,2,1])"
   ]
  },
  {
   "cell_type": "code",
   "execution_count": 227,
   "id": "55ebbd71",
   "metadata": {},
   "outputs": [
    {
     "data": {
      "text/plain": [
       "frozenset({1, 2, 3})"
      ]
     },
     "execution_count": 227,
     "metadata": {},
     "output_type": "execute_result"
    }
   ],
   "source": [
    "fs"
   ]
  },
  {
   "cell_type": "code",
   "execution_count": 228,
   "id": "556315ca",
   "metadata": {},
   "outputs": [
    {
     "ename": "AttributeError",
     "evalue": "'frozenset' object has no attribute 'add'",
     "output_type": "error",
     "traceback": [
      "\u001b[1;31m---------------------------------------------------------------------------\u001b[0m",
      "\u001b[1;31mAttributeError\u001b[0m                            Traceback (most recent call last)",
      "Cell \u001b[1;32mIn[228], line 1\u001b[0m\n\u001b[1;32m----> 1\u001b[0m fs\u001b[38;5;241m.\u001b[39madd(\u001b[38;5;241m4\u001b[39m)\n",
      "\u001b[1;31mAttributeError\u001b[0m: 'frozenset' object has no attribute 'add'"
     ]
    }
   ],
   "source": [
    "fs.add(4) # 에러 "
   ]
  },
  {
   "cell_type": "code",
   "execution_count": null,
   "id": "89ab2763",
   "metadata": {},
   "outputs": [],
   "source": []
  },
  {
   "cell_type": "code",
   "execution_count": 229,
   "id": "ea4d55e3",
   "metadata": {},
   "outputs": [],
   "source": [
    "# 8.3 지금까지 배운 자료구조\n",
    "# 대괄호[]를 사용한 리스트\n",
    "# 콤마와 괄호() 를 사용한 튜플(괄호는 옵션이다)\n",
    "# 중괄호{} 를 사용한 딕셔너리 또는 셋\n",
    "# 셋을 제외하고 모두 대괄호로 항목에 접근한다. 리스트와 튜플의 경우 대괄호에 들어가는 값이 \n",
    " # 정수오프셋이고 딕셔너리는 키다. 이 세 가지에 대한 결과는 값이다. 셋은 인덱스와 키가 없다."
   ]
  },
  {
   "cell_type": "code",
   "execution_count": 230,
   "id": "88c40260",
   "metadata": {},
   "outputs": [],
   "source": [
    "marx_list=['Groucho','Chico','Harpo']"
   ]
  },
  {
   "cell_type": "code",
   "execution_count": 231,
   "id": "996e6c42",
   "metadata": {},
   "outputs": [],
   "source": [
    "marx_tuple= ('Groucho','Chico','Harpo')"
   ]
  },
  {
   "cell_type": "code",
   "execution_count": 232,
   "id": "ec5719ca",
   "metadata": {},
   "outputs": [],
   "source": [
    "marx_dict = {'Groucho': 'banjo','Chico':'piano','Harpo':'harp'}"
   ]
  },
  {
   "cell_type": "code",
   "execution_count": 233,
   "id": "2be41255",
   "metadata": {},
   "outputs": [],
   "source": [
    "marx_set = {'Groucho','Chico','Harpo'}"
   ]
  },
  {
   "cell_type": "code",
   "execution_count": 234,
   "id": "f7f8b923",
   "metadata": {},
   "outputs": [
    {
     "data": {
      "text/plain": [
       "'Harpo'"
      ]
     },
     "execution_count": 234,
     "metadata": {},
     "output_type": "execute_result"
    }
   ],
   "source": [
    "marx_list[2]"
   ]
  },
  {
   "cell_type": "code",
   "execution_count": 235,
   "id": "eaef0860",
   "metadata": {},
   "outputs": [
    {
     "data": {
      "text/plain": [
       "'Harpo'"
      ]
     },
     "execution_count": 235,
     "metadata": {},
     "output_type": "execute_result"
    }
   ],
   "source": [
    "marx_tuple[2]"
   ]
  },
  {
   "cell_type": "code",
   "execution_count": 236,
   "id": "1d08cf9b",
   "metadata": {},
   "outputs": [
    {
     "data": {
      "text/plain": [
       "'harp'"
      ]
     },
     "execution_count": 236,
     "metadata": {},
     "output_type": "execute_result"
    }
   ],
   "source": [
    "marx_dict['Harpo']"
   ]
  },
  {
   "cell_type": "code",
   "execution_count": 237,
   "id": "5823d2b6",
   "metadata": {},
   "outputs": [
    {
     "data": {
      "text/plain": [
       "True"
      ]
     },
     "execution_count": 237,
     "metadata": {},
     "output_type": "execute_result"
    }
   ],
   "source": [
    "'Harpo' in marx_list"
   ]
  },
  {
   "cell_type": "code",
   "execution_count": 238,
   "id": "ae728270",
   "metadata": {},
   "outputs": [
    {
     "data": {
      "text/plain": [
       "True"
      ]
     },
     "execution_count": 238,
     "metadata": {},
     "output_type": "execute_result"
    }
   ],
   "source": [
    "'Harpo' in marx_tuple"
   ]
  },
  {
   "cell_type": "code",
   "execution_count": 239,
   "id": "1dc8fd82",
   "metadata": {},
   "outputs": [
    {
     "data": {
      "text/plain": [
       "True"
      ]
     },
     "execution_count": 239,
     "metadata": {},
     "output_type": "execute_result"
    }
   ],
   "source": [
    "'Harpo' in marx_dict"
   ]
  },
  {
   "cell_type": "code",
   "execution_count": 240,
   "id": "06ea36bc",
   "metadata": {},
   "outputs": [
    {
     "data": {
      "text/plain": [
       "True"
      ]
     },
     "execution_count": 240,
     "metadata": {},
     "output_type": "execute_result"
    }
   ],
   "source": [
    "'Harpo' in marx_set"
   ]
  },
  {
   "cell_type": "code",
   "execution_count": 241,
   "id": "bf39062d",
   "metadata": {},
   "outputs": [],
   "source": [
    " # 8.4 자료구조 결합하기 "
   ]
  },
  {
   "cell_type": "code",
   "execution_count": 242,
   "id": "c9a4edfa",
   "metadata": {},
   "outputs": [],
   "source": [
    "# 지금까지 간단한불리언，숫자，문자열부터 리스트, 튜플，셋，딕셔너리까지 살펴봤다. \n",
    "# 이런 내 장된 자료구조를 결합해서 자료구조를 확장할 수 있다. "
   ]
  },
  {
   "cell_type": "code",
   "execution_count": 243,
   "id": "13f60325",
   "metadata": {},
   "outputs": [],
   "source": [
    "# 튜플의 각 요소를 리스트로 채우기"
   ]
  },
  {
   "cell_type": "code",
   "execution_count": 244,
   "id": "0edb5aba",
   "metadata": {},
   "outputs": [],
   "source": [
    "# 리스트를 포함한 리스트"
   ]
  },
  {
   "cell_type": "code",
   "execution_count": 245,
   "id": "b18c676e",
   "metadata": {},
   "outputs": [],
   "source": [
    "# 딕셔너리에 키는 문자열 값에 리스트 이런식으로도 가능 "
   ]
  },
  {
   "cell_type": "code",
   "execution_count": 246,
   "id": "76a288a0",
   "metadata": {},
   "outputs": [],
   "source": [
    "# 딕셔너리，셋은 딕셔너리의 키가 될 수 없다. \n",
    "# 그러나 튜플은 딕셔너리의 키가 될 수 있다. "
   ]
  }
 ],
 "metadata": {
  "kernelspec": {
   "display_name": "Python 3 (ipykernel)",
   "language": "python",
   "name": "python3"
  },
  "language_info": {
   "codemirror_mode": {
    "name": "ipython",
    "version": 3
   },
   "file_extension": ".py",
   "mimetype": "text/x-python",
   "name": "python",
   "nbconvert_exporter": "python",
   "pygments_lexer": "ipython3",
   "version": "3.11.5"
  }
 },
 "nbformat": 4,
 "nbformat_minor": 5
}
