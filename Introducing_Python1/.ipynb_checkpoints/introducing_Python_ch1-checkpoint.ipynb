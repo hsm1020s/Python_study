{
 "cells": [
  {
   "cell_type": "code",
   "execution_count": null,
   "id": "88b3e640",
   "metadata": {},
   "outputs": [],
   "source": [
    "컴퓨터 프로그램은 일상에서 일어나는 일과 크게 다르지 않다. \n",
    "작은 파이썬 프로그램은 현업에 서 사용하는 언어의 외형，기능，용도를 엿볼 수 있다. \n",
    "대화식 인터프리터 또는 컴퓨터에 있는 텍스트 파일의 파이썬 프로그램을 실행한다."
   ]
  },
  {
   "cell_type": "code",
   "execution_count": 1,
   "id": "b87b3ec2",
   "metadata": {},
   "outputs": [
    {
     "name": "stdout",
     "output_type": "stream",
     "text": [
      "5\n",
      "4\n",
      "3\n",
      "2\n",
      "1\n",
      "hey!\n"
     ]
    }
   ],
   "source": [
    "for countdown in 5,4,3,2,1, \"hey!\":\n",
    "    print(countdown)"
   ]
  },
  {
   "cell_type": "code",
   "execution_count": null,
   "id": "be4fb131",
   "metadata": {},
   "outputs": [],
   "source": [
    "파이썬 프로그램에는 for, in, print, , （콤마），: （콜론），（ ） （괄호） 등 \n",
    "몇 가지 특별한 단어 와 기호가 있다.\n",
    "이것은 언어의 구문에서 중요한 부분을 차지한다."
   ]
  },
  {
   "cell_type": "code",
   "execution_count": 13,
   "id": "025643ec",
   "metadata": {},
   "outputs": [
    {
     "name": "stdout",
     "output_type": "stream",
     "text": [
      "Expecto  Patronum!\n"
     ]
    }
   ],
   "source": [
    "spells = [\n",
    "    \"Riddikulus!\",\n",
    "    \"Wingardium Leviosa!\", \n",
    "    \"Avada  Kedavra!\",\n",
    "    \"Expecto  Patronum!\", \n",
    "    \"Nox!\",\n",
    "    \"Lumos!\",\n",
    "]\n",
    "print(spells[3])"
   ]
  },
  {
   "cell_type": "code",
   "execution_count": null,
   "id": "f8fa8600",
   "metadata": {},
   "outputs": [],
   "source": [
    "# 리스트의 개별 단어들은 파이썬 문자열 \n",
    "# 파이썬 리스트는 대괄호 사용 "
   ]
  },
  {
   "cell_type": "code",
   "execution_count": 16,
   "id": "de14c0b7",
   "metadata": {},
   "outputs": [
    {
     "name": "stdout",
     "output_type": "stream",
     "text": [
      "Curly says: Nyuk nyuk!\n"
     ]
    }
   ],
   "source": [
    "quotes ={\n",
    "    \"Moe\":  \"A wise guy,  huh?\", \n",
    "    \"Larry\":  \"Owl\",\n",
    "    \"Curly\":  \"Nyuk nyuk!\", \n",
    "    }\n",
    "stooge = \"Curly\"\n",
    "print(stooge,  \"says:\",  quotes[stooge]) "
   ]
  },
  {
   "cell_type": "code",
   "execution_count": null,
   "id": "fb9a4af8",
   "metadata": {},
   "outputs": [],
   "source": [
    "#코드 넣을때 대괄호 조심 "
   ]
  },
  {
   "cell_type": "code",
   "execution_count": null,
   "id": "54af2a03",
   "metadata": {},
   "outputs": [],
   "source": [
    "변수 quotes는 파이썬 딕셔너리다. \n",
    "딕셔너리는 키의 모임과, 값으로 이루어져있다"
   ]
  },
  {
   "cell_type": "code",
   "execution_count": null,
   "id": "541b38cc",
   "metadata": {},
   "outputs": [],
   "source": []
  },
  {
   "cell_type": "code",
   "execution_count": 2,
   "id": "6a9b1a65",
   "metadata": {},
   "outputs": [
    {
     "name": "stdout",
     "output_type": "stream",
     "text": [
      "Let's find an  old website.\n",
      "Type a  website URL:   www.naver.com\n",
      "Type a  year,  month,  and  day,  like 20150613:  20231027\n",
      "Found this copy:   http://web.archive.org/web/20231027055637/https://www.naver.com/\n",
      "It should appear in your browser  now.\n"
     ]
    }
   ],
   "source": [
    "import webbrowser\n",
    "import json\n",
    "from urllib.request import urlopen\n",
    "\n",
    "print(\"Let's find an  old website.\")\n",
    "site =  input(\"Type a  website URL:   \")\n",
    "era  =  input(\"Type a  year,  month,  and  day,  like 20150613:  \")\n",
    "url =  \"http://archive.org/wayback/available?url=%s&timestamp=%s\" %(site, era)\n",
    "response =  urlopen(url)\n",
    "contents =  response.read()\n",
    "text =  contents.decode(\"utf-8\")\n",
    "data = json.loads(text)\n",
    "try:\n",
    "    old_site =  data[\"archived_snapshots\"][\"closest\"][\"url\"]\n",
    "    print(\"Found this copy:  \", old_site)\n",
    "    print(\"It should appear in your browser  now.\")\n",
    "    webbrowser.open(old_site)\n",
    "except:\n",
    "    print(\"Sorry, no  luck finding\", site)"
   ]
  },
  {
   "cell_type": "code",
   "execution_count": null,
   "id": "cbb2c2fd",
   "metadata": {},
   "outputs": [],
   "source": []
  },
  {
   "cell_type": "code",
   "execution_count": 7,
   "id": "4544a116",
   "metadata": {},
   "outputs": [
    {
     "name": "stdout",
     "output_type": "stream",
     "text": [
      "Let's find an  old website.\n",
      "Type a  website URL:   www.naver.com\n",
      "Type a  year,  month,  and  day,  like 20150613:  20231027\n",
      "Found this copy:   http://web.archive.org/web/20231027055637/https://www.naver.com/\n",
      "It should appear in your browser now.\n"
     ]
    }
   ],
   "source": [
    "import webbrowser\n",
    "import  requests\n",
    "\n",
    "print(\"Let's find an  old website.\")\n",
    "site =  input(\"Type a  website URL:   \")\n",
    "era =  input(\"Type a  year,  month,  and  day,  like 20150613:  \")\n",
    "url =  \"http://archive.org/wayback/available?url=%s&timestamp=%s\" % (site, era)\n",
    "response =  requests.get(url)\n",
    "data =  response.json()\n",
    "try:\n",
    "    old_site =  data[\"archived_snapshots\"][\"closest\"][\"url\"]\n",
    "    print(\"Found this copy:  \", old_site)\n",
    "    print(\"It should appear in your browser now.\")\n",
    "    webbrowser.open(old_site)\n",
    "except:\n",
    "         print(\"Sorry, no  luck finding\", site)"
   ]
  },
  {
   "cell_type": "code",
   "execution_count": null,
   "id": "4d61d56d",
   "metadata": {},
   "outputs": [],
   "source": [
    "# 1.4 파이썬 활용"
   ]
  },
  {
   "cell_type": "code",
   "execution_count": null,
   "id": "ec207f72",
   "metadata": {},
   "outputs": [],
   "source": [
    "C, C++ , 자바는 정적 언어다.\n",
    "반대로 동적 언어( 스크립트 언어 라고 부르기도 하는거)는 변수타입을\n",
    "사용하기 전에 선언하지 않아도 된다."
   ]
  },
  {
   "cell_type": "code",
   "execution_count": null,
   "id": "2c659b80",
   "metadata": {},
   "outputs": [],
   "source": []
  },
  {
   "cell_type": "code",
   "execution_count": null,
   "id": "ec84d45e",
   "metadata": {},
   "outputs": [],
   "source": [
    "파이썬 파일 사용하기"
   ]
  },
  {
   "cell_type": "code",
   "execution_count": 8,
   "id": "b929bef1",
   "metadata": {},
   "outputs": [
    {
     "name": "stdout",
     "output_type": "stream",
     "text": [
      "27\n"
     ]
    }
   ],
   "source": [
    "print(27)"
   ]
  },
  {
   "cell_type": "code",
   "execution_count": 9,
   "id": "674201dc",
   "metadata": {},
   "outputs": [
    {
     "name": "stdout",
     "output_type": "stream",
     "text": [
      "The Zen of Python, by Tim Peters\n",
      "\n",
      "Beautiful is better than ugly.\n",
      "Explicit is better than implicit.\n",
      "Simple is better than complex.\n",
      "Complex is better than complicated.\n",
      "Flat is better than nested.\n",
      "Sparse is better than dense.\n",
      "Readability counts.\n",
      "Special cases aren't special enough to break the rules.\n",
      "Although practicality beats purity.\n",
      "Errors should never pass silently.\n",
      "Unless explicitly silenced.\n",
      "In the face of ambiguity, refuse the temptation to guess.\n",
      "There should be one-- and preferably only one --obvious way to do it.\n",
      "Although that way may not be obvious at first unless you're Dutch.\n",
      "Now is better than never.\n",
      "Although never is often better than *right* now.\n",
      "If the implementation is hard to explain, it's a bad idea.\n",
      "If the implementation is easy to explain, it may be a good idea.\n",
      "Namespaces are one honking great idea -- let's do more of those!\n"
     ]
    }
   ],
   "source": [
    "import this"
   ]
  },
  {
   "cell_type": "code",
   "execution_count": 10,
   "id": "2597eb69",
   "metadata": {},
   "outputs": [
    {
     "data": {
      "text/plain": [
       "47"
      ]
     },
     "execution_count": 10,
     "metadata": {},
     "output_type": "execute_result"
    }
   ],
   "source": [
    "47"
   ]
  },
  {
   "cell_type": "code",
   "execution_count": 11,
   "id": "883d15b0",
   "metadata": {},
   "outputs": [
    {
     "name": "stdout",
     "output_type": "stream",
     "text": [
      "47\n"
     ]
    }
   ],
   "source": [
    "print(47)"
   ]
  },
  {
   "cell_type": "code",
   "execution_count": 12,
   "id": "769add8a",
   "metadata": {},
   "outputs": [
    {
     "data": {
      "text/plain": [
       "int"
      ]
     },
     "execution_count": 12,
     "metadata": {},
     "output_type": "execute_result"
    }
   ],
   "source": [
    "type(47)"
   ]
  },
  {
   "cell_type": "code",
   "execution_count": 13,
   "id": "6042d7d7",
   "metadata": {},
   "outputs": [
    {
     "name": "stdout",
     "output_type": "stream",
     "text": [
      "47\n"
     ]
    },
    {
     "data": {
      "text/plain": [
       "NoneType"
      ]
     },
     "execution_count": 13,
     "metadata": {},
     "output_type": "execute_result"
    }
   ],
   "source": [
    "type(print(47))"
   ]
  },
  {
   "cell_type": "code",
   "execution_count": null,
   "id": "b9555453",
   "metadata": {},
   "outputs": [],
   "source": []
  },
  {
   "cell_type": "code",
   "execution_count": null,
   "id": "f4d2aa10",
   "metadata": {},
   "outputs": [],
   "source": []
  },
  {
   "cell_type": "code",
   "execution_count": null,
   "id": "730ccb58",
   "metadata": {},
   "outputs": [],
   "source": []
  },
  {
   "cell_type": "code",
   "execution_count": null,
   "id": "7634f7ee",
   "metadata": {},
   "outputs": [],
   "source": []
  }
 ],
 "metadata": {
  "kernelspec": {
   "display_name": "Python 3 (ipykernel)",
   "language": "python",
   "name": "python3"
  },
  "language_info": {
   "codemirror_mode": {
    "name": "ipython",
    "version": 3
   },
   "file_extension": ".py",
   "mimetype": "text/x-python",
   "name": "python",
   "nbconvert_exporter": "python",
   "pygments_lexer": "ipython3",
   "version": "3.11.5"
  }
 },
 "nbformat": 4,
 "nbformat_minor": 5
}
