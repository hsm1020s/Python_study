{
 "cells": [
  {
   "cell_type": "code",
   "execution_count": null,
   "id": "88b3e640",
   "metadata": {},
   "outputs": [],
   "source": [
    "컴퓨터 프로그램은 일상에서 일어나는 일과 크게 다르지 않다. \n",
    "작은 파이썬 프로그램은 현업에 서 사용하는 언어의 외형，기능，용도를 엿볼 수 있다. \n",
    "대화식 인터프리터 또는 컴퓨터에 있는 텍스트 파일의 파이썬 프로그램을 실행한다."
   ]
  },
  {
   "cell_type": "code",
   "execution_count": 1,
   "id": "b87b3ec2",
   "metadata": {},
   "outputs": [
    {
     "name": "stdout",
     "output_type": "stream",
     "text": [
      "5\n",
      "4\n",
      "3\n",
      "2\n",
      "1\n",
      "hey!\n"
     ]
    }
   ],
   "source": [
    "for countdown in 5,4,3,2,1, \"hey!\":\n",
    "    print(countdown)"
   ]
  },
  {
   "cell_type": "code",
   "execution_count": null,
   "id": "be4fb131",
   "metadata": {},
   "outputs": [],
   "source": [
    "파이썬 프로그램에는 for, in, print, , （콤마），: （콜론），（ ） （괄호） 등 \n",
    "몇 가지 특별한 단어 와 기호가 있다.\n",
    "이것은 언어의 구문에서 중요한 부분을 차지한다."
   ]
  },
  {
   "cell_type": "code",
   "execution_count": 13,
   "id": "025643ec",
   "metadata": {},
   "outputs": [
    {
     "name": "stdout",
     "output_type": "stream",
     "text": [
      "Expecto  Patronum!\n"
     ]
    }
   ],
   "source": [
    "spells = [\n",
    "    \"Riddikulus!\",\n",
    "    \"Wingardium Leviosa!\", \n",
    "    \"Avada  Kedavra!\",\n",
    "    \"Expecto  Patronum!\", \n",
    "    \"Nox!\",\n",
    "    \"Lumos!\",\n",
    "]\n",
    "print(spells[3])"
   ]
  },
  {
   "cell_type": "code",
   "execution_count": null,
   "id": "f8fa8600",
   "metadata": {},
   "outputs": [],
   "source": [
    "# 리스트의 개별 단어들은 파이썬 문자열 \n",
    "# 파이썬 리스트는 대괄호 사용 "
   ]
  },
  {
   "cell_type": "code",
   "execution_count": 16,
   "id": "de14c0b7",
   "metadata": {},
   "outputs": [
    {
     "name": "stdout",
     "output_type": "stream",
     "text": [
      "Curly says: Nyuk nyuk!\n"
     ]
    }
   ],
   "source": [
    "quotes ={\n",
    "    \"Moe\":  \"A wise guy,  huh?\", \n",
    "    \"Larry\":  \"Owl\",\n",
    "    \"Curly\":  \"Nyuk nyuk!\", \n",
    "    }\n",
    "stooge = \"Curly\"\n",
    "print(stooge,  \"says:\",  quotes[stooge]) "
   ]
  },
  {
   "cell_type": "code",
   "execution_count": null,
   "id": "fb9a4af8",
   "metadata": {},
   "outputs": [],
   "source": [
    "#코드 넣을때 대괄호 조심 "
   ]
  },
  {
   "cell_type": "code",
   "execution_count": null,
   "id": "54af2a03",
   "metadata": {},
   "outputs": [],
   "source": [
    "변수 quotes는 파이썬 딕셔너리다. \n",
    "딕셔너리는 키의 모임과, 값으로 이루어져있다"
   ]
  },
  {
   "cell_type": "code",
   "execution_count": null,
   "id": "541b38cc",
   "metadata": {},
   "outputs": [],
   "source": []
  },
  {
   "cell_type": "code",
   "execution_count": 2,
   "id": "6a9b1a65",
   "metadata": {},
   "outputs": [
    {
     "name": "stdout",
     "output_type": "stream",
     "text": [
      "Let's find an  old website.\n",
      "Type a  website URL:   www.naver.com\n",
      "Type a  year,  month,  and  day,  like 20150613:  20231027\n",
      "Found this copy:   http://web.archive.org/web/20231027055637/https://www.naver.com/\n",
      "It should appear in your browser  now.\n"
     ]
    }
   ],
   "source": [
    "import webbrowser\n",
    "import json\n",
    "from urllib.request import urlopen\n",
    "\n",
    "print(\"Let's find an  old website.\")\n",
    "site =  input(\"Type a  website URL:   \")\n",
    "era  =  input(\"Type a  year,  month,  and  day,  like 20150613:  \")\n",
    "url =  \"http://archive.org/wayback/available?url=%s&timestamp=%s\" %(site, era)\n",
    "response =  urlopen(url)\n",
    "contents =  response.read()\n",
    "text =  contents.decode(\"utf-8\")\n",
    "data = json.loads(text)\n",
    "try:\n",
    "    old_site =  data[\"archived_snapshots\"][\"closest\"][\"url\"]\n",
    "    print(\"Found this copy:  \", old_site)\n",
    "    print(\"It should appear in your browser  now.\")\n",
    "    webbrowser.open(old_site)\n",
    "except:\n",
    "    print(\"Sorry, no  luck finding\", site)"
   ]
  },
  {
   "cell_type": "code",
   "execution_count": null,
   "id": "cbb2c2fd",
   "metadata": {},
   "outputs": [],
   "source": []
  },
  {
   "cell_type": "code",
   "execution_count": 7,
   "id": "4544a116",
   "metadata": {},
   "outputs": [
    {
     "name": "stdout",
     "output_type": "stream",
     "text": [
      "Let's find an  old website.\n",
      "Type a  website URL:   www.naver.com\n",
      "Type a  year,  month,  and  day,  like 20150613:  20231027\n",
      "Found this copy:   http://web.archive.org/web/20231027055637/https://www.naver.com/\n",
      "It should appear in your browser now.\n"
     ]
    }
   ],
   "source": [
    "import webbrowser\n",
    "import  requests\n",
    "\n",
    "print(\"Let's find an  old website.\")\n",
    "site =  input(\"Type a  website URL:   \")\n",
    "era =  input(\"Type a  year,  month,  and  day,  like 20150613:  \")\n",
    "url =  \"http://archive.org/wayback/available?url=%s&timestamp=%s\" % (site, era)\n",
    "response =  requests.get(url)\n",
    "data =  response.json()\n",
    "try:\n",
    "    old_site =  data[\"archived_snapshots\"][\"closest\"][\"url\"]\n",
    "    print(\"Found this copy:  \", old_site)\n",
    "    print(\"It should appear in your browser now.\")\n",
    "    webbrowser.open(old_site)\n",
    "except:\n",
    "         print(\"Sorry, no  luck finding\", site)"
   ]
  },
  {
   "cell_type": "code",
   "execution_count": null,
   "id": "4d61d56d",
   "metadata": {},
   "outputs": [],
   "source": [
    "# 1.4 파이썬 활용"
   ]
  },
  {
   "cell_type": "code",
   "execution_count": null,
   "id": "ec207f72",
   "metadata": {},
   "outputs": [],
   "source": [
    "C, C++ , 자바는 정적 언어다.\n",
    "반대로 동적 언어( 스크립트 언어 라고 부르기도 하는거)는 변수타입을\n",
    "사용하기 전에 선언하지 않아도 된다."
   ]
  },
  {
   "cell_type": "code",
   "execution_count": null,
   "id": "2c659b80",
   "metadata": {},
   "outputs": [],
   "source": []
  },
  {
   "cell_type": "code",
   "execution_count": null,
   "id": "ec84d45e",
   "metadata": {},
   "outputs": [],
   "source": [
    "파이썬 파일 사용하기"
   ]
  },
  {
   "cell_type": "code",
   "execution_count": 8,
   "id": "b929bef1",
   "metadata": {},
   "outputs": [
    {
     "name": "stdout",
     "output_type": "stream",
     "text": [
      "27\n"
     ]
    }
   ],
   "source": [
    "print(27)"
   ]
  },
  {
   "cell_type": "code",
   "execution_count": 9,
   "id": "674201dc",
   "metadata": {},
   "outputs": [
    {
     "name": "stdout",
     "output_type": "stream",
     "text": [
      "The Zen of Python, by Tim Peters\n",
      "\n",
      "Beautiful is better than ugly.\n",
      "Explicit is better than implicit.\n",
      "Simple is better than complex.\n",
      "Complex is better than complicated.\n",
      "Flat is better than nested.\n",
      "Sparse is better than dense.\n",
      "Readability counts.\n",
      "Special cases aren't special enough to break the rules.\n",
      "Although practicality beats purity.\n",
      "Errors should never pass silently.\n",
      "Unless explicitly silenced.\n",
      "In the face of ambiguity, refuse the temptation to guess.\n",
      "There should be one-- and preferably only one --obvious way to do it.\n",
      "Although that way may not be obvious at first unless you're Dutch.\n",
      "Now is better than never.\n",
      "Although never is often better than *right* now.\n",
      "If the implementation is hard to explain, it's a bad idea.\n",
      "If the implementation is easy to explain, it may be a good idea.\n",
      "Namespaces are one honking great idea -- let's do more of those!\n"
     ]
    }
   ],
   "source": [
    "import this"
   ]
  },
  {
   "cell_type": "code",
   "execution_count": 10,
   "id": "2597eb69",
   "metadata": {},
   "outputs": [
    {
     "data": {
      "text/plain": [
       "47"
      ]
     },
     "execution_count": 10,
     "metadata": {},
     "output_type": "execute_result"
    }
   ],
   "source": [
    "47"
   ]
  },
  {
   "cell_type": "code",
   "execution_count": 11,
   "id": "883d15b0",
   "metadata": {},
   "outputs": [
    {
     "name": "stdout",
     "output_type": "stream",
     "text": [
      "47\n"
     ]
    }
   ],
   "source": [
    "print(47)"
   ]
  },
  {
   "cell_type": "code",
   "execution_count": 12,
   "id": "769add8a",
   "metadata": {},
   "outputs": [
    {
     "data": {
      "text/plain": [
       "int"
      ]
     },
     "execution_count": 12,
     "metadata": {},
     "output_type": "execute_result"
    }
   ],
   "source": [
    "type(47)"
   ]
  },
  {
   "cell_type": "code",
   "execution_count": 13,
   "id": "6042d7d7",
   "metadata": {},
   "outputs": [
    {
     "name": "stdout",
     "output_type": "stream",
     "text": [
      "47\n"
     ]
    },
    {
     "data": {
      "text/plain": [
       "NoneType"
      ]
     },
     "execution_count": 13,
     "metadata": {},
     "output_type": "execute_result"
    }
   ],
   "source": [
    "type(print(47))"
   ]
  },
  {
   "cell_type": "code",
   "execution_count": null,
   "id": "b9555453",
   "metadata": {},
   "outputs": [],
   "source": [
    "# ch2 시작"
   ]
  },
  {
   "cell_type": "code",
   "execution_count": null,
   "id": "f4d2aa10",
   "metadata": {},
   "outputs": [],
   "source": [
    "#파이썬 데이터는 객체다 \n",
    "#리터럴 값\n",
    "#파이썬에서 데이터 값을 명시하는 두 가지 방법이 있다.\n",
    "리터럴\n",
    "변수"
   ]
  },
  {
   "cell_type": "code",
   "execution_count": null,
   "id": "bb812712",
   "metadata": {},
   "outputs": [],
   "source": [
    "#2.7 변수는 장소가 아니라 이름이다. \n",
    "할당은 값을 복사하지 않으며 단지 데이터를 포함하는 객체에 이름을 붙인다."
   ]
  },
  {
   "cell_type": "code",
   "execution_count": null,
   "id": "8e26f43a",
   "metadata": {},
   "outputs": [],
   "source": [
    "클래스는 객체의 정의이다. -> 이건 10장에 나옴"
   ]
  },
  {
   "cell_type": "code",
   "execution_count": null,
   "id": "0e92966e",
   "metadata": {},
   "outputs": [],
   "source": [
    "객체 참조 카운트가 0이면\n",
    "아무도 가리키는 이름이 없으므로 더 이상 필요 없다."
   ]
  },
  {
   "cell_type": "code",
   "execution_count": null,
   "id": "923036f8",
   "metadata": {},
   "outputs": [],
   "source": []
  },
  {
   "cell_type": "code",
   "execution_count": null,
   "id": "909976fa",
   "metadata": {},
   "outputs": [],
   "source": [
    "2.13 연습문제"
   ]
  },
  {
   "cell_type": "code",
   "execution_count": 16,
   "id": "b1f8fcbd",
   "metadata": {},
   "outputs": [],
   "source": [
    "prince = 29"
   ]
  },
  {
   "cell_type": "code",
   "execution_count": 17,
   "id": "5f0fb0bc",
   "metadata": {},
   "outputs": [
    {
     "name": "stdout",
     "output_type": "stream",
     "text": [
      "29\n"
     ]
    }
   ],
   "source": [
    "print(prince)"
   ]
  },
  {
   "cell_type": "code",
   "execution_count": 18,
   "id": "a282cc63",
   "metadata": {},
   "outputs": [
    {
     "data": {
      "text/plain": [
       "int"
      ]
     },
     "execution_count": 18,
     "metadata": {},
     "output_type": "execute_result"
    }
   ],
   "source": [
    "type(5)"
   ]
  },
  {
   "cell_type": "code",
   "execution_count": 19,
   "id": "a002f136",
   "metadata": {},
   "outputs": [
    {
     "data": {
      "text/plain": [
       "float"
      ]
     },
     "execution_count": 19,
     "metadata": {},
     "output_type": "execute_result"
    }
   ],
   "source": [
    "type(2.0)"
   ]
  },
  {
   "cell_type": "code",
   "execution_count": 20,
   "id": "e39b9d54",
   "metadata": {},
   "outputs": [
    {
     "data": {
      "text/plain": [
       "float"
      ]
     },
     "execution_count": 20,
     "metadata": {},
     "output_type": "execute_result"
    }
   ],
   "source": [
    "type(5+2.0)"
   ]
  },
  {
   "cell_type": "code",
   "execution_count": 24,
   "id": "0b5f01b3",
   "metadata": {},
   "outputs": [
    {
     "data": {
      "text/plain": [
       "True"
      ]
     },
     "execution_count": 24,
     "metadata": {},
     "output_type": "execute_result"
    }
   ],
   "source": [
    "bool(True)"
   ]
  },
  {
   "cell_type": "code",
   "execution_count": 25,
   "id": "47002384",
   "metadata": {},
   "outputs": [
    {
     "data": {
      "text/plain": [
       "True"
      ]
     },
     "execution_count": 25,
     "metadata": {},
     "output_type": "execute_result"
    }
   ],
   "source": [
    "bool(1)"
   ]
  },
  {
   "cell_type": "code",
   "execution_count": 26,
   "id": "f79f8dc9",
   "metadata": {},
   "outputs": [
    {
     "data": {
      "text/plain": [
       "True"
      ]
     },
     "execution_count": 26,
     "metadata": {},
     "output_type": "execute_result"
    }
   ],
   "source": [
    "bool(45)"
   ]
  },
  {
   "cell_type": "code",
   "execution_count": 27,
   "id": "176c2b13",
   "metadata": {},
   "outputs": [
    {
     "data": {
      "text/plain": [
       "True"
      ]
     },
     "execution_count": 27,
     "metadata": {},
     "output_type": "execute_result"
    }
   ],
   "source": [
    "bool(-45)"
   ]
  },
  {
   "cell_type": "code",
   "execution_count": 29,
   "id": "6f0a8a6e",
   "metadata": {},
   "outputs": [
    {
     "data": {
      "text/plain": [
       "False"
      ]
     },
     "execution_count": 29,
     "metadata": {},
     "output_type": "execute_result"
    }
   ],
   "source": [
    "bool(False)"
   ]
  },
  {
   "cell_type": "code",
   "execution_count": 28,
   "id": "2ee80214",
   "metadata": {},
   "outputs": [
    {
     "data": {
      "text/plain": [
       "False"
      ]
     },
     "execution_count": 28,
     "metadata": {},
     "output_type": "execute_result"
    }
   ],
   "source": [
    "bool(0)"
   ]
  },
  {
   "cell_type": "code",
   "execution_count": 30,
   "id": "79145916",
   "metadata": {},
   "outputs": [
    {
     "data": {
      "text/plain": [
       "False"
      ]
     },
     "execution_count": 30,
     "metadata": {},
     "output_type": "execute_result"
    }
   ],
   "source": [
    "bool(0.0)"
   ]
  },
  {
   "cell_type": "code",
   "execution_count": 31,
   "id": "634acbc5",
   "metadata": {},
   "outputs": [
    {
     "data": {
      "text/plain": [
       "5"
      ]
     },
     "execution_count": 31,
     "metadata": {},
     "output_type": "execute_result"
    }
   ],
   "source": [
    "5"
   ]
  },
  {
   "cell_type": "code",
   "execution_count": 32,
   "id": "be10b0ea",
   "metadata": {},
   "outputs": [
    {
     "data": {
      "text/plain": [
       "0"
      ]
     },
     "execution_count": 32,
     "metadata": {},
     "output_type": "execute_result"
    }
   ],
   "source": [
    "0"
   ]
  },
  {
   "cell_type": "code",
   "execution_count": 33,
   "id": "2cbaced3",
   "metadata": {},
   "outputs": [
    {
     "ename": "SyntaxError",
     "evalue": "leading zeros in decimal integer literals are not permitted; use an 0o prefix for octal integers (4223885067.py, line 1)",
     "output_type": "error",
     "traceback": [
      "\u001b[1;36m  Cell \u001b[1;32mIn[33], line 1\u001b[1;36m\u001b[0m\n\u001b[1;33m    05\u001b[0m\n\u001b[1;37m    ^\u001b[0m\n\u001b[1;31mSyntaxError\u001b[0m\u001b[1;31m:\u001b[0m leading zeros in decimal integer literals are not permitted; use an 0o prefix for octal integers\n"
     ]
    }
   ],
   "source": [
    "05  #에러남."
   ]
  },
  {
   "cell_type": "code",
   "execution_count": 34,
   "id": "42f6f7d6",
   "metadata": {},
   "outputs": [
    {
     "data": {
      "text/plain": [
       "123"
      ]
     },
     "execution_count": 34,
     "metadata": {},
     "output_type": "execute_result"
    }
   ],
   "source": [
    "123"
   ]
  },
  {
   "cell_type": "code",
   "execution_count": 35,
   "id": "7755c429",
   "metadata": {},
   "outputs": [
    {
     "data": {
      "text/plain": [
       "-123"
      ]
     },
     "execution_count": 35,
     "metadata": {},
     "output_type": "execute_result"
    }
   ],
   "source": [
    "-123"
   ]
  },
  {
   "cell_type": "code",
   "execution_count": 36,
   "id": "add40773",
   "metadata": {},
   "outputs": [
    {
     "data": {
      "text/plain": [
       "123"
      ]
     },
     "execution_count": 36,
     "metadata": {},
     "output_type": "execute_result"
    }
   ],
   "source": [
    "+123"
   ]
  },
  {
   "cell_type": "code",
   "execution_count": 37,
   "id": "02ef4260",
   "metadata": {},
   "outputs": [
    {
     "data": {
      "text/plain": [
       "1000000"
      ]
     },
     "execution_count": 37,
     "metadata": {},
     "output_type": "execute_result"
    }
   ],
   "source": [
    "1000000"
   ]
  },
  {
   "cell_type": "code",
   "execution_count": 38,
   "id": "72fd4409",
   "metadata": {},
   "outputs": [
    {
     "data": {
      "text/plain": [
       "(1, 0, 0)"
      ]
     },
     "execution_count": 38,
     "metadata": {},
     "output_type": "execute_result"
    }
   ],
   "source": [
    "1,000,000 # 백만 이라는 숫자 대신 튜플을 얻는다. "
   ]
  },
  {
   "cell_type": "code",
   "execution_count": 39,
   "id": "26b10674",
   "metadata": {},
   "outputs": [],
   "source": [
    "million = 1_000_000"
   ]
  },
  {
   "cell_type": "code",
   "execution_count": 40,
   "id": "6806ec15",
   "metadata": {},
   "outputs": [
    {
     "data": {
      "text/plain": [
       "1000000"
      ]
     },
     "execution_count": 40,
     "metadata": {},
     "output_type": "execute_result"
    }
   ],
   "source": [
    "million"
   ]
  },
  {
   "cell_type": "code",
   "execution_count": 43,
   "id": "380d40b6",
   "metadata": {},
   "outputs": [
    {
     "data": {
      "text/plain": [
       "3.5"
      ]
     },
     "execution_count": 43,
     "metadata": {},
     "output_type": "execute_result"
    }
   ],
   "source": [
    "7/2 #부동소수점 나누기"
   ]
  },
  {
   "cell_type": "code",
   "execution_count": 44,
   "id": "6c3b424d",
   "metadata": {},
   "outputs": [
    {
     "data": {
      "text/plain": [
       "3"
      ]
     },
     "execution_count": 44,
     "metadata": {},
     "output_type": "execute_result"
    }
   ],
   "source": [
    "7//2 # 정수 나누기(소수점 이하 버림)"
   ]
  },
  {
   "cell_type": "code",
   "execution_count": 45,
   "id": "4fd7ca12",
   "metadata": {},
   "outputs": [
    {
     "data": {
      "text/plain": [
       "1"
      ]
     },
     "execution_count": 45,
     "metadata": {},
     "output_type": "execute_result"
    }
   ],
   "source": [
    "7%3 # 나머지"
   ]
  },
  {
   "cell_type": "code",
   "execution_count": 47,
   "id": "53fcd11d",
   "metadata": {},
   "outputs": [
    {
     "data": {
      "text/plain": [
       "81"
      ]
     },
     "execution_count": 47,
     "metadata": {},
     "output_type": "execute_result"
    }
   ],
   "source": [
    "3**4 # 지수"
   ]
  },
  {
   "cell_type": "code",
   "execution_count": null,
   "id": "3c202d3d",
   "metadata": {},
   "outputs": [],
   "source": []
  },
  {
   "cell_type": "code",
   "execution_count": null,
   "id": "6b1a2cfa",
   "metadata": {},
   "outputs": [],
   "source": []
  },
  {
   "cell_type": "code",
   "execution_count": null,
   "id": "9d09c34f",
   "metadata": {},
   "outputs": [],
   "source": []
  },
  {
   "cell_type": "code",
   "execution_count": null,
   "id": "cb781cfa",
   "metadata": {},
   "outputs": [],
   "source": []
  },
  {
   "cell_type": "code",
   "execution_count": null,
   "id": "8047e0d0",
   "metadata": {},
   "outputs": [],
   "source": []
  },
  {
   "cell_type": "code",
   "execution_count": null,
   "id": "d3bb2ecc",
   "metadata": {},
   "outputs": [],
   "source": []
  },
  {
   "cell_type": "code",
   "execution_count": null,
   "id": "879528ac",
   "metadata": {},
   "outputs": [],
   "source": []
  },
  {
   "cell_type": "code",
   "execution_count": null,
   "id": "80aa808e",
   "metadata": {},
   "outputs": [],
   "source": []
  },
  {
   "cell_type": "code",
   "execution_count": null,
   "id": "cfc02a02",
   "metadata": {},
   "outputs": [],
   "source": []
  },
  {
   "cell_type": "code",
   "execution_count": null,
   "id": "119362b8",
   "metadata": {},
   "outputs": [],
   "source": []
  },
  {
   "cell_type": "code",
   "execution_count": null,
   "id": "a7b86ea0",
   "metadata": {},
   "outputs": [],
   "source": []
  },
  {
   "cell_type": "code",
   "execution_count": null,
   "id": "8509d5df",
   "metadata": {},
   "outputs": [],
   "source": []
  },
  {
   "cell_type": "code",
   "execution_count": null,
   "id": "730ccb58",
   "metadata": {},
   "outputs": [],
   "source": []
  },
  {
   "cell_type": "code",
   "execution_count": null,
   "id": "7634f7ee",
   "metadata": {},
   "outputs": [],
   "source": []
  }
 ],
 "metadata": {
  "kernelspec": {
   "display_name": "Python 3 (ipykernel)",
   "language": "python",
   "name": "python3"
  },
  "language_info": {
   "codemirror_mode": {
    "name": "ipython",
    "version": 3
   },
   "file_extension": ".py",
   "mimetype": "text/x-python",
   "name": "python",
   "nbconvert_exporter": "python",
   "pygments_lexer": "ipython3",
   "version": "3.11.5"
  }
 },
 "nbformat": 4,
 "nbformat_minor": 5
}
