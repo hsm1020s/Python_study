{
 "cells": [
  {
   "cell_type": "code",
   "execution_count": null,
   "id": "8870f440",
   "metadata": {},
   "outputs": [],
   "source": [
    "# 함수 207~242\n",
    "# 정의하기 (define) 0개 또는 1개 이상의 매개변수를 갖는다.\n",
    "# 호출하기 (call) 0개 또는 1개 이상의 결과를 얻는다."
   ]
  },
  {
   "cell_type": "code",
   "execution_count": 1,
   "id": "c479470a",
   "metadata": {},
   "outputs": [],
   "source": [
    "#9.1 함수 정의하기 def"
   ]
  },
  {
   "cell_type": "code",
   "execution_count": 2,
   "id": "5d392fcf",
   "metadata": {},
   "outputs": [],
   "source": [
    "def do_nothing():\n",
    "    pass # 아무것도 하지 않는다."
   ]
  },
  {
   "cell_type": "code",
   "execution_count": 4,
   "id": "17bc8490",
   "metadata": {},
   "outputs": [],
   "source": [
    "do_nothing() #함수 호출하기"
   ]
  },
  {
   "cell_type": "code",
   "execution_count": 5,
   "id": "04fe0b15",
   "metadata": {},
   "outputs": [],
   "source": [
    "def make_a_sound():\n",
    "    print('quack')"
   ]
  },
  {
   "cell_type": "code",
   "execution_count": 7,
   "id": "318b76fd",
   "metadata": {},
   "outputs": [
    {
     "name": "stdout",
     "output_type": "stream",
     "text": [
      "quack\n"
     ]
    }
   ],
   "source": [
    "make_a_sound()"
   ]
  },
  {
   "cell_type": "code",
   "execution_count": 8,
   "id": "2cb0fec7",
   "metadata": {},
   "outputs": [],
   "source": [
    "def agree():\n",
    "    return True"
   ]
  },
  {
   "cell_type": "code",
   "execution_count": 9,
   "id": "3273163a",
   "metadata": {},
   "outputs": [
    {
     "name": "stdout",
     "output_type": "stream",
     "text": [
      "Splendid!\n"
     ]
    }
   ],
   "source": [
    "if agree(): #함수를 호출하여 반환되는 값으로 조건 테스트 가능\n",
    "    print('Splendid!')\n",
    "else:\n",
    "    print('That was unexpected')"
   ]
  },
  {
   "cell_type": "code",
   "execution_count": 10,
   "id": "bf6281d9",
   "metadata": {},
   "outputs": [],
   "source": [
    "def echo(anything):\n",
    "    return anything+ ' '+ anything"
   ]
  },
  {
   "cell_type": "code",
   "execution_count": 11,
   "id": "6399ac43",
   "metadata": {},
   "outputs": [
    {
     "data": {
      "text/plain": [
       "'Rumplestiltskin Rumplestiltskin'"
      ]
     },
     "execution_count": 11,
     "metadata": {},
     "output_type": "execute_result"
    }
   ],
   "source": [
    "echo('Rumplestiltskin')"
   ]
  },
  {
   "cell_type": "code",
   "execution_count": null,
   "id": "0b1573bb",
   "metadata": {},
   "outputs": [],
   "source": [
    "# 함수로 전달한 값을 인수 라고 부른다.\n",
    "# 인수와 함수를 호출하면 인수의 값은 함수 내에서 해당하는 매개변수에 복사된다.\n",
    "# 함수 외부에서는 인수 라고 하지만 내부에서는 매개변수라고 한다."
   ]
  },
  {
   "cell_type": "code",
   "execution_count": 12,
   "id": "021c8c4c",
   "metadata": {},
   "outputs": [],
   "source": [
    "def commentary(color):\n",
    "    if color == 'red':\n",
    "        return \"It's a tomato.\"\n",
    "    if color == 'green':\n",
    "        return \"It's a green pepper\"\n",
    "    if color == 'bee purple':\n",
    "        return \"I don't know what it is,\"\n",
    "    else: \n",
    "        return \"I've nerver heard of the color \"+ color +\".\""
   ]
  },
  {
   "cell_type": "code",
   "execution_count": 13,
   "id": "c1207aca",
   "metadata": {},
   "outputs": [],
   "source": [
    "comment= commentary('blue')"
   ]
  },
  {
   "cell_type": "code",
   "execution_count": 14,
   "id": "a3e6b12d",
   "metadata": {},
   "outputs": [
    {
     "name": "stdout",
     "output_type": "stream",
     "text": [
      "I've nerver heard of the color blue.\n"
     ]
    }
   ],
   "source": [
    "print(comment)"
   ]
  },
  {
   "cell_type": "code",
   "execution_count": null,
   "id": "8dff00e4",
   "metadata": {},
   "outputs": [],
   "source": [
    "# 유용한 None\n",
    "# 아무것도 없다는 것을 뜻하는 파이썬의 특별한 값이다.\n",
    "# 불리언 값의 False 처럼 보이지만 다른 값을 의미"
   ]
  },
  {
   "cell_type": "code",
   "execution_count": 15,
   "id": "008fe18d",
   "metadata": {},
   "outputs": [],
   "source": [
    "thing = None"
   ]
  },
  {
   "cell_type": "code",
   "execution_count": 16,
   "id": "1f4d18a7",
   "metadata": {},
   "outputs": [
    {
     "name": "stdout",
     "output_type": "stream",
     "text": [
      "It's no thing\n"
     ]
    }
   ],
   "source": [
    "if thing:\n",
    "    print(\"It's some thing\")\n",
    "else:\n",
    "    print(\"It's no thing\")"
   ]
  },
  {
   "cell_type": "code",
   "execution_count": null,
   "id": "2c32b00e",
   "metadata": {},
   "outputs": [],
   "source": [
    "# False와 None을 구분하기위해 is 연산자를 사용"
   ]
  },
  {
   "cell_type": "code",
   "execution_count": 17,
   "id": "a91c7004",
   "metadata": {},
   "outputs": [],
   "source": [
    "thing = None"
   ]
  },
  {
   "cell_type": "code",
   "execution_count": 18,
   "id": "c0ebdf18",
   "metadata": {},
   "outputs": [
    {
     "name": "stdout",
     "output_type": "stream",
     "text": [
      "It's nothing\n"
     ]
    }
   ],
   "source": [
    "if thing is None:\n",
    "    print(\"It's nothing\")\n",
    "else: \n",
    "    print(\"It's something\")"
   ]
  },
  {
   "cell_type": "code",
   "execution_count": null,
   "id": "3a75819a",
   "metadata": {},
   "outputs": [],
   "source": [
    "# 사소한 차이로 보이지만 매우 중요\n",
    "# 빠뜨린 빈 값을 구분하기 위해 None을 사용\n",
    "# 정수,부동소수점,빈문자열,빈리스트,빈튜플,빈딕셔너리,빈셋은 모두 False 지만 \n",
    "# None과는 같지않음"
   ]
  },
  {
   "cell_type": "code",
   "execution_count": 19,
   "id": "d0017250",
   "metadata": {},
   "outputs": [],
   "source": [
    "def whatis(thing):\n",
    "    if thing is None:\n",
    "        print(thing, \"is None\")\n",
    "    elif thing:\n",
    "        print(thing,\" is True\")\n",
    "    else:\n",
    "        print(thing, \"is False\")"
   ]
  },
  {
   "cell_type": "code",
   "execution_count": 20,
   "id": "001bdea0",
   "metadata": {},
   "outputs": [
    {
     "name": "stdout",
     "output_type": "stream",
     "text": [
      "None is None\n"
     ]
    }
   ],
   "source": [
    "whatis(None)"
   ]
  },
  {
   "cell_type": "code",
   "execution_count": 22,
   "id": "766b2dfd",
   "metadata": {},
   "outputs": [
    {
     "name": "stdout",
     "output_type": "stream",
     "text": [
      "True  is True\n"
     ]
    }
   ],
   "source": [
    "whatis(True)"
   ]
  },
  {
   "cell_type": "code",
   "execution_count": 23,
   "id": "1fa0f762",
   "metadata": {},
   "outputs": [
    {
     "name": "stdout",
     "output_type": "stream",
     "text": [
      "False is False\n"
     ]
    }
   ],
   "source": [
    "whatis(False)"
   ]
  },
  {
   "cell_type": "code",
   "execution_count": 24,
   "id": "fe6df4f5",
   "metadata": {},
   "outputs": [
    {
     "name": "stdout",
     "output_type": "stream",
     "text": [
      "0 is False\n"
     ]
    }
   ],
   "source": [
    "whatis(0)"
   ]
  },
  {
   "cell_type": "code",
   "execution_count": 25,
   "id": "02bd8e12",
   "metadata": {},
   "outputs": [
    {
     "name": "stdout",
     "output_type": "stream",
     "text": [
      "0.0 is False\n"
     ]
    }
   ],
   "source": [
    "whatis(0.0)"
   ]
  },
  {
   "cell_type": "code",
   "execution_count": 26,
   "id": "a1133731",
   "metadata": {},
   "outputs": [
    {
     "name": "stdout",
     "output_type": "stream",
     "text": [
      " is False\n"
     ]
    }
   ],
   "source": [
    "whatis('')"
   ]
  },
  {
   "cell_type": "code",
   "execution_count": 27,
   "id": "61b915c1",
   "metadata": {},
   "outputs": [
    {
     "name": "stdout",
     "output_type": "stream",
     "text": [
      " is False\n"
     ]
    }
   ],
   "source": [
    "whatis('''''')"
   ]
  },
  {
   "cell_type": "code",
   "execution_count": 28,
   "id": "fbc9ef58",
   "metadata": {},
   "outputs": [
    {
     "name": "stdout",
     "output_type": "stream",
     "text": [
      "() is False\n"
     ]
    }
   ],
   "source": [
    "whatis(())"
   ]
  },
  {
   "cell_type": "code",
   "execution_count": 29,
   "id": "c61ea716",
   "metadata": {},
   "outputs": [
    {
     "name": "stdout",
     "output_type": "stream",
     "text": [
      "[] is False\n"
     ]
    }
   ],
   "source": [
    "whatis([])"
   ]
  },
  {
   "cell_type": "code",
   "execution_count": 30,
   "id": "0d699da1",
   "metadata": {},
   "outputs": [
    {
     "name": "stdout",
     "output_type": "stream",
     "text": [
      "{} is False\n"
     ]
    }
   ],
   "source": [
    "whatis({})"
   ]
  },
  {
   "cell_type": "code",
   "execution_count": 31,
   "id": "af42c127",
   "metadata": {},
   "outputs": [
    {
     "name": "stdout",
     "output_type": "stream",
     "text": [
      "set() is False\n"
     ]
    }
   ],
   "source": [
    "whatis(set())"
   ]
  },
  {
   "cell_type": "code",
   "execution_count": 32,
   "id": "e6c0b156",
   "metadata": {},
   "outputs": [
    {
     "name": "stdout",
     "output_type": "stream",
     "text": [
      "1e-05  is True\n"
     ]
    }
   ],
   "source": [
    "whatis(0.00001)"
   ]
  },
  {
   "cell_type": "code",
   "execution_count": 33,
   "id": "8485dffd",
   "metadata": {},
   "outputs": [
    {
     "name": "stdout",
     "output_type": "stream",
     "text": [
      "[0]  is True\n"
     ]
    }
   ],
   "source": [
    "whatis([0])"
   ]
  },
  {
   "cell_type": "code",
   "execution_count": 34,
   "id": "70052ea1",
   "metadata": {},
   "outputs": [
    {
     "name": "stdout",
     "output_type": "stream",
     "text": [
      "['']  is True\n"
     ]
    }
   ],
   "source": [
    "whatis([''])"
   ]
  },
  {
   "cell_type": "code",
   "execution_count": 35,
   "id": "0923d0aa",
   "metadata": {},
   "outputs": [
    {
     "name": "stdout",
     "output_type": "stream",
     "text": [
      "   is True\n"
     ]
    }
   ],
   "source": [
    "whatis(' ')"
   ]
  },
  {
   "cell_type": "code",
   "execution_count": null,
   "id": "c1e4fc29",
   "metadata": {},
   "outputs": [],
   "source": [
    "# 위치 인수"
   ]
  },
  {
   "cell_type": "code",
   "execution_count": null,
   "id": "d8365cbd",
   "metadata": {},
   "outputs": [],
   "source": [
    "# 파이썬은 다른 언어에 비해 함수의 인수를 유연하고 독특하게 처리한다. 인수의 가장 익숙한 \n",
    "# 유형은 값을 순서 대로 상응하는 매개변수에 복사하는 위치 인수argument다.\n",
    "# 다음 함수는 위치 인수로 딕셔너리를 만들어서 반환한다."
   ]
  },
  {
   "cell_type": "code",
   "execution_count": 36,
   "id": "ba73fb48",
   "metadata": {},
   "outputs": [],
   "source": [
    "def menu(wine, entree,dessert):\n",
    "    return {'wine':wine,'entree':entree,'dessert':dessert}"
   ]
  },
  {
   "cell_type": "code",
   "execution_count": 37,
   "id": "f93f1b71",
   "metadata": {},
   "outputs": [
    {
     "data": {
      "text/plain": [
       "{'wine': 'chardonnay', 'entree': 'chicken', 'dessert': 'cake'}"
      ]
     },
     "execution_count": 37,
     "metadata": {},
     "output_type": "execute_result"
    }
   ],
   "source": [
    "menu('chardonnay','chicken','cake')"
   ]
  },
  {
   "cell_type": "code",
   "execution_count": null,
   "id": "46bd626a",
   "metadata": {},
   "outputs": [],
   "source": [
    "# 매우 일반적이지만 위치 인수의 단점은 각 위치의 의미를 알아야 한다는 것이다. 다음 예제는 \n",
    "#첫 번째 인수 대신 마지막 인수를 wine으로 menu()를 호출하면 이상한 식사가 된다."
   ]
  },
  {
   "cell_type": "code",
   "execution_count": 38,
   "id": "17278c74",
   "metadata": {},
   "outputs": [
    {
     "data": {
      "text/plain": [
       "{'wine': 'beef', 'entree': 'bagel', 'dessert': 'bordeaux'}"
      ]
     },
     "execution_count": 38,
     "metadata": {},
     "output_type": "execute_result"
    }
   ],
   "source": [
    "menu('beef','bagel','bordeaux')"
   ]
  },
  {
   "cell_type": "code",
   "execution_count": null,
   "id": "43925dee",
   "metadata": {},
   "outputs": [],
   "source": [
    "# 9.3.3 키워드 인수"
   ]
  },
  {
   "cell_type": "code",
   "execution_count": null,
   "id": "668f3aa4",
   "metadata": {},
   "outputs": [],
   "source": [
    "# 위치 인수의 혼란을 피하기 위해 매개변수에 상응하는 이름을 인수에 지정할 수 있다. \n",
    "# 심지어 인수를 함수 정의와 다른 순서로 지정할 수 있다"
   ]
  },
  {
   "cell_type": "code",
   "execution_count": 39,
   "id": "11a0e471",
   "metadata": {},
   "outputs": [
    {
     "data": {
      "text/plain": [
       "{'wine': 'bordeaux', 'entree': 'beef', 'dessert': 'bagel'}"
      ]
     },
     "execution_count": 39,
     "metadata": {},
     "output_type": "execute_result"
    }
   ],
   "source": [
    "menu(entree='beef', dessert='bagel', wine='bordeaux')"
   ]
  },
  {
   "cell_type": "code",
   "execution_count": null,
   "id": "4dc3bee7",
   "metadata": {},
   "outputs": [],
   "source": [
    "# 위치 인수와 키워드 인수를 섞어서 쓸 수 있다. \n",
    "# wine을 첫 번째 인수로，entree와 dessert를 키워드 인수로 지정해보자."
   ]
  },
  {
   "cell_type": "code",
   "execution_count": 40,
   "id": "b546878e",
   "metadata": {},
   "outputs": [
    {
     "data": {
      "text/plain": [
       "{'wine': 'frontenac', 'entree': 'fish', 'dessert': 'flan'}"
      ]
     },
     "execution_count": 40,
     "metadata": {},
     "output_type": "execute_result"
    }
   ],
   "source": [
    "menu('frontenac',dessert='flan',entree='fish')"
   ]
  },
  {
   "cell_type": "code",
   "execution_count": null,
   "id": "94d64365",
   "metadata": {},
   "outputs": [],
   "source": [
    "# 위치 인수와 키워드 인수로 함수를 호출하면 위치 인수가 먼저 와야 한다."
   ]
  },
  {
   "cell_type": "code",
   "execution_count": null,
   "id": "513a6a70",
   "metadata": {},
   "outputs": [],
   "source": [
    "# 9.3.4 기본 매개변수 값 지정하기\n",
    "# 매개변수에 기본값을 지정할 수 있다. \n",
    "# 호출자가 대응하는 인수를 제공하지 않으면 기본값을 사용한다."
   ]
  },
  {
   "cell_type": "code",
   "execution_count": 2,
   "id": "e5d8e031",
   "metadata": {},
   "outputs": [],
   "source": [
    "def menu(wine,entree,dessert='pudding'):\n",
    "    return {'wine':wine,'entree':entree, 'dessert':dessert}"
   ]
  },
  {
   "cell_type": "code",
   "execution_count": 3,
   "id": "a6d4affb",
   "metadata": {},
   "outputs": [
    {
     "data": {
      "text/plain": [
       "{'wine': 'chardonnay', 'entree': 'chicken', 'dessert': 'pudding'}"
      ]
     },
     "execution_count": 3,
     "metadata": {},
     "output_type": "execute_result"
    }
   ],
   "source": [
    "menu('chardonnay','chicken') #dessert 인수 없이 menu()를 호출."
   ]
  },
  {
   "cell_type": "code",
   "execution_count": 4,
   "id": "bb8216a6",
   "metadata": {},
   "outputs": [
    {
     "data": {
      "text/plain": [
       "{'wine': 'dunkelfelder', 'entree': 'duck', 'dessert': 'doughnut'}"
      ]
     },
     "execution_count": 4,
     "metadata": {},
     "output_type": "execute_result"
    }
   ],
   "source": [
    "menu('dunkelfelder','duck','doughnut')"
   ]
  },
  {
   "cell_type": "code",
   "execution_count": null,
   "id": "09c47b6e",
   "metadata": {},
   "outputs": [],
   "source": [
    "# 기본 인수는 함수가 실행될 때 계산되지 않고, 함수를 정의할 때 계산된다. \n",
    "# 파이썬 초급(혹은 중급) 개발자는 리스트 혹은 딕셔너리와 같은 가변 데이터 타입을 \n",
    "# 기본 인수로 사용할 때 실수하게 된다"
   ]
  },
  {
   "cell_type": "code",
   "execution_count": null,
   "id": "3ef16bd1",
   "metadata": {},
   "outputs": [],
   "source": [
    "# buggy() 함수를 정의한다. \n",
    "# 이 함수는 일반 매개변수 arg와 기본 매개변수로 빈 리스트를 취하는 result가 있다. \n",
    "# 함수는 arg를 result 리스트에 추가한다. \n",
    "# 함수를 호출할 때 마다 한 항목이 있는 리스트가 반환될 것이라고 \n",
    "# 예상할 수 있지만, 이전에 호출했던 result가\n",
    "# 그대로 리스트에 남아 있는 상태로 출력된다."
   ]
  },
  {
   "cell_type": "code",
   "execution_count": 5,
   "id": "e730c550",
   "metadata": {},
   "outputs": [],
   "source": [
    "def buggy(arg,result=[]):\n",
    "    result.append(arg)\n",
    "    print(result)"
   ]
  },
  {
   "cell_type": "code",
   "execution_count": 6,
   "id": "055458bc",
   "metadata": {},
   "outputs": [
    {
     "name": "stdout",
     "output_type": "stream",
     "text": [
      "['a']\n"
     ]
    }
   ],
   "source": [
    "buggy('a')"
   ]
  },
  {
   "cell_type": "code",
   "execution_count": 8,
   "id": "744a3525",
   "metadata": {},
   "outputs": [
    {
     "name": "stdout",
     "output_type": "stream",
     "text": [
      "['a', 'b', 'b']\n"
     ]
    }
   ],
   "source": [
    "buggy('b') # expect ['b']"
   ]
  },
  {
   "cell_type": "code",
   "execution_count": 9,
   "id": "c2c16108",
   "metadata": {},
   "outputs": [],
   "source": [
    "def works(arg):\n",
    "    result = []\n",
    "    result.append(arg)\n",
    "    return result"
   ]
  },
  {
   "cell_type": "code",
   "execution_count": 10,
   "id": "507eddcc",
   "metadata": {},
   "outputs": [
    {
     "data": {
      "text/plain": [
       "['a']"
      ]
     },
     "execution_count": 10,
     "metadata": {},
     "output_type": "execute_result"
    }
   ],
   "source": [
    "works('a')"
   ]
  },
  {
   "cell_type": "code",
   "execution_count": 11,
   "id": "85249ef9",
   "metadata": {},
   "outputs": [
    {
     "data": {
      "text/plain": [
       "['b']"
      ]
     },
     "execution_count": 11,
     "metadata": {},
     "output_type": "execute_result"
    }
   ],
   "source": [
    "works('b')"
   ]
  },
  {
   "cell_type": "code",
   "execution_count": null,
   "id": "809a167e",
   "metadata": {},
   "outputs": [],
   "source": [
    "# 첫 번째 인수 호출을 가리키기 위해 매개변수에 다른 값을 넣어서 수정할수 있다."
   ]
  },
  {
   "cell_type": "code",
   "execution_count": 12,
   "id": "063d22f6",
   "metadata": {},
   "outputs": [],
   "source": [
    "def nonbuggy(arg,result=None):\n",
    "    if result is None:\n",
    "        result=[]\n",
    "    result.append(arg)\n",
    "    print(result)"
   ]
  },
  {
   "cell_type": "code",
   "execution_count": 13,
   "id": "9713fae5",
   "metadata": {},
   "outputs": [
    {
     "name": "stdout",
     "output_type": "stream",
     "text": [
      "['a']\n"
     ]
    }
   ],
   "source": [
    "nonbuggy('a')"
   ]
  },
  {
   "cell_type": "code",
   "execution_count": 14,
   "id": "5516741c",
   "metadata": {},
   "outputs": [
    {
     "name": "stdout",
     "output_type": "stream",
     "text": [
      "['b']\n"
     ]
    }
   ],
   "source": [
    "nonbuggy('b')"
   ]
  },
  {
   "cell_type": "code",
   "execution_count": null,
   "id": "c1ef096e",
   "metadata": {},
   "outputs": [],
   "source": [
    "#### 이것은 가끔 파이썬 기술 면접에 등장한다. "
   ]
  },
  {
   "cell_type": "code",
   "execution_count": null,
   "id": "58ca470d",
   "metadata": {},
   "outputs": [],
   "source": [
    "# 9.3.5 위치 인수 분해하기/모으기:   *"
   ]
  },
  {
   "cell_type": "code",
   "execution_count": null,
   "id": "213cc4d3",
   "metadata": {},
   "outputs": [],
   "source": [
    "#파이썬에는 포인터가 없음 "
   ]
  },
  {
   "cell_type": "code",
   "execution_count": null,
   "id": "91def07a",
   "metadata": {},
   "outputs": [],
   "source": [
    "# 함수의 매개변수에 애스터리스크를 사용할 때, \n",
    "# 애스터리스크는 매개변수에서 위치 인수 변수를 튜플로 묶는다. \n",
    "# 다음 예제는 print_args() 함수로 인수를 전달하고，\n",
    "# args 매개변수 튜플의 결과를살펴본다"
   ]
  },
  {
   "cell_type": "code",
   "execution_count": 15,
   "id": "db8911a4",
   "metadata": {},
   "outputs": [],
   "source": [
    "def print_args(*args):\n",
    "    print('Positional tuple:',args)"
   ]
  },
  {
   "cell_type": "code",
   "execution_count": 16,
   "id": "e069ccfb",
   "metadata": {},
   "outputs": [
    {
     "name": "stdout",
     "output_type": "stream",
     "text": [
      "Positional tuple: ()\n"
     ]
    }
   ],
   "source": [
    "print_args()"
   ]
  },
  {
   "cell_type": "code",
   "execution_count": 17,
   "id": "0427379e",
   "metadata": {},
   "outputs": [
    {
     "name": "stdout",
     "output_type": "stream",
     "text": [
      "Positional tuple: (3, 2, 1, 'wait!', 'uh...')\n"
     ]
    }
   ],
   "source": [
    "print_args(3,2,1,'wait!','uh...') #인수를 넣어서 튜플을 출력 "
   ]
  },
  {
   "cell_type": "code",
   "execution_count": null,
   "id": "e1877f09",
   "metadata": {},
   "outputs": [],
   "source": [
    "# 가변 인수를 사용하는 print()와 같은 함수는 매우 유용하다. \n",
    "# 함수에 위치 인수를 지정할 때 맨 끝에 *a「gs를 써서 나머지 인수를 모두 취하게 할수 있다."
   ]
  },
  {
   "cell_type": "code",
   "execution_count": 18,
   "id": "105018a9",
   "metadata": {},
   "outputs": [],
   "source": [
    "def print_more(required1, required2, *args):\n",
    "    print('Need this one:', required1)\n",
    "    print('Need this one. too:', required2)\n",
    "    print('All the rest',args)"
   ]
  },
  {
   "cell_type": "code",
   "execution_count": 19,
   "id": "12892c76",
   "metadata": {},
   "outputs": [
    {
     "name": "stdout",
     "output_type": "stream",
     "text": [
      "Need this one: cap\n",
      "Need this one. too: gloves\n",
      "All the rest ('scarf', 'monocle', 'mustache wax')\n"
     ]
    }
   ],
   "source": [
    "print_more('cap','gloves','scarf','monocle','mustache wax')"
   ]
  },
  {
   "cell_type": "code",
   "execution_count": null,
   "id": "ae4aae24",
   "metadata": {},
   "outputs": [],
   "source": [
    "# *를 사용할 때 가변 인수의 이름으로 args를 사용할 필요는 없지만 관용적으로 args를 사용한다 \n",
    "# 또한 이전 예제와 같이 일반적으로 함수에 *args를 사용한다. 기술적으로 매개변수라고 하기도 하고, \n",
    "# *params 라고도 한다."
   ]
  },
  {
   "cell_type": "code",
   "execution_count": null,
   "id": "0db62e85",
   "metadata": {},
   "outputs": [],
   "source": [
    "# • 위치 인수를 함수에 전달하면, 함수 내 위치 매개변수와 일치한다.\n",
    "# • 튜플 인수를 함수에 전달하면，함수 내 튜플 매개변수가 있다.\n",
    "# • 위치 인수를 함수에 전달하고, 매개변수 *args로 수집하여 튜플 인수로 해석할수 있다.\n",
    "# • args라는 튜플 인수를 함수에 전달하여，위치 매개변수 *args로 분해할 수 있다. \n",
    "# 이것은 튜플  매개변수 args 안에 다시 수집된다."
   ]
  },
  {
   "cell_type": "code",
   "execution_count": 20,
   "id": "cafd21d4",
   "metadata": {},
   "outputs": [
    {
     "name": "stdout",
     "output_type": "stream",
     "text": [
      "Positional tuple: (2, 5, 7, 'x')\n"
     ]
    }
   ],
   "source": [
    "print_args(2,5,7,'x')"
   ]
  },
  {
   "cell_type": "code",
   "execution_count": 21,
   "id": "d896283f",
   "metadata": {},
   "outputs": [],
   "source": [
    "args = (2,5,7,'x')"
   ]
  },
  {
   "cell_type": "code",
   "execution_count": 22,
   "id": "82cba1ec",
   "metadata": {},
   "outputs": [
    {
     "name": "stdout",
     "output_type": "stream",
     "text": [
      "Positional tuple: ((2, 5, 7, 'x'),)\n"
     ]
    }
   ],
   "source": [
    "print_args(args)"
   ]
  },
  {
   "cell_type": "code",
   "execution_count": 23,
   "id": "643e6d3c",
   "metadata": {},
   "outputs": [
    {
     "name": "stdout",
     "output_type": "stream",
     "text": [
      "Positional tuple: (2, 5, 7, 'x')\n"
     ]
    }
   ],
   "source": [
    "print_args(*args)"
   ]
  },
  {
   "cell_type": "code",
   "execution_count": 24,
   "id": "283efed0",
   "metadata": {},
   "outputs": [
    {
     "ename": "SyntaxError",
     "evalue": "can't use starred expression here (3345456506.py, line 1)",
     "output_type": "error",
     "traceback": [
      "\u001b[1;36m  Cell \u001b[1;32mIn[24], line 1\u001b[1;36m\u001b[0m\n\u001b[1;33m    *args\u001b[0m\n\u001b[1;37m    ^\u001b[0m\n\u001b[1;31mSyntaxError\u001b[0m\u001b[1;31m:\u001b[0m can't use starred expression here\n"
     ]
    }
   ],
   "source": [
    "*args  # 함수 호출 또는 정의에서만 * 구문을 사용가능 "
   ]
  },
  {
   "cell_type": "code",
   "execution_count": null,
   "id": "05be438d",
   "metadata": {},
   "outputs": [],
   "source": [
    "# 함수 외부에서 *args는 튜플  인수를 쉼표로 구분된 위치 매개변수로 분해한다.\n",
    "# • 함수 내부에서 *args는 모든 위치의 인수를 단일 인수 튜플로 수집한다. \n",
    "# *params와 param라는 이름을 \n",
    "# 사용할 수 있지만, 외부 인수와 내부 인수 모두에 *args를 사용하는 것이 일반적이다.\n",
    "# *args는 함수 외부에서 분해된 값을 함수 내부에 모은다."
   ]
  },
  {
   "cell_type": "code",
   "execution_count": null,
   "id": "63af4bc8",
   "metadata": {},
   "outputs": [],
   "source": [
    "# 9.3.6 키워드 인수 분해하기/모으기: *"
   ]
  },
  {
   "cell_type": "code",
   "execution_count": null,
   "id": "89e52fcc",
   "metadata": {},
   "outputs": [],
   "source": [
    "# 키워드 인수를 딕셔너리로 묶기 위해 두 개의 애스터리스크(**)를 사용할 수 있다. \n",
    "# 인수의 이름은 키고，값은 이 키에 대응하는 딕셔너리 값이다. \n",
    "# 다음 예제는 print_kwargs() 함수를 정의하여 키워드 인수를 출력한다."
   ]
  },
  {
   "cell_type": "code",
   "execution_count": 25,
   "id": "36fddb7a",
   "metadata": {},
   "outputs": [],
   "source": [
    "def print_kwargs(**kwargs):\n",
    "    print('Keyword arguments:',kwargs)"
   ]
  },
  {
   "cell_type": "code",
   "execution_count": null,
   "id": "caf69cb2",
   "metadata": {},
   "outputs": [],
   "source": [
    "# 인수 없이 호출 , 그리고 키워드 인수를 사용하여 함술를 호춯한다."
   ]
  },
  {
   "cell_type": "code",
   "execution_count": 27,
   "id": "bcb6197c",
   "metadata": {},
   "outputs": [
    {
     "name": "stdout",
     "output_type": "stream",
     "text": [
      "Keyword arguments: {}\n"
     ]
    }
   ],
   "source": [
    "print_kwargs()"
   ]
  },
  {
   "cell_type": "code",
   "execution_count": 29,
   "id": "bc9f8338",
   "metadata": {},
   "outputs": [
    {
     "name": "stdout",
     "output_type": "stream",
     "text": [
      "Keyword arguments: {'wine': 'merlot', 'entree': 'mutton', 'dessert': 'macaroon'}\n"
     ]
    }
   ],
   "source": [
    "print_kwargs(wine='merlot',entree='mutton',dessert='macaroon')"
   ]
  },
  {
   "cell_type": "code",
   "execution_count": null,
   "id": "f5884b00",
   "metadata": {},
   "outputs": [],
   "source": [
    "# 함수 내에서 kwargs는 딕셔너리 매개변수다. 인수 순서는 다음과 같다."
   ]
  },
  {
   "cell_type": "code",
   "execution_count": null,
   "id": "c565f32e",
   "metadata": {},
   "outputs": [],
   "source": [
    "# 위치 인수\n",
    "# 위치 인수 (*args) - 옵션\n",
    "# 키워드 인수 (**kwargs) - 옵션"
   ]
  },
  {
   "cell_type": "code",
   "execution_count": null,
   "id": "6d3c0cff",
   "metadata": {},
   "outputs": [],
   "source": [
    "# args와 마찬가지로 키워드 인수 이름을 kwargs로 사용하지만 필수는 아니다.\n",
    "# **구문은 함수 호출 또는 정의에서만 유효하다."
   ]
  },
  {
   "cell_type": "code",
   "execution_count": null,
   "id": "60f57562",
   "metadata": {},
   "outputs": [],
   "source": [
    "# 요약하자면 \n",
    " # • 키워드 인수를 함수에 전달하면, 함수 내 키워드 매개변수와 일치한다.\n",
    " # • 딕셔너리 인수를 함수에 전달하면, 함수 내 딕셔너리 매개변수가 있다.\n",
    " # • 하나 이상의 키워드 인수（이름=값）를 함수에 전달하고, \n",
    " #   이를 **kwargs에 수집하여, kwargs 딕셔너리 매개변수로 해석할 수 있다.\n",
    " # • 함수 외부에서 **kwargs는 딕셔너리 kwargs를 '이름=값’ 인수로 분해한다.\n",
    " # • 함수 내부에서 **kwargs는 ' 이름=값 '  인수를 단일 딕셔너리 매개변수 kwargs에 모은다.\n",
    " # **kwargs는 함수 외부에서 분해된 ‘이름=값’을 함수 내부에 모은다."
   ]
  },
  {
   "cell_type": "code",
   "execution_count": null,
   "id": "9814ac8f",
   "metadata": {},
   "outputs": [],
   "source": []
  },
  {
   "cell_type": "code",
   "execution_count": null,
   "id": "604d7ea8",
   "metadata": {},
   "outputs": [],
   "source": [
    "# 9.3.7 키워드 전용 인수 \n",
    "# 이름에서 알 수 있듯이 값을 위치적으로 제공하지 않고 '이름=값’으로 제공해야 한다. \n",
    "# 아래의 함수 정의에서 단일 애스터리스크는 start 및 end 매개변수의 기본값을 사용하고 싶지 않은 경우 \n",
    "# 명명된 인수로 제공 해야 함을 의미"
   ]
  },
  {
   "cell_type": "code",
   "execution_count": null,
   "id": "0ee01852",
   "metadata": {},
   "outputs": [],
   "source": []
  },
  {
   "cell_type": "code",
   "execution_count": 30,
   "id": "684c2483",
   "metadata": {},
   "outputs": [],
   "source": [
    "def print_data(data, *, start=0, end=100):\n",
    "    for value in (data[start:end]):\n",
    "        print(value)"
   ]
  },
  {
   "cell_type": "code",
   "execution_count": 31,
   "id": "9af67fe8",
   "metadata": {},
   "outputs": [],
   "source": [
    "data = ['a','b','c','d','e','f']"
   ]
  },
  {
   "cell_type": "code",
   "execution_count": 32,
   "id": "98488951",
   "metadata": {},
   "outputs": [
    {
     "name": "stdout",
     "output_type": "stream",
     "text": [
      "a\n",
      "b\n",
      "c\n",
      "d\n",
      "e\n",
      "f\n"
     ]
    }
   ],
   "source": [
    "print_data(data)"
   ]
  },
  {
   "cell_type": "code",
   "execution_count": 33,
   "id": "076779c4",
   "metadata": {},
   "outputs": [
    {
     "name": "stdout",
     "output_type": "stream",
     "text": [
      "e\n",
      "f\n"
     ]
    }
   ],
   "source": [
    "print_data(data,start=4)"
   ]
  },
  {
   "cell_type": "code",
   "execution_count": 34,
   "id": "7b5be044",
   "metadata": {},
   "outputs": [
    {
     "name": "stdout",
     "output_type": "stream",
     "text": [
      "a\n",
      "b\n"
     ]
    }
   ],
   "source": [
    "print_data(data,end=2)"
   ]
  },
  {
   "cell_type": "code",
   "execution_count": null,
   "id": "a0281974",
   "metadata": {},
   "outputs": [],
   "source": [
    "# 9.3.8 가변/불변 인수\n",
    "# 함수에 인수를 전달할 때 주의한다. \n",
    "# 인수가 가변 객체인 경우 해당 매개변수를 통해 함수 내부에서 값을 변경할수 있다."
   ]
  },
  {
   "cell_type": "code",
   "execution_count": 35,
   "id": "9f4f3e37",
   "metadata": {},
   "outputs": [],
   "source": [
    "outside =['one','fine','day']"
   ]
  },
  {
   "cell_type": "code",
   "execution_count": 36,
   "id": "ae62cfb4",
   "metadata": {},
   "outputs": [],
   "source": [
    "def mangle(arg):\n",
    "    arg[1] = 'terrible!'"
   ]
  },
  {
   "cell_type": "code",
   "execution_count": 37,
   "id": "7eff0c66",
   "metadata": {},
   "outputs": [
    {
     "data": {
      "text/plain": [
       "['one', 'fine', 'day']"
      ]
     },
     "execution_count": 37,
     "metadata": {},
     "output_type": "execute_result"
    }
   ],
   "source": [
    "outside"
   ]
  },
  {
   "cell_type": "code",
   "execution_count": 39,
   "id": "935aaf73",
   "metadata": {},
   "outputs": [],
   "source": [
    "mangle(outside)"
   ]
  },
  {
   "cell_type": "code",
   "execution_count": 40,
   "id": "8d3c697d",
   "metadata": {},
   "outputs": [
    {
     "data": {
      "text/plain": [
       "['one', 'terrible!', 'day']"
      ]
     },
     "execution_count": 40,
     "metadata": {},
     "output_type": "execute_result"
    }
   ],
   "source": [
    "outside"
   ]
  },
  {
   "cell_type": "code",
   "execution_count": null,
   "id": "ba0f1afd",
   "metadata": {},
   "outputs": [],
   "source": [
    "# 위 코드는 안 좋은 예시이다. 함수 내에서 인수가 변경될수 있다고 문서화하거나 새 값을 반환한다."
   ]
  },
  {
   "cell_type": "code",
   "execution_count": null,
   "id": "76b2826a",
   "metadata": {},
   "outputs": [],
   "source": [
    "# 9.4 독스트링 \n",
    "# 함수 바디 시작부분에 문자열을 포함시켜 함수 정의에 문서를 붙일 수 있다.\n",
    "# 이것이 함수의 독스트링 이다."
   ]
  },
  {
   "cell_type": "code",
   "execution_count": 49,
   "id": "58f51f05",
   "metadata": {},
   "outputs": [],
   "source": [
    "def echo(anything):\n",
    "    'echo returns its input argument'\n",
    "    return anything"
   ]
  },
  {
   "cell_type": "code",
   "execution_count": 50,
   "id": "83d4be8e",
   "metadata": {},
   "outputs": [],
   "source": [
    "def print_if_true(thing, check):\n",
    "    '''\n",
    "    Prints the first argument if a second argument is true.\n",
    "    The operation is:\n",
    "        1. Check\n",
    "        2. If it is,\n",
    "    '''\n",
    "    if check:\n",
    "        print(thing)"
   ]
  },
  {
   "cell_type": "code",
   "execution_count": null,
   "id": "ae4fe6c9",
   "metadata": {},
   "outputs": [],
   "source": [
    "# 함수의 독스트링을 출력하려면 help()함수를 호출한다.\n",
    "#함수 인수의 리스트와 서식화된 독스트링을 얻기위해 함수 이름을 인수로 전달"
   ]
  },
  {
   "cell_type": "code",
   "execution_count": 51,
   "id": "d867ac5a",
   "metadata": {},
   "outputs": [
    {
     "name": "stdout",
     "output_type": "stream",
     "text": [
      "Help on function echo in module __main__:\n",
      "\n",
      "echo(anything)\n",
      "    echo returns its input argument\n",
      "\n"
     ]
    }
   ],
   "source": [
    "help(echo)"
   ]
  },
  {
   "cell_type": "code",
   "execution_count": 54,
   "id": "6a2302a8",
   "metadata": {},
   "outputs": [
    {
     "ename": "NameError",
     "evalue": "name 'anything' is not defined",
     "output_type": "error",
     "traceback": [
      "\u001b[1;31m---------------------------------------------------------------------------\u001b[0m",
      "\u001b[1;31mNameError\u001b[0m                                 Traceback (most recent call last)",
      "Cell \u001b[1;32mIn[54], line 1\u001b[0m\n\u001b[1;32m----> 1\u001b[0m \u001b[38;5;28mprint\u001b[39m(echo(anything))\n",
      "\u001b[1;31mNameError\u001b[0m: name 'anything' is not defined"
     ]
    }
   ],
   "source": [
    "echo(anything) # 에러 왜나는지 확인 "
   ]
  },
  {
   "cell_type": "code",
   "execution_count": 55,
   "id": "effeabee",
   "metadata": {},
   "outputs": [
    {
     "name": "stdout",
     "output_type": "stream",
     "text": [
      "Help on function echo in module __main__:\n",
      "\n",
      "echo(anything)\n",
      "    echo returns its input argument\n",
      "\n"
     ]
    }
   ],
   "source": [
    "help(echo)"
   ]
  },
  {
   "cell_type": "code",
   "execution_count": 56,
   "id": "996e8cc1",
   "metadata": {},
   "outputs": [
    {
     "name": "stdout",
     "output_type": "stream",
     "text": [
      "echo returns its input argument\n"
     ]
    }
   ],
   "source": [
    "print(echo.__doc__)"
   ]
  },
  {
   "cell_type": "code",
   "execution_count": null,
   "id": "f74063bc",
   "metadata": {},
   "outputs": [],
   "source": [
    "# 일등 시민 : 함수\n",
    "# 객체는 숫자,문자열,튜플,리스트,딕셔너리,함수를 포함한다. \n",
    "# 함수를 변수에 할당하고 다른함수에서 이를 인수로 사용하고,\n",
    "# 함수에서 이를 반환할 수 있다는 것이다."
   ]
  },
  {
   "cell_type": "code",
   "execution_count": 57,
   "id": "dbc30307",
   "metadata": {},
   "outputs": [],
   "source": [
    "def answer():\n",
    "    print(42)"
   ]
  },
  {
   "cell_type": "code",
   "execution_count": 58,
   "id": "943d40dd",
   "metadata": {},
   "outputs": [
    {
     "name": "stdout",
     "output_type": "stream",
     "text": [
      "42\n"
     ]
    }
   ],
   "source": [
    "answer()"
   ]
  },
  {
   "cell_type": "code",
   "execution_count": 59,
   "id": "c912867c",
   "metadata": {},
   "outputs": [],
   "source": [
    "def run_something(func):\n",
    "    func()"
   ]
  },
  {
   "cell_type": "code",
   "execution_count": 60,
   "id": "34a684ec",
   "metadata": {},
   "outputs": [
    {
     "name": "stdout",
     "output_type": "stream",
     "text": [
      "42\n"
     ]
    }
   ],
   "source": [
    "run_something(answer) #  함수를 데이터처럼 사용"
   ]
  },
  {
   "cell_type": "code",
   "execution_count": null,
   "id": "dd9c143f",
   "metadata": {},
   "outputs": [],
   "source": [
    "# answe「()를 전달하는 것이 아니라 answer를 전달했다. \n",
    "# 파이썬에서 괄호 ()는 함수를 호출한 다는 의미다. \n",
    "# 괄호가 없으면 함수를 다른 모든 객체와 마찬가지로 간주한다.\n",
    "# 파이썬에서 모든 것은 객체이기 때문이다"
   ]
  },
  {
   "cell_type": "code",
   "execution_count": 61,
   "id": "0f2b03f8",
   "metadata": {},
   "outputs": [
    {
     "data": {
      "text/plain": [
       "function"
      ]
     },
     "execution_count": 61,
     "metadata": {},
     "output_type": "execute_result"
    }
   ],
   "source": [
    "type(run_something)"
   ]
  },
  {
   "cell_type": "code",
   "execution_count": 62,
   "id": "88dce837",
   "metadata": {},
   "outputs": [],
   "source": [
    "def add_args(arg1,arg2):\n",
    "    print(arg1+arg2)"
   ]
  },
  {
   "cell_type": "code",
   "execution_count": 63,
   "id": "129a56c7",
   "metadata": {},
   "outputs": [
    {
     "data": {
      "text/plain": [
       "function"
      ]
     },
     "execution_count": 63,
     "metadata": {},
     "output_type": "execute_result"
    }
   ],
   "source": [
    "type(add_args)"
   ]
  },
  {
   "cell_type": "code",
   "execution_count": 64,
   "id": "bb1e67ae",
   "metadata": {},
   "outputs": [],
   "source": [
    "def run_something_with_args(func,arg1,arg2):\n",
    "    func(arg1,arg2)"
   ]
  },
  {
   "cell_type": "code",
   "execution_count": 65,
   "id": "f9c6450c",
   "metadata": {},
   "outputs": [
    {
     "name": "stdout",
     "output_type": "stream",
     "text": [
      "14\n"
     ]
    }
   ],
   "source": [
    "run_something_with_args(add_args,5,9)"
   ]
  },
  {
   "cell_type": "code",
   "execution_count": 66,
   "id": "32ddbe0a",
   "metadata": {},
   "outputs": [
    {
     "name": "stdout",
     "output_type": "stream",
     "text": [
      "14\n"
     ]
    }
   ],
   "source": [
    "add_args(5,9)"
   ]
  },
  {
   "cell_type": "code",
   "execution_count": 67,
   "id": "79772d67",
   "metadata": {},
   "outputs": [],
   "source": [
    "def sum_args(*args):\n",
    "    return sum(args)"
   ]
  },
  {
   "cell_type": "code",
   "execution_count": 68,
   "id": "673f98e8",
   "metadata": {},
   "outputs": [],
   "source": [
    "def run_with_positional_args(func,*args):\n",
    "    return func(*args)"
   ]
  },
  {
   "cell_type": "code",
   "execution_count": 69,
   "id": "18f0f628",
   "metadata": {},
   "outputs": [
    {
     "data": {
      "text/plain": [
       "10"
      ]
     },
     "execution_count": 69,
     "metadata": {},
     "output_type": "execute_result"
    }
   ],
   "source": [
    "run_with_positional_args(sum_args,1,2,3,4)"
   ]
  },
  {
   "cell_type": "code",
   "execution_count": null,
   "id": "bd5a7d70",
   "metadata": {},
   "outputs": [],
   "source": [
    "# 내부함수 ( 함수 안에 함수 또 정의)"
   ]
  },
  {
   "cell_type": "code",
   "execution_count": 70,
   "id": "13e4cfd8",
   "metadata": {},
   "outputs": [
    {
     "data": {
      "text/plain": [
       "11"
      ]
     },
     "execution_count": 70,
     "metadata": {},
     "output_type": "execute_result"
    }
   ],
   "source": [
    "def outer(a,b):\n",
    "    def inner(c,d):\n",
    "        return c+d\n",
    "    return inner(a,b)\n",
    "outer(4,7)"
   ]
  },
  {
   "cell_type": "code",
   "execution_count": null,
   "id": "c3a60306",
   "metadata": {},
   "outputs": [],
   "source": [
    "# 내부 함수는 반복문이나 코드 중복을 피하고자 또 다른 함수 내에 어떤\n",
    "# 복잡한 작업을 한번 이상 수행할 떄 유용하게 사용된다.\n",
    "# 다음 문자열 예제에서 내부 함수는 인수에 텍스트를 붙여준다."
   ]
  },
  {
   "cell_type": "code",
   "execution_count": null,
   "id": "2588a0bb",
   "metadata": {},
   "outputs": [],
   "source": []
  },
  {
   "cell_type": "code",
   "execution_count": 71,
   "id": "915a1ddc",
   "metadata": {},
   "outputs": [],
   "source": [
    "def knights(saying):\n",
    "    def inner(quote):\n",
    "        return \"We are the say: '%s'\" % quote\n",
    "    return inner(saying)"
   ]
  },
  {
   "cell_type": "code",
   "execution_count": 72,
   "id": "7940c7c8",
   "metadata": {},
   "outputs": [
    {
     "data": {
      "text/plain": [
       "\"We are the say: 'Ni!'\""
      ]
     },
     "execution_count": 72,
     "metadata": {},
     "output_type": "execute_result"
    }
   ],
   "source": [
    "knights(\"Ni!\")"
   ]
  },
  {
   "cell_type": "code",
   "execution_count": null,
   "id": "fde199df",
   "metadata": {},
   "outputs": [],
   "source": [
    "# 클로저 \n",
    "# 내부함수는 클로저 처럼 동작할쑤 있다.\n",
    "# 클로저는 다른 함수에 의해 동적으로 생성된다."
   ]
  },
  {
   "cell_type": "code",
   "execution_count": 73,
   "id": "762b92d2",
   "metadata": {},
   "outputs": [],
   "source": [
    "def knights2(saying):\n",
    "    def inner2():\n",
    "        return \"We are the say: '%s'\" % saying\n",
    "    return inner2"
   ]
  },
  {
   "cell_type": "code",
   "execution_count": 74,
   "id": "28ef8af8",
   "metadata": {},
   "outputs": [],
   "source": [
    "a = knights2('Duck')"
   ]
  },
  {
   "cell_type": "code",
   "execution_count": 75,
   "id": "2f0316dc",
   "metadata": {},
   "outputs": [],
   "source": [
    "b = knights2(\"Hasenpfeffer\")"
   ]
  },
  {
   "cell_type": "code",
   "execution_count": null,
   "id": "b31424c2",
   "metadata": {},
   "outputs": [],
   "source": [
    "# a 와 b의 타입은 무엇일까?"
   ]
  },
  {
   "cell_type": "code",
   "execution_count": 76,
   "id": "07139177",
   "metadata": {},
   "outputs": [
    {
     "data": {
      "text/plain": [
       "function"
      ]
     },
     "execution_count": 76,
     "metadata": {},
     "output_type": "execute_result"
    }
   ],
   "source": [
    "type(a)"
   ]
  },
  {
   "cell_type": "code",
   "execution_count": 77,
   "id": "5ca3aff0",
   "metadata": {},
   "outputs": [
    {
     "data": {
      "text/plain": [
       "function"
      ]
     },
     "execution_count": 77,
     "metadata": {},
     "output_type": "execute_result"
    }
   ],
   "source": [
    "type(b)"
   ]
  },
  {
   "cell_type": "code",
   "execution_count": null,
   "id": "e1eed3c8",
   "metadata": {},
   "outputs": [],
   "source": [
    "# 이들은 함수지만 클로저이기도 하다 "
   ]
  },
  {
   "cell_type": "code",
   "execution_count": 78,
   "id": "d2eaf238",
   "metadata": {},
   "outputs": [
    {
     "data": {
      "text/plain": [
       "<function __main__.knights2.<locals>.inner2()>"
      ]
     },
     "execution_count": 78,
     "metadata": {},
     "output_type": "execute_result"
    }
   ],
   "source": [
    "a"
   ]
  },
  {
   "cell_type": "code",
   "execution_count": 79,
   "id": "d8d11f6a",
   "metadata": {},
   "outputs": [
    {
     "data": {
      "text/plain": [
       "<function __main__.knights2.<locals>.inner2()>"
      ]
     },
     "execution_count": 79,
     "metadata": {},
     "output_type": "execute_result"
    }
   ],
   "source": [
    "b"
   ]
  },
  {
   "cell_type": "code",
   "execution_count": 80,
   "id": "f196572d",
   "metadata": {},
   "outputs": [
    {
     "data": {
      "text/plain": [
       "\"We are the say: 'Duck'\""
      ]
     },
     "execution_count": 80,
     "metadata": {},
     "output_type": "execute_result"
    }
   ],
   "source": [
    "a() # 이들을 호출하면 knights2() 함수에 전달되어 사용된 saying을 기억한다."
   ]
  },
  {
   "cell_type": "code",
   "execution_count": 81,
   "id": "602cea56",
   "metadata": {},
   "outputs": [
    {
     "data": {
      "text/plain": [
       "\"We are the say: 'Hasenpfeffer'\""
      ]
     },
     "execution_count": 81,
     "metadata": {},
     "output_type": "execute_result"
    }
   ],
   "source": [
    "b()"
   ]
  },
  {
   "cell_type": "code",
   "execution_count": null,
   "id": "8fe01e31",
   "metadata": {},
   "outputs": [],
   "source": []
  },
  {
   "cell_type": "code",
   "execution_count": null,
   "id": "80522539",
   "metadata": {},
   "outputs": [],
   "source": [
    "# 익명 함수: lambda\n",
    "# 단일 문장으로 표현되는 익명 함수다.\n",
    "# edit_story() 함수를 정의해보자 "
   ]
  },
  {
   "cell_type": "code",
   "execution_count": null,
   "id": "7c7bb82b",
   "metadata": {},
   "outputs": [],
   "source": [
    "# words: 리스트\n",
    "# func: 리스트의 각 word 문자열에 적용되는 함수"
   ]
  },
  {
   "cell_type": "code",
   "execution_count": 83,
   "id": "6953bea3",
   "metadata": {},
   "outputs": [],
   "source": [
    "def edit_story(words,func):\n",
    "    for word in words:\n",
    "        print(func(word))"
   ]
  },
  {
   "cell_type": "code",
   "execution_count": null,
   "id": "ef66b0f0",
   "metadata": {},
   "outputs": [],
   "source": [
    "# 이제 words 리스트와 각 word 에 적용할 함수가 필요하다.\n",
    "# 고양이가 계단을 헛디뎠을 떄 내는 stairs 리스트는 다음과 같다."
   ]
  },
  {
   "cell_type": "code",
   "execution_count": 84,
   "id": "f4b877a5",
   "metadata": {},
   "outputs": [],
   "source": [
    "stairs = ['thud','meow','thud','hiss']"
   ]
  },
  {
   "cell_type": "code",
   "execution_count": 85,
   "id": "a97e8986",
   "metadata": {},
   "outputs": [],
   "source": [
    "def enliven(word): # 첫글자를 대문자로 만들고 느낌표 붙이기\n",
    "    return word.capitalize() + '!'"
   ]
  },
  {
   "cell_type": "code",
   "execution_count": 86,
   "id": "0c1b2998",
   "metadata": {},
   "outputs": [
    {
     "name": "stdout",
     "output_type": "stream",
     "text": [
      "Thud!\n",
      "Meow!\n",
      "Thud!\n",
      "Hiss!\n"
     ]
    }
   ],
   "source": [
    "edit_story(stairs,enliven)"
   ]
  },
  {
   "cell_type": "code",
   "execution_count": null,
   "id": "b2dbe302",
   "metadata": {},
   "outputs": [],
   "source": [
    "# 람다를 사용해보자. enliven() 함수를 람다로 간단하게 바꿀수있다. "
   ]
  },
  {
   "cell_type": "code",
   "execution_count": 87,
   "id": "86e07b2f",
   "metadata": {},
   "outputs": [
    {
     "name": "stdout",
     "output_type": "stream",
     "text": [
      "Thud!\n",
      "Meow!\n",
      "Thud!\n",
      "Hiss!\n"
     ]
    }
   ],
   "source": [
    "edit_story(stairs, lambda word: word.capitalize() + '!')"
   ]
  },
  {
   "cell_type": "code",
   "execution_count": null,
   "id": "c4501a7b",
   "metadata": {},
   "outputs": [],
   "source": [
    "# 람다는 인수를 취하지 않거나 콤마로 구분된 인수를 취하고, \n",
    "# 콜론(:) 이후에 함수를 정의"
   ]
  },
  {
   "cell_type": "code",
   "execution_count": null,
   "id": "7627188a",
   "metadata": {},
   "outputs": [],
   "source": [
    " # 9.8 제너레이터 # 228"
   ]
  },
  {
   "cell_type": "code",
   "execution_count": null,
   "id": "eb8f998e",
   "metadata": {},
   "outputs": [],
   "source": [
    "# 제네레이터는 시퀀스를 생성하는 객체다.\n",
    "# 제네레이터로 전체 시퀀스를 한번에 메모리에 생성하고 정렬할 필요 없이,\n",
    "# 아주 큰 시퀀스를 순회할수 있다. \n",
    "# 제네레이터는 이터레이터에 대한 데이터의 소스로 자주 사용된다.\n",
    "# range() 함수를 저번에 사용했는데 제네레이터중 하나이다.\n"
   ]
  },
  {
   "cell_type": "code",
   "execution_count": null,
   "id": "8186903d",
   "metadata": {},
   "outputs": [],
   "source": []
  },
  {
   "cell_type": "code",
   "execution_count": null,
   "id": "49dde763",
   "metadata": {},
   "outputs": [],
   "source": []
  },
  {
   "cell_type": "code",
   "execution_count": null,
   "id": "71d2b9e0",
   "metadata": {},
   "outputs": [],
   "source": []
  },
  {
   "cell_type": "code",
   "execution_count": null,
   "id": "9b5d0cd2",
   "metadata": {},
   "outputs": [],
   "source": []
  },
  {
   "cell_type": "code",
   "execution_count": null,
   "id": "d5bd8296",
   "metadata": {},
   "outputs": [],
   "source": []
  },
  {
   "cell_type": "code",
   "execution_count": null,
   "id": "64b2697c",
   "metadata": {},
   "outputs": [],
   "source": []
  },
  {
   "cell_type": "code",
   "execution_count": null,
   "id": "b574da23",
   "metadata": {},
   "outputs": [],
   "source": []
  },
  {
   "cell_type": "code",
   "execution_count": null,
   "id": "bb4eddfe",
   "metadata": {},
   "outputs": [],
   "source": []
  },
  {
   "cell_type": "code",
   "execution_count": null,
   "id": "25d48549",
   "metadata": {},
   "outputs": [],
   "source": []
  },
  {
   "cell_type": "code",
   "execution_count": null,
   "id": "8c1a7938",
   "metadata": {},
   "outputs": [],
   "source": []
  },
  {
   "cell_type": "code",
   "execution_count": null,
   "id": "e487ddba",
   "metadata": {},
   "outputs": [],
   "source": []
  },
  {
   "cell_type": "code",
   "execution_count": null,
   "id": "68055aaa",
   "metadata": {},
   "outputs": [],
   "source": []
  },
  {
   "cell_type": "code",
   "execution_count": null,
   "id": "5e60f809",
   "metadata": {},
   "outputs": [],
   "source": []
  },
  {
   "cell_type": "code",
   "execution_count": null,
   "id": "32505013",
   "metadata": {},
   "outputs": [],
   "source": []
  },
  {
   "cell_type": "code",
   "execution_count": null,
   "id": "f4a4ea35",
   "metadata": {},
   "outputs": [],
   "source": []
  },
  {
   "cell_type": "code",
   "execution_count": null,
   "id": "dd3ca984",
   "metadata": {},
   "outputs": [],
   "source": []
  },
  {
   "cell_type": "code",
   "execution_count": null,
   "id": "219d959f",
   "metadata": {},
   "outputs": [],
   "source": []
  },
  {
   "cell_type": "code",
   "execution_count": null,
   "id": "e906d360",
   "metadata": {},
   "outputs": [],
   "source": []
  },
  {
   "cell_type": "code",
   "execution_count": null,
   "id": "5b31b105",
   "metadata": {},
   "outputs": [],
   "source": []
  },
  {
   "cell_type": "code",
   "execution_count": null,
   "id": "1fbda83c",
   "metadata": {},
   "outputs": [],
   "source": []
  },
  {
   "cell_type": "code",
   "execution_count": null,
   "id": "044a70c4",
   "metadata": {},
   "outputs": [],
   "source": []
  },
  {
   "cell_type": "code",
   "execution_count": null,
   "id": "5e89ec2c",
   "metadata": {},
   "outputs": [],
   "source": []
  },
  {
   "cell_type": "code",
   "execution_count": null,
   "id": "39accd13",
   "metadata": {},
   "outputs": [],
   "source": []
  },
  {
   "cell_type": "code",
   "execution_count": null,
   "id": "219560bf",
   "metadata": {},
   "outputs": [],
   "source": []
  },
  {
   "cell_type": "code",
   "execution_count": null,
   "id": "e63f7cc0",
   "metadata": {},
   "outputs": [],
   "source": []
  },
  {
   "cell_type": "code",
   "execution_count": null,
   "id": "b4122032",
   "metadata": {},
   "outputs": [],
   "source": []
  },
  {
   "cell_type": "code",
   "execution_count": null,
   "id": "2518f317",
   "metadata": {},
   "outputs": [],
   "source": []
  },
  {
   "cell_type": "code",
   "execution_count": null,
   "id": "9f5a174a",
   "metadata": {},
   "outputs": [],
   "source": []
  },
  {
   "cell_type": "code",
   "execution_count": null,
   "id": "d3f37883",
   "metadata": {},
   "outputs": [],
   "source": []
  },
  {
   "cell_type": "code",
   "execution_count": null,
   "id": "0ed50608",
   "metadata": {},
   "outputs": [],
   "source": []
  },
  {
   "cell_type": "code",
   "execution_count": null,
   "id": "1e7f5917",
   "metadata": {},
   "outputs": [],
   "source": []
  },
  {
   "cell_type": "code",
   "execution_count": null,
   "id": "6e5fbbac",
   "metadata": {},
   "outputs": [],
   "source": []
  },
  {
   "cell_type": "code",
   "execution_count": null,
   "id": "78a14c31",
   "metadata": {},
   "outputs": [],
   "source": []
  },
  {
   "cell_type": "code",
   "execution_count": null,
   "id": "1be3cfd8",
   "metadata": {},
   "outputs": [],
   "source": []
  },
  {
   "cell_type": "code",
   "execution_count": null,
   "id": "debae373",
   "metadata": {},
   "outputs": [],
   "source": []
  },
  {
   "cell_type": "code",
   "execution_count": null,
   "id": "4a442713",
   "metadata": {},
   "outputs": [],
   "source": []
  },
  {
   "cell_type": "code",
   "execution_count": null,
   "id": "ed1b194f",
   "metadata": {},
   "outputs": [],
   "source": []
  },
  {
   "cell_type": "code",
   "execution_count": null,
   "id": "fa802674",
   "metadata": {},
   "outputs": [],
   "source": []
  },
  {
   "cell_type": "code",
   "execution_count": null,
   "id": "55056c6b",
   "metadata": {},
   "outputs": [],
   "source": []
  },
  {
   "cell_type": "code",
   "execution_count": null,
   "id": "11662d37",
   "metadata": {},
   "outputs": [],
   "source": []
  }
 ],
 "metadata": {
  "kernelspec": {
   "display_name": "Python 3 (ipykernel)",
   "language": "python",
   "name": "python3"
  },
  "language_info": {
   "codemirror_mode": {
    "name": "ipython",
    "version": 3
   },
   "file_extension": ".py",
   "mimetype": "text/x-python",
   "name": "python",
   "nbconvert_exporter": "python",
   "pygments_lexer": "ipython3",
   "version": "3.11.5"
  }
 },
 "nbformat": 4,
 "nbformat_minor": 5
}
