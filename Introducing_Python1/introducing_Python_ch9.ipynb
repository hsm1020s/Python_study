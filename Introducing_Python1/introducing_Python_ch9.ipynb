{
 "cells": [
  {
   "cell_type": "code",
   "execution_count": 1,
   "id": "8870f440",
   "metadata": {},
   "outputs": [],
   "source": [
    "# 함수 207~242\n",
    "# 정의하기 (define) 0개 또는 1개 이상의 매개변수를 갖는다.\n",
    "# 호출하기 (call) 0개 또는 1개 이상의 결과를 얻는다."
   ]
  },
  {
   "cell_type": "code",
   "execution_count": 2,
   "id": "c479470a",
   "metadata": {},
   "outputs": [],
   "source": [
    "#9.1 함수 정의하기 def"
   ]
  },
  {
   "cell_type": "code",
   "execution_count": 3,
   "id": "5d392fcf",
   "metadata": {},
   "outputs": [],
   "source": [
    "def do_nothing():\n",
    "    pass # 아무것도 하지 않는다."
   ]
  },
  {
   "cell_type": "code",
   "execution_count": 4,
   "id": "17bc8490",
   "metadata": {},
   "outputs": [],
   "source": [
    "do_nothing() #함수 호출하기"
   ]
  },
  {
   "cell_type": "code",
   "execution_count": 5,
   "id": "04fe0b15",
   "metadata": {},
   "outputs": [],
   "source": [
    "def make_a_sound():\n",
    "    print('quack')"
   ]
  },
  {
   "cell_type": "code",
   "execution_count": 6,
   "id": "318b76fd",
   "metadata": {},
   "outputs": [
    {
     "name": "stdout",
     "output_type": "stream",
     "text": [
      "quack\n"
     ]
    }
   ],
   "source": [
    "make_a_sound()"
   ]
  },
  {
   "cell_type": "code",
   "execution_count": 7,
   "id": "2cb0fec7",
   "metadata": {},
   "outputs": [],
   "source": [
    "def agree():\n",
    "    return True"
   ]
  },
  {
   "cell_type": "code",
   "execution_count": 8,
   "id": "3273163a",
   "metadata": {},
   "outputs": [
    {
     "name": "stdout",
     "output_type": "stream",
     "text": [
      "Splendid!\n"
     ]
    }
   ],
   "source": [
    "if agree(): #함수를 호출하여 반환되는 값으로 조건 테스트 가능\n",
    "    print('Splendid!')\n",
    "else:\n",
    "    print('That was unexpected')"
   ]
  },
  {
   "cell_type": "code",
   "execution_count": 9,
   "id": "bf6281d9",
   "metadata": {},
   "outputs": [],
   "source": [
    "def echo(anything):\n",
    "    return anything+ ' '+ anything"
   ]
  },
  {
   "cell_type": "code",
   "execution_count": 10,
   "id": "6399ac43",
   "metadata": {},
   "outputs": [
    {
     "data": {
      "text/plain": [
       "'Rumplestiltskin Rumplestiltskin'"
      ]
     },
     "execution_count": 10,
     "metadata": {},
     "output_type": "execute_result"
    }
   ],
   "source": [
    "echo('Rumplestiltskin')"
   ]
  },
  {
   "cell_type": "code",
   "execution_count": 11,
   "id": "0b1573bb",
   "metadata": {},
   "outputs": [],
   "source": [
    "# 함수로 전달한 값을 인수 라고 부른다.\n",
    "# 인수와 함수를 호출하면 인수의 값은 함수 내에서 해당하는 매개변수에 복사된다.\n",
    "# 함수 외부에서는 인수 라고 하지만 내부에서는 매개변수라고 한다."
   ]
  },
  {
   "cell_type": "code",
   "execution_count": 12,
   "id": "021c8c4c",
   "metadata": {},
   "outputs": [],
   "source": [
    "def commentary(color):\n",
    "    if color == 'red':\n",
    "        return \"It's a tomato.\"\n",
    "    if color == 'green':\n",
    "        return \"It's a green pepper\"\n",
    "    if color == 'bee purple':\n",
    "        return \"I don't know what it is,\"\n",
    "    else: \n",
    "        return \"I've nerver heard of the color \"+ color +\".\""
   ]
  },
  {
   "cell_type": "code",
   "execution_count": 13,
   "id": "c1207aca",
   "metadata": {},
   "outputs": [],
   "source": [
    "comment= commentary('blue')"
   ]
  },
  {
   "cell_type": "code",
   "execution_count": 14,
   "id": "a3e6b12d",
   "metadata": {},
   "outputs": [
    {
     "name": "stdout",
     "output_type": "stream",
     "text": [
      "I've nerver heard of the color blue.\n"
     ]
    }
   ],
   "source": [
    "print(comment)"
   ]
  },
  {
   "cell_type": "code",
   "execution_count": 15,
   "id": "8dff00e4",
   "metadata": {},
   "outputs": [],
   "source": [
    "# 유용한 None\n",
    "# 아무것도 없다는 것을 뜻하는 파이썬의 특별한 값이다.\n",
    "# 불리언 값의 False 처럼 보이지만 다른 값을 의미"
   ]
  },
  {
   "cell_type": "code",
   "execution_count": 16,
   "id": "008fe18d",
   "metadata": {},
   "outputs": [],
   "source": [
    "thing = None"
   ]
  },
  {
   "cell_type": "code",
   "execution_count": 17,
   "id": "1f4d18a7",
   "metadata": {},
   "outputs": [
    {
     "name": "stdout",
     "output_type": "stream",
     "text": [
      "It's no thing\n"
     ]
    }
   ],
   "source": [
    "if thing:\n",
    "    print(\"It's some thing\")\n",
    "else:\n",
    "    print(\"It's no thing\")"
   ]
  },
  {
   "cell_type": "code",
   "execution_count": 18,
   "id": "2c32b00e",
   "metadata": {},
   "outputs": [],
   "source": [
    "# False와 None을 구분하기위해 is 연산자를 사용"
   ]
  },
  {
   "cell_type": "code",
   "execution_count": 19,
   "id": "a91c7004",
   "metadata": {},
   "outputs": [],
   "source": [
    "thing = None"
   ]
  },
  {
   "cell_type": "code",
   "execution_count": 20,
   "id": "c0ebdf18",
   "metadata": {},
   "outputs": [
    {
     "name": "stdout",
     "output_type": "stream",
     "text": [
      "It's nothing\n"
     ]
    }
   ],
   "source": [
    "if thing is None:\n",
    "    print(\"It's nothing\")\n",
    "else: \n",
    "    print(\"It's something\")"
   ]
  },
  {
   "cell_type": "code",
   "execution_count": 21,
   "id": "3a75819a",
   "metadata": {},
   "outputs": [],
   "source": [
    "# 사소한 차이로 보이지만 매우 중요\n",
    "# 빠뜨린 빈 값을 구분하기 위해 None을 사용\n",
    "# 정수,부동소수점,빈문자열,빈리스트,빈튜플,빈딕셔너리,빈셋은 모두 False 지만 \n",
    "# None과는 같지않음"
   ]
  },
  {
   "cell_type": "code",
   "execution_count": 22,
   "id": "d0017250",
   "metadata": {},
   "outputs": [],
   "source": [
    "def whatis(thing):\n",
    "    if thing is None:\n",
    "        print(thing, \"is None\")\n",
    "    elif thing:\n",
    "        print(thing,\" is True\")\n",
    "    else:\n",
    "        print(thing, \"is False\")"
   ]
  },
  {
   "cell_type": "code",
   "execution_count": 23,
   "id": "001bdea0",
   "metadata": {},
   "outputs": [
    {
     "name": "stdout",
     "output_type": "stream",
     "text": [
      "None is None\n"
     ]
    }
   ],
   "source": [
    "whatis(None)"
   ]
  },
  {
   "cell_type": "code",
   "execution_count": 24,
   "id": "766b2dfd",
   "metadata": {},
   "outputs": [
    {
     "name": "stdout",
     "output_type": "stream",
     "text": [
      "True  is True\n"
     ]
    }
   ],
   "source": [
    "whatis(True)"
   ]
  },
  {
   "cell_type": "code",
   "execution_count": 25,
   "id": "1fa0f762",
   "metadata": {},
   "outputs": [
    {
     "name": "stdout",
     "output_type": "stream",
     "text": [
      "False is False\n"
     ]
    }
   ],
   "source": [
    "whatis(False)"
   ]
  },
  {
   "cell_type": "code",
   "execution_count": 26,
   "id": "fe6df4f5",
   "metadata": {},
   "outputs": [
    {
     "name": "stdout",
     "output_type": "stream",
     "text": [
      "0 is False\n"
     ]
    }
   ],
   "source": [
    "whatis(0)"
   ]
  },
  {
   "cell_type": "code",
   "execution_count": 27,
   "id": "02bd8e12",
   "metadata": {},
   "outputs": [
    {
     "name": "stdout",
     "output_type": "stream",
     "text": [
      "0.0 is False\n"
     ]
    }
   ],
   "source": [
    "whatis(0.0)"
   ]
  },
  {
   "cell_type": "code",
   "execution_count": 28,
   "id": "a1133731",
   "metadata": {},
   "outputs": [
    {
     "name": "stdout",
     "output_type": "stream",
     "text": [
      " is False\n"
     ]
    }
   ],
   "source": [
    "whatis('')"
   ]
  },
  {
   "cell_type": "code",
   "execution_count": 29,
   "id": "61b915c1",
   "metadata": {},
   "outputs": [
    {
     "name": "stdout",
     "output_type": "stream",
     "text": [
      " is False\n"
     ]
    }
   ],
   "source": [
    "whatis('''''')"
   ]
  },
  {
   "cell_type": "code",
   "execution_count": 30,
   "id": "fbc9ef58",
   "metadata": {},
   "outputs": [
    {
     "name": "stdout",
     "output_type": "stream",
     "text": [
      "() is False\n"
     ]
    }
   ],
   "source": [
    "whatis(())"
   ]
  },
  {
   "cell_type": "code",
   "execution_count": 31,
   "id": "c61ea716",
   "metadata": {},
   "outputs": [
    {
     "name": "stdout",
     "output_type": "stream",
     "text": [
      "[] is False\n"
     ]
    }
   ],
   "source": [
    "whatis([])"
   ]
  },
  {
   "cell_type": "code",
   "execution_count": 32,
   "id": "0d699da1",
   "metadata": {},
   "outputs": [
    {
     "name": "stdout",
     "output_type": "stream",
     "text": [
      "{} is False\n"
     ]
    }
   ],
   "source": [
    "whatis({})"
   ]
  },
  {
   "cell_type": "code",
   "execution_count": 33,
   "id": "af42c127",
   "metadata": {},
   "outputs": [
    {
     "name": "stdout",
     "output_type": "stream",
     "text": [
      "set() is False\n"
     ]
    }
   ],
   "source": [
    "whatis(set())"
   ]
  },
  {
   "cell_type": "code",
   "execution_count": 34,
   "id": "e6c0b156",
   "metadata": {},
   "outputs": [
    {
     "name": "stdout",
     "output_type": "stream",
     "text": [
      "1e-05  is True\n"
     ]
    }
   ],
   "source": [
    "whatis(0.00001)"
   ]
  },
  {
   "cell_type": "code",
   "execution_count": 35,
   "id": "8485dffd",
   "metadata": {},
   "outputs": [
    {
     "name": "stdout",
     "output_type": "stream",
     "text": [
      "[0]  is True\n"
     ]
    }
   ],
   "source": [
    "whatis([0])"
   ]
  },
  {
   "cell_type": "code",
   "execution_count": 36,
   "id": "70052ea1",
   "metadata": {},
   "outputs": [
    {
     "name": "stdout",
     "output_type": "stream",
     "text": [
      "['']  is True\n"
     ]
    }
   ],
   "source": [
    "whatis([''])"
   ]
  },
  {
   "cell_type": "code",
   "execution_count": 37,
   "id": "0923d0aa",
   "metadata": {},
   "outputs": [
    {
     "name": "stdout",
     "output_type": "stream",
     "text": [
      "   is True\n"
     ]
    }
   ],
   "source": [
    "whatis(' ')"
   ]
  },
  {
   "cell_type": "code",
   "execution_count": 38,
   "id": "c1e4fc29",
   "metadata": {},
   "outputs": [],
   "source": [
    "# 위치 인수"
   ]
  },
  {
   "cell_type": "code",
   "execution_count": 39,
   "id": "d8365cbd",
   "metadata": {},
   "outputs": [],
   "source": [
    "# 파이썬은 다른 언어에 비해 함수의 인수를 유연하고 독특하게 처리한다. 인수의 가장 익숙한 \n",
    "# 유형은 값을 순서 대로 상응하는 매개변수에 복사하는 위치 인수argument다.\n",
    "# 다음 함수는 위치 인수로 딕셔너리를 만들어서 반환한다."
   ]
  },
  {
   "cell_type": "code",
   "execution_count": 40,
   "id": "ba73fb48",
   "metadata": {},
   "outputs": [],
   "source": [
    "def menu(wine, entree,dessert):\n",
    "    return {'wine':wine,'entree':entree,'dessert':dessert}"
   ]
  },
  {
   "cell_type": "code",
   "execution_count": 41,
   "id": "f93f1b71",
   "metadata": {},
   "outputs": [
    {
     "data": {
      "text/plain": [
       "{'wine': 'chardonnay', 'entree': 'chicken', 'dessert': 'cake'}"
      ]
     },
     "execution_count": 41,
     "metadata": {},
     "output_type": "execute_result"
    }
   ],
   "source": [
    "menu('chardonnay','chicken','cake')"
   ]
  },
  {
   "cell_type": "code",
   "execution_count": 42,
   "id": "46bd626a",
   "metadata": {},
   "outputs": [],
   "source": [
    "# 매우 일반적이지만 위치 인수의 단점은 각 위치의 의미를 알아야 한다는 것이다. 다음 예제는 \n",
    "#첫 번째 인수 대신 마지막 인수를 wine으로 menu()를 호출하면 이상한 식사가 된다."
   ]
  },
  {
   "cell_type": "code",
   "execution_count": 43,
   "id": "17278c74",
   "metadata": {},
   "outputs": [
    {
     "data": {
      "text/plain": [
       "{'wine': 'beef', 'entree': 'bagel', 'dessert': 'bordeaux'}"
      ]
     },
     "execution_count": 43,
     "metadata": {},
     "output_type": "execute_result"
    }
   ],
   "source": [
    "menu('beef','bagel','bordeaux')"
   ]
  },
  {
   "cell_type": "code",
   "execution_count": 44,
   "id": "43925dee",
   "metadata": {},
   "outputs": [],
   "source": [
    "# 9.3.3 키워드 인수"
   ]
  },
  {
   "cell_type": "code",
   "execution_count": 45,
   "id": "668f3aa4",
   "metadata": {},
   "outputs": [],
   "source": [
    "# 위치 인수의 혼란을 피하기 위해 매개변수에 상응하는 이름을 인수에 지정할 수 있다. \n",
    "# 심지어 인수를 함수 정의와 다른 순서로 지정할 수 있다"
   ]
  },
  {
   "cell_type": "code",
   "execution_count": 46,
   "id": "11a0e471",
   "metadata": {},
   "outputs": [
    {
     "data": {
      "text/plain": [
       "{'wine': 'bordeaux', 'entree': 'beef', 'dessert': 'bagel'}"
      ]
     },
     "execution_count": 46,
     "metadata": {},
     "output_type": "execute_result"
    }
   ],
   "source": [
    "menu(entree='beef', dessert='bagel', wine='bordeaux')"
   ]
  },
  {
   "cell_type": "code",
   "execution_count": 47,
   "id": "4dc3bee7",
   "metadata": {},
   "outputs": [],
   "source": [
    "# 위치 인수와 키워드 인수를 섞어서 쓸 수 있다. \n",
    "# wine을 첫 번째 인수로，entree와 dessert를 키워드 인수로 지정해보자."
   ]
  },
  {
   "cell_type": "code",
   "execution_count": 48,
   "id": "b546878e",
   "metadata": {},
   "outputs": [
    {
     "data": {
      "text/plain": [
       "{'wine': 'frontenac', 'entree': 'fish', 'dessert': 'flan'}"
      ]
     },
     "execution_count": 48,
     "metadata": {},
     "output_type": "execute_result"
    }
   ],
   "source": [
    "menu('frontenac',dessert='flan',entree='fish')"
   ]
  },
  {
   "cell_type": "code",
   "execution_count": 49,
   "id": "94d64365",
   "metadata": {},
   "outputs": [],
   "source": [
    "# 위치 인수와 키워드 인수로 함수를 호출하면 위치 인수가 먼저 와야 한다."
   ]
  },
  {
   "cell_type": "code",
   "execution_count": 50,
   "id": "513a6a70",
   "metadata": {},
   "outputs": [],
   "source": [
    "# 9.3.4 기본 매개변수 값 지정하기\n",
    "# 매개변수에 기본값을 지정할 수 있다. \n",
    "# 호출자가 대응하는 인수를 제공하지 않으면 기본값을 사용한다."
   ]
  },
  {
   "cell_type": "code",
   "execution_count": 51,
   "id": "e5d8e031",
   "metadata": {},
   "outputs": [],
   "source": [
    "def menu(wine,entree,dessert='pudding'):\n",
    "    return {'wine':wine,'entree':entree, 'dessert':dessert}"
   ]
  },
  {
   "cell_type": "code",
   "execution_count": 52,
   "id": "a6d4affb",
   "metadata": {},
   "outputs": [
    {
     "data": {
      "text/plain": [
       "{'wine': 'chardonnay', 'entree': 'chicken', 'dessert': 'pudding'}"
      ]
     },
     "execution_count": 52,
     "metadata": {},
     "output_type": "execute_result"
    }
   ],
   "source": [
    "menu('chardonnay','chicken') #dessert 인수 없이 menu()를 호출."
   ]
  },
  {
   "cell_type": "code",
   "execution_count": 53,
   "id": "bb8216a6",
   "metadata": {},
   "outputs": [
    {
     "data": {
      "text/plain": [
       "{'wine': 'dunkelfelder', 'entree': 'duck', 'dessert': 'doughnut'}"
      ]
     },
     "execution_count": 53,
     "metadata": {},
     "output_type": "execute_result"
    }
   ],
   "source": [
    "menu('dunkelfelder','duck','doughnut')"
   ]
  },
  {
   "cell_type": "code",
   "execution_count": 54,
   "id": "09c47b6e",
   "metadata": {},
   "outputs": [],
   "source": [
    "# 기본 인수는 함수가 실행될 때 계산되지 않고, 함수를 정의할 때 계산된다. \n",
    "# 파이썬 초급(혹은 중급) 개발자는 리스트 혹은 딕셔너리와 같은 가변 데이터 타입을 \n",
    "# 기본 인수로 사용할 때 실수하게 된다"
   ]
  },
  {
   "cell_type": "code",
   "execution_count": 55,
   "id": "3ef16bd1",
   "metadata": {},
   "outputs": [],
   "source": [
    "# buggy() 함수를 정의한다. \n",
    "# 이 함수는 일반 매개변수 arg와 기본 매개변수로 빈 리스트를 취하는 result가 있다. \n",
    "# 함수는 arg를 result 리스트에 추가한다. \n",
    "# 함수를 호출할 때 마다 한 항목이 있는 리스트가 반환될 것이라고 \n",
    "# 예상할 수 있지만, 이전에 호출했던 result가\n",
    "# 그대로 리스트에 남아 있는 상태로 출력된다."
   ]
  },
  {
   "cell_type": "code",
   "execution_count": 56,
   "id": "e730c550",
   "metadata": {},
   "outputs": [],
   "source": [
    "def buggy(arg,result=[]):\n",
    "    result.append(arg)\n",
    "    print(result)"
   ]
  },
  {
   "cell_type": "code",
   "execution_count": 57,
   "id": "055458bc",
   "metadata": {},
   "outputs": [
    {
     "name": "stdout",
     "output_type": "stream",
     "text": [
      "['a']\n"
     ]
    }
   ],
   "source": [
    "buggy('a')"
   ]
  },
  {
   "cell_type": "code",
   "execution_count": 58,
   "id": "744a3525",
   "metadata": {},
   "outputs": [
    {
     "name": "stdout",
     "output_type": "stream",
     "text": [
      "['a', 'b']\n"
     ]
    }
   ],
   "source": [
    "buggy('b') # expect ['b']"
   ]
  },
  {
   "cell_type": "code",
   "execution_count": 59,
   "id": "c2c16108",
   "metadata": {},
   "outputs": [],
   "source": [
    "def works(arg):\n",
    "    result = []\n",
    "    result.append(arg)\n",
    "    return result"
   ]
  },
  {
   "cell_type": "code",
   "execution_count": 60,
   "id": "507eddcc",
   "metadata": {},
   "outputs": [
    {
     "data": {
      "text/plain": [
       "['a']"
      ]
     },
     "execution_count": 60,
     "metadata": {},
     "output_type": "execute_result"
    }
   ],
   "source": [
    "works('a')"
   ]
  },
  {
   "cell_type": "code",
   "execution_count": 61,
   "id": "85249ef9",
   "metadata": {},
   "outputs": [
    {
     "data": {
      "text/plain": [
       "['b']"
      ]
     },
     "execution_count": 61,
     "metadata": {},
     "output_type": "execute_result"
    }
   ],
   "source": [
    "works('b')"
   ]
  },
  {
   "cell_type": "code",
   "execution_count": 62,
   "id": "809a167e",
   "metadata": {},
   "outputs": [],
   "source": [
    "# 첫 번째 인수 호출을 가리키기 위해 매개변수에 다른 값을 넣어서 수정할수 있다."
   ]
  },
  {
   "cell_type": "code",
   "execution_count": 63,
   "id": "063d22f6",
   "metadata": {},
   "outputs": [],
   "source": [
    "def nonbuggy(arg,result=None):\n",
    "    if result is None:\n",
    "        result=[]\n",
    "    result.append(arg)\n",
    "    print(result)"
   ]
  },
  {
   "cell_type": "code",
   "execution_count": 64,
   "id": "9713fae5",
   "metadata": {},
   "outputs": [
    {
     "name": "stdout",
     "output_type": "stream",
     "text": [
      "['a']\n"
     ]
    }
   ],
   "source": [
    "nonbuggy('a')"
   ]
  },
  {
   "cell_type": "code",
   "execution_count": 65,
   "id": "5516741c",
   "metadata": {},
   "outputs": [
    {
     "name": "stdout",
     "output_type": "stream",
     "text": [
      "['b']\n"
     ]
    }
   ],
   "source": [
    "nonbuggy('b')"
   ]
  },
  {
   "cell_type": "code",
   "execution_count": 66,
   "id": "c1ef096e",
   "metadata": {},
   "outputs": [],
   "source": [
    "#### 이것은 가끔 파이썬 기술 면접에 등장한다. "
   ]
  },
  {
   "cell_type": "code",
   "execution_count": 67,
   "id": "58ca470d",
   "metadata": {},
   "outputs": [],
   "source": [
    "# 9.3.5 위치 인수 분해하기/모으기:   *"
   ]
  },
  {
   "cell_type": "code",
   "execution_count": 68,
   "id": "213cc4d3",
   "metadata": {},
   "outputs": [],
   "source": [
    "#파이썬에는 포인터가 없음 "
   ]
  },
  {
   "cell_type": "code",
   "execution_count": 69,
   "id": "91def07a",
   "metadata": {},
   "outputs": [],
   "source": [
    "# 함수의 매개변수에 애스터리스크를 사용할 때, \n",
    "# 애스터리스크는 매개변수에서 위치 인수 변수를 튜플로 묶는다. \n",
    "# 다음 예제는 print_args() 함수로 인수를 전달하고，\n",
    "# args 매개변수 튜플의 결과를살펴본다"
   ]
  },
  {
   "cell_type": "code",
   "execution_count": 70,
   "id": "db8911a4",
   "metadata": {},
   "outputs": [],
   "source": [
    "def print_args(*args):\n",
    "    print('Positional tuple:',args)"
   ]
  },
  {
   "cell_type": "code",
   "execution_count": 71,
   "id": "e069ccfb",
   "metadata": {},
   "outputs": [
    {
     "name": "stdout",
     "output_type": "stream",
     "text": [
      "Positional tuple: ()\n"
     ]
    }
   ],
   "source": [
    "print_args()"
   ]
  },
  {
   "cell_type": "code",
   "execution_count": 72,
   "id": "0427379e",
   "metadata": {},
   "outputs": [
    {
     "name": "stdout",
     "output_type": "stream",
     "text": [
      "Positional tuple: (3, 2, 1, 'wait!', 'uh...')\n"
     ]
    }
   ],
   "source": [
    "print_args(3,2,1,'wait!','uh...') #인수를 넣어서 튜플을 출력 "
   ]
  },
  {
   "cell_type": "code",
   "execution_count": 73,
   "id": "e1877f09",
   "metadata": {},
   "outputs": [],
   "source": [
    "# 가변 인수를 사용하는 print()와 같은 함수는 매우 유용하다. \n",
    "# 함수에 위치 인수를 지정할 때 맨 끝에 *a「gs를 써서 나머지 인수를 모두 취하게 할수 있다."
   ]
  },
  {
   "cell_type": "code",
   "execution_count": 74,
   "id": "105018a9",
   "metadata": {},
   "outputs": [],
   "source": [
    "def print_more(required1, required2, *args):\n",
    "    print('Need this one:', required1)\n",
    "    print('Need this one. too:', required2)\n",
    "    print('All the rest',args)"
   ]
  },
  {
   "cell_type": "code",
   "execution_count": 75,
   "id": "12892c76",
   "metadata": {},
   "outputs": [
    {
     "name": "stdout",
     "output_type": "stream",
     "text": [
      "Need this one: cap\n",
      "Need this one. too: gloves\n",
      "All the rest ('scarf', 'monocle', 'mustache wax')\n"
     ]
    }
   ],
   "source": [
    "print_more('cap','gloves','scarf','monocle','mustache wax')"
   ]
  },
  {
   "cell_type": "code",
   "execution_count": 76,
   "id": "ae4aae24",
   "metadata": {},
   "outputs": [],
   "source": [
    "# *를 사용할 때 가변 인수의 이름으로 args를 사용할 필요는 없지만 관용적으로 args를 사용한다 \n",
    "# 또한 이전 예제와 같이 일반적으로 함수에 *args를 사용한다. 기술적으로 매개변수라고 하기도 하고, \n",
    "# *params 라고도 한다."
   ]
  },
  {
   "cell_type": "code",
   "execution_count": 77,
   "id": "0db62e85",
   "metadata": {},
   "outputs": [],
   "source": [
    "# • 위치 인수를 함수에 전달하면, 함수 내 위치 매개변수와 일치한다.\n",
    "# • 튜플 인수를 함수에 전달하면，함수 내 튜플 매개변수가 있다.\n",
    "# • 위치 인수를 함수에 전달하고, 매개변수 *args로 수집하여 튜플 인수로 해석할수 있다.\n",
    "# • args라는 튜플 인수를 함수에 전달하여，위치 매개변수 *args로 분해할 수 있다. \n",
    "# 이것은 튜플  매개변수 args 안에 다시 수집된다."
   ]
  },
  {
   "cell_type": "code",
   "execution_count": 78,
   "id": "cafd21d4",
   "metadata": {},
   "outputs": [
    {
     "name": "stdout",
     "output_type": "stream",
     "text": [
      "Positional tuple: (2, 5, 7, 'x')\n"
     ]
    }
   ],
   "source": [
    "print_args(2,5,7,'x')"
   ]
  },
  {
   "cell_type": "code",
   "execution_count": 79,
   "id": "d896283f",
   "metadata": {},
   "outputs": [],
   "source": [
    "args = (2,5,7,'x')"
   ]
  },
  {
   "cell_type": "code",
   "execution_count": 80,
   "id": "82cba1ec",
   "metadata": {},
   "outputs": [
    {
     "name": "stdout",
     "output_type": "stream",
     "text": [
      "Positional tuple: ((2, 5, 7, 'x'),)\n"
     ]
    }
   ],
   "source": [
    "print_args(args)"
   ]
  },
  {
   "cell_type": "code",
   "execution_count": 81,
   "id": "643e6d3c",
   "metadata": {},
   "outputs": [
    {
     "name": "stdout",
     "output_type": "stream",
     "text": [
      "Positional tuple: (2, 5, 7, 'x')\n"
     ]
    }
   ],
   "source": [
    "print_args(*args)"
   ]
  },
  {
   "cell_type": "code",
   "execution_count": 82,
   "id": "283efed0",
   "metadata": {},
   "outputs": [
    {
     "ename": "SyntaxError",
     "evalue": "can't use starred expression here (103812974.py, line 1)",
     "output_type": "error",
     "traceback": [
      "\u001b[1;36m  Cell \u001b[1;32mIn[82], line 1\u001b[1;36m\u001b[0m\n\u001b[1;33m    *args  # 함수 호출 또는 정의에서만 * 구문을 사용가능\u001b[0m\n\u001b[1;37m    ^\u001b[0m\n\u001b[1;31mSyntaxError\u001b[0m\u001b[1;31m:\u001b[0m can't use starred expression here\n"
     ]
    }
   ],
   "source": [
    "*args  # 함수 호출 또는 정의에서만 * 구문을 사용가능 "
   ]
  },
  {
   "cell_type": "code",
   "execution_count": 83,
   "id": "05be438d",
   "metadata": {},
   "outputs": [],
   "source": [
    "# 함수 외부에서 *args는 튜플  인수를 쉼표로 구분된 위치 매개변수로 분해한다.\n",
    "# • 함수 내부에서 *args는 모든 위치의 인수를 단일 인수 튜플로 수집한다. \n",
    "# *params와 param라는 이름을 \n",
    "# 사용할 수 있지만, 외부 인수와 내부 인수 모두에 *args를 사용하는 것이 일반적이다.\n",
    "# *args는 함수 외부에서 분해된 값을 함수 내부에 모은다."
   ]
  },
  {
   "cell_type": "code",
   "execution_count": 84,
   "id": "63af4bc8",
   "metadata": {},
   "outputs": [],
   "source": [
    "# 9.3.6 키워드 인수 분해하기/모으기: *"
   ]
  },
  {
   "cell_type": "code",
   "execution_count": 85,
   "id": "89e52fcc",
   "metadata": {},
   "outputs": [],
   "source": [
    "# 키워드 인수를 딕셔너리로 묶기 위해 두 개의 애스터리스크(**)를 사용할 수 있다. \n",
    "# 인수의 이름은 키고，값은 이 키에 대응하는 딕셔너리 값이다. \n",
    "# 다음 예제는 print_kwargs() 함수를 정의하여 키워드 인수를 출력한다."
   ]
  },
  {
   "cell_type": "code",
   "execution_count": 86,
   "id": "36fddb7a",
   "metadata": {},
   "outputs": [],
   "source": [
    "def print_kwargs(**kwargs):\n",
    "    print('Keyword arguments:',kwargs)"
   ]
  },
  {
   "cell_type": "code",
   "execution_count": 87,
   "id": "caf69cb2",
   "metadata": {},
   "outputs": [],
   "source": [
    "# 인수 없이 호출 , 그리고 키워드 인수를 사용하여 함술를 호춯한다."
   ]
  },
  {
   "cell_type": "code",
   "execution_count": 88,
   "id": "bcb6197c",
   "metadata": {},
   "outputs": [
    {
     "name": "stdout",
     "output_type": "stream",
     "text": [
      "Keyword arguments: {}\n"
     ]
    }
   ],
   "source": [
    "print_kwargs()"
   ]
  },
  {
   "cell_type": "code",
   "execution_count": 89,
   "id": "bc9f8338",
   "metadata": {},
   "outputs": [
    {
     "name": "stdout",
     "output_type": "stream",
     "text": [
      "Keyword arguments: {'wine': 'merlot', 'entree': 'mutton', 'dessert': 'macaroon'}\n"
     ]
    }
   ],
   "source": [
    "print_kwargs(wine='merlot',entree='mutton',dessert='macaroon')"
   ]
  },
  {
   "cell_type": "code",
   "execution_count": 90,
   "id": "f5884b00",
   "metadata": {},
   "outputs": [],
   "source": [
    "# 함수 내에서 kwargs는 딕셔너리 매개변수다. 인수 순서는 다음과 같다."
   ]
  },
  {
   "cell_type": "code",
   "execution_count": 91,
   "id": "c565f32e",
   "metadata": {},
   "outputs": [],
   "source": [
    "# 위치 인수\n",
    "# 위치 인수 (*args) - 옵션\n",
    "# 키워드 인수 (**kwargs) - 옵션"
   ]
  },
  {
   "cell_type": "code",
   "execution_count": 92,
   "id": "6d3c0cff",
   "metadata": {},
   "outputs": [],
   "source": [
    "# args와 마찬가지로 키워드 인수 이름을 kwargs로 사용하지만 필수는 아니다.\n",
    "# **구문은 함수 호출 또는 정의에서만 유효하다."
   ]
  },
  {
   "cell_type": "code",
   "execution_count": 93,
   "id": "60f57562",
   "metadata": {},
   "outputs": [],
   "source": [
    "# 요약하자면 \n",
    " # • 키워드 인수를 함수에 전달하면, 함수 내 키워드 매개변수와 일치한다.\n",
    " # • 딕셔너리 인수를 함수에 전달하면, 함수 내 딕셔너리 매개변수가 있다.\n",
    " # • 하나 이상의 키워드 인수（이름=값）를 함수에 전달하고, \n",
    " #   이를 **kwargs에 수집하여, kwargs 딕셔너리 매개변수로 해석할 수 있다.\n",
    " # • 함수 외부에서 **kwargs는 딕셔너리 kwargs를 '이름=값’ 인수로 분해한다.\n",
    " # • 함수 내부에서 **kwargs는 ' 이름=값 '  인수를 단일 딕셔너리 매개변수 kwargs에 모은다.\n",
    " # **kwargs는 함수 외부에서 분해된 ‘이름=값’을 함수 내부에 모은다."
   ]
  },
  {
   "cell_type": "code",
   "execution_count": null,
   "id": "9814ac8f",
   "metadata": {},
   "outputs": [],
   "source": []
  },
  {
   "cell_type": "code",
   "execution_count": 94,
   "id": "604d7ea8",
   "metadata": {},
   "outputs": [],
   "source": [
    "# 9.3.7 키워드 전용 인수 \n",
    "# 이름에서 알 수 있듯이 값을 위치적으로 제공하지 않고 '이름=값’으로 제공해야 한다. \n",
    "# 아래의 함수 정의에서 단일 애스터리스크는 start 및 end 매개변수의 기본값을 사용하고 싶지 않은 경우 \n",
    "# 명명된 인수로 제공 해야 함을 의미"
   ]
  },
  {
   "cell_type": "code",
   "execution_count": null,
   "id": "0ee01852",
   "metadata": {},
   "outputs": [],
   "source": []
  },
  {
   "cell_type": "code",
   "execution_count": 95,
   "id": "684c2483",
   "metadata": {},
   "outputs": [],
   "source": [
    "def print_data(data, *, start=0, end=100):\n",
    "    for value in (data[start:end]):\n",
    "        print(value)"
   ]
  },
  {
   "cell_type": "code",
   "execution_count": 96,
   "id": "9af67fe8",
   "metadata": {},
   "outputs": [],
   "source": [
    "data = ['a','b','c','d','e','f']"
   ]
  },
  {
   "cell_type": "code",
   "execution_count": 97,
   "id": "98488951",
   "metadata": {},
   "outputs": [
    {
     "name": "stdout",
     "output_type": "stream",
     "text": [
      "a\n",
      "b\n",
      "c\n",
      "d\n",
      "e\n",
      "f\n"
     ]
    }
   ],
   "source": [
    "print_data(data)"
   ]
  },
  {
   "cell_type": "code",
   "execution_count": 98,
   "id": "076779c4",
   "metadata": {},
   "outputs": [
    {
     "name": "stdout",
     "output_type": "stream",
     "text": [
      "e\n",
      "f\n"
     ]
    }
   ],
   "source": [
    "print_data(data,start=4)"
   ]
  },
  {
   "cell_type": "code",
   "execution_count": 99,
   "id": "7b5be044",
   "metadata": {},
   "outputs": [
    {
     "name": "stdout",
     "output_type": "stream",
     "text": [
      "a\n",
      "b\n"
     ]
    }
   ],
   "source": [
    "print_data(data,end=2)"
   ]
  },
  {
   "cell_type": "code",
   "execution_count": 100,
   "id": "a0281974",
   "metadata": {},
   "outputs": [],
   "source": [
    "# 9.3.8 가변/불변 인수\n",
    "# 함수에 인수를 전달할 때 주의한다. \n",
    "# 인수가 가변 객체인 경우 해당 매개변수를 통해 함수 내부에서 값을 변경할수 있다."
   ]
  },
  {
   "cell_type": "code",
   "execution_count": 101,
   "id": "9f4f3e37",
   "metadata": {},
   "outputs": [],
   "source": [
    "outside =['one','fine','day']"
   ]
  },
  {
   "cell_type": "code",
   "execution_count": 102,
   "id": "ae62cfb4",
   "metadata": {},
   "outputs": [],
   "source": [
    "def mangle(arg):\n",
    "    arg[1] = 'terrible!'"
   ]
  },
  {
   "cell_type": "code",
   "execution_count": 103,
   "id": "7eff0c66",
   "metadata": {},
   "outputs": [
    {
     "data": {
      "text/plain": [
       "['one', 'fine', 'day']"
      ]
     },
     "execution_count": 103,
     "metadata": {},
     "output_type": "execute_result"
    }
   ],
   "source": [
    "outside"
   ]
  },
  {
   "cell_type": "code",
   "execution_count": 104,
   "id": "935aaf73",
   "metadata": {},
   "outputs": [],
   "source": [
    "mangle(outside)"
   ]
  },
  {
   "cell_type": "code",
   "execution_count": 105,
   "id": "8d3c697d",
   "metadata": {},
   "outputs": [
    {
     "data": {
      "text/plain": [
       "['one', 'terrible!', 'day']"
      ]
     },
     "execution_count": 105,
     "metadata": {},
     "output_type": "execute_result"
    }
   ],
   "source": [
    "outside"
   ]
  },
  {
   "cell_type": "code",
   "execution_count": 106,
   "id": "ba0f1afd",
   "metadata": {},
   "outputs": [],
   "source": [
    "# 위 코드는 안 좋은 예시이다. 함수 내에서 인수가 변경될수 있다고 문서화하거나 새 값을 반환한다."
   ]
  },
  {
   "cell_type": "code",
   "execution_count": 107,
   "id": "76b2826a",
   "metadata": {},
   "outputs": [],
   "source": [
    "# 9.4 독스트링 \n",
    "# 함수 바디 시작부분에 문자열을 포함시켜 함수 정의에 문서를 붙일 수 있다.\n",
    "# 이것이 함수의 독스트링 이다."
   ]
  },
  {
   "cell_type": "code",
   "execution_count": 108,
   "id": "58f51f05",
   "metadata": {},
   "outputs": [],
   "source": [
    "def echo(anything):\n",
    "    'echo returns its input argument'\n",
    "    return anything"
   ]
  },
  {
   "cell_type": "code",
   "execution_count": 109,
   "id": "83d4be8e",
   "metadata": {},
   "outputs": [],
   "source": [
    "def print_if_true(thing, check):\n",
    "    '''\n",
    "    Prints the first argument if a second argument is true.\n",
    "    The operation is:\n",
    "        1. Check\n",
    "        2. If it is,\n",
    "    '''\n",
    "    if check:\n",
    "        print(thing)"
   ]
  },
  {
   "cell_type": "code",
   "execution_count": 110,
   "id": "ae4fe6c9",
   "metadata": {},
   "outputs": [],
   "source": [
    "# 함수의 독스트링을 출력하려면 help()함수를 호출한다.\n",
    "#함수 인수의 리스트와 서식화된 독스트링을 얻기위해 함수 이름을 인수로 전달"
   ]
  },
  {
   "cell_type": "code",
   "execution_count": 111,
   "id": "d867ac5a",
   "metadata": {},
   "outputs": [
    {
     "name": "stdout",
     "output_type": "stream",
     "text": [
      "Help on function echo in module __main__:\n",
      "\n",
      "echo(anything)\n",
      "    echo returns its input argument\n",
      "\n"
     ]
    }
   ],
   "source": [
    "help(echo)"
   ]
  },
  {
   "cell_type": "code",
   "execution_count": 112,
   "id": "6a2302a8",
   "metadata": {},
   "outputs": [
    {
     "ename": "NameError",
     "evalue": "name 'anything' is not defined",
     "output_type": "error",
     "traceback": [
      "\u001b[1;31m---------------------------------------------------------------------------\u001b[0m",
      "\u001b[1;31mNameError\u001b[0m                                 Traceback (most recent call last)",
      "Cell \u001b[1;32mIn[112], line 1\u001b[0m\n\u001b[1;32m----> 1\u001b[0m echo(anything)\n",
      "\u001b[1;31mNameError\u001b[0m: name 'anything' is not defined"
     ]
    }
   ],
   "source": [
    "echo(anything) # 에러 왜나는지 확인 "
   ]
  },
  {
   "cell_type": "code",
   "execution_count": 113,
   "id": "effeabee",
   "metadata": {},
   "outputs": [
    {
     "name": "stdout",
     "output_type": "stream",
     "text": [
      "Help on function echo in module __main__:\n",
      "\n",
      "echo(anything)\n",
      "    echo returns its input argument\n",
      "\n"
     ]
    }
   ],
   "source": [
    "help(echo)"
   ]
  },
  {
   "cell_type": "code",
   "execution_count": 114,
   "id": "996e8cc1",
   "metadata": {},
   "outputs": [
    {
     "name": "stdout",
     "output_type": "stream",
     "text": [
      "echo returns its input argument\n"
     ]
    }
   ],
   "source": [
    "print(echo.__doc__)"
   ]
  },
  {
   "cell_type": "code",
   "execution_count": 115,
   "id": "f74063bc",
   "metadata": {},
   "outputs": [],
   "source": [
    "# 일등 시민 : 함수\n",
    "# 객체는 숫자,문자열,튜플,리스트,딕셔너리,함수를 포함한다. \n",
    "# 함수를 변수에 할당하고 다른함수에서 이를 인수로 사용하고,\n",
    "# 함수에서 이를 반환할 수 있다는 것이다."
   ]
  },
  {
   "cell_type": "code",
   "execution_count": 116,
   "id": "dbc30307",
   "metadata": {},
   "outputs": [],
   "source": [
    "def answer():\n",
    "    print(42)"
   ]
  },
  {
   "cell_type": "code",
   "execution_count": 117,
   "id": "943d40dd",
   "metadata": {},
   "outputs": [
    {
     "name": "stdout",
     "output_type": "stream",
     "text": [
      "42\n"
     ]
    }
   ],
   "source": [
    "answer()"
   ]
  },
  {
   "cell_type": "code",
   "execution_count": 118,
   "id": "c912867c",
   "metadata": {},
   "outputs": [],
   "source": [
    "def run_something(func):\n",
    "    func()"
   ]
  },
  {
   "cell_type": "code",
   "execution_count": 119,
   "id": "34a684ec",
   "metadata": {},
   "outputs": [
    {
     "name": "stdout",
     "output_type": "stream",
     "text": [
      "42\n"
     ]
    }
   ],
   "source": [
    "run_something(answer) #  함수를 데이터처럼 사용"
   ]
  },
  {
   "cell_type": "code",
   "execution_count": 120,
   "id": "dd9c143f",
   "metadata": {},
   "outputs": [],
   "source": [
    "# answe「()를 전달하는 것이 아니라 answer를 전달했다. \n",
    "# 파이썬에서 괄호 ()는 함수를 호출한 다는 의미다. \n",
    "# 괄호가 없으면 함수를 다른 모든 객체와 마찬가지로 간주한다.\n",
    "# 파이썬에서 모든 것은 객체이기 때문이다"
   ]
  },
  {
   "cell_type": "code",
   "execution_count": 121,
   "id": "0f2b03f8",
   "metadata": {},
   "outputs": [
    {
     "data": {
      "text/plain": [
       "function"
      ]
     },
     "execution_count": 121,
     "metadata": {},
     "output_type": "execute_result"
    }
   ],
   "source": [
    "type(run_something)"
   ]
  },
  {
   "cell_type": "code",
   "execution_count": 122,
   "id": "88dce837",
   "metadata": {},
   "outputs": [],
   "source": [
    "def add_args(arg1,arg2):\n",
    "    print(arg1+arg2)"
   ]
  },
  {
   "cell_type": "code",
   "execution_count": 123,
   "id": "129a56c7",
   "metadata": {},
   "outputs": [
    {
     "data": {
      "text/plain": [
       "function"
      ]
     },
     "execution_count": 123,
     "metadata": {},
     "output_type": "execute_result"
    }
   ],
   "source": [
    "type(add_args)"
   ]
  },
  {
   "cell_type": "code",
   "execution_count": 124,
   "id": "bb1e67ae",
   "metadata": {},
   "outputs": [],
   "source": [
    "def run_something_with_args(func,arg1,arg2):\n",
    "    func(arg1,arg2)"
   ]
  },
  {
   "cell_type": "code",
   "execution_count": 125,
   "id": "f9c6450c",
   "metadata": {},
   "outputs": [
    {
     "name": "stdout",
     "output_type": "stream",
     "text": [
      "14\n"
     ]
    }
   ],
   "source": [
    "run_something_with_args(add_args,5,9)"
   ]
  },
  {
   "cell_type": "code",
   "execution_count": 126,
   "id": "32ddbe0a",
   "metadata": {},
   "outputs": [
    {
     "name": "stdout",
     "output_type": "stream",
     "text": [
      "14\n"
     ]
    }
   ],
   "source": [
    "add_args(5,9)"
   ]
  },
  {
   "cell_type": "code",
   "execution_count": 127,
   "id": "79772d67",
   "metadata": {},
   "outputs": [],
   "source": [
    "def sum_args(*args):\n",
    "    return sum(args)"
   ]
  },
  {
   "cell_type": "code",
   "execution_count": 128,
   "id": "673f98e8",
   "metadata": {},
   "outputs": [],
   "source": [
    "def run_with_positional_args(func,*args):\n",
    "    return func(*args)"
   ]
  },
  {
   "cell_type": "code",
   "execution_count": 129,
   "id": "18f0f628",
   "metadata": {},
   "outputs": [
    {
     "data": {
      "text/plain": [
       "10"
      ]
     },
     "execution_count": 129,
     "metadata": {},
     "output_type": "execute_result"
    }
   ],
   "source": [
    "run_with_positional_args(sum_args,1,2,3,4)"
   ]
  },
  {
   "cell_type": "code",
   "execution_count": 130,
   "id": "bd5a7d70",
   "metadata": {},
   "outputs": [],
   "source": [
    "# 내부함수 ( 함수 안에 함수 또 정의)"
   ]
  },
  {
   "cell_type": "code",
   "execution_count": 131,
   "id": "13e4cfd8",
   "metadata": {},
   "outputs": [
    {
     "data": {
      "text/plain": [
       "11"
      ]
     },
     "execution_count": 131,
     "metadata": {},
     "output_type": "execute_result"
    }
   ],
   "source": [
    "def outer(a,b):\n",
    "    def inner(c,d):\n",
    "        return c+d\n",
    "    return inner(a,b)\n",
    "outer(4,7)"
   ]
  },
  {
   "cell_type": "code",
   "execution_count": 132,
   "id": "c3a60306",
   "metadata": {},
   "outputs": [],
   "source": [
    "# 내부 함수는 반복문이나 코드 중복을 피하고자 또 다른 함수 내에 어떤\n",
    "# 복잡한 작업을 한번 이상 수행할 떄 유용하게 사용된다.\n",
    "# 다음 문자열 예제에서 내부 함수는 인수에 텍스트를 붙여준다."
   ]
  },
  {
   "cell_type": "code",
   "execution_count": null,
   "id": "2588a0bb",
   "metadata": {},
   "outputs": [],
   "source": []
  },
  {
   "cell_type": "code",
   "execution_count": 133,
   "id": "915a1ddc",
   "metadata": {},
   "outputs": [],
   "source": [
    "def knights(saying):\n",
    "    def inner(quote):\n",
    "        return \"We are the say: '%s'\" % quote\n",
    "    return inner(saying)"
   ]
  },
  {
   "cell_type": "code",
   "execution_count": 134,
   "id": "7940c7c8",
   "metadata": {},
   "outputs": [
    {
     "data": {
      "text/plain": [
       "\"We are the say: 'Ni!'\""
      ]
     },
     "execution_count": 134,
     "metadata": {},
     "output_type": "execute_result"
    }
   ],
   "source": [
    "knights(\"Ni!\")"
   ]
  },
  {
   "cell_type": "code",
   "execution_count": 135,
   "id": "fde199df",
   "metadata": {},
   "outputs": [],
   "source": [
    "# 클로저 \n",
    "# 내부함수는 클로저 처럼 동작할쑤 있다.\n",
    "# 클로저는 다른 함수에 의해 동적으로 생성된다."
   ]
  },
  {
   "cell_type": "code",
   "execution_count": 136,
   "id": "762b92d2",
   "metadata": {},
   "outputs": [],
   "source": [
    "def knights2(saying):\n",
    "    def inner2():\n",
    "        return \"We are the say: '%s'\" % saying\n",
    "    return inner2"
   ]
  },
  {
   "cell_type": "code",
   "execution_count": 137,
   "id": "28ef8af8",
   "metadata": {},
   "outputs": [],
   "source": [
    "a = knights2('Duck')"
   ]
  },
  {
   "cell_type": "code",
   "execution_count": 138,
   "id": "2f0316dc",
   "metadata": {},
   "outputs": [],
   "source": [
    "b = knights2(\"Hasenpfeffer\")"
   ]
  },
  {
   "cell_type": "code",
   "execution_count": 139,
   "id": "b31424c2",
   "metadata": {},
   "outputs": [],
   "source": [
    "# a 와 b의 타입은 무엇일까?"
   ]
  },
  {
   "cell_type": "code",
   "execution_count": 140,
   "id": "07139177",
   "metadata": {},
   "outputs": [
    {
     "data": {
      "text/plain": [
       "function"
      ]
     },
     "execution_count": 140,
     "metadata": {},
     "output_type": "execute_result"
    }
   ],
   "source": [
    "type(a)"
   ]
  },
  {
   "cell_type": "code",
   "execution_count": 141,
   "id": "5ca3aff0",
   "metadata": {},
   "outputs": [
    {
     "data": {
      "text/plain": [
       "function"
      ]
     },
     "execution_count": 141,
     "metadata": {},
     "output_type": "execute_result"
    }
   ],
   "source": [
    "type(b)"
   ]
  },
  {
   "cell_type": "code",
   "execution_count": 142,
   "id": "e1eed3c8",
   "metadata": {},
   "outputs": [],
   "source": [
    "# 이들은 함수지만 클로저이기도 하다 "
   ]
  },
  {
   "cell_type": "code",
   "execution_count": 143,
   "id": "d2eaf238",
   "metadata": {},
   "outputs": [
    {
     "data": {
      "text/plain": [
       "<function __main__.knights2.<locals>.inner2()>"
      ]
     },
     "execution_count": 143,
     "metadata": {},
     "output_type": "execute_result"
    }
   ],
   "source": [
    "a"
   ]
  },
  {
   "cell_type": "code",
   "execution_count": 144,
   "id": "d8d11f6a",
   "metadata": {},
   "outputs": [
    {
     "data": {
      "text/plain": [
       "<function __main__.knights2.<locals>.inner2()>"
      ]
     },
     "execution_count": 144,
     "metadata": {},
     "output_type": "execute_result"
    }
   ],
   "source": [
    "b"
   ]
  },
  {
   "cell_type": "code",
   "execution_count": 145,
   "id": "f196572d",
   "metadata": {},
   "outputs": [
    {
     "data": {
      "text/plain": [
       "\"We are the say: 'Duck'\""
      ]
     },
     "execution_count": 145,
     "metadata": {},
     "output_type": "execute_result"
    }
   ],
   "source": [
    "a() # 이들을 호출하면 knights2() 함수에 전달되어 사용된 saying을 기억한다."
   ]
  },
  {
   "cell_type": "code",
   "execution_count": 146,
   "id": "602cea56",
   "metadata": {},
   "outputs": [
    {
     "data": {
      "text/plain": [
       "\"We are the say: 'Hasenpfeffer'\""
      ]
     },
     "execution_count": 146,
     "metadata": {},
     "output_type": "execute_result"
    }
   ],
   "source": [
    "b()"
   ]
  },
  {
   "cell_type": "code",
   "execution_count": null,
   "id": "8fe01e31",
   "metadata": {},
   "outputs": [],
   "source": []
  },
  {
   "cell_type": "code",
   "execution_count": 147,
   "id": "80522539",
   "metadata": {},
   "outputs": [],
   "source": [
    "# 익명 함수: lambda\n",
    "# 단일 문장으로 표현되는 익명 함수다.\n",
    "# edit_story() 함수를 정의해보자 "
   ]
  },
  {
   "cell_type": "code",
   "execution_count": 148,
   "id": "7c7bb82b",
   "metadata": {},
   "outputs": [],
   "source": [
    "# words: 리스트\n",
    "# func: 리스트의 각 word 문자열에 적용되는 함수"
   ]
  },
  {
   "cell_type": "code",
   "execution_count": 149,
   "id": "6953bea3",
   "metadata": {},
   "outputs": [],
   "source": [
    "def edit_story(words,func):\n",
    "    for word in words:\n",
    "        print(func(word))"
   ]
  },
  {
   "cell_type": "code",
   "execution_count": 150,
   "id": "ef66b0f0",
   "metadata": {},
   "outputs": [],
   "source": [
    "# 이제 words 리스트와 각 word 에 적용할 함수가 필요하다.\n",
    "# 고양이가 계단을 헛디뎠을 떄 내는 stairs 리스트는 다음과 같다."
   ]
  },
  {
   "cell_type": "code",
   "execution_count": 151,
   "id": "f4b877a5",
   "metadata": {},
   "outputs": [],
   "source": [
    "stairs = ['thud','meow','thud','hiss']"
   ]
  },
  {
   "cell_type": "code",
   "execution_count": 152,
   "id": "a97e8986",
   "metadata": {},
   "outputs": [],
   "source": [
    "def enliven(word): # 첫글자를 대문자로 만들고 느낌표 붙이기\n",
    "    return word.capitalize() + '!'"
   ]
  },
  {
   "cell_type": "code",
   "execution_count": 153,
   "id": "0c1b2998",
   "metadata": {},
   "outputs": [
    {
     "name": "stdout",
     "output_type": "stream",
     "text": [
      "Thud!\n",
      "Meow!\n",
      "Thud!\n",
      "Hiss!\n"
     ]
    }
   ],
   "source": [
    "edit_story(stairs,enliven)"
   ]
  },
  {
   "cell_type": "code",
   "execution_count": 154,
   "id": "b2dbe302",
   "metadata": {},
   "outputs": [],
   "source": [
    "# 람다를 사용해보자. enliven() 함수를 람다로 간단하게 바꿀수있다. "
   ]
  },
  {
   "cell_type": "code",
   "execution_count": 155,
   "id": "86e07b2f",
   "metadata": {},
   "outputs": [
    {
     "name": "stdout",
     "output_type": "stream",
     "text": [
      "Thud!\n",
      "Meow!\n",
      "Thud!\n",
      "Hiss!\n"
     ]
    }
   ],
   "source": [
    "edit_story(stairs, lambda word: word.capitalize() + '!')"
   ]
  },
  {
   "cell_type": "code",
   "execution_count": 156,
   "id": "c4501a7b",
   "metadata": {},
   "outputs": [],
   "source": [
    "# 람다는 인수를 취하지 않거나 콤마로 구분된 인수를 취하고, \n",
    "# 콜론(:) 이후에 함수를 정의"
   ]
  },
  {
   "cell_type": "code",
   "execution_count": 157,
   "id": "7627188a",
   "metadata": {},
   "outputs": [],
   "source": [
    " # 9.8 제너레이터 # 228"
   ]
  },
  {
   "cell_type": "code",
   "execution_count": 158,
   "id": "eb8f998e",
   "metadata": {},
   "outputs": [],
   "source": [
    "# 제네레이터는 시퀀스를 생성하는 객체다.\n",
    "# 제네레이터로 전체 시퀀스를 한번에 메모리에 생성하고 정렬할 필요 없이,\n",
    "# 아주 큰 시퀀스를 순회할수 있다. \n",
    "# 제네레이터는 이터레이터에 대한 데이터의 소스로 자주 사용된다.\n",
    "# range() 함수를 저번에 사용했는데 제네레이터중 하나이다.\n"
   ]
  },
  {
   "cell_type": "code",
   "execution_count": 159,
   "id": "8186903d",
   "metadata": {},
   "outputs": [
    {
     "data": {
      "text/plain": [
       "5050"
      ]
     },
     "execution_count": 159,
     "metadata": {},
     "output_type": "execute_result"
    }
   ],
   "source": [
    "sum(range(1,101))\n",
    "\n",
    "# 제네레이터를 순회할 때마다 마지막으로 호출된 항목을 기억하고 다음 값을 반환한다.\n",
    "# 제네레이터는 일반 함수와 다르다.\n",
    "# 일반 함수는 이전 호출에 대한 메모리가 없고, 항상 똑같은 상태로 첫번째 줄부터 수행"
   ]
  },
  {
   "cell_type": "code",
   "execution_count": 160,
   "id": "49dde763",
   "metadata": {},
   "outputs": [],
   "source": [
    "# 9.8.1 제네레이터 함수 "
   ]
  },
  {
   "cell_type": "code",
   "execution_count": 161,
   "id": "71d2b9e0",
   "metadata": {},
   "outputs": [],
   "source": [
    "# 잠재적으로 큰 시퀀스를 생성하고, 제네레이터 컴프리헨션에 대한 코드가 길다면 \n",
    "# 제네레이터 함수를 사용하면 된다.\n",
    "# 이것은 일반 함수지만 return 문으로 값을 반환하지 않고 yield 문으로 값을 반환.\n",
    "# 우리만의 range() 함수를 작성해보자"
   ]
  },
  {
   "cell_type": "code",
   "execution_count": 162,
   "id": "9b5d0cd2",
   "metadata": {},
   "outputs": [],
   "source": [
    "def my_range(first=0,last=10,step=1):\n",
    "    number = first\n",
    "    while number < last:\n",
    "        yield number\n",
    "        number += step"
   ]
  },
  {
   "cell_type": "code",
   "execution_count": 163,
   "id": "d5bd8296",
   "metadata": {},
   "outputs": [
    {
     "data": {
      "text/plain": [
       "<function __main__.my_range(first=0, last=10, step=1)>"
      ]
     },
     "execution_count": 163,
     "metadata": {},
     "output_type": "execute_result"
    }
   ],
   "source": [
    "my_range"
   ]
  },
  {
   "cell_type": "code",
   "execution_count": 164,
   "id": "64b2697c",
   "metadata": {},
   "outputs": [],
   "source": [
    "ranger = my_range(1,5)"
   ]
  },
  {
   "cell_type": "code",
   "execution_count": 165,
   "id": "b574da23",
   "metadata": {},
   "outputs": [
    {
     "data": {
      "text/plain": [
       "<generator object my_range at 0x000001E104873BC0>"
      ]
     },
     "execution_count": 165,
     "metadata": {},
     "output_type": "execute_result"
    }
   ],
   "source": [
    "ranger"
   ]
  },
  {
   "cell_type": "code",
   "execution_count": 166,
   "id": "bb4eddfe",
   "metadata": {},
   "outputs": [
    {
     "name": "stdout",
     "output_type": "stream",
     "text": [
      "1\n",
      "2\n",
      "3\n",
      "4\n"
     ]
    }
   ],
   "source": [
    "for x in ranger:\n",
    "    print(x)"
   ]
  },
  {
   "cell_type": "code",
   "execution_count": 167,
   "id": "25d48549",
   "metadata": {},
   "outputs": [],
   "source": [
    "# 제너레이터는 한 번만 순회할 수 있다 \n",
    "# 리스트 셋, 문자열, 딕셔너리는 메모리에 존재한다. \n",
    "# 그러나 제너레이터는 해당 값을 즉석에서 생성히고 이터레이터를 통해 한 번에 하나씩 전달한다. \n",
    "# 제너레이터는 모 든 값을 기억하지 않으므로 제네레이터를 다시 시작하거나 되돌릴 수 없다"
   ]
  },
  {
   "cell_type": "code",
   "execution_count": 168,
   "id": "8c1a7938",
   "metadata": {},
   "outputs": [],
   "source": [
    "for try_again in ranger:\n",
    "    print(try_again)\n",
    "# 순회를 마친 제너레이터를 다시 순회한다면 다음과 같이 아무것도 반환하지 않는다."
   ]
  },
  {
   "cell_type": "code",
   "execution_count": null,
   "id": "e487ddba",
   "metadata": {},
   "outputs": [],
   "source": []
  },
  {
   "cell_type": "code",
   "execution_count": 169,
   "id": "68055aaa",
   "metadata": {},
   "outputs": [],
   "source": [
    "# 제네레이터 컴프리헨션\n",
    "# 리스트, 딕셔너리, 셋 컴프리헨션을 살펴봤다. \n",
    "# 제너레이터 컴프리헨션은 이들과 비슷하다.\n",
    "# 대괄호，중괄호 대신 괄호로 묶어서 사용한다. \n",
    "# 제너레이터 컴프리헨션은 제너레 이터 함수의 축약 버전이며, \n",
    "# 안보이게 yield 문을 실행하고，\n",
    "# 제너레이터 객체를 반환한다."
   ]
  },
  {
   "cell_type": "code",
   "execution_count": 170,
   "id": "5e60f809",
   "metadata": {},
   "outputs": [],
   "source": [
    "genobj = (pair for pair in zip(['a','b'],['1','2']) )"
   ]
  },
  {
   "cell_type": "code",
   "execution_count": 171,
   "id": "32505013",
   "metadata": {},
   "outputs": [
    {
     "data": {
      "text/plain": [
       "<generator object <genexpr> at 0x000001E104C48930>"
      ]
     },
     "execution_count": 171,
     "metadata": {},
     "output_type": "execute_result"
    }
   ],
   "source": [
    "genobj"
   ]
  },
  {
   "cell_type": "code",
   "execution_count": 172,
   "id": "f4a4ea35",
   "metadata": {},
   "outputs": [
    {
     "name": "stdout",
     "output_type": "stream",
     "text": [
      "('a', '1')\n",
      "('b', '2')\n"
     ]
    }
   ],
   "source": [
    "for thing in genobj:\n",
    "    print(thing)"
   ]
  },
  {
   "cell_type": "code",
   "execution_count": 173,
   "id": "dd3ca984",
   "metadata": {},
   "outputs": [],
   "source": [
    "# 데커레이터\n",
    "# 가끔 코드를 바꾸지 않고，사용하고 있는 함수를 수정하고 싶을 때가 있다. \n",
    "# 일반적인 예는 함수에 전달된 인수를보기 위해 디버깅 문을추가하는 것이다.\n",
    "# 하나의 함수를 취해서 또 다른 함수를 반환하는 함수\n",
    "# 이 파이썬 트릭을 사용하기 위해 다음 기술을 사용.\n",
    "# *args와 **kwargs\n",
    "# 내부 함수\n",
    "# 함수 인수"
   ]
  },
  {
   "cell_type": "code",
   "execution_count": 174,
   "id": "219d959f",
   "metadata": {},
   "outputs": [],
   "source": [
    "def document_it(func):\n",
    "    def new_function(*args,**kwargs):\n",
    "        print('Running function:',func.__name__)\n",
    "        print('Positional arguments:',args)\n",
    "        print('Keyword arguments:',kwargs)\n",
    "        result = func(*args, **kwargs)\n",
    "        print('Result:',result)\n",
    "        return result\n",
    "    return new_function\n",
    "# document_it 함수는 다음과 같이 데커레이터를 정의한다.\n",
    "# 함수 이름과 인수를 출력\n",
    "# 인수로 함수를 실행\n",
    "# 결과를 출력\n",
    "# 수정된 함수를 사용하도록 반환 "
   ]
  },
  {
   "cell_type": "code",
   "execution_count": 175,
   "id": "e906d360",
   "metadata": {},
   "outputs": [],
   "source": [
    "# document_it() 함수에 어떤 func 함수 이름을 전달하든지 간에 \n",
    "# document_it() 함수에 추 가 선언문이 포함된 새 함수를 얻는다. \n",
    "# 데커레이터는 실제로 func 함수로부터 코드를 실행하지 않는다.\n",
    "# 하지만 document_it() 함수로부터 func를 호출하여 결과뿐만 아니라 새로운 함수를 얻는다"
   ]
  },
  {
   "cell_type": "code",
   "execution_count": 176,
   "id": "5b31b105",
   "metadata": {},
   "outputs": [],
   "source": [
    "# 그러면 데커레이터를 어떻게 사용할까? 수동으로 데커레이터를 적용해보자.  231"
   ]
  },
  {
   "cell_type": "code",
   "execution_count": 177,
   "id": "1fbda83c",
   "metadata": {},
   "outputs": [],
   "source": [
    "def add_ints(a,b):\n",
    "    return a+b"
   ]
  },
  {
   "cell_type": "code",
   "execution_count": 178,
   "id": "044a70c4",
   "metadata": {},
   "outputs": [
    {
     "data": {
      "text/plain": [
       "8"
      ]
     },
     "execution_count": 178,
     "metadata": {},
     "output_type": "execute_result"
    }
   ],
   "source": [
    "add_ints(3,5)"
   ]
  },
  {
   "cell_type": "code",
   "execution_count": 179,
   "id": "5e89ec2c",
   "metadata": {},
   "outputs": [],
   "source": [
    "#함수는 여러 데커레이터를 가질수있다.\n",
    "#result를 제곱하는 square_it() 데커레이터를 작성해보자."
   ]
  },
  {
   "cell_type": "code",
   "execution_count": 180,
   "id": "39accd13",
   "metadata": {},
   "outputs": [],
   "source": [
    "def square_it(func):\n",
    "    def new_function(*args,**kwargs):\n",
    "        result = func(*args,**kwargs)\n",
    "        return result * result\n",
    "    return new_function"
   ]
  },
  {
   "cell_type": "code",
   "execution_count": 181,
   "id": "219560bf",
   "metadata": {},
   "outputs": [],
   "source": [
    "# 함수에서 가장 가까운(def바로위) 데커레이터를 먼저 실행한 후,\n",
    "# 그 위의 데커레이터가 실행된다.\n",
    "# 예제에서 순서를 바꿔도 똑같은 result를 얻지만 중간과정이 바뀐다)"
   ]
  },
  {
   "cell_type": "code",
   "execution_count": 182,
   "id": "e63f7cc0",
   "metadata": {},
   "outputs": [],
   "source": [
    "@document_it\n",
    "@square_it\n",
    "def add_ints(a,b):\n",
    "    return a + b"
   ]
  },
  {
   "cell_type": "code",
   "execution_count": 183,
   "id": "b4122032",
   "metadata": {},
   "outputs": [
    {
     "name": "stdout",
     "output_type": "stream",
     "text": [
      "Running function: new_function\n",
      "Positional arguments: (3, 5)\n",
      "Keyword arguments: {}\n",
      "Result: 64\n"
     ]
    },
    {
     "data": {
      "text/plain": [
       "64"
      ]
     },
     "execution_count": 183,
     "metadata": {},
     "output_type": "execute_result"
    }
   ],
   "source": [
    "add_ints(3,5)"
   ]
  },
  {
   "cell_type": "code",
   "execution_count": 184,
   "id": "2518f317",
   "metadata": {},
   "outputs": [],
   "source": [
    "# 데커레이터 순서를 바꿔보자."
   ]
  },
  {
   "cell_type": "code",
   "execution_count": 185,
   "id": "9f5a174a",
   "metadata": {},
   "outputs": [],
   "source": [
    "@square_it\n",
    "@document_it\n",
    "def add_ints(a,b):\n",
    "    return a+b"
   ]
  },
  {
   "cell_type": "code",
   "execution_count": 186,
   "id": "d3f37883",
   "metadata": {},
   "outputs": [
    {
     "name": "stdout",
     "output_type": "stream",
     "text": [
      "Running function: add_ints\n",
      "Positional arguments: (3, 5)\n",
      "Keyword arguments: {}\n",
      "Result: 8\n"
     ]
    },
    {
     "data": {
      "text/plain": [
       "64"
      ]
     },
     "execution_count": 186,
     "metadata": {},
     "output_type": "execute_result"
    }
   ],
   "source": [
    "add_ints(3,5)"
   ]
  },
  {
   "cell_type": "code",
   "execution_count": 187,
   "id": "0ed50608",
   "metadata": {},
   "outputs": [],
   "source": [
    "# 네임스페이스와 스코프 "
   ]
  },
  {
   "cell_type": "code",
   "execution_count": 188,
   "id": "1e7f5917",
   "metadata": {},
   "outputs": [],
   "source": [
    "# 이름은 사용되는 위치에 따라 다른 것을 참조가능. \n",
    "# 파이썬 프로그램에는 다양한 네임 스페이스가 있다. \n",
    "# 네임스페이스는 특정 이름이 유일하고，다른 네임스페이스에서의 같은 이름과 관계가 없는 것을 말한다.\n",
    "# 각 함수는 자신의 네임스페이스를 정의한다. \n",
    "# 메인 프로그램에서 X라는 변수를 정의하고，\n",
    "# 함수에서 X라는 변수를 정의했을 때 이들은 서로 다른 것을 참조한다. \n",
    "# 하지만 이 경계를 넘을 수 있다. \n",
    "# 다양한 방법으로 다른 네임스페이스의 이름을 접근할 수 있다.\n",
    "# 메인 프로그램은 전역 네임스페이스를 정의한다.\n",
    "# 메인 프로그램의 네임스페이스에서 선언된 변수는 전역변수"
   ]
  },
  {
   "cell_type": "code",
   "execution_count": 189,
   "id": "6e5fbbac",
   "metadata": {},
   "outputs": [],
   "source": [
    "animal = 'fruitbat'"
   ]
  },
  {
   "cell_type": "code",
   "execution_count": 190,
   "id": "78a14c31",
   "metadata": {},
   "outputs": [],
   "source": [
    "def print_global():\n",
    "    print('inside print_global:',animal)\n",
    "# 다음 함수에서 전역 변수 값을 얻을 수 있다."
   ]
  },
  {
   "cell_type": "code",
   "execution_count": 191,
   "id": "1be3cfd8",
   "metadata": {},
   "outputs": [
    {
     "name": "stdout",
     "output_type": "stream",
     "text": [
      "at the top level:  fruitbat\n"
     ]
    }
   ],
   "source": [
    "print('at the top level: ',animal)"
   ]
  },
  {
   "cell_type": "code",
   "execution_count": 192,
   "id": "debae373",
   "metadata": {},
   "outputs": [],
   "source": [
    "# 함수에서 전역 변수의 값을 얻어서 바꾸려 하면 에러가 발생할 것이다."
   ]
  },
  {
   "cell_type": "code",
   "execution_count": 193,
   "id": "4a442713",
   "metadata": {},
   "outputs": [],
   "source": [
    "def change_add_print_global():\n",
    "    print('inside change',animal)\n",
    "    animal = 'wombat'\n",
    "    print('after the change:',animal)"
   ]
  },
  {
   "cell_type": "code",
   "execution_count": 194,
   "id": "ed1b194f",
   "metadata": {},
   "outputs": [
    {
     "ename": "UnboundLocalError",
     "evalue": "cannot access local variable 'animal' where it is not associated with a value",
     "output_type": "error",
     "traceback": [
      "\u001b[1;31m---------------------------------------------------------------------------\u001b[0m",
      "\u001b[1;31mUnboundLocalError\u001b[0m                         Traceback (most recent call last)",
      "Cell \u001b[1;32mIn[194], line 1\u001b[0m\n\u001b[1;32m----> 1\u001b[0m change_add_print_global()\n",
      "Cell \u001b[1;32mIn[193], line 2\u001b[0m, in \u001b[0;36mchange_add_print_global\u001b[1;34m()\u001b[0m\n\u001b[0;32m      1\u001b[0m \u001b[38;5;28;01mdef\u001b[39;00m \u001b[38;5;21mchange_add_print_global\u001b[39m():\n\u001b[1;32m----> 2\u001b[0m     \u001b[38;5;28mprint\u001b[39m(\u001b[38;5;124m'\u001b[39m\u001b[38;5;124minside change\u001b[39m\u001b[38;5;124m'\u001b[39m,animal)\n\u001b[0;32m      3\u001b[0m     animal \u001b[38;5;241m=\u001b[39m \u001b[38;5;124m'\u001b[39m\u001b[38;5;124mwombat\u001b[39m\u001b[38;5;124m'\u001b[39m\n\u001b[0;32m      4\u001b[0m     \u001b[38;5;28mprint\u001b[39m(\u001b[38;5;124m'\u001b[39m\u001b[38;5;124mafter the change:\u001b[39m\u001b[38;5;124m'\u001b[39m,animal)\n",
      "\u001b[1;31mUnboundLocalError\u001b[0m: cannot access local variable 'animal' where it is not associated with a value"
     ]
    }
   ],
   "source": [
    "change_add_print_global()"
   ]
  },
  {
   "cell_type": "code",
   "execution_count": 195,
   "id": "b99f2ef2",
   "metadata": {},
   "outputs": [],
   "source": [
    "#함수 내에서 전역 변수와 이름이 같은 변수 animal을 변경할 때，함수 내 animal 변수를 변경한다."
   ]
  },
  {
   "cell_type": "code",
   "execution_count": 196,
   "id": "6c47c827",
   "metadata": {},
   "outputs": [],
   "source": [
    "def change_local():\n",
    "    animal = 'wombat'\n",
    "    print('inside',animal,id(animal))"
   ]
  },
  {
   "cell_type": "code",
   "execution_count": 197,
   "id": "2e89e320",
   "metadata": {},
   "outputs": [
    {
     "name": "stdout",
     "output_type": "stream",
     "text": [
      "inside wombat 2065954566896\n"
     ]
    }
   ],
   "source": [
    "change_local()"
   ]
  },
  {
   "cell_type": "code",
   "execution_count": 198,
   "id": "3f0163e2",
   "metadata": {},
   "outputs": [
    {
     "data": {
      "text/plain": [
       "'fruitbat'"
      ]
     },
     "execution_count": 198,
     "metadata": {},
     "output_type": "execute_result"
    }
   ],
   "source": [
    "animal"
   ]
  },
  {
   "cell_type": "code",
   "execution_count": 199,
   "id": "200e987b",
   "metadata": {},
   "outputs": [
    {
     "data": {
      "text/plain": [
       "2065954176240"
      ]
     },
     "execution_count": 199,
     "metadata": {},
     "output_type": "execute_result"
    }
   ],
   "source": [
    "id(animal)"
   ]
  },
  {
   "cell_type": "code",
   "execution_count": 200,
   "id": "03687234",
   "metadata": {},
   "outputs": [],
   "source": [
    "# 234 나중에"
   ]
  },
  {
   "cell_type": "code",
   "execution_count": 201,
   "id": "42876b50",
   "metadata": {},
   "outputs": [],
   "source": [
    "animal = 'fruitbat'\n",
    "def change_and_print_global():\n",
    "    global animal\n",
    "    animal = 'wombat'\n",
    "    print('after',animal)"
   ]
  },
  {
   "cell_type": "code",
   "execution_count": 202,
   "id": "ac26fbf5",
   "metadata": {},
   "outputs": [
    {
     "data": {
      "text/plain": [
       "'fruitbat'"
      ]
     },
     "execution_count": 202,
     "metadata": {},
     "output_type": "execute_result"
    }
   ],
   "source": [
    "animal"
   ]
  },
  {
   "cell_type": "code",
   "execution_count": 203,
   "id": "e6055b67",
   "metadata": {},
   "outputs": [
    {
     "name": "stdout",
     "output_type": "stream",
     "text": [
      "after wombat\n"
     ]
    }
   ],
   "source": [
    "change_and_print_global()"
   ]
  },
  {
   "cell_type": "code",
   "execution_count": 204,
   "id": "840b572b",
   "metadata": {},
   "outputs": [
    {
     "data": {
      "text/plain": [
       "'wombat'"
      ]
     },
     "execution_count": 204,
     "metadata": {},
     "output_type": "execute_result"
    }
   ],
   "source": [
    "animal"
   ]
  },
  {
   "cell_type": "code",
   "execution_count": 205,
   "id": "81ce7f9c",
   "metadata": {},
   "outputs": [],
   "source": [
    "# 파이썬은 네임스페이스의 내용을 접근하기 위해 두 가지 함수를 제공한다.\n",
    "# • localsO 함수는 로컬(지역) 네임스페이스의 내용이 담긴 딕셔너리를 반환한다.\n",
    "# • globalsO 함수는 글로벌(전역) 네임스메이스의 내용이 담긴 딕셔너리를 반환한다."
   ]
  },
  {
   "cell_type": "code",
   "execution_count": 206,
   "id": "87dff200",
   "metadata": {},
   "outputs": [],
   "source": [
    "animal = 'fruitbat' #전역변수\n",
    "def change_local():\n",
    "    animal = 'wombat' #지역변수\n",
    "    print('locals',locals())"
   ]
  },
  {
   "cell_type": "code",
   "execution_count": 207,
   "id": "eacba4a7",
   "metadata": {},
   "outputs": [
    {
     "data": {
      "text/plain": [
       "'fruitbat'"
      ]
     },
     "execution_count": 207,
     "metadata": {},
     "output_type": "execute_result"
    }
   ],
   "source": [
    "animal"
   ]
  },
  {
   "cell_type": "code",
   "execution_count": 208,
   "id": "3857c850",
   "metadata": {},
   "outputs": [
    {
     "name": "stdout",
     "output_type": "stream",
     "text": [
      "locals {'animal': 'wombat'}\n"
     ]
    }
   ],
   "source": [
    "change_local()"
   ]
  },
  {
   "cell_type": "code",
   "execution_count": 209,
   "id": "6a92d7bc",
   "metadata": {},
   "outputs": [
    {
     "name": "stdout",
     "output_type": "stream",
     "text": [
      "globals: {'__name__': '__main__', '__doc__': 'Automatically created module for IPython interactive environment', '__package__': None, '__loader__': None, '__spec__': None, '__builtin__': <module 'builtins' (built-in)>, '__builtins__': <module 'builtins' (built-in)>, '_ih': ['', '# 함수 207~242\\n# 정의하기 (define) 0개 또는 1개 이상의 매개변수를 갖는다.\\n# 호출하기 (call) 0개 또는 1개 이상의 결과를 얻는다.', '#9.1 함수 정의하기 def', 'def do_nothing():\\n    pass # 아무것도 하지 않는다.', 'do_nothing() #함수 호출하기', \"def make_a_sound():\\n    print('quack')\", 'make_a_sound()', 'def agree():\\n    return True', \"if agree(): #함수를 호출하여 반환되는 값으로 조건 테스트 가능\\n    print('Splendid!')\\nelse:\\n    print('That was unexpected')\", \"def echo(anything):\\n    return anything+ ' '+ anything\", \"echo('Rumplestiltskin')\", '# 함수로 전달한 값을 인수 라고 부른다.\\n# 인수와 함수를 호출하면 인수의 값은 함수 내에서 해당하는 매개변수에 복사된다.\\n# 함수 외부에서는 인수 라고 하지만 내부에서는 매개변수라고 한다.', 'def commentary(color):\\n    if color == \\'red\\':\\n        return \"It\\'s a tomato.\"\\n    if color == \\'green\\':\\n        return \"It\\'s a green pepper\"\\n    if color == \\'bee purple\\':\\n        return \"I don\\'t know what it is,\"\\n    else: \\n        return \"I\\'ve nerver heard of the color \"+ color +\".\"', \"comment= commentary('blue')\", 'print(comment)', '# 유용한 None\\n# 아무것도 없다는 것을 뜻하는 파이썬의 특별한 값이다.\\n# 불리언 값의 False 처럼 보이지만 다른 값을 의미', 'thing = None', 'if thing:\\n    print(\"It\\'s some thing\")\\nelse:\\n    print(\"It\\'s no thing\")', '# False와 None을 구분하기위해 is 연산자를 사용', 'thing = None', 'if thing is None:\\n    print(\"It\\'s nothing\")\\nelse: \\n    print(\"It\\'s something\")', '# 사소한 차이로 보이지만 매우 중요\\n# 빠뜨린 빈 값을 구분하기 위해 None을 사용\\n# 정수,부동소수점,빈문자열,빈리스트,빈튜플,빈딕셔너리,빈셋은 모두 False 지만 \\n# None과는 같지않음', 'def whatis(thing):\\n    if thing is None:\\n        print(thing, \"is None\")\\n    elif thing:\\n        print(thing,\" is True\")\\n    else:\\n        print(thing, \"is False\")', 'whatis(None)', 'whatis(True)', 'whatis(False)', 'whatis(0)', 'whatis(0.0)', \"whatis('')\", \"whatis('''''')\", 'whatis(())', 'whatis([])', 'whatis({})', 'whatis(set())', 'whatis(0.00001)', 'whatis([0])', \"whatis([''])\", \"whatis(' ')\", '# 위치 인수', '# 파이썬은 다른 언어에 비해 함수의 인수를 유연하고 독특하게 처리한다. 인수의 가장 익숙한 \\n# 유형은 값을 순서 대로 상응하는 매개변수에 복사하는 위치 인수argument다.\\n# 다음 함수는 위치 인수로 딕셔너리를 만들어서 반환한다.', \"def menu(wine, entree,dessert):\\n    return {'wine':wine,'entree':entree,'dessert':dessert}\", \"menu('chardonnay','chicken','cake')\", '# 매우 일반적이지만 위치 인수의 단점은 각 위치의 의미를 알아야 한다는 것이다. 다음 예제는 \\n#첫 번째 인수 대신 마지막 인수를 wine으로 menu()를 호출하면 이상한 식사가 된다.', \"menu('beef','bagel','bordeaux')\", '# 9.3.3 키워드 인수', '# 위치 인수의 혼란을 피하기 위해 매개변수에 상응하는 이름을 인수에 지정할 수 있다. \\n# 심지어 인수를 함수 정의와 다른 순서로 지정할 수 있다', \"menu(entree='beef', dessert='bagel', wine='bordeaux')\", '# 위치 인수와 키워드 인수를 섞어서 쓸 수 있다. \\n# wine을 첫 번째 인수로，entree와 dessert를 키워드 인수로 지정해보자.', \"menu('frontenac',dessert='flan',entree='fish')\", '# 위치 인수와 키워드 인수로 함수를 호출하면 위치 인수가 먼저 와야 한다.', '# 9.3.4 기본 매개변수 값 지정하기\\n# 매개변수에 기본값을 지정할 수 있다. \\n# 호출자가 대응하는 인수를 제공하지 않으면 기본값을 사용한다.', \"def menu(wine,entree,dessert='pudding'):\\n    return {'wine':wine,'entree':entree, 'dessert':dessert}\", \"menu('chardonnay','chicken') #dessert 인수 없이 menu()를 호출.\", \"menu('dunkelfelder','duck','doughnut')\", '# 기본 인수는 함수가 실행될 때 계산되지 않고, 함수를 정의할 때 계산된다. \\n# 파이썬 초급(혹은 중급) 개발자는 리스트 혹은 딕셔너리와 같은 가변 데이터 타입을 \\n# 기본 인수로 사용할 때 실수하게 된다', '# buggy() 함수를 정의한다. \\n# 이 함수는 일반 매개변수 arg와 기본 매개변수로 빈 리스트를 취하는 result가 있다. \\n# 함수는 arg를 result 리스트에 추가한다. \\n# 함수를 호출할 때 마다 한 항목이 있는 리스트가 반환될 것이라고 \\n# 예상할 수 있지만, 이전에 호출했던 result가\\n# 그대로 리스트에 남아 있는 상태로 출력된다.', 'def buggy(arg,result=[]):\\n    result.append(arg)\\n    print(result)', \"buggy('a')\", \"buggy('b') # expect ['b']\", 'def works(arg):\\n    result = []\\n    result.append(arg)\\n    return result', \"works('a')\", \"works('b')\", '# 첫 번째 인수 호출을 가리키기 위해 매개변수에 다른 값을 넣어서 수정할수 있다.', 'def nonbuggy(arg,result=None):\\n    if result is None:\\n        result=[]\\n    result.append(arg)\\n    print(result)', \"nonbuggy('a')\", \"nonbuggy('b')\", '#### 이것은 가끔 파이썬 기술 면접에 등장한다. ', '# 9.3.5 위치 인수 분해하기/모으기:   *', '#파이썬에는 포인터가 없음 ', '# 함수의 매개변수에 애스터리스크를 사용할 때, \\n# 애스터리스크는 매개변수에서 위치 인수 변수를 튜플로 묶는다. \\n# 다음 예제는 print_args() 함수로 인수를 전달하고，\\n# args 매개변수 튜플의 결과를살펴본다', \"def print_args(*args):\\n    print('Positional tuple:',args)\", 'print_args()', \"print_args(3,2,1,'wait!','uh...') #인수를 넣어서 튜플을 출력 \", '# 가변 인수를 사용하는 print()와 같은 함수는 매우 유용하다. \\n# 함수에 위치 인수를 지정할 때 맨 끝에 *a「gs를 써서 나머지 인수를 모두 취하게 할수 있다.', \"def print_more(required1, required2, *args):\\n    print('Need this one:', required1)\\n    print('Need this one. too:', required2)\\n    print('All the rest',args)\", \"print_more('cap','gloves','scarf','monocle','mustache wax')\", '# *를 사용할 때 가변 인수의 이름으로 args를 사용할 필요는 없지만 관용적으로 args를 사용한다 \\n# 또한 이전 예제와 같이 일반적으로 함수에 *args를 사용한다. 기술적으로 매개변수라고 하기도 하고, \\n# *params 라고도 한다.', '# • 위치 인수를 함수에 전달하면, 함수 내 위치 매개변수와 일치한다.\\n# • 튜플 인수를 함수에 전달하면，함수 내 튜플 매개변수가 있다.\\n# • 위치 인수를 함수에 전달하고, 매개변수 *args로 수집하여 튜플 인수로 해석할수 있다.\\n# • args라는 튜플 인수를 함수에 전달하여，위치 매개변수 *args로 분해할 수 있다. \\n# 이것은 튜플  매개변수 args 안에 다시 수집된다.', \"print_args(2,5,7,'x')\", \"args = (2,5,7,'x')\", 'print_args(args)', 'print_args(*args)', '*args  # 함수 호출 또는 정의에서만 * 구문을 사용가능 ', '# 함수 외부에서 *args는 튜플  인수를 쉼표로 구분된 위치 매개변수로 분해한다.\\n# • 함수 내부에서 *args는 모든 위치의 인수를 단일 인수 튜플로 수집한다. \\n# *params와 param라는 이름을 \\n# 사용할 수 있지만, 외부 인수와 내부 인수 모두에 *args를 사용하는 것이 일반적이다.\\n# *args는 함수 외부에서 분해된 값을 함수 내부에 모은다.', '# 9.3.6 키워드 인수 분해하기/모으기: *', '# 키워드 인수를 딕셔너리로 묶기 위해 두 개의 애스터리스크(**)를 사용할 수 있다. \\n# 인수의 이름은 키고，값은 이 키에 대응하는 딕셔너리 값이다. \\n# 다음 예제는 print_kwargs() 함수를 정의하여 키워드 인수를 출력한다.', \"def print_kwargs(**kwargs):\\n    print('Keyword arguments:',kwargs)\", '# 인수 없이 호출 , 그리고 키워드 인수를 사용하여 함술를 호춯한다.', 'print_kwargs()', \"print_kwargs(wine='merlot',entree='mutton',dessert='macaroon')\", '# 함수 내에서 kwargs는 딕셔너리 매개변수다. 인수 순서는 다음과 같다.', '# 위치 인수\\n# 위치 인수 (*args) - 옵션\\n# 키워드 인수 (**kwargs) - 옵션', '# args와 마찬가지로 키워드 인수 이름을 kwargs로 사용하지만 필수는 아니다.\\n# **구문은 함수 호출 또는 정의에서만 유효하다.', \"# 요약하자면 \\n # • 키워드 인수를 함수에 전달하면, 함수 내 키워드 매개변수와 일치한다.\\n # • 딕셔너리 인수를 함수에 전달하면, 함수 내 딕셔너리 매개변수가 있다.\\n # • 하나 이상의 키워드 인수（이름=값）를 함수에 전달하고, \\n #   이를 **kwargs에 수집하여, kwargs 딕셔너리 매개변수로 해석할 수 있다.\\n # • 함수 외부에서 **kwargs는 딕셔너리 kwargs를 '이름=값’ 인수로 분해한다.\\n # • 함수 내부에서 **kwargs는 ' 이름=값 '  인수를 단일 딕셔너리 매개변수 kwargs에 모은다.\\n # **kwargs는 함수 외부에서 분해된 ‘이름=값’을 함수 내부에 모은다.\", \"# 9.3.7 키워드 전용 인수 \\n# 이름에서 알 수 있듯이 값을 위치적으로 제공하지 않고 '이름=값’으로 제공해야 한다. \\n# 아래의 함수 정의에서 단일 애스터리스크는 start 및 end 매개변수의 기본값을 사용하고 싶지 않은 경우 \\n# 명명된 인수로 제공 해야 함을 의미\", 'def print_data(data, *, start=0, end=100):\\n    for value in (data[start:end]):\\n        print(value)', \"data = ['a','b','c','d','e','f']\", 'print_data(data)', 'print_data(data,start=4)', 'print_data(data,end=2)', '# 9.3.8 가변/불변 인수\\n# 함수에 인수를 전달할 때 주의한다. \\n# 인수가 가변 객체인 경우 해당 매개변수를 통해 함수 내부에서 값을 변경할수 있다.', \"outside =['one','fine','day']\", \"def mangle(arg):\\n    arg[1] = 'terrible!'\", 'outside', 'mangle(outside)', 'outside', '# 위 코드는 안 좋은 예시이다. 함수 내에서 인수가 변경될수 있다고 문서화하거나 새 값을 반환한다.', '# 9.4 독스트링 \\n# 함수 바디 시작부분에 문자열을 포함시켜 함수 정의에 문서를 붙일 수 있다.\\n# 이것이 함수의 독스트링 이다.', \"def echo(anything):\\n    'echo returns its input argument'\\n    return anything\", \"def print_if_true(thing, check):\\n    '''\\n    Prints the first argument if a second argument is true.\\n    The operation is:\\n        1. Check\\n        2. If it is,\\n    '''\\n    if check:\\n        print(thing)\", '# 함수의 독스트링을 출력하려면 help()함수를 호출한다.\\n#함수 인수의 리스트와 서식화된 독스트링을 얻기위해 함수 이름을 인수로 전달', 'help(echo)', 'echo(anything) # 에러 왜나는지 확인 ', 'help(echo)', 'print(echo.__doc__)', '# 일등 시민 : 함수\\n# 객체는 숫자,문자열,튜플,리스트,딕셔너리,함수를 포함한다. \\n# 함수를 변수에 할당하고 다른함수에서 이를 인수로 사용하고,\\n# 함수에서 이를 반환할 수 있다는 것이다.', 'def answer():\\n    print(42)', 'answer()', 'def run_something(func):\\n    func()', 'run_something(answer) #  함수를 데이터처럼 사용', '# answe「()를 전달하는 것이 아니라 answer를 전달했다. \\n# 파이썬에서 괄호 ()는 함수를 호출한 다는 의미다. \\n# 괄호가 없으면 함수를 다른 모든 객체와 마찬가지로 간주한다.\\n# 파이썬에서 모든 것은 객체이기 때문이다', 'type(run_something)', 'def add_args(arg1,arg2):\\n    print(arg1+arg2)', 'type(add_args)', 'def run_something_with_args(func,arg1,arg2):\\n    func(arg1,arg2)', 'run_something_with_args(add_args,5,9)', 'add_args(5,9)', 'def sum_args(*args):\\n    return sum(args)', 'def run_with_positional_args(func,*args):\\n    return func(*args)', 'run_with_positional_args(sum_args,1,2,3,4)', '# 내부함수 ( 함수 안에 함수 또 정의)', 'def outer(a,b):\\n    def inner(c,d):\\n        return c+d\\n    return inner(a,b)\\nouter(4,7)', '# 내부 함수는 반복문이나 코드 중복을 피하고자 또 다른 함수 내에 어떤\\n# 복잡한 작업을 한번 이상 수행할 떄 유용하게 사용된다.\\n# 다음 문자열 예제에서 내부 함수는 인수에 텍스트를 붙여준다.', 'def knights(saying):\\n    def inner(quote):\\n        return \"We are the say: \\'%s\\'\" % quote\\n    return inner(saying)', 'knights(\"Ni!\")', '# 클로저 \\n# 내부함수는 클로저 처럼 동작할쑤 있다.\\n# 클로저는 다른 함수에 의해 동적으로 생성된다.', 'def knights2(saying):\\n    def inner2():\\n        return \"We are the say: \\'%s\\'\" % saying\\n    return inner2', \"a = knights2('Duck')\", 'b = knights2(\"Hasenpfeffer\")', '# a 와 b의 타입은 무엇일까?', 'type(a)', 'type(b)', '# 이들은 함수지만 클로저이기도 하다 ', 'a', 'b', 'a() # 이들을 호출하면 knights2() 함수에 전달되어 사용된 saying을 기억한다.', 'b()', '# 익명 함수: lambda\\n# 단일 문장으로 표현되는 익명 함수다.\\n# edit_story() 함수를 정의해보자 ', '# words: 리스트\\n# func: 리스트의 각 word 문자열에 적용되는 함수', 'def edit_story(words,func):\\n    for word in words:\\n        print(func(word))', '# 이제 words 리스트와 각 word 에 적용할 함수가 필요하다.\\n# 고양이가 계단을 헛디뎠을 떄 내는 stairs 리스트는 다음과 같다.', \"stairs = ['thud','meow','thud','hiss']\", \"def enliven(word): # 첫글자를 대문자로 만들고 느낌표 붙이기\\n    return word.capitalize() + '!'\", 'edit_story(stairs,enliven)', '# 람다를 사용해보자. enliven() 함수를 람다로 간단하게 바꿀수있다. ', \"edit_story(stairs, lambda word: word.capitalize() + '!')\", '# 람다는 인수를 취하지 않거나 콤마로 구분된 인수를 취하고, \\n# 콜론(:) 이후에 함수를 정의', '# 9.8 제너레이터 # 228', '# 제네레이터는 시퀀스를 생성하는 객체다.\\n# 제네레이터로 전체 시퀀스를 한번에 메모리에 생성하고 정렬할 필요 없이,\\n# 아주 큰 시퀀스를 순회할수 있다. \\n# 제네레이터는 이터레이터에 대한 데이터의 소스로 자주 사용된다.\\n# range() 함수를 저번에 사용했는데 제네레이터중 하나이다.', 'sum(range(1,101))\\n\\n# 제네레이터를 순회할 때마다 마지막으로 호출된 항목을 기억하고 다음 값을 반환한다.\\n# 제네레이터는 일반 함수와 다르다.\\n# 일반 함수는 이전 호출에 대한 메모리가 없고, 항상 똑같은 상태로 첫번째 줄부터 수행', '# 9.8.1 제네레이터 함수 ', '# 잠재적으로 큰 시퀀스를 생성하고, 제네레이터 컴프리헨션에 대한 코드가 길다면 \\n# 제네레이터 함수를 사용하면 된다.\\n# 이것은 일반 함수지만 return 문으로 값을 반환하지 않고 yield 문으로 값을 반환.\\n# 우리만의 range() 함수를 작성해보자', 'def my_range(first=0,last=10,step=1):\\n    number = first\\n    while number < last:\\n        yield number\\n        number += step', 'my_range', 'ranger = my_range(1,5)', 'ranger', 'for x in ranger:\\n    print(x)', '# 제너레이터는 한 번만 순회할 수 있다 \\n# 리스트 셋, 문자열, 딕셔너리는 메모리에 존재한다. \\n# 그러나 제너레이터는 해당 값을 즉석에서 생성히고 이터레이터를 통해 한 번에 하나씩 전달한다. \\n# 제너레이터는 모 든 값을 기억하지 않으므로 제네레이터를 다시 시작하거나 되돌릴 수 없다', 'for try_again in ranger:\\n    print(try_again)\\n# 순회를 마친 제너레이터를 다시 순회한다면 다음과 같이 아무것도 반환하지 않는다.', '# 제네레이터 컴프리헨션\\n# 리스트, 딕셔너리, 셋 컴프리헨션을 살펴봤다. \\n# 제너레이터 컴프리헨션은 이들과 비슷하다.\\n# 대괄호，중괄호 대신 괄호로 묶어서 사용한다. \\n# 제너레이터 컴프리헨션은 제너레 이터 함수의 축약 버전이며, \\n# 안보이게 yield 문을 실행하고，\\n# 제너레이터 객체를 반환한다.', \"genobj = (pair for pair in zip(['a','b'],['1','2']) )\", 'genobj', 'for thing in genobj:\\n    print(thing)', '# 데커레이터\\n# 가끔 코드를 바꾸지 않고，사용하고 있는 함수를 수정하고 싶을 때가 있다. \\n# 일반적인 예는 함수에 전달된 인수를보기 위해 디버깅 문을추가하는 것이다.\\n# 하나의 함수를 취해서 또 다른 함수를 반환하는 함수\\n# 이 파이썬 트릭을 사용하기 위해 다음 기술을 사용.\\n# *args와 **kwargs\\n# 내부 함수\\n# 함수 인수', \"def document_it(func):\\n    def new_function(*args,**kwargs):\\n        print('Running function:',func.__name__)\\n        print('Positional arguments:',args)\\n        print('Keyword arguments:',kwargs)\\n        result = func(*args, **kwargs)\\n        print('Result:',result)\\n        return result\\n    return new_function\\n# document_it 함수는 다음과 같이 데커레이터를 정의한다.\\n# 함수 이름과 인수를 출력\\n# 인수로 함수를 실행\\n# 결과를 출력\\n# 수정된 함수를 사용하도록 반환 \", '# document_it() 함수에 어떤 func 함수 이름을 전달하든지 간에 \\n# document_it() 함수에 추 가 선언문이 포함된 새 함수를 얻는다. \\n# 데커레이터는 실제로 func 함수로부터 코드를 실행하지 않는다.\\n# 하지만 document_it() 함수로부터 func를 호출하여 결과뿐만 아니라 새로운 함수를 얻는다', '# 그러면 데커레이터를 어떻게 사용할까? 수동으로 데커레이터를 적용해보자.  231', 'def add_ints(a,b):\\n    return a+b', 'add_ints(3,5)', '#함수는 여러 데커레이터를 가질수있다.\\n#result를 제곱하는 square_it() 데커레이터를 작성해보자.', 'def square_it(func):\\n    def new_function(*args,**kwargs):\\n        result = func(*args,**kwargs)\\n        return result * result\\n    return new_function', '# 함수에서 가장 가까운(def바로위) 데커레이터를 먼저 실행한 후,\\n# 그 위의 데커레이터가 실행된다.\\n# 예제에서 순서를 바꿔도 똑같은 result를 얻지만 중간과정이 바뀐다)', '@document_it\\n@square_it\\ndef add_ints(a,b):\\n    return a + b', 'add_ints(3,5)', '# 데커레이터 순서를 바꿔보자.', '@square_it\\n@document_it\\ndef add_ints(a,b):\\n    return a+b', 'add_ints(3,5)', '# 네임스페이스와 스코프 ', '# 이름은 사용되는 위치에 따라 다른 것을 참조가능. \\n# 파이썬 프로그램에는 다양한 네임 스페이스가 있다. \\n# 네임스페이스는 특정 이름이 유일하고，다른 네임스페이스에서의 같은 이름과 관계가 없는 것을 말한다.\\n# 각 함수는 자신의 네임스페이스를 정의한다. \\n# 메인 프로그램에서 X라는 변수를 정의하고，\\n# 함수에서 X라는 변수를 정의했을 때 이들은 서로 다른 것을 참조한다. \\n# 하지만 이 경계를 넘을 수 있다. \\n# 다양한 방법으로 다른 네임스페이스의 이름을 접근할 수 있다.\\n# 메인 프로그램은 전역 네임스페이스를 정의한다.\\n# 메인 프로그램의 네임스페이스에서 선언된 변수는 전역변수', \"animal = 'fruitbat'\", \"def print_global():\\n    print('inside print_global:',animal)\\n# 다음 함수에서 전역 변수 값을 얻을 수 있다.\", \"print('at the top level: ',animal)\", '# 함수에서 전역 변수의 값을 얻어서 바꾸려 하면 에러가 발생할 것이다.', \"def change_add_print_global():\\n    print('inside change',animal)\\n    animal = 'wombat'\\n    print('after the change:',animal)\", 'change_add_print_global()', '#함수 내에서 전역 변수와 이름이 같은 변수 animal을 변경할 때，함수 내 animal 변수를 변경한다.', \"def change_local():\\n    animal = 'wombat'\\n    print('inside',animal,id(animal))\", 'change_local()', 'animal', 'id(animal)', '# 234 나중에', \"animal = 'fruitbat'\\ndef change_and_print_global():\\n    global animal\\n    animal = 'wombat'\\n    print('after',animal)\", 'animal', 'change_and_print_global()', 'animal', '# 파이썬은 네임스페이스의 내용을 접근하기 위해 두 가지 함수를 제공한다.\\n# • localsO 함수는 로컬(지역) 네임스페이스의 내용이 담긴 딕셔너리를 반환한다.\\n# • globalsO 함수는 글로벌(전역) 네임스메이스의 내용이 담긴 딕셔너리를 반환한다.', \"animal = 'fruitbat' #전역변수\\ndef change_local():\\n    animal = 'wombat' #지역변수\\n    print('locals',locals())\", 'animal', 'change_local()', \"print('globals:',globals())\"], '_oh': {10: 'Rumplestiltskin Rumplestiltskin', 41: {'wine': 'chardonnay', 'entree': 'chicken', 'dessert': 'cake'}, 43: {'wine': 'beef', 'entree': 'bagel', 'dessert': 'bordeaux'}, 46: {'wine': 'bordeaux', 'entree': 'beef', 'dessert': 'bagel'}, 48: {'wine': 'frontenac', 'entree': 'fish', 'dessert': 'flan'}, 52: {'wine': 'chardonnay', 'entree': 'chicken', 'dessert': 'pudding'}, 53: {'wine': 'dunkelfelder', 'entree': 'duck', 'dessert': 'doughnut'}, 60: ['a'], 61: ['b'], 103: ['one', 'terrible!', 'day'], 105: ['one', 'terrible!', 'day'], 121: <class 'function'>, 123: <class 'function'>, 129: 10, 131: 11, 134: \"We are the say: 'Ni!'\", 140: <class 'function'>, 141: <class 'function'>, 143: <function knights2.<locals>.inner2 at 0x000001E104883060>, 144: <function knights2.<locals>.inner2 at 0x000001E104882D40>, 145: \"We are the say: 'Duck'\", 146: \"We are the say: 'Hasenpfeffer'\", 159: 5050, 163: <function my_range at 0x000001E10472FF60>, 165: <generator object my_range at 0x000001E104873BC0>, 171: <generator object <genexpr> at 0x000001E104C48930>, 178: 8, 183: 64, 186: 64, 198: 'fruitbat', 199: 2065954176240, 202: 'fruitbat', 204: 'wombat', 207: 'fruitbat'}, '_dh': [WindowsPath('C:/Users/huis9/OneDrive/바탕 화면/Upload_Repo/Python/Introducing_Python1')], 'In': ['', '# 함수 207~242\\n# 정의하기 (define) 0개 또는 1개 이상의 매개변수를 갖는다.\\n# 호출하기 (call) 0개 또는 1개 이상의 결과를 얻는다.', '#9.1 함수 정의하기 def', 'def do_nothing():\\n    pass # 아무것도 하지 않는다.', 'do_nothing() #함수 호출하기', \"def make_a_sound():\\n    print('quack')\", 'make_a_sound()', 'def agree():\\n    return True', \"if agree(): #함수를 호출하여 반환되는 값으로 조건 테스트 가능\\n    print('Splendid!')\\nelse:\\n    print('That was unexpected')\", \"def echo(anything):\\n    return anything+ ' '+ anything\", \"echo('Rumplestiltskin')\", '# 함수로 전달한 값을 인수 라고 부른다.\\n# 인수와 함수를 호출하면 인수의 값은 함수 내에서 해당하는 매개변수에 복사된다.\\n# 함수 외부에서는 인수 라고 하지만 내부에서는 매개변수라고 한다.', 'def commentary(color):\\n    if color == \\'red\\':\\n        return \"It\\'s a tomato.\"\\n    if color == \\'green\\':\\n        return \"It\\'s a green pepper\"\\n    if color == \\'bee purple\\':\\n        return \"I don\\'t know what it is,\"\\n    else: \\n        return \"I\\'ve nerver heard of the color \"+ color +\".\"', \"comment= commentary('blue')\", 'print(comment)', '# 유용한 None\\n# 아무것도 없다는 것을 뜻하는 파이썬의 특별한 값이다.\\n# 불리언 값의 False 처럼 보이지만 다른 값을 의미', 'thing = None', 'if thing:\\n    print(\"It\\'s some thing\")\\nelse:\\n    print(\"It\\'s no thing\")', '# False와 None을 구분하기위해 is 연산자를 사용', 'thing = None', 'if thing is None:\\n    print(\"It\\'s nothing\")\\nelse: \\n    print(\"It\\'s something\")', '# 사소한 차이로 보이지만 매우 중요\\n# 빠뜨린 빈 값을 구분하기 위해 None을 사용\\n# 정수,부동소수점,빈문자열,빈리스트,빈튜플,빈딕셔너리,빈셋은 모두 False 지만 \\n# None과는 같지않음', 'def whatis(thing):\\n    if thing is None:\\n        print(thing, \"is None\")\\n    elif thing:\\n        print(thing,\" is True\")\\n    else:\\n        print(thing, \"is False\")', 'whatis(None)', 'whatis(True)', 'whatis(False)', 'whatis(0)', 'whatis(0.0)', \"whatis('')\", \"whatis('''''')\", 'whatis(())', 'whatis([])', 'whatis({})', 'whatis(set())', 'whatis(0.00001)', 'whatis([0])', \"whatis([''])\", \"whatis(' ')\", '# 위치 인수', '# 파이썬은 다른 언어에 비해 함수의 인수를 유연하고 독특하게 처리한다. 인수의 가장 익숙한 \\n# 유형은 값을 순서 대로 상응하는 매개변수에 복사하는 위치 인수argument다.\\n# 다음 함수는 위치 인수로 딕셔너리를 만들어서 반환한다.', \"def menu(wine, entree,dessert):\\n    return {'wine':wine,'entree':entree,'dessert':dessert}\", \"menu('chardonnay','chicken','cake')\", '# 매우 일반적이지만 위치 인수의 단점은 각 위치의 의미를 알아야 한다는 것이다. 다음 예제는 \\n#첫 번째 인수 대신 마지막 인수를 wine으로 menu()를 호출하면 이상한 식사가 된다.', \"menu('beef','bagel','bordeaux')\", '# 9.3.3 키워드 인수', '# 위치 인수의 혼란을 피하기 위해 매개변수에 상응하는 이름을 인수에 지정할 수 있다. \\n# 심지어 인수를 함수 정의와 다른 순서로 지정할 수 있다', \"menu(entree='beef', dessert='bagel', wine='bordeaux')\", '# 위치 인수와 키워드 인수를 섞어서 쓸 수 있다. \\n# wine을 첫 번째 인수로，entree와 dessert를 키워드 인수로 지정해보자.', \"menu('frontenac',dessert='flan',entree='fish')\", '# 위치 인수와 키워드 인수로 함수를 호출하면 위치 인수가 먼저 와야 한다.', '# 9.3.4 기본 매개변수 값 지정하기\\n# 매개변수에 기본값을 지정할 수 있다. \\n# 호출자가 대응하는 인수를 제공하지 않으면 기본값을 사용한다.', \"def menu(wine,entree,dessert='pudding'):\\n    return {'wine':wine,'entree':entree, 'dessert':dessert}\", \"menu('chardonnay','chicken') #dessert 인수 없이 menu()를 호출.\", \"menu('dunkelfelder','duck','doughnut')\", '# 기본 인수는 함수가 실행될 때 계산되지 않고, 함수를 정의할 때 계산된다. \\n# 파이썬 초급(혹은 중급) 개발자는 리스트 혹은 딕셔너리와 같은 가변 데이터 타입을 \\n# 기본 인수로 사용할 때 실수하게 된다', '# buggy() 함수를 정의한다. \\n# 이 함수는 일반 매개변수 arg와 기본 매개변수로 빈 리스트를 취하는 result가 있다. \\n# 함수는 arg를 result 리스트에 추가한다. \\n# 함수를 호출할 때 마다 한 항목이 있는 리스트가 반환될 것이라고 \\n# 예상할 수 있지만, 이전에 호출했던 result가\\n# 그대로 리스트에 남아 있는 상태로 출력된다.', 'def buggy(arg,result=[]):\\n    result.append(arg)\\n    print(result)', \"buggy('a')\", \"buggy('b') # expect ['b']\", 'def works(arg):\\n    result = []\\n    result.append(arg)\\n    return result', \"works('a')\", \"works('b')\", '# 첫 번째 인수 호출을 가리키기 위해 매개변수에 다른 값을 넣어서 수정할수 있다.', 'def nonbuggy(arg,result=None):\\n    if result is None:\\n        result=[]\\n    result.append(arg)\\n    print(result)', \"nonbuggy('a')\", \"nonbuggy('b')\", '#### 이것은 가끔 파이썬 기술 면접에 등장한다. ', '# 9.3.5 위치 인수 분해하기/모으기:   *', '#파이썬에는 포인터가 없음 ', '# 함수의 매개변수에 애스터리스크를 사용할 때, \\n# 애스터리스크는 매개변수에서 위치 인수 변수를 튜플로 묶는다. \\n# 다음 예제는 print_args() 함수로 인수를 전달하고，\\n# args 매개변수 튜플의 결과를살펴본다', \"def print_args(*args):\\n    print('Positional tuple:',args)\", 'print_args()', \"print_args(3,2,1,'wait!','uh...') #인수를 넣어서 튜플을 출력 \", '# 가변 인수를 사용하는 print()와 같은 함수는 매우 유용하다. \\n# 함수에 위치 인수를 지정할 때 맨 끝에 *a「gs를 써서 나머지 인수를 모두 취하게 할수 있다.', \"def print_more(required1, required2, *args):\\n    print('Need this one:', required1)\\n    print('Need this one. too:', required2)\\n    print('All the rest',args)\", \"print_more('cap','gloves','scarf','monocle','mustache wax')\", '# *를 사용할 때 가변 인수의 이름으로 args를 사용할 필요는 없지만 관용적으로 args를 사용한다 \\n# 또한 이전 예제와 같이 일반적으로 함수에 *args를 사용한다. 기술적으로 매개변수라고 하기도 하고, \\n# *params 라고도 한다.', '# • 위치 인수를 함수에 전달하면, 함수 내 위치 매개변수와 일치한다.\\n# • 튜플 인수를 함수에 전달하면，함수 내 튜플 매개변수가 있다.\\n# • 위치 인수를 함수에 전달하고, 매개변수 *args로 수집하여 튜플 인수로 해석할수 있다.\\n# • args라는 튜플 인수를 함수에 전달하여，위치 매개변수 *args로 분해할 수 있다. \\n# 이것은 튜플  매개변수 args 안에 다시 수집된다.', \"print_args(2,5,7,'x')\", \"args = (2,5,7,'x')\", 'print_args(args)', 'print_args(*args)', '*args  # 함수 호출 또는 정의에서만 * 구문을 사용가능 ', '# 함수 외부에서 *args는 튜플  인수를 쉼표로 구분된 위치 매개변수로 분해한다.\\n# • 함수 내부에서 *args는 모든 위치의 인수를 단일 인수 튜플로 수집한다. \\n# *params와 param라는 이름을 \\n# 사용할 수 있지만, 외부 인수와 내부 인수 모두에 *args를 사용하는 것이 일반적이다.\\n# *args는 함수 외부에서 분해된 값을 함수 내부에 모은다.', '# 9.3.6 키워드 인수 분해하기/모으기: *', '# 키워드 인수를 딕셔너리로 묶기 위해 두 개의 애스터리스크(**)를 사용할 수 있다. \\n# 인수의 이름은 키고，값은 이 키에 대응하는 딕셔너리 값이다. \\n# 다음 예제는 print_kwargs() 함수를 정의하여 키워드 인수를 출력한다.', \"def print_kwargs(**kwargs):\\n    print('Keyword arguments:',kwargs)\", '# 인수 없이 호출 , 그리고 키워드 인수를 사용하여 함술를 호춯한다.', 'print_kwargs()', \"print_kwargs(wine='merlot',entree='mutton',dessert='macaroon')\", '# 함수 내에서 kwargs는 딕셔너리 매개변수다. 인수 순서는 다음과 같다.', '# 위치 인수\\n# 위치 인수 (*args) - 옵션\\n# 키워드 인수 (**kwargs) - 옵션', '# args와 마찬가지로 키워드 인수 이름을 kwargs로 사용하지만 필수는 아니다.\\n# **구문은 함수 호출 또는 정의에서만 유효하다.', \"# 요약하자면 \\n # • 키워드 인수를 함수에 전달하면, 함수 내 키워드 매개변수와 일치한다.\\n # • 딕셔너리 인수를 함수에 전달하면, 함수 내 딕셔너리 매개변수가 있다.\\n # • 하나 이상의 키워드 인수（이름=값）를 함수에 전달하고, \\n #   이를 **kwargs에 수집하여, kwargs 딕셔너리 매개변수로 해석할 수 있다.\\n # • 함수 외부에서 **kwargs는 딕셔너리 kwargs를 '이름=값’ 인수로 분해한다.\\n # • 함수 내부에서 **kwargs는 ' 이름=값 '  인수를 단일 딕셔너리 매개변수 kwargs에 모은다.\\n # **kwargs는 함수 외부에서 분해된 ‘이름=값’을 함수 내부에 모은다.\", \"# 9.3.7 키워드 전용 인수 \\n# 이름에서 알 수 있듯이 값을 위치적으로 제공하지 않고 '이름=값’으로 제공해야 한다. \\n# 아래의 함수 정의에서 단일 애스터리스크는 start 및 end 매개변수의 기본값을 사용하고 싶지 않은 경우 \\n# 명명된 인수로 제공 해야 함을 의미\", 'def print_data(data, *, start=0, end=100):\\n    for value in (data[start:end]):\\n        print(value)', \"data = ['a','b','c','d','e','f']\", 'print_data(data)', 'print_data(data,start=4)', 'print_data(data,end=2)', '# 9.3.8 가변/불변 인수\\n# 함수에 인수를 전달할 때 주의한다. \\n# 인수가 가변 객체인 경우 해당 매개변수를 통해 함수 내부에서 값을 변경할수 있다.', \"outside =['one','fine','day']\", \"def mangle(arg):\\n    arg[1] = 'terrible!'\", 'outside', 'mangle(outside)', 'outside', '# 위 코드는 안 좋은 예시이다. 함수 내에서 인수가 변경될수 있다고 문서화하거나 새 값을 반환한다.', '# 9.4 독스트링 \\n# 함수 바디 시작부분에 문자열을 포함시켜 함수 정의에 문서를 붙일 수 있다.\\n# 이것이 함수의 독스트링 이다.', \"def echo(anything):\\n    'echo returns its input argument'\\n    return anything\", \"def print_if_true(thing, check):\\n    '''\\n    Prints the first argument if a second argument is true.\\n    The operation is:\\n        1. Check\\n        2. If it is,\\n    '''\\n    if check:\\n        print(thing)\", '# 함수의 독스트링을 출력하려면 help()함수를 호출한다.\\n#함수 인수의 리스트와 서식화된 독스트링을 얻기위해 함수 이름을 인수로 전달', 'help(echo)', 'echo(anything) # 에러 왜나는지 확인 ', 'help(echo)', 'print(echo.__doc__)', '# 일등 시민 : 함수\\n# 객체는 숫자,문자열,튜플,리스트,딕셔너리,함수를 포함한다. \\n# 함수를 변수에 할당하고 다른함수에서 이를 인수로 사용하고,\\n# 함수에서 이를 반환할 수 있다는 것이다.', 'def answer():\\n    print(42)', 'answer()', 'def run_something(func):\\n    func()', 'run_something(answer) #  함수를 데이터처럼 사용', '# answe「()를 전달하는 것이 아니라 answer를 전달했다. \\n# 파이썬에서 괄호 ()는 함수를 호출한 다는 의미다. \\n# 괄호가 없으면 함수를 다른 모든 객체와 마찬가지로 간주한다.\\n# 파이썬에서 모든 것은 객체이기 때문이다', 'type(run_something)', 'def add_args(arg1,arg2):\\n    print(arg1+arg2)', 'type(add_args)', 'def run_something_with_args(func,arg1,arg2):\\n    func(arg1,arg2)', 'run_something_with_args(add_args,5,9)', 'add_args(5,9)', 'def sum_args(*args):\\n    return sum(args)', 'def run_with_positional_args(func,*args):\\n    return func(*args)', 'run_with_positional_args(sum_args,1,2,3,4)', '# 내부함수 ( 함수 안에 함수 또 정의)', 'def outer(a,b):\\n    def inner(c,d):\\n        return c+d\\n    return inner(a,b)\\nouter(4,7)', '# 내부 함수는 반복문이나 코드 중복을 피하고자 또 다른 함수 내에 어떤\\n# 복잡한 작업을 한번 이상 수행할 떄 유용하게 사용된다.\\n# 다음 문자열 예제에서 내부 함수는 인수에 텍스트를 붙여준다.', 'def knights(saying):\\n    def inner(quote):\\n        return \"We are the say: \\'%s\\'\" % quote\\n    return inner(saying)', 'knights(\"Ni!\")', '# 클로저 \\n# 내부함수는 클로저 처럼 동작할쑤 있다.\\n# 클로저는 다른 함수에 의해 동적으로 생성된다.', 'def knights2(saying):\\n    def inner2():\\n        return \"We are the say: \\'%s\\'\" % saying\\n    return inner2', \"a = knights2('Duck')\", 'b = knights2(\"Hasenpfeffer\")', '# a 와 b의 타입은 무엇일까?', 'type(a)', 'type(b)', '# 이들은 함수지만 클로저이기도 하다 ', 'a', 'b', 'a() # 이들을 호출하면 knights2() 함수에 전달되어 사용된 saying을 기억한다.', 'b()', '# 익명 함수: lambda\\n# 단일 문장으로 표현되는 익명 함수다.\\n# edit_story() 함수를 정의해보자 ', '# words: 리스트\\n# func: 리스트의 각 word 문자열에 적용되는 함수', 'def edit_story(words,func):\\n    for word in words:\\n        print(func(word))', '# 이제 words 리스트와 각 word 에 적용할 함수가 필요하다.\\n# 고양이가 계단을 헛디뎠을 떄 내는 stairs 리스트는 다음과 같다.', \"stairs = ['thud','meow','thud','hiss']\", \"def enliven(word): # 첫글자를 대문자로 만들고 느낌표 붙이기\\n    return word.capitalize() + '!'\", 'edit_story(stairs,enliven)', '# 람다를 사용해보자. enliven() 함수를 람다로 간단하게 바꿀수있다. ', \"edit_story(stairs, lambda word: word.capitalize() + '!')\", '# 람다는 인수를 취하지 않거나 콤마로 구분된 인수를 취하고, \\n# 콜론(:) 이후에 함수를 정의', '# 9.8 제너레이터 # 228', '# 제네레이터는 시퀀스를 생성하는 객체다.\\n# 제네레이터로 전체 시퀀스를 한번에 메모리에 생성하고 정렬할 필요 없이,\\n# 아주 큰 시퀀스를 순회할수 있다. \\n# 제네레이터는 이터레이터에 대한 데이터의 소스로 자주 사용된다.\\n# range() 함수를 저번에 사용했는데 제네레이터중 하나이다.', 'sum(range(1,101))\\n\\n# 제네레이터를 순회할 때마다 마지막으로 호출된 항목을 기억하고 다음 값을 반환한다.\\n# 제네레이터는 일반 함수와 다르다.\\n# 일반 함수는 이전 호출에 대한 메모리가 없고, 항상 똑같은 상태로 첫번째 줄부터 수행', '# 9.8.1 제네레이터 함수 ', '# 잠재적으로 큰 시퀀스를 생성하고, 제네레이터 컴프리헨션에 대한 코드가 길다면 \\n# 제네레이터 함수를 사용하면 된다.\\n# 이것은 일반 함수지만 return 문으로 값을 반환하지 않고 yield 문으로 값을 반환.\\n# 우리만의 range() 함수를 작성해보자', 'def my_range(first=0,last=10,step=1):\\n    number = first\\n    while number < last:\\n        yield number\\n        number += step', 'my_range', 'ranger = my_range(1,5)', 'ranger', 'for x in ranger:\\n    print(x)', '# 제너레이터는 한 번만 순회할 수 있다 \\n# 리스트 셋, 문자열, 딕셔너리는 메모리에 존재한다. \\n# 그러나 제너레이터는 해당 값을 즉석에서 생성히고 이터레이터를 통해 한 번에 하나씩 전달한다. \\n# 제너레이터는 모 든 값을 기억하지 않으므로 제네레이터를 다시 시작하거나 되돌릴 수 없다', 'for try_again in ranger:\\n    print(try_again)\\n# 순회를 마친 제너레이터를 다시 순회한다면 다음과 같이 아무것도 반환하지 않는다.', '# 제네레이터 컴프리헨션\\n# 리스트, 딕셔너리, 셋 컴프리헨션을 살펴봤다. \\n# 제너레이터 컴프리헨션은 이들과 비슷하다.\\n# 대괄호，중괄호 대신 괄호로 묶어서 사용한다. \\n# 제너레이터 컴프리헨션은 제너레 이터 함수의 축약 버전이며, \\n# 안보이게 yield 문을 실행하고，\\n# 제너레이터 객체를 반환한다.', \"genobj = (pair for pair in zip(['a','b'],['1','2']) )\", 'genobj', 'for thing in genobj:\\n    print(thing)', '# 데커레이터\\n# 가끔 코드를 바꾸지 않고，사용하고 있는 함수를 수정하고 싶을 때가 있다. \\n# 일반적인 예는 함수에 전달된 인수를보기 위해 디버깅 문을추가하는 것이다.\\n# 하나의 함수를 취해서 또 다른 함수를 반환하는 함수\\n# 이 파이썬 트릭을 사용하기 위해 다음 기술을 사용.\\n# *args와 **kwargs\\n# 내부 함수\\n# 함수 인수', \"def document_it(func):\\n    def new_function(*args,**kwargs):\\n        print('Running function:',func.__name__)\\n        print('Positional arguments:',args)\\n        print('Keyword arguments:',kwargs)\\n        result = func(*args, **kwargs)\\n        print('Result:',result)\\n        return result\\n    return new_function\\n# document_it 함수는 다음과 같이 데커레이터를 정의한다.\\n# 함수 이름과 인수를 출력\\n# 인수로 함수를 실행\\n# 결과를 출력\\n# 수정된 함수를 사용하도록 반환 \", '# document_it() 함수에 어떤 func 함수 이름을 전달하든지 간에 \\n# document_it() 함수에 추 가 선언문이 포함된 새 함수를 얻는다. \\n# 데커레이터는 실제로 func 함수로부터 코드를 실행하지 않는다.\\n# 하지만 document_it() 함수로부터 func를 호출하여 결과뿐만 아니라 새로운 함수를 얻는다', '# 그러면 데커레이터를 어떻게 사용할까? 수동으로 데커레이터를 적용해보자.  231', 'def add_ints(a,b):\\n    return a+b', 'add_ints(3,5)', '#함수는 여러 데커레이터를 가질수있다.\\n#result를 제곱하는 square_it() 데커레이터를 작성해보자.', 'def square_it(func):\\n    def new_function(*args,**kwargs):\\n        result = func(*args,**kwargs)\\n        return result * result\\n    return new_function', '# 함수에서 가장 가까운(def바로위) 데커레이터를 먼저 실행한 후,\\n# 그 위의 데커레이터가 실행된다.\\n# 예제에서 순서를 바꿔도 똑같은 result를 얻지만 중간과정이 바뀐다)', '@document_it\\n@square_it\\ndef add_ints(a,b):\\n    return a + b', 'add_ints(3,5)', '# 데커레이터 순서를 바꿔보자.', '@square_it\\n@document_it\\ndef add_ints(a,b):\\n    return a+b', 'add_ints(3,5)', '# 네임스페이스와 스코프 ', '# 이름은 사용되는 위치에 따라 다른 것을 참조가능. \\n# 파이썬 프로그램에는 다양한 네임 스페이스가 있다. \\n# 네임스페이스는 특정 이름이 유일하고，다른 네임스페이스에서의 같은 이름과 관계가 없는 것을 말한다.\\n# 각 함수는 자신의 네임스페이스를 정의한다. \\n# 메인 프로그램에서 X라는 변수를 정의하고，\\n# 함수에서 X라는 변수를 정의했을 때 이들은 서로 다른 것을 참조한다. \\n# 하지만 이 경계를 넘을 수 있다. \\n# 다양한 방법으로 다른 네임스페이스의 이름을 접근할 수 있다.\\n# 메인 프로그램은 전역 네임스페이스를 정의한다.\\n# 메인 프로그램의 네임스페이스에서 선언된 변수는 전역변수', \"animal = 'fruitbat'\", \"def print_global():\\n    print('inside print_global:',animal)\\n# 다음 함수에서 전역 변수 값을 얻을 수 있다.\", \"print('at the top level: ',animal)\", '# 함수에서 전역 변수의 값을 얻어서 바꾸려 하면 에러가 발생할 것이다.', \"def change_add_print_global():\\n    print('inside change',animal)\\n    animal = 'wombat'\\n    print('after the change:',animal)\", 'change_add_print_global()', '#함수 내에서 전역 변수와 이름이 같은 변수 animal을 변경할 때，함수 내 animal 변수를 변경한다.', \"def change_local():\\n    animal = 'wombat'\\n    print('inside',animal,id(animal))\", 'change_local()', 'animal', 'id(animal)', '# 234 나중에', \"animal = 'fruitbat'\\ndef change_and_print_global():\\n    global animal\\n    animal = 'wombat'\\n    print('after',animal)\", 'animal', 'change_and_print_global()', 'animal', '# 파이썬은 네임스페이스의 내용을 접근하기 위해 두 가지 함수를 제공한다.\\n# • localsO 함수는 로컬(지역) 네임스페이스의 내용이 담긴 딕셔너리를 반환한다.\\n# • globalsO 함수는 글로벌(전역) 네임스메이스의 내용이 담긴 딕셔너리를 반환한다.', \"animal = 'fruitbat' #전역변수\\ndef change_local():\\n    animal = 'wombat' #지역변수\\n    print('locals',locals())\", 'animal', 'change_local()', \"print('globals:',globals())\"], 'Out': {10: 'Rumplestiltskin Rumplestiltskin', 41: {'wine': 'chardonnay', 'entree': 'chicken', 'dessert': 'cake'}, 43: {'wine': 'beef', 'entree': 'bagel', 'dessert': 'bordeaux'}, 46: {'wine': 'bordeaux', 'entree': 'beef', 'dessert': 'bagel'}, 48: {'wine': 'frontenac', 'entree': 'fish', 'dessert': 'flan'}, 52: {'wine': 'chardonnay', 'entree': 'chicken', 'dessert': 'pudding'}, 53: {'wine': 'dunkelfelder', 'entree': 'duck', 'dessert': 'doughnut'}, 60: ['a'], 61: ['b'], 103: ['one', 'terrible!', 'day'], 105: ['one', 'terrible!', 'day'], 121: <class 'function'>, 123: <class 'function'>, 129: 10, 131: 11, 134: \"We are the say: 'Ni!'\", 140: <class 'function'>, 141: <class 'function'>, 143: <function knights2.<locals>.inner2 at 0x000001E104883060>, 144: <function knights2.<locals>.inner2 at 0x000001E104882D40>, 145: \"We are the say: 'Duck'\", 146: \"We are the say: 'Hasenpfeffer'\", 159: 5050, 163: <function my_range at 0x000001E10472FF60>, 165: <generator object my_range at 0x000001E104873BC0>, 171: <generator object <genexpr> at 0x000001E104C48930>, 178: 8, 183: 64, 186: 64, 198: 'fruitbat', 199: 2065954176240, 202: 'fruitbat', 204: 'wombat', 207: 'fruitbat'}, 'get_ipython': <bound method InteractiveShell.get_ipython of <ipykernel.zmqshell.ZMQInteractiveShell object at 0x000001E10473CE10>>, 'exit': <IPython.core.autocall.ZMQExitAutocall object at 0x000001E104744E10>, 'quit': <IPython.core.autocall.ZMQExitAutocall object at 0x000001E104744E10>, 'open': <function open at 0x000001E1026CBA60>, '_': 'fruitbat', '__': 'wombat', '___': 'fruitbat', '_i': 'change_local()', '_ii': 'animal', '_iii': \"animal = 'fruitbat' #전역변수\\ndef change_local():\\n    animal = 'wombat' #지역변수\\n    print('locals',locals())\", '_i1': '# 함수 207~242\\n# 정의하기 (define) 0개 또는 1개 이상의 매개변수를 갖는다.\\n# 호출하기 (call) 0개 또는 1개 이상의 결과를 얻는다.', '_i2': '#9.1 함수 정의하기 def', '_i3': 'def do_nothing():\\n    pass # 아무것도 하지 않는다.', 'do_nothing': <function do_nothing at 0x000001E10472F920>, '_i4': 'do_nothing() #함수 호출하기', '_i5': \"def make_a_sound():\\n    print('quack')\", 'make_a_sound': <function make_a_sound at 0x000001E10472FB00>, '_i6': 'make_a_sound()', '_i7': 'def agree():\\n    return True', 'agree': <function agree at 0x000001E10472FC40>, '_i8': \"if agree(): #함수를 호출하여 반환되는 값으로 조건 테스트 가능\\n    print('Splendid!')\\nelse:\\n    print('That was unexpected')\", '_i9': \"def echo(anything):\\n    return anything+ ' '+ anything\", 'echo': <function echo at 0x000001E1047D5760>, '_i10': \"echo('Rumplestiltskin')\", '_10': 'Rumplestiltskin Rumplestiltskin', '_i11': '# 함수로 전달한 값을 인수 라고 부른다.\\n# 인수와 함수를 호출하면 인수의 값은 함수 내에서 해당하는 매개변수에 복사된다.\\n# 함수 외부에서는 인수 라고 하지만 내부에서는 매개변수라고 한다.', '_i12': 'def commentary(color):\\n    if color == \\'red\\':\\n        return \"It\\'s a tomato.\"\\n    if color == \\'green\\':\\n        return \"It\\'s a green pepper\"\\n    if color == \\'bee purple\\':\\n        return \"I don\\'t know what it is,\"\\n    else: \\n        return \"I\\'ve nerver heard of the color \"+ color +\".\"', 'commentary': <function commentary at 0x000001E10472F9C0>, '_i13': \"comment= commentary('blue')\", 'comment': \"I've nerver heard of the color blue.\", '_i14': 'print(comment)', '_i15': '# 유용한 None\\n# 아무것도 없다는 것을 뜻하는 파이썬의 특별한 값이다.\\n# 불리언 값의 False 처럼 보이지만 다른 값을 의미', '_i16': 'thing = None', 'thing': ('b', '2'), '_i17': 'if thing:\\n    print(\"It\\'s some thing\")\\nelse:\\n    print(\"It\\'s no thing\")', '_i18': '# False와 None을 구분하기위해 is 연산자를 사용', '_i19': 'thing = None', '_i20': 'if thing is None:\\n    print(\"It\\'s nothing\")\\nelse: \\n    print(\"It\\'s something\")', '_i21': '# 사소한 차이로 보이지만 매우 중요\\n# 빠뜨린 빈 값을 구분하기 위해 None을 사용\\n# 정수,부동소수점,빈문자열,빈리스트,빈튜플,빈딕셔너리,빈셋은 모두 False 지만 \\n# None과는 같지않음', '_i22': 'def whatis(thing):\\n    if thing is None:\\n        print(thing, \"is None\")\\n    elif thing:\\n        print(thing,\" is True\")\\n    else:\\n        print(thing, \"is False\")', 'whatis': <function whatis at 0x000001E1047D4680>, '_i23': 'whatis(None)', '_i24': 'whatis(True)', '_i25': 'whatis(False)', '_i26': 'whatis(0)', '_i27': 'whatis(0.0)', '_i28': \"whatis('')\", '_i29': \"whatis('''''')\", '_i30': 'whatis(())', '_i31': 'whatis([])', '_i32': 'whatis({})', '_i33': 'whatis(set())', '_i34': 'whatis(0.00001)', '_i35': 'whatis([0])', '_i36': \"whatis([''])\", '_i37': \"whatis(' ')\", '_i38': '# 위치 인수', '_i39': '# 파이썬은 다른 언어에 비해 함수의 인수를 유연하고 독특하게 처리한다. 인수의 가장 익숙한 \\n# 유형은 값을 순서 대로 상응하는 매개변수에 복사하는 위치 인수argument다.\\n# 다음 함수는 위치 인수로 딕셔너리를 만들어서 반환한다.', '_i40': \"def menu(wine, entree,dessert):\\n    return {'wine':wine,'entree':entree,'dessert':dessert}\", 'menu': <function menu at 0x000001E1047D4540>, '_i41': \"menu('chardonnay','chicken','cake')\", '_41': {'wine': 'chardonnay', 'entree': 'chicken', 'dessert': 'cake'}, '_i42': '# 매우 일반적이지만 위치 인수의 단점은 각 위치의 의미를 알아야 한다는 것이다. 다음 예제는 \\n#첫 번째 인수 대신 마지막 인수를 wine으로 menu()를 호출하면 이상한 식사가 된다.', '_i43': \"menu('beef','bagel','bordeaux')\", '_43': {'wine': 'beef', 'entree': 'bagel', 'dessert': 'bordeaux'}, '_i44': '# 9.3.3 키워드 인수', '_i45': '# 위치 인수의 혼란을 피하기 위해 매개변수에 상응하는 이름을 인수에 지정할 수 있다. \\n# 심지어 인수를 함수 정의와 다른 순서로 지정할 수 있다', '_i46': \"menu(entree='beef', dessert='bagel', wine='bordeaux')\", '_46': {'wine': 'bordeaux', 'entree': 'beef', 'dessert': 'bagel'}, '_i47': '# 위치 인수와 키워드 인수를 섞어서 쓸 수 있다. \\n# wine을 첫 번째 인수로，entree와 dessert를 키워드 인수로 지정해보자.', '_i48': \"menu('frontenac',dessert='flan',entree='fish')\", '_48': {'wine': 'frontenac', 'entree': 'fish', 'dessert': 'flan'}, '_i49': '# 위치 인수와 키워드 인수로 함수를 호출하면 위치 인수가 먼저 와야 한다.', '_i50': '# 9.3.4 기본 매개변수 값 지정하기\\n# 매개변수에 기본값을 지정할 수 있다. \\n# 호출자가 대응하는 인수를 제공하지 않으면 기본값을 사용한다.', '_i51': \"def menu(wine,entree,dessert='pudding'):\\n    return {'wine':wine,'entree':entree, 'dessert':dessert}\", '_i52': \"menu('chardonnay','chicken') #dessert 인수 없이 menu()를 호출.\", '_52': {'wine': 'chardonnay', 'entree': 'chicken', 'dessert': 'pudding'}, '_i53': \"menu('dunkelfelder','duck','doughnut')\", '_53': {'wine': 'dunkelfelder', 'entree': 'duck', 'dessert': 'doughnut'}, '_i54': '# 기본 인수는 함수가 실행될 때 계산되지 않고, 함수를 정의할 때 계산된다. \\n# 파이썬 초급(혹은 중급) 개발자는 리스트 혹은 딕셔너리와 같은 가변 데이터 타입을 \\n# 기본 인수로 사용할 때 실수하게 된다', '_i55': '# buggy() 함수를 정의한다. \\n# 이 함수는 일반 매개변수 arg와 기본 매개변수로 빈 리스트를 취하는 result가 있다. \\n# 함수는 arg를 result 리스트에 추가한다. \\n# 함수를 호출할 때 마다 한 항목이 있는 리스트가 반환될 것이라고 \\n# 예상할 수 있지만, 이전에 호출했던 result가\\n# 그대로 리스트에 남아 있는 상태로 출력된다.', '_i56': 'def buggy(arg,result=[]):\\n    result.append(arg)\\n    print(result)', 'buggy': <function buggy at 0x000001E1047D4A40>, '_i57': \"buggy('a')\", '_i58': \"buggy('b') # expect ['b']\", '_i59': 'def works(arg):\\n    result = []\\n    result.append(arg)\\n    return result', 'works': <function works at 0x000001E1047D4AE0>, '_i60': \"works('a')\", '_60': ['a'], '_i61': \"works('b')\", '_61': ['b'], '_i62': '# 첫 번째 인수 호출을 가리키기 위해 매개변수에 다른 값을 넣어서 수정할수 있다.', '_i63': 'def nonbuggy(arg,result=None):\\n    if result is None:\\n        result=[]\\n    result.append(arg)\\n    print(result)', 'nonbuggy': <function nonbuggy at 0x000001E1047D4400>, '_i64': \"nonbuggy('a')\", '_i65': \"nonbuggy('b')\", '_i66': '#### 이것은 가끔 파이썬 기술 면접에 등장한다. ', '_i67': '# 9.3.5 위치 인수 분해하기/모으기:   *', '_i68': '#파이썬에는 포인터가 없음 ', '_i69': '# 함수의 매개변수에 애스터리스크를 사용할 때, \\n# 애스터리스크는 매개변수에서 위치 인수 변수를 튜플로 묶는다. \\n# 다음 예제는 print_args() 함수로 인수를 전달하고，\\n# args 매개변수 튜플의 결과를살펴본다', '_i70': \"def print_args(*args):\\n    print('Positional tuple:',args)\", 'print_args': <function print_args at 0x000001E1047D45E0>, '_i71': 'print_args()', '_i72': \"print_args(3,2,1,'wait!','uh...') #인수를 넣어서 튜플을 출력 \", '_i73': '# 가변 인수를 사용하는 print()와 같은 함수는 매우 유용하다. \\n# 함수에 위치 인수를 지정할 때 맨 끝에 *a「gs를 써서 나머지 인수를 모두 취하게 할수 있다.', '_i74': \"def print_more(required1, required2, *args):\\n    print('Need this one:', required1)\\n    print('Need this one. too:', required2)\\n    print('All the rest',args)\", 'print_more': <function print_more at 0x000001E1047D4D60>, '_i75': \"print_more('cap','gloves','scarf','monocle','mustache wax')\", '_i76': '# *를 사용할 때 가변 인수의 이름으로 args를 사용할 필요는 없지만 관용적으로 args를 사용한다 \\n# 또한 이전 예제와 같이 일반적으로 함수에 *args를 사용한다. 기술적으로 매개변수라고 하기도 하고, \\n# *params 라고도 한다.', '_i77': '# • 위치 인수를 함수에 전달하면, 함수 내 위치 매개변수와 일치한다.\\n# • 튜플 인수를 함수에 전달하면，함수 내 튜플 매개변수가 있다.\\n# • 위치 인수를 함수에 전달하고, 매개변수 *args로 수집하여 튜플 인수로 해석할수 있다.\\n# • args라는 튜플 인수를 함수에 전달하여，위치 매개변수 *args로 분해할 수 있다. \\n# 이것은 튜플  매개변수 args 안에 다시 수집된다.', '_i78': \"print_args(2,5,7,'x')\", '_i79': \"args = (2,5,7,'x')\", 'args': (2, 5, 7, 'x'), '_i80': 'print_args(args)', '_i81': 'print_args(*args)', '_i82': '*args  # 함수 호출 또는 정의에서만 * 구문을 사용가능 ', '_i83': '# 함수 외부에서 *args는 튜플  인수를 쉼표로 구분된 위치 매개변수로 분해한다.\\n# • 함수 내부에서 *args는 모든 위치의 인수를 단일 인수 튜플로 수집한다. \\n# *params와 param라는 이름을 \\n# 사용할 수 있지만, 외부 인수와 내부 인수 모두에 *args를 사용하는 것이 일반적이다.\\n# *args는 함수 외부에서 분해된 값을 함수 내부에 모은다.', '_i84': '# 9.3.6 키워드 인수 분해하기/모으기: *', '_i85': '# 키워드 인수를 딕셔너리로 묶기 위해 두 개의 애스터리스크(**)를 사용할 수 있다. \\n# 인수의 이름은 키고，값은 이 키에 대응하는 딕셔너리 값이다. \\n# 다음 예제는 print_kwargs() 함수를 정의하여 키워드 인수를 출력한다.', '_i86': \"def print_kwargs(**kwargs):\\n    print('Keyword arguments:',kwargs)\", 'print_kwargs': <function print_kwargs at 0x000001E1047D4F40>, '_i87': '# 인수 없이 호출 , 그리고 키워드 인수를 사용하여 함술를 호춯한다.', '_i88': 'print_kwargs()', '_i89': \"print_kwargs(wine='merlot',entree='mutton',dessert='macaroon')\", '_i90': '# 함수 내에서 kwargs는 딕셔너리 매개변수다. 인수 순서는 다음과 같다.', '_i91': '# 위치 인수\\n# 위치 인수 (*args) - 옵션\\n# 키워드 인수 (**kwargs) - 옵션', '_i92': '# args와 마찬가지로 키워드 인수 이름을 kwargs로 사용하지만 필수는 아니다.\\n# **구문은 함수 호출 또는 정의에서만 유효하다.', '_i93': \"# 요약하자면 \\n # • 키워드 인수를 함수에 전달하면, 함수 내 키워드 매개변수와 일치한다.\\n # • 딕셔너리 인수를 함수에 전달하면, 함수 내 딕셔너리 매개변수가 있다.\\n # • 하나 이상의 키워드 인수（이름=값）를 함수에 전달하고, \\n #   이를 **kwargs에 수집하여, kwargs 딕셔너리 매개변수로 해석할 수 있다.\\n # • 함수 외부에서 **kwargs는 딕셔너리 kwargs를 '이름=값’ 인수로 분해한다.\\n # • 함수 내부에서 **kwargs는 ' 이름=값 '  인수를 단일 딕셔너리 매개변수 kwargs에 모은다.\\n # **kwargs는 함수 외부에서 분해된 ‘이름=값’을 함수 내부에 모은다.\", '_i94': \"# 9.3.7 키워드 전용 인수 \\n# 이름에서 알 수 있듯이 값을 위치적으로 제공하지 않고 '이름=값’으로 제공해야 한다. \\n# 아래의 함수 정의에서 단일 애스터리스크는 start 및 end 매개변수의 기본값을 사용하고 싶지 않은 경우 \\n# 명명된 인수로 제공 해야 함을 의미\", '_i95': 'def print_data(data, *, start=0, end=100):\\n    for value in (data[start:end]):\\n        print(value)', 'print_data': <function print_data at 0x000001E1047D51C0>, '_i96': \"data = ['a','b','c','d','e','f']\", 'data': ['a', 'b', 'c', 'd', 'e', 'f'], '_i97': 'print_data(data)', '_i98': 'print_data(data,start=4)', '_i99': 'print_data(data,end=2)', '_i100': '# 9.3.8 가변/불변 인수\\n# 함수에 인수를 전달할 때 주의한다. \\n# 인수가 가변 객체인 경우 해당 매개변수를 통해 함수 내부에서 값을 변경할수 있다.', '_i101': \"outside =['one','fine','day']\", 'outside': ['one', 'terrible!', 'day'], '_i102': \"def mangle(arg):\\n    arg[1] = 'terrible!'\", 'mangle': <function mangle at 0x000001E1047D5620>, '_i103': 'outside', '_103': ['one', 'terrible!', 'day'], '_i104': 'mangle(outside)', '_i105': 'outside', '_105': ['one', 'terrible!', 'day'], '_i106': '# 위 코드는 안 좋은 예시이다. 함수 내에서 인수가 변경될수 있다고 문서화하거나 새 값을 반환한다.', '_i107': '# 9.4 독스트링 \\n# 함수 바디 시작부분에 문자열을 포함시켜 함수 정의에 문서를 붙일 수 있다.\\n# 이것이 함수의 독스트링 이다.', '_i108': \"def echo(anything):\\n    'echo returns its input argument'\\n    return anything\", '_i109': \"def print_if_true(thing, check):\\n    '''\\n    Prints the first argument if a second argument is true.\\n    The operation is:\\n        1. Check\\n        2. If it is,\\n    '''\\n    if check:\\n        print(thing)\", 'print_if_true': <function print_if_true at 0x000001E1047D59E0>, '_i110': '# 함수의 독스트링을 출력하려면 help()함수를 호출한다.\\n#함수 인수의 리스트와 서식화된 독스트링을 얻기위해 함수 이름을 인수로 전달', '_i111': 'help(echo)', '_i112': 'echo(anything) # 에러 왜나는지 확인 ', '_i113': 'help(echo)', '_i114': 'print(echo.__doc__)', '_i115': '# 일등 시민 : 함수\\n# 객체는 숫자,문자열,튜플,리스트,딕셔너리,함수를 포함한다. \\n# 함수를 변수에 할당하고 다른함수에서 이를 인수로 사용하고,\\n# 함수에서 이를 반환할 수 있다는 것이다.', '_i116': 'def answer():\\n    print(42)', 'answer': <function answer at 0x000001E1048800E0>, '_i117': 'answer()', '_i118': 'def run_something(func):\\n    func()', 'run_something': <function run_something at 0x000001E104882A20>, '_i119': 'run_something(answer) #  함수를 데이터처럼 사용', '_i120': '# answe「()를 전달하는 것이 아니라 answer를 전달했다. \\n# 파이썬에서 괄호 ()는 함수를 호출한 다는 의미다. \\n# 괄호가 없으면 함수를 다른 모든 객체와 마찬가지로 간주한다.\\n# 파이썬에서 모든 것은 객체이기 때문이다', '_i121': 'type(run_something)', '_121': <class 'function'>, '_i122': 'def add_args(arg1,arg2):\\n    print(arg1+arg2)', 'add_args': <function add_args at 0x000001E104882B60>, '_i123': 'type(add_args)', '_123': <class 'function'>, '_i124': 'def run_something_with_args(func,arg1,arg2):\\n    func(arg1,arg2)', 'run_something_with_args': <function run_something_with_args at 0x000001E104882340>, '_i125': 'run_something_with_args(add_args,5,9)', '_i126': 'add_args(5,9)', '_i127': 'def sum_args(*args):\\n    return sum(args)', 'sum_args': <function sum_args at 0x000001E104881BC0>, '_i128': 'def run_with_positional_args(func,*args):\\n    return func(*args)', 'run_with_positional_args': <function run_with_positional_args at 0x000001E104882DE0>, '_i129': 'run_with_positional_args(sum_args,1,2,3,4)', '_129': 10, '_i130': '# 내부함수 ( 함수 안에 함수 또 정의)', '_i131': 'def outer(a,b):\\n    def inner(c,d):\\n        return c+d\\n    return inner(a,b)\\nouter(4,7)', 'outer': <function outer at 0x000001E104881DA0>, '_131': 11, '_i132': '# 내부 함수는 반복문이나 코드 중복을 피하고자 또 다른 함수 내에 어떤\\n# 복잡한 작업을 한번 이상 수행할 떄 유용하게 사용된다.\\n# 다음 문자열 예제에서 내부 함수는 인수에 텍스트를 붙여준다.', '_i133': 'def knights(saying):\\n    def inner(quote):\\n        return \"We are the say: \\'%s\\'\" % quote\\n    return inner(saying)', 'knights': <function knights at 0x000001E104883240>, '_i134': 'knights(\"Ni!\")', '_134': \"We are the say: 'Ni!'\", '_i135': '# 클로저 \\n# 내부함수는 클로저 처럼 동작할쑤 있다.\\n# 클로저는 다른 함수에 의해 동적으로 생성된다.', '_i136': 'def knights2(saying):\\n    def inner2():\\n        return \"We are the say: \\'%s\\'\" % saying\\n    return inner2', 'knights2': <function knights2 at 0x000001E1048820C0>, '_i137': \"a = knights2('Duck')\", 'a': <function knights2.<locals>.inner2 at 0x000001E104883060>, '_i138': 'b = knights2(\"Hasenpfeffer\")', 'b': <function knights2.<locals>.inner2 at 0x000001E104882D40>, '_i139': '# a 와 b의 타입은 무엇일까?', '_i140': 'type(a)', '_140': <class 'function'>, '_i141': 'type(b)', '_141': <class 'function'>, '_i142': '# 이들은 함수지만 클로저이기도 하다 ', '_i143': 'a', '_143': <function knights2.<locals>.inner2 at 0x000001E104883060>, '_i144': 'b', '_144': <function knights2.<locals>.inner2 at 0x000001E104882D40>, '_i145': 'a() # 이들을 호출하면 knights2() 함수에 전달되어 사용된 saying을 기억한다.', '_145': \"We are the say: 'Duck'\", '_i146': 'b()', '_146': \"We are the say: 'Hasenpfeffer'\", '_i147': '# 익명 함수: lambda\\n# 단일 문장으로 표현되는 익명 함수다.\\n# edit_story() 함수를 정의해보자 ', '_i148': '# words: 리스트\\n# func: 리스트의 각 word 문자열에 적용되는 함수', '_i149': 'def edit_story(words,func):\\n    for word in words:\\n        print(func(word))', 'edit_story': <function edit_story at 0x000001E104883600>, '_i150': '# 이제 words 리스트와 각 word 에 적용할 함수가 필요하다.\\n# 고양이가 계단을 헛디뎠을 떄 내는 stairs 리스트는 다음과 같다.', '_i151': \"stairs = ['thud','meow','thud','hiss']\", 'stairs': ['thud', 'meow', 'thud', 'hiss'], '_i152': \"def enliven(word): # 첫글자를 대문자로 만들고 느낌표 붙이기\\n    return word.capitalize() + '!'\", 'enliven': <function enliven at 0x000001E104883920>, '_i153': 'edit_story(stairs,enliven)', '_i154': '# 람다를 사용해보자. enliven() 함수를 람다로 간단하게 바꿀수있다. ', '_i155': \"edit_story(stairs, lambda word: word.capitalize() + '!')\", '_i156': '# 람다는 인수를 취하지 않거나 콤마로 구분된 인수를 취하고, \\n# 콜론(:) 이후에 함수를 정의', '_i157': ' # 9.8 제너레이터 # 228', '_i158': '# 제네레이터는 시퀀스를 생성하는 객체다.\\n# 제네레이터로 전체 시퀀스를 한번에 메모리에 생성하고 정렬할 필요 없이,\\n# 아주 큰 시퀀스를 순회할수 있다. \\n# 제네레이터는 이터레이터에 대한 데이터의 소스로 자주 사용된다.\\n# range() 함수를 저번에 사용했는데 제네레이터중 하나이다.', '_i159': 'sum(range(1,101))\\n\\n# 제네레이터를 순회할 때마다 마지막으로 호출된 항목을 기억하고 다음 값을 반환한다.\\n# 제네레이터는 일반 함수와 다르다.\\n# 일반 함수는 이전 호출에 대한 메모리가 없고, 항상 똑같은 상태로 첫번째 줄부터 수행', '_159': 5050, '_i160': '# 9.8.1 제네레이터 함수 ', '_i161': '# 잠재적으로 큰 시퀀스를 생성하고, 제네레이터 컴프리헨션에 대한 코드가 길다면 \\n# 제네레이터 함수를 사용하면 된다.\\n# 이것은 일반 함수지만 return 문으로 값을 반환하지 않고 yield 문으로 값을 반환.\\n# 우리만의 range() 함수를 작성해보자', '_i162': 'def my_range(first=0,last=10,step=1):\\n    number = first\\n    while number < last:\\n        yield number\\n        number += step', 'my_range': <function my_range at 0x000001E10472FF60>, '_i163': 'my_range', '_163': <function my_range at 0x000001E10472FF60>, '_i164': 'ranger = my_range(1,5)', 'ranger': <generator object my_range at 0x000001E104873BC0>, '_i165': 'ranger', '_165': <generator object my_range at 0x000001E104873BC0>, '_i166': 'for x in ranger:\\n    print(x)', 'x': 4, '_i167': '# 제너레이터는 한 번만 순회할 수 있다 \\n# 리스트 셋, 문자열, 딕셔너리는 메모리에 존재한다. \\n# 그러나 제너레이터는 해당 값을 즉석에서 생성히고 이터레이터를 통해 한 번에 하나씩 전달한다. \\n# 제너레이터는 모 든 값을 기억하지 않으므로 제네레이터를 다시 시작하거나 되돌릴 수 없다', '_i168': 'for try_again in ranger:\\n    print(try_again)\\n# 순회를 마친 제너레이터를 다시 순회한다면 다음과 같이 아무것도 반환하지 않는다.', '_i169': '# 제네레이터 컴프리헨션\\n# 리스트, 딕셔너리, 셋 컴프리헨션을 살펴봤다. \\n# 제너레이터 컴프리헨션은 이들과 비슷하다.\\n# 대괄호，중괄호 대신 괄호로 묶어서 사용한다. \\n# 제너레이터 컴프리헨션은 제너레 이터 함수의 축약 버전이며, \\n# 안보이게 yield 문을 실행하고，\\n# 제너레이터 객체를 반환한다.', '_i170': \"genobj = (pair for pair in zip(['a','b'],['1','2']) )\", 'genobj': <generator object <genexpr> at 0x000001E104C48930>, '_i171': 'genobj', '_171': <generator object <genexpr> at 0x000001E104C48930>, '_i172': 'for thing in genobj:\\n    print(thing)', '_i173': '# 데커레이터\\n# 가끔 코드를 바꾸지 않고，사용하고 있는 함수를 수정하고 싶을 때가 있다. \\n# 일반적인 예는 함수에 전달된 인수를보기 위해 디버깅 문을추가하는 것이다.\\n# 하나의 함수를 취해서 또 다른 함수를 반환하는 함수\\n# 이 파이썬 트릭을 사용하기 위해 다음 기술을 사용.\\n# *args와 **kwargs\\n# 내부 함수\\n# 함수 인수', '_i174': \"def document_it(func):\\n    def new_function(*args,**kwargs):\\n        print('Running function:',func.__name__)\\n        print('Positional arguments:',args)\\n        print('Keyword arguments:',kwargs)\\n        result = func(*args, **kwargs)\\n        print('Result:',result)\\n        return result\\n    return new_function\\n# document_it 함수는 다음과 같이 데커레이터를 정의한다.\\n# 함수 이름과 인수를 출력\\n# 인수로 함수를 실행\\n# 결과를 출력\\n# 수정된 함수를 사용하도록 반환 \", 'document_it': <function document_it at 0x000001E1054B82C0>, '_i175': '# document_it() 함수에 어떤 func 함수 이름을 전달하든지 간에 \\n# document_it() 함수에 추 가 선언문이 포함된 새 함수를 얻는다. \\n# 데커레이터는 실제로 func 함수로부터 코드를 실행하지 않는다.\\n# 하지만 document_it() 함수로부터 func를 호출하여 결과뿐만 아니라 새로운 함수를 얻는다', '_i176': '# 그러면 데커레이터를 어떻게 사용할까? 수동으로 데커레이터를 적용해보자.  231', '_i177': 'def add_ints(a,b):\\n    return a+b', 'add_ints': <function square_it.<locals>.new_function at 0x000001E1054B89A0>, '_i178': 'add_ints(3,5)', '_178': 8, '_i179': '#함수는 여러 데커레이터를 가질수있다.\\n#result를 제곱하는 square_it() 데커레이터를 작성해보자.', '_i180': 'def square_it(func):\\n    def new_function(*args,**kwargs):\\n        result = func(*args,**kwargs)\\n        return result * result\\n    return new_function', 'square_it': <function square_it at 0x000001E1054B84A0>, '_i181': '# 함수에서 가장 가까운(def바로위) 데커레이터를 먼저 실행한 후,\\n# 그 위의 데커레이터가 실행된다.\\n# 예제에서 순서를 바꿔도 똑같은 result를 얻지만 중간과정이 바뀐다)', '_i182': '@document_it\\n@square_it\\ndef add_ints(a,b):\\n    return a + b', '_i183': 'add_ints(3,5)', '_183': 64, '_i184': '# 데커레이터 순서를 바꿔보자.', '_i185': '@square_it\\n@document_it\\ndef add_ints(a,b):\\n    return a+b', '_i186': 'add_ints(3,5)', '_186': 64, '_i187': '# 네임스페이스와 스코프 ', '_i188': '# 이름은 사용되는 위치에 따라 다른 것을 참조가능. \\n# 파이썬 프로그램에는 다양한 네임 스페이스가 있다. \\n# 네임스페이스는 특정 이름이 유일하고，다른 네임스페이스에서의 같은 이름과 관계가 없는 것을 말한다.\\n# 각 함수는 자신의 네임스페이스를 정의한다. \\n# 메인 프로그램에서 X라는 변수를 정의하고，\\n# 함수에서 X라는 변수를 정의했을 때 이들은 서로 다른 것을 참조한다. \\n# 하지만 이 경계를 넘을 수 있다. \\n# 다양한 방법으로 다른 네임스페이스의 이름을 접근할 수 있다.\\n# 메인 프로그램은 전역 네임스페이스를 정의한다.\\n# 메인 프로그램의 네임스페이스에서 선언된 변수는 전역변수', '_i189': \"animal = 'fruitbat'\", 'animal': 'fruitbat', '_i190': \"def print_global():\\n    print('inside print_global:',animal)\\n# 다음 함수에서 전역 변수 값을 얻을 수 있다.\", 'print_global': <function print_global at 0x000001E104882700>, '_i191': \"print('at the top level: ',animal)\", '_i192': '# 함수에서 전역 변수의 값을 얻어서 바꾸려 하면 에러가 발생할 것이다.', '_i193': \"def change_add_print_global():\\n    print('inside change',animal)\\n    animal = 'wombat'\\n    print('after the change:',animal)\", 'change_add_print_global': <function change_add_print_global at 0x000001E1054B8FE0>, '_i194': 'change_add_print_global()', '_i195': '#함수 내에서 전역 변수와 이름이 같은 변수 animal을 변경할 때，함수 내 animal 변수를 변경한다.', '_i196': \"def change_local():\\n    animal = 'wombat'\\n    print('inside',animal,id(animal))\", 'change_local': <function change_local at 0x000001E1054BA340>, '_i197': 'change_local()', '_i198': 'animal', '_198': 'fruitbat', '_i199': 'id(animal)', '_199': 2065954176240, '_i200': '# 234 나중에', '_i201': \"animal = 'fruitbat'\\ndef change_and_print_global():\\n    global animal\\n    animal = 'wombat'\\n    print('after',animal)\", 'change_and_print_global': <function change_and_print_global at 0x000001E1054B8EA0>, '_i202': 'animal', '_202': 'fruitbat', '_i203': 'change_and_print_global()', '_i204': 'animal', '_204': 'wombat', '_i205': '# 파이썬은 네임스페이스의 내용을 접근하기 위해 두 가지 함수를 제공한다.\\n# • localsO 함수는 로컬(지역) 네임스페이스의 내용이 담긴 딕셔너리를 반환한다.\\n# • globalsO 함수는 글로벌(전역) 네임스메이스의 내용이 담긴 딕셔너리를 반환한다.', '_i206': \"animal = 'fruitbat' #전역변수\\ndef change_local():\\n    animal = 'wombat' #지역변수\\n    print('locals',locals())\", '_i207': 'animal', '_207': 'fruitbat', '_i208': 'change_local()', '_i209': \"print('globals:',globals())\"}\n"
     ]
    }
   ],
   "source": [
    "print('globals:',globals())"
   ]
  },
  {
   "cell_type": "code",
   "execution_count": 210,
   "id": "0e316035",
   "metadata": {},
   "outputs": [
    {
     "data": {
      "text/plain": [
       "'fruitbat'"
      ]
     },
     "execution_count": 210,
     "metadata": {},
     "output_type": "execute_result"
    }
   ],
   "source": [
    "animal"
   ]
  },
  {
   "cell_type": "code",
   "execution_count": 211,
   "id": "da0f1e7f",
   "metadata": {},
   "outputs": [],
   "source": [
    "# change_local() 함수 내 로컬 네임스페이스에는 animal로컬 변수만 있다.\n",
    "# 메인 프로그램의 글로벌 네임스페이스에는 animal 전역 변수와 다른 여려가지가 포함되어있다."
   ]
  },
  {
   "cell_type": "code",
   "execution_count": null,
   "id": "d30d2478",
   "metadata": {},
   "outputs": [],
   "source": []
  },
  {
   "cell_type": "code",
   "execution_count": 212,
   "id": "f97ec249",
   "metadata": {},
   "outputs": [],
   "source": [
    "# 9.11 이름에 _ 와 __사용하기"
   ]
  },
  {
   "cell_type": "code",
   "execution_count": 213,
   "id": "e3a91c9b",
   "metadata": {},
   "outputs": [],
   "source": [
    "# 함수 이름은 시스템 변수 function.__name__에 있다.\n",
    "# 그리고 함수 docstring은 function.__doc__에 있다."
   ]
  },
  {
   "cell_type": "code",
   "execution_count": 214,
   "id": "ba2ec9c2",
   "metadata": {},
   "outputs": [],
   "source": [
    "def amazing():\n",
    "    '''This is the amazing function.\n",
    "    Want to see it again?'''\n",
    "    print('This function is named:',amazing.__name__)\n",
    "    print('And its docstring is',amazing.__doc__)"
   ]
  },
  {
   "cell_type": "code",
   "execution_count": 215,
   "id": "ebee355e",
   "metadata": {},
   "outputs": [
    {
     "name": "stdout",
     "output_type": "stream",
     "text": [
      "This function is named: amazing\n",
      "And its docstring is This is the amazing function.\n",
      "    Want to see it again?\n"
     ]
    }
   ],
   "source": [
    "amazing()"
   ]
  },
  {
   "cell_type": "code",
   "execution_count": null,
   "id": "3c749219",
   "metadata": {},
   "outputs": [],
   "source": []
  },
  {
   "cell_type": "code",
   "execution_count": 216,
   "id": "7d8d099e",
   "metadata": {},
   "outputs": [],
   "source": [
    "# 9.12 재귀함수"
   ]
  },
  {
   "cell_type": "code",
   "execution_count": 217,
   "id": "3291b5ba",
   "metadata": {},
   "outputs": [],
   "source": [
    "def dive():\n",
    "    return dive()"
   ]
  },
  {
   "cell_type": "code",
   "execution_count": 218,
   "id": "4d29d78f",
   "metadata": {},
   "outputs": [],
   "source": [
    "# dive()"
   ]
  },
  {
   "cell_type": "code",
   "execution_count": 219,
   "id": "df14685f",
   "metadata": {},
   "outputs": [],
   "source": [
    " def flatten(lol):\n",
    "        for item in lol:\n",
    "            if isinstance(item,list):\n",
    "                for subitem in flatten(item):\n",
    "                    yield subitem\n",
    "            else:\n",
    "                yield item"
   ]
  },
  {
   "cell_type": "code",
   "execution_count": 220,
   "id": "7289388e",
   "metadata": {},
   "outputs": [],
   "source": [
    "lol = [1,2,[3,4,5],[6,[7,8,9],[]]]"
   ]
  },
  {
   "cell_type": "code",
   "execution_count": 221,
   "id": "1f40ebd4",
   "metadata": {},
   "outputs": [
    {
     "data": {
      "text/plain": [
       "<generator object flatten at 0x000001E10549BF10>"
      ]
     },
     "execution_count": 221,
     "metadata": {},
     "output_type": "execute_result"
    }
   ],
   "source": [
    "flatten(lol)"
   ]
  },
  {
   "cell_type": "code",
   "execution_count": 222,
   "id": "21184a78",
   "metadata": {},
   "outputs": [
    {
     "data": {
      "text/plain": [
       "[1, 2, 3, 4, 5, 6, 7, 8, 9]"
      ]
     },
     "execution_count": 222,
     "metadata": {},
     "output_type": "execute_result"
    }
   ],
   "source": [
    "list(flatten(lol))"
   ]
  },
  {
   "cell_type": "code",
   "execution_count": 223,
   "id": "6ba2131e",
   "metadata": {},
   "outputs": [],
   "source": [
    "# 9.13 비동기 함수\n",
    "# 함수를 정의하는 def 앞에 async 키워드가 붙으면 비동기 함수라는 것을 알면된다.\n",
    "# 함수를 호출하기 전에 await 키워드가 있으면 해당 함수는 비동기적이다."
   ]
  },
  {
   "cell_type": "code",
   "execution_count": 224,
   "id": "97c10caf",
   "metadata": {},
   "outputs": [],
   "source": [
    "# 9.14 예외 \n",
    "# 어떤 함수에서 예외가 발생하여 그곳에서 잡히지 않았다면\n",
    "# 이 함수를 호출한 핸들러에 의해서 그 예외를 잡을 때까지 버블링한다."
   ]
  },
  {
   "cell_type": "code",
   "execution_count": 225,
   "id": "3cf5f2f3",
   "metadata": {},
   "outputs": [],
   "source": [
    "short_list=[1,2,3]"
   ]
  },
  {
   "cell_type": "code",
   "execution_count": 226,
   "id": "e695a654",
   "metadata": {},
   "outputs": [],
   "source": [
    "position=5"
   ]
  },
  {
   "cell_type": "code",
   "execution_count": 227,
   "id": "920f1a8b",
   "metadata": {},
   "outputs": [
    {
     "ename": "IndexError",
     "evalue": "list index out of range",
     "output_type": "error",
     "traceback": [
      "\u001b[1;31m---------------------------------------------------------------------------\u001b[0m",
      "\u001b[1;31mIndexError\u001b[0m                                Traceback (most recent call last)",
      "Cell \u001b[1;32mIn[227], line 1\u001b[0m\n\u001b[1;32m----> 1\u001b[0m short_list[position]\n",
      "\u001b[1;31mIndexError\u001b[0m: list index out of range"
     ]
    }
   ],
   "source": [
    "short_list[position] # 에러"
   ]
  },
  {
   "cell_type": "code",
   "execution_count": 228,
   "id": "9ce5e255",
   "metadata": {},
   "outputs": [],
   "source": [
    "# 에러 처리하기 try, except"
   ]
  },
  {
   "cell_type": "code",
   "execution_count": 229,
   "id": "dc8a133f",
   "metadata": {},
   "outputs": [],
   "source": [
    "short_list=[1,2,3]"
   ]
  },
  {
   "cell_type": "code",
   "execution_count": 230,
   "id": "de1364ec",
   "metadata": {},
   "outputs": [],
   "source": [
    "position = 5"
   ]
  },
  {
   "cell_type": "code",
   "execution_count": 231,
   "id": "584ac215",
   "metadata": {},
   "outputs": [
    {
     "name": "stdout",
     "output_type": "stream",
     "text": [
      "Need 0 and 2  but got 5\n"
     ]
    }
   ],
   "source": [
    "try:\n",
    "    short_list[position]\n",
    "except:\n",
    "    print(\"Need 0 and\",len(short_list)-1, ' but got',position)"
   ]
  },
  {
   "cell_type": "code",
   "execution_count": 232,
   "id": "cd0bb977",
   "metadata": {},
   "outputs": [],
   "source": [
    "# try 문의 코드를 실행할 때 에러가 있다면 예외가 발생하고 except 문의 코드가 실행된다. \n",
    "# try 문에 에러가 없다면 except 문을 건너뛴다.\n",
    "# 예외 타입을 넘어 세부정보를 알고싶다면 변수 이름에서 예외객체 전체를 얻을수있다.\n",
    "# except 예외 타입 as 이름"
   ]
  },
  {
   "cell_type": "code",
   "execution_count": 233,
   "id": "6070eb14",
   "metadata": {},
   "outputs": [],
   "source": [
    "short_list=[1,2,3]"
   ]
  },
  {
   "cell_type": "code",
   "execution_count": 237,
   "id": "e4ed1d99",
   "metadata": {},
   "outputs": [
    {
     "name": "stdout",
     "output_type": "stream",
     "text": [
      "Position [q to quit]? asd\n",
      "Something else broke invalid literal for int() with base 10: 'asd'\n",
      "Position [q to quit]? asdasd\n",
      "Something else broke invalid literal for int() with base 10: 'asdasd'\n",
      "Position [q to quit]? q\n"
     ]
    }
   ],
   "source": [
    "while True:\n",
    "    value = input('Position [q to quit]? ')\n",
    "    if value == 'q':\n",
    "        break\n",
    "    try:\n",
    "        position = int(value)\n",
    "        print(short_list[position])\n",
    "    except IndexError as err:\n",
    "        print('Bad index:',position)\n",
    "    except Exception as other:\n",
    "        print('Something else broke',other)"
   ]
  },
  {
   "cell_type": "code",
   "execution_count": 239,
   "id": "1888ad4f",
   "metadata": {},
   "outputs": [],
   "source": [
    "# 예외 만들기 \n",
    "# 새로운 예외 유형을 정의하려면 클래스 객체 타입을 정의해야 한다"
   ]
  },
  {
   "cell_type": "code",
   "execution_count": 240,
   "id": "c2071908",
   "metadata": {},
   "outputs": [],
   "source": [
    "# 예외는 클래스고, Exception 클래스의 자식이다.\n",
    "# 다음 예제에서 words 문자열에 대문자가 있을때 예외를 만들어보자."
   ]
  },
  {
   "cell_type": "code",
   "execution_count": 241,
   "id": "de2f3347",
   "metadata": {},
   "outputs": [],
   "source": [
    "class UppercaseException(Exception):\n",
    "    pass"
   ]
  },
  {
   "cell_type": "code",
   "execution_count": 242,
   "id": "8e43b94f",
   "metadata": {},
   "outputs": [],
   "source": [
    "words=['eenie','meenie','miny','MO']"
   ]
  },
  {
   "cell_type": "code",
   "execution_count": 243,
   "id": "2e62cc24",
   "metadata": {},
   "outputs": [
    {
     "ename": "UppercaseException",
     "evalue": "MO",
     "output_type": "error",
     "traceback": [
      "\u001b[1;31m---------------------------------------------------------------------------\u001b[0m",
      "\u001b[1;31mUppercaseException\u001b[0m                        Traceback (most recent call last)",
      "Cell \u001b[1;32mIn[243], line 3\u001b[0m\n\u001b[0;32m      1\u001b[0m \u001b[38;5;28;01mfor\u001b[39;00m word \u001b[38;5;129;01min\u001b[39;00m words:\n\u001b[0;32m      2\u001b[0m     \u001b[38;5;28;01mif\u001b[39;00m word\u001b[38;5;241m.\u001b[39misupper():\n\u001b[1;32m----> 3\u001b[0m         \u001b[38;5;28;01mraise\u001b[39;00m UppercaseException(word)\n",
      "\u001b[1;31mUppercaseException\u001b[0m: MO"
     ]
    }
   ],
   "source": [
    "for word in words:\n",
    "    if word.isupper():\n",
    "        raise UppercaseException(word)"
   ]
  },
  {
   "cell_type": "code",
   "execution_count": 244,
   "id": "27bbc0b5",
   "metadata": {},
   "outputs": [
    {
     "name": "stdout",
     "output_type": "stream",
     "text": [
      "panic\n"
     ]
    }
   ],
   "source": [
    "try:\n",
    "    raise UppercaseException('panic')\n",
    "except UppercaseException as exc:\n",
    "    print(exc)"
   ]
  },
  {
   "cell_type": "code",
   "execution_count": null,
   "id": "fccf22b1",
   "metadata": {},
   "outputs": [],
   "source": [
    "# 241p 마지막쪽 오타 Ooops가 아니라 Upper임 "
   ]
  }
 ],
 "metadata": {
  "kernelspec": {
   "display_name": "Python 3 (ipykernel)",
   "language": "python",
   "name": "python3"
  },
  "language_info": {
   "codemirror_mode": {
    "name": "ipython",
    "version": 3
   },
   "file_extension": ".py",
   "mimetype": "text/x-python",
   "name": "python",
   "nbconvert_exporter": "python",
   "pygments_lexer": "ipython3",
   "version": "3.11.5"
  }
 },
 "nbformat": 4,
 "nbformat_minor": 5
}
