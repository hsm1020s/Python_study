{
 "cells": [
  {
   "cell_type": "code",
   "execution_count": null,
   "id": "c7edfb87",
   "metadata": {},
   "outputs": [],
   "source": [
    "# 177"
   ]
  },
  {
   "cell_type": "code",
   "execution_count": null,
   "id": "1b1f4439",
   "metadata": {},
   "outputs": [],
   "source": [
    "# 딕셔너리는 리스트와 비슷하다. \n",
    "# 다른 점은 항목의 순서를 따지지 않으며，0 또는 1과 같 은 오프셋으로 항목을 선택할 수 없다. \n",
    "# 대신 값—에 상혜는 고유한 키너를 지정한다. \n",
    "# 이러한 키는 대부분 문자열이지만，불변하는 파이썬의 어떤 타입（불리언, 정수，부동소수점，튜플， 문자열 등）\n",
    "# 이 될 수 있다. \n",
    "# 딕셔너리는 변경 가능하므로 키:값 요소를 추가，삭제，수정할 수 있다. \n",
    "# 지금까지 배열이나 리스트만 지원한 언어를 사용했다면，딕셔너리를 좋아할 것이다."
   ]
  },
  {
   "cell_type": "code",
   "execution_count": null,
   "id": "3579d1df",
   "metadata": {},
   "outputs": [],
   "source": [
    "# 다른 언어에서는 딕셔너리를 연관 배열,해시,해시맵 이라고 부른다. \n",
    "#또한 파이썬에서는 딕셔너리를 딕트 dlrt라고도 부른다."
   ]
  },
  {
   "cell_type": "code",
   "execution_count": 1,
   "id": "35aefce7",
   "metadata": {},
   "outputs": [],
   "source": [
    "empty_dict ={}"
   ]
  },
  {
   "cell_type": "code",
   "execution_count": 2,
   "id": "0c467206",
   "metadata": {},
   "outputs": [
    {
     "data": {
      "text/plain": [
       "{}"
      ]
     },
     "execution_count": 2,
     "metadata": {},
     "output_type": "execute_result"
    }
   ],
   "source": [
    "empty_dict"
   ]
  },
  {
   "cell_type": "code",
   "execution_count": 8,
   "id": "874d24e0",
   "metadata": {},
   "outputs": [],
   "source": [
    "bierce = {\n",
    "    \"day\": \"A period of twenty-four hours, mostly misspent\",\n",
    "    \"positive\": \"Mistaken at the top of one's voice\",\n",
    "    \"misfortune\": \"The kind of fortune that nerver misses\", #마지막에 콤마는 쓸필요없음.\n",
    "}"
   ]
  },
  {
   "cell_type": "code",
   "execution_count": 9,
   "id": "56d1134a",
   "metadata": {},
   "outputs": [
    {
     "data": {
      "text/plain": [
       "{'day': 'A period of twenty-four hours, mostly misspent',\n",
       " 'positive': \"Mistaken at the top of one's voice\",\n",
       " 'misfortune': 'The kind of fortune that nerver misses'}"
      ]
     },
     "execution_count": 9,
     "metadata": {},
     "output_type": "execute_result"
    }
   ],
   "source": [
    "bierce"
   ]
  },
  {
   "cell_type": "code",
   "execution_count": 10,
   "id": "cb5d8eb5",
   "metadata": {},
   "outputs": [],
   "source": [
    "acme_customer = {'first': 'Wile','middle': 'E', 'last':'Coyote'}"
   ]
  },
  {
   "cell_type": "code",
   "execution_count": 11,
   "id": "5722de37",
   "metadata": {},
   "outputs": [
    {
     "data": {
      "text/plain": [
       "{'first': 'Wile', 'middle': 'E', 'last': 'Coyote'}"
      ]
     },
     "execution_count": 11,
     "metadata": {},
     "output_type": "execute_result"
    }
   ],
   "source": [
    "acme_customer"
   ]
  },
  {
   "cell_type": "code",
   "execution_count": 12,
   "id": "237f1a14",
   "metadata": {},
   "outputs": [],
   "source": [
    "# dict() 함수 사용 방법:"
   ]
  },
  {
   "cell_type": "code",
   "execution_count": 2,
   "id": "00e97754",
   "metadata": {},
   "outputs": [
    {
     "data": {
      "text/plain": [
       "{'first': 'Wile', 'middle': 'E', 'last': 'Coyote'}"
      ]
     },
     "execution_count": 2,
     "metadata": {},
     "output_type": "execute_result"
    }
   ],
   "source": [
    "acme_customer = dict(first=\"Wile\",middle='E',last=\"Coyote\")\n",
    "acme_customer"
   ]
  },
  {
   "cell_type": "code",
   "execution_count": 3,
   "id": "214e1f80",
   "metadata": {},
   "outputs": [
    {
     "ename": "SyntaxError",
     "evalue": "invalid syntax (3543799228.py, line 1)",
     "output_type": "error",
     "traceback": [
      "\u001b[1;36m  Cell \u001b[1;32mIn[3], line 1\u001b[1;36m\u001b[0m\n\u001b[1;33m    x= dict(name=\"Elmer\",def=\"hunter\")\u001b[0m\n\u001b[1;37m                         ^\u001b[0m\n\u001b[1;31mSyntaxError\u001b[0m\u001b[1;31m:\u001b[0m invalid syntax\n"
     ]
    }
   ],
   "source": [
    "x= dict(name=\"Elmer\",def=\"hunter\") # 한 가지 제약 사항은 인수 이름이 (공백과 예약어가 없는) 유효한 변수 이름이어야"
   ]
  },
  {
   "cell_type": "code",
   "execution_count": null,
   "id": "d0e4c1f7",
   "metadata": {},
   "outputs": [],
   "source": [
    "# 변환하기 : dict()   179p"
   ]
  },
  {
   "cell_type": "code",
   "execution_count": 4,
   "id": "9171900b",
   "metadata": {},
   "outputs": [],
   "source": [
    "lol=[['a','b'],['c','d'],['e','f']]"
   ]
  },
  {
   "cell_type": "code",
   "execution_count": 5,
   "id": "880d1be5",
   "metadata": {},
   "outputs": [
    {
     "data": {
      "text/plain": [
       "{'a': 'b', 'c': 'd', 'e': 'f'}"
      ]
     },
     "execution_count": 5,
     "metadata": {},
     "output_type": "execute_result"
    }
   ],
   "source": [
    "dict(lol)"
   ]
  },
  {
   "cell_type": "code",
   "execution_count": 6,
   "id": "567c0151",
   "metadata": {},
   "outputs": [],
   "source": [
    "lot=[('a','b'),('c','d'),('e','f')]"
   ]
  },
  {
   "cell_type": "code",
   "execution_count": 7,
   "id": "e9727569",
   "metadata": {},
   "outputs": [
    {
     "data": {
      "text/plain": [
       "{'a': 'b', 'c': 'd', 'e': 'f'}"
      ]
     },
     "execution_count": 7,
     "metadata": {},
     "output_type": "execute_result"
    }
   ],
   "source": [
    "dict(lot)"
   ]
  },
  {
   "cell_type": "code",
   "execution_count": null,
   "id": "f58412d1",
   "metadata": {},
   "outputs": [],
   "source": [
    "#다음 두 항목은 리스트로 구성된 튜플이다. "
   ]
  },
  {
   "cell_type": "code",
   "execution_count": 1,
   "id": "8c936b8b",
   "metadata": {},
   "outputs": [],
   "source": [
    "tol= (['a','b'],['c','d'],['e','f'])"
   ]
  },
  {
   "cell_type": "code",
   "execution_count": 2,
   "id": "0bde16b6",
   "metadata": {},
   "outputs": [
    {
     "data": {
      "text/plain": [
       "{'a': 'b', 'c': 'd', 'e': 'f'}"
      ]
     },
     "execution_count": 2,
     "metadata": {},
     "output_type": "execute_result"
    }
   ],
   "source": [
    "dict(tol)"
   ]
  },
  {
   "cell_type": "code",
   "execution_count": 3,
   "id": "0c51351d",
   "metadata": {},
   "outputs": [],
   "source": [
    "los= ['ab','cd','ef'] # 두 문자열로 구성된 리스트"
   ]
  },
  {
   "cell_type": "code",
   "execution_count": 4,
   "id": "c510476d",
   "metadata": {},
   "outputs": [
    {
     "data": {
      "text/plain": [
       "{'a': 'b', 'c': 'd', 'e': 'f'}"
      ]
     },
     "execution_count": 4,
     "metadata": {},
     "output_type": "execute_result"
    }
   ],
   "source": [
    "dict(los)"
   ]
  },
  {
   "cell_type": "code",
   "execution_count": 5,
   "id": "4b926eca",
   "metadata": {},
   "outputs": [],
   "source": [
    "tos=('ab','cd','ef')"
   ]
  },
  {
   "cell_type": "code",
   "execution_count": 6,
   "id": "64aca443",
   "metadata": {},
   "outputs": [
    {
     "data": {
      "text/plain": [
       "{'a': 'b', 'c': 'd', 'e': 'f'}"
      ]
     },
     "execution_count": 6,
     "metadata": {},
     "output_type": "execute_result"
    }
   ],
   "source": [
    "dict(tos)"
   ]
  },
  {
   "cell_type": "code",
   "execution_count": null,
   "id": "c620f0af",
   "metadata": {},
   "outputs": [],
   "source": [
    "# 항목 추가/변경 : [key]"
   ]
  },
  {
   "cell_type": "code",
   "execution_count": null,
   "id": "c3f396c3",
   "metadata": {},
   "outputs": [],
   "source": [
    "# 딕셔너리에 항목을 추가하는 것은 간단하다. \n",
    "# 키에 참조되는 항목에 값을 할당하면 된다. \n",
    "# 딕셔 너리에 이미 존재하는 키라면 그 값은 새 값으로 대체된다. \n",
    "# 키가 존재하지 않다면 새 값과 키가 사전에 추가된다. \n",
    "# 리스트와 달리 딕셔너리를 할당할 때는 인덱스 범위가 벗어나는 예외에 대해 \n",
    "# 걱정할 필요가 없다."
   ]
  },
  {
   "cell_type": "code",
   "execution_count": 11,
   "id": "c7267bd0",
   "metadata": {},
   "outputs": [],
   "source": [
    "pythons={\n",
    "    'Chapman':'Graham',\n",
    "    'Cleese':'John',\n",
    "    'Idle':'Eric',\n",
    "    'Jones':'Terry',\n",
    "    'Palin': 'Michael',\n",
    "    }"
   ]
  },
  {
   "cell_type": "code",
   "execution_count": 12,
   "id": "42dabe4f",
   "metadata": {},
   "outputs": [
    {
     "data": {
      "text/plain": [
       "{'Chapman': 'Graham',\n",
       " 'Cleese': 'John',\n",
       " 'Idle': 'Eric',\n",
       " 'Jones': 'Terry',\n",
       " 'Palin': 'Michael'}"
      ]
     },
     "execution_count": 12,
     "metadata": {},
     "output_type": "execute_result"
    }
   ],
   "source": [
    "pythons"
   ]
  },
  {
   "cell_type": "code",
   "execution_count": 13,
   "id": "f4b2a901",
   "metadata": {},
   "outputs": [],
   "source": [
    "pythons['Gilliam'] = 'Gerry'"
   ]
  },
  {
   "cell_type": "code",
   "execution_count": 15,
   "id": "b5f3ba33",
   "metadata": {},
   "outputs": [
    {
     "data": {
      "text/plain": [
       "{'Chapman': 'Graham',\n",
       " 'Cleese': 'John',\n",
       " 'Idle': 'Eric',\n",
       " 'Jones': 'Terry',\n",
       " 'Palin': 'Michael',\n",
       " 'Gilliam': 'Gerry'}"
      ]
     },
     "execution_count": 15,
     "metadata": {},
     "output_type": "execute_result"
    }
   ],
   "source": [
    "pythons"
   ]
  },
  {
   "cell_type": "code",
   "execution_count": 16,
   "id": "b5c87809",
   "metadata": {},
   "outputs": [],
   "source": [
    "pythons['Gilliam'] = 'Terry'"
   ]
  },
  {
   "cell_type": "code",
   "execution_count": 19,
   "id": "897a91f8",
   "metadata": {},
   "outputs": [
    {
     "data": {
      "text/plain": [
       "{'Chapman': 'Graham',\n",
       " 'Cleese': 'John',\n",
       " 'Idle': 'Eric',\n",
       " 'Jones': 'Terry',\n",
       " 'Palin': 'Michael',\n",
       " 'Gilliam': 'Terry'}"
      ]
     },
     "execution_count": 19,
     "metadata": {},
     "output_type": "execute_result"
    }
   ],
   "source": [
    "pythons"
   ]
  },
  {
   "cell_type": "code",
   "execution_count": null,
   "id": "8b22efa1",
   "metadata": {},
   "outputs": [],
   "source": [
    "#딕셔너리의 키들은 반드시 고유해야 한다. \n",
    "#그래서 성 대신에 이름을 키로 사용했다. \n",
    "#몬티 파이 튼 두 멤버의 성이 'Terry' 다! \n",
    "#같은 키를 두 번 이상 사용하면 마지막 값으로 저장된다.  181"
   ]
  },
  {
   "cell_type": "code",
   "execution_count": 20,
   "id": "ba0859db",
   "metadata": {},
   "outputs": [],
   "source": [
    "some_pythons={\n",
    "    'Graham':'Chapman',\n",
    "    'John':'Cleese',\n",
    "    'Eric':'Idle',\n",
    "    'Terry':'Gilliam',\n",
    "    'Michael': 'Palin',\n",
    "    'Terry': 'Jones',\n",
    "    }"
   ]
  },
  {
   "cell_type": "code",
   "execution_count": null,
   "id": "7e4faf5c",
   "metadata": {},
   "outputs": [],
   "source": [
    "#8.1.5 항목 얻기 : [key]와 get()\n",
    "# 이것은 딕셔너리의 가장 일반적인 용도다. 딕셔너리에 키를 지정하여 상응하는 값을 얻는다. \n",
    "# 이전 절의 some_pythons 딕셔너리를 계속 사용한다."
   ]
  },
  {
   "cell_type": "code",
   "execution_count": 21,
   "id": "cd1ff099",
   "metadata": {},
   "outputs": [
    {
     "data": {
      "text/plain": [
       "'Cleese'"
      ]
     },
     "execution_count": 21,
     "metadata": {},
     "output_type": "execute_result"
    }
   ],
   "source": [
    "some_pythons['John']"
   ]
  },
  {
   "cell_type": "code",
   "execution_count": null,
   "id": "2af8ca11",
   "metadata": {},
   "outputs": [],
   "source": [
    "# 딕셔너리에 키가 없으면 다음과 같은 예외 발생"
   ]
  },
  {
   "cell_type": "code",
   "execution_count": 22,
   "id": "536cb7ac",
   "metadata": {},
   "outputs": [
    {
     "ename": "KeyError",
     "evalue": "'Groucho'",
     "output_type": "error",
     "traceback": [
      "\u001b[1;31m---------------------------------------------------------------------------\u001b[0m",
      "\u001b[1;31mKeyError\u001b[0m                                  Traceback (most recent call last)",
      "Cell \u001b[1;32mIn[22], line 1\u001b[0m\n\u001b[1;32m----> 1\u001b[0m some_pythons[\u001b[38;5;124m'\u001b[39m\u001b[38;5;124mGroucho\u001b[39m\u001b[38;5;124m'\u001b[39m]\n",
      "\u001b[1;31mKeyError\u001b[0m: 'Groucho'"
     ]
    }
   ],
   "source": [
    "some_pythons['Groucho'] # 에러"
   ]
  },
  {
   "cell_type": "code",
   "execution_count": 23,
   "id": "6d3ee6c3",
   "metadata": {},
   "outputs": [
    {
     "data": {
      "text/plain": [
       "False"
      ]
     },
     "execution_count": 23,
     "metadata": {},
     "output_type": "execute_result"
    }
   ],
   "source": [
    "'Groucho' in some_pythons # in으로 키에 대한 멤버십 테스트 "
   ]
  },
  {
   "cell_type": "code",
   "execution_count": 24,
   "id": "c035c6f3",
   "metadata": {},
   "outputs": [
    {
     "data": {
      "text/plain": [
       "'Cleese'"
      ]
     },
     "execution_count": 24,
     "metadata": {},
     "output_type": "execute_result"
    }
   ],
   "source": [
    "some_pythons.get('John') # 딕셔너리의 get() 함수를 사용해서 얻어오는 방법"
   ]
  },
  {
   "cell_type": "code",
   "execution_count": 25,
   "id": "08289967",
   "metadata": {},
   "outputs": [
    {
     "data": {
      "text/plain": [
       "'Not a Python'"
      ]
     },
     "execution_count": 25,
     "metadata": {},
     "output_type": "execute_result"
    }
   ],
   "source": [
    "some_pythons.get('Groucho', 'Not a Python')"
   ]
  },
  {
   "cell_type": "code",
   "execution_count": null,
   "id": "1a65573b",
   "metadata": {},
   "outputs": [],
   "source": []
  },
  {
   "cell_type": "code",
   "execution_count": null,
   "id": "4269fd5e",
   "metadata": {},
   "outputs": [],
   "source": []
  },
  {
   "cell_type": "code",
   "execution_count": null,
   "id": "8d053b38",
   "metadata": {},
   "outputs": [],
   "source": []
  },
  {
   "cell_type": "code",
   "execution_count": null,
   "id": "e6ad0a8f",
   "metadata": {},
   "outputs": [],
   "source": []
  },
  {
   "cell_type": "code",
   "execution_count": null,
   "id": "5fbb9114",
   "metadata": {},
   "outputs": [],
   "source": []
  },
  {
   "cell_type": "code",
   "execution_count": null,
   "id": "93c093ca",
   "metadata": {},
   "outputs": [],
   "source": []
  },
  {
   "cell_type": "code",
   "execution_count": null,
   "id": "59deff4b",
   "metadata": {},
   "outputs": [],
   "source": []
  },
  {
   "cell_type": "code",
   "execution_count": null,
   "id": "5d528644",
   "metadata": {},
   "outputs": [],
   "source": []
  },
  {
   "cell_type": "code",
   "execution_count": null,
   "id": "b8802ebd",
   "metadata": {},
   "outputs": [],
   "source": []
  },
  {
   "cell_type": "code",
   "execution_count": null,
   "id": "d86fabe9",
   "metadata": {},
   "outputs": [],
   "source": []
  },
  {
   "cell_type": "code",
   "execution_count": null,
   "id": "7527f5a2",
   "metadata": {},
   "outputs": [],
   "source": []
  },
  {
   "cell_type": "code",
   "execution_count": null,
   "id": "1ed0e2f9",
   "metadata": {},
   "outputs": [],
   "source": []
  },
  {
   "cell_type": "code",
   "execution_count": null,
   "id": "c1fa0a55",
   "metadata": {},
   "outputs": [],
   "source": []
  },
  {
   "cell_type": "code",
   "execution_count": null,
   "id": "31601738",
   "metadata": {},
   "outputs": [],
   "source": []
  },
  {
   "cell_type": "code",
   "execution_count": null,
   "id": "42b25aa2",
   "metadata": {},
   "outputs": [],
   "source": []
  },
  {
   "cell_type": "code",
   "execution_count": null,
   "id": "dd1a04a5",
   "metadata": {},
   "outputs": [],
   "source": []
  },
  {
   "cell_type": "code",
   "execution_count": null,
   "id": "409fb7d1",
   "metadata": {},
   "outputs": [],
   "source": []
  },
  {
   "cell_type": "code",
   "execution_count": null,
   "id": "b4c914ea",
   "metadata": {},
   "outputs": [],
   "source": []
  },
  {
   "cell_type": "code",
   "execution_count": null,
   "id": "d0507a33",
   "metadata": {},
   "outputs": [],
   "source": []
  },
  {
   "cell_type": "code",
   "execution_count": null,
   "id": "6d7b04ca",
   "metadata": {},
   "outputs": [],
   "source": []
  },
  {
   "cell_type": "code",
   "execution_count": null,
   "id": "6150de2a",
   "metadata": {},
   "outputs": [],
   "source": []
  },
  {
   "cell_type": "code",
   "execution_count": null,
   "id": "d7fdb3b2",
   "metadata": {},
   "outputs": [],
   "source": []
  },
  {
   "cell_type": "code",
   "execution_count": null,
   "id": "56ff79a6",
   "metadata": {},
   "outputs": [],
   "source": []
  },
  {
   "cell_type": "code",
   "execution_count": null,
   "id": "fd05afa8",
   "metadata": {},
   "outputs": [],
   "source": []
  }
 ],
 "metadata": {
  "kernelspec": {
   "display_name": "Python 3 (ipykernel)",
   "language": "python",
   "name": "python3"
  },
  "language_info": {
   "codemirror_mode": {
    "name": "ipython",
    "version": 3
   },
   "file_extension": ".py",
   "mimetype": "text/x-python",
   "name": "python",
   "nbconvert_exporter": "python",
   "pygments_lexer": "ipython3",
   "version": "3.11.5"
  }
 },
 "nbformat": 4,
 "nbformat_minor": 5
}
