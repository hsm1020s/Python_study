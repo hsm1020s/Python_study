{
 "cells": [
  {
   "cell_type": "code",
   "execution_count": 1,
   "id": "88b3e640",
   "metadata": {},
   "outputs": [],
   "source": [
    "# 컴퓨터 프로그램은 일상에서 일어나는 일과 크게 다르지 않다. \n",
    "# 작은 파이썬 프로그램은 현업에 서 사용하는 언어의 외형，기능，용도를 엿볼 수 있다. \n",
    "# 대화식 인터프리터 또는 컴퓨터에 있는 텍스트 파일의 파이썬 프로그램을 실행한다."
   ]
  },
  {
   "cell_type": "code",
   "execution_count": 2,
   "id": "b87b3ec2",
   "metadata": {},
   "outputs": [
    {
     "name": "stdout",
     "output_type": "stream",
     "text": [
      "5\n",
      "4\n",
      "3\n",
      "2\n",
      "1\n",
      "hey!\n"
     ]
    }
   ],
   "source": [
    "for countdown in 5,4,3,2,1, \"hey!\":\n",
    "    print(countdown)"
   ]
  },
  {
   "cell_type": "code",
   "execution_count": 3,
   "id": "be4fb131",
   "metadata": {},
   "outputs": [],
   "source": [
    "#파이썬 프로그램에는 for, in, print, , （콤마），: （콜론），（ ） （괄호） 등 \n",
    "#몇 가지 특별한 단어 와 기호가 있다.\n",
    "#이것은 언어의 구문에서 중요한 부분을 차지한다."
   ]
  },
  {
   "cell_type": "code",
   "execution_count": 4,
   "id": "025643ec",
   "metadata": {},
   "outputs": [
    {
     "name": "stdout",
     "output_type": "stream",
     "text": [
      "Expecto  Patronum!\n"
     ]
    }
   ],
   "source": [
    "spells = [\n",
    "    \"Riddikulus!\",\n",
    "    \"Wingardium Leviosa!\", \n",
    "    \"Avada  Kedavra!\",\n",
    "    \"Expecto  Patronum!\", \n",
    "    \"Nox!\",\n",
    "    \"Lumos!\",\n",
    "]\n",
    "print(spells[3])"
   ]
  },
  {
   "cell_type": "code",
   "execution_count": 5,
   "id": "f8fa8600",
   "metadata": {},
   "outputs": [],
   "source": [
    "# 리스트의 개별 단어들은 파이썬 문자열 \n",
    "# 파이썬 리스트는 대괄호 사용 "
   ]
  },
  {
   "cell_type": "code",
   "execution_count": 6,
   "id": "de14c0b7",
   "metadata": {},
   "outputs": [
    {
     "name": "stdout",
     "output_type": "stream",
     "text": [
      "Curly says: Nyuk nyuk!\n"
     ]
    }
   ],
   "source": [
    "quotes ={\n",
    "    \"Moe\":  \"A wise guy,  huh?\", \n",
    "    \"Larry\":  \"Owl\",\n",
    "    \"Curly\":  \"Nyuk nyuk!\", \n",
    "    }\n",
    "stooge = \"Curly\"\n",
    "print(stooge,  \"says:\",  quotes[stooge]) "
   ]
  },
  {
   "cell_type": "code",
   "execution_count": 7,
   "id": "fb9a4af8",
   "metadata": {},
   "outputs": [],
   "source": [
    "#코드 넣을때 대괄호 조심 "
   ]
  },
  {
   "cell_type": "code",
   "execution_count": 8,
   "id": "54af2a03",
   "metadata": {},
   "outputs": [],
   "source": [
    "#변수 quotes는 파이썬 딕셔너리다. \n",
    "#딕셔너리는 키의 모임과, 값으로 이루어져있다"
   ]
  },
  {
   "cell_type": "code",
   "execution_count": null,
   "id": "541b38cc",
   "metadata": {},
   "outputs": [],
   "source": []
  },
  {
   "cell_type": "code",
   "execution_count": 9,
   "id": "6a9b1a65",
   "metadata": {},
   "outputs": [
    {
     "name": "stdout",
     "output_type": "stream",
     "text": [
      "Let's find an  old website.\n",
      "Type a  website URL:   www.naver.com\n",
      "Type a  year,  month,  and  day,  like 20150613:  20231107\n",
      "Found this copy:   http://web.archive.org/web/20231107004744/https://www.naver.com/\n",
      "It should appear in your browser  now.\n"
     ]
    }
   ],
   "source": [
    "import webbrowser\n",
    "import json\n",
    "from urllib.request import urlopen\n",
    "\n",
    "print(\"Let's find an  old website.\")\n",
    "site =  input(\"Type a  website URL:   \")\n",
    "era  =  input(\"Type a  year,  month,  and  day,  like 20150613:  \")\n",
    "url =  \"http://archive.org/wayback/available?url=%s&timestamp=%s\" %(site, era)\n",
    "response =  urlopen(url)\n",
    "contents =  response.read()\n",
    "text =  contents.decode(\"utf-8\")\n",
    "data = json.loads(text)\n",
    "try:\n",
    "    old_site =  data[\"archived_snapshots\"][\"closest\"][\"url\"]\n",
    "    print(\"Found this copy:  \", old_site)\n",
    "    print(\"It should appear in your browser  now.\")\n",
    "    webbrowser.open(old_site)\n",
    "except:\n",
    "    print(\"Sorry, no  luck finding\", site)"
   ]
  },
  {
   "cell_type": "code",
   "execution_count": null,
   "id": "cbb2c2fd",
   "metadata": {},
   "outputs": [],
   "source": []
  },
  {
   "cell_type": "code",
   "execution_count": 10,
   "id": "4544a116",
   "metadata": {},
   "outputs": [
    {
     "name": "stdout",
     "output_type": "stream",
     "text": [
      "Let's find an  old website.\n",
      "Type a  website URL:   www.naver.com\n",
      "Type a  year,  month,  and  day,  like 20150613:  20231107\n",
      "Found this copy:   http://web.archive.org/web/20231107004744/https://www.naver.com/\n",
      "It should appear in your browser now.\n"
     ]
    }
   ],
   "source": [
    "import webbrowser\n",
    "import  requests\n",
    "\n",
    "print(\"Let's find an  old website.\")\n",
    "site =  input(\"Type a  website URL:   \")\n",
    "era =  input(\"Type a  year,  month,  and  day,  like 20150613:  \")\n",
    "url =  \"http://archive.org/wayback/available?url=%s&timestamp=%s\" % (site, era)\n",
    "response =  requests.get(url)\n",
    "data =  response.json()\n",
    "try:\n",
    "    old_site =  data[\"archived_snapshots\"][\"closest\"][\"url\"]\n",
    "    print(\"Found this copy:  \", old_site)\n",
    "    print(\"It should appear in your browser now.\")\n",
    "    webbrowser.open(old_site)\n",
    "except:\n",
    "         print(\"Sorry, no  luck finding\", site)"
   ]
  },
  {
   "cell_type": "code",
   "execution_count": 11,
   "id": "4d61d56d",
   "metadata": {},
   "outputs": [],
   "source": [
    "# 1.4 파이썬 활용"
   ]
  },
  {
   "cell_type": "code",
   "execution_count": 12,
   "id": "ec207f72",
   "metadata": {},
   "outputs": [],
   "source": [
    "#C, C++ , 자바는 정적 언어다.\n",
    "#반대로 동적 언어( 스크립트 언어 라고 부르기도 하는거)는 변수타입을\n",
    "#사용하기 전에 선언하지 않아도 된다."
   ]
  },
  {
   "cell_type": "code",
   "execution_count": null,
   "id": "2c659b80",
   "metadata": {},
   "outputs": [],
   "source": []
  },
  {
   "cell_type": "code",
   "execution_count": 13,
   "id": "ec84d45e",
   "metadata": {},
   "outputs": [],
   "source": [
    "#파이썬 파일 사용하기#"
   ]
  },
  {
   "cell_type": "code",
   "execution_count": 14,
   "id": "b929bef1",
   "metadata": {},
   "outputs": [
    {
     "name": "stdout",
     "output_type": "stream",
     "text": [
      "27\n"
     ]
    }
   ],
   "source": [
    "print(27)"
   ]
  },
  {
   "cell_type": "code",
   "execution_count": 15,
   "id": "674201dc",
   "metadata": {},
   "outputs": [
    {
     "name": "stdout",
     "output_type": "stream",
     "text": [
      "The Zen of Python, by Tim Peters\n",
      "\n",
      "Beautiful is better than ugly.\n",
      "Explicit is better than implicit.\n",
      "Simple is better than complex.\n",
      "Complex is better than complicated.\n",
      "Flat is better than nested.\n",
      "Sparse is better than dense.\n",
      "Readability counts.\n",
      "Special cases aren't special enough to break the rules.\n",
      "Although practicality beats purity.\n",
      "Errors should never pass silently.\n",
      "Unless explicitly silenced.\n",
      "In the face of ambiguity, refuse the temptation to guess.\n",
      "There should be one-- and preferably only one --obvious way to do it.\n",
      "Although that way may not be obvious at first unless you're Dutch.\n",
      "Now is better than never.\n",
      "Although never is often better than *right* now.\n",
      "If the implementation is hard to explain, it's a bad idea.\n",
      "If the implementation is easy to explain, it may be a good idea.\n",
      "Namespaces are one honking great idea -- let's do more of those!\n"
     ]
    }
   ],
   "source": [
    "import this"
   ]
  },
  {
   "cell_type": "code",
   "execution_count": 16,
   "id": "2597eb69",
   "metadata": {},
   "outputs": [
    {
     "data": {
      "text/plain": [
       "47"
      ]
     },
     "execution_count": 16,
     "metadata": {},
     "output_type": "execute_result"
    }
   ],
   "source": [
    "47"
   ]
  },
  {
   "cell_type": "code",
   "execution_count": 17,
   "id": "883d15b0",
   "metadata": {},
   "outputs": [
    {
     "name": "stdout",
     "output_type": "stream",
     "text": [
      "47\n"
     ]
    }
   ],
   "source": [
    "print(47)"
   ]
  },
  {
   "cell_type": "code",
   "execution_count": 18,
   "id": "769add8a",
   "metadata": {},
   "outputs": [
    {
     "data": {
      "text/plain": [
       "int"
      ]
     },
     "execution_count": 18,
     "metadata": {},
     "output_type": "execute_result"
    }
   ],
   "source": [
    "type(47)"
   ]
  },
  {
   "cell_type": "code",
   "execution_count": 19,
   "id": "6042d7d7",
   "metadata": {},
   "outputs": [
    {
     "name": "stdout",
     "output_type": "stream",
     "text": [
      "47\n"
     ]
    },
    {
     "data": {
      "text/plain": [
       "NoneType"
      ]
     },
     "execution_count": 19,
     "metadata": {},
     "output_type": "execute_result"
    }
   ],
   "source": [
    "type(print(47))"
   ]
  },
  {
   "cell_type": "code",
   "execution_count": 20,
   "id": "b9555453",
   "metadata": {},
   "outputs": [],
   "source": [
    "# ch2 시작"
   ]
  },
  {
   "cell_type": "code",
   "execution_count": 22,
   "id": "f4d2aa10",
   "metadata": {},
   "outputs": [],
   "source": [
    "#파이썬 데이터는 객체다 \n",
    "#리터럴 값\n",
    "#파이썬에서 데이터 값을 명시하는 두 가지 방법이 있다.\n",
    "#리터럴\n",
    "#변수"
   ]
  },
  {
   "cell_type": "code",
   "execution_count": 23,
   "id": "da94eb9f",
   "metadata": {},
   "outputs": [],
   "source": [
    "#2.7 변수는 장소가 아니라 이름이다. \n",
    "#할당은 값을 복사하지 않으며 단지 데이터를 포함하는 객체에 이름을 붙인다."
   ]
  },
  {
   "cell_type": "code",
   "execution_count": 24,
   "id": "b523381b",
   "metadata": {},
   "outputs": [],
   "source": [
    "#클래스는 객체의 정의이다. -> 이건 10장에 나옴"
   ]
  },
  {
   "cell_type": "code",
   "execution_count": 25,
   "id": "2f9de445",
   "metadata": {},
   "outputs": [],
   "source": [
    "#객체 참조 카운트가 0이면\n",
    "#아무도 가리키는 이름이 없으므로 더 이상 필요 없다."
   ]
  },
  {
   "cell_type": "code",
   "execution_count": null,
   "id": "014ef99c",
   "metadata": {},
   "outputs": [],
   "source": []
  },
  {
   "cell_type": "code",
   "execution_count": 26,
   "id": "dcc1fc13",
   "metadata": {},
   "outputs": [],
   "source": [
    "#2.13 연습문제"
   ]
  },
  {
   "cell_type": "code",
   "execution_count": 27,
   "id": "2ce441f1",
   "metadata": {},
   "outputs": [],
   "source": [
    "prince = 29"
   ]
  },
  {
   "cell_type": "code",
   "execution_count": 28,
   "id": "9481d2cb",
   "metadata": {},
   "outputs": [
    {
     "name": "stdout",
     "output_type": "stream",
     "text": [
      "29\n"
     ]
    }
   ],
   "source": [
    "print(prince)"
   ]
  },
  {
   "cell_type": "code",
   "execution_count": 29,
   "id": "87eaec5b",
   "metadata": {},
   "outputs": [
    {
     "data": {
      "text/plain": [
       "int"
      ]
     },
     "execution_count": 29,
     "metadata": {},
     "output_type": "execute_result"
    }
   ],
   "source": [
    "type(5)"
   ]
  },
  {
   "cell_type": "code",
   "execution_count": 30,
   "id": "a6308d0e",
   "metadata": {},
   "outputs": [
    {
     "data": {
      "text/plain": [
       "float"
      ]
     },
     "execution_count": 30,
     "metadata": {},
     "output_type": "execute_result"
    }
   ],
   "source": [
    "type(2.0)"
   ]
  },
  {
   "cell_type": "code",
   "execution_count": 31,
   "id": "3b6b90b3",
   "metadata": {},
   "outputs": [
    {
     "data": {
      "text/plain": [
       "float"
      ]
     },
     "execution_count": 31,
     "metadata": {},
     "output_type": "execute_result"
    }
   ],
   "source": [
    "type(5+2.0)"
   ]
  },
  {
   "cell_type": "code",
   "execution_count": 32,
   "id": "66cc80ec",
   "metadata": {},
   "outputs": [
    {
     "data": {
      "text/plain": [
       "True"
      ]
     },
     "execution_count": 32,
     "metadata": {},
     "output_type": "execute_result"
    }
   ],
   "source": [
    "bool(True)"
   ]
  },
  {
   "cell_type": "code",
   "execution_count": 33,
   "id": "91e78c06",
   "metadata": {},
   "outputs": [
    {
     "data": {
      "text/plain": [
       "True"
      ]
     },
     "execution_count": 33,
     "metadata": {},
     "output_type": "execute_result"
    }
   ],
   "source": [
    "bool(1)"
   ]
  },
  {
   "cell_type": "code",
   "execution_count": 34,
   "id": "00039071",
   "metadata": {},
   "outputs": [
    {
     "data": {
      "text/plain": [
       "True"
      ]
     },
     "execution_count": 34,
     "metadata": {},
     "output_type": "execute_result"
    }
   ],
   "source": [
    "bool(45)"
   ]
  },
  {
   "cell_type": "code",
   "execution_count": 35,
   "id": "e120289d",
   "metadata": {},
   "outputs": [
    {
     "data": {
      "text/plain": [
       "True"
      ]
     },
     "execution_count": 35,
     "metadata": {},
     "output_type": "execute_result"
    }
   ],
   "source": [
    "bool(-45)"
   ]
  },
  {
   "cell_type": "code",
   "execution_count": 36,
   "id": "bbdf561e",
   "metadata": {},
   "outputs": [
    {
     "data": {
      "text/plain": [
       "False"
      ]
     },
     "execution_count": 36,
     "metadata": {},
     "output_type": "execute_result"
    }
   ],
   "source": [
    "bool(False)"
   ]
  },
  {
   "cell_type": "code",
   "execution_count": 37,
   "id": "a6e34c00",
   "metadata": {},
   "outputs": [
    {
     "data": {
      "text/plain": [
       "False"
      ]
     },
     "execution_count": 37,
     "metadata": {},
     "output_type": "execute_result"
    }
   ],
   "source": [
    "bool(0)"
   ]
  },
  {
   "cell_type": "code",
   "execution_count": 38,
   "id": "d0cc9a6a",
   "metadata": {},
   "outputs": [
    {
     "data": {
      "text/plain": [
       "False"
      ]
     },
     "execution_count": 38,
     "metadata": {},
     "output_type": "execute_result"
    }
   ],
   "source": [
    "bool(0.0)"
   ]
  },
  {
   "cell_type": "code",
   "execution_count": 39,
   "id": "f714837d",
   "metadata": {},
   "outputs": [
    {
     "data": {
      "text/plain": [
       "5"
      ]
     },
     "execution_count": 39,
     "metadata": {},
     "output_type": "execute_result"
    }
   ],
   "source": [
    "5"
   ]
  },
  {
   "cell_type": "code",
   "execution_count": 40,
   "id": "1d2bf943",
   "metadata": {},
   "outputs": [
    {
     "data": {
      "text/plain": [
       "0"
      ]
     },
     "execution_count": 40,
     "metadata": {},
     "output_type": "execute_result"
    }
   ],
   "source": [
    "0"
   ]
  },
  {
   "cell_type": "code",
   "execution_count": 41,
   "id": "6033d7cf",
   "metadata": {},
   "outputs": [
    {
     "ename": "SyntaxError",
     "evalue": "leading zeros in decimal integer literals are not permitted; use an 0o prefix for octal integers (2350033160.py, line 1)",
     "output_type": "error",
     "traceback": [
      "\u001b[1;36m  Cell \u001b[1;32mIn[41], line 1\u001b[1;36m\u001b[0m\n\u001b[1;33m    05  #에러남.\u001b[0m\n\u001b[1;37m    ^\u001b[0m\n\u001b[1;31mSyntaxError\u001b[0m\u001b[1;31m:\u001b[0m leading zeros in decimal integer literals are not permitted; use an 0o prefix for octal integers\n"
     ]
    }
   ],
   "source": [
    "05  #에러남."
   ]
  },
  {
   "cell_type": "code",
   "execution_count": 42,
   "id": "afbb9848",
   "metadata": {},
   "outputs": [
    {
     "data": {
      "text/plain": [
       "123"
      ]
     },
     "execution_count": 42,
     "metadata": {},
     "output_type": "execute_result"
    }
   ],
   "source": [
    "123"
   ]
  },
  {
   "cell_type": "code",
   "execution_count": 43,
   "id": "66828c57",
   "metadata": {},
   "outputs": [
    {
     "data": {
      "text/plain": [
       "-123"
      ]
     },
     "execution_count": 43,
     "metadata": {},
     "output_type": "execute_result"
    }
   ],
   "source": [
    "-123"
   ]
  },
  {
   "cell_type": "code",
   "execution_count": 44,
   "id": "de98cdb9",
   "metadata": {},
   "outputs": [
    {
     "data": {
      "text/plain": [
       "123"
      ]
     },
     "execution_count": 44,
     "metadata": {},
     "output_type": "execute_result"
    }
   ],
   "source": [
    "+123"
   ]
  },
  {
   "cell_type": "code",
   "execution_count": 45,
   "id": "fa61b07d",
   "metadata": {},
   "outputs": [
    {
     "data": {
      "text/plain": [
       "1000000"
      ]
     },
     "execution_count": 45,
     "metadata": {},
     "output_type": "execute_result"
    }
   ],
   "source": [
    "1000000"
   ]
  },
  {
   "cell_type": "code",
   "execution_count": 46,
   "id": "468ef500",
   "metadata": {},
   "outputs": [
    {
     "data": {
      "text/plain": [
       "(1, 0, 0)"
      ]
     },
     "execution_count": 46,
     "metadata": {},
     "output_type": "execute_result"
    }
   ],
   "source": [
    "1,000,000 # 백만 이라는 숫자 대신 튜플을 얻는다. "
   ]
  },
  {
   "cell_type": "code",
   "execution_count": 47,
   "id": "58190bfa",
   "metadata": {},
   "outputs": [],
   "source": [
    "million = 1_000_000"
   ]
  },
  {
   "cell_type": "code",
   "execution_count": 48,
   "id": "11fea2df",
   "metadata": {},
   "outputs": [
    {
     "data": {
      "text/plain": [
       "1000000"
      ]
     },
     "execution_count": 48,
     "metadata": {},
     "output_type": "execute_result"
    }
   ],
   "source": [
    "million"
   ]
  },
  {
   "cell_type": "code",
   "execution_count": 49,
   "id": "eac46b0c",
   "metadata": {},
   "outputs": [
    {
     "data": {
      "text/plain": [
       "3.5"
      ]
     },
     "execution_count": 49,
     "metadata": {},
     "output_type": "execute_result"
    }
   ],
   "source": [
    "7/2 #부동소수점 나누기"
   ]
  },
  {
   "cell_type": "code",
   "execution_count": 50,
   "id": "9135eff6",
   "metadata": {},
   "outputs": [
    {
     "data": {
      "text/plain": [
       "3"
      ]
     },
     "execution_count": 50,
     "metadata": {},
     "output_type": "execute_result"
    }
   ],
   "source": [
    "7//2 # 정수 나누기(소수점 이하 버림)"
   ]
  },
  {
   "cell_type": "code",
   "execution_count": 51,
   "id": "139885db",
   "metadata": {},
   "outputs": [
    {
     "data": {
      "text/plain": [
       "1"
      ]
     },
     "execution_count": 51,
     "metadata": {},
     "output_type": "execute_result"
    }
   ],
   "source": [
    "7%3 # 나머지"
   ]
  },
  {
   "cell_type": "code",
   "execution_count": 52,
   "id": "706f63ef",
   "metadata": {},
   "outputs": [
    {
     "data": {
      "text/plain": [
       "81"
      ]
     },
     "execution_count": 52,
     "metadata": {},
     "output_type": "execute_result"
    }
   ],
   "source": [
    "3**4 # 지수"
   ]
  },
  {
   "cell_type": "code",
   "execution_count": 53,
   "id": "0a7fefc5",
   "metadata": {},
   "outputs": [],
   "source": [
    "#85페이지부터 "
   ]
  },
  {
   "cell_type": "code",
   "execution_count": 54,
   "id": "2ba093a6",
   "metadata": {},
   "outputs": [
    {
     "data": {
      "text/plain": [
       "2"
      ]
     },
     "execution_count": 54,
     "metadata": {},
     "output_type": "execute_result"
    }
   ],
   "source": [
    "0b10"
   ]
  },
  {
   "cell_type": "code",
   "execution_count": 55,
   "id": "b21b8b35",
   "metadata": {},
   "outputs": [
    {
     "data": {
      "text/plain": [
       "8"
      ]
     },
     "execution_count": 55,
     "metadata": {},
     "output_type": "execute_result"
    }
   ],
   "source": [
    "0o10"
   ]
  },
  {
   "cell_type": "code",
   "execution_count": 56,
   "id": "ba20ee4c",
   "metadata": {},
   "outputs": [
    {
     "data": {
      "text/plain": [
       "16"
      ]
     },
     "execution_count": 56,
     "metadata": {},
     "output_type": "execute_result"
    }
   ],
   "source": [
    "0x10"
   ]
  },
  {
   "cell_type": "code",
   "execution_count": 57,
   "id": "b92275fc",
   "metadata": {},
   "outputs": [
    {
     "data": {
      "text/plain": [
       "'A'"
      ]
     },
     "execution_count": 57,
     "metadata": {},
     "output_type": "execute_result"
    }
   ],
   "source": [
    "chr(65)"
   ]
  },
  {
   "cell_type": "code",
   "execution_count": 58,
   "id": "cd4c9523",
   "metadata": {},
   "outputs": [
    {
     "data": {
      "text/plain": [
       "65"
      ]
     },
     "execution_count": 58,
     "metadata": {},
     "output_type": "execute_result"
    }
   ],
   "source": [
    "ord(\"A\")"
   ]
  },
  {
   "cell_type": "code",
   "execution_count": 59,
   "id": "09075553",
   "metadata": {},
   "outputs": [
    {
     "data": {
      "text/plain": [
       "1"
      ]
     },
     "execution_count": 59,
     "metadata": {},
     "output_type": "execute_result"
    }
   ],
   "source": [
    "int(True)"
   ]
  },
  {
   "cell_type": "code",
   "execution_count": 60,
   "id": "25b03389",
   "metadata": {},
   "outputs": [
    {
     "data": {
      "text/plain": [
       "0"
      ]
     },
     "execution_count": 60,
     "metadata": {},
     "output_type": "execute_result"
    }
   ],
   "source": [
    "int(False)"
   ]
  },
  {
   "cell_type": "code",
   "execution_count": 61,
   "id": "e0bedf1a",
   "metadata": {},
   "outputs": [
    {
     "data": {
      "text/plain": [
       "True"
      ]
     },
     "execution_count": 61,
     "metadata": {},
     "output_type": "execute_result"
    }
   ],
   "source": [
    "bool(1)"
   ]
  },
  {
   "cell_type": "code",
   "execution_count": 62,
   "id": "4e9460ae",
   "metadata": {},
   "outputs": [
    {
     "data": {
      "text/plain": [
       "False"
      ]
     },
     "execution_count": 62,
     "metadata": {},
     "output_type": "execute_result"
    }
   ],
   "source": [
    "bool(0)"
   ]
  },
  {
   "cell_type": "code",
   "execution_count": 63,
   "id": "d952bcb7",
   "metadata": {},
   "outputs": [
    {
     "data": {
      "text/plain": [
       "98"
      ]
     },
     "execution_count": 63,
     "metadata": {},
     "output_type": "execute_result"
    }
   ],
   "source": [
    "int(98.6)"
   ]
  },
  {
   "cell_type": "code",
   "execution_count": 64,
   "id": "25c783b1",
   "metadata": {},
   "outputs": [
    {
     "data": {
      "text/plain": [
       "10000"
      ]
     },
     "execution_count": 64,
     "metadata": {},
     "output_type": "execute_result"
    }
   ],
   "source": [
    "int(1.0e4)"
   ]
  },
  {
   "cell_type": "code",
   "execution_count": 65,
   "id": "69525dab",
   "metadata": {},
   "outputs": [
    {
     "data": {
      "text/plain": [
       "99"
      ]
     },
     "execution_count": 65,
     "metadata": {},
     "output_type": "execute_result"
    }
   ],
   "source": [
    "int('99')"
   ]
  },
  {
   "cell_type": "code",
   "execution_count": 66,
   "id": "9ba75e6b",
   "metadata": {},
   "outputs": [
    {
     "data": {
      "text/plain": [
       "23"
      ]
     },
     "execution_count": 66,
     "metadata": {},
     "output_type": "execute_result"
    }
   ],
   "source": [
    "int('23')"
   ]
  },
  {
   "cell_type": "code",
   "execution_count": 67,
   "id": "5fca9036",
   "metadata": {},
   "outputs": [
    {
     "data": {
      "text/plain": [
       "2"
      ]
     },
     "execution_count": 67,
     "metadata": {},
     "output_type": "execute_result"
    }
   ],
   "source": [
    "int('10',2)"
   ]
  },
  {
   "cell_type": "code",
   "execution_count": 68,
   "id": "2e7c7469",
   "metadata": {},
   "outputs": [
    {
     "data": {
      "text/plain": [
       "8"
      ]
     },
     "execution_count": 68,
     "metadata": {},
     "output_type": "execute_result"
    }
   ],
   "source": [
    "int('10',8)"
   ]
  },
  {
   "cell_type": "code",
   "execution_count": 69,
   "id": "50979a0f",
   "metadata": {},
   "outputs": [
    {
     "data": {
      "text/plain": [
       "16"
      ]
     },
     "execution_count": 69,
     "metadata": {},
     "output_type": "execute_result"
    }
   ],
   "source": [
    "int('10',16)"
   ]
  },
  {
   "cell_type": "code",
   "execution_count": 70,
   "id": "96c7491a",
   "metadata": {},
   "outputs": [
    {
     "ename": "ValueError",
     "evalue": "invalid literal for int() with base 10: '98.6'",
     "output_type": "error",
     "traceback": [
      "\u001b[1;31m---------------------------------------------------------------------------\u001b[0m",
      "\u001b[1;31mValueError\u001b[0m                                Traceback (most recent call last)",
      "Cell \u001b[1;32mIn[70], line 1\u001b[0m\n\u001b[1;32m----> 1\u001b[0m \u001b[38;5;28mint\u001b[39m(\u001b[38;5;124m'\u001b[39m\u001b[38;5;124m98.6\u001b[39m\u001b[38;5;124m'\u001b[39m)\n",
      "\u001b[1;31mValueError\u001b[0m: invalid literal for int() with base 10: '98.6'"
     ]
    }
   ],
   "source": [
    "int('98.6') # 에러가 남 \n",
    "# int() 함수는 부동소수점 수 또는 숫자로 이루어진 문자열을 정수로 반환 "
   ]
  },
  {
   "cell_type": "code",
   "execution_count": 71,
   "id": "f84acba9",
   "metadata": {},
   "outputs": [
    {
     "data": {
      "text/plain": [
       "11.0"
      ]
     },
     "execution_count": 71,
     "metadata": {},
     "output_type": "execute_result"
    }
   ],
   "source": [
    "4+7.0"
   ]
  },
  {
   "cell_type": "code",
   "execution_count": 72,
   "id": "e9fe2d1d",
   "metadata": {},
   "outputs": [
    {
     "data": {
      "text/plain": [
       "5.0"
      ]
     },
     "execution_count": 72,
     "metadata": {},
     "output_type": "execute_result"
    }
   ],
   "source": [
    "5."
   ]
  },
  {
   "cell_type": "code",
   "execution_count": 73,
   "id": "b704bab4",
   "metadata": {},
   "outputs": [
    {
     "data": {
      "text/plain": [
       "5.0"
      ]
     },
     "execution_count": 73,
     "metadata": {},
     "output_type": "execute_result"
    }
   ],
   "source": [
    "05.0"
   ]
  },
  {
   "cell_type": "code",
   "execution_count": 74,
   "id": "c36e9247",
   "metadata": {},
   "outputs": [
    {
     "data": {
      "text/plain": [
       "98.0"
      ]
     },
     "execution_count": 74,
     "metadata": {},
     "output_type": "execute_result"
    }
   ],
   "source": [
    "float(98)"
   ]
  },
  {
   "cell_type": "code",
   "execution_count": 75,
   "id": "e7554b76",
   "metadata": {},
   "outputs": [
    {
     "data": {
      "text/plain": [
       "99.0"
      ]
     },
     "execution_count": 75,
     "metadata": {},
     "output_type": "execute_result"
    }
   ],
   "source": [
    "float('99')"
   ]
  },
  {
   "cell_type": "code",
   "execution_count": 76,
   "id": "63e19870",
   "metadata": {},
   "outputs": [],
   "source": [
    " #ch4 시작"
   ]
  },
  {
   "cell_type": "code",
   "execution_count": 77,
   "id": "3405d787",
   "metadata": {},
   "outputs": [
    {
     "data": {
      "text/plain": [
       "10"
      ]
     },
     "execution_count": 77,
     "metadata": {},
     "output_type": "execute_result"
    }
   ],
   "source": [
    "sum = 0 \n",
    "sum += 1 \n",
    "sum += 2\n",
    "sum += 3\n",
    "sum += 4\n",
    "sum\n"
   ]
  },
  {
   "cell_type": "code",
   "execution_count": 78,
   "id": "91f2000b",
   "metadata": {},
   "outputs": [
    {
     "data": {
      "text/plain": [
       "10"
      ]
     },
     "execution_count": 78,
     "metadata": {},
     "output_type": "execute_result"
    }
   ],
   "source": [
    "sum = 1 + \\\n",
    "    2  +\\\n",
    "    3 +\\\n",
    "    4\n",
    "sum"
   ]
  },
  {
   "cell_type": "code",
   "execution_count": 79,
   "id": "2d83438f",
   "metadata": {},
   "outputs": [
    {
     "ename": "SyntaxError",
     "evalue": "invalid syntax (298480017.py, line 3)",
     "output_type": "error",
     "traceback": [
      "\u001b[1;36m  Cell \u001b[1;32mIn[79], line 3\u001b[1;36m\u001b[0m\n\u001b[1;33m    3 + # 백슬래시 없어서 예외 발생\u001b[0m\n\u001b[1;37m        ^\u001b[0m\n\u001b[1;31mSyntaxError\u001b[0m\u001b[1;31m:\u001b[0m invalid syntax\n"
     ]
    }
   ],
   "source": [
    "sum = 1 + \\\n",
    "    2  +\\\n",
    "    3 + # 백슬래시 없어서 예외 발생 \n",
    "    4\n",
    "sum"
   ]
  },
  {
   "cell_type": "code",
   "execution_count": 80,
   "id": "e6d1ce8e",
   "metadata": {},
   "outputs": [
    {
     "name": "stdout",
     "output_type": "stream",
     "text": [
      "Woe!\n"
     ]
    }
   ],
   "source": [
    "disaster = True\n",
    "if disaster:\n",
    "    print(\"Woe!\")\n",
    "else:\n",
    "    print(\"Whee!\")    "
   ]
  },
  {
   "cell_type": "code",
   "execution_count": 81,
   "id": "7c1e025a",
   "metadata": {},
   "outputs": [],
   "source": [
    "# print() 는 화면에 객체를 출력하는 파이썬의 내장함수다 ."
   ]
  },
  {
   "cell_type": "code",
   "execution_count": 82,
   "id": "09ea7103",
   "metadata": {},
   "outputs": [],
   "source": [
    "# 다른 언어와는 다르게 파이썬의 if 조건문은 괄호 가 필요없음.\n",
    "# if(disaster == True) 와 같이 입력 하면 안된다.\n",
    "# 대신 콜론(:) 을 사용. \n",
    "# 콜론을 입력하지 않으면 에러 \n",
    "# 들여쓰기는 스페이스 4칸씩 쓰자.\n",
    "  #  1 탭\n",
    " #   1 스페이스4번"
   ]
  },
  {
   "cell_type": "code",
   "execution_count": 83,
   "id": "7ae4ac67",
   "metadata": {},
   "outputs": [
    {
     "name": "stdout",
     "output_type": "stream",
     "text": [
      "It's a yeti\n"
     ]
    }
   ],
   "source": [
    "furry = True\n",
    "large = True\n",
    "if furry:\n",
    "    if large:\n",
    "        print(\"It's a yeti\")\n",
    "    else:\n",
    "        print(\"It's a cat!\")\n",
    "else:\n",
    "    if large:\n",
    "        print(\"It's a whale!\")\n",
    "    else:\n",
    "        print(\"It's a human. Or a hairless cat.\")"
   ]
  },
  {
   "cell_type": "code",
   "execution_count": 84,
   "id": "4df32bd8",
   "metadata": {},
   "outputs": [
    {
     "name": "stdout",
     "output_type": "stream",
     "text": [
      "I've never heard of the color mauve\n"
     ]
    }
   ],
   "source": [
    "color = \"mauve\"\n",
    "if color == \"red\":\n",
    "    print(\"It's a tomato\")\n",
    "elif color == \"green\":\n",
    "    print(\"It's a green pepper\")\n",
    "elif color == \"bee purple\":\n",
    "    print(\"I don't know what it is, but only bees can see it\")\n",
    "else:\n",
    "    print(\"I've never heard of the color\", color)\n",
    "    \n",
    "    #조건이 여러개일경우의 문법 "
   ]
  },
  {
   "cell_type": "code",
   "execution_count": 85,
   "id": "6dcc05ce",
   "metadata": {},
   "outputs": [
    {
     "ename": "SyntaxError",
     "evalue": "invalid syntax (2481354122.py, line 1)",
     "output_type": "error",
     "traceback": [
      "\u001b[1;36m  Cell \u001b[1;32mIn[85], line 1\u001b[1;36m\u001b[0m\n\u001b[1;33m    == # 같다.\u001b[0m\n\u001b[1;37m    ^\u001b[0m\n\u001b[1;31mSyntaxError\u001b[0m\u001b[1;31m:\u001b[0m invalid syntax\n"
     ]
    }
   ],
   "source": [
    "== # 같다.\n",
    "!= # 다르다.\n",
    "< # 보다 작다.\n",
    "<= #보다 작거나 같다.\n",
    "> # 보다 크다.\n",
    ">= #보다 크거나 같다."
   ]
  },
  {
   "cell_type": "code",
   "execution_count": 86,
   "id": "0a3ccea2",
   "metadata": {},
   "outputs": [],
   "source": [
    "#100페이지부터 보기"
   ]
  },
  {
   "cell_type": "code",
   "execution_count": 87,
   "id": "a5a79719",
   "metadata": {},
   "outputs": [],
   "source": [
    "x=7"
   ]
  },
  {
   "cell_type": "code",
   "execution_count": 88,
   "id": "7fdc8eff",
   "metadata": {},
   "outputs": [
    {
     "data": {
      "text/plain": [
       "False"
      ]
     },
     "execution_count": 88,
     "metadata": {},
     "output_type": "execute_result"
    }
   ],
   "source": [
    "x==5"
   ]
  },
  {
   "cell_type": "code",
   "execution_count": 89,
   "id": "cc278c42",
   "metadata": {},
   "outputs": [
    {
     "data": {
      "text/plain": [
       "True"
      ]
     },
     "execution_count": 89,
     "metadata": {},
     "output_type": "execute_result"
    }
   ],
   "source": [
    "x==7"
   ]
  },
  {
   "cell_type": "code",
   "execution_count": 90,
   "id": "24ebfe17",
   "metadata": {},
   "outputs": [
    {
     "data": {
      "text/plain": [
       "True"
      ]
     },
     "execution_count": 90,
     "metadata": {},
     "output_type": "execute_result"
    }
   ],
   "source": [
    "5<x"
   ]
  },
  {
   "cell_type": "code",
   "execution_count": 91,
   "id": "730ccb58",
   "metadata": {},
   "outputs": [
    {
     "data": {
      "text/plain": [
       "True"
      ]
     },
     "execution_count": 91,
     "metadata": {},
     "output_type": "execute_result"
    }
   ],
   "source": [
    "x<10"
   ]
  },
  {
   "cell_type": "code",
   "execution_count": 92,
   "id": "a05a47ab",
   "metadata": {},
   "outputs": [
    {
     "data": {
      "text/plain": [
       "True"
      ]
     },
     "execution_count": 92,
     "metadata": {},
     "output_type": "execute_result"
    }
   ],
   "source": [
    "5 <x and x<10"
   ]
  },
  {
   "cell_type": "code",
   "execution_count": 93,
   "id": "29937d1f",
   "metadata": {},
   "outputs": [
    {
     "data": {
      "text/plain": [
       "7"
      ]
     },
     "execution_count": 93,
     "metadata": {},
     "output_type": "execute_result"
    }
   ],
   "source": [
    "x"
   ]
  },
  {
   "cell_type": "code",
   "execution_count": 94,
   "id": "0242b60f",
   "metadata": {},
   "outputs": [
    {
     "data": {
      "text/plain": [
       "True"
      ]
     },
     "execution_count": 94,
     "metadata": {},
     "output_type": "execute_result"
    }
   ],
   "source": [
    "(5<x) and (x<10)"
   ]
  },
  {
   "cell_type": "code",
   "execution_count": 95,
   "id": "f8966b4e",
   "metadata": {},
   "outputs": [
    {
     "data": {
      "text/plain": [
       "True"
      ]
     },
     "execution_count": 95,
     "metadata": {},
     "output_type": "execute_result"
    }
   ],
   "source": [
    "5<x or x<10"
   ]
  },
  {
   "cell_type": "code",
   "execution_count": 96,
   "id": "d36a0eed",
   "metadata": {},
   "outputs": [
    {
     "data": {
      "text/plain": [
       "False"
      ]
     },
     "execution_count": 96,
     "metadata": {},
     "output_type": "execute_result"
    }
   ],
   "source": [
    "5<x and x>10"
   ]
  },
  {
   "cell_type": "code",
   "execution_count": 97,
   "id": "a65610c8",
   "metadata": {},
   "outputs": [
    {
     "data": {
      "text/plain": [
       "7"
      ]
     },
     "execution_count": 97,
     "metadata": {},
     "output_type": "execute_result"
    }
   ],
   "source": [
    "x"
   ]
  },
  {
   "cell_type": "code",
   "execution_count": 98,
   "id": "dc37628a",
   "metadata": {},
   "outputs": [
    {
     "data": {
      "text/plain": [
       "True"
      ]
     },
     "execution_count": 98,
     "metadata": {},
     "output_type": "execute_result"
    }
   ],
   "source": [
    "5<x and (not (x >10))"
   ]
  },
  {
   "cell_type": "code",
   "execution_count": 99,
   "id": "33782e3c",
   "metadata": {},
   "outputs": [
    {
     "data": {
      "text/plain": [
       "True"
      ]
     },
     "execution_count": 99,
     "metadata": {},
     "output_type": "execute_result"
    }
   ],
   "source": [
    "5 < x <10"
   ]
  },
  {
   "cell_type": "code",
   "execution_count": 100,
   "id": "bcce8cb2",
   "metadata": {},
   "outputs": [
    {
     "data": {
      "text/plain": [
       "True"
      ]
     },
     "execution_count": 100,
     "metadata": {},
     "output_type": "execute_result"
    }
   ],
   "source": [
    "5 < x < 10 < 999"
   ]
  },
  {
   "cell_type": "code",
   "execution_count": 101,
   "id": "d6da0868",
   "metadata": {},
   "outputs": [],
   "source": [
    "some_list =[]"
   ]
  },
  {
   "cell_type": "code",
   "execution_count": 102,
   "id": "a4db0d78",
   "metadata": {},
   "outputs": [
    {
     "name": "stdout",
     "output_type": "stream",
     "text": [
      "Hey, it's empty!\n"
     ]
    }
   ],
   "source": [
    "if some_list:\n",
    "    print(\"There's something in here\")\n",
    "else:\n",
    "    print(\"Hey, it's empty!\")"
   ]
  },
  {
   "cell_type": "code",
   "execution_count": 103,
   "id": "955797d5",
   "metadata": {},
   "outputs": [
    {
     "name": "stdout",
     "output_type": "stream",
     "text": [
      "o is a vowel\n"
     ]
    }
   ],
   "source": [
    "letter = 'o'\n",
    "if letter == 'a' or letter == 'e' or letter =='i'\\\n",
    "    or letter == 'o' or letter == 'u':\n",
    "    print(letter, 'is a vowel')\n",
    "else:\n",
    "    print(letter, 'is not a vowel')"
   ]
  },
  {
   "cell_type": "code",
   "execution_count": 104,
   "id": "c48a6314",
   "metadata": {},
   "outputs": [],
   "source": [
    "# 멤버십 연산자"
   ]
  },
  {
   "cell_type": "code",
   "execution_count": 105,
   "id": "7cbac385",
   "metadata": {},
   "outputs": [
    {
     "name": "stdout",
     "output_type": "stream",
     "text": [
      "o is a vowel\n"
     ]
    }
   ],
   "source": [
    "vowels = 'aeiou'\n",
    "letter = 'o'\n",
    "letter in vowels \n",
    "if letter in vowels:\n",
    "    print(letter, 'is a vowel') "
   ]
  },
  {
   "cell_type": "code",
   "execution_count": 106,
   "id": "9df7c51e",
   "metadata": {},
   "outputs": [
    {
     "data": {
      "text/plain": [
       "True"
      ]
     },
     "execution_count": 106,
     "metadata": {},
     "output_type": "execute_result"
    }
   ],
   "source": [
    "letter ='o'\n",
    "vowel_set = {'a','e','i','o','u'}\n",
    "letter in vowel_set\n",
    "\n",
    "vowel_list = ['a','e','i','o','u']\n",
    "letter in vowel_list\n",
    "\n",
    "vowel_tuple =('a','e','i','o','u')\n",
    "letter in vowel_tuple\n",
    "\n",
    "vowel_string = \"aeiou\"\n",
    "letter in vowel_string\n",
    "\n",
    "vowel_dict = {'a':'apple','e':'elephant','i':'impala','o':'ocelot','u':'unicorn' }\n",
    "letter in vowel_dict"
   ]
  },
  {
   "cell_type": "code",
   "execution_count": null,
   "id": "3811f650",
   "metadata": {},
   "outputs": [],
   "source": []
  },
  {
   "cell_type": "code",
   "execution_count": 107,
   "id": "09ac78aa",
   "metadata": {},
   "outputs": [],
   "source": [
    "#파이썬 3.8의 바다코끼리 연산자\n",
    "# 이름:=표현식"
   ]
  },
  {
   "cell_type": "code",
   "execution_count": 108,
   "id": "243b88d1",
   "metadata": {},
   "outputs": [
    {
     "name": "stdout",
     "output_type": "stream",
     "text": [
      "A fitting tweet\n"
     ]
    }
   ],
   "source": [
    "tweet_limit =280\n",
    "tweet_string = \"Blah\"*50\n",
    "diff = tweet_limit - len(tweet_string)\n",
    "if diff >=0:\n",
    "    print(\"A fitting tweet\")\n",
    "else:\n",
    "    print(\"Went over by\", abs(diff))"
   ]
  },
  {
   "cell_type": "code",
   "execution_count": 109,
   "id": "c59d1477",
   "metadata": {},
   "outputs": [
    {
     "name": "stdout",
     "output_type": "stream",
     "text": [
      "A fitting tweet\n"
     ]
    }
   ],
   "source": [
    "tweet_limit = 280\n",
    "tweet_string =\"Blah\"*50\n",
    "if diff:= tweet_limit - len(tweet_string) >= 0: #할당과 테스트 같이 가능\n",
    "        print(\"A fitting tweet\")\n",
    "else: print(\"Went over by\",abs(diff))"
   ]
  },
  {
   "cell_type": "code",
   "execution_count": 110,
   "id": "f6d9aa92",
   "metadata": {},
   "outputs": [],
   "source": [
    "# 5장 텍스트 문자열\n",
    "# 파이썬의 문자열은 불변이다."
   ]
  },
  {
   "cell_type": "code",
   "execution_count": 111,
   "id": "9c66224e",
   "metadata": {},
   "outputs": [
    {
     "data": {
      "text/plain": [
       "'Snap'"
      ]
     },
     "execution_count": 111,
     "metadata": {},
     "output_type": "execute_result"
    }
   ],
   "source": [
    "'Snap'"
   ]
  },
  {
   "cell_type": "code",
   "execution_count": 112,
   "id": "b1a404c2",
   "metadata": {},
   "outputs": [
    {
     "data": {
      "text/plain": [
       "'Crackle'"
      ]
     },
     "execution_count": 112,
     "metadata": {},
     "output_type": "execute_result"
    }
   ],
   "source": [
    "'Crackle'"
   ]
  },
  {
   "cell_type": "code",
   "execution_count": 113,
   "id": "44d5fe21",
   "metadata": {},
   "outputs": [
    {
     "data": {
      "text/plain": [
       "\"'Nay!'   said  the naysayer.  'Neigh?'  said  the horse.\""
      ]
     },
     "execution_count": 113,
     "metadata": {},
     "output_type": "execute_result"
    }
   ],
   "source": [
    "\"'Nay!'   said  the naysayer.  'Neigh?'  said  the horse.\""
   ]
  },
  {
   "cell_type": "code",
   "execution_count": 114,
   "id": "99730cf0",
   "metadata": {},
   "outputs": [],
   "source": [
    "# 작은 따옴표의 문자열을 큰따옴표에 넣거나,\n",
    "# 큰 따옴표의 문자열을 작은따옴표에 넣을 수 있다."
   ]
  },
  {
   "cell_type": "code",
   "execution_count": 115,
   "id": "a289f63d",
   "metadata": {},
   "outputs": [
    {
     "data": {
      "text/plain": [
       "'Boom'"
      ]
     },
     "execution_count": 115,
     "metadata": {},
     "output_type": "execute_result"
    }
   ],
   "source": [
    "'''Boom'''"
   ]
  },
  {
   "cell_type": "code",
   "execution_count": 116,
   "id": "92db5de0",
   "metadata": {},
   "outputs": [
    {
     "data": {
      "text/plain": [
       "'Eek!'"
      ]
     },
     "execution_count": 116,
     "metadata": {},
     "output_type": "execute_result"
    }
   ],
   "source": [
    "\"\"\"Eek!\"\"\""
   ]
  },
  {
   "cell_type": "code",
   "execution_count": 117,
   "id": "427ecb27",
   "metadata": {},
   "outputs": [],
   "source": [
    ">>> poem = '''There was a Young Lady of Norway,\n",
    "... Who casually sat in a doorway;\n",
    "... when the door squeezed her flat,\n",
    "... She exclaimed, \"What of that?\"\n",
    "... This courageous Young Lady of Norway.'''\n",
    ">>>"
   ]
  },
  {
   "cell_type": "code",
   "execution_count": 118,
   "id": "32801c28",
   "metadata": {},
   "outputs": [
    {
     "data": {
      "text/plain": [
       "'There was a Young Lady of Norway,\\nWho casually sat in a doorway;\\nwhen the door squeezed her flat,\\nShe exclaimed, \"What of that?\"\\nThis courageous Young Lady of Norway.'"
      ]
     },
     "execution_count": 118,
     "metadata": {},
     "output_type": "execute_result"
    }
   ],
   "source": [
    "poem"
   ]
  },
  {
   "cell_type": "code",
   "execution_count": 119,
   "id": "c180b24b",
   "metadata": {},
   "outputs": [
    {
     "name": "stdout",
     "output_type": "stream",
     "text": [
      "There was a Young Lady of Norway,\n",
      "Who casually sat in a doorway;\n",
      "when the door squeezed her flat,\n",
      "She exclaimed, \"What of that?\"\n",
      "This courageous Young Lady of Norway.\n"
     ]
    }
   ],
   "source": [
    "print(poem)"
   ]
  },
  {
   "cell_type": "code",
   "execution_count": 120,
   "id": "6ceaa9e3",
   "metadata": {},
   "outputs": [],
   "source": [
    "poem2 = '''I do not like thee, Doctor Fell.\n",
    "...    The reason why, I cannot tell.\n",
    "...    But this I know, and know full well:\n",
    "...    I do not like thee, Doctor Fell.\n",
    "...'''"
   ]
  },
  {
   "cell_type": "code",
   "execution_count": 121,
   "id": "47be7449",
   "metadata": {},
   "outputs": [
    {
     "name": "stdout",
     "output_type": "stream",
     "text": [
      "I do not like thee, Doctor Fell.\n",
      "   The reason why, I cannot tell.\n",
      "   But this I know, and know full well:\n",
      "   I do not like thee, Doctor Fell.\n",
      "...\n"
     ]
    }
   ],
   "source": [
    "print(poem2)"
   ]
  },
  {
   "cell_type": "code",
   "execution_count": 122,
   "id": "a1f1478a",
   "metadata": {},
   "outputs": [
    {
     "data": {
      "text/plain": [
       "'I do not like thee, Doctor Fell.\\n   The reason why, I cannot tell.\\n   But this I know, and know full well:\\n   I do not like thee, Doctor Fell.\\n...'"
      ]
     },
     "execution_count": 122,
     "metadata": {},
     "output_type": "execute_result"
    }
   ],
   "source": [
    "poem2"
   ]
  },
  {
   "cell_type": "code",
   "execution_count": 123,
   "id": "c062e369",
   "metadata": {},
   "outputs": [
    {
     "name": "stdout",
     "output_type": "stream",
     "text": [
      "Give us some space\n"
     ]
    }
   ],
   "source": [
    "print('Give',\"us\",'''some''',\"\"\"space\"\"\")"
   ]
  },
  {
   "cell_type": "code",
   "execution_count": 124,
   "id": "f083412f",
   "metadata": {},
   "outputs": [
    {
     "data": {
      "text/plain": [
       "\"'Guten Morgen^  mein  Herr!'\\nsaid mad  king Ludwig  to his wig.\""
      ]
     },
     "execution_count": 124,
     "metadata": {},
     "output_type": "execute_result"
    }
   ],
   "source": [
    ">>> \"\"\"'Guten Morgen^  mein  Herr!'\n",
    "... said mad  king  Ludwig  to his wig.\"\"\"\n",
    "\"'Guten Morgen^  mein  Herr!'\\nsaid mad  king Ludwig  to his wig.\""
   ]
  },
  {
   "cell_type": "code",
   "execution_count": 125,
   "id": "0a523f42",
   "metadata": {},
   "outputs": [
    {
     "data": {
      "text/plain": [
       "''"
      ]
     },
     "execution_count": 125,
     "metadata": {},
     "output_type": "execute_result"
    }
   ],
   "source": [
    "''"
   ]
  },
  {
   "cell_type": "code",
   "execution_count": 126,
   "id": "55b415e8",
   "metadata": {},
   "outputs": [
    {
     "data": {
      "text/plain": [
       "''"
      ]
     },
     "execution_count": 126,
     "metadata": {},
     "output_type": "execute_result"
    }
   ],
   "source": [
    "\"\""
   ]
  },
  {
   "cell_type": "code",
   "execution_count": 127,
   "id": "3cf0a8da",
   "metadata": {},
   "outputs": [
    {
     "data": {
      "text/plain": [
       "''"
      ]
     },
     "execution_count": 127,
     "metadata": {},
     "output_type": "execute_result"
    }
   ],
   "source": [
    "''''''"
   ]
  },
  {
   "cell_type": "code",
   "execution_count": 128,
   "id": "8fd57c79",
   "metadata": {},
   "outputs": [
    {
     "data": {
      "text/plain": [
       "''"
      ]
     },
     "execution_count": 128,
     "metadata": {},
     "output_type": "execute_result"
    }
   ],
   "source": [
    "\"\"\"\"\"\""
   ]
  },
  {
   "cell_type": "code",
   "execution_count": 129,
   "id": "6a6909fe",
   "metadata": {},
   "outputs": [
    {
     "data": {
      "text/plain": [
       "'98.6'"
      ]
     },
     "execution_count": 129,
     "metadata": {},
     "output_type": "execute_result"
    }
   ],
   "source": [
    "str(98.6)"
   ]
  },
  {
   "cell_type": "code",
   "execution_count": 130,
   "id": "22019c96",
   "metadata": {},
   "outputs": [
    {
     "data": {
      "text/plain": [
       "'10000.0'"
      ]
     },
     "execution_count": 130,
     "metadata": {},
     "output_type": "execute_result"
    }
   ],
   "source": [
    "str(1.0e4)"
   ]
  },
  {
   "cell_type": "code",
   "execution_count": 131,
   "id": "cbeb35da",
   "metadata": {},
   "outputs": [
    {
     "data": {
      "text/plain": [
       "'True'"
      ]
     },
     "execution_count": 131,
     "metadata": {},
     "output_type": "execute_result"
    }
   ],
   "source": [
    "str(True)"
   ]
  },
  {
   "cell_type": "code",
   "execution_count": 132,
   "id": "b9eeb65f",
   "metadata": {},
   "outputs": [],
   "source": [
    ">>> palindrome = 'A man, \\nA plan,\\nA canal:\\nPanama.'"
   ]
  },
  {
   "cell_type": "code",
   "execution_count": 133,
   "id": "05954cae",
   "metadata": {},
   "outputs": [
    {
     "name": "stdout",
     "output_type": "stream",
     "text": [
      "A man, \n",
      "A plan,\n",
      "A canal:\n",
      "Panama.\n"
     ]
    }
   ],
   "source": [
    "print(palindrome)"
   ]
  },
  {
   "cell_type": "code",
   "execution_count": 134,
   "id": "b5981e69",
   "metadata": {},
   "outputs": [
    {
     "name": "stdout",
     "output_type": "stream",
     "text": [
      "\tabc\n"
     ]
    }
   ],
   "source": [
    "print('\\tabc')"
   ]
  },
  {
   "cell_type": "code",
   "execution_count": 135,
   "id": "85e57490",
   "metadata": {},
   "outputs": [
    {
     "name": "stdout",
     "output_type": "stream",
     "text": [
      "a\tbc\n"
     ]
    }
   ],
   "source": [
    "print('a\\tbc')"
   ]
  },
  {
   "cell_type": "code",
   "execution_count": 136,
   "id": "c1ccdaa2",
   "metadata": {},
   "outputs": [
    {
     "name": "stdout",
     "output_type": "stream",
     "text": [
      "ab\tc\n"
     ]
    }
   ],
   "source": [
    "print('ab\\tc')"
   ]
  },
  {
   "cell_type": "code",
   "execution_count": 137,
   "id": "6fa164ba",
   "metadata": {},
   "outputs": [
    {
     "name": "stdout",
     "output_type": "stream",
     "text": [
      "abc\t\n"
     ]
    }
   ],
   "source": [
    "print('abc\\t')"
   ]
  },
  {
   "cell_type": "code",
   "execution_count": 138,
   "id": "f01970ba",
   "metadata": {},
   "outputs": [],
   "source": [
    "testimony = \"\\\"I did nothing!\\\" he said. \\\"Or that other thing.\\\"\""
   ]
  },
  {
   "cell_type": "code",
   "execution_count": 139,
   "id": "66bc0177",
   "metadata": {},
   "outputs": [
    {
     "data": {
      "text/plain": [
       "'\"I did nothing!\" he said. \"Or that other thing.\"'"
      ]
     },
     "execution_count": 139,
     "metadata": {},
     "output_type": "execute_result"
    }
   ],
   "source": [
    "testimony"
   ]
  },
  {
   "cell_type": "code",
   "execution_count": 140,
   "id": "c8b8d1d8",
   "metadata": {},
   "outputs": [
    {
     "name": "stdout",
     "output_type": "stream",
     "text": [
      "\"I did nothing!\" he said. \"Or that other thing.\"\n"
     ]
    }
   ],
   "source": [
    "print(testimony)"
   ]
  },
  {
   "cell_type": "code",
   "execution_count": 141,
   "id": "76687698",
   "metadata": {},
   "outputs": [
    {
     "ename": "SyntaxError",
     "evalue": "invalid syntax (2158176606.py, line 1)",
     "output_type": "error",
     "traceback": [
      "\u001b[1;36m  Cell \u001b[1;32mIn[141], line 1\u001b[1;36m\u001b[0m\n\u001b[1;33m    \"I did nothing!\" he  said.  \"Or that other thing.\"\u001b[0m\n\u001b[1;37m                     ^\u001b[0m\n\u001b[1;31mSyntaxError\u001b[0m\u001b[1;31m:\u001b[0m invalid syntax\n"
     ]
    }
   ],
   "source": [
    "\"I did nothing!\" he  said.  \"Or that other thing.\"\n",
    "#이거 왜이러는지 확인"
   ]
  },
  {
   "cell_type": "code",
   "execution_count": 142,
   "id": "55f6b018",
   "metadata": {},
   "outputs": [],
   "source": [
    "fact = \"The world's largest rubber duck was 54'2\\\" by 65'7\\\" by 105'\""
   ]
  },
  {
   "cell_type": "code",
   "execution_count": 143,
   "id": "278ccb33",
   "metadata": {},
   "outputs": [
    {
     "name": "stdout",
     "output_type": "stream",
     "text": [
      "The world's largest rubber duck was 54'2\" by 65'7\" by 105'\n"
     ]
    }
   ],
   "source": [
    "print(fact)"
   ]
  },
  {
   "cell_type": "code",
   "execution_count": 144,
   "id": "629d726b",
   "metadata": {},
   "outputs": [],
   "source": [
    "speech = 'The backslashh (\\\\ ) bends over backwards to please you.'"
   ]
  },
  {
   "cell_type": "code",
   "execution_count": 145,
   "id": "84308be7",
   "metadata": {},
   "outputs": [
    {
     "name": "stdout",
     "output_type": "stream",
     "text": [
      "The backslashh (\\ ) bends over backwards to please you.\n"
     ]
    }
   ],
   "source": [
    "print(speech)\n",
    "#백슬래시를 입력하고 싶으면 백슬래시를 두 번 입력"
   ]
  },
  {
   "cell_type": "code",
   "execution_count": 146,
   "id": "3bc54aba",
   "metadata": {},
   "outputs": [],
   "source": [
    "info = r'Type a \\n to get a new line in a normal string'"
   ]
  },
  {
   "cell_type": "code",
   "execution_count": 147,
   "id": "afd6365e",
   "metadata": {},
   "outputs": [
    {
     "data": {
      "text/plain": [
       "'Type a \\\\n to get a new line in a normal string'"
      ]
     },
     "execution_count": 147,
     "metadata": {},
     "output_type": "execute_result"
    }
   ],
   "source": [
    "info"
   ]
  },
  {
   "cell_type": "code",
   "execution_count": 148,
   "id": "eec2975d",
   "metadata": {},
   "outputs": [
    {
     "name": "stdout",
     "output_type": "stream",
     "text": [
      "Type a \\n to get a new line in a normal string\n"
     ]
    }
   ],
   "source": [
    "print(info)"
   ]
  },
  {
   "cell_type": "code",
   "execution_count": 149,
   "id": "93dcf976",
   "metadata": {},
   "outputs": [],
   "source": [
    "poem = r'''Boys and girls, come out to play.\n",
    "... THe moon doth shine as bright as day.'''"
   ]
  },
  {
   "cell_type": "code",
   "execution_count": 150,
   "id": "2540d75e",
   "metadata": {},
   "outputs": [
    {
     "data": {
      "text/plain": [
       "'Boys and girls, come out to play.\\nTHe moon doth shine as bright as day.'"
      ]
     },
     "execution_count": 150,
     "metadata": {},
     "output_type": "execute_result"
    }
   ],
   "source": [
    "poem"
   ]
  },
  {
   "cell_type": "code",
   "execution_count": 151,
   "id": "2c6816f5",
   "metadata": {},
   "outputs": [
    {
     "name": "stdout",
     "output_type": "stream",
     "text": [
      "Boys and girls, come out to play.\n",
      "THe moon doth shine as bright as day.\n"
     ]
    }
   ],
   "source": [
    "print(poem)"
   ]
  },
  {
   "cell_type": "code",
   "execution_count": 152,
   "id": "581aae98",
   "metadata": {},
   "outputs": [],
   "source": [
    "# 5.4  결합하기 :+"
   ]
  },
  {
   "cell_type": "code",
   "execution_count": 153,
   "id": "e3fca390",
   "metadata": {},
   "outputs": [
    {
     "data": {
      "text/plain": [
       "'Release the kraken! No, wait!'"
      ]
     },
     "execution_count": 153,
     "metadata": {},
     "output_type": "execute_result"
    }
   ],
   "source": [
    "'Release the kraken! '+ 'No, wait!'"
   ]
  },
  {
   "cell_type": "code",
   "execution_count": 154,
   "id": "a37d9075",
   "metadata": {},
   "outputs": [
    {
     "data": {
      "text/plain": [
       "'Release the kraken! No, wait!'"
      ]
     },
     "execution_count": 154,
     "metadata": {},
     "output_type": "execute_result"
    }
   ],
   "source": [
    "'Release the kraken! '+ \"No, wait!\""
   ]
  },
  {
   "cell_type": "code",
   "execution_count": 155,
   "id": "339f2ef6",
   "metadata": {},
   "outputs": [
    {
     "data": {
      "text/plain": [
       "'My word! A gentleman caller!'"
      ]
     },
     "execution_count": 155,
     "metadata": {},
     "output_type": "execute_result"
    }
   ],
   "source": [
    "\"My word! \" \"A gentleman caller!\""
   ]
  },
  {
   "cell_type": "code",
   "execution_count": 156,
   "id": "5d532c9d",
   "metadata": {},
   "outputs": [
    {
     "data": {
      "text/plain": [
       "'Alas! The kraken!'"
      ]
     },
     "execution_count": 156,
     "metadata": {},
     "output_type": "execute_result"
    }
   ],
   "source": [
    "\"Alas! \" \"The kraken!\""
   ]
  },
  {
   "cell_type": "code",
   "execution_count": 157,
   "id": "7e78bd73",
   "metadata": {},
   "outputs": [
    {
     "data": {
      "text/plain": [
       "'aeiou'"
      ]
     },
     "execution_count": 157,
     "metadata": {},
     "output_type": "execute_result"
    }
   ],
   "source": [
    "vowels = ('a'\n",
    "... \"e\" '''i'''\n",
    "... 'o' \"\"\"u\"\"\"\n",
    "... )\n",
    ">>> vowels"
   ]
  },
  {
   "cell_type": "code",
   "execution_count": 158,
   "id": "8582e082",
   "metadata": {},
   "outputs": [],
   "source": [
    "a =\"Duck\""
   ]
  },
  {
   "cell_type": "code",
   "execution_count": 159,
   "id": "e6dfa55c",
   "metadata": {},
   "outputs": [],
   "source": [
    "b=a "
   ]
  },
  {
   "cell_type": "code",
   "execution_count": 160,
   "id": "d1aad149",
   "metadata": {},
   "outputs": [],
   "source": [
    "c = 'Grey Duck!'"
   ]
  },
  {
   "cell_type": "code",
   "execution_count": 161,
   "id": "e8317d04",
   "metadata": {},
   "outputs": [
    {
     "data": {
      "text/plain": [
       "'DuckDuckGrey Duck!'"
      ]
     },
     "execution_count": 161,
     "metadata": {},
     "output_type": "execute_result"
    }
   ],
   "source": [
    "a+b+c"
   ]
  },
  {
   "cell_type": "code",
   "execution_count": 162,
   "id": "9be724d7",
   "metadata": {},
   "outputs": [
    {
     "name": "stdout",
     "output_type": "stream",
     "text": [
      "Duck Duck Grey Duck!\n"
     ]
    }
   ],
   "source": [
    "print(a,b,c)"
   ]
  },
  {
   "cell_type": "code",
   "execution_count": 163,
   "id": "01df0a9b",
   "metadata": {},
   "outputs": [],
   "source": [
    "# 복제하기 \n",
    "# *연산자를 이용하여 문자열을 복제 가능.\n",
    "#대화식 인터프리터에서 다음 예제를 입력하면 무엇이 출력될려나"
   ]
  },
  {
   "cell_type": "code",
   "execution_count": 164,
   "id": "27556614",
   "metadata": {},
   "outputs": [],
   "source": [
    "start = 'Na '*4+ '\\n'"
   ]
  },
  {
   "cell_type": "code",
   "execution_count": 165,
   "id": "895e26b5",
   "metadata": {},
   "outputs": [],
   "source": [
    "middle = 'Hey '* 3 +'\\n'"
   ]
  },
  {
   "cell_type": "code",
   "execution_count": 166,
   "id": "3cc0a966",
   "metadata": {},
   "outputs": [],
   "source": [
    "end = 'Goodbye.'"
   ]
  },
  {
   "cell_type": "code",
   "execution_count": 167,
   "id": "d48249f0",
   "metadata": {},
   "outputs": [
    {
     "name": "stdout",
     "output_type": "stream",
     "text": [
      "Na Na Na Na \n",
      "Na Na Na Na \n",
      "Hey Hey Hey \n",
      "Goodbye.\n"
     ]
    }
   ],
   "source": [
    "print(start +start + middle + end)"
   ]
  },
  {
   "cell_type": "code",
   "execution_count": 168,
   "id": "270b6121",
   "metadata": {},
   "outputs": [],
   "source": [
    "# *연산자는 + 연산자보다 우선순위가 높으므로 줄바꿈이 시작되기 전에 문자열이\n",
    "#결합된다."
   ]
  },
  {
   "cell_type": "code",
   "execution_count": 169,
   "id": "ca8e4ab5",
   "metadata": {},
   "outputs": [],
   "source": [
    "#5.6 문자 추출 []"
   ]
  },
  {
   "cell_type": "code",
   "execution_count": 170,
   "id": "56cd1f5a",
   "metadata": {},
   "outputs": [],
   "source": [
    "letters = 'abcdefghij klmnopqrstuvwxyz'"
   ]
  },
  {
   "cell_type": "code",
   "execution_count": 171,
   "id": "cbf231b0",
   "metadata": {},
   "outputs": [
    {
     "data": {
      "text/plain": [
       "'a'"
      ]
     },
     "execution_count": 171,
     "metadata": {},
     "output_type": "execute_result"
    }
   ],
   "source": [
    "letters[0]"
   ]
  },
  {
   "cell_type": "code",
   "execution_count": 172,
   "id": "ca7603ec",
   "metadata": {},
   "outputs": [
    {
     "data": {
      "text/plain": [
       "'b'"
      ]
     },
     "execution_count": 172,
     "metadata": {},
     "output_type": "execute_result"
    }
   ],
   "source": [
    "letters[1]"
   ]
  },
  {
   "cell_type": "code",
   "execution_count": 173,
   "id": "0fbd4dab",
   "metadata": {},
   "outputs": [
    {
     "data": {
      "text/plain": [
       "'z'"
      ]
     },
     "execution_count": 173,
     "metadata": {},
     "output_type": "execute_result"
    }
   ],
   "source": [
    "letters[-1]"
   ]
  },
  {
   "cell_type": "code",
   "execution_count": 174,
   "id": "362b3898",
   "metadata": {},
   "outputs": [
    {
     "data": {
      "text/plain": [
       "'y'"
      ]
     },
     "execution_count": 174,
     "metadata": {},
     "output_type": "execute_result"
    }
   ],
   "source": [
    "letters[-2]"
   ]
  },
  {
   "cell_type": "code",
   "execution_count": 175,
   "id": "09303ce6",
   "metadata": {},
   "outputs": [
    {
     "data": {
      "text/plain": [
       "'y'"
      ]
     },
     "execution_count": 175,
     "metadata": {},
     "output_type": "execute_result"
    }
   ],
   "source": [
    "letters[25]"
   ]
  },
  {
   "cell_type": "code",
   "execution_count": 176,
   "id": "b8300655",
   "metadata": {},
   "outputs": [
    {
     "data": {
      "text/plain": [
       "'z'"
      ]
     },
     "execution_count": 176,
     "metadata": {},
     "output_type": "execute_result"
    }
   ],
   "source": [
    "letters[26]"
   ]
  },
  {
   "cell_type": "code",
   "execution_count": 177,
   "id": "63c47ebe",
   "metadata": {},
   "outputs": [
    {
     "data": {
      "text/plain": [
       "'f'"
      ]
     },
     "execution_count": 177,
     "metadata": {},
     "output_type": "execute_result"
    }
   ],
   "source": [
    "letters[5]"
   ]
  },
  {
   "cell_type": "code",
   "execution_count": 178,
   "id": "1e341356",
   "metadata": {},
   "outputs": [
    {
     "ename": "IndexError",
     "evalue": "string index out of range",
     "output_type": "error",
     "traceback": [
      "\u001b[1;31m---------------------------------------------------------------------------\u001b[0m",
      "\u001b[1;31mIndexError\u001b[0m                                Traceback (most recent call last)",
      "Cell \u001b[1;32mIn[178], line 1\u001b[0m\n\u001b[1;32m----> 1\u001b[0m letters[\u001b[38;5;241m100\u001b[39m]\n",
      "\u001b[1;31mIndexError\u001b[0m: string index out of range"
     ]
    }
   ],
   "source": [
    "letters[100] #에러남"
   ]
  },
  {
   "cell_type": "code",
   "execution_count": 179,
   "id": "6910a982",
   "metadata": {},
   "outputs": [],
   "source": [
    "name = 'Henny'"
   ]
  },
  {
   "cell_type": "code",
   "execution_count": 180,
   "id": "a5ddaf4b",
   "metadata": {},
   "outputs": [
    {
     "ename": "TypeError",
     "evalue": "'str' object does not support item assignment",
     "output_type": "error",
     "traceback": [
      "\u001b[1;31m---------------------------------------------------------------------------\u001b[0m",
      "\u001b[1;31mTypeError\u001b[0m                                 Traceback (most recent call last)",
      "Cell \u001b[1;32mIn[180], line 1\u001b[0m\n\u001b[1;32m----> 1\u001b[0m name[\u001b[38;5;241m0\u001b[39m] \u001b[38;5;241m=\u001b[39m \u001b[38;5;124m'\u001b[39m\u001b[38;5;124mP\u001b[39m\u001b[38;5;124m'\u001b[39m\n",
      "\u001b[1;31mTypeError\u001b[0m: 'str' object does not support item assignment"
     ]
    }
   ],
   "source": [
    "name[0] = 'P' # 에러"
   ]
  },
  {
   "cell_type": "code",
   "execution_count": 181,
   "id": "d5b4e38d",
   "metadata": {},
   "outputs": [],
   "source": [
    "name = 'Henny'"
   ]
  },
  {
   "cell_type": "code",
   "execution_count": 182,
   "id": "af9cafa1",
   "metadata": {},
   "outputs": [
    {
     "data": {
      "text/plain": [
       "'Penny'"
      ]
     },
     "execution_count": 182,
     "metadata": {},
     "output_type": "execute_result"
    }
   ],
   "source": [
    "name.replace('H','P') # replace 써야"
   ]
  },
  {
   "cell_type": "code",
   "execution_count": 183,
   "id": "8f1a175b",
   "metadata": {},
   "outputs": [
    {
     "data": {
      "text/plain": [
       "'Penny'"
      ]
     },
     "execution_count": 183,
     "metadata": {},
     "output_type": "execute_result"
    }
   ],
   "source": [
    "'P'+name[1:]"
   ]
  },
  {
   "cell_type": "code",
   "execution_count": 184,
   "id": "f3607171",
   "metadata": {},
   "outputs": [],
   "source": [
    "#5.7 슬라이스로 부분 문자열 추출"
   ]
  },
  {
   "cell_type": "code",
   "execution_count": 185,
   "id": "515b8e98",
   "metadata": {},
   "outputs": [],
   "source": [
    "# [:] : 처음부터 끝까지 전체 시퀀스를 추출한다.\n",
    "# [start :] start 오프셋부터 끝까지 시퀀스를 추출한다.\n",
    "# [:end] 처음부터 (end -1) 오프셋까지 시퀀스를 추출한다.\n",
    "# [start :end] start 오프셋부터 (end-1)오프셋까지 시퀀스를 추출한다.\n",
    "# [start:end:step] step 만큼 문자를 건너뛰면서, start 오프셋부터 (end-1) 오프셋까지\n",
    "# 시퀀스를 추출한다."
   ]
  },
  {
   "cell_type": "code",
   "execution_count": 186,
   "id": "85342409",
   "metadata": {},
   "outputs": [],
   "source": [
    "letters = 'abcdefghijklmnopqrstuvwxyz'"
   ]
  },
  {
   "cell_type": "code",
   "execution_count": 187,
   "id": "a4e49b5b",
   "metadata": {},
   "outputs": [
    {
     "data": {
      "text/plain": [
       "'abcdefghijklmnopqrstuvwxyz'"
      ]
     },
     "execution_count": 187,
     "metadata": {},
     "output_type": "execute_result"
    }
   ],
   "source": [
    "letters[:]"
   ]
  },
  {
   "cell_type": "code",
   "execution_count": 188,
   "id": "5405d7b3",
   "metadata": {},
   "outputs": [
    {
     "data": {
      "text/plain": [
       "'uvwxyz'"
      ]
     },
     "execution_count": 188,
     "metadata": {},
     "output_type": "execute_result"
    }
   ],
   "source": [
    "letters[20:] #오프셋 20부터 문자열 끝까지 추출한다."
   ]
  },
  {
   "cell_type": "code",
   "execution_count": 189,
   "id": "51a90865",
   "metadata": {},
   "outputs": [
    {
     "data": {
      "text/plain": [
       "'klmnopqrstuvwxyz'"
      ]
     },
     "execution_count": 189,
     "metadata": {},
     "output_type": "execute_result"
    }
   ],
   "source": [
    "letters[10:] #파이썬은 마지막 오프셋은 포함하지 않는다."
   ]
  },
  {
   "cell_type": "code",
   "execution_count": 190,
   "id": "43a76a83",
   "metadata": {},
   "outputs": [
    {
     "data": {
      "text/plain": [
       "'mno'"
      ]
     },
     "execution_count": 190,
     "metadata": {},
     "output_type": "execute_result"
    }
   ],
   "source": [
    "letters[12:15]"
   ]
  },
  {
   "cell_type": "code",
   "execution_count": 191,
   "id": "55c7f096",
   "metadata": {},
   "outputs": [
    {
     "data": {
      "text/plain": [
       "'xyz'"
      ]
     },
     "execution_count": 191,
     "metadata": {},
     "output_type": "execute_result"
    }
   ],
   "source": [
    "letters[-3:]"
   ]
  },
  {
   "cell_type": "code",
   "execution_count": 192,
   "id": "38e9329f",
   "metadata": {},
   "outputs": [
    {
     "data": {
      "text/plain": [
       "'stuvw'"
      ]
     },
     "execution_count": 192,
     "metadata": {},
     "output_type": "execute_result"
    }
   ],
   "source": [
    "letters[18:-3]# 오프셋 18부터 마지막 네 번째 문자까지 추출해보자."
   ]
  },
  {
   "cell_type": "code",
   "execution_count": 193,
   "id": "e4af6f1e",
   "metadata": {},
   "outputs": [
    {
     "data": {
      "text/plain": [
       "'uvwx'"
      ]
     },
     "execution_count": 193,
     "metadata": {},
     "output_type": "execute_result"
    }
   ],
   "source": [
    "letters[-6:-2] # 끝에서 여섯번째 문자부터 끝에서 세 번째 문자까지 추출"
   ]
  },
  {
   "cell_type": "code",
   "execution_count": 194,
   "id": "1e258b14",
   "metadata": {},
   "outputs": [
    {
     "data": {
      "text/plain": [
       "'ahov'"
      ]
     },
     "execution_count": 194,
     "metadata": {},
     "output_type": "execute_result"
    }
   ],
   "source": [
    "letters[::7] # 처음부터 끝까지 7 스텝씩 건너뛰면서 추출."
   ]
  },
  {
   "cell_type": "code",
   "execution_count": 195,
   "id": "7c6b92e2",
   "metadata": {},
   "outputs": [
    {
     "data": {
      "text/plain": [
       "'ehknqt'"
      ]
     },
     "execution_count": 195,
     "metadata": {},
     "output_type": "execute_result"
    }
   ],
   "source": [
    "letters[4:20:3]# 4번째부터 19번째까지 3스텝씩 건너뛰기"
   ]
  },
  {
   "cell_type": "code",
   "execution_count": 196,
   "id": "18f731b8",
   "metadata": {},
   "outputs": [
    {
     "data": {
      "text/plain": [
       "'tx'"
      ]
     },
     "execution_count": 196,
     "metadata": {},
     "output_type": "execute_result"
    }
   ],
   "source": [
    "letters[19::4]"
   ]
  },
  {
   "cell_type": "code",
   "execution_count": 197,
   "id": "4d9c0785",
   "metadata": {},
   "outputs": [
    {
     "data": {
      "text/plain": [
       "'afkpu'"
      ]
     },
     "execution_count": 197,
     "metadata": {},
     "output_type": "execute_result"
    }
   ],
   "source": [
    "letters[:21:5] #처음부터 20번째까지 5스텝씩 건너뛰면서 문자를 추출."
   ]
  },
  {
   "cell_type": "code",
   "execution_count": 198,
   "id": "6d74dd54",
   "metadata": {},
   "outputs": [
    {
     "data": {
      "text/plain": [
       "'zyxwvutsrqponmlkjihgfedcba'"
      ]
     },
     "execution_count": 198,
     "metadata": {},
     "output_type": "execute_result"
    }
   ],
   "source": [
    "letters[-1::-1]"
   ]
  },
  {
   "cell_type": "code",
   "execution_count": 199,
   "id": "18414d27",
   "metadata": {},
   "outputs": [
    {
     "data": {
      "text/plain": [
       "'zyxwvutsrqponmlkjihgfedcba'"
      ]
     },
     "execution_count": 199,
     "metadata": {},
     "output_type": "execute_result"
    }
   ],
   "source": [
    "letters[::-1]"
   ]
  },
  {
   "cell_type": "code",
   "execution_count": 200,
   "id": "c3427b11",
   "metadata": {},
   "outputs": [],
   "source": [
    "# 슬라이스는 단일 인덱스 조회라기보다는 까다로운 오프셋 조건을 광범위하게\n",
    "# 조회하는 것에 더 가깝다.\n",
    "# "
   ]
  },
  {
   "cell_type": "code",
   "execution_count": 201,
   "id": "ef3f4b1e",
   "metadata": {},
   "outputs": [
    {
     "data": {
      "text/plain": [
       "'abcdefghijklmnopqrstuvwxyz'"
      ]
     },
     "execution_count": 201,
     "metadata": {},
     "output_type": "execute_result"
    }
   ],
   "source": [
    "letters[-50:] # 끝에서 50번째부터 문자열 끝까지 추출한다."
   ]
  },
  {
   "cell_type": "code",
   "execution_count": 202,
   "id": "54224c48",
   "metadata": {},
   "outputs": [
    {
     "data": {
      "text/plain": [
       "''"
      ]
     },
     "execution_count": 202,
     "metadata": {},
     "output_type": "execute_result"
    }
   ],
   "source": [
    "#끝에서 51번째부터 끝에서 50번째 전까지의 문자를 추출한다.\n",
    "letters[-51:-50]"
   ]
  },
  {
   "cell_type": "code",
   "execution_count": 203,
   "id": "6a8cd0b3",
   "metadata": {},
   "outputs": [
    {
     "data": {
      "text/plain": [
       "'abcdefghijklmnopqrstuvwxyz'"
      ]
     },
     "execution_count": 203,
     "metadata": {},
     "output_type": "execute_result"
    }
   ],
   "source": [
    "letters[:70]"
   ]
  },
  {
   "cell_type": "code",
   "execution_count": 204,
   "id": "43ff1ab5",
   "metadata": {},
   "outputs": [
    {
     "data": {
      "text/plain": [
       "''"
      ]
     },
     "execution_count": 204,
     "metadata": {},
     "output_type": "execute_result"
    }
   ],
   "source": [
    "letters[70:71]"
   ]
  },
  {
   "cell_type": "code",
   "execution_count": 205,
   "id": "6ea6f844",
   "metadata": {},
   "outputs": [
    {
     "data": {
      "text/plain": [
       "26"
      ]
     },
     "execution_count": 205,
     "metadata": {},
     "output_type": "execute_result"
    }
   ],
   "source": [
    "len(letters)"
   ]
  },
  {
   "cell_type": "code",
   "execution_count": 206,
   "id": "81c7fefb",
   "metadata": {},
   "outputs": [],
   "source": [
    "empty=\"\""
   ]
  },
  {
   "cell_type": "code",
   "execution_count": 207,
   "id": "05af11ed",
   "metadata": {},
   "outputs": [
    {
     "data": {
      "text/plain": [
       "0"
      ]
     },
     "execution_count": 207,
     "metadata": {},
     "output_type": "execute_result"
    }
   ],
   "source": [
    "len(empty)"
   ]
  },
  {
   "cell_type": "code",
   "execution_count": 208,
   "id": "e0626d90",
   "metadata": {},
   "outputs": [
    {
     "data": {
      "text/plain": [
       "1"
      ]
     },
     "execution_count": 208,
     "metadata": {},
     "output_type": "execute_result"
    }
   ],
   "source": [
    "empty1=\" \"\n",
    "len(empty1)"
   ]
  },
  {
   "cell_type": "code",
   "execution_count": 209,
   "id": "c8b12164",
   "metadata": {},
   "outputs": [],
   "source": [
    "# 문자열 나누기 : split()\n",
    "# len()과 달리 문자열에 특정한 함수도 있다.\n",
    "# 문자열 함수는 string.function(arguments) 형태로 사용한다.\n",
    "# 즉, 문자열 이름을 입력하고 . 을 입력한 후 함수 이름과 인수를 입력한다."
   ]
  },
  {
   "cell_type": "code",
   "execution_count": 210,
   "id": "06c339e8",
   "metadata": {},
   "outputs": [],
   "source": [
    "tasks =  'get gloves,get mask,give cat vitamins,call ambulance'"
   ]
  },
  {
   "cell_type": "code",
   "execution_count": 211,
   "id": "b7e51d1c",
   "metadata": {},
   "outputs": [
    {
     "data": {
      "text/plain": [
       "['get gloves', 'get mask', 'give cat vitamins', 'call ambulance']"
      ]
     },
     "execution_count": 211,
     "metadata": {},
     "output_type": "execute_result"
    }
   ],
   "source": [
    "tasks.split(',')"
   ]
  },
  {
   "cell_type": "code",
   "execution_count": 212,
   "id": "2b45b1ae",
   "metadata": {},
   "outputs": [],
   "source": [
    "#문자열 결합하기: join()"
   ]
  },
  {
   "cell_type": "code",
   "execution_count": 213,
   "id": "1e08edcb",
   "metadata": {},
   "outputs": [],
   "source": [
    "crypto_list =  ['Yeti',  'Bigfoot',   'Loch  Ness  Monster']"
   ]
  },
  {
   "cell_type": "code",
   "execution_count": 214,
   "id": "ea60b908",
   "metadata": {},
   "outputs": [],
   "source": [
    "crypto_string = ', '.join(crypto_list)"
   ]
  },
  {
   "cell_type": "code",
   "execution_count": 215,
   "id": "5a3b16e8",
   "metadata": {},
   "outputs": [
    {
     "name": "stdout",
     "output_type": "stream",
     "text": [
      "['Yeti', 'Bigfoot', 'Loch  Ness  Monster']\n"
     ]
    }
   ],
   "source": [
    "print(crypto_list)"
   ]
  },
  {
   "cell_type": "code",
   "execution_count": 216,
   "id": "625ea413",
   "metadata": {},
   "outputs": [
    {
     "name": "stdout",
     "output_type": "stream",
     "text": [
      "Found and  signing book deals: Yeti, Bigfoot, Loch  Ness  Monster\n"
     ]
    }
   ],
   "source": [
    "print('Found and  signing book deals:',crypto_string)"
   ]
  },
  {
   "cell_type": "code",
   "execution_count": 217,
   "id": "6e993f89",
   "metadata": {},
   "outputs": [],
   "source": [
    "setup = \"a duck goes into a bar...\""
   ]
  },
  {
   "cell_type": "code",
   "execution_count": 218,
   "id": "d3ef111a",
   "metadata": {},
   "outputs": [
    {
     "data": {
      "text/plain": [
       "'a marmoset goes into a bar...'"
      ]
     },
     "execution_count": 218,
     "metadata": {},
     "output_type": "execute_result"
    }
   ],
   "source": [
    "setup.replace('duck','marmoset')"
   ]
  },
  {
   "cell_type": "code",
   "execution_count": 219,
   "id": "cb56c3e3",
   "metadata": {},
   "outputs": [
    {
     "data": {
      "text/plain": [
       "'a duck goes into a bar...'"
      ]
     },
     "execution_count": 219,
     "metadata": {},
     "output_type": "execute_result"
    }
   ],
   "source": [
    "setup"
   ]
  },
  {
   "cell_type": "code",
   "execution_count": 220,
   "id": "6cffbe4a",
   "metadata": {},
   "outputs": [
    {
     "data": {
      "text/plain": [
       "'a famous duck goes into a famous bar...'"
      ]
     },
     "execution_count": 220,
     "metadata": {},
     "output_type": "execute_result"
    }
   ],
   "source": [
    "setup.replace('a ', 'a famous ',100)"
   ]
  },
  {
   "cell_type": "code",
   "execution_count": 221,
   "id": "43e1a1e7",
   "metadata": {},
   "outputs": [],
   "source": [
    "#문자열 스트립 : strip()"
   ]
  },
  {
   "cell_type": "code",
   "execution_count": 222,
   "id": "e22535f6",
   "metadata": {},
   "outputs": [],
   "source": [
    "world = \" earth\""
   ]
  },
  {
   "cell_type": "code",
   "execution_count": 223,
   "id": "71dffb0a",
   "metadata": {},
   "outputs": [
    {
     "data": {
      "text/plain": [
       "'earth'"
      ]
     },
     "execution_count": 223,
     "metadata": {},
     "output_type": "execute_result"
    }
   ],
   "source": [
    "world.strip()"
   ]
  },
  {
   "cell_type": "code",
   "execution_count": 224,
   "id": "2d331634",
   "metadata": {},
   "outputs": [
    {
     "data": {
      "text/plain": [
       "'earth'"
      ]
     },
     "execution_count": 224,
     "metadata": {},
     "output_type": "execute_result"
    }
   ],
   "source": [
    "world.strip(' ')"
   ]
  },
  {
   "cell_type": "code",
   "execution_count": 225,
   "id": "1a32a60f",
   "metadata": {},
   "outputs": [
    {
     "data": {
      "text/plain": [
       "'earth'"
      ]
     },
     "execution_count": 225,
     "metadata": {},
     "output_type": "execute_result"
    }
   ],
   "source": [
    "world.lstrip()"
   ]
  },
  {
   "cell_type": "code",
   "execution_count": 226,
   "id": "adcef895",
   "metadata": {},
   "outputs": [
    {
     "data": {
      "text/plain": [
       "' earth'"
      ]
     },
     "execution_count": 226,
     "metadata": {},
     "output_type": "execute_result"
    }
   ],
   "source": [
    "world.rstrip() # 오른쪽 끝만 제거 "
   ]
  },
  {
   "cell_type": "code",
   "execution_count": 227,
   "id": "68c1dd14",
   "metadata": {},
   "outputs": [],
   "source": [
    "blurt = \"What the...!!?\""
   ]
  },
  {
   "cell_type": "code",
   "execution_count": 228,
   "id": "6b872822",
   "metadata": {},
   "outputs": [
    {
     "data": {
      "text/plain": [
       "'What the'"
      ]
     },
     "execution_count": 228,
     "metadata": {},
     "output_type": "execute_result"
    }
   ],
   "source": [
    "blurt.strip('.?!')"
   ]
  },
  {
   "cell_type": "code",
   "execution_count": 229,
   "id": "46290163",
   "metadata": {},
   "outputs": [],
   "source": [
    "import string"
   ]
  },
  {
   "cell_type": "code",
   "execution_count": 230,
   "id": "72b9eda4",
   "metadata": {},
   "outputs": [
    {
     "data": {
      "text/plain": [
       "' \\t\\n\\r\\x0b\\x0c'"
      ]
     },
     "execution_count": 230,
     "metadata": {},
     "output_type": "execute_result"
    }
   ],
   "source": [
    "string.whitespace"
   ]
  },
  {
   "cell_type": "code",
   "execution_count": 231,
   "id": "05da4bfc",
   "metadata": {},
   "outputs": [
    {
     "data": {
      "text/plain": [
       "'!\"#$%&\\'()*+,-./:;<=>?@[\\\\]^_`{|}~'"
      ]
     },
     "execution_count": 231,
     "metadata": {},
     "output_type": "execute_result"
    }
   ],
   "source": [
    "string.punctuation"
   ]
  },
  {
   "cell_type": "code",
   "execution_count": 232,
   "id": "d8ceaf96",
   "metadata": {},
   "outputs": [],
   "source": [
    "blurt = \"What the...!!?\""
   ]
  },
  {
   "cell_type": "code",
   "execution_count": 233,
   "id": "75336ecf",
   "metadata": {},
   "outputs": [
    {
     "data": {
      "text/plain": [
       "'What the'"
      ]
     },
     "execution_count": 233,
     "metadata": {},
     "output_type": "execute_result"
    }
   ],
   "source": [
    "blurt.strip(string.punctuation)"
   ]
  },
  {
   "cell_type": "code",
   "execution_count": 234,
   "id": "7fb014ee",
   "metadata": {},
   "outputs": [],
   "source": [
    "prospector = \"What in tarnation ...??!!\""
   ]
  },
  {
   "cell_type": "code",
   "execution_count": 235,
   "id": "3cb006fa",
   "metadata": {},
   "outputs": [
    {
     "data": {
      "text/plain": [
       "'What in tarnation'"
      ]
     },
     "execution_count": 235,
     "metadata": {},
     "output_type": "execute_result"
    }
   ],
   "source": [
    "prospector.strip(string.whitespace+string.punctuation)"
   ]
  },
  {
   "cell_type": "code",
   "execution_count": 236,
   "id": "7a16fc68",
   "metadata": {},
   "outputs": [],
   "source": [
    "# 검색과 선택"
   ]
  },
  {
   "cell_type": "code",
   "execution_count": 237,
   "id": "bae8a231",
   "metadata": {},
   "outputs": [],
   "source": [
    "poem  = '''All that doth flow we  cannot  liquid name \n",
    "... Or else would  fire and  water be  the same;\n",
    "... But  that is liquid which  is moist and  wet \n",
    "... Fire that property can  never get.\n",
    "... Then  'tis not  cold  that doth  the fire put out \n",
    "... But  'tis the wet  that makes  it die,  no  doubt.'''"
   ]
  },
  {
   "cell_type": "code",
   "execution_count": 238,
   "id": "15e16bd0",
   "metadata": {},
   "outputs": [
    {
     "data": {
      "text/plain": [
       "'All that doth'"
      ]
     },
     "execution_count": 238,
     "metadata": {},
     "output_type": "execute_result"
    }
   ],
   "source": [
    "poem[:13] # 13자를 출력"
   ]
  },
  {
   "cell_type": "code",
   "execution_count": 239,
   "id": "352b7ff1",
   "metadata": {},
   "outputs": [
    {
     "data": {
      "text/plain": [
       "271"
      ]
     },
     "execution_count": 239,
     "metadata": {},
     "output_type": "execute_result"
    }
   ],
   "source": [
    "len(poem) # 몇 글자로 되어있을까?"
   ]
  },
  {
   "cell_type": "code",
   "execution_count": 240,
   "id": "d5152c15",
   "metadata": {},
   "outputs": [
    {
     "data": {
      "text/plain": [
       "True"
      ]
     },
     "execution_count": 240,
     "metadata": {},
     "output_type": "execute_result"
    }
   ],
   "source": [
    "poem.startswith('All')"
   ]
  },
  {
   "cell_type": "code",
   "execution_count": 241,
   "id": "0966a517",
   "metadata": {},
   "outputs": [
    {
     "data": {
      "text/plain": [
       "False"
      ]
     },
     "execution_count": 241,
     "metadata": {},
     "output_type": "execute_result"
    }
   ],
   "source": [
    "poem.endswith('That\\'sall, folks!')"
   ]
  },
  {
   "cell_type": "code",
   "execution_count": 242,
   "id": "655f0718",
   "metadata": {},
   "outputs": [],
   "source": [
    "#파이썬은 어떤 문자열에서 부분 문자열 오프셋을 찾기 위한 두 개의 메서드\n",
    "#find(), index()가 있으며, 각 두 가지 버전이 있다.\n",
    "# 두 메서드 모두 부분 문자열을 찾았을 때 같은 결과를 반환한다."
   ]
  },
  {
   "cell_type": "code",
   "execution_count": 243,
   "id": "a0dd40c9",
   "metadata": {},
   "outputs": [],
   "source": [
    "word = 'the'"
   ]
  },
  {
   "cell_type": "code",
   "execution_count": 244,
   "id": "d62c9660",
   "metadata": {},
   "outputs": [
    {
     "data": {
      "text/plain": [
       "79"
      ]
     },
     "execution_count": 244,
     "metadata": {},
     "output_type": "execute_result"
    }
   ],
   "source": [
    "poem.find(word)"
   ]
  },
  {
   "cell_type": "code",
   "execution_count": 245,
   "id": "813fcef6",
   "metadata": {},
   "outputs": [
    {
     "data": {
      "text/plain": [
       "79"
      ]
     },
     "execution_count": 245,
     "metadata": {},
     "output_type": "execute_result"
    }
   ],
   "source": [
    "poem.index(word)"
   ]
  },
  {
   "cell_type": "code",
   "execution_count": 246,
   "id": "cbc8ae9c",
   "metadata": {},
   "outputs": [],
   "source": [
    "word = 'the'"
   ]
  },
  {
   "cell_type": "code",
   "execution_count": 247,
   "id": "cb8fde46",
   "metadata": {},
   "outputs": [
    {
     "data": {
      "text/plain": [
       "231"
      ]
     },
     "execution_count": 247,
     "metadata": {},
     "output_type": "execute_result"
    }
   ],
   "source": [
    "poem.rfind(word)"
   ]
  },
  {
   "cell_type": "code",
   "execution_count": 248,
   "id": "d28fe72b",
   "metadata": {},
   "outputs": [
    {
     "data": {
      "text/plain": [
       "231"
      ]
     },
     "execution_count": 248,
     "metadata": {},
     "output_type": "execute_result"
    }
   ],
   "source": [
    "poem.rindex(word)"
   ]
  },
  {
   "cell_type": "code",
   "execution_count": 249,
   "id": "4e81da47",
   "metadata": {},
   "outputs": [],
   "source": [
    "word = \"duck\""
   ]
  },
  {
   "cell_type": "code",
   "execution_count": 250,
   "id": "e89da3ee",
   "metadata": {},
   "outputs": [
    {
     "data": {
      "text/plain": [
       "-1"
      ]
     },
     "execution_count": 250,
     "metadata": {},
     "output_type": "execute_result"
    }
   ],
   "source": [
    "poem.find(word)"
   ]
  },
  {
   "cell_type": "code",
   "execution_count": 251,
   "id": "b41345d6",
   "metadata": {},
   "outputs": [
    {
     "data": {
      "text/plain": [
       "-1"
      ]
     },
     "execution_count": 251,
     "metadata": {},
     "output_type": "execute_result"
    }
   ],
   "source": [
    "poem.rfind(word)"
   ]
  },
  {
   "cell_type": "code",
   "execution_count": 252,
   "id": "f8dd32d4",
   "metadata": {},
   "outputs": [
    {
     "ename": "ValueError",
     "evalue": "substring not found",
     "output_type": "error",
     "traceback": [
      "\u001b[1;31m---------------------------------------------------------------------------\u001b[0m",
      "\u001b[1;31mValueError\u001b[0m                                Traceback (most recent call last)",
      "Cell \u001b[1;32mIn[252], line 1\u001b[0m\n\u001b[1;32m----> 1\u001b[0m poem\u001b[38;5;241m.\u001b[39mindex(word)\n",
      "\u001b[1;31mValueError\u001b[0m: substring not found"
     ]
    }
   ],
   "source": [
    "poem.index(word)"
   ]
  },
  {
   "cell_type": "code",
   "execution_count": 253,
   "id": "82862591",
   "metadata": {},
   "outputs": [
    {
     "data": {
      "text/plain": [
       "-1"
      ]
     },
     "execution_count": 253,
     "metadata": {},
     "output_type": "execute_result"
    }
   ],
   "source": [
    "poem.rfind(word)"
   ]
  },
  {
   "cell_type": "code",
   "execution_count": 254,
   "id": "1fa5e650",
   "metadata": {},
   "outputs": [
    {
     "ename": "ValueError",
     "evalue": "substring not found",
     "output_type": "error",
     "traceback": [
      "\u001b[1;31m---------------------------------------------------------------------------\u001b[0m",
      "\u001b[1;31mValueError\u001b[0m                                Traceback (most recent call last)",
      "Cell \u001b[1;32mIn[254], line 1\u001b[0m\n\u001b[1;32m----> 1\u001b[0m poem\u001b[38;5;241m.\u001b[39mrindex(word)\n",
      "\u001b[1;31mValueError\u001b[0m: substring not found"
     ]
    }
   ],
   "source": [
    "poem.rindex(word)"
   ]
  },
  {
   "cell_type": "code",
   "execution_count": 255,
   "id": "6c4db54d",
   "metadata": {},
   "outputs": [],
   "source": [
    "#대소 문자"
   ]
  },
  {
   "cell_type": "code",
   "execution_count": 256,
   "id": "a0f8d60d",
   "metadata": {},
   "outputs": [],
   "source": [
    "setup = 'a duck goes into a bar...'"
   ]
  },
  {
   "cell_type": "code",
   "execution_count": 257,
   "id": "b03a216d",
   "metadata": {},
   "outputs": [
    {
     "data": {
      "text/plain": [
       "'a duck goes into a bar'"
      ]
     },
     "execution_count": 257,
     "metadata": {},
     "output_type": "execute_result"
    }
   ],
   "source": [
    "setup.strip('.')"
   ]
  },
  {
   "cell_type": "code",
   "execution_count": 258,
   "id": "ae054a1a",
   "metadata": {},
   "outputs": [],
   "source": [
    "#문자열은 불변 객체이기 때문에 setup 문자열을 실제로 바꿀 수 없다.\n",
    "# 각 예제는 값을 설정하고, 함수를 수행한 뒤, 새로운 문자열로 결과를 반환한다."
   ]
  },
  {
   "cell_type": "code",
   "execution_count": 259,
   "id": "1fb59ddd",
   "metadata": {},
   "outputs": [
    {
     "data": {
      "text/plain": [
       "'A duck goes into a bar...'"
      ]
     },
     "execution_count": 259,
     "metadata": {},
     "output_type": "execute_result"
    }
   ],
   "source": [
    "setup.capitalize()"
   ]
  },
  {
   "cell_type": "code",
   "execution_count": 260,
   "id": "e48da8a9",
   "metadata": {},
   "outputs": [
    {
     "data": {
      "text/plain": [
       "'A Duck Goes Into A Bar...'"
      ]
     },
     "execution_count": 260,
     "metadata": {},
     "output_type": "execute_result"
    }
   ],
   "source": [
    "setup.title()"
   ]
  },
  {
   "cell_type": "code",
   "execution_count": 261,
   "id": "b8048cc6",
   "metadata": {},
   "outputs": [
    {
     "data": {
      "text/plain": [
       "'A DUCK GOES INTO A BAR...'"
      ]
     },
     "execution_count": 261,
     "metadata": {},
     "output_type": "execute_result"
    }
   ],
   "source": [
    "setup.upper()"
   ]
  },
  {
   "cell_type": "code",
   "execution_count": 262,
   "id": "cd1bf8a5",
   "metadata": {},
   "outputs": [
    {
     "data": {
      "text/plain": [
       "'a duck goes into a bar...'"
      ]
     },
     "execution_count": 262,
     "metadata": {},
     "output_type": "execute_result"
    }
   ],
   "source": [
    "setup.lower()"
   ]
  },
  {
   "cell_type": "code",
   "execution_count": 263,
   "id": "0d09db0c",
   "metadata": {},
   "outputs": [
    {
     "data": {
      "text/plain": [
       "'A DUCK GOES INTO A BAR...'"
      ]
     },
     "execution_count": 263,
     "metadata": {},
     "output_type": "execute_result"
    }
   ],
   "source": [
    "setup.swapcase()"
   ]
  },
  {
   "cell_type": "code",
   "execution_count": 264,
   "id": "82987060",
   "metadata": {},
   "outputs": [],
   "source": [
    "# 5.15 정렬"
   ]
  },
  {
   "cell_type": "code",
   "execution_count": 265,
   "id": "a21bb25f",
   "metadata": {},
   "outputs": [
    {
     "data": {
      "text/plain": [
       "'  a duck goes into a bar...   '"
      ]
     },
     "execution_count": 265,
     "metadata": {},
     "output_type": "execute_result"
    }
   ],
   "source": [
    "setup.center(30)"
   ]
  },
  {
   "cell_type": "code",
   "execution_count": 266,
   "id": "24f8b003",
   "metadata": {},
   "outputs": [
    {
     "data": {
      "text/plain": [
       "'a duck goes into a bar...     '"
      ]
     },
     "execution_count": 266,
     "metadata": {},
     "output_type": "execute_result"
    }
   ],
   "source": [
    "setup.ljust(30)"
   ]
  },
  {
   "cell_type": "code",
   "execution_count": 267,
   "id": "1d01bc9d",
   "metadata": {},
   "outputs": [
    {
     "data": {
      "text/plain": [
       "'     a duck goes into a bar...'"
      ]
     },
     "execution_count": 267,
     "metadata": {},
     "output_type": "execute_result"
    }
   ],
   "source": [
    "setup.rjust(30)"
   ]
  },
  {
   "cell_type": "code",
   "execution_count": 268,
   "id": "9addf803",
   "metadata": {},
   "outputs": [],
   "source": [
    "#포맷팅"
   ]
  },
  {
   "cell_type": "code",
   "execution_count": 269,
   "id": "414153d7",
   "metadata": {},
   "outputs": [
    {
     "data": {
      "text/plain": [
       "'42'"
      ]
     },
     "execution_count": 269,
     "metadata": {},
     "output_type": "execute_result"
    }
   ],
   "source": [
    "'%s' %42"
   ]
  },
  {
   "cell_type": "code",
   "execution_count": 270,
   "id": "d0fd07dd",
   "metadata": {},
   "outputs": [
    {
     "data": {
      "text/plain": [
       "'42'"
      ]
     },
     "execution_count": 270,
     "metadata": {},
     "output_type": "execute_result"
    }
   ],
   "source": [
    "'%d'%42"
   ]
  },
  {
   "cell_type": "code",
   "execution_count": 271,
   "id": "d7c3d8ba",
   "metadata": {},
   "outputs": [
    {
     "data": {
      "text/plain": [
       "'2a'"
      ]
     },
     "execution_count": 271,
     "metadata": {},
     "output_type": "execute_result"
    }
   ],
   "source": [
    "'%x'%42"
   ]
  },
  {
   "cell_type": "code",
   "execution_count": 272,
   "id": "4be62a9b",
   "metadata": {},
   "outputs": [
    {
     "data": {
      "text/plain": [
       "'52'"
      ]
     },
     "execution_count": 272,
     "metadata": {},
     "output_type": "execute_result"
    }
   ],
   "source": [
    "'%o'%42"
   ]
  },
  {
   "cell_type": "code",
   "execution_count": 273,
   "id": "199ccc06",
   "metadata": {},
   "outputs": [
    {
     "ename": "SyntaxError",
     "evalue": "invalid syntax (1442167322.py, line 1)",
     "output_type": "error",
     "traceback": [
      "\u001b[1;36m  Cell \u001b[1;32mIn[273], line 1\u001b[1;36m\u001b[0m\n\u001b[1;33m    '%s'  % 7.03  '7.03'\u001b[0m\n\u001b[1;37m                  ^\u001b[0m\n\u001b[1;31mSyntaxError\u001b[0m\u001b[1;31m:\u001b[0m invalid syntax\n"
     ]
    }
   ],
   "source": [
    "'%s'  % 7.03  '7.03'\n",
    "'%f'  % 7.03  '7.030000' \n",
    "'%e'  % 7.03  '7.030000e+00'\n",
    "'%g'  % 7.03  '7.03'  \n",
    "#에러나는데?"
   ]
  },
  {
   "cell_type": "code",
   "execution_count": 274,
   "id": "e7145a3a",
   "metadata": {},
   "outputs": [
    {
     "name": "stdout",
     "output_type": "stream",
     "text": [
      "7.03\n",
      "7.030000\n",
      "7.03e+00\n",
      "7\n"
     ]
    }
   ],
   "source": [
    "print('%.2f' % 7.03)  # '7.03'\n",
    "print('%.6f' % 7.03)  # '7.030000'\n",
    "print('%.2e' % 7.03)  # '7.03e+00'\n",
    "print('%.2g' % 7.03)  # '7.03'"
   ]
  },
  {
   "cell_type": "code",
   "execution_count": 275,
   "id": "bd93f698",
   "metadata": {},
   "outputs": [
    {
     "data": {
      "text/plain": [
       "'100%'"
      ]
     },
     "execution_count": 275,
     "metadata": {},
     "output_type": "execute_result"
    }
   ],
   "source": [
    "'%d%%' %100"
   ]
  },
  {
   "cell_type": "code",
   "execution_count": 276,
   "id": "8fc28bc1",
   "metadata": {},
   "outputs": [],
   "source": [
    "actor ='Richard Gere'\n",
    "cat = 'Chester'\n",
    "weight = 28"
   ]
  },
  {
   "cell_type": "code",
   "execution_count": 277,
   "id": "dfc3cf72",
   "metadata": {},
   "outputs": [
    {
     "data": {
      "text/plain": [
       "\"My wife's favorite actor is Richard Gere\""
      ]
     },
     "execution_count": 277,
     "metadata": {},
     "output_type": "execute_result"
    }
   ],
   "source": [
    "\"My wife's favorite actor is %s\" % actor"
   ]
  },
  {
   "cell_type": "code",
   "execution_count": 278,
   "id": "2c8171c8",
   "metadata": {},
   "outputs": [
    {
     "data": {
      "text/plain": [
       "'Our cat Chester weighs 28 pounds'"
      ]
     },
     "execution_count": 278,
     "metadata": {},
     "output_type": "execute_result"
    }
   ],
   "source": [
    "\"Our cat %s weighs %s pounds\" % (cat,weight)"
   ]
  },
  {
   "cell_type": "code",
   "execution_count": 279,
   "id": "708d0b87",
   "metadata": {},
   "outputs": [],
   "source": [
    "thing = 'woodchuck'"
   ]
  },
  {
   "cell_type": "code",
   "execution_count": 280,
   "id": "0aa48df0",
   "metadata": {},
   "outputs": [
    {
     "data": {
      "text/plain": [
       "'woodchuck'"
      ]
     },
     "execution_count": 280,
     "metadata": {},
     "output_type": "execute_result"
    }
   ],
   "source": [
    "'%s' % thing"
   ]
  },
  {
   "cell_type": "code",
   "execution_count": 281,
   "id": "c55612ff",
   "metadata": {},
   "outputs": [
    {
     "data": {
      "text/plain": [
       "'   woodchuck'"
      ]
     },
     "execution_count": 281,
     "metadata": {},
     "output_type": "execute_result"
    }
   ],
   "source": [
    "'%12s'%thing"
   ]
  },
  {
   "cell_type": "code",
   "execution_count": 282,
   "id": "62fc6274",
   "metadata": {},
   "outputs": [
    {
     "data": {
      "text/plain": [
       "'   woodchuck'"
      ]
     },
     "execution_count": 282,
     "metadata": {},
     "output_type": "execute_result"
    }
   ],
   "source": [
    "'%+12s' % thing"
   ]
  },
  {
   "cell_type": "code",
   "execution_count": 283,
   "id": "e74ec79b",
   "metadata": {},
   "outputs": [
    {
     "data": {
      "text/plain": [
       "'woodchuck   '"
      ]
     },
     "execution_count": 283,
     "metadata": {},
     "output_type": "execute_result"
    }
   ],
   "source": [
    "'%-12s' % thing"
   ]
  },
  {
   "cell_type": "code",
   "execution_count": 284,
   "id": "fd32b8b7",
   "metadata": {},
   "outputs": [
    {
     "data": {
      "text/plain": [
       "'woo'"
      ]
     },
     "execution_count": 284,
     "metadata": {},
     "output_type": "execute_result"
    }
   ],
   "source": [
    "'%.3s'% thing"
   ]
  },
  {
   "cell_type": "code",
   "execution_count": 285,
   "id": "c1da6ce6",
   "metadata": {},
   "outputs": [
    {
     "data": {
      "text/plain": [
       "'         woo'"
      ]
     },
     "execution_count": 285,
     "metadata": {},
     "output_type": "execute_result"
    }
   ],
   "source": [
    "'%12.3s'%thing"
   ]
  },
  {
   "cell_type": "code",
   "execution_count": 286,
   "id": "db2503ff",
   "metadata": {},
   "outputs": [
    {
     "data": {
      "text/plain": [
       "'woo         '"
      ]
     },
     "execution_count": 286,
     "metadata": {},
     "output_type": "execute_result"
    }
   ],
   "source": [
    "'%-12.3s'%thing"
   ]
  },
  {
   "cell_type": "code",
   "execution_count": null,
   "id": "f6f8b8a3",
   "metadata": {},
   "outputs": [],
   "source": []
  },
  {
   "cell_type": "code",
   "execution_count": 287,
   "id": "2f2ba9a9",
   "metadata": {},
   "outputs": [],
   "source": [
    "# 부동소수점 수 포매팅 %f 예제"
   ]
  },
  {
   "cell_type": "code",
   "execution_count": 288,
   "id": "4c0f8ca6",
   "metadata": {},
   "outputs": [],
   "source": [
    "thing = 98.6"
   ]
  },
  {
   "cell_type": "code",
   "execution_count": 289,
   "id": "137bfdc2",
   "metadata": {},
   "outputs": [
    {
     "data": {
      "text/plain": [
       "'98.600000'"
      ]
     },
     "execution_count": 289,
     "metadata": {},
     "output_type": "execute_result"
    }
   ],
   "source": [
    "'%f'% thing"
   ]
  },
  {
   "cell_type": "code",
   "execution_count": 290,
   "id": "7184cbcc",
   "metadata": {},
   "outputs": [
    {
     "data": {
      "text/plain": [
       "'   98.600000 '"
      ]
     },
     "execution_count": 290,
     "metadata": {},
     "output_type": "execute_result"
    }
   ],
   "source": [
    "'%12f '%thing"
   ]
  },
  {
   "cell_type": "code",
   "execution_count": 291,
   "id": "3d3e5195",
   "metadata": {},
   "outputs": [
    {
     "data": {
      "text/plain": [
       "'  +98.600000 '"
      ]
     },
     "execution_count": 291,
     "metadata": {},
     "output_type": "execute_result"
    }
   ],
   "source": [
    "'%+12f '%thing"
   ]
  },
  {
   "cell_type": "code",
   "execution_count": 292,
   "id": "8d786cd2",
   "metadata": {},
   "outputs": [
    {
     "data": {
      "text/plain": [
       "'98.600       '"
      ]
     },
     "execution_count": 292,
     "metadata": {},
     "output_type": "execute_result"
    }
   ],
   "source": [
    "'%-12.3f '% thing"
   ]
  },
  {
   "cell_type": "code",
   "execution_count": null,
   "id": "61dc63fc",
   "metadata": {},
   "outputs": [],
   "source": []
  },
  {
   "cell_type": "code",
   "execution_count": 293,
   "id": "65f5c2e0",
   "metadata": {},
   "outputs": [],
   "source": [
    "#정수 포매팅 %d 예제"
   ]
  },
  {
   "cell_type": "code",
   "execution_count": 294,
   "id": "bc775006",
   "metadata": {},
   "outputs": [],
   "source": [
    "thing = 9876"
   ]
  },
  {
   "cell_type": "code",
   "execution_count": 295,
   "id": "058ce63d",
   "metadata": {},
   "outputs": [
    {
     "data": {
      "text/plain": [
       "'9876'"
      ]
     },
     "execution_count": 295,
     "metadata": {},
     "output_type": "execute_result"
    }
   ],
   "source": [
    "'%d' % thing"
   ]
  },
  {
   "cell_type": "code",
   "execution_count": 296,
   "id": "37c61442",
   "metadata": {},
   "outputs": [
    {
     "data": {
      "text/plain": [
       "'        9876'"
      ]
     },
     "execution_count": 296,
     "metadata": {},
     "output_type": "execute_result"
    }
   ],
   "source": [
    "'%12d' % thing"
   ]
  },
  {
   "cell_type": "code",
   "execution_count": 297,
   "id": "1eff5ab8",
   "metadata": {},
   "outputs": [
    {
     "data": {
      "text/plain": [
       "'       +9876'"
      ]
     },
     "execution_count": 297,
     "metadata": {},
     "output_type": "execute_result"
    }
   ],
   "source": [
    "'%+12d' % thing"
   ]
  },
  {
   "cell_type": "code",
   "execution_count": 298,
   "id": "116b64c3",
   "metadata": {},
   "outputs": [
    {
     "data": {
      "text/plain": [
       "'9876        '"
      ]
     },
     "execution_count": 298,
     "metadata": {},
     "output_type": "execute_result"
    }
   ],
   "source": [
    "'%-12d' % thing"
   ]
  },
  {
   "cell_type": "code",
   "execution_count": 299,
   "id": "42e24b46",
   "metadata": {},
   "outputs": [
    {
     "data": {
      "text/plain": [
       "'9876'"
      ]
     },
     "execution_count": 299,
     "metadata": {},
     "output_type": "execute_result"
    }
   ],
   "source": [
    "'%.3d' % thing"
   ]
  },
  {
   "cell_type": "code",
   "execution_count": 300,
   "id": "63448fda",
   "metadata": {},
   "outputs": [
    {
     "data": {
      "text/plain": [
       "'        9876'"
      ]
     },
     "execution_count": 300,
     "metadata": {},
     "output_type": "execute_result"
    }
   ],
   "source": [
    "'%12.3d'%thing"
   ]
  },
  {
   "cell_type": "code",
   "execution_count": 301,
   "id": "2a2a10db",
   "metadata": {},
   "outputs": [
    {
     "data": {
      "text/plain": [
       "'9876        '"
      ]
     },
     "execution_count": 301,
     "metadata": {},
     "output_type": "execute_result"
    }
   ],
   "source": [
    "'%-12.3d' % thing"
   ]
  },
  {
   "cell_type": "code",
   "execution_count": null,
   "id": "df4b4347",
   "metadata": {},
   "outputs": [],
   "source": []
  },
  {
   "cell_type": "code",
   "execution_count": 302,
   "id": "fd2b794c",
   "metadata": {},
   "outputs": [],
   "source": [
    "#새 스타일:{}, format()"
   ]
  },
  {
   "cell_type": "code",
   "execution_count": 303,
   "id": "1c23b4fb",
   "metadata": {},
   "outputs": [],
   "source": [
    "thing = 'woodchuck'"
   ]
  },
  {
   "cell_type": "code",
   "execution_count": 304,
   "id": "2ef34e2b",
   "metadata": {},
   "outputs": [
    {
     "data": {
      "text/plain": [
       "'woodchuck'"
      ]
     },
     "execution_count": 304,
     "metadata": {},
     "output_type": "execute_result"
    }
   ],
   "source": [
    "'{}'.format(thing)"
   ]
  },
  {
   "cell_type": "code",
   "execution_count": 305,
   "id": "e916d154",
   "metadata": {},
   "outputs": [],
   "source": [
    "thing = 'woodchuck'"
   ]
  },
  {
   "cell_type": "code",
   "execution_count": 306,
   "id": "dba5b0d8",
   "metadata": {},
   "outputs": [],
   "source": [
    "place = 'lake'"
   ]
  },
  {
   "cell_type": "code",
   "execution_count": 307,
   "id": "12971376",
   "metadata": {},
   "outputs": [
    {
     "data": {
      "text/plain": [
       "'The woodchuck is in the lake.'"
      ]
     },
     "execution_count": 307,
     "metadata": {},
     "output_type": "execute_result"
    }
   ],
   "source": [
    "'The {} is in the {}.'.format(thing,place)"
   ]
  },
  {
   "cell_type": "code",
   "execution_count": 308,
   "id": "c14579ff",
   "metadata": {},
   "outputs": [
    {
     "data": {
      "text/plain": [
       "'The woodchuckis in thelake.'"
      ]
     },
     "execution_count": 308,
     "metadata": {},
     "output_type": "execute_result"
    }
   ],
   "source": [
    "'The {1}is in the{0}.'.format(place,thing)"
   ]
  },
  {
   "cell_type": "code",
   "execution_count": 309,
   "id": "cf21c2aa",
   "metadata": {},
   "outputs": [],
   "source": [
    "# 값 0은 첫 번째 인수 place를 나타내고, 값 1 은 두 번째 인수 thing를 나타낸다.\n",
    "# format()에서 인수를 명명하여 다음과 같이 사용할 수 있다."
   ]
  },
  {
   "cell_type": "code",
   "execution_count": 310,
   "id": "befab40a",
   "metadata": {},
   "outputs": [
    {
     "data": {
      "text/plain": [
       "'The duck is in the bathtub'"
      ]
     },
     "execution_count": 310,
     "metadata": {},
     "output_type": "execute_result"
    }
   ],
   "source": [
    "'The {thing} is in the {place}'.format(thing='duck',place='bathtub')"
   ]
  },
  {
   "cell_type": "code",
   "execution_count": 311,
   "id": "5979bc62",
   "metadata": {},
   "outputs": [],
   "source": [
    "d={'thing':'duck','place':'bathtub'}"
   ]
  },
  {
   "cell_type": "code",
   "execution_count": 312,
   "id": "de001b07",
   "metadata": {},
   "outputs": [
    {
     "data": {
      "text/plain": [
       "{'thing': 'duck', 'place': 'bathtub'}"
      ]
     },
     "execution_count": 312,
     "metadata": {},
     "output_type": "execute_result"
    }
   ],
   "source": [
    "d"
   ]
  },
  {
   "cell_type": "code",
   "execution_count": 313,
   "id": "1e9f3dc9",
   "metadata": {},
   "outputs": [],
   "source": [
    "# 최신 스타일: f-문자열"
   ]
  },
  {
   "cell_type": "code",
   "execution_count": 314,
   "id": "f5f40101",
   "metadata": {},
   "outputs": [],
   "source": [
    "thing = 'wereduck'"
   ]
  },
  {
   "cell_type": "code",
   "execution_count": 315,
   "id": "be4eda2c",
   "metadata": {},
   "outputs": [],
   "source": [
    "place = 'werepond'"
   ]
  },
  {
   "cell_type": "code",
   "execution_count": 316,
   "id": "49ed597d",
   "metadata": {},
   "outputs": [
    {
     "data": {
      "text/plain": [
       "'The wereduck is in the werepond'"
      ]
     },
     "execution_count": 316,
     "metadata": {},
     "output_type": "execute_result"
    }
   ],
   "source": [
    "f'The {thing} is in the {place}'"
   ]
  },
  {
   "cell_type": "code",
   "execution_count": 317,
   "id": "ef726102",
   "metadata": {},
   "outputs": [
    {
     "data": {
      "text/plain": [
       "'The Wereduck is in the             werepond'"
      ]
     },
     "execution_count": 317,
     "metadata": {},
     "output_type": "execute_result"
    }
   ],
   "source": [
    "f'The {thing.capitalize()} is in the {place.rjust(20)}'"
   ]
  },
  {
   "cell_type": "code",
   "execution_count": 318,
   "id": "7634f7ee",
   "metadata": {},
   "outputs": [],
   "source": [
    "#f-문자열은 이전 절에서 본 format() 메서드 수행할 수 있는 정의를 {} 안에 사용할 수 있다.\n",
    "#코드 읽기가 더 쉬워졌음\n",
    "# 즉, ':' 다음에 새 스타일의 포매팅과 같은 언어(너비,패딩,정렬)를 사용할 수 있다."
   ]
  },
  {
   "cell_type": "code",
   "execution_count": 319,
   "id": "0a1674b1",
   "metadata": {},
   "outputs": [
    {
     "data": {
      "text/plain": [
       "'The             wereduck is in the ......werepond......'"
      ]
     },
     "execution_count": 319,
     "metadata": {},
     "output_type": "execute_result"
    }
   ],
   "source": [
    "f'The {thing:>20} is in the {place:.^20}'"
   ]
  },
  {
   "cell_type": "code",
   "execution_count": 320,
   "id": "5ece05c7",
   "metadata": {},
   "outputs": [],
   "source": [
    "#f-문자열은 파이썬 3.8부터 이름과 값을 쉽게 출력가능.\n",
    "# 디버깅때 편리하며, 다음 예제와 같이 이름 뒤에 = 문자를 붙여서 사용"
   ]
  },
  {
   "cell_type": "code",
   "execution_count": 321,
   "id": "0e70eb05",
   "metadata": {},
   "outputs": [
    {
     "data": {
      "text/plain": [
       "\"thing ='wereduck',place ='werepond'\""
      ]
     },
     "execution_count": 321,
     "metadata": {},
     "output_type": "execute_result"
    }
   ],
   "source": [
    "f'{thing =},{place =}'"
   ]
  },
  {
   "cell_type": "code",
   "execution_count": 322,
   "id": "f5ac1263",
   "metadata": {},
   "outputs": [],
   "source": [
    "#이름은 표현식이 될 수 있다. 문자 그대로 출력한다."
   ]
  },
  {
   "cell_type": "code",
   "execution_count": 323,
   "id": "eb5bc70a",
   "metadata": {},
   "outputs": [
    {
     "data": {
      "text/plain": [
       "\"thing[-4:]='duck',place.title() ='Werepond'\""
      ]
     },
     "execution_count": 323,
     "metadata": {},
     "output_type": "execute_result"
    }
   ],
   "source": [
    "f'{thing[-4:]=},{place.title() =}'"
   ]
  },
  {
   "cell_type": "code",
   "execution_count": 324,
   "id": "7b645fdd",
   "metadata": {},
   "outputs": [
    {
     "data": {
      "text/plain": [
       "'thing=were'"
      ]
     },
     "execution_count": 324,
     "metadata": {},
     "output_type": "execute_result"
    }
   ],
   "source": [
    "f'{thing=:>4.4}'"
   ]
  }
 ],
 "metadata": {
  "kernelspec": {
   "display_name": "Python 3 (ipykernel)",
   "language": "python",
   "name": "python3"
  },
  "language_info": {
   "codemirror_mode": {
    "name": "ipython",
    "version": 3
   },
   "file_extension": ".py",
   "mimetype": "text/x-python",
   "name": "python",
   "nbconvert_exporter": "python",
   "pygments_lexer": "ipython3",
   "version": "3.11.5"
  }
 },
 "nbformat": 4,
 "nbformat_minor": 5
}
