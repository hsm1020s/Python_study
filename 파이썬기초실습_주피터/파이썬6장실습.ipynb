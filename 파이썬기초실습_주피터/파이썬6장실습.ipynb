{
 "cells": [
  {
   "cell_type": "code",
   "execution_count": 1,
   "id": "9663359a",
   "metadata": {},
   "outputs": [],
   "source": [
    "#함수와 클래스의 문서화 "
   ]
  },
  {
   "cell_type": "code",
   "execution_count": 2,
   "id": "d9e4efee",
   "metadata": {},
   "outputs": [],
   "source": [
    "import math"
   ]
  },
  {
   "cell_type": "code",
   "execution_count": 3,
   "id": "4bfe450e",
   "metadata": {},
   "outputs": [],
   "source": [
    "a = math.__doc__"
   ]
  },
  {
   "cell_type": "code",
   "execution_count": 4,
   "id": "40c1240e",
   "metadata": {},
   "outputs": [
    {
     "name": "stdout",
     "output_type": "stream",
     "text": [
      "This module provides access to the mathematical functions\n",
      "defined by the C standard.\n"
     ]
    }
   ],
   "source": [
    "print(a)"
   ]
  },
  {
   "cell_type": "code",
   "execution_count": 5,
   "id": "d0e4d515",
   "metadata": {},
   "outputs": [
    {
     "name": "stdout",
     "output_type": "stream",
     "text": [
      "Overwriting add.py\n"
     ]
    }
   ],
   "source": [
    "%%writefile add.py\n",
    "\"\"\"이 모듈에는 덧셈을 계산하는 함수를 제공합니다.\n",
    "\"\"\"\n",
    "\n",
    "def add(x,y):\n",
    "    return x+y"
   ]
  },
  {
   "cell_type": "code",
   "execution_count": 6,
   "id": "eeb0d6d0",
   "metadata": {},
   "outputs": [],
   "source": [
    "import add "
   ]
  },
  {
   "cell_type": "code",
   "execution_count": 7,
   "id": "fbc4ae96",
   "metadata": {},
   "outputs": [],
   "source": [
    "b = add.__doc__"
   ]
  },
  {
   "cell_type": "code",
   "execution_count": 8,
   "id": "78d0b2eb",
   "metadata": {},
   "outputs": [
    {
     "name": "stdout",
     "output_type": "stream",
     "text": [
      "이 모듈에는 덧셈을 계산하는 함수를 제공합니다.\n",
      "\n"
     ]
    }
   ],
   "source": [
    "print(b)"
   ]
  },
  {
   "cell_type": "code",
   "execution_count": 9,
   "id": "aa82ac05",
   "metadata": {},
   "outputs": [],
   "source": [
    "def func(x,y):\n",
    "    \"\"\"첫 번째 매개변수 체크\"\"\"\n",
    "    if not isinstance(x,int):\n",
    "        raise TypeError(\"x 는 정수가 아닙니다.\")\n",
    "        \n",
    "    \"\"\"두 번째 매개변수 체크\"\"\"\n",
    "    if not isinstance(y,int):\n",
    "        raise TypeError(\"y는 정수가 아닙니다.\")\n",
    "        \n",
    "    return x+y"
   ]
  },
  {
   "cell_type": "code",
   "execution_count": 10,
   "id": "e2660f63",
   "metadata": {},
   "outputs": [
    {
     "data": {
      "text/plain": [
       "20"
      ]
     },
     "execution_count": 10,
     "metadata": {},
     "output_type": "execute_result"
    }
   ],
   "source": [
    "func(10,10)"
   ]
  },
  {
   "cell_type": "code",
   "execution_count": 11,
   "id": "b220c770",
   "metadata": {},
   "outputs": [
    {
     "data": {
      "text/plain": [
       "'첫 번째 매개변수 체크'"
      ]
     },
     "execution_count": 11,
     "metadata": {},
     "output_type": "execute_result"
    }
   ],
   "source": [
    "func.__doc__"
   ]
  },
  {
   "cell_type": "code",
   "execution_count": 12,
   "id": "aec9f825",
   "metadata": {},
   "outputs": [],
   "source": [
    "#문서화는 반드시 첫번째에 작성해야한다."
   ]
  },
  {
   "cell_type": "code",
   "execution_count": 13,
   "id": "9233609a",
   "metadata": {},
   "outputs": [
    {
     "name": "stdout",
     "output_type": "stream",
     "text": [
      "Overwriting math_.py\n"
     ]
    }
   ],
   "source": [
    "%%writefile math_.py\n",
    "\"\"\"이 모듈은 기존의 수학 모듈을 이용해서 추가로 구성된 모듈입니다.\"\"\"\n",
    "\n",
    "# math모듈을 import 합니다. \n",
    "import math\n",
    "\n",
    "#모듈내의 변수에 기존 모듈을 할당합니다.\n",
    "math_ = math"
   ]
  },
  {
   "cell_type": "code",
   "execution_count": 14,
   "id": "713c32e2",
   "metadata": {},
   "outputs": [],
   "source": [
    "import math_"
   ]
  },
  {
   "cell_type": "code",
   "execution_count": 15,
   "id": "33fc75f6",
   "metadata": {},
   "outputs": [],
   "source": [
    "b= math_.math_.fsum.__doc__"
   ]
  },
  {
   "cell_type": "code",
   "execution_count": 16,
   "id": "e884dda5",
   "metadata": {},
   "outputs": [
    {
     "name": "stdout",
     "output_type": "stream",
     "text": [
      "Return an accurate floating point sum of values in the iterable seq.\n",
      "\n",
      "Assumes IEEE-754 floating point arithmetic.\n"
     ]
    }
   ],
   "source": [
    "print(b)"
   ]
  },
  {
   "cell_type": "code",
   "execution_count": 17,
   "id": "33f2ccae",
   "metadata": {},
   "outputs": [
    {
     "data": {
      "text/plain": [
       "10.0"
      ]
     },
     "execution_count": 17,
     "metadata": {},
     "output_type": "execute_result"
    }
   ],
   "source": [
    "math_.math_.fsum([1,2,3,4])"
   ]
  },
  {
   "cell_type": "code",
   "execution_count": 18,
   "id": "d15c0e66",
   "metadata": {},
   "outputs": [],
   "source": [
    "#실수값으로 반환된다."
   ]
  },
  {
   "cell_type": "code",
   "execution_count": 19,
   "id": "efa7f891",
   "metadata": {},
   "outputs": [
    {
     "name": "stdout",
     "output_type": "stream",
     "text": [
      "Overwriting fibo.py\n"
     ]
    }
   ],
   "source": [
    "%%writefile fibo.py\n",
    "# 피보나치를 처리하는 모듈입니다. \n",
    "\n",
    "def fib(n):\n",
    "    a,b =0,1\n",
    "    while a<n:\n",
    "        print(a, end=' ')\n",
    "        a, b = b, a+b\n",
    "    print()\n",
    "\n",
    "def fib2(n):\n",
    "    result = []\n",
    "    a,b = 0,1\n",
    "    while a<n:\n",
    "        result.append(a)\n",
    "        a,b = b, a+b\n",
    "        \n",
    "        \n",
    "    return result"
   ]
  },
  {
   "cell_type": "code",
   "execution_count": 20,
   "id": "c877a464",
   "metadata": {},
   "outputs": [],
   "source": [
    "import fibo"
   ]
  },
  {
   "cell_type": "code",
   "execution_count": 21,
   "id": "b899bdfb",
   "metadata": {},
   "outputs": [],
   "source": [
    "fibo.__doc__"
   ]
  },
  {
   "cell_type": "code",
   "execution_count": 22,
   "id": "4f02fe35",
   "metadata": {},
   "outputs": [
    {
     "name": "stdout",
     "output_type": "stream",
     "text": [
      "0 1 1 2 3 5 8 \n"
     ]
    }
   ],
   "source": [
    "fibo.fib(10)"
   ]
  },
  {
   "cell_type": "code",
   "execution_count": 23,
   "id": "aa3bd4bf",
   "metadata": {},
   "outputs": [
    {
     "data": {
      "text/plain": [
       "[0, 1, 1, 2, 3, 5, 8]"
      ]
     },
     "execution_count": 23,
     "metadata": {},
     "output_type": "execute_result"
    }
   ],
   "source": [
    "fibo.fib2(10) #result라는 리스트에 어펜드를 시켜서 "
   ]
  },
  {
   "cell_type": "code",
   "execution_count": null,
   "id": "a0b051d7",
   "metadata": {},
   "outputs": [],
   "source": [
    "#load fibo.py  # 실행하면 아래처럼 나옴 "
   ]
  },
  {
   "cell_type": "code",
   "execution_count": null,
   "id": "9a56ada7",
   "metadata": {},
   "outputs": [],
   "source": [
    "# %load fibo.py\n",
    "# 피보나치를 처리하는 모듈입니다. \n",
    "\n",
    "def fib(n):\n",
    "    a,b =0,1\n",
    "    while a<n:\n",
    "        print(a, end=' ')\n",
    "        a, b = b, a+b\n",
    "    print()\n",
    "\n",
    "def fib2(n):\n",
    "    result = []\n",
    "    a,b = 0,1\n",
    "    while a<n:\n",
    "        result.append(a)\n",
    "        a,b = b, a+b\n",
    "        \n",
    "        \n",
    "    return result\n"
   ]
  },
  {
   "cell_type": "code",
   "execution_count": 25,
   "id": "6883e0fb",
   "metadata": {},
   "outputs": [
    {
     "name": "stdout",
     "output_type": "stream",
     "text": [
      "name 'x' is not defined\n"
     ]
    }
   ],
   "source": [
    "x : int \n",
    "try : \n",
    "    x\n",
    "except Exception as e: \n",
    "    print(e)"
   ]
  },
  {
   "cell_type": "code",
   "execution_count": 27,
   "id": "781abbb2",
   "metadata": {},
   "outputs": [
    {
     "name": "stdout",
     "output_type": "stream",
     "text": [
      "100\n"
     ]
    }
   ],
   "source": [
    "y : int \n",
    "y = 100\n",
    "try : \n",
    "    print(y)\n",
    "except Exception as e: \n",
    "    print(e)"
   ]
  },
  {
   "cell_type": "code",
   "execution_count": 28,
   "id": "809a90fa",
   "metadata": {},
   "outputs": [],
   "source": [
    "def add(x,y):\n",
    "    z : int\n",
    "    z = x+y\n",
    "    return z"
   ]
  },
  {
   "cell_type": "code",
   "execution_count": 29,
   "id": "3e96aff6",
   "metadata": {},
   "outputs": [
    {
     "data": {
      "text/plain": [
       "20"
      ]
     },
     "execution_count": 29,
     "metadata": {},
     "output_type": "execute_result"
    }
   ],
   "source": [
    "add(10,10)"
   ]
  },
  {
   "cell_type": "code",
   "execution_count": 31,
   "id": "261c4fd8",
   "metadata": {},
   "outputs": [
    {
     "data": {
      "text/plain": [
       "{}"
      ]
     },
     "execution_count": 31,
     "metadata": {},
     "output_type": "execute_result"
    }
   ],
   "source": [
    "add.__annotations__ # 안에 지역변수가 아니라 파라미터에다 해당 타입힌트를 지정해주지 않아서 나타나지않음"
   ]
  },
  {
   "cell_type": "code",
   "execution_count": 32,
   "id": "d32c6061",
   "metadata": {},
   "outputs": [],
   "source": [
    "def add(x : int ,y:int):\n",
    "    z : int\n",
    "    z = x+y\n",
    "    return z"
   ]
  },
  {
   "cell_type": "code",
   "execution_count": 33,
   "id": "2aca3334",
   "metadata": {},
   "outputs": [
    {
     "data": {
      "text/plain": [
       "{'x': int, 'y': int}"
      ]
     },
     "execution_count": 33,
     "metadata": {},
     "output_type": "execute_result"
    }
   ],
   "source": [
    "add.__annotations__ #타입힌트 나타남"
   ]
  },
  {
   "cell_type": "code",
   "execution_count": null,
   "id": "e8915ac4",
   "metadata": {},
   "outputs": [],
   "source": []
  }
 ],
 "metadata": {
  "kernelspec": {
   "display_name": "Python 3 (ipykernel)",
   "language": "python",
   "name": "python3"
  },
  "language_info": {
   "codemirror_mode": {
    "name": "ipython",
    "version": 3
   },
   "file_extension": ".py",
   "mimetype": "text/x-python",
   "name": "python",
   "nbconvert_exporter": "python",
   "pygments_lexer": "ipython3",
   "version": "3.11.5"
  }
 },
 "nbformat": 4,
 "nbformat_minor": 5
}
