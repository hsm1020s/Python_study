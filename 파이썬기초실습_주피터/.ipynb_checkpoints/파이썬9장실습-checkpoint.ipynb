{
 "cells": [
  {
   "cell_type": "code",
   "execution_count": null,
   "id": "449e39a2",
   "metadata": {},
   "outputs": [],
   "source": [
    "#여러문장을 묶어서 반복 실행하기 "
   ]
  },
  {
   "cell_type": "code",
   "execution_count": 2,
   "id": "6f7d055e",
   "metadata": {},
   "outputs": [],
   "source": [
    "l = [1,2,3,4,5]\n",
    "result=0"
   ]
  },
  {
   "cell_type": "code",
   "execution_count": 3,
   "id": "41ff2f15",
   "metadata": {},
   "outputs": [],
   "source": [
    "for i in l:\n",
    "    result += i "
   ]
  },
  {
   "cell_type": "code",
   "execution_count": 4,
   "id": "5b718f13",
   "metadata": {},
   "outputs": [
    {
     "data": {
      "text/plain": [
       "15"
      ]
     },
     "execution_count": 4,
     "metadata": {},
     "output_type": "execute_result"
    }
   ],
   "source": [
    "result"
   ]
  },
  {
   "cell_type": "code",
   "execution_count": null,
   "id": "c1333391",
   "metadata": {},
   "outputs": [],
   "source": [
    "#반복형과 반복자라는게 있는데 반복형과 반복자를 알아보려면\n",
    "#추상클래스로 확인을 해야한다. "
   ]
  },
  {
   "cell_type": "code",
   "execution_count": 5,
   "id": "c5c19cac",
   "metadata": {},
   "outputs": [],
   "source": [
    "import collections.abc as cols"
   ]
  },
  {
   "cell_type": "code",
   "execution_count": null,
   "id": "f162e4d5",
   "metadata": {},
   "outputs": [],
   "source": [
    "# iterable 원소를 여러 개 가진 정적인 객체를 만듬 \n",
    "# iterator 동적 처리를 하기위해 별도의 핸들러를 만든 후에 내부의 원소를 하나씩 꺼내어서 처리하는 기능 제공"
   ]
  },
  {
   "cell_type": "code",
   "execution_count": null,
   "id": "50b4e0d5",
   "metadata": {},
   "outputs": [],
   "source": [
    "# issubclass "
   ]
  },
  {
   "cell_type": "code",
   "execution_count": 6,
   "id": "91f20d81",
   "metadata": {},
   "outputs": [
    {
     "data": {
      "text/plain": [
       "True"
      ]
     },
     "execution_count": 6,
     "metadata": {},
     "output_type": "execute_result"
    }
   ],
   "source": [
    "issubclass(type(l), cols.Iterable)"
   ]
  },
  {
   "cell_type": "code",
   "execution_count": 7,
   "id": "4bd904e2",
   "metadata": {},
   "outputs": [
    {
     "data": {
      "text/plain": [
       "False"
      ]
     },
     "execution_count": 7,
     "metadata": {},
     "output_type": "execute_result"
    }
   ],
   "source": [
    "issubclass(type(l),cols.Iterator)"
   ]
  },
  {
   "cell_type": "code",
   "execution_count": 9,
   "id": "8e773b1d",
   "metadata": {},
   "outputs": [
    {
     "data": {
      "text/plain": [
       "15"
      ]
     },
     "execution_count": 9,
     "metadata": {},
     "output_type": "execute_result"
    }
   ],
   "source": [
    "result =0\n",
    "for i in range(1,6):\n",
    "    result += i\n",
    "result"
   ]
  },
  {
   "cell_type": "code",
   "execution_count": null,
   "id": "7b9e3003",
   "metadata": {},
   "outputs": [],
   "source": [
    "# 상속관계확인 issubclass "
   ]
  },
  {
   "cell_type": "code",
   "execution_count": 10,
   "id": "e17ba680",
   "metadata": {},
   "outputs": [
    {
     "data": {
      "text/plain": [
       "True"
      ]
     },
     "execution_count": 10,
     "metadata": {},
     "output_type": "execute_result"
    }
   ],
   "source": [
    "issubclass(range, cols.Iterable)"
   ]
  },
  {
   "cell_type": "code",
   "execution_count": 11,
   "id": "1a5739a3",
   "metadata": {},
   "outputs": [
    {
     "data": {
      "text/plain": [
       "False"
      ]
     },
     "execution_count": 11,
     "metadata": {},
     "output_type": "execute_result"
    }
   ],
   "source": [
    "issubclass(range, cols.Iterator)"
   ]
  },
  {
   "cell_type": "code",
   "execution_count": null,
   "id": "4f7c2374",
   "metadata": {},
   "outputs": [],
   "source": [
    "# 반복형 추상클래스 이터러블은 \n",
    "# 원소를 여러개 가진 정적인 객체를 만듬\n",
    "\n",
    "# 반복자 추상클래스 이터레이터\n",
    "# 동적처리를 하기위해 별도의 핸들러를 만든후에 내부의 원소를 하나하나 꺼내서 처리 하는 기능 "
   ]
  },
  {
   "cell_type": "code",
   "execution_count": 16,
   "id": "9db0122b",
   "metadata": {},
   "outputs": [
    {
     "data": {
      "text/plain": [
       "101"
      ]
     },
     "execution_count": 16,
     "metadata": {},
     "output_type": "execute_result"
    }
   ],
   "source": [
    "result = 0\n",
    "while (result <=100 ):\n",
    "    result +=1\n",
    "result"
   ]
  },
  {
   "cell_type": "code",
   "execution_count": 17,
   "id": "863317d4",
   "metadata": {},
   "outputs": [
    {
     "data": {
      "text/plain": [
       "102"
      ]
     },
     "execution_count": 17,
     "metadata": {},
     "output_type": "execute_result"
    }
   ],
   "source": [
    "result =0\n",
    "while ( (result <=100) or (result ==101) ):\n",
    "    result +=1 \n",
    "result"
   ]
  },
  {
   "cell_type": "code",
   "execution_count": null,
   "id": "0bca2952",
   "metadata": {},
   "outputs": [],
   "source": []
  },
  {
   "cell_type": "code",
   "execution_count": null,
   "id": "b332a36b",
   "metadata": {},
   "outputs": [],
   "source": [
    "# 특정 기능에서 순환 배재하기 예제 시작 "
   ]
  },
  {
   "cell_type": "code",
   "execution_count": 1,
   "id": "93f6cab8",
   "metadata": {},
   "outputs": [
    {
     "data": {
      "text/plain": [
       "15"
      ]
     },
     "execution_count": 1,
     "metadata": {},
     "output_type": "execute_result"
    }
   ],
   "source": [
    "result =0\n",
    "while True: #무한으로 돌게됨\n",
    "    if result ==15:\n",
    "        break\n",
    "    result +=1\n",
    "result"
   ]
  },
  {
   "cell_type": "code",
   "execution_count": 2,
   "id": "80910be0",
   "metadata": {},
   "outputs": [
    {
     "name": "stdout",
     "output_type": "stream",
     "text": [
      "2\n",
      "4\n",
      "6\n",
      "8\n",
      "10\n"
     ]
    },
    {
     "data": {
      "text/plain": [
       "10"
      ]
     },
     "execution_count": 2,
     "metadata": {},
     "output_type": "execute_result"
    }
   ],
   "source": [
    "count =0\n",
    "while True:\n",
    "    if count == 10:\n",
    "        break\n",
    "    count +=1\n",
    "    if count %2 ==1:\n",
    "        continue\n",
    "    print(count)\n",
    "count"
   ]
  },
  {
   "cell_type": "code",
   "execution_count": 3,
   "id": "d6ab1ef3",
   "metadata": {},
   "outputs": [
    {
     "data": {
      "text/plain": [
       "10"
      ]
     },
     "execution_count": 3,
     "metadata": {},
     "output_type": "execute_result"
    }
   ],
   "source": [
    "count"
   ]
  },
  {
   "cell_type": "code",
   "execution_count": 7,
   "id": "1277957a",
   "metadata": {},
   "outputs": [],
   "source": [
    "#순환문에 else문 추가하기 "
   ]
  },
  {
   "cell_type": "code",
   "execution_count": 8,
   "id": "239e371a",
   "metadata": {},
   "outputs": [
    {
     "name": "stdout",
     "output_type": "stream",
     "text": [
      "정상 종료.\n"
     ]
    }
   ],
   "source": [
    "result=0\n",
    "for i in range(101): \n",
    "    result +=i\n",
    "else: \n",
    "    print(\"정상 종료.\")"
   ]
  },
  {
   "cell_type": "code",
   "execution_count": 9,
   "id": "7ed2daa5",
   "metadata": {},
   "outputs": [
    {
     "data": {
      "text/plain": [
       "5050"
      ]
     },
     "execution_count": 9,
     "metadata": {},
     "output_type": "execute_result"
    }
   ],
   "source": [
    "result"
   ]
  },
  {
   "cell_type": "code",
   "execution_count": 10,
   "id": "8ed37b1e",
   "metadata": {},
   "outputs": [],
   "source": [
    "result = 0\n",
    "for i in range(101):\n",
    "    result += i\n",
    "    if result >4000:\n",
    "        break\n",
    "else: \n",
    "    print(\"정상 종료\")"
   ]
  },
  {
   "cell_type": "code",
   "execution_count": 11,
   "id": "2fb7dd39",
   "metadata": {},
   "outputs": [
    {
     "data": {
      "text/plain": [
       "4005"
      ]
     },
     "execution_count": 11,
     "metadata": {},
     "output_type": "execute_result"
    }
   ],
   "source": [
    "result"
   ]
  },
  {
   "cell_type": "code",
   "execution_count": 19,
   "id": "137f82de",
   "metadata": {},
   "outputs": [
    {
     "name": "stdout",
     "output_type": "stream",
     "text": [
      "정상종료\n"
     ]
    }
   ],
   "source": [
    "result = 0 \n",
    "i=0\n",
    "while result <=5050:\n",
    "    result += i\n",
    "    i +=1\n",
    "  #  if result >4000:\n",
    "  #      break\n",
    "else: \n",
    "    print(\"정상종료\")"
   ]
  },
  {
   "cell_type": "code",
   "execution_count": 20,
   "id": "4d13ffeb",
   "metadata": {},
   "outputs": [
    {
     "data": {
      "text/plain": [
       "5151"
      ]
     },
     "execution_count": 20,
     "metadata": {},
     "output_type": "execute_result"
    }
   ],
   "source": [
    "result"
   ]
  },
  {
   "cell_type": "code",
   "execution_count": null,
   "id": "fd746d5b",
   "metadata": {},
   "outputs": [],
   "source": [
    "#챕터 5\n",
    "#다양한 원소를 갖는 객체의 원소 추출하기 "
   ]
  },
  {
   "cell_type": "code",
   "execution_count": 22,
   "id": "a1b98800",
   "metadata": {},
   "outputs": [
    {
     "name": "stdout",
     "output_type": "stream",
     "text": [
      " Index :  0 value : 10\n",
      " Index :  1 value : 100\n",
      " Index :  2 value : 1000\n",
      " Index :  3 value : 10000\n"
     ]
    }
   ],
   "source": [
    "l = [10,100,1000,10000]\n",
    "for i, v in enumerate(l): # i는 인덱스정보 v는 value 정보 \n",
    "    print(\" Index : \",i, \"value :\",v)"
   ]
  },
  {
   "cell_type": "code",
   "execution_count": 25,
   "id": "f4be5ee1",
   "metadata": {},
   "outputs": [
    {
     "name": "stdout",
     "output_type": "stream",
     "text": [
      "(1, 4)\n",
      "(2, 5)\n",
      "(3, 6)\n",
      "(4, 7)\n"
     ]
    }
   ],
   "source": [
    "l = [1,2,3,4]\n",
    "ll = [4,5,6,7,8]\n",
    "\n",
    "for i in zip(l,ll):\n",
    "    print(i)  #제일작은걸 찾고 그거에 길이에 맞춰서 순서쌍이 만들어짐 "
   ]
  },
  {
   "cell_type": "code",
   "execution_count": 26,
   "id": "c190b7a7",
   "metadata": {},
   "outputs": [],
   "source": [
    "import itertools as it"
   ]
  },
  {
   "cell_type": "code",
   "execution_count": 29,
   "id": "8fd1f9c0",
   "metadata": {},
   "outputs": [
    {
     "name": "stdout",
     "output_type": "stream",
     "text": [
      "(1, 4)\n",
      "(2, 5)\n",
      "(3, 6)\n",
      "(4, 7)\n",
      "(None, 8)\n"
     ]
    }
   ],
   "source": [
    "for i in it.zip_longest(l,ll):\n",
    "    print(i)"
   ]
  },
  {
   "cell_type": "code",
   "execution_count": 30,
   "id": "17335f9f",
   "metadata": {},
   "outputs": [
    {
     "name": "stdout",
     "output_type": "stream",
     "text": [
      "(1, 2, 3)\n",
      "(1, 2, 4)\n",
      "(1, 3, 4)\n",
      "(2, 3, 4)\n"
     ]
    }
   ],
   "source": [
    "for i in it.combinations(l,3):\n",
    "    print(i) #중복되지않는 순서쌍 , 경우의수 만들기 "
   ]
  },
  {
   "cell_type": "code",
   "execution_count": null,
   "id": "b74b338f",
   "metadata": {},
   "outputs": [],
   "source": [
    "#퍼뮤테이션스? 사용하기"
   ]
  },
  {
   "cell_type": "code",
   "execution_count": 34,
   "id": "74652d90",
   "metadata": {},
   "outputs": [
    {
     "name": "stdout",
     "output_type": "stream",
     "text": [
      "(1, 2, 3), (1, 2, 4), (1, 3, 2), (1, 3, 4), (1, 4, 2), \n",
      "(1, 4, 3), (2, 1, 3), (2, 1, 4), (2, 3, 1), (2, 3, 4), \n",
      "(2, 4, 1), (2, 4, 3), (3, 1, 2), (3, 1, 4), (3, 2, 1), \n",
      "(3, 2, 4), (3, 4, 1), (3, 4, 2), (4, 1, 2), (4, 1, 3), \n",
      "(4, 2, 1), (4, 2, 3), (4, 3, 1), (4, 3, 2), "
     ]
    }
   ],
   "source": [
    "count=0\n",
    "for i in it.permutations(l,3):\n",
    "    print(i, end=\", \")\n",
    "    count +=1\n",
    "    if count %5==0 :\n",
    "        print()"
   ]
  },
  {
   "cell_type": "code",
   "execution_count": null,
   "id": "737edcdd",
   "metadata": {},
   "outputs": [],
   "source": []
  }
 ],
 "metadata": {
  "kernelspec": {
   "display_name": "Python 3 (ipykernel)",
   "language": "python",
   "name": "python3"
  },
  "language_info": {
   "codemirror_mode": {
    "name": "ipython",
    "version": 3
   },
   "file_extension": ".py",
   "mimetype": "text/x-python",
   "name": "python",
   "nbconvert_exporter": "python",
   "pygments_lexer": "ipython3",
   "version": "3.11.5"
  }
 },
 "nbformat": 4,
 "nbformat_minor": 5
}
