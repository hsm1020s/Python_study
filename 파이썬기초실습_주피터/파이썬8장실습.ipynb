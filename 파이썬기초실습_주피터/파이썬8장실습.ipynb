{
 "cells": [
  {
   "cell_type": "code",
   "execution_count": null,
   "id": "52e67711",
   "metadata": {},
   "outputs": [],
   "source": [
    "#단순 조건을 처리하는 단순 제어문"
   ]
  },
  {
   "cell_type": "code",
   "execution_count": 9,
   "id": "cd99ece4",
   "metadata": {},
   "outputs": [
    {
     "name": "stdout",
     "output_type": "stream",
     "text": [
      "참인 값만 처리.\n"
     ]
    }
   ],
   "source": [
    "if True:\n",
    "    print(\"참인 값만 처리.\")\n",
    "    "
   ]
  },
  {
   "cell_type": "code",
   "execution_count": 10,
   "id": "e8f526ba",
   "metadata": {},
   "outputs": [],
   "source": [
    "if False:\n",
    "    print(\"참인 값만 처리\")"
   ]
  },
  {
   "cell_type": "code",
   "execution_count": 11,
   "id": "0161f785",
   "metadata": {},
   "outputs": [
    {
     "name": "stdout",
     "output_type": "stream",
     "text": [
      "거짓인 값만 처리.\n"
     ]
    }
   ],
   "source": [
    "if False:\n",
    "    print(\"참인 값만 처리\")\n",
    "else:\n",
    "    print(\"거짓인 값만 처리.\")"
   ]
  },
  {
   "cell_type": "code",
   "execution_count": 12,
   "id": "772dee16",
   "metadata": {},
   "outputs": [
    {
     "ename": "ZeroDivisionError",
     "evalue": "division by zero",
     "output_type": "error",
     "traceback": [
      "\u001b[1;31m---------------------------------------------------------------------------\u001b[0m",
      "\u001b[1;31mZeroDivisionError\u001b[0m                         Traceback (most recent call last)",
      "Cell \u001b[1;32mIn[12], line 1\u001b[0m\n\u001b[1;32m----> 1\u001b[0m \u001b[38;5;28;01mif\u001b[39;00m \u001b[38;5;241m1\u001b[39m\u001b[38;5;241m/\u001b[39m\u001b[38;5;241m0\u001b[39m:\n\u001b[0;32m      2\u001b[0m     \u001b[38;5;28mprint\u001b[39m(\u001b[38;5;124m\"\u001b[39m\u001b[38;5;124m참인 값만 처리\u001b[39m\u001b[38;5;124m\"\u001b[39m)\n\u001b[0;32m      3\u001b[0m \u001b[38;5;28;01melse\u001b[39;00m:\n",
      "\u001b[1;31mZeroDivisionError\u001b[0m: division by zero"
     ]
    }
   ],
   "source": [
    "if 1/0:\n",
    "    print(\"참인 값만 처리\")\n",
    "else:\n",
    "    print(\"거짓인 값만 처리\")"
   ]
  },
  {
   "cell_type": "code",
   "execution_count": 13,
   "id": "837836db",
   "metadata": {},
   "outputs": [],
   "source": [
    "# 0 으로 나눌수없다는 예외가 나타난다."
   ]
  },
  {
   "cell_type": "code",
   "execution_count": 17,
   "id": "07fff672",
   "metadata": {},
   "outputs": [
    {
     "name": "stdout",
     "output_type": "stream",
     "text": [
      "참인 값만 처리.\n"
     ]
    },
    {
     "name": "stderr",
     "output_type": "stream",
     "text": [
      "<>:1: SyntaxWarning: \"is not\" with a literal. Did you mean \"!=\"?\n",
      "<>:1: SyntaxWarning: \"is not\" with a literal. Did you mean \"!=\"?\n",
      "C:\\Users\\huis9\\AppData\\Local\\Temp\\ipykernel_744\\3935218164.py:1: SyntaxWarning: \"is not\" with a literal. Did you mean \"!=\"?\n",
      "  if 100 is not 200:\n"
     ]
    }
   ],
   "source": [
    "if 100 is not 200:\n",
    "    print(\"참인 값만 처리.\")\n",
    "else:\n",
    "    print(\"거짓인 값만 처리.\")"
   ]
  },
  {
   "cell_type": "code",
   "execution_count": 18,
   "id": "83c16fe9",
   "metadata": {},
   "outputs": [
    {
     "name": "stdout",
     "output_type": "stream",
     "text": [
      "참인 값만 처리.\n"
     ]
    }
   ],
   "source": [
    "if 100 != 200:\n",
    "    print(\"참인 값만 처리.\")\n",
    "else:\n",
    "    print(\"거짓인 값만 처리.\")"
   ]
  },
  {
   "cell_type": "code",
   "execution_count": 21,
   "id": "f9c9f74e",
   "metadata": {},
   "outputs": [
    {
     "ename": "SyntaxError",
     "evalue": "invalid syntax (3625925011.py, line 1)",
     "output_type": "error",
     "traceback": [
      "\u001b[1;36m  Cell \u001b[1;32mIn[21], line 1\u001b[1;36m\u001b[0m\n\u001b[1;33m    if 100 not is 200:\u001b[0m\n\u001b[1;37m               ^\u001b[0m\n\u001b[1;31mSyntaxError\u001b[0m\u001b[1;31m:\u001b[0m invalid syntax\n"
     ]
    }
   ],
   "source": [
    "if 100 not is 200:\n",
    "    print(\"참인 값만 처리.\")\n",
    "else:\n",
    "    print(\"거짓인 값만 처리.\")"
   ]
  },
  {
   "cell_type": "code",
   "execution_count": 22,
   "id": "d1c26355",
   "metadata": {},
   "outputs": [
    {
     "data": {
      "text/plain": [
       "(False, False, False)"
      ]
     },
     "execution_count": 22,
     "metadata": {},
     "output_type": "execute_result"
    }
   ],
   "source": [
    "bool(0), bool(0.0), bool(0+0j)"
   ]
  },
  {
   "cell_type": "code",
   "execution_count": 23,
   "id": "764af4d3",
   "metadata": {},
   "outputs": [
    {
     "data": {
      "text/plain": [
       "(False, False, False)"
      ]
     },
     "execution_count": 23,
     "metadata": {},
     "output_type": "execute_result"
    }
   ],
   "source": [
    "bool(\"\"),bool([]),bool(())"
   ]
  },
  {
   "cell_type": "code",
   "execution_count": 24,
   "id": "a2725e7f",
   "metadata": {},
   "outputs": [
    {
     "data": {
      "text/plain": [
       "(False, False)"
      ]
     },
     "execution_count": 24,
     "metadata": {},
     "output_type": "execute_result"
    }
   ],
   "source": [
    "bool({}), bool(set())"
   ]
  },
  {
   "cell_type": "code",
   "execution_count": 25,
   "id": "979f99b9",
   "metadata": {},
   "outputs": [
    {
     "data": {
      "text/plain": [
       "False"
      ]
     },
     "execution_count": 25,
     "metadata": {},
     "output_type": "execute_result"
    }
   ],
   "source": [
    "bool(None)"
   ]
  },
  {
   "cell_type": "code",
   "execution_count": 26,
   "id": "f973f18f",
   "metadata": {},
   "outputs": [
    {
     "data": {
      "text/plain": [
       "True"
      ]
     },
     "execution_count": 26,
     "metadata": {},
     "output_type": "execute_result"
    }
   ],
   "source": [
    "None is None"
   ]
  },
  {
   "cell_type": "code",
   "execution_count": 27,
   "id": "e3c0ff92",
   "metadata": {},
   "outputs": [
    {
     "data": {
      "text/plain": [
       "True"
      ]
     },
     "execution_count": 27,
     "metadata": {},
     "output_type": "execute_result"
    }
   ],
   "source": [
    "None == None"
   ]
  },
  {
   "cell_type": "code",
   "execution_count": null,
   "id": "ba0065d8",
   "metadata": {},
   "outputs": [],
   "source": [
    "#다양한 조건을 판단하는 복합 제어문"
   ]
  },
  {
   "cell_type": "code",
   "execution_count": 28,
   "id": "ec377d84",
   "metadata": {},
   "outputs": [],
   "source": [
    "a = 10\n",
    "b = 20"
   ]
  },
  {
   "cell_type": "code",
   "execution_count": 30,
   "id": "367c2cb7",
   "metadata": {},
   "outputs": [
    {
     "name": "stdout",
     "output_type": "stream",
     "text": [
      "other\n"
     ]
    }
   ],
   "source": [
    "if a>5 & b>20:\n",
    "    print(\"first\")\n",
    "elif a>7 & b>20:\n",
    "    print(\"second\")\n",
    "elif a>7 & b>=20:\n",
    "    print(\"third\")\n",
    "else :\n",
    "    print(\"other\")"
   ]
  },
  {
   "cell_type": "code",
   "execution_count": 31,
   "id": "2f2eaeba",
   "metadata": {},
   "outputs": [
    {
     "data": {
      "text/plain": [
       "False"
      ]
     },
     "execution_count": 31,
     "metadata": {},
     "output_type": "execute_result"
    }
   ],
   "source": [
    "a>7 & b>=20"
   ]
  },
  {
   "cell_type": "code",
   "execution_count": 32,
   "id": "5a39d02b",
   "metadata": {},
   "outputs": [
    {
     "data": {
      "text/plain": [
       "4"
      ]
     },
     "execution_count": 32,
     "metadata": {},
     "output_type": "execute_result"
    }
   ],
   "source": [
    "(7 & b) #비트연산을 처리해서 2진수로 "
   ]
  },
  {
   "cell_type": "code",
   "execution_count": 33,
   "id": "48b85e1e",
   "metadata": {},
   "outputs": [
    {
     "data": {
      "text/plain": [
       "('0b111', '0b10100')"
      ]
     },
     "execution_count": 33,
     "metadata": {},
     "output_type": "execute_result"
    }
   ],
   "source": [
    "bin(7), bin(20)"
   ]
  },
  {
   "cell_type": "code",
   "execution_count": 34,
   "id": "c40538bc",
   "metadata": {},
   "outputs": [
    {
     "data": {
      "text/plain": [
       "True"
      ]
     },
     "execution_count": 34,
     "metadata": {},
     "output_type": "execute_result"
    }
   ],
   "source": [
    "(a> (7&b))"
   ]
  },
  {
   "cell_type": "code",
   "execution_count": 35,
   "id": "f795e1ac",
   "metadata": {},
   "outputs": [
    {
     "data": {
      "text/plain": [
       "False"
      ]
     },
     "execution_count": 35,
     "metadata": {},
     "output_type": "execute_result"
    }
   ],
   "source": [
    "((a> (7&b)) >=20)"
   ]
  },
  {
   "cell_type": "code",
   "execution_count": 36,
   "id": "15ef18a7",
   "metadata": {},
   "outputs": [
    {
     "data": {
      "text/plain": [
       "False"
      ]
     },
     "execution_count": 36,
     "metadata": {},
     "output_type": "execute_result"
    }
   ],
   "source": [
    "True >=20"
   ]
  },
  {
   "cell_type": "code",
   "execution_count": 38,
   "id": "44025845",
   "metadata": {},
   "outputs": [
    {
     "name": "stdout",
     "output_type": "stream",
     "text": [
      "third\n"
     ]
    }
   ],
   "source": [
    "if (a>5) & (b>20):\n",
    "    print(\"first\")\n",
    "elif (a>7) & (b>20):\n",
    "    print(\"second\")\n",
    "elif (a>7) & (b>=20):\n",
    "    print(\"third\")\n",
    "else :\n",
    "    print(\"other\")"
   ]
  },
  {
   "cell_type": "code",
   "execution_count": 39,
   "id": "2feed0a6",
   "metadata": {},
   "outputs": [],
   "source": [
    "c = 100"
   ]
  },
  {
   "cell_type": "code",
   "execution_count": 42,
   "id": "0aa06da2",
   "metadata": {},
   "outputs": [
    {
     "name": "stdout",
     "output_type": "stream",
     "text": [
      "fourth\n"
     ]
    }
   ],
   "source": [
    "if 50 < c <= 70:\n",
    "    print(\"first\")\n",
    "elif 70< c<= 80:\n",
    "    print(\"second\")\n",
    "elif 80<c<=90:\n",
    "    print(\"third\")\n",
    "elif 90<c <=100:\n",
    "    print(\"fourth\")"
   ]
  },
  {
   "cell_type": "code",
   "execution_count": null,
   "id": "3b264a4b",
   "metadata": {},
   "outputs": [],
   "source": [
    "# 조건 연산자를 스페셜 메소드로 처리하기"
   ]
  },
  {
   "cell_type": "code",
   "execution_count": 43,
   "id": "37fb16c3",
   "metadata": {},
   "outputs": [
    {
     "data": {
      "text/plain": [
       "True"
      ]
     },
     "execution_count": 43,
     "metadata": {},
     "output_type": "execute_result"
    }
   ],
   "source": [
    "1 <=10"
   ]
  },
  {
   "cell_type": "code",
   "execution_count": 44,
   "id": "1d5e437b",
   "metadata": {},
   "outputs": [
    {
     "data": {
      "text/plain": [
       "True"
      ]
     },
     "execution_count": 44,
     "metadata": {},
     "output_type": "execute_result"
    }
   ],
   "source": [
    "(1).__le__(10)"
   ]
  },
  {
   "cell_type": "code",
   "execution_count": 45,
   "id": "9fe2827b",
   "metadata": {},
   "outputs": [
    {
     "name": "stdout",
     "output_type": "stream",
     "text": [
      "메소드 처리\n"
     ]
    }
   ],
   "source": [
    "if(1).__le__(10):\n",
    "    print(\"메소드 처리\")"
   ]
  },
  {
   "cell_type": "code",
   "execution_count": 46,
   "id": "86431167",
   "metadata": {},
   "outputs": [],
   "source": [
    "a=10\n",
    "b=20\n"
   ]
  },
  {
   "cell_type": "code",
   "execution_count": 47,
   "id": "02fa3285",
   "metadata": {},
   "outputs": [
    {
     "data": {
      "text/plain": [
       "True"
      ]
     },
     "execution_count": 47,
     "metadata": {},
     "output_type": "execute_result"
    }
   ],
   "source": [
    "( a<b) and (b>a)"
   ]
  },
  {
   "cell_type": "code",
   "execution_count": 49,
   "id": "b336c3dd",
   "metadata": {},
   "outputs": [
    {
     "data": {
      "text/plain": [
       "True"
      ]
     },
     "execution_count": 49,
     "metadata": {},
     "output_type": "execute_result"
    }
   ],
   "source": [
    "a.__lt__(b).__and__(b.__gt__(a))"
   ]
  },
  {
   "cell_type": "code",
   "execution_count": 52,
   "id": "d3fbcd1a",
   "metadata": {},
   "outputs": [],
   "source": [
    "c =15"
   ]
  },
  {
   "cell_type": "code",
   "execution_count": null,
   "id": "f7c64d48",
   "metadata": {},
   "outputs": [],
   "source": []
  },
  {
   "cell_type": "code",
   "execution_count": 51,
   "id": "d7209c62",
   "metadata": {},
   "outputs": [
    {
     "data": {
      "text/plain": [
       "True"
      ]
     },
     "execution_count": 51,
     "metadata": {},
     "output_type": "execute_result"
    }
   ],
   "source": [
    "a<c<b"
   ]
  },
  {
   "cell_type": "code",
   "execution_count": 53,
   "id": "d991af09",
   "metadata": {},
   "outputs": [
    {
     "data": {
      "text/plain": [
       "True"
      ]
     },
     "execution_count": 53,
     "metadata": {},
     "output_type": "execute_result"
    }
   ],
   "source": [
    "(a<c) and (c<b)"
   ]
  },
  {
   "cell_type": "code",
   "execution_count": null,
   "id": "c4d7d113",
   "metadata": {},
   "outputs": [],
   "source": []
  },
  {
   "cell_type": "code",
   "execution_count": null,
   "id": "15f5d95c",
   "metadata": {},
   "outputs": [],
   "source": []
  },
  {
   "cell_type": "code",
   "execution_count": null,
   "id": "1c733a0c",
   "metadata": {},
   "outputs": [],
   "source": []
  },
  {
   "cell_type": "code",
   "execution_count": null,
   "id": "4f73d265",
   "metadata": {},
   "outputs": [],
   "source": []
  },
  {
   "cell_type": "code",
   "execution_count": null,
   "id": "1d0f63eb",
   "metadata": {},
   "outputs": [],
   "source": []
  },
  {
   "cell_type": "code",
   "execution_count": null,
   "id": "97dcb926",
   "metadata": {},
   "outputs": [],
   "source": []
  },
  {
   "cell_type": "code",
   "execution_count": null,
   "id": "5325cff0",
   "metadata": {},
   "outputs": [],
   "source": []
  },
  {
   "cell_type": "code",
   "execution_count": null,
   "id": "7d027afd",
   "metadata": {},
   "outputs": [],
   "source": []
  }
 ],
 "metadata": {
  "kernelspec": {
   "display_name": "Python 3 (ipykernel)",
   "language": "python",
   "name": "python3"
  },
  "language_info": {
   "codemirror_mode": {
    "name": "ipython",
    "version": 3
   },
   "file_extension": ".py",
   "mimetype": "text/x-python",
   "name": "python",
   "nbconvert_exporter": "python",
   "pygments_lexer": "ipython3",
   "version": "3.11.5"
  }
 },
 "nbformat": 4,
 "nbformat_minor": 5
}
