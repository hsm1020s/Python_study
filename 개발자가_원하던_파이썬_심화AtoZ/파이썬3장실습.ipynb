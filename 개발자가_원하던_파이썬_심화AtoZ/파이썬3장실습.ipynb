{
 "cells": [
  {
   "cell_type": "code",
   "execution_count": null,
   "id": "d7e6b2f0",
   "metadata": {},
   "outputs": [],
   "source": [
    "# 탐욕스러운 평가 (greedy Evaluation), # 엄격 평가( Eager Evaluation)\n",
    "# 표현식이나 문장을 바로 계산하여 결과를 반환 혹은 내부에서 사용할 수 있도록 구성"
   ]
  },
  {
   "cell_type": "code",
   "execution_count": 1,
   "id": "27ecbdab",
   "metadata": {},
   "outputs": [],
   "source": [
    "a=b=c=d=5 "
   ]
  },
  {
   "cell_type": "code",
   "execution_count": 2,
   "id": "7267df0b",
   "metadata": {},
   "outputs": [
    {
     "data": {
      "text/plain": [
       "(5, 5, 5, 5)"
      ]
     },
     "execution_count": 2,
     "metadata": {},
     "output_type": "execute_result"
    }
   ],
   "source": [
    "a,b,c,d"
   ]
  },
  {
   "cell_type": "code",
   "execution_count": 3,
   "id": "e817e0e5",
   "metadata": {},
   "outputs": [
    {
     "data": {
      "text/plain": [
       "20"
      ]
     },
     "execution_count": 3,
     "metadata": {},
     "output_type": "execute_result"
    }
   ],
   "source": [
    "a+b+c+d"
   ]
  },
  {
   "cell_type": "code",
   "execution_count": 6,
   "id": "4e14a2b9",
   "metadata": {},
   "outputs": [
    {
     "data": {
      "text/plain": [
       "20"
      ]
     },
     "execution_count": 6,
     "metadata": {},
     "output_type": "execute_result"
    }
   ],
   "source": [
    "a.__add__(b).__add__(c).__add__(d)"
   ]
  },
  {
   "cell_type": "code",
   "execution_count": 7,
   "id": "c84156be",
   "metadata": {},
   "outputs": [],
   "source": [
    "d=6"
   ]
  },
  {
   "cell_type": "code",
   "execution_count": 9,
   "id": "d3510330",
   "metadata": {},
   "outputs": [
    {
     "data": {
      "text/plain": [
       "(5, 5, 5)"
      ]
     },
     "execution_count": 9,
     "metadata": {},
     "output_type": "execute_result"
    }
   ],
   "source": [
    "c,b,a"
   ]
  },
  {
   "cell_type": "code",
   "execution_count": 13,
   "id": "d9f1ed28",
   "metadata": {},
   "outputs": [
    {
     "data": {
      "text/plain": [
       "200"
      ]
     },
     "execution_count": 13,
     "metadata": {},
     "output_type": "execute_result"
    }
   ],
   "source": [
    "e = \"100+100\"\n",
    "eval(e)# 결과값을 내줄수있는 내장함수"
   ]
  },
  {
   "cell_type": "code",
   "execution_count": 14,
   "id": "1ac8a213",
   "metadata": {},
   "outputs": [
    {
     "data": {
      "text/plain": [
       "200"
      ]
     },
     "execution_count": 14,
     "metadata": {},
     "output_type": "execute_result"
    }
   ],
   "source": [
    "100+100"
   ]
  },
  {
   "cell_type": "code",
   "execution_count": 17,
   "id": "b5098f68",
   "metadata": {},
   "outputs": [
    {
     "name": "stdout",
     "output_type": "stream",
     "text": [
      "<class 'str'>\n",
      "<class 'list'>\n",
      "['1', '2']\n"
     ]
    }
   ],
   "source": [
    "l =\"['1','2']\"\n",
    "print(type(l))\n",
    "ll=eval(l)\n",
    "print(type(ll))\n",
    "print(ll)"
   ]
  },
  {
   "cell_type": "code",
   "execution_count": 19,
   "id": "541a6a8c",
   "metadata": {},
   "outputs": [],
   "source": [
    "function = \"\"\"\n",
    "def add_(x,y):\n",
    "    return x+y\n",
    "\"\"\""
   ]
  },
  {
   "cell_type": "code",
   "execution_count": 20,
   "id": "d727cccb",
   "metadata": {},
   "outputs": [
    {
     "data": {
      "text/plain": [
       "str"
      ]
     },
     "execution_count": 20,
     "metadata": {},
     "output_type": "execute_result"
    }
   ],
   "source": [
    "type(function)"
   ]
  },
  {
   "cell_type": "code",
   "execution_count": 21,
   "id": "e91a8f38",
   "metadata": {},
   "outputs": [],
   "source": [
    "exec(function) #아무런 반환값은 없다."
   ]
  },
  {
   "cell_type": "code",
   "execution_count": 22,
   "id": "b7f62ff7",
   "metadata": {},
   "outputs": [
    {
     "data": {
      "text/plain": [
       "<function __main__.add_(x, y)>"
      ]
     },
     "execution_count": 22,
     "metadata": {},
     "output_type": "execute_result"
    }
   ],
   "source": [
    "globals()['add_']"
   ]
  },
  {
   "cell_type": "code",
   "execution_count": 23,
   "id": "fafc2930",
   "metadata": {},
   "outputs": [
    {
     "data": {
      "text/plain": [
       "20"
      ]
     },
     "execution_count": 23,
     "metadata": {},
     "output_type": "execute_result"
    }
   ],
   "source": [
    "add_(10,10)"
   ]
  },
  {
   "cell_type": "code",
   "execution_count": null,
   "id": "7d953dcb",
   "metadata": {},
   "outputs": [],
   "source": [
    "#특정 객체 만든후 실행하기 "
   ]
  },
  {
   "cell_type": "code",
   "execution_count": null,
   "id": "36c5eba3",
   "metadata": {},
   "outputs": [],
   "source": [
    "#핸들러 \n",
    "# 특정 표현식이 실행되면 결괏값을 바로 반환하지 않고,\n",
    "# 해당 값을 호출할수 있는 값을 반환하는 객체"
   ]
  },
  {
   "cell_type": "code",
   "execution_count": 24,
   "id": "8268c0ef",
   "metadata": {},
   "outputs": [
    {
     "data": {
      "text/plain": [
       "20"
      ]
     },
     "execution_count": 24,
     "metadata": {},
     "output_type": "execute_result"
    }
   ],
   "source": [
    "add_(10,10)"
   ]
  },
  {
   "cell_type": "code",
   "execution_count": 25,
   "id": "9894a33b",
   "metadata": {},
   "outputs": [],
   "source": [
    "r=range(5)"
   ]
  },
  {
   "cell_type": "code",
   "execution_count": 26,
   "id": "0ebfe005",
   "metadata": {},
   "outputs": [
    {
     "data": {
      "text/plain": [
       "range(0, 5)"
      ]
     },
     "execution_count": 26,
     "metadata": {},
     "output_type": "execute_result"
    }
   ],
   "source": [
    "r"
   ]
  },
  {
   "cell_type": "code",
   "execution_count": 27,
   "id": "a6a91b4d",
   "metadata": {},
   "outputs": [
    {
     "name": "stdout",
     "output_type": "stream",
     "text": [
      "0\n",
      "1\n",
      "2\n",
      "3\n",
      "4\n"
     ]
    }
   ],
   "source": [
    "for i in r: \n",
    "    print(i)"
   ]
  },
  {
   "cell_type": "code",
   "execution_count": 28,
   "id": "9792304b",
   "metadata": {},
   "outputs": [],
   "source": [
    "x = 100"
   ]
  },
  {
   "cell_type": "code",
   "execution_count": 29,
   "id": "59ad6e6b",
   "metadata": {},
   "outputs": [],
   "source": [
    "y = \"2*x**2 + 4\"\n"
   ]
  },
  {
   "cell_type": "code",
   "execution_count": 30,
   "id": "d7a1b3d3",
   "metadata": {},
   "outputs": [
    {
     "data": {
      "text/plain": [
       "20004"
      ]
     },
     "execution_count": 30,
     "metadata": {},
     "output_type": "execute_result"
    }
   ],
   "source": [
    "eval(y) # 100의 2승에다 2곱하고 4더해줌"
   ]
  },
  {
   "cell_type": "code",
   "execution_count": 33,
   "id": "da53e77a",
   "metadata": {},
   "outputs": [],
   "source": [
    "z = \"y1 = 2*x**2 +4\""
   ]
  },
  {
   "cell_type": "code",
   "execution_count": 34,
   "id": "41b21c46",
   "metadata": {},
   "outputs": [],
   "source": [
    "exec(z) #값은 반환되지 않음"
   ]
  },
  {
   "cell_type": "code",
   "execution_count": 35,
   "id": "d507a1a8",
   "metadata": {},
   "outputs": [
    {
     "data": {
      "text/plain": [
       "20004"
      ]
     },
     "execution_count": 35,
     "metadata": {},
     "output_type": "execute_result"
    }
   ],
   "source": [
    "globals()['y1'] #글로벌스y1을 조회"
   ]
  },
  {
   "cell_type": "code",
   "execution_count": 36,
   "id": "0383cbde",
   "metadata": {},
   "outputs": [
    {
     "data": {
      "text/plain": [
       "20004"
      ]
     },
     "execution_count": 36,
     "metadata": {},
     "output_type": "execute_result"
    }
   ],
   "source": [
    "y1"
   ]
  },
  {
   "cell_type": "code",
   "execution_count": null,
   "id": "ed798036",
   "metadata": {},
   "outputs": [],
   "source": []
  },
  {
   "cell_type": "code",
   "execution_count": null,
   "id": "224921d9",
   "metadata": {},
   "outputs": [],
   "source": []
  },
  {
   "cell_type": "code",
   "execution_count": null,
   "id": "8ebf6d9e",
   "metadata": {},
   "outputs": [],
   "source": []
  },
  {
   "cell_type": "code",
   "execution_count": null,
   "id": "7b994784",
   "metadata": {},
   "outputs": [],
   "source": []
  },
  {
   "cell_type": "code",
   "execution_count": null,
   "id": "b2a28200",
   "metadata": {},
   "outputs": [],
   "source": []
  },
  {
   "cell_type": "code",
   "execution_count": null,
   "id": "e14dd39b",
   "metadata": {},
   "outputs": [],
   "source": []
  },
  {
   "cell_type": "code",
   "execution_count": null,
   "id": "adfd3f1f",
   "metadata": {},
   "outputs": [],
   "source": []
  }
 ],
 "metadata": {
  "kernelspec": {
   "display_name": "Python 3 (ipykernel)",
   "language": "python",
   "name": "python3"
  },
  "language_info": {
   "codemirror_mode": {
    "name": "ipython",
    "version": 3
   },
   "file_extension": ".py",
   "mimetype": "text/x-python",
   "name": "python",
   "nbconvert_exporter": "python",
   "pygments_lexer": "ipython3",
   "version": "3.11.5"
  }
 },
 "nbformat": 4,
 "nbformat_minor": 5
}
