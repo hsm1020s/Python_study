{
 "cells": [
  {
   "cell_type": "code",
   "execution_count": null,
   "id": "5793c795",
   "metadata": {},
   "outputs": [],
   "source": [
    "# 특정 기능 처리하는 방식"
   ]
  },
  {
   "cell_type": "code",
   "execution_count": 1,
   "id": "5cf3093f",
   "metadata": {},
   "outputs": [],
   "source": [
    "x=10\n",
    "if x< 10:\n",
    "    print(\"x는 10보다 작습니다.\")\n",
    "else:\n",
    "    print(\"x 는 10보다 크거나 같습니다.\")"
   ]
  },
  {
   "cell_type": "code",
   "execution_count": 2,
   "id": "293a24fc",
   "metadata": {},
   "outputs": [
    {
     "name": "stdout",
     "output_type": "stream",
     "text": [
      "x는 10보다 크거나 같습니다.\n"
     ]
    }
   ],
   "source": [
    "print(\"x 는 10보다 작습니다.\") if x<10 else print(\"x는 10보다 크거나 같습니다.\")"
   ]
  },
  {
   "cell_type": "code",
   "execution_count": 4,
   "id": "b05844af",
   "metadata": {},
   "outputs": [],
   "source": [
    "a = 10\n",
    "b = 5"
   ]
  },
  {
   "cell_type": "code",
   "execution_count": 5,
   "id": "2301a843",
   "metadata": {},
   "outputs": [],
   "source": [
    "c= a if a>b else b"
   ]
  },
  {
   "cell_type": "code",
   "execution_count": 6,
   "id": "2d4d9e3d",
   "metadata": {},
   "outputs": [
    {
     "data": {
      "text/plain": [
       "10"
      ]
     },
     "execution_count": 6,
     "metadata": {},
     "output_type": "execute_result"
    }
   ],
   "source": [
    "c"
   ]
  },
  {
   "cell_type": "code",
   "execution_count": 7,
   "id": "14825c26",
   "metadata": {},
   "outputs": [],
   "source": [
    "c = a if a < b else b"
   ]
  },
  {
   "cell_type": "code",
   "execution_count": 8,
   "id": "bb889fe4",
   "metadata": {},
   "outputs": [
    {
     "data": {
      "text/plain": [
       "5"
      ]
     },
     "execution_count": 8,
     "metadata": {},
     "output_type": "execute_result"
    }
   ],
   "source": [
    "c"
   ]
  },
  {
   "cell_type": "code",
   "execution_count": 9,
   "id": "92728c60",
   "metadata": {},
   "outputs": [],
   "source": [
    "def func10():\n",
    "    print(10)\n",
    "\n",
    "def func100():\n",
    "    print(100)"
   ]
  },
  {
   "cell_type": "code",
   "execution_count": 12,
   "id": "80a62c3b",
   "metadata": {},
   "outputs": [],
   "source": [
    "switch={\n",
    "    '10' :func10,\n",
    "    '100' :func100\n",
    "}"
   ]
  },
  {
   "cell_type": "code",
   "execution_count": 13,
   "id": "afc2c8c9",
   "metadata": {},
   "outputs": [
    {
     "data": {
      "text/plain": [
       "{'10': <function __main__.func10()>, '100': <function __main__.func100()>}"
      ]
     },
     "execution_count": 13,
     "metadata": {},
     "output_type": "execute_result"
    }
   ],
   "source": [
    "switch"
   ]
  },
  {
   "cell_type": "code",
   "execution_count": 14,
   "id": "18e24030",
   "metadata": {},
   "outputs": [
    {
     "name": "stdout",
     "output_type": "stream",
     "text": [
      "10\n"
     ]
    }
   ],
   "source": [
    "switch['10']()"
   ]
  },
  {
   "cell_type": "code",
   "execution_count": 15,
   "id": "c0826098",
   "metadata": {},
   "outputs": [
    {
     "name": "stdout",
     "output_type": "stream",
     "text": [
      "100\n"
     ]
    }
   ],
   "source": [
    "switch['100']()"
   ]
  },
  {
   "cell_type": "code",
   "execution_count": 17,
   "id": "ca1f1918",
   "metadata": {},
   "outputs": [
    {
     "name": "stdout",
     "output_type": "stream",
     "text": [
      "100\n"
     ]
    }
   ],
   "source": [
    "switch.get('100',func10)()"
   ]
  },
  {
   "cell_type": "code",
   "execution_count": 18,
   "id": "4f910a71",
   "metadata": {},
   "outputs": [
    {
     "name": "stdout",
     "output_type": "stream",
     "text": [
      "10\n"
     ]
    }
   ],
   "source": [
    "switch.get('1',func10)()"
   ]
  },
  {
   "cell_type": "code",
   "execution_count": 19,
   "id": "3623e398",
   "metadata": {},
   "outputs": [],
   "source": [
    "ll = [1,2,3,4,5,6]"
   ]
  },
  {
   "cell_type": "code",
   "execution_count": 26,
   "id": "5c2d8f0a",
   "metadata": {},
   "outputs": [],
   "source": [
    "def index(iterable, *args):\n",
    "    result =[]\n",
    "    for i in args:\n",
    "        if i < len(iterable):\n",
    "            result.append(iterable[i])\n",
    "        else :\n",
    "            continue\n",
    "    return result"
   ]
  },
  {
   "cell_type": "code",
   "execution_count": 35,
   "id": "0921e51f",
   "metadata": {},
   "outputs": [
    {
     "name": "stdout",
     "output_type": "stream",
     "text": [
      "[2, 3, 6]\n"
     ]
    }
   ],
   "source": [
    "print(index(ll,1,2,5))"
   ]
  },
  {
   "cell_type": "code",
   "execution_count": 36,
   "id": "f691e09c",
   "metadata": {},
   "outputs": [],
   "source": [
    "import operator as op"
   ]
  },
  {
   "cell_type": "code",
   "execution_count": 37,
   "id": "1a4032da",
   "metadata": {},
   "outputs": [
    {
     "data": {
      "text/plain": [
       "type"
      ]
     },
     "execution_count": 37,
     "metadata": {},
     "output_type": "execute_result"
    }
   ],
   "source": [
    "type(op.itemgetter)"
   ]
  },
  {
   "cell_type": "code",
   "execution_count": 38,
   "id": "4b2ac506",
   "metadata": {},
   "outputs": [],
   "source": [
    "inx = op.itemgetter(1,2,5)"
   ]
  },
  {
   "cell_type": "code",
   "execution_count": 40,
   "id": "984428e0",
   "metadata": {},
   "outputs": [
    {
     "data": {
      "text/plain": [
       "(2, 3, 6)"
      ]
     },
     "execution_count": 40,
     "metadata": {},
     "output_type": "execute_result"
    }
   ],
   "source": [
    "inx(ll)"
   ]
  },
  {
   "cell_type": "code",
   "execution_count": null,
   "id": "fe465e23",
   "metadata": {},
   "outputs": [],
   "source": []
  }
 ],
 "metadata": {
  "kernelspec": {
   "display_name": "Python 3 (ipykernel)",
   "language": "python",
   "name": "python3"
  },
  "language_info": {
   "codemirror_mode": {
    "name": "ipython",
    "version": 3
   },
   "file_extension": ".py",
   "mimetype": "text/x-python",
   "name": "python",
   "nbconvert_exporter": "python",
   "pygments_lexer": "ipython3",
   "version": "3.11.5"
  }
 },
 "nbformat": 4,
 "nbformat_minor": 5
}
