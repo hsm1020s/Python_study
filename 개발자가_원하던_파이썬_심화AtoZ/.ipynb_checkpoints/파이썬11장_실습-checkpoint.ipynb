{
 "cells": [
  {
   "cell_type": "code",
   "execution_count": 1,
   "id": "3c2fd929",
   "metadata": {},
   "outputs": [],
   "source": [
    "def func():\n",
    "    pass \n",
    "#함수 실행결과가 변수에도 할당된다."
   ]
  },
  {
   "cell_type": "code",
   "execution_count": 2,
   "id": "7a7cecb5",
   "metadata": {},
   "outputs": [],
   "source": [
    "f = func()"
   ]
  },
  {
   "cell_type": "code",
   "execution_count": 3,
   "id": "b5f9eb40",
   "metadata": {},
   "outputs": [
    {
     "name": "stdout",
     "output_type": "stream",
     "text": [
      "None\n"
     ]
    }
   ],
   "source": [
    "print(f)"
   ]
  },
  {
   "cell_type": "code",
   "execution_count": 4,
   "id": "0b7c7aa9",
   "metadata": {},
   "outputs": [
    {
     "name": "stdout",
     "output_type": "stream",
     "text": [
      "func\n"
     ]
    }
   ],
   "source": [
    "print(func.__name__)"
   ]
  },
  {
   "cell_type": "code",
   "execution_count": 7,
   "id": "45eef885",
   "metadata": {},
   "outputs": [],
   "source": [
    "import types"
   ]
  },
  {
   "cell_type": "code",
   "execution_count": 9,
   "id": "fbfeeb5e",
   "metadata": {},
   "outputs": [
    {
     "data": {
      "text/plain": [
       "True"
      ]
     },
     "execution_count": 9,
     "metadata": {},
     "output_type": "execute_result"
    }
   ],
   "source": [
    "type(func) == types.FunctionType"
   ]
  },
  {
   "cell_type": "code",
   "execution_count": 10,
   "id": "48072481",
   "metadata": {},
   "outputs": [],
   "source": [
    "def return_(): \n",
    "    return \"반환값\""
   ]
  },
  {
   "cell_type": "code",
   "execution_count": 11,
   "id": "1b91aa33",
   "metadata": {},
   "outputs": [
    {
     "data": {
      "text/plain": [
       "'반환값'"
      ]
     },
     "execution_count": 11,
     "metadata": {},
     "output_type": "execute_result"
    }
   ],
   "source": [
    "return_()"
   ]
  },
  {
   "cell_type": "code",
   "execution_count": 12,
   "id": "009465c1",
   "metadata": {},
   "outputs": [],
   "source": [
    "def func_():\n",
    "    return 1,2,3"
   ]
  },
  {
   "cell_type": "code",
   "execution_count": 13,
   "id": "b1f9874c",
   "metadata": {},
   "outputs": [],
   "source": [
    "f_ = func_()"
   ]
  },
  {
   "cell_type": "code",
   "execution_count": 14,
   "id": "a5154aa8",
   "metadata": {},
   "outputs": [
    {
     "data": {
      "text/plain": [
       "(1, 2, 3)"
      ]
     },
     "execution_count": 14,
     "metadata": {},
     "output_type": "execute_result"
    }
   ],
   "source": [
    "f_"
   ]
  },
  {
   "cell_type": "code",
   "execution_count": 15,
   "id": "64831af6",
   "metadata": {},
   "outputs": [
    {
     "data": {
      "text/plain": [
       "tuple"
      ]
     },
     "execution_count": 15,
     "metadata": {},
     "output_type": "execute_result"
    }
   ],
   "source": [
    "type(f_)"
   ]
  },
  {
   "cell_type": "code",
   "execution_count": null,
   "id": "ff9778f1",
   "metadata": {},
   "outputs": [],
   "source": [
    "#여러개의 값을 저장해도 하나의 값만 반환\n",
    "#여러개의 값을 하나에 튜플이라는 객체로 처리해서 반환 "
   ]
  },
  {
   "cell_type": "code",
   "execution_count": null,
   "id": "3b164891",
   "metadata": {},
   "outputs": [],
   "source": [
    "help # 이것도 하나의 클래스다 "
   ]
  },
  {
   "cell_type": "code",
   "execution_count": null,
   "id": "bc400ab8",
   "metadata": {},
   "outputs": [
    {
     "name": "stdout",
     "output_type": "stream",
     "text": [
      "\n",
      "Welcome to Python 3.11's help utility!\n",
      "\n",
      "If this is your first time using Python, you should definitely check out\n",
      "the tutorial on the internet at https://docs.python.org/3.11/tutorial/.\n",
      "\n",
      "Enter the name of any module, keyword, or topic to get help on writing\n",
      "Python programs and using Python modules.  To quit this help utility and\n",
      "return to the interpreter, just type \"quit\".\n",
      "\n",
      "To get a list of available modules, keywords, symbols, or topics, type\n",
      "\"modules\", \"keywords\", \"symbols\", or \"topics\".  Each module also comes\n",
      "with a one-line summary of what it does; to list the modules whose name\n",
      "or summary contain a given string such as \"spam\", type \"modules spam\".\n",
      "\n"
     ]
    }
   ],
   "source": [
    "help()"
   ]
  },
  {
   "cell_type": "code",
   "execution_count": 2,
   "id": "afdbbd6a",
   "metadata": {},
   "outputs": [],
   "source": [
    "def add_(x,y):\n",
    "    \"\"\" 이 함수는 두개의 매개변수를 덧셈하는 함수입니다.\n",
    "    \"\"\"\n",
    "    return x+y"
   ]
  },
  {
   "cell_type": "code",
   "execution_count": 3,
   "id": "1b7ea4c6",
   "metadata": {},
   "outputs": [
    {
     "data": {
      "text/plain": [
       "' 이 함수는 두개의 매개변수를 덧셈하는 함수입니다.\\n    '"
      ]
     },
     "execution_count": 3,
     "metadata": {},
     "output_type": "execute_result"
    }
   ],
   "source": [
    "add_.__doc__"
   ]
  },
  {
   "cell_type": "code",
   "execution_count": 4,
   "id": "7a13a402",
   "metadata": {},
   "outputs": [
    {
     "name": "stdout",
     "output_type": "stream",
     "text": [
      "Help on function add_ in module __main__:\n",
      "\n",
      "add_(x, y)\n",
      "    이 함수는 두개의 매개변수를 덧셈하는 함수입니다.\n",
      "\n"
     ]
    }
   ],
   "source": [
    "help(add_)"
   ]
  },
  {
   "cell_type": "code",
   "execution_count": null,
   "id": "6c7b215e",
   "metadata": {},
   "outputs": [],
   "source": [
    "#함수는 1급객체이다."
   ]
  },
  {
   "cell_type": "code",
   "execution_count": 5,
   "id": "86d96e6b",
   "metadata": {},
   "outputs": [],
   "source": [
    "def func(x,y):\n",
    "    return x,y"
   ]
  },
  {
   "cell_type": "code",
   "execution_count": 6,
   "id": "0d5de64e",
   "metadata": {},
   "outputs": [
    {
     "data": {
      "text/plain": [
       "<function __main__.func(x, y)>"
      ]
     },
     "execution_count": 6,
     "metadata": {},
     "output_type": "execute_result"
    }
   ],
   "source": [
    "func"
   ]
  },
  {
   "cell_type": "code",
   "execution_count": 7,
   "id": "b0be9842",
   "metadata": {},
   "outputs": [
    {
     "data": {
      "text/plain": [
       "function"
      ]
     },
     "execution_count": 7,
     "metadata": {},
     "output_type": "execute_result"
    }
   ],
   "source": [
    "type(func)"
   ]
  },
  {
   "cell_type": "code",
   "execution_count": 8,
   "id": "e9a39ff5",
   "metadata": {},
   "outputs": [],
   "source": [
    "var = func"
   ]
  },
  {
   "cell_type": "code",
   "execution_count": 10,
   "id": "26a22f8e",
   "metadata": {},
   "outputs": [
    {
     "data": {
      "text/plain": [
       "True"
      ]
     },
     "execution_count": 10,
     "metadata": {},
     "output_type": "execute_result"
    }
   ],
   "source": [
    "var is func"
   ]
  },
  {
   "cell_type": "code",
   "execution_count": 12,
   "id": "3ece7a5d",
   "metadata": {},
   "outputs": [],
   "source": [
    "func=1"
   ]
  },
  {
   "cell_type": "code",
   "execution_count": 13,
   "id": "9b4b9a14",
   "metadata": {},
   "outputs": [
    {
     "data": {
      "text/plain": [
       "1"
      ]
     },
     "execution_count": 13,
     "metadata": {},
     "output_type": "execute_result"
    }
   ],
   "source": [
    "func"
   ]
  },
  {
   "cell_type": "code",
   "execution_count": 14,
   "id": "f518ab8c",
   "metadata": {},
   "outputs": [
    {
     "data": {
      "text/plain": [
       "int"
      ]
     },
     "execution_count": 14,
     "metadata": {},
     "output_type": "execute_result"
    }
   ],
   "source": [
    "type(func)"
   ]
  },
  {
   "cell_type": "code",
   "execution_count": 15,
   "id": "625fc5c0",
   "metadata": {},
   "outputs": [
    {
     "data": {
      "text/plain": [
       "'func'"
      ]
     },
     "execution_count": 15,
     "metadata": {},
     "output_type": "execute_result"
    }
   ],
   "source": [
    "var.__name__"
   ]
  },
  {
   "cell_type": "code",
   "execution_count": 16,
   "id": "19c061d1",
   "metadata": {},
   "outputs": [],
   "source": [
    "func = var"
   ]
  },
  {
   "cell_type": "code",
   "execution_count": 17,
   "id": "6eec853a",
   "metadata": {},
   "outputs": [
    {
     "data": {
      "text/plain": [
       "'func'"
      ]
     },
     "execution_count": 17,
     "metadata": {},
     "output_type": "execute_result"
    }
   ],
   "source": [
    "func.__name__"
   ]
  },
  {
   "cell_type": "code",
   "execution_count": null,
   "id": "d2517a2f",
   "metadata": {},
   "outputs": [],
   "source": []
  },
  {
   "cell_type": "code",
   "execution_count": null,
   "id": "5b10f011",
   "metadata": {},
   "outputs": [],
   "source": []
  },
  {
   "cell_type": "code",
   "execution_count": null,
   "id": "009a184d",
   "metadata": {},
   "outputs": [],
   "source": []
  },
  {
   "cell_type": "code",
   "execution_count": null,
   "id": "4df46641",
   "metadata": {},
   "outputs": [],
   "source": []
  },
  {
   "cell_type": "code",
   "execution_count": null,
   "id": "319aa5fa",
   "metadata": {},
   "outputs": [],
   "source": []
  },
  {
   "cell_type": "code",
   "execution_count": null,
   "id": "19e1b94f",
   "metadata": {},
   "outputs": [],
   "source": []
  },
  {
   "cell_type": "code",
   "execution_count": null,
   "id": "7e7fa306",
   "metadata": {},
   "outputs": [],
   "source": []
  },
  {
   "cell_type": "code",
   "execution_count": null,
   "id": "9835c344",
   "metadata": {},
   "outputs": [],
   "source": []
  },
  {
   "cell_type": "code",
   "execution_count": null,
   "id": "0fbb4ab3",
   "metadata": {},
   "outputs": [],
   "source": []
  },
  {
   "cell_type": "code",
   "execution_count": null,
   "id": "f545396f",
   "metadata": {},
   "outputs": [],
   "source": []
  },
  {
   "cell_type": "code",
   "execution_count": null,
   "id": "45c17f08",
   "metadata": {},
   "outputs": [],
   "source": []
  }
 ],
 "metadata": {
  "kernelspec": {
   "display_name": "Python 3 (ipykernel)",
   "language": "python",
   "name": "python3"
  },
  "language_info": {
   "codemirror_mode": {
    "name": "ipython",
    "version": 3
   },
   "file_extension": ".py",
   "mimetype": "text/x-python",
   "name": "python",
   "nbconvert_exporter": "python",
   "pygments_lexer": "ipython3",
   "version": "3.11.5"
  }
 },
 "nbformat": 4,
 "nbformat_minor": 5
}
