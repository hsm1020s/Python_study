{
 "cells": [
  {
   "cell_type": "code",
   "execution_count": 1,
   "id": "c78862fe",
   "metadata": {},
   "outputs": [
    {
     "name": "stdout",
     "output_type": "stream",
     "text": [
      "0\n",
      "1\n",
      "2\n",
      "3\n",
      "4\n",
      "5\n",
      "6\n",
      "7\n",
      "8\n",
      "9\n"
     ]
    }
   ],
   "source": [
    "for i in range(10):\n",
    "    print(i)"
   ]
  },
  {
   "cell_type": "code",
   "execution_count": 2,
   "id": "1f81c47b",
   "metadata": {},
   "outputs": [],
   "source": [
    "def func():\n",
    "    pass"
   ]
  },
  {
   "cell_type": "code",
   "execution_count": 3,
   "id": "eaa6d1e9",
   "metadata": {},
   "outputs": [
    {
     "ename": "IndentationError",
     "evalue": "expected an indented block after function definition on line 1 (4098948203.py, line 2)",
     "output_type": "error",
     "traceback": [
      "\u001b[1;36m  Cell \u001b[1;32mIn[3], line 2\u001b[1;36m\u001b[0m\n\u001b[1;33m    pass\u001b[0m\n\u001b[1;37m    ^\u001b[0m\n\u001b[1;31mIndentationError\u001b[0m\u001b[1;31m:\u001b[0m expected an indented block after function definition on line 1\n"
     ]
    }
   ],
   "source": [
    "def func():\n",
    "pass"
   ]
  },
  {
   "cell_type": "code",
   "execution_count": 5,
   "id": "399e677e",
   "metadata": {},
   "outputs": [],
   "source": [
    "def func():\n",
    "    print(\"func\")"
   ]
  },
  {
   "cell_type": "code",
   "execution_count": 6,
   "id": "201d56f5",
   "metadata": {},
   "outputs": [
    {
     "name": "stdout",
     "output_type": "stream",
     "text": [
      "func\n"
     ]
    }
   ],
   "source": [
    "func()"
   ]
  },
  {
   "cell_type": "code",
   "execution_count": 7,
   "id": "ce47d501",
   "metadata": {},
   "outputs": [
    {
     "ename": "SyntaxError",
     "evalue": "invalid syntax (1121231996.py, line 1)",
     "output_type": "error",
     "traceback": [
      "\u001b[1;36m  Cell \u001b[1;32mIn[7], line 1\u001b[1;36m\u001b[0m\n\u001b[1;33m    a = 100 +\u001b[0m\n\u001b[1;37m              ^\u001b[0m\n\u001b[1;31mSyntaxError\u001b[0m\u001b[1;31m:\u001b[0m invalid syntax\n"
     ]
    }
   ],
   "source": [
    "a = 100 + \n",
    "200 + \n",
    "300"
   ]
  },
  {
   "cell_type": "code",
   "execution_count": 8,
   "id": "c4acdea6",
   "metadata": {},
   "outputs": [],
   "source": [
    "a = 100  + \\\n",
    "200+ \\\n",
    "300"
   ]
  },
  {
   "cell_type": "code",
   "execution_count": 9,
   "id": "313c87a9",
   "metadata": {},
   "outputs": [
    {
     "data": {
      "text/plain": [
       "600"
      ]
     },
     "execution_count": 9,
     "metadata": {},
     "output_type": "execute_result"
    }
   ],
   "source": [
    "a"
   ]
  },
  {
   "cell_type": "code",
   "execution_count": 10,
   "id": "41ed479e",
   "metadata": {},
   "outputs": [],
   "source": [
    "b=(100+\n",
    "   200+\n",
    "   300\n",
    ")"
   ]
  },
  {
   "cell_type": "code",
   "execution_count": 11,
   "id": "15597526",
   "metadata": {},
   "outputs": [
    {
     "data": {
      "text/plain": [
       "600"
      ]
     },
     "execution_count": 11,
     "metadata": {},
     "output_type": "execute_result"
    }
   ],
   "source": [
    "b"
   ]
  },
  {
   "cell_type": "code",
   "execution_count": 13,
   "id": "0e09f6a9",
   "metadata": {},
   "outputs": [],
   "source": [
    "t = (1,2,3,4,\n",
    "    5\n",
    "    )"
   ]
  },
  {
   "cell_type": "code",
   "execution_count": 14,
   "id": "f59370f5",
   "metadata": {},
   "outputs": [
    {
     "data": {
      "text/plain": [
       "(1, 2, 3, 4, 5)"
      ]
     },
     "execution_count": 14,
     "metadata": {},
     "output_type": "execute_result"
    }
   ],
   "source": [
    "t\n"
   ]
  },
  {
   "cell_type": "code",
   "execution_count": 15,
   "id": "1dc25c81",
   "metadata": {},
   "outputs": [],
   "source": [
    "l = [1,2,3,4,\n",
    "    5]"
   ]
  },
  {
   "cell_type": "code",
   "execution_count": 16,
   "id": "67dd7ce4",
   "metadata": {},
   "outputs": [
    {
     "data": {
      "text/plain": [
       "[1, 2, 3, 4, 5]"
      ]
     },
     "execution_count": 16,
     "metadata": {},
     "output_type": "execute_result"
    }
   ],
   "source": [
    "l"
   ]
  },
  {
   "cell_type": "code",
   "execution_count": 17,
   "id": "1cded8b5",
   "metadata": {},
   "outputs": [],
   "source": [
    "s= \"\"\"문자열\n",
    "hello world\n",
    "\"\"\""
   ]
  },
  {
   "cell_type": "code",
   "execution_count": 18,
   "id": "d6cf3dce",
   "metadata": {},
   "outputs": [
    {
     "data": {
      "text/plain": [
       "'문자열\\nhello world\\n'"
      ]
     },
     "execution_count": 18,
     "metadata": {},
     "output_type": "execute_result"
    }
   ],
   "source": [
    "s"
   ]
  },
  {
   "cell_type": "code",
   "execution_count": 19,
   "id": "da051241",
   "metadata": {},
   "outputs": [],
   "source": [
    "d = {\n",
    "    'a':10,\n",
    "    'b':11\n",
    "}"
   ]
  },
  {
   "cell_type": "code",
   "execution_count": 20,
   "id": "6b288896",
   "metadata": {},
   "outputs": [
    {
     "data": {
      "text/plain": [
       "{'a': 10, 'b': 11}"
      ]
     },
     "execution_count": 20,
     "metadata": {},
     "output_type": "execute_result"
    }
   ],
   "source": [
    "d"
   ]
  },
  {
   "cell_type": "code",
   "execution_count": 21,
   "id": "5e6ec745",
   "metadata": {},
   "outputs": [],
   "source": [
    "st = {1,2,3,\n",
    "     4}"
   ]
  },
  {
   "cell_type": "code",
   "execution_count": 22,
   "id": "430cc42f",
   "metadata": {},
   "outputs": [
    {
     "data": {
      "text/plain": [
       "{1, 2, 3, 4}"
      ]
     },
     "execution_count": 22,
     "metadata": {},
     "output_type": "execute_result"
    }
   ],
   "source": [
    "st"
   ]
  },
  {
   "cell_type": "code",
   "execution_count": 25,
   "id": "c5dbc794",
   "metadata": {},
   "outputs": [],
   "source": [
    "a = 10\n",
    "b = 20\n",
    "c = 30"
   ]
  },
  {
   "cell_type": "code",
   "execution_count": 28,
   "id": "77cd8f1d",
   "metadata": {},
   "outputs": [
    {
     "data": {
      "text/plain": [
       "(10, 20, 30)"
      ]
     },
     "execution_count": 28,
     "metadata": {},
     "output_type": "execute_result"
    }
   ],
   "source": [
    "a,b,c"
   ]
  },
  {
   "cell_type": "code",
   "execution_count": 26,
   "id": "d95ae143",
   "metadata": {},
   "outputs": [],
   "source": [
    "a = 10; b=20; c=30;"
   ]
  },
  {
   "cell_type": "code",
   "execution_count": 27,
   "id": "79e8b126",
   "metadata": {},
   "outputs": [
    {
     "data": {
      "text/plain": [
       "(10, 20, 30)"
      ]
     },
     "execution_count": 27,
     "metadata": {},
     "output_type": "execute_result"
    }
   ],
   "source": [
    "a,b,c"
   ]
  },
  {
   "cell_type": "code",
   "execution_count": 30,
   "id": "ca3ba11e",
   "metadata": {},
   "outputs": [
    {
     "name": "stdout",
     "output_type": "stream",
     "text": [
      "0\n",
      "hello\n",
      "1\n",
      "hello\n",
      "2\n",
      "hello\n"
     ]
    }
   ],
   "source": [
    "for i in range(3): print(i); print(\"hello\");\n",
    "    "
   ]
  },
  {
   "cell_type": "code",
   "execution_count": 31,
   "id": "c8b263f9",
   "metadata": {},
   "outputs": [
    {
     "name": "stdout",
     "output_type": "stream",
     "text": [
      "30\n",
      "hello\n"
     ]
    }
   ],
   "source": [
    "if a<b: print(c); print(\"hello\");"
   ]
  },
  {
   "cell_type": "code",
   "execution_count": 32,
   "id": "1a6f46be",
   "metadata": {},
   "outputs": [
    {
     "ename": "SyntaxError",
     "evalue": "invalid syntax (3562546399.py, line 1)",
     "output_type": "error",
     "traceback": [
      "\u001b[1;36m  Cell \u001b[1;32mIn[32], line 1\u001b[1;36m\u001b[0m\n\u001b[1;33m    if a>b : print(c); else: print(\"hello\");\u001b[0m\n\u001b[1;37m                       ^\u001b[0m\n\u001b[1;31mSyntaxError\u001b[0m\u001b[1;31m:\u001b[0m invalid syntax\n"
     ]
    }
   ],
   "source": [
    "if a>b : print(c); else: print(\"hello\"); #else 쓰면 에러"
   ]
  },
  {
   "cell_type": "code",
   "execution_count": 35,
   "id": "70ab686b",
   "metadata": {},
   "outputs": [
    {
     "name": "stdout",
     "output_type": "stream",
     "text": [
      "hello\n"
     ]
    }
   ],
   "source": [
    "if a>b : print(c); \n",
    "else: print(\"hello\"); #정상출력"
   ]
  },
  {
   "cell_type": "code",
   "execution_count": 36,
   "id": "30b0a8f8",
   "metadata": {},
   "outputs": [],
   "source": [
    "#컴프리헨션\n",
    "#리스트를 전부 나열하지않고, 내부에 수식을 작성해서 간단하게 표시하는 방식"
   ]
  },
  {
   "cell_type": "code",
   "execution_count": null,
   "id": "6f064e77",
   "metadata": {},
   "outputs": [],
   "source": [
    "for x in range(1,46)  #1"
   ]
  },
  {
   "cell_type": "code",
   "execution_count": null,
   "id": "cfbb01a3",
   "metadata": {},
   "outputs": [],
   "source": [
    "[for x in range(1,46)] #2"
   ]
  },
  {
   "cell_type": "code",
   "execution_count": null,
   "id": "853fcd48",
   "metadata": {},
   "outputs": [],
   "source": [
    "[x for x in range(1,46)] #3"
   ]
  },
  {
   "cell_type": "code",
   "execution_count": 39,
   "id": "dcd36e86",
   "metadata": {},
   "outputs": [],
   "source": [
    "a = [x for x in range(1,46)] #4"
   ]
  },
  {
   "cell_type": "code",
   "execution_count": 40,
   "id": "6b9b150c",
   "metadata": {},
   "outputs": [
    {
     "data": {
      "text/plain": [
       "[1,\n",
       " 2,\n",
       " 3,\n",
       " 4,\n",
       " 5,\n",
       " 6,\n",
       " 7,\n",
       " 8,\n",
       " 9,\n",
       " 10,\n",
       " 11,\n",
       " 12,\n",
       " 13,\n",
       " 14,\n",
       " 15,\n",
       " 16,\n",
       " 17,\n",
       " 18,\n",
       " 19,\n",
       " 20,\n",
       " 21,\n",
       " 22,\n",
       " 23,\n",
       " 24,\n",
       " 25,\n",
       " 26,\n",
       " 27,\n",
       " 28,\n",
       " 29,\n",
       " 30,\n",
       " 31,\n",
       " 32,\n",
       " 33,\n",
       " 34,\n",
       " 35,\n",
       " 36,\n",
       " 37,\n",
       " 38,\n",
       " 39,\n",
       " 40,\n",
       " 41,\n",
       " 42,\n",
       " 43,\n",
       " 44,\n",
       " 45]"
      ]
     },
     "execution_count": 40,
     "metadata": {},
     "output_type": "execute_result"
    }
   ],
   "source": [
    "a"
   ]
  },
  {
   "cell_type": "code",
   "execution_count": null,
   "id": "d03a64ed",
   "metadata": {},
   "outputs": [],
   "source": [
    "# choices 특정 원소를 임의로 선택 "
   ]
  },
  {
   "cell_type": "code",
   "execution_count": 41,
   "id": "320a4d71",
   "metadata": {},
   "outputs": [],
   "source": [
    "import random"
   ]
  },
  {
   "cell_type": "code",
   "execution_count": 42,
   "id": "ccaf6deb",
   "metadata": {},
   "outputs": [],
   "source": [
    "random.shuffle(a)"
   ]
  },
  {
   "cell_type": "code",
   "execution_count": 43,
   "id": "634312aa",
   "metadata": {},
   "outputs": [
    {
     "data": {
      "text/plain": [
       "[42,\n",
       " 18,\n",
       " 38,\n",
       " 30,\n",
       " 45,\n",
       " 12,\n",
       " 33,\n",
       " 11,\n",
       " 8,\n",
       " 19,\n",
       " 15,\n",
       " 6,\n",
       " 10,\n",
       " 37,\n",
       " 29,\n",
       " 21,\n",
       " 3,\n",
       " 9,\n",
       " 5,\n",
       " 26,\n",
       " 32,\n",
       " 27,\n",
       " 24,\n",
       " 44,\n",
       " 20,\n",
       " 16,\n",
       " 31,\n",
       " 41,\n",
       " 40,\n",
       " 7,\n",
       " 35,\n",
       " 4,\n",
       " 13,\n",
       " 22,\n",
       " 39,\n",
       " 36,\n",
       " 43,\n",
       " 1,\n",
       " 23,\n",
       " 25,\n",
       " 17,\n",
       " 2,\n",
       " 28,\n",
       " 14,\n",
       " 34]"
      ]
     },
     "execution_count": 43,
     "metadata": {},
     "output_type": "execute_result"
    }
   ],
   "source": [
    "a"
   ]
  },
  {
   "cell_type": "code",
   "execution_count": 44,
   "id": "639661c4",
   "metadata": {},
   "outputs": [
    {
     "data": {
      "text/plain": [
       "[33, 22, 21, 11, 26, 39]"
      ]
     },
     "execution_count": 44,
     "metadata": {},
     "output_type": "execute_result"
    }
   ],
   "source": [
    "random.choices(a, k=6) #a 리스트에서 6개 추출 "
   ]
  },
  {
   "cell_type": "code",
   "execution_count": 45,
   "id": "90cd8cc0",
   "metadata": {},
   "outputs": [],
   "source": [
    "random.shuffle(a)"
   ]
  },
  {
   "cell_type": "code",
   "execution_count": 58,
   "id": "785b75e3",
   "metadata": {},
   "outputs": [
    {
     "data": {
      "text/plain": [
       "[32, 30, 14, 5, 40, 40]"
      ]
     },
     "execution_count": 58,
     "metadata": {},
     "output_type": "execute_result"
    }
   ],
   "source": [
    "random.choices(a, k=6)"
   ]
  },
  {
   "cell_type": "code",
   "execution_count": 59,
   "id": "903a4b3a",
   "metadata": {},
   "outputs": [],
   "source": [
    "import numpy as np"
   ]
  },
  {
   "cell_type": "code",
   "execution_count": 60,
   "id": "df472010",
   "metadata": {},
   "outputs": [
    {
     "ename": "TypeError",
     "evalue": "Random.shuffle() got an unexpected keyword argument 'random'",
     "output_type": "error",
     "traceback": [
      "\u001b[1;31m---------------------------------------------------------------------------\u001b[0m",
      "\u001b[1;31mTypeError\u001b[0m                                 Traceback (most recent call last)",
      "Cell \u001b[1;32mIn[60], line 1\u001b[0m\n\u001b[1;32m----> 1\u001b[0m random\u001b[38;5;241m.\u001b[39mshuffle(a, random \u001b[38;5;241m=\u001b[39m np\u001b[38;5;241m.\u001b[39mrandom\u001b[38;5;241m.\u001b[39mrandom)\n",
      "\u001b[1;31mTypeError\u001b[0m: Random.shuffle() got an unexpected keyword argument 'random'"
     ]
    }
   ],
   "source": [
    "random.shuffle(a, random = np.random.random)\n",
    "#왜 안되는지 확인해보기"
   ]
  },
  {
   "cell_type": "code",
   "execution_count": 57,
   "id": "1060b306",
   "metadata": {},
   "outputs": [
    {
     "data": {
      "text/plain": [
       "[31, 22, 35, 36, 8, 3]"
      ]
     },
     "execution_count": 57,
     "metadata": {},
     "output_type": "execute_result"
    }
   ],
   "source": [
    "random.choices(a,k=6)"
   ]
  },
  {
   "cell_type": "code",
   "execution_count": 61,
   "id": "e861b58f",
   "metadata": {},
   "outputs": [],
   "source": [
    "np.random.shuffle(a)"
   ]
  },
  {
   "cell_type": "code",
   "execution_count": 62,
   "id": "a752f311",
   "metadata": {},
   "outputs": [
    {
     "data": {
      "text/plain": [
       "[31, 8, 45, 20, 34, 5]"
      ]
     },
     "execution_count": 62,
     "metadata": {},
     "output_type": "execute_result"
    }
   ],
   "source": [
    "random.choices(a,k=6)"
   ]
  },
  {
   "cell_type": "code",
   "execution_count": null,
   "id": "45692959",
   "metadata": {},
   "outputs": [],
   "source": []
  }
 ],
 "metadata": {
  "kernelspec": {
   "display_name": "Python 3 (ipykernel)",
   "language": "python",
   "name": "python3"
  },
  "language_info": {
   "codemirror_mode": {
    "name": "ipython",
    "version": 3
   },
   "file_extension": ".py",
   "mimetype": "text/x-python",
   "name": "python",
   "nbconvert_exporter": "python",
   "pygments_lexer": "ipython3",
   "version": "3.11.5"
  }
 },
 "nbformat": 4,
 "nbformat_minor": 5
}
