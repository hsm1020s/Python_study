{
 "cells": [
  {
   "cell_type": "code",
   "execution_count": null,
   "id": "7e3d3832",
   "metadata": {},
   "outputs": [],
   "source": [
    "#할당 및 기타 문장 처리하기"
   ]
  },
  {
   "cell_type": "code",
   "execution_count": 1,
   "id": "ca25fc2f",
   "metadata": {},
   "outputs": [],
   "source": [
    "var = 100 "
   ]
  },
  {
   "cell_type": "code",
   "execution_count": 4,
   "id": "25bdad98",
   "metadata": {},
   "outputs": [
    {
     "data": {
      "text/plain": [
       "100"
      ]
     },
     "execution_count": 4,
     "metadata": {},
     "output_type": "execute_result"
    }
   ],
   "source": [
    "globals()['var']"
   ]
  },
  {
   "cell_type": "code",
   "execution_count": 5,
   "id": "06cd8e51",
   "metadata": {},
   "outputs": [],
   "source": [
    "def func(x,y):\n",
    "    return x,y"
   ]
  },
  {
   "cell_type": "code",
   "execution_count": 6,
   "id": "a19eda6e",
   "metadata": {},
   "outputs": [
    {
     "data": {
      "text/plain": [
       "<function __main__.func(x, y)>"
      ]
     },
     "execution_count": 6,
     "metadata": {},
     "output_type": "execute_result"
    }
   ],
   "source": [
    "globals()['func']"
   ]
  },
  {
   "cell_type": "code",
   "execution_count": 7,
   "id": "9962bfc1",
   "metadata": {},
   "outputs": [
    {
     "data": {
      "text/plain": [
       "(5, 5)"
      ]
     },
     "execution_count": 7,
     "metadata": {},
     "output_type": "execute_result"
    }
   ],
   "source": [
    "globals()['func'](5,5)"
   ]
  },
  {
   "cell_type": "code",
   "execution_count": 8,
   "id": "0c4483dd",
   "metadata": {},
   "outputs": [
    {
     "data": {
      "text/plain": [
       "(5, 5)"
      ]
     },
     "execution_count": 8,
     "metadata": {},
     "output_type": "execute_result"
    }
   ],
   "source": [
    "func(5,5)"
   ]
  },
  {
   "cell_type": "code",
   "execution_count": 10,
   "id": "a87ae14e",
   "metadata": {},
   "outputs": [],
   "source": [
    "class Klass:    #예약어 클래스이름 콜론\n",
    "    def __init__(self,name): #셀프와 네임이라는 매개변수 정의\n",
    "        self.name = name\n",
    "\n",
    "#__init__ 은 초기화 메서드로 인스턴스를 만들 때 항상 실행"
   ]
  },
  {
   "cell_type": "code",
   "execution_count": 11,
   "id": "2772fe14",
   "metadata": {},
   "outputs": [
    {
     "data": {
      "text/plain": [
       "__main__.Klass"
      ]
     },
     "execution_count": 11,
     "metadata": {},
     "output_type": "execute_result"
    }
   ],
   "source": [
    "globals()['Klass']"
   ]
  },
  {
   "cell_type": "code",
   "execution_count": 12,
   "id": "8cead54e",
   "metadata": {},
   "outputs": [],
   "source": [
    "k = globals()['Klass'](\"name\") #name이라고 매개변수를 넣는다."
   ]
  },
  {
   "cell_type": "code",
   "execution_count": 14,
   "id": "db6d86c1",
   "metadata": {},
   "outputs": [
    {
     "name": "stdout",
     "output_type": "stream",
     "text": [
      "{'name': 'name'}\n"
     ]
    }
   ],
   "source": [
    "print(k.__dict__)"
   ]
  },
  {
   "cell_type": "code",
   "execution_count": null,
   "id": "dcd73487",
   "metadata": {},
   "outputs": [],
   "source": [
    "#변수 할당전에 참조되면 예외 발생"
   ]
  },
  {
   "cell_type": "code",
   "execution_count": 15,
   "id": "bfddce6b",
   "metadata": {},
   "outputs": [
    {
     "ename": "NameError",
     "evalue": "name 'not_al' is not defined",
     "output_type": "error",
     "traceback": [
      "\u001b[1;31m---------------------------------------------------------------------------\u001b[0m",
      "\u001b[1;31mNameError\u001b[0m                                 Traceback (most recent call last)",
      "Cell \u001b[1;32mIn[15], line 1\u001b[0m\n\u001b[1;32m----> 1\u001b[0m not_al \u001b[38;5;241m=\u001b[39m not_al \u001b[38;5;241m+\u001b[39m\u001b[38;5;241m1\u001b[39m\n",
      "\u001b[1;31mNameError\u001b[0m: name 'not_al' is not defined"
     ]
    }
   ],
   "source": [
    "not_al = not_al +1 #예외 발생"
   ]
  },
  {
   "cell_type": "code",
   "execution_count": null,
   "id": "d2d8ab46",
   "metadata": {},
   "outputs": [],
   "source": [
    "#여러 값을 여러 변수에 할당하기"
   ]
  },
  {
   "cell_type": "code",
   "execution_count": 17,
   "id": "34c484f7",
   "metadata": {},
   "outputs": [],
   "source": [
    "a, b, c =[1,2,3]"
   ]
  },
  {
   "cell_type": "code",
   "execution_count": 18,
   "id": "5bb122d7",
   "metadata": {},
   "outputs": [
    {
     "data": {
      "text/plain": [
       "(1, 2, 3)"
      ]
     },
     "execution_count": 18,
     "metadata": {},
     "output_type": "execute_result"
    }
   ],
   "source": [
    "a,b,c"
   ]
  },
  {
   "cell_type": "code",
   "execution_count": 19,
   "id": "350ffcd7",
   "metadata": {},
   "outputs": [],
   "source": [
    "d,e,f = \"가을이\""
   ]
  },
  {
   "cell_type": "code",
   "execution_count": 20,
   "id": "13ee957d",
   "metadata": {},
   "outputs": [
    {
     "data": {
      "text/plain": [
       "('가', '을', '이')"
      ]
     },
     "execution_count": 20,
     "metadata": {},
     "output_type": "execute_result"
    }
   ],
   "source": [
    "d,e,f"
   ]
  },
  {
   "cell_type": "code",
   "execution_count": 21,
   "id": "786d4188",
   "metadata": {},
   "outputs": [
    {
     "ename": "ValueError",
     "evalue": "too many values to unpack (expected 2)",
     "output_type": "error",
     "traceback": [
      "\u001b[1;31m---------------------------------------------------------------------------\u001b[0m",
      "\u001b[1;31mValueError\u001b[0m                                Traceback (most recent call last)",
      "Cell \u001b[1;32mIn[21], line 1\u001b[0m\n\u001b[1;32m----> 1\u001b[0m x,y \u001b[38;5;241m=\u001b[39m(\u001b[38;5;241m1\u001b[39m,\u001b[38;5;241m2\u001b[39m,\u001b[38;5;241m3\u001b[39m)\n",
      "\u001b[1;31mValueError\u001b[0m: too many values to unpack (expected 2)"
     ]
    }
   ],
   "source": [
    "x,y =(1,2,3) # 에러남"
   ]
  },
  {
   "cell_type": "code",
   "execution_count": null,
   "id": "31b8c3d6",
   "metadata": {},
   "outputs": [],
   "source": [
    "#변수 개수와 튜플원소갯수가 일치하지않는경우 "
   ]
  },
  {
   "cell_type": "code",
   "execution_count": 22,
   "id": "5f38eea7",
   "metadata": {},
   "outputs": [],
   "source": [
    "x, *y=(1,2,3)"
   ]
  },
  {
   "cell_type": "code",
   "execution_count": 23,
   "id": "09a82119",
   "metadata": {},
   "outputs": [
    {
     "data": {
      "text/plain": [
       "(1, [2, 3])"
      ]
     },
     "execution_count": 23,
     "metadata": {},
     "output_type": "execute_result"
    }
   ],
   "source": [
    "x,y #나머지는 리스트로 만들어서 y에 넣어줌 "
   ]
  },
  {
   "cell_type": "code",
   "execution_count": 24,
   "id": "48d9885f",
   "metadata": {},
   "outputs": [],
   "source": [
    "x,y = y,x"
   ]
  },
  {
   "cell_type": "code",
   "execution_count": 25,
   "id": "4bf75a0f",
   "metadata": {},
   "outputs": [
    {
     "data": {
      "text/plain": [
       "([2, 3], 1)"
      ]
     },
     "execution_count": 25,
     "metadata": {},
     "output_type": "execute_result"
    }
   ],
   "source": [
    "x,y #두개가 변경된것을 볼 수 있다. \n",
    "#튜플은 쉼표로 구분\n",
    "# list와 비슷하지만 각 원소를 수정 혹은 삭제가 불가능"
   ]
  },
  {
   "cell_type": "code",
   "execution_count": null,
   "id": "9acf4f4b",
   "metadata": {},
   "outputs": [],
   "source": [
    "#아무 기능도 없는 pass 문장"
   ]
  },
  {
   "cell_type": "code",
   "execution_count": null,
   "id": "ffa0ffb4",
   "metadata": {},
   "outputs": [],
   "source": [
    "#머리부분 작성후 콜론뒤에 몸체부에 pass 작성 하면 아무런 결과값이 없음\n"
   ]
  },
  {
   "cell_type": "code",
   "execution_count": 26,
   "id": "51ee8741",
   "metadata": {},
   "outputs": [],
   "source": [
    "for i in range(5):\n",
    "    pass"
   ]
  },
  {
   "cell_type": "code",
   "execution_count": 27,
   "id": "188a9ba6",
   "metadata": {},
   "outputs": [],
   "source": [
    "if True:\n",
    "    pass"
   ]
  },
  {
   "cell_type": "code",
   "execution_count": 29,
   "id": "845ecf27",
   "metadata": {},
   "outputs": [
    {
     "ename": "SyntaxError",
     "evalue": "incomplete input (1925085379.py, line 1)",
     "output_type": "error",
     "traceback": [
      "\u001b[1;36m  Cell \u001b[1;32mIn[29], line 1\u001b[1;36m\u001b[0m\n\u001b[1;33m    for i in range(5):\u001b[0m\n\u001b[1;37m                      ^\u001b[0m\n\u001b[1;31mSyntaxError\u001b[0m\u001b[1;31m:\u001b[0m incomplete input\n"
     ]
    }
   ],
   "source": [
    "for i in range(5):"
   ]
  },
  {
   "cell_type": "code",
   "execution_count": 30,
   "id": "de2c0670",
   "metadata": {},
   "outputs": [],
   "source": [
    "def func(x,y):\n",
    "    pass"
   ]
  },
  {
   "cell_type": "code",
   "execution_count": 31,
   "id": "6a83cdda",
   "metadata": {},
   "outputs": [],
   "source": [
    "func(10,19)"
   ]
  },
  {
   "cell_type": "code",
   "execution_count": 35,
   "id": "c5e503c5",
   "metadata": {},
   "outputs": [],
   "source": [
    "class Klass:\n",
    "    pass"
   ]
  },
  {
   "cell_type": "code",
   "execution_count": null,
   "id": "c7ff1a06",
   "metadata": {},
   "outputs": [],
   "source": [
    "#아무것도없는 객체 만들어짐"
   ]
  },
  {
   "cell_type": "code",
   "execution_count": 36,
   "id": "077946a1",
   "metadata": {},
   "outputs": [],
   "source": [
    "k=Klass()"
   ]
  },
  {
   "cell_type": "code",
   "execution_count": 37,
   "id": "78527ef8",
   "metadata": {},
   "outputs": [
    {
     "data": {
      "text/plain": [
       "<__main__.Klass at 0x279991eb310>"
      ]
     },
     "execution_count": 37,
     "metadata": {},
     "output_type": "execute_result"
    }
   ],
   "source": [
    "k"
   ]
  },
  {
   "cell_type": "code",
   "execution_count": 38,
   "id": "2a00920b",
   "metadata": {},
   "outputs": [
    {
     "data": {
      "text/plain": [
       "{}"
      ]
     },
     "execution_count": 38,
     "metadata": {},
     "output_type": "execute_result"
    }
   ],
   "source": [
    "k.__dict__"
   ]
  },
  {
   "cell_type": "code",
   "execution_count": null,
   "id": "e4610714",
   "metadata": {},
   "outputs": [],
   "source": [
    "#사용하지 않는 변수 처리하기"
   ]
  },
  {
   "cell_type": "code",
   "execution_count": 39,
   "id": "9edd58c5",
   "metadata": {},
   "outputs": [],
   "source": [
    "_, a= 100,200"
   ]
  },
  {
   "cell_type": "code",
   "execution_count": 40,
   "id": "d7ae7b79",
   "metadata": {},
   "outputs": [
    {
     "data": {
      "text/plain": [
       "200"
      ]
     },
     "execution_count": 40,
     "metadata": {},
     "output_type": "execute_result"
    }
   ],
   "source": [
    "a"
   ]
  },
  {
   "cell_type": "code",
   "execution_count": 41,
   "id": "690e28d9",
   "metadata": {},
   "outputs": [
    {
     "data": {
      "text/plain": [
       "100"
      ]
     },
     "execution_count": 41,
     "metadata": {},
     "output_type": "execute_result"
    }
   ],
   "source": [
    "_"
   ]
  },
  {
   "cell_type": "code",
   "execution_count": 43,
   "id": "b16df9a0",
   "metadata": {},
   "outputs": [
    {
     "name": "stdout",
     "output_type": "stream",
     "text": [
      "Hello\n",
      "Hello\n"
     ]
    }
   ],
   "source": [
    "for _ in range(2):\n",
    "    print(\"Hello\")"
   ]
  },
  {
   "cell_type": "code",
   "execution_count": 44,
   "id": "5b290f14",
   "metadata": {},
   "outputs": [
    {
     "name": "stdout",
     "output_type": "stream",
     "text": [
      " _ : 1\n"
     ]
    }
   ],
   "source": [
    "if _ :\n",
    "    print(\" _ :\", _)"
   ]
  },
  {
   "cell_type": "code",
   "execution_count": null,
   "id": "973129c7",
   "metadata": {},
   "outputs": [],
   "source": [
    "# map클래스 알아보기\n",
    "# 여러원소를 가진 리스트등을 전달받아 각원소의 값을 변경할때 "
   ]
  },
  {
   "cell_type": "code",
   "execution_count": 45,
   "id": "9d3a8edf",
   "metadata": {},
   "outputs": [
    {
     "data": {
      "text/plain": [
       "map"
      ]
     },
     "execution_count": 45,
     "metadata": {},
     "output_type": "execute_result"
    }
   ],
   "source": [
    "map"
   ]
  },
  {
   "cell_type": "code",
   "execution_count": 46,
   "id": "18be77db",
   "metadata": {},
   "outputs": [
    {
     "data": {
      "text/plain": [
       "'map'"
      ]
     },
     "execution_count": 46,
     "metadata": {},
     "output_type": "execute_result"
    }
   ],
   "source": [
    "map.__name__ # 하나의 매개변수만 받아야한다? \n",
    "# 원소를 하나씩 함수에 전달해서 변형?하기때문"
   ]
  },
  {
   "cell_type": "code",
   "execution_count": 47,
   "id": "51ef751b",
   "metadata": {},
   "outputs": [],
   "source": [
    "import math"
   ]
  },
  {
   "cell_type": "code",
   "execution_count": 48,
   "id": "f58f8155",
   "metadata": {},
   "outputs": [],
   "source": [
    "m = map(math.sqrt,[1,2,3,4])"
   ]
  },
  {
   "cell_type": "code",
   "execution_count": 49,
   "id": "972b0030",
   "metadata": {},
   "outputs": [
    {
     "name": "stdout",
     "output_type": "stream",
     "text": [
      "<class 'map'>\n"
     ]
    }
   ],
   "source": [
    "print(type(m))"
   ]
  },
  {
   "cell_type": "code",
   "execution_count": 50,
   "id": "be6e20e6",
   "metadata": {},
   "outputs": [
    {
     "data": {
      "text/plain": [
       "[1.0, 1.4142135623730951, 1.7320508075688772, 2.0]"
      ]
     },
     "execution_count": 50,
     "metadata": {},
     "output_type": "execute_result"
    }
   ],
   "source": [
    "[*m]"
   ]
  },
  {
   "cell_type": "code",
   "execution_count": null,
   "id": "43d10dd5",
   "metadata": {},
   "outputs": [],
   "source": [
    "#unpacking 모든 원소를 하나씩 추출해서 리스트의 원소로 저장 "
   ]
  },
  {
   "cell_type": "code",
   "execution_count": null,
   "id": "065eca0b",
   "metadata": {},
   "outputs": [],
   "source": []
  },
  {
   "cell_type": "code",
   "execution_count": null,
   "id": "3053a71f",
   "metadata": {},
   "outputs": [],
   "source": []
  },
  {
   "cell_type": "code",
   "execution_count": null,
   "id": "fa0b7d9c",
   "metadata": {},
   "outputs": [],
   "source": []
  },
  {
   "cell_type": "code",
   "execution_count": null,
   "id": "fa8090df",
   "metadata": {},
   "outputs": [],
   "source": []
  },
  {
   "cell_type": "code",
   "execution_count": null,
   "id": "1cba00c8",
   "metadata": {},
   "outputs": [],
   "source": []
  }
 ],
 "metadata": {
  "kernelspec": {
   "display_name": "Python 3 (ipykernel)",
   "language": "python",
   "name": "python3"
  },
  "language_info": {
   "codemirror_mode": {
    "name": "ipython",
    "version": 3
   },
   "file_extension": ".py",
   "mimetype": "text/x-python",
   "name": "python",
   "nbconvert_exporter": "python",
   "pygments_lexer": "ipython3",
   "version": "3.11.5"
  }
 },
 "nbformat": 4,
 "nbformat_minor": 5
}
