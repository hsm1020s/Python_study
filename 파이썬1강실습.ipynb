{
 "cells": [
  {
   "cell_type": "code",
   "execution_count": 4,
   "id": "d84843be",
   "metadata": {},
   "outputs": [],
   "source": [
    "import sys"
   ]
  },
  {
   "cell_type": "code",
   "execution_count": 5,
   "id": "b47443ab",
   "metadata": {},
   "outputs": [
    {
     "data": {
      "text/plain": [
       "sys.version_info(major=3, minor=11, micro=5, releaselevel='final', serial=0)"
      ]
     },
     "execution_count": 5,
     "metadata": {},
     "output_type": "execute_result"
    }
   ],
   "source": [
    "sys.version_info"
   ]
  },
  {
   "cell_type": "code",
   "execution_count": 6,
   "id": "c2f43d96",
   "metadata": {},
   "outputs": [],
   "source": [
    "import keyword\n"
   ]
  },
  {
   "cell_type": "code",
   "execution_count": 7,
   "id": "10e57a59",
   "metadata": {},
   "outputs": [
    {
     "name": "stdout",
     "output_type": "stream",
     "text": [
      "['False', 'None', 'True', 'and', 'as', 'assert', 'async', 'await', 'break', 'class', 'continue', 'def', 'del', 'elif', 'else', 'except', 'finally', 'for', 'from', 'global', 'if', 'import', 'in', 'is', 'lambda', 'nonlocal', 'not', 'or', 'pass', 'raise', 'return', 'try', 'while', 'with', 'yield']\n"
     ]
    }
   ],
   "source": [
    "print(keyword.kwlist)"
   ]
  },
  {
   "cell_type": "code",
   "execution_count": 8,
   "id": "c7248599",
   "metadata": {},
   "outputs": [
    {
     "name": "stdout",
     "output_type": "stream",
     "text": [
      "35\n"
     ]
    }
   ],
   "source": [
    "print(len(keyword.kwlist))"
   ]
  },
  {
   "cell_type": "code",
   "execution_count": 9,
   "id": "b8da7e52",
   "metadata": {},
   "outputs": [
    {
     "name": "stdout",
     "output_type": "stream",
     "text": [
      "<class 'list'>\n"
     ]
    }
   ],
   "source": [
    "print(type(keyword.kwlist))#내장함수인 타입"
   ]
  },
  {
   "cell_type": "code",
   "execution_count": 10,
   "id": "51391fc3",
   "metadata": {},
   "outputs": [
    {
     "name": "stdout",
     "output_type": "stream",
     "text": [
      "False,None,True,and,as,\n",
      "assert,async,await,break,class,\n",
      "continue,def,del,elif,else,\n",
      "except,finally,for,from,global,\n",
      "if,import,in,is,lambda,\n",
      "nonlocal,not,or,pass,raise,\n",
      "return,try,while,with,yield,\n"
     ]
    }
   ],
   "source": [
    "count = 0\n",
    "for i in keyword.kwlist:\n",
    "    print(i, end=\",\") #어떤걸로 끝낼것이냐 엔드파라미터\n",
    "    count += 1\n",
    "    if count % 5 == 0:\n",
    "        print()"
   ]
  },
  {
   "cell_type": "code",
   "execution_count": 11,
   "id": "53ac52eb",
   "metadata": {},
   "outputs": [
    {
     "ename": "SyntaxError",
     "evalue": "invalid syntax (586179600.py, line 1)",
     "output_type": "error",
     "traceback": [
      "\u001b[1;36m  Cell \u001b[1;32mIn[11], line 1\u001b[1;36m\u001b[0m\n\u001b[1;33m    if=100\u001b[0m\n\u001b[1;37m      ^\u001b[0m\n\u001b[1;31mSyntaxError\u001b[0m\u001b[1;31m:\u001b[0m invalid syntax\n"
     ]
    }
   ],
   "source": [
    "if=100"
   ]
  },
  {
   "cell_type": "code",
   "execution_count": 12,
   "id": "8615462a",
   "metadata": {},
   "outputs": [
    {
     "ename": "SyntaxError",
     "evalue": "invalid syntax (3702390273.py, line 1)",
     "output_type": "error",
     "traceback": [
      "\u001b[1;36m  Cell \u001b[1;32mIn[12], line 1\u001b[1;36m\u001b[0m\n\u001b[1;33m    in=100\u001b[0m\n\u001b[1;37m    ^\u001b[0m\n\u001b[1;31mSyntaxError\u001b[0m\u001b[1;31m:\u001b[0m invalid syntax\n"
     ]
    }
   ],
   "source": [
    "in=100"
   ]
  },
  {
   "cell_type": "code",
   "execution_count": null,
   "id": "b8b007c1",
   "metadata": {},
   "outputs": [],
   "source": [
    "#변수 이름짓는 문자열 시작"
   ]
  },
  {
   "cell_type": "code",
   "execution_count": 13,
   "id": "2be82672",
   "metadata": {},
   "outputs": [],
   "source": [
    "import string"
   ]
  },
  {
   "cell_type": "code",
   "execution_count": null,
   "id": "050a8e19",
   "metadata": {},
   "outputs": [],
   "source": [
    "#dir 은 해당 객체가 어떤 변수와 메소드를 가지고 있는지 나타내는 내장함수"
   ]
  },
  {
   "cell_type": "code",
   "execution_count": 14,
   "id": "18f4a5fe",
   "metadata": {},
   "outputs": [
    {
     "name": "stdout",
     "output_type": "stream",
     "text": [
      "['Formatter', 'Template', '_ChainMap', '__all__', '__builtins__', '__cached__', '__doc__', '__file__', '__loader__', '__name__', '__package__', '__spec__', '_re', '_sentinel_dict', '_string', 'ascii_letters', 'ascii_lowercase', 'ascii_uppercase', 'capwords', 'digits', 'hexdigits', 'octdigits', 'printable', 'punctuation', 'whitespace']\n"
     ]
    }
   ],
   "source": [
    "print(dir(string))"
   ]
  },
  {
   "cell_type": "code",
   "execution_count": 15,
   "id": "7a07b8f1",
   "metadata": {},
   "outputs": [
    {
     "data": {
      "text/plain": [
       "'abcdefghijklmnopqrstuvwxyzABCDEFGHIJKLMNOPQRSTUVWXYZ'"
      ]
     },
     "execution_count": 15,
     "metadata": {},
     "output_type": "execute_result"
    }
   ],
   "source": [
    "string.ascii_letters # 대소문자 다나옴"
   ]
  },
  {
   "cell_type": "code",
   "execution_count": 16,
   "id": "a621d9b4",
   "metadata": {},
   "outputs": [
    {
     "data": {
      "text/plain": [
       "'0123456789'"
      ]
     },
     "execution_count": 16,
     "metadata": {},
     "output_type": "execute_result"
    }
   ],
   "source": [
    "string.digits"
   ]
  },
  {
   "cell_type": "code",
   "execution_count": 17,
   "id": "fac500c5",
   "metadata": {},
   "outputs": [
    {
     "data": {
      "text/plain": [
       "'!\"#$%&\\'()*+,-./:;<=>?@[\\\\]^_`{|}~'"
      ]
     },
     "execution_count": 17,
     "metadata": {},
     "output_type": "execute_result"
    }
   ],
   "source": [
    "string.punctuation"
   ]
  },
  {
   "cell_type": "code",
   "execution_count": 18,
   "id": "dcef2cbe",
   "metadata": {},
   "outputs": [
    {
     "data": {
      "text/plain": [
       "' \\t\\n\\r\\x0b\\x0c'"
      ]
     },
     "execution_count": 18,
     "metadata": {},
     "output_type": "execute_result"
    }
   ],
   "source": [
    "string.whitespace"
   ]
  },
  {
   "cell_type": "code",
   "execution_count": null,
   "id": "0e3d2815",
   "metadata": {},
   "outputs": [],
   "source": [
    "#변수 이름정의규칙 시작"
   ]
  },
  {
   "cell_type": "code",
   "execution_count": null,
   "id": "ba4f8aae",
   "metadata": {},
   "outputs": [],
   "source": []
  },
  {
   "cell_type": "code",
   "execution_count": 19,
   "id": "9ebdcfbc",
   "metadata": {},
   "outputs": [],
   "source": [
    "var =100"
   ]
  },
  {
   "cell_type": "code",
   "execution_count": 23,
   "id": "63d3a9dc",
   "metadata": {},
   "outputs": [],
   "source": [
    "_var=100\n",
    "__var=200"
   ]
  },
  {
   "cell_type": "code",
   "execution_count": 24,
   "id": "6b7621c5",
   "metadata": {},
   "outputs": [
    {
     "data": {
      "text/plain": [
       "(100, 100, 200)"
      ]
     },
     "execution_count": 24,
     "metadata": {},
     "output_type": "execute_result"
    }
   ],
   "source": [
    "var, _var,__var"
   ]
  },
  {
   "cell_type": "code",
   "execution_count": 25,
   "id": "75683459",
   "metadata": {},
   "outputs": [],
   "source": [
    "var_ =300\n",
    "var__ = 400"
   ]
  },
  {
   "cell_type": "code",
   "execution_count": 26,
   "id": "9ac5711a",
   "metadata": {},
   "outputs": [
    {
     "data": {
      "text/plain": [
       "(100, 300, 400)"
      ]
     },
     "execution_count": 26,
     "metadata": {},
     "output_type": "execute_result"
    }
   ],
   "source": [
    "var , var_, var__"
   ]
  },
  {
   "cell_type": "code",
   "execution_count": 27,
   "id": "11902607",
   "metadata": {},
   "outputs": [],
   "source": [
    "__var__=250"
   ]
  },
  {
   "cell_type": "code",
   "execution_count": 28,
   "id": "d0db1084",
   "metadata": {},
   "outputs": [
    {
     "data": {
      "text/plain": [
       "250"
      ]
     },
     "execution_count": 28,
     "metadata": {},
     "output_type": "execute_result"
    }
   ],
   "source": [
    "__var__ #앞뒤로 붙일때는 스페셜이라 조심 꼭필요할때만 "
   ]
  },
  {
   "cell_type": "code",
   "execution_count": 29,
   "id": "0fe6a19e",
   "metadata": {},
   "outputs": [],
   "source": [
    "문자열= \"문자열1\""
   ]
  },
  {
   "cell_type": "code",
   "execution_count": 30,
   "id": "1e6fec1d",
   "metadata": {},
   "outputs": [
    {
     "data": {
      "text/plain": [
       "'문자열1'"
      ]
     },
     "execution_count": 30,
     "metadata": {},
     "output_type": "execute_result"
    }
   ],
   "source": [
    "문자열 #문자사용에 유의"
   ]
  },
  {
   "cell_type": "code",
   "execution_count": 31,
   "id": "a5fca069",
   "metadata": {},
   "outputs": [
    {
     "ename": "SyntaxError",
     "evalue": "invalid decimal literal (4046875751.py, line 1)",
     "output_type": "error",
     "traceback": [
      "\u001b[1;36m  Cell \u001b[1;32mIn[31], line 1\u001b[1;36m\u001b[0m\n\u001b[1;33m    9_var =100\u001b[0m\n\u001b[1;37m     ^\u001b[0m\n\u001b[1;31mSyntaxError\u001b[0m\u001b[1;31m:\u001b[0m invalid decimal literal\n"
     ]
    }
   ],
   "source": [
    "9_var =100"
   ]
  },
  {
   "cell_type": "code",
   "execution_count": null,
   "id": "275f6969",
   "metadata": {},
   "outputs": [],
   "source": [
    "#내장이름공간과 전역"
   ]
  },
  {
   "cell_type": "code",
   "execution_count": null,
   "id": "82464606",
   "metadata": {},
   "outputs": [],
   "source": [
    "# __빌트인"
   ]
  },
  {
   "cell_type": "code",
   "execution_count": 32,
   "id": "327f18fa",
   "metadata": {},
   "outputs": [
    {
     "data": {
      "text/plain": [
       "<module 'builtins' (built-in)>"
      ]
     },
     "execution_count": 32,
     "metadata": {},
     "output_type": "execute_result"
    }
   ],
   "source": [
    "__builtins__ #글로벌스를 보게되면 안에 어떤것들이 변수나 모듈 여러가지들이 다 선언되었는지\n",
    "#확인가능"
   ]
  },
  {
   "cell_type": "code",
   "execution_count": 33,
   "id": "f417267c",
   "metadata": {},
   "outputs": [
    {
     "data": {
      "text/plain": [
       "{'__name__': '__main__',\n",
       " '__doc__': 'Automatically created module for IPython interactive environment',\n",
       " '__package__': None,\n",
       " '__loader__': None,\n",
       " '__spec__': None,\n",
       " '__builtin__': <module 'builtins' (built-in)>,\n",
       " '__builtins__': <module 'builtins' (built-in)>,\n",
       " '_ih': ['',\n",
       "  'import sys',\n",
       "  'import sys',\n",
       "  'sys.version_info',\n",
       "  'import sys',\n",
       "  'sys.version_info',\n",
       "  'import keyword',\n",
       "  'print(keyword.kwlist)',\n",
       "  'print(len(keyword.kwlist))',\n",
       "  'print(type(keyword.kwlist))',\n",
       "  'count = 0\\nfor i in keyword.kwlist:\\n    print(i, end=\",\") #어떤걸로 끝낼것이냐 엔드파라미터\\n    count += 1\\n    if count % 5 == 0:\\n        print()',\n",
       "  'if=100',\n",
       "  'in=100',\n",
       "  'import string',\n",
       "  'print(dir(string))',\n",
       "  'string.ascii_letters',\n",
       "  'string.digits',\n",
       "  'string.punctuation',\n",
       "  'string.whitespace',\n",
       "  'var =100',\n",
       "  '_var=100',\n",
       "  '_var=100\\n__var=100',\n",
       "  'var, _var,__var',\n",
       "  '_var=100\\n__var=200',\n",
       "  'var, _var,__var',\n",
       "  'var_ =300\\nvar__ = 400',\n",
       "  'var , var_, var__',\n",
       "  '__var__=250',\n",
       "  '__var__',\n",
       "  '문자열= \"문자열1\"',\n",
       "  '문자열',\n",
       "  '9_var =100',\n",
       "  '__builtins__',\n",
       "  '__builtins__.globals()'],\n",
       " '_oh': {3: sys.version_info(major=3, minor=11, micro=5, releaselevel='final', serial=0),\n",
       "  5: sys.version_info(major=3, minor=11, micro=5, releaselevel='final', serial=0),\n",
       "  15: 'abcdefghijklmnopqrstuvwxyzABCDEFGHIJKLMNOPQRSTUVWXYZ',\n",
       "  16: '0123456789',\n",
       "  17: '!\"#$%&\\'()*+,-./:;<=>?@[\\\\]^_`{|}~',\n",
       "  18: ' \\t\\n\\r\\x0b\\x0c',\n",
       "  22: (100, 100, 100),\n",
       "  24: (100, 100, 200),\n",
       "  26: (100, 300, 400),\n",
       "  28: 250,\n",
       "  30: '문자열1',\n",
       "  32: <module 'builtins' (built-in)>},\n",
       " '_dh': [WindowsPath('C:/Users/huis9/OneDrive/바탕 화면/Upload_Repo/Python')],\n",
       " 'In': ['',\n",
       "  'import sys',\n",
       "  'import sys',\n",
       "  'sys.version_info',\n",
       "  'import sys',\n",
       "  'sys.version_info',\n",
       "  'import keyword',\n",
       "  'print(keyword.kwlist)',\n",
       "  'print(len(keyword.kwlist))',\n",
       "  'print(type(keyword.kwlist))',\n",
       "  'count = 0\\nfor i in keyword.kwlist:\\n    print(i, end=\",\") #어떤걸로 끝낼것이냐 엔드파라미터\\n    count += 1\\n    if count % 5 == 0:\\n        print()',\n",
       "  'if=100',\n",
       "  'in=100',\n",
       "  'import string',\n",
       "  'print(dir(string))',\n",
       "  'string.ascii_letters',\n",
       "  'string.digits',\n",
       "  'string.punctuation',\n",
       "  'string.whitespace',\n",
       "  'var =100',\n",
       "  '_var=100',\n",
       "  '_var=100\\n__var=100',\n",
       "  'var, _var,__var',\n",
       "  '_var=100\\n__var=200',\n",
       "  'var, _var,__var',\n",
       "  'var_ =300\\nvar__ = 400',\n",
       "  'var , var_, var__',\n",
       "  '__var__=250',\n",
       "  '__var__',\n",
       "  '문자열= \"문자열1\"',\n",
       "  '문자열',\n",
       "  '9_var =100',\n",
       "  '__builtins__',\n",
       "  '__builtins__.globals()'],\n",
       " 'Out': {3: sys.version_info(major=3, minor=11, micro=5, releaselevel='final', serial=0),\n",
       "  5: sys.version_info(major=3, minor=11, micro=5, releaselevel='final', serial=0),\n",
       "  15: 'abcdefghijklmnopqrstuvwxyzABCDEFGHIJKLMNOPQRSTUVWXYZ',\n",
       "  16: '0123456789',\n",
       "  17: '!\"#$%&\\'()*+,-./:;<=>?@[\\\\]^_`{|}~',\n",
       "  18: ' \\t\\n\\r\\x0b\\x0c',\n",
       "  22: (100, 100, 100),\n",
       "  24: (100, 100, 200),\n",
       "  26: (100, 300, 400),\n",
       "  28: 250,\n",
       "  30: '문자열1',\n",
       "  32: <module 'builtins' (built-in)>},\n",
       " 'get_ipython': <bound method InteractiveShell.get_ipython of <ipykernel.zmqshell.ZMQInteractiveShell object at 0x00000201943DCCD0>>,\n",
       " 'exit': <IPython.core.autocall.ZMQExitAutocall at 0x201943e9010>,\n",
       " 'quit': <IPython.core.autocall.ZMQExitAutocall at 0x201943e9010>,\n",
       " 'open': <function io.open(file, mode='r', buffering=-1, encoding=None, errors=None, newline=None, closefd=True, opener=None)>,\n",
       " '_': <module 'builtins' (built-in)>,\n",
       " '__': '문자열1',\n",
       " '___': 250,\n",
       " '_i': '__builtins__',\n",
       " '_ii': '9_var =100',\n",
       " '_iii': '문자열',\n",
       " '_i1': 'import sys',\n",
       " 'sys': <module 'sys' (built-in)>,\n",
       " '_i2': 'import sys',\n",
       " '_i3': 'sys.version_info',\n",
       " '_3': sys.version_info(major=3, minor=11, micro=5, releaselevel='final', serial=0),\n",
       " '_i4': 'import sys',\n",
       " '_i5': 'sys.version_info',\n",
       " '_5': sys.version_info(major=3, minor=11, micro=5, releaselevel='final', serial=0),\n",
       " '_i6': 'import keyword',\n",
       " 'keyword': <module 'keyword' from 'C:\\\\Users\\\\huis9\\\\anaconda3\\\\Lib\\\\keyword.py'>,\n",
       " '_i7': 'print(keyword.kwlist)',\n",
       " '_i8': 'print(len(keyword.kwlist))',\n",
       " '_i9': 'print(type(keyword.kwlist))',\n",
       " '_i10': 'count = 0\\nfor i in keyword.kwlist:\\n    print(i, end=\",\") #어떤걸로 끝낼것이냐 엔드파라미터\\n    count += 1\\n    if count % 5 == 0:\\n        print()',\n",
       " 'count': 35,\n",
       " 'i': 'yield',\n",
       " '_i11': 'if=100',\n",
       " '_i12': 'in=100',\n",
       " '_i13': 'import string',\n",
       " 'string': <module 'string' from 'C:\\\\Users\\\\huis9\\\\anaconda3\\\\Lib\\\\string.py'>,\n",
       " '_i14': 'print(dir(string))',\n",
       " '_i15': 'string.ascii_letters',\n",
       " '_15': 'abcdefghijklmnopqrstuvwxyzABCDEFGHIJKLMNOPQRSTUVWXYZ',\n",
       " '_i16': 'string.digits',\n",
       " '_16': '0123456789',\n",
       " '_i17': 'string.punctuation',\n",
       " '_17': '!\"#$%&\\'()*+,-./:;<=>?@[\\\\]^_`{|}~',\n",
       " '_i18': 'string.whitespace',\n",
       " '_18': ' \\t\\n\\r\\x0b\\x0c',\n",
       " '_i19': 'var =100',\n",
       " 'var': 100,\n",
       " '_i20': '_var=100',\n",
       " '_var': 100,\n",
       " '_i21': '_var=100\\n__var=100',\n",
       " '__var': 200,\n",
       " '_i22': 'var, _var,__var',\n",
       " '_22': (100, 100, 100),\n",
       " '_i23': '_var=100\\n__var=200',\n",
       " '_i24': 'var, _var,__var',\n",
       " '_24': (100, 100, 200),\n",
       " '_i25': 'var_ =300\\nvar__ = 400',\n",
       " 'var_': 300,\n",
       " 'var__': 400,\n",
       " '_i26': 'var , var_, var__',\n",
       " '_26': (100, 300, 400),\n",
       " '_i27': '__var__=250',\n",
       " '__var__': 250,\n",
       " '_i28': '__var__',\n",
       " '_28': 250,\n",
       " '_i29': '문자열= \"문자열1\"',\n",
       " '문자열': '문자열1',\n",
       " '_i30': '문자열',\n",
       " '_30': '문자열1',\n",
       " '_i31': '9_var =100',\n",
       " '_i32': '__builtins__',\n",
       " '_32': <module 'builtins' (built-in)>,\n",
       " '_i33': '__builtins__.globals()'}"
      ]
     },
     "execution_count": 33,
     "metadata": {},
     "output_type": "execute_result"
    }
   ],
   "source": [
    "__builtins__.globals()"
   ]
  },
  {
   "cell_type": "code",
   "execution_count": 34,
   "id": "262cd8d0",
   "metadata": {},
   "outputs": [],
   "source": [
    "i=100"
   ]
  },
  {
   "cell_type": "code",
   "execution_count": 35,
   "id": "419a1591",
   "metadata": {},
   "outputs": [
    {
     "data": {
      "text/plain": [
       "100"
      ]
     },
     "execution_count": 35,
     "metadata": {},
     "output_type": "execute_result"
    }
   ],
   "source": [
    "globals()['i'] "
   ]
  },
  {
   "cell_type": "code",
   "execution_count": 36,
   "id": "6dd1ac08",
   "metadata": {},
   "outputs": [
    {
     "data": {
      "text/plain": [
       "<function vars>"
      ]
     },
     "execution_count": 36,
     "metadata": {},
     "output_type": "execute_result"
    }
   ],
   "source": [
    "__builtins__.vars"
   ]
  },
  {
   "cell_type": "code",
   "execution_count": 37,
   "id": "009ccdf3",
   "metadata": {},
   "outputs": [
    {
     "data": {
      "text/plain": [
       "100"
      ]
     },
     "execution_count": 37,
     "metadata": {},
     "output_type": "execute_result"
    }
   ],
   "source": [
    "vars()['i']"
   ]
  },
  {
   "cell_type": "code",
   "execution_count": 39,
   "id": "ff360ba8",
   "metadata": {},
   "outputs": [],
   "source": [
    "def add(x,y):\n",
    "    return x+y #함수 "
   ]
  },
  {
   "cell_type": "code",
   "execution_count": 40,
   "id": "d83fffcf",
   "metadata": {},
   "outputs": [
    {
     "data": {
      "text/plain": [
       "<function __main__.add(x, y)>"
      ]
     },
     "execution_count": 40,
     "metadata": {},
     "output_type": "execute_result"
    }
   ],
   "source": [
    "globals()['add']"
   ]
  },
  {
   "cell_type": "code",
   "execution_count": 42,
   "id": "c0233512",
   "metadata": {},
   "outputs": [
    {
     "data": {
      "text/plain": [
       "100"
      ]
     },
     "execution_count": 42,
     "metadata": {},
     "output_type": "execute_result"
    }
   ],
   "source": [
    "add.__globals__['i']"
   ]
  },
  {
   "cell_type": "code",
   "execution_count": 43,
   "id": "51bd5c50",
   "metadata": {},
   "outputs": [
    {
     "data": {
      "text/plain": [
       "dict"
      ]
     },
     "execution_count": 43,
     "metadata": {},
     "output_type": "execute_result"
    }
   ],
   "source": [
    "type(globals()) #dict가 나오면 딕셔너리"
   ]
  },
  {
   "cell_type": "code",
   "execution_count": 44,
   "id": "7f1cbe65",
   "metadata": {},
   "outputs": [
    {
     "data": {
      "text/plain": [
       "dict"
      ]
     },
     "execution_count": 44,
     "metadata": {},
     "output_type": "execute_result"
    }
   ],
   "source": [
    "#내장함수에 연결되어있는 글로벌스는 어떤타입일까\n",
    "type(add.__globals__)"
   ]
  },
  {
   "cell_type": "code",
   "execution_count": 45,
   "id": "267bf7eb",
   "metadata": {},
   "outputs": [
    {
     "data": {
      "text/plain": [
       "True"
      ]
     },
     "execution_count": 45,
     "metadata": {},
     "output_type": "execute_result"
    }
   ],
   "source": [
    "add.__globals__ is globals() #전역이름공간과 함수가 연동하고있는\n",
    "#글로벌스가 같다는걸 나타냄"
   ]
  },
  {
   "cell_type": "code",
   "execution_count": null,
   "id": "6b2842c2",
   "metadata": {},
   "outputs": [],
   "source": []
  },
  {
   "cell_type": "code",
   "execution_count": null,
   "id": "1c688c15",
   "metadata": {},
   "outputs": [],
   "source": []
  },
  {
   "cell_type": "code",
   "execution_count": null,
   "id": "4b37038e",
   "metadata": {},
   "outputs": [],
   "source": []
  },
  {
   "cell_type": "code",
   "execution_count": null,
   "id": "b14126db",
   "metadata": {},
   "outputs": [],
   "source": []
  }
 ],
 "metadata": {
  "kernelspec": {
   "display_name": "Python 3 (ipykernel)",
   "language": "python",
   "name": "python3"
  },
  "language_info": {
   "codemirror_mode": {
    "name": "ipython",
    "version": 3
   },
   "file_extension": ".py",
   "mimetype": "text/x-python",
   "name": "python",
   "nbconvert_exporter": "python",
   "pygments_lexer": "ipython3",
   "version": "3.11.5"
  }
 },
 "nbformat": 4,
 "nbformat_minor": 5
}
